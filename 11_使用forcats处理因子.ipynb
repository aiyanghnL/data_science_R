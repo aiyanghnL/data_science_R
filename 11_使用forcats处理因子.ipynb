{
 "cells": [
  {
   "cell_type": "markdown",
   "metadata": {},
   "source": [
    "# 使用forcats处理因子\n",
    "\n",
    "因子在Ｒ中是很常用的，本章使用forcats包处理因子"
   ]
  },
  {
   "cell_type": "code",
   "execution_count": 1,
   "metadata": {},
   "outputs": [
    {
     "name": "stderr",
     "output_type": "stream",
     "text": [
      "─ \u001b[1mAttaching packages\u001b[22m ──────────────────── tidyverse 1.2.1 ─\n",
      "\u001b[32m✔\u001b[39m \u001b[34mggplot2\u001b[39m 3.2.0     \u001b[32m✔\u001b[39m \u001b[34mpurrr  \u001b[39m 0.3.2\n",
      "\u001b[32m✔\u001b[39m \u001b[34mtibble \u001b[39m 2.1.3     \u001b[32m✔\u001b[39m \u001b[34mdplyr  \u001b[39m 0.8.3\n",
      "\u001b[32m✔\u001b[39m \u001b[34mtidyr  \u001b[39m 0.8.3     \u001b[32m✔\u001b[39m \u001b[34mstringr\u001b[39m 1.4.0\n",
      "\u001b[32m✔\u001b[39m \u001b[34mreadr  \u001b[39m 1.3.1     \u001b[32m✔\u001b[39m \u001b[34mforcats\u001b[39m 0.4.0\n",
      "─ \u001b[1mConflicts\u001b[22m ───────────────────── tidyverse_conflicts() ─\n",
      "\u001b[31m✖\u001b[39m \u001b[34mdplyr\u001b[39m::\u001b[32mfilter()\u001b[39m masks \u001b[34mstats\u001b[39m::filter()\n",
      "\u001b[31m✖\u001b[39m \u001b[34mdplyr\u001b[39m::\u001b[32mlag()\u001b[39m    masks \u001b[34mstats\u001b[39m::lag()\n"
     ]
    }
   ],
   "source": [
    "library(tidyverse)\n",
    "library(forcats)"
   ]
  },
  {
   "cell_type": "code",
   "execution_count": 2,
   "metadata": {},
   "outputs": [
    {
     "data": {
      "text/html": [
       "<ol class=list-inline>\n",
       "\t<li>'Apr'</li>\n",
       "\t<li>'Dec'</li>\n",
       "\t<li>'Jan'</li>\n",
       "\t<li>'Mar'</li>\n",
       "</ol>\n"
      ],
      "text/latex": [
       "\\begin{enumerate*}\n",
       "\\item 'Apr'\n",
       "\\item 'Dec'\n",
       "\\item 'Jan'\n",
       "\\item 'Mar'\n",
       "\\end{enumerate*}\n"
      ],
      "text/markdown": [
       "1. 'Apr'\n",
       "2. 'Dec'\n",
       "3. 'Jan'\n",
       "4. 'Mar'\n",
       "\n",
       "\n"
      ],
      "text/plain": [
       "[1] \"Apr\" \"Dec\" \"Jan\" \"Mar\""
      ]
     },
     "metadata": {},
     "output_type": "display_data"
    },
    {
     "data": {
      "text/html": [
       "<ol class=list-inline>\n",
       "\t<li>Dec</li>\n",
       "\t<li>Apr</li>\n",
       "\t<li>Jan</li>\n",
       "\t<li>Mar</li>\n",
       "</ol>\n",
       "\n",
       "<details>\n",
       "\t<summary style=display:list-item;cursor:pointer>\n",
       "\t\t<strong>Levels</strong>:\n",
       "\t</summary>\n",
       "\t<ol class=list-inline>\n",
       "\t\t<li>'Jan'</li>\n",
       "\t\t<li>'Feb'</li>\n",
       "\t\t<li>'Mar'</li>\n",
       "\t\t<li>'Apr'</li>\n",
       "\t\t<li>'May'</li>\n",
       "\t\t<li>'Jun'</li>\n",
       "\t\t<li>'Jul'</li>\n",
       "\t\t<li>'Aug'</li>\n",
       "\t\t<li>'Sep'</li>\n",
       "\t\t<li>'Oct'</li>\n",
       "\t\t<li>'Nov'</li>\n",
       "\t\t<li>'Dec'</li>\n",
       "\t</ol>\n",
       "</details>"
      ],
      "text/latex": [
       "\\begin{enumerate*}\n",
       "\\item Dec\n",
       "\\item Apr\n",
       "\\item Jan\n",
       "\\item Mar\n",
       "\\end{enumerate*}\n",
       "\n",
       "\\emph{Levels}: \\begin{enumerate*}\n",
       "\\item 'Jan'\n",
       "\\item 'Feb'\n",
       "\\item 'Mar'\n",
       "\\item 'Apr'\n",
       "\\item 'May'\n",
       "\\item 'Jun'\n",
       "\\item 'Jul'\n",
       "\\item 'Aug'\n",
       "\\item 'Sep'\n",
       "\\item 'Oct'\n",
       "\\item 'Nov'\n",
       "\\item 'Dec'\n",
       "\\end{enumerate*}\n"
      ],
      "text/markdown": [
       "1. Dec\n",
       "2. Apr\n",
       "3. Jan\n",
       "4. Mar\n",
       "\n",
       "\n",
       "\n",
       "**Levels**: 1. 'Jan'\n",
       "2. 'Feb'\n",
       "3. 'Mar'\n",
       "4. 'Apr'\n",
       "5. 'May'\n",
       "6. 'Jun'\n",
       "7. 'Jul'\n",
       "8. 'Aug'\n",
       "9. 'Sep'\n",
       "10. 'Oct'\n",
       "11. 'Nov'\n",
       "12. 'Dec'\n",
       "\n",
       "\n"
      ],
      "text/plain": [
       "[1] Dec Apr Jan Mar\n",
       "Levels: Jan Feb Mar Apr May Jun Jul Aug Sep Oct Nov Dec"
      ]
     },
     "metadata": {},
     "output_type": "display_data"
    },
    {
     "data": {
      "text/html": [
       "<ol class=list-inline>\n",
       "\t<li>Jan</li>\n",
       "\t<li>Mar</li>\n",
       "\t<li>Apr</li>\n",
       "\t<li>Dec</li>\n",
       "</ol>\n",
       "\n",
       "<details>\n",
       "\t<summary style=display:list-item;cursor:pointer>\n",
       "\t\t<strong>Levels</strong>:\n",
       "\t</summary>\n",
       "\t<ol class=list-inline>\n",
       "\t\t<li>'Jan'</li>\n",
       "\t\t<li>'Feb'</li>\n",
       "\t\t<li>'Mar'</li>\n",
       "\t\t<li>'Apr'</li>\n",
       "\t\t<li>'May'</li>\n",
       "\t\t<li>'Jun'</li>\n",
       "\t\t<li>'Jul'</li>\n",
       "\t\t<li>'Aug'</li>\n",
       "\t\t<li>'Sep'</li>\n",
       "\t\t<li>'Oct'</li>\n",
       "\t\t<li>'Nov'</li>\n",
       "\t\t<li>'Dec'</li>\n",
       "\t</ol>\n",
       "</details>"
      ],
      "text/latex": [
       "\\begin{enumerate*}\n",
       "\\item Jan\n",
       "\\item Mar\n",
       "\\item Apr\n",
       "\\item Dec\n",
       "\\end{enumerate*}\n",
       "\n",
       "\\emph{Levels}: \\begin{enumerate*}\n",
       "\\item 'Jan'\n",
       "\\item 'Feb'\n",
       "\\item 'Mar'\n",
       "\\item 'Apr'\n",
       "\\item 'May'\n",
       "\\item 'Jun'\n",
       "\\item 'Jul'\n",
       "\\item 'Aug'\n",
       "\\item 'Sep'\n",
       "\\item 'Oct'\n",
       "\\item 'Nov'\n",
       "\\item 'Dec'\n",
       "\\end{enumerate*}\n"
      ],
      "text/markdown": [
       "1. Jan\n",
       "2. Mar\n",
       "3. Apr\n",
       "4. Dec\n",
       "\n",
       "\n",
       "\n",
       "**Levels**: 1. 'Jan'\n",
       "2. 'Feb'\n",
       "3. 'Mar'\n",
       "4. 'Apr'\n",
       "5. 'May'\n",
       "6. 'Jun'\n",
       "7. 'Jul'\n",
       "8. 'Aug'\n",
       "9. 'Sep'\n",
       "10. 'Oct'\n",
       "11. 'Nov'\n",
       "12. 'Dec'\n",
       "\n",
       "\n"
      ],
      "text/plain": [
       "[1] Jan Mar Apr Dec\n",
       "Levels: Jan Feb Mar Apr May Jun Jul Aug Sep Oct Nov Dec"
      ]
     },
     "metadata": {},
     "output_type": "display_data"
    },
    {
     "data": {
      "text/html": [
       "<ol class=list-inline>\n",
       "\t<li>Dec</li>\n",
       "\t<li>Apr</li>\n",
       "\t<li>&lt;NA&gt;</li>\n",
       "\t<li>Mar</li>\n",
       "</ol>\n",
       "\n",
       "<details>\n",
       "\t<summary style=display:list-item;cursor:pointer>\n",
       "\t\t<strong>Levels</strong>:\n",
       "\t</summary>\n",
       "\t<ol class=list-inline>\n",
       "\t\t<li>'Jan'</li>\n",
       "\t\t<li>'Feb'</li>\n",
       "\t\t<li>'Mar'</li>\n",
       "\t\t<li>'Apr'</li>\n",
       "\t\t<li>'May'</li>\n",
       "\t\t<li>'Jun'</li>\n",
       "\t\t<li>'Jul'</li>\n",
       "\t\t<li>'Aug'</li>\n",
       "\t\t<li>'Sep'</li>\n",
       "\t\t<li>'Oct'</li>\n",
       "\t\t<li>'Nov'</li>\n",
       "\t\t<li>'Dec'</li>\n",
       "\t</ol>\n",
       "</details>"
      ],
      "text/latex": [
       "\\begin{enumerate*}\n",
       "\\item Dec\n",
       "\\item Apr\n",
       "\\item <NA>\n",
       "\\item Mar\n",
       "\\end{enumerate*}\n",
       "\n",
       "\\emph{Levels}: \\begin{enumerate*}\n",
       "\\item 'Jan'\n",
       "\\item 'Feb'\n",
       "\\item 'Mar'\n",
       "\\item 'Apr'\n",
       "\\item 'May'\n",
       "\\item 'Jun'\n",
       "\\item 'Jul'\n",
       "\\item 'Aug'\n",
       "\\item 'Sep'\n",
       "\\item 'Oct'\n",
       "\\item 'Nov'\n",
       "\\item 'Dec'\n",
       "\\end{enumerate*}\n"
      ],
      "text/markdown": [
       "1. Dec\n",
       "2. Apr\n",
       "3. &lt;NA&gt;\n",
       "4. Mar\n",
       "\n",
       "\n",
       "\n",
       "**Levels**: 1. 'Jan'\n",
       "2. 'Feb'\n",
       "3. 'Mar'\n",
       "4. 'Apr'\n",
       "5. 'May'\n",
       "6. 'Jun'\n",
       "7. 'Jul'\n",
       "8. 'Aug'\n",
       "9. 'Sep'\n",
       "10. 'Oct'\n",
       "11. 'Nov'\n",
       "12. 'Dec'\n",
       "\n",
       "\n"
      ],
      "text/plain": [
       "[1] Dec  Apr  <NA> Mar \n",
       "Levels: Jan Feb Mar Apr May Jun Jul Aug Sep Oct Nov Dec"
      ]
     },
     "metadata": {},
     "output_type": "display_data"
    },
    {
     "name": "stderr",
     "output_type": "stream",
     "text": [
      "Warning message:\n",
      "“1 parsing failure.\n",
      "row col           expected actual\n",
      "  3  -- value in level set    Jam\n",
      "”"
     ]
    },
    {
     "data": {
      "text/html": [
       "<ol class=list-inline>\n",
       "\t<li>Dec</li>\n",
       "\t<li>Apr</li>\n",
       "\t<li>Jan</li>\n",
       "\t<li>Mar</li>\n",
       "</ol>\n",
       "\n",
       "<details>\n",
       "\t<summary style=display:list-item;cursor:pointer>\n",
       "\t\t<strong>Levels</strong>:\n",
       "\t</summary>\n",
       "\t<ol class=list-inline>\n",
       "\t\t<li>'Apr'</li>\n",
       "\t\t<li>'Dec'</li>\n",
       "\t\t<li>'Jan'</li>\n",
       "\t\t<li>'Mar'</li>\n",
       "\t</ol>\n",
       "</details>"
      ],
      "text/latex": [
       "\\begin{enumerate*}\n",
       "\\item Dec\n",
       "\\item Apr\n",
       "\\item Jan\n",
       "\\item Mar\n",
       "\\end{enumerate*}\n",
       "\n",
       "\\emph{Levels}: \\begin{enumerate*}\n",
       "\\item 'Apr'\n",
       "\\item 'Dec'\n",
       "\\item 'Jan'\n",
       "\\item 'Mar'\n",
       "\\end{enumerate*}\n"
      ],
      "text/markdown": [
       "1. Dec\n",
       "2. Apr\n",
       "3. Jan\n",
       "4. Mar\n",
       "\n",
       "\n",
       "\n",
       "**Levels**: 1. 'Apr'\n",
       "2. 'Dec'\n",
       "3. 'Jan'\n",
       "4. 'Mar'\n",
       "\n",
       "\n"
      ],
      "text/plain": [
       "[1] Dec Apr Jan Mar\n",
       "Levels: Apr Dec Jan Mar"
      ]
     },
     "metadata": {},
     "output_type": "display_data"
    }
   ],
   "source": [
    "# 使用字符串记录月份\n",
    "x1 <- c(\"Dec\", \"Apr\", \"Jan\", \"Mar\")\n",
    "x2 <- c(\"Dec\", \"Apr\", \"Jam\", \"Mar\")\n",
    "# 排序\n",
    "sort(x1)\n",
    "# 创建月份有效水平\n",
    "month_levels <-c(\"Jan\", \"Feb\", \"Mar\", \"Apr\", \n",
    "                 \"May\", \"Jun\",  \"Jul\", \"Aug\", \n",
    "                 \"Sep\", \"Oct\", \"Nov\", \"Dec\" )\n",
    "# 创建因子\n",
    "y1 <-factor(x1, levels = month_levels)\n",
    "y1\n",
    "sort(y1)\n",
    "y2 <-factor(x2, levels = month_levels)\n",
    "y2\n",
    "# 我们容易发现x2的错误\n",
    "# 如果想要显示错误信息，那么可以使用readr::parse_factor()函数：\n",
    "y2 <-parse_factor(x2, levels = month_levels)\n",
    "\n",
    "# 如果省略了定义水平的这个步骤，那么会将按字母顺序排序的数据作为水平：\n",
    "factor(x1)"
   ]
  },
  {
   "cell_type": "code",
   "execution_count": 3,
   "metadata": {},
   "outputs": [
    {
     "data": {
      "text/html": [
       "<ol class=list-inline>\n",
       "\t<li>Dec</li>\n",
       "\t<li>Apr</li>\n",
       "\t<li>Jan</li>\n",
       "\t<li>Mar</li>\n",
       "</ol>\n",
       "\n",
       "<details>\n",
       "\t<summary style=display:list-item;cursor:pointer>\n",
       "\t\t<strong>Levels</strong>:\n",
       "\t</summary>\n",
       "\t<ol class=list-inline>\n",
       "\t\t<li>'Dec'</li>\n",
       "\t\t<li>'Apr'</li>\n",
       "\t\t<li>'Jan'</li>\n",
       "\t\t<li>'Mar'</li>\n",
       "\t</ol>\n",
       "</details>"
      ],
      "text/latex": [
       "\\begin{enumerate*}\n",
       "\\item Dec\n",
       "\\item Apr\n",
       "\\item Jan\n",
       "\\item Mar\n",
       "\\end{enumerate*}\n",
       "\n",
       "\\emph{Levels}: \\begin{enumerate*}\n",
       "\\item 'Dec'\n",
       "\\item 'Apr'\n",
       "\\item 'Jan'\n",
       "\\item 'Mar'\n",
       "\\end{enumerate*}\n"
      ],
      "text/markdown": [
       "1. Dec\n",
       "2. Apr\n",
       "3. Jan\n",
       "4. Mar\n",
       "\n",
       "\n",
       "\n",
       "**Levels**: 1. 'Dec'\n",
       "2. 'Apr'\n",
       "3. 'Jan'\n",
       "4. 'Mar'\n",
       "\n",
       "\n"
      ],
      "text/plain": [
       "[1] Dec Apr Jan Mar\n",
       "Levels: Dec Apr Jan Mar"
      ]
     },
     "metadata": {},
     "output_type": "display_data"
    },
    {
     "data": {
      "text/html": [
       "<ol class=list-inline>\n",
       "\t<li>Dec</li>\n",
       "\t<li>Apr</li>\n",
       "\t<li>Jan</li>\n",
       "\t<li>Mar</li>\n",
       "</ol>\n",
       "\n",
       "<details>\n",
       "\t<summary style=display:list-item;cursor:pointer>\n",
       "\t\t<strong>Levels</strong>:\n",
       "\t</summary>\n",
       "\t<ol class=list-inline>\n",
       "\t\t<li>'Dec'</li>\n",
       "\t\t<li>'Apr'</li>\n",
       "\t\t<li>'Jan'</li>\n",
       "\t\t<li>'Mar'</li>\n",
       "\t</ol>\n",
       "</details>"
      ],
      "text/latex": [
       "\\begin{enumerate*}\n",
       "\\item Dec\n",
       "\\item Apr\n",
       "\\item Jan\n",
       "\\item Mar\n",
       "\\end{enumerate*}\n",
       "\n",
       "\\emph{Levels}: \\begin{enumerate*}\n",
       "\\item 'Dec'\n",
       "\\item 'Apr'\n",
       "\\item 'Jan'\n",
       "\\item 'Mar'\n",
       "\\end{enumerate*}\n"
      ],
      "text/markdown": [
       "1. Dec\n",
       "2. Apr\n",
       "3. Jan\n",
       "4. Mar\n",
       "\n",
       "\n",
       "\n",
       "**Levels**: 1. 'Dec'\n",
       "2. 'Apr'\n",
       "3. 'Jan'\n",
       "4. 'Mar'\n",
       "\n",
       "\n"
      ],
      "text/plain": [
       "[1] Dec Apr Jan Mar\n",
       "Levels: Dec Apr Jan Mar"
      ]
     },
     "metadata": {},
     "output_type": "display_data"
    },
    {
     "data": {
      "text/html": [
       "<ol class=list-inline>\n",
       "\t<li>'Dec'</li>\n",
       "\t<li>'Apr'</li>\n",
       "\t<li>'Jan'</li>\n",
       "\t<li>'Mar'</li>\n",
       "</ol>\n"
      ],
      "text/latex": [
       "\\begin{enumerate*}\n",
       "\\item 'Dec'\n",
       "\\item 'Apr'\n",
       "\\item 'Jan'\n",
       "\\item 'Mar'\n",
       "\\end{enumerate*}\n"
      ],
      "text/markdown": [
       "1. 'Dec'\n",
       "2. 'Apr'\n",
       "3. 'Jan'\n",
       "4. 'Mar'\n",
       "\n",
       "\n"
      ],
      "text/plain": [
       "[1] \"Dec\" \"Apr\" \"Jan\" \"Mar\""
      ]
     },
     "metadata": {},
     "output_type": "display_data"
    }
   ],
   "source": [
    "# 使因子的顺序与初始数据的顺序保持一致。\n",
    "# 在创建因子时，将水平设置为unique(x)，\n",
    "# 或者在创建因子后再对其使用fct_inorder()函数\n",
    "f1 <-factor(x1, levels =unique(x1))\n",
    "f1\n",
    "f2 <- x1 %>%factor() %>%fct_inorder() \n",
    "f2\n",
    "# 显示因子有效水平\n",
    "levels(f2)"
   ]
  },
  {
   "cell_type": "markdown",
   "metadata": {},
   "source": [
    "## 综合社会调查"
   ]
  },
  {
   "cell_type": "code",
   "execution_count": 4,
   "metadata": {},
   "outputs": [
    {
     "data": {
      "text/html": [
       "<table>\n",
       "<caption>A tibble: 6 × 9</caption>\n",
       "<thead>\n",
       "\t<tr><th scope=col>year</th><th scope=col>marital</th><th scope=col>age</th><th scope=col>race</th><th scope=col>rincome</th><th scope=col>partyid</th><th scope=col>relig</th><th scope=col>denom</th><th scope=col>tvhours</th></tr>\n",
       "\t<tr><th scope=col>&lt;int&gt;</th><th scope=col>&lt;fct&gt;</th><th scope=col>&lt;int&gt;</th><th scope=col>&lt;fct&gt;</th><th scope=col>&lt;fct&gt;</th><th scope=col>&lt;fct&gt;</th><th scope=col>&lt;fct&gt;</th><th scope=col>&lt;fct&gt;</th><th scope=col>&lt;int&gt;</th></tr>\n",
       "</thead>\n",
       "<tbody>\n",
       "\t<tr><td>2000</td><td>Never married</td><td>26</td><td>White</td><td>$8000 to 9999 </td><td>Ind,near rep      </td><td>Protestant        </td><td>Southern baptist</td><td>12</td></tr>\n",
       "\t<tr><td>2000</td><td>Divorced     </td><td>48</td><td>White</td><td>$8000 to 9999 </td><td>Not str republican</td><td>Protestant        </td><td>Baptist-dk which</td><td>NA</td></tr>\n",
       "\t<tr><td>2000</td><td>Widowed      </td><td>67</td><td>White</td><td>Not applicable</td><td>Independent       </td><td>Protestant        </td><td>No denomination </td><td> 2</td></tr>\n",
       "\t<tr><td>2000</td><td>Never married</td><td>39</td><td>White</td><td>Not applicable</td><td>Ind,near rep      </td><td>Orthodox-christian</td><td>Not applicable  </td><td> 4</td></tr>\n",
       "\t<tr><td>2000</td><td>Divorced     </td><td>25</td><td>White</td><td>Not applicable</td><td>Not str democrat  </td><td>None              </td><td>Not applicable  </td><td> 1</td></tr>\n",
       "\t<tr><td>2000</td><td>Married      </td><td>25</td><td>White</td><td>$20000 - 24999</td><td>Strong democrat   </td><td>Protestant        </td><td>Southern baptist</td><td>NA</td></tr>\n",
       "</tbody>\n",
       "</table>\n"
      ],
      "text/latex": [
       "A tibble: 6 × 9\n",
       "\\begin{tabular}{r|lllllllll}\n",
       " year & marital & age & race & rincome & partyid & relig & denom & tvhours\\\\\n",
       " <int> & <fct> & <int> & <fct> & <fct> & <fct> & <fct> & <fct> & <int>\\\\\n",
       "\\hline\n",
       "\t 2000 & Never married & 26 & White & \\$8000 to 9999  & Ind,near rep       & Protestant         & Southern baptist & 12\\\\\n",
       "\t 2000 & Divorced      & 48 & White & \\$8000 to 9999  & Not str republican & Protestant         & Baptist-dk which & NA\\\\\n",
       "\t 2000 & Widowed       & 67 & White & Not applicable & Independent        & Protestant         & No denomination  &  2\\\\\n",
       "\t 2000 & Never married & 39 & White & Not applicable & Ind,near rep       & Orthodox-christian & Not applicable   &  4\\\\\n",
       "\t 2000 & Divorced      & 25 & White & Not applicable & Not str democrat   & None               & Not applicable   &  1\\\\\n",
       "\t 2000 & Married       & 25 & White & \\$20000 - 24999 & Strong democrat    & Protestant         & Southern baptist & NA\\\\\n",
       "\\end{tabular}\n"
      ],
      "text/markdown": [
       "\n",
       "A tibble: 6 × 9\n",
       "\n",
       "| year &lt;int&gt; | marital &lt;fct&gt; | age &lt;int&gt; | race &lt;fct&gt; | rincome &lt;fct&gt; | partyid &lt;fct&gt; | relig &lt;fct&gt; | denom &lt;fct&gt; | tvhours &lt;int&gt; |\n",
       "|---|---|---|---|---|---|---|---|---|\n",
       "| 2000 | Never married | 26 | White | $8000 to 9999  | Ind,near rep       | Protestant         | Southern baptist | 12 |\n",
       "| 2000 | Divorced      | 48 | White | $8000 to 9999  | Not str republican | Protestant         | Baptist-dk which | NA |\n",
       "| 2000 | Widowed       | 67 | White | Not applicable | Independent        | Protestant         | No denomination  |  2 |\n",
       "| 2000 | Never married | 39 | White | Not applicable | Ind,near rep       | Orthodox-christian | Not applicable   |  4 |\n",
       "| 2000 | Divorced      | 25 | White | Not applicable | Not str democrat   | None               | Not applicable   |  1 |\n",
       "| 2000 | Married       | 25 | White | $20000 - 24999 | Strong democrat    | Protestant         | Southern baptist | NA |\n",
       "\n"
      ],
      "text/plain": [
       "  year marital       age race  rincome        partyid           \n",
       "1 2000 Never married 26  White $8000 to 9999  Ind,near rep      \n",
       "2 2000 Divorced      48  White $8000 to 9999  Not str republican\n",
       "3 2000 Widowed       67  White Not applicable Independent       \n",
       "4 2000 Never married 39  White Not applicable Ind,near rep      \n",
       "5 2000 Divorced      25  White Not applicable Not str democrat  \n",
       "6 2000 Married       25  White $20000 - 24999 Strong democrat   \n",
       "  relig              denom            tvhours\n",
       "1 Protestant         Southern baptist 12     \n",
       "2 Protestant         Baptist-dk which NA     \n",
       "3 Protestant         No denomination   2     \n",
       "4 Orthodox-christian Not applicable    4     \n",
       "5 None               Not applicable    1     \n",
       "6 Protestant         Southern baptist NA     "
      ]
     },
     "metadata": {},
     "output_type": "display_data"
    },
    {
     "data": {
      "text/html": [
       "<table>\n",
       "<caption>A tibble: 3 × 2</caption>\n",
       "<thead>\n",
       "\t<tr><th scope=col>race</th><th scope=col>n</th></tr>\n",
       "\t<tr><th scope=col>&lt;fct&gt;</th><th scope=col>&lt;int&gt;</th></tr>\n",
       "</thead>\n",
       "<tbody>\n",
       "\t<tr><td>Other</td><td> 1959</td></tr>\n",
       "\t<tr><td>Black</td><td> 3129</td></tr>\n",
       "\t<tr><td>White</td><td>16395</td></tr>\n",
       "</tbody>\n",
       "</table>\n"
      ],
      "text/latex": [
       "A tibble: 3 × 2\n",
       "\\begin{tabular}{r|ll}\n",
       " race & n\\\\\n",
       " <fct> & <int>\\\\\n",
       "\\hline\n",
       "\t Other &  1959\\\\\n",
       "\t Black &  3129\\\\\n",
       "\t White & 16395\\\\\n",
       "\\end{tabular}\n"
      ],
      "text/markdown": [
       "\n",
       "A tibble: 3 × 2\n",
       "\n",
       "| race &lt;fct&gt; | n &lt;int&gt; |\n",
       "|---|---|\n",
       "| Other |  1959 |\n",
       "| Black |  3129 |\n",
       "| White | 16395 |\n",
       "\n"
      ],
      "text/plain": [
       "  race  n    \n",
       "1 Other  1959\n",
       "2 Black  3129\n",
       "3 White 16395"
      ]
     },
     "metadata": {},
     "output_type": "display_data"
    },
    {
     "data": {
      "image/png": "[encoded data removed]",
      "text/plain": [
       "plot without title"
      ]
     },
     "metadata": {},
     "output_type": "display_data"
    }
   ],
   "source": [
    "\n",
    "\n",
    "gss_cat %>% head()# 查看数据\n",
    "\n",
    "# 查看因子水平的方法\n",
    "gss_cat %>% count(race)# 计数\n",
    "gss_cat %>% ggplot(aes(race)) + geom_bar()"
   ]
  },
  {
   "cell_type": "code",
   "execution_count": 5,
   "metadata": {},
   "outputs": [
    {
     "data": {
      "image/png": "[encoded data removed]",
      "text/plain": [
       "plot without title"
      ]
     },
     "metadata": {},
     "output_type": "display_data"
    }
   ],
   "source": [
    "# 默认情况下，ggplot2会丢弃没有任何数据的那些水平，你可以使用以下代码来强制显示这些水平：\n",
    "ggplot(gss_cat, aes(race)) +\n",
    "geom_bar() +\n",
    "scale_x_discrete(drop =FALSE)"
   ]
  },
  {
   "cell_type": "markdown",
   "metadata": {},
   "source": [
    "## 修改因子水平"
   ]
  },
  {
   "cell_type": "code",
   "execution_count": 6,
   "metadata": {},
   "outputs": [
    {
     "data": {
      "text/html": [
       "<table>\n",
       "<caption>A tibble: 10 × 2</caption>\n",
       "<thead>\n",
       "\t<tr><th scope=col>partyid</th><th scope=col>n</th></tr>\n",
       "\t<tr><th scope=col>&lt;fct&gt;</th><th scope=col>&lt;int&gt;</th></tr>\n",
       "</thead>\n",
       "<tbody>\n",
       "\t<tr><td>No answer         </td><td> 154</td></tr>\n",
       "\t<tr><td>Don't know        </td><td>   1</td></tr>\n",
       "\t<tr><td>Other party       </td><td> 393</td></tr>\n",
       "\t<tr><td>Strong republican </td><td>2314</td></tr>\n",
       "\t<tr><td>Not str republican</td><td>3032</td></tr>\n",
       "\t<tr><td>Ind,near rep      </td><td>1791</td></tr>\n",
       "\t<tr><td>Independent       </td><td>4119</td></tr>\n",
       "\t<tr><td>Ind,near dem      </td><td>2499</td></tr>\n",
       "\t<tr><td>Not str democrat  </td><td>3690</td></tr>\n",
       "\t<tr><td>Strong democrat   </td><td>3490</td></tr>\n",
       "</tbody>\n",
       "</table>\n"
      ],
      "text/latex": [
       "A tibble: 10 × 2\n",
       "\\begin{tabular}{r|ll}\n",
       " partyid & n\\\\\n",
       " <fct> & <int>\\\\\n",
       "\\hline\n",
       "\t No answer          &  154\\\\\n",
       "\t Don't know         &    1\\\\\n",
       "\t Other party        &  393\\\\\n",
       "\t Strong republican  & 2314\\\\\n",
       "\t Not str republican & 3032\\\\\n",
       "\t Ind,near rep       & 1791\\\\\n",
       "\t Independent        & 4119\\\\\n",
       "\t Ind,near dem       & 2499\\\\\n",
       "\t Not str democrat   & 3690\\\\\n",
       "\t Strong democrat    & 3490\\\\\n",
       "\\end{tabular}\n"
      ],
      "text/markdown": [
       "\n",
       "A tibble: 10 × 2\n",
       "\n",
       "| partyid &lt;fct&gt; | n &lt;int&gt; |\n",
       "|---|---|\n",
       "| No answer          |  154 |\n",
       "| Don't know         |    1 |\n",
       "| Other party        |  393 |\n",
       "| Strong republican  | 2314 |\n",
       "| Not str republican | 3032 |\n",
       "| Ind,near rep       | 1791 |\n",
       "| Independent        | 4119 |\n",
       "| Ind,near dem       | 2499 |\n",
       "| Not str democrat   | 3690 |\n",
       "| Strong democrat    | 3490 |\n",
       "\n"
      ],
      "text/plain": [
       "   partyid            n   \n",
       "1  No answer           154\n",
       "2  Don't know            1\n",
       "3  Other party         393\n",
       "4  Strong republican  2314\n",
       "5  Not str republican 3032\n",
       "6  Ind,near rep       1791\n",
       "7  Independent        4119\n",
       "8  Ind,near dem       2499\n",
       "9  Not str democrat   3690\n",
       "10 Strong democrat    3490"
      ]
     },
     "metadata": {},
     "output_type": "display_data"
    }
   ],
   "source": [
    "# 修改水平最常用、最强大的工具是fct_recode()函数，它可以对每个水平进行修改或重新编码\n",
    "gss_cat %>% count(partyid)"
   ]
  },
  {
   "cell_type": "code",
   "execution_count": 7,
   "metadata": {},
   "outputs": [
    {
     "data": {
      "text/html": [
       "<table>\n",
       "<caption>A tibble: 10 × 2</caption>\n",
       "<thead>\n",
       "\t<tr><th scope=col>partyid</th><th scope=col>n</th></tr>\n",
       "\t<tr><th scope=col>&lt;fct&gt;</th><th scope=col>&lt;int&gt;</th></tr>\n",
       "</thead>\n",
       "<tbody>\n",
       "\t<tr><td>No answer            </td><td> 154</td></tr>\n",
       "\t<tr><td>Don't know           </td><td>   1</td></tr>\n",
       "\t<tr><td>Other party          </td><td> 393</td></tr>\n",
       "\t<tr><td>Republican, strong   </td><td>2314</td></tr>\n",
       "\t<tr><td>Republican, weak     </td><td>3032</td></tr>\n",
       "\t<tr><td>Independent, near rep</td><td>1791</td></tr>\n",
       "\t<tr><td>Independent          </td><td>4119</td></tr>\n",
       "\t<tr><td>Independent, near dem</td><td>2499</td></tr>\n",
       "\t<tr><td>Democrat, weak       </td><td>3690</td></tr>\n",
       "\t<tr><td>Democrat, strong     </td><td>3490</td></tr>\n",
       "</tbody>\n",
       "</table>\n"
      ],
      "text/latex": [
       "A tibble: 10 × 2\n",
       "\\begin{tabular}{r|ll}\n",
       " partyid & n\\\\\n",
       " <fct> & <int>\\\\\n",
       "\\hline\n",
       "\t No answer             &  154\\\\\n",
       "\t Don't know            &    1\\\\\n",
       "\t Other party           &  393\\\\\n",
       "\t Republican, strong    & 2314\\\\\n",
       "\t Republican, weak      & 3032\\\\\n",
       "\t Independent, near rep & 1791\\\\\n",
       "\t Independent           & 4119\\\\\n",
       "\t Independent, near dem & 2499\\\\\n",
       "\t Democrat, weak        & 3690\\\\\n",
       "\t Democrat, strong      & 3490\\\\\n",
       "\\end{tabular}\n"
      ],
      "text/markdown": [
       "\n",
       "A tibble: 10 × 2\n",
       "\n",
       "| partyid &lt;fct&gt; | n &lt;int&gt; |\n",
       "|---|---|\n",
       "| No answer             |  154 |\n",
       "| Don't know            |    1 |\n",
       "| Other party           |  393 |\n",
       "| Republican, strong    | 2314 |\n",
       "| Republican, weak      | 3032 |\n",
       "| Independent, near rep | 1791 |\n",
       "| Independent           | 4119 |\n",
       "| Independent, near dem | 2499 |\n",
       "| Democrat, weak        | 3690 |\n",
       "| Democrat, strong      | 3490 |\n",
       "\n"
      ],
      "text/plain": [
       "   partyid               n   \n",
       "1  No answer              154\n",
       "2  Don't know               1\n",
       "3  Other party            393\n",
       "4  Republican, strong    2314\n",
       "5  Republican, weak      3032\n",
       "6  Independent, near rep 1791\n",
       "7  Independent           4119\n",
       "8  Independent, near dem 2499\n",
       "9  Democrat, weak        3690\n",
       "10 Democrat, strong      3490"
      ]
     },
     "metadata": {},
     "output_type": "display_data"
    }
   ],
   "source": [
    "# 修改\n",
    "gss_cat %>%mutate(partyid =fct_recode(partyid,     \n",
    "     \"Republican, strong\"    = \"Strong republican\",    \n",
    "     \"Republican, weak\"      = \"Not str republican\",    \n",
    "     \"Independent, near rep\" = \"Ind,near rep\",    \n",
    "     \"Independent, near dem\" = \"Ind,near dem\",    \n",
    "     \"Democrat, weak\"        = \"Not str democrat\",    \n",
    "     \"Democrat, strong\"      = \"Strong democrat\"   )) %>%\n",
    "count(partyid) "
   ]
  },
  {
   "cell_type": "code",
   "execution_count": 8,
   "metadata": {},
   "outputs": [
    {
     "data": {
      "text/html": [
       "<table>\n",
       "<caption>A tibble: 8 × 2</caption>\n",
       "<thead>\n",
       "\t<tr><th scope=col>partyid</th><th scope=col>n</th></tr>\n",
       "\t<tr><th scope=col>&lt;fct&gt;</th><th scope=col>&lt;int&gt;</th></tr>\n",
       "</thead>\n",
       "<tbody>\n",
       "\t<tr><td>Other                </td><td> 548</td></tr>\n",
       "\t<tr><td>Republican, strong   </td><td>2314</td></tr>\n",
       "\t<tr><td>Republican, weak     </td><td>3032</td></tr>\n",
       "\t<tr><td>Independent, near rep</td><td>1791</td></tr>\n",
       "\t<tr><td>Independent          </td><td>4119</td></tr>\n",
       "\t<tr><td>Independent, near dem</td><td>2499</td></tr>\n",
       "\t<tr><td>Democrat, weak       </td><td>3690</td></tr>\n",
       "\t<tr><td>Democrat, strong     </td><td>3490</td></tr>\n",
       "</tbody>\n",
       "</table>\n"
      ],
      "text/latex": [
       "A tibble: 8 × 2\n",
       "\\begin{tabular}{r|ll}\n",
       " partyid & n\\\\\n",
       " <fct> & <int>\\\\\n",
       "\\hline\n",
       "\t Other                 &  548\\\\\n",
       "\t Republican, strong    & 2314\\\\\n",
       "\t Republican, weak      & 3032\\\\\n",
       "\t Independent, near rep & 1791\\\\\n",
       "\t Independent           & 4119\\\\\n",
       "\t Independent, near dem & 2499\\\\\n",
       "\t Democrat, weak        & 3690\\\\\n",
       "\t Democrat, strong      & 3490\\\\\n",
       "\\end{tabular}\n"
      ],
      "text/markdown": [
       "\n",
       "A tibble: 8 × 2\n",
       "\n",
       "| partyid &lt;fct&gt; | n &lt;int&gt; |\n",
       "|---|---|\n",
       "| Other                 |  548 |\n",
       "| Republican, strong    | 2314 |\n",
       "| Republican, weak      | 3032 |\n",
       "| Independent, near rep | 1791 |\n",
       "| Independent           | 4119 |\n",
       "| Independent, near dem | 2499 |\n",
       "| Democrat, weak        | 3690 |\n",
       "| Democrat, strong      | 3490 |\n",
       "\n"
      ],
      "text/plain": [
       "  partyid               n   \n",
       "1 Other                  548\n",
       "2 Republican, strong    2314\n",
       "3 Republican, weak      3032\n",
       "4 Independent, near rep 1791\n",
       "5 Independent           4119\n",
       "6 Independent, near dem 2499\n",
       "7 Democrat, weak        3690\n",
       "8 Democrat, strong      3490"
      ]
     },
     "metadata": {},
     "output_type": "display_data"
    }
   ],
   "source": [
    "# 将多个原水平赋给同一个新水平，这样就可以合并原来的分类：\n",
    "gss_cat %>%mutate(partyid =fct_recode(partyid,     \n",
    "     \"Republican, strong\"    = \"Strong republican\",    \n",
    "     \"Republican, weak\"      = \"Not str republican\",    \n",
    "     \"Independent, near rep\" = \"Ind,near rep\",    \n",
    "     \"Independent, near dem\" = \"Ind,near dem\",    \n",
    "     \"Democrat, weak\"        = \"Not str democrat\",    \n",
    "     \"Democrat, strong\"      = \"Strong democrat\",    \n",
    "     \"Other\"                 = \"No answer\",    \n",
    "     \"Other\"                 = \"Don't know\",    \n",
    "     \"Other\"                 = \"Other party\"  )) %>%count(partyid)"
   ]
  },
  {
   "cell_type": "code",
   "execution_count": 9,
   "metadata": {},
   "outputs": [
    {
     "data": {
      "text/html": [
       "<table>\n",
       "<caption>A tibble: 4 × 2</caption>\n",
       "<thead>\n",
       "\t<tr><th scope=col>partyid</th><th scope=col>n</th></tr>\n",
       "\t<tr><th scope=col>&lt;fct&gt;</th><th scope=col>&lt;int&gt;</th></tr>\n",
       "</thead>\n",
       "<tbody>\n",
       "\t<tr><td>other</td><td> 548</td></tr>\n",
       "\t<tr><td>rep  </td><td>5346</td></tr>\n",
       "\t<tr><td>ind  </td><td>8409</td></tr>\n",
       "\t<tr><td>dem  </td><td>7180</td></tr>\n",
       "</tbody>\n",
       "</table>\n"
      ],
      "text/latex": [
       "A tibble: 4 × 2\n",
       "\\begin{tabular}{r|ll}\n",
       " partyid & n\\\\\n",
       " <fct> & <int>\\\\\n",
       "\\hline\n",
       "\t other &  548\\\\\n",
       "\t rep   & 5346\\\\\n",
       "\t ind   & 8409\\\\\n",
       "\t dem   & 7180\\\\\n",
       "\\end{tabular}\n"
      ],
      "text/markdown": [
       "\n",
       "A tibble: 4 × 2\n",
       "\n",
       "| partyid &lt;fct&gt; | n &lt;int&gt; |\n",
       "|---|---|\n",
       "| other |  548 |\n",
       "| rep   | 5346 |\n",
       "| ind   | 8409 |\n",
       "| dem   | 7180 |\n",
       "\n"
      ],
      "text/plain": [
       "  partyid n   \n",
       "1 other    548\n",
       "2 rep     5346\n",
       "3 ind     8409\n",
       "4 dem     7180"
      ]
     },
     "metadata": {},
     "output_type": "display_data"
    }
   ],
   "source": [
    "# 如果想要合并多个水平，那么可以使用fct_recode()函数的变体fct_collapse()函数。对于每个新水平，你都可以提供一个包含原水平的向量：\n",
    "gss_cat %>%mutate(partyid =fct_collapse(partyid,     \n",
    "      other =c(\"No answer\", \"Don't know\", \"Other party\"),     \n",
    "      rep =c(\"Strong republican\", \"Not str republican\"),     \n",
    "      ind =c(\"Ind,near rep\", \"Independent\", \"Ind,near dem\"),     \n",
    "      dem =c(\"Not str democrat\", \"Strong democrat\")   )) %>%\n",
    "count(partyid) "
   ]
  },
  {
   "cell_type": "markdown",
   "metadata": {},
   "source": [
    "## 练习\n",
    "\n",
    "美国民主党、共和党和中间派的人数比例是如何随时间而变化的？"
   ]
  },
  {
   "cell_type": "code",
   "execution_count": 10,
   "metadata": {},
   "outputs": [
    {
     "data": {
      "image/png": "[encoded data removed]",
      "text/plain": [
       "plot without title"
      ]
     },
     "metadata": {},
     "output_type": "display_data"
    }
   ],
   "source": [
    "gss_cat %>%mutate(partyid =fct_collapse(partyid,     \n",
    "      other =c(\"No answer\", \"Don't know\", \"Other party\"),     \n",
    "      rep =c(\"Strong republican\", \"Not str republican\"),     \n",
    "      ind =c(\"Ind,near rep\", \"Independent\", \"Ind,near dem\"),     \n",
    "      dem =c(\"Not str democrat\", \"Strong democrat\")   )) %>%\n",
    "ggplot(aes(year, fill = partyid)) + geom_bar(position = \"stack\") +\n",
    "theme_classic()"
   ]
  }
 ],
 "metadata": {
  "kernelspec": {
   "display_name": "R",
   "language": "R",
   "name": "ir"
  },
  "language_info": {
   "codemirror_mode": "r",
   "file_extension": ".r",
   "mimetype": "text/x-r-source",
   "name": "R",
   "pygments_lexer": "r",
   "version": "3.6.1"
  }
 },
 "nbformat": 4,
 "nbformat_minor": 4
}
