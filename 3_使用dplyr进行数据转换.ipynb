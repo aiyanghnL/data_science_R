{
 "cells": [
  {
   "cell_type": "markdown",
   "metadata": {},
   "source": [
    "# 使用dplyr进行数据转换"
   ]
  },
  {
   "cell_type": "markdown",
   "metadata": {},
   "source": [
    "1. 使用dplyr进行数据转换主要使用***tidyverse***包和***nycflights13***数据包\n",
    "\n",
    "2. dplyr五个核心函数\n",
    "\n",
    "    a. 按值筛选函数***filter()***\n",
    "    \n",
    "    b. 对行重新排序函数***arrange()***\n",
    "    \n",
    "    c. 按名称选取变量函数***select()***\n",
    "    \n",
    "    d. 创建新变量函数***mutate()***\n",
    "    \n",
    "    e. 获得摘要统计量函数***summarize()***"
   ]
  },
  {
   "cell_type": "code",
   "execution_count": 50,
   "metadata": {},
   "outputs": [],
   "source": [
    "# 加载包\n",
    "# install.packages(\"Lahman\")\n",
    "library(Lahman)\n",
    "library(tidyverse)\n",
    "library(nycflights13)"
   ]
  },
  {
   "cell_type": "markdown",
   "metadata": {},
   "source": [
    "查看flights数据\n",
    "![tibble截图](image/tibble.png)\n",
    "jupyter对于tibble数据框的显示不如rstudio好，看截图"
   ]
  },
  {
   "cell_type": "code",
   "execution_count": 51,
   "metadata": {},
   "outputs": [
    {
     "data": {
      "text/html": [
       "<table>\n",
       "<caption>A tibble: 6 × 19</caption>\n",
       "<thead>\n",
       "\t<tr><th scope=col>year</th><th scope=col>month</th><th scope=col>day</th><th scope=col>dep_time</th><th scope=col>sched_dep_time</th><th scope=col>dep_delay</th><th scope=col>arr_time</th><th scope=col>sched_arr_time</th><th scope=col>arr_delay</th><th scope=col>carrier</th><th scope=col>flight</th><th scope=col>tailnum</th><th scope=col>origin</th><th scope=col>dest</th><th scope=col>air_time</th><th scope=col>distance</th><th scope=col>hour</th><th scope=col>minute</th><th scope=col>time_hour</th></tr>\n",
       "\t<tr><th scope=col>&lt;int&gt;</th><th scope=col>&lt;int&gt;</th><th scope=col>&lt;int&gt;</th><th scope=col>&lt;int&gt;</th><th scope=col>&lt;int&gt;</th><th scope=col>&lt;dbl&gt;</th><th scope=col>&lt;int&gt;</th><th scope=col>&lt;int&gt;</th><th scope=col>&lt;dbl&gt;</th><th scope=col>&lt;chr&gt;</th><th scope=col>&lt;int&gt;</th><th scope=col>&lt;chr&gt;</th><th scope=col>&lt;chr&gt;</th><th scope=col>&lt;chr&gt;</th><th scope=col>&lt;dbl&gt;</th><th scope=col>&lt;dbl&gt;</th><th scope=col>&lt;dbl&gt;</th><th scope=col>&lt;dbl&gt;</th><th scope=col>&lt;dttm&gt;</th></tr>\n",
       "</thead>\n",
       "<tbody>\n",
       "\t<tr><td>2013</td><td>1</td><td>1</td><td>517</td><td>515</td><td> 2</td><td> 830</td><td> 819</td><td> 11</td><td>UA</td><td>1545</td><td>N14228</td><td>EWR</td><td>IAH</td><td>227</td><td>1400</td><td>5</td><td>15</td><td>2013-01-01 05:00:00</td></tr>\n",
       "\t<tr><td>2013</td><td>1</td><td>1</td><td>533</td><td>529</td><td> 4</td><td> 850</td><td> 830</td><td> 20</td><td>UA</td><td>1714</td><td>N24211</td><td>LGA</td><td>IAH</td><td>227</td><td>1416</td><td>5</td><td>29</td><td>2013-01-01 05:00:00</td></tr>\n",
       "\t<tr><td>2013</td><td>1</td><td>1</td><td>542</td><td>540</td><td> 2</td><td> 923</td><td> 850</td><td> 33</td><td>AA</td><td>1141</td><td>N619AA</td><td>JFK</td><td>MIA</td><td>160</td><td>1089</td><td>5</td><td>40</td><td>2013-01-01 05:00:00</td></tr>\n",
       "\t<tr><td>2013</td><td>1</td><td>1</td><td>544</td><td>545</td><td>-1</td><td>1004</td><td>1022</td><td>-18</td><td>B6</td><td> 725</td><td>N804JB</td><td>JFK</td><td>BQN</td><td>183</td><td>1576</td><td>5</td><td>45</td><td>2013-01-01 05:00:00</td></tr>\n",
       "\t<tr><td>2013</td><td>1</td><td>1</td><td>554</td><td>600</td><td>-6</td><td> 812</td><td> 837</td><td>-25</td><td>DL</td><td> 461</td><td>N668DN</td><td>LGA</td><td>ATL</td><td>116</td><td> 762</td><td>6</td><td> 0</td><td>2013-01-01 06:00:00</td></tr>\n",
       "\t<tr><td>2013</td><td>1</td><td>1</td><td>554</td><td>558</td><td>-4</td><td> 740</td><td> 728</td><td> 12</td><td>UA</td><td>1696</td><td>N39463</td><td>EWR</td><td>ORD</td><td>150</td><td> 719</td><td>5</td><td>58</td><td>2013-01-01 05:00:00</td></tr>\n",
       "</tbody>\n",
       "</table>\n"
      ],
      "text/latex": [
       "A tibble: 6 × 19\n",
       "\\begin{tabular}{r|lllllllllllllllllll}\n",
       " year & month & day & dep\\_time & sched\\_dep\\_time & dep\\_delay & arr\\_time & sched\\_arr\\_time & arr\\_delay & carrier & flight & tailnum & origin & dest & air\\_time & distance & hour & minute & time\\_hour\\\\\n",
       " <int> & <int> & <int> & <int> & <int> & <dbl> & <int> & <int> & <dbl> & <chr> & <int> & <chr> & <chr> & <chr> & <dbl> & <dbl> & <dbl> & <dbl> & <dttm>\\\\\n",
       "\\hline\n",
       "\t 2013 & 1 & 1 & 517 & 515 &  2 &  830 &  819 &  11 & UA & 1545 & N14228 & EWR & IAH & 227 & 1400 & 5 & 15 & 2013-01-01 05:00:00\\\\\n",
       "\t 2013 & 1 & 1 & 533 & 529 &  4 &  850 &  830 &  20 & UA & 1714 & N24211 & LGA & IAH & 227 & 1416 & 5 & 29 & 2013-01-01 05:00:00\\\\\n",
       "\t 2013 & 1 & 1 & 542 & 540 &  2 &  923 &  850 &  33 & AA & 1141 & N619AA & JFK & MIA & 160 & 1089 & 5 & 40 & 2013-01-01 05:00:00\\\\\n",
       "\t 2013 & 1 & 1 & 544 & 545 & -1 & 1004 & 1022 & -18 & B6 &  725 & N804JB & JFK & BQN & 183 & 1576 & 5 & 45 & 2013-01-01 05:00:00\\\\\n",
       "\t 2013 & 1 & 1 & 554 & 600 & -6 &  812 &  837 & -25 & DL &  461 & N668DN & LGA & ATL & 116 &  762 & 6 &  0 & 2013-01-01 06:00:00\\\\\n",
       "\t 2013 & 1 & 1 & 554 & 558 & -4 &  740 &  728 &  12 & UA & 1696 & N39463 & EWR & ORD & 150 &  719 & 5 & 58 & 2013-01-01 05:00:00\\\\\n",
       "\\end{tabular}\n"
      ],
      "text/markdown": [
       "\n",
       "A tibble: 6 × 19\n",
       "\n",
       "| year &lt;int&gt; | month &lt;int&gt; | day &lt;int&gt; | dep_time &lt;int&gt; | sched_dep_time &lt;int&gt; | dep_delay &lt;dbl&gt; | arr_time &lt;int&gt; | sched_arr_time &lt;int&gt; | arr_delay &lt;dbl&gt; | carrier &lt;chr&gt; | flight &lt;int&gt; | tailnum &lt;chr&gt; | origin &lt;chr&gt; | dest &lt;chr&gt; | air_time &lt;dbl&gt; | distance &lt;dbl&gt; | hour &lt;dbl&gt; | minute &lt;dbl&gt; | time_hour &lt;dttm&gt; |\n",
       "|---|---|---|---|---|---|---|---|---|---|---|---|---|---|---|---|---|---|---|\n",
       "| 2013 | 1 | 1 | 517 | 515 |  2 |  830 |  819 |  11 | UA | 1545 | N14228 | EWR | IAH | 227 | 1400 | 5 | 15 | 2013-01-01 05:00:00 |\n",
       "| 2013 | 1 | 1 | 533 | 529 |  4 |  850 |  830 |  20 | UA | 1714 | N24211 | LGA | IAH | 227 | 1416 | 5 | 29 | 2013-01-01 05:00:00 |\n",
       "| 2013 | 1 | 1 | 542 | 540 |  2 |  923 |  850 |  33 | AA | 1141 | N619AA | JFK | MIA | 160 | 1089 | 5 | 40 | 2013-01-01 05:00:00 |\n",
       "| 2013 | 1 | 1 | 544 | 545 | -1 | 1004 | 1022 | -18 | B6 |  725 | N804JB | JFK | BQN | 183 | 1576 | 5 | 45 | 2013-01-01 05:00:00 |\n",
       "| 2013 | 1 | 1 | 554 | 600 | -6 |  812 |  837 | -25 | DL |  461 | N668DN | LGA | ATL | 116 |  762 | 6 |  0 | 2013-01-01 06:00:00 |\n",
       "| 2013 | 1 | 1 | 554 | 558 | -4 |  740 |  728 |  12 | UA | 1696 | N39463 | EWR | ORD | 150 |  719 | 5 | 58 | 2013-01-01 05:00:00 |\n",
       "\n"
      ],
      "text/plain": [
       "  year month day dep_time sched_dep_time dep_delay arr_time sched_arr_time\n",
       "1 2013 1     1   517      515             2         830      819          \n",
       "2 2013 1     1   533      529             4         850      830          \n",
       "3 2013 1     1   542      540             2         923      850          \n",
       "4 2013 1     1   544      545            -1        1004     1022          \n",
       "5 2013 1     1   554      600            -6         812      837          \n",
       "6 2013 1     1   554      558            -4         740      728          \n",
       "  arr_delay carrier flight tailnum origin dest air_time distance hour minute\n",
       "1  11       UA      1545   N14228  EWR    IAH  227      1400     5    15    \n",
       "2  20       UA      1714   N24211  LGA    IAH  227      1416     5    29    \n",
       "3  33       AA      1141   N619AA  JFK    MIA  160      1089     5    40    \n",
       "4 -18       B6       725   N804JB  JFK    BQN  183      1576     5    45    \n",
       "5 -25       DL       461   N668DN  LGA    ATL  116       762     6     0    \n",
       "6  12       UA      1696   N39463  EWR    ORD  150       719     5    58    \n",
       "  time_hour          \n",
       "1 2013-01-01 05:00:00\n",
       "2 2013-01-01 05:00:00\n",
       "3 2013-01-01 05:00:00\n",
       "4 2013-01-01 05:00:00\n",
       "5 2013-01-01 06:00:00\n",
       "6 2013-01-01 05:00:00"
      ]
     },
     "metadata": {},
     "output_type": "display_data"
    },
    {
     "name": "stdout",
     "output_type": "stream",
     "text": [
      "Classes ‘tbl_df’, ‘tbl’ and 'data.frame':\t336776 obs. of  19 variables:\n",
      " $ year          : int  2013 2013 2013 2013 2013 2013 2013 2013 2013 2013 ...\n",
      " $ month         : int  1 1 1 1 1 1 1 1 1 1 ...\n",
      " $ day           : int  1 1 1 1 1 1 1 1 1 1 ...\n",
      " $ dep_time      : int  517 533 542 544 554 554 555 557 557 558 ...\n",
      " $ sched_dep_time: int  515 529 540 545 600 558 600 600 600 600 ...\n",
      " $ dep_delay     : num  2 4 2 -1 -6 -4 -5 -3 -3 -2 ...\n",
      " $ arr_time      : int  830 850 923 1004 812 740 913 709 838 753 ...\n",
      " $ sched_arr_time: int  819 830 850 1022 837 728 854 723 846 745 ...\n",
      " $ arr_delay     : num  11 20 33 -18 -25 12 19 -14 -8 8 ...\n",
      " $ carrier       : chr  \"UA\" \"UA\" \"AA\" \"B6\" ...\n",
      " $ flight        : int  1545 1714 1141 725 461 1696 507 5708 79 301 ...\n",
      " $ tailnum       : chr  \"N14228\" \"N24211\" \"N619AA\" \"N804JB\" ...\n",
      " $ origin        : chr  \"EWR\" \"LGA\" \"JFK\" \"JFK\" ...\n",
      " $ dest          : chr  \"IAH\" \"IAH\" \"MIA\" \"BQN\" ...\n",
      " $ air_time      : num  227 227 160 183 116 150 158 53 140 138 ...\n",
      " $ distance      : num  1400 1416 1089 1576 762 ...\n",
      " $ hour          : num  5 5 5 5 6 5 6 6 6 6 ...\n",
      " $ minute        : num  15 29 40 45 0 58 0 0 0 0 ...\n",
      " $ time_hour     : POSIXct, format: \"2013-01-01 05:00:00\" \"2013-01-01 05:00:00\" ...\n"
     ]
    }
   ],
   "source": [
    "head(flights)\n",
    "str(flights)"
   ]
  },
  {
   "cell_type": "markdown",
   "metadata": {},
   "source": [
    "## 使用filter()筛选行"
   ]
  },
  {
   "cell_type": "code",
   "execution_count": 52,
   "metadata": {},
   "outputs": [
    {
     "data": {
      "text/html": [
       "<table>\n",
       "<caption>A tibble: 6 × 19</caption>\n",
       "<thead>\n",
       "\t<tr><th scope=col>year</th><th scope=col>month</th><th scope=col>day</th><th scope=col>dep_time</th><th scope=col>sched_dep_time</th><th scope=col>dep_delay</th><th scope=col>arr_time</th><th scope=col>sched_arr_time</th><th scope=col>arr_delay</th><th scope=col>carrier</th><th scope=col>flight</th><th scope=col>tailnum</th><th scope=col>origin</th><th scope=col>dest</th><th scope=col>air_time</th><th scope=col>distance</th><th scope=col>hour</th><th scope=col>minute</th><th scope=col>time_hour</th></tr>\n",
       "\t<tr><th scope=col>&lt;int&gt;</th><th scope=col>&lt;int&gt;</th><th scope=col>&lt;int&gt;</th><th scope=col>&lt;int&gt;</th><th scope=col>&lt;int&gt;</th><th scope=col>&lt;dbl&gt;</th><th scope=col>&lt;int&gt;</th><th scope=col>&lt;int&gt;</th><th scope=col>&lt;dbl&gt;</th><th scope=col>&lt;chr&gt;</th><th scope=col>&lt;int&gt;</th><th scope=col>&lt;chr&gt;</th><th scope=col>&lt;chr&gt;</th><th scope=col>&lt;chr&gt;</th><th scope=col>&lt;dbl&gt;</th><th scope=col>&lt;dbl&gt;</th><th scope=col>&lt;dbl&gt;</th><th scope=col>&lt;dbl&gt;</th><th scope=col>&lt;dttm&gt;</th></tr>\n",
       "</thead>\n",
       "<tbody>\n",
       "\t<tr><td>2013</td><td>1</td><td>1</td><td>517</td><td>515</td><td> 2</td><td> 830</td><td> 819</td><td> 11</td><td>UA</td><td>1545</td><td>N14228</td><td>EWR</td><td>IAH</td><td>227</td><td>1400</td><td>5</td><td>15</td><td>2013-01-01 05:00:00</td></tr>\n",
       "\t<tr><td>2013</td><td>1</td><td>1</td><td>533</td><td>529</td><td> 4</td><td> 850</td><td> 830</td><td> 20</td><td>UA</td><td>1714</td><td>N24211</td><td>LGA</td><td>IAH</td><td>227</td><td>1416</td><td>5</td><td>29</td><td>2013-01-01 05:00:00</td></tr>\n",
       "\t<tr><td>2013</td><td>1</td><td>1</td><td>542</td><td>540</td><td> 2</td><td> 923</td><td> 850</td><td> 33</td><td>AA</td><td>1141</td><td>N619AA</td><td>JFK</td><td>MIA</td><td>160</td><td>1089</td><td>5</td><td>40</td><td>2013-01-01 05:00:00</td></tr>\n",
       "\t<tr><td>2013</td><td>1</td><td>1</td><td>544</td><td>545</td><td>-1</td><td>1004</td><td>1022</td><td>-18</td><td>B6</td><td> 725</td><td>N804JB</td><td>JFK</td><td>BQN</td><td>183</td><td>1576</td><td>5</td><td>45</td><td>2013-01-01 05:00:00</td></tr>\n",
       "\t<tr><td>2013</td><td>1</td><td>1</td><td>554</td><td>600</td><td>-6</td><td> 812</td><td> 837</td><td>-25</td><td>DL</td><td> 461</td><td>N668DN</td><td>LGA</td><td>ATL</td><td>116</td><td> 762</td><td>6</td><td> 0</td><td>2013-01-01 06:00:00</td></tr>\n",
       "\t<tr><td>2013</td><td>1</td><td>1</td><td>554</td><td>558</td><td>-4</td><td> 740</td><td> 728</td><td> 12</td><td>UA</td><td>1696</td><td>N39463</td><td>EWR</td><td>ORD</td><td>150</td><td> 719</td><td>5</td><td>58</td><td>2013-01-01 05:00:00</td></tr>\n",
       "</tbody>\n",
       "</table>\n"
      ],
      "text/latex": [
       "A tibble: 6 × 19\n",
       "\\begin{tabular}{r|lllllllllllllllllll}\n",
       " year & month & day & dep\\_time & sched\\_dep\\_time & dep\\_delay & arr\\_time & sched\\_arr\\_time & arr\\_delay & carrier & flight & tailnum & origin & dest & air\\_time & distance & hour & minute & time\\_hour\\\\\n",
       " <int> & <int> & <int> & <int> & <int> & <dbl> & <int> & <int> & <dbl> & <chr> & <int> & <chr> & <chr> & <chr> & <dbl> & <dbl> & <dbl> & <dbl> & <dttm>\\\\\n",
       "\\hline\n",
       "\t 2013 & 1 & 1 & 517 & 515 &  2 &  830 &  819 &  11 & UA & 1545 & N14228 & EWR & IAH & 227 & 1400 & 5 & 15 & 2013-01-01 05:00:00\\\\\n",
       "\t 2013 & 1 & 1 & 533 & 529 &  4 &  850 &  830 &  20 & UA & 1714 & N24211 & LGA & IAH & 227 & 1416 & 5 & 29 & 2013-01-01 05:00:00\\\\\n",
       "\t 2013 & 1 & 1 & 542 & 540 &  2 &  923 &  850 &  33 & AA & 1141 & N619AA & JFK & MIA & 160 & 1089 & 5 & 40 & 2013-01-01 05:00:00\\\\\n",
       "\t 2013 & 1 & 1 & 544 & 545 & -1 & 1004 & 1022 & -18 & B6 &  725 & N804JB & JFK & BQN & 183 & 1576 & 5 & 45 & 2013-01-01 05:00:00\\\\\n",
       "\t 2013 & 1 & 1 & 554 & 600 & -6 &  812 &  837 & -25 & DL &  461 & N668DN & LGA & ATL & 116 &  762 & 6 &  0 & 2013-01-01 06:00:00\\\\\n",
       "\t 2013 & 1 & 1 & 554 & 558 & -4 &  740 &  728 &  12 & UA & 1696 & N39463 & EWR & ORD & 150 &  719 & 5 & 58 & 2013-01-01 05:00:00\\\\\n",
       "\\end{tabular}\n"
      ],
      "text/markdown": [
       "\n",
       "A tibble: 6 × 19\n",
       "\n",
       "| year &lt;int&gt; | month &lt;int&gt; | day &lt;int&gt; | dep_time &lt;int&gt; | sched_dep_time &lt;int&gt; | dep_delay &lt;dbl&gt; | arr_time &lt;int&gt; | sched_arr_time &lt;int&gt; | arr_delay &lt;dbl&gt; | carrier &lt;chr&gt; | flight &lt;int&gt; | tailnum &lt;chr&gt; | origin &lt;chr&gt; | dest &lt;chr&gt; | air_time &lt;dbl&gt; | distance &lt;dbl&gt; | hour &lt;dbl&gt; | minute &lt;dbl&gt; | time_hour &lt;dttm&gt; |\n",
       "|---|---|---|---|---|---|---|---|---|---|---|---|---|---|---|---|---|---|---|\n",
       "| 2013 | 1 | 1 | 517 | 515 |  2 |  830 |  819 |  11 | UA | 1545 | N14228 | EWR | IAH | 227 | 1400 | 5 | 15 | 2013-01-01 05:00:00 |\n",
       "| 2013 | 1 | 1 | 533 | 529 |  4 |  850 |  830 |  20 | UA | 1714 | N24211 | LGA | IAH | 227 | 1416 | 5 | 29 | 2013-01-01 05:00:00 |\n",
       "| 2013 | 1 | 1 | 542 | 540 |  2 |  923 |  850 |  33 | AA | 1141 | N619AA | JFK | MIA | 160 | 1089 | 5 | 40 | 2013-01-01 05:00:00 |\n",
       "| 2013 | 1 | 1 | 544 | 545 | -1 | 1004 | 1022 | -18 | B6 |  725 | N804JB | JFK | BQN | 183 | 1576 | 5 | 45 | 2013-01-01 05:00:00 |\n",
       "| 2013 | 1 | 1 | 554 | 600 | -6 |  812 |  837 | -25 | DL |  461 | N668DN | LGA | ATL | 116 |  762 | 6 |  0 | 2013-01-01 06:00:00 |\n",
       "| 2013 | 1 | 1 | 554 | 558 | -4 |  740 |  728 |  12 | UA | 1696 | N39463 | EWR | ORD | 150 |  719 | 5 | 58 | 2013-01-01 05:00:00 |\n",
       "\n"
      ],
      "text/plain": [
       "  year month day dep_time sched_dep_time dep_delay arr_time sched_arr_time\n",
       "1 2013 1     1   517      515             2         830      819          \n",
       "2 2013 1     1   533      529             4         850      830          \n",
       "3 2013 1     1   542      540             2         923      850          \n",
       "4 2013 1     1   544      545            -1        1004     1022          \n",
       "5 2013 1     1   554      600            -6         812      837          \n",
       "6 2013 1     1   554      558            -4         740      728          \n",
       "  arr_delay carrier flight tailnum origin dest air_time distance hour minute\n",
       "1  11       UA      1545   N14228  EWR    IAH  227      1400     5    15    \n",
       "2  20       UA      1714   N24211  LGA    IAH  227      1416     5    29    \n",
       "3  33       AA      1141   N619AA  JFK    MIA  160      1089     5    40    \n",
       "4 -18       B6       725   N804JB  JFK    BQN  183      1576     5    45    \n",
       "5 -25       DL       461   N668DN  LGA    ATL  116       762     6     0    \n",
       "6  12       UA      1696   N39463  EWR    ORD  150       719     5    58    \n",
       "  time_hour          \n",
       "1 2013-01-01 05:00:00\n",
       "2 2013-01-01 05:00:00\n",
       "3 2013-01-01 05:00:00\n",
       "4 2013-01-01 05:00:00\n",
       "5 2013-01-01 06:00:00\n",
       "6 2013-01-01 05:00:00"
      ]
     },
     "metadata": {},
     "output_type": "display_data"
    }
   ],
   "source": [
    "# 筛选1月1日的航班,数据有点多，使用head()函数仅仅显示前6行,下同\n",
    "head(filter(flights, month == 1, day == 1))\n",
    "#注意是两个等号“==”"
   ]
  },
  {
   "cell_type": "markdown",
   "metadata": {},
   "source": [
    "dplyr函数不会修改输入，如果要保存结果需要使用赋值操作“<-”\n",
    "\n",
    "如果既要输出结果，又要保存结果，则使用\"()\"将赋值操作括起来"
   ]
  },
  {
   "cell_type": "code",
   "execution_count": 53,
   "metadata": {},
   "outputs": [
    {
     "data": {
      "text/html": [
       "<table>\n",
       "<caption>A tibble: 6 × 19</caption>\n",
       "<thead>\n",
       "\t<tr><th scope=col>year</th><th scope=col>month</th><th scope=col>day</th><th scope=col>dep_time</th><th scope=col>sched_dep_time</th><th scope=col>dep_delay</th><th scope=col>arr_time</th><th scope=col>sched_arr_time</th><th scope=col>arr_delay</th><th scope=col>carrier</th><th scope=col>flight</th><th scope=col>tailnum</th><th scope=col>origin</th><th scope=col>dest</th><th scope=col>air_time</th><th scope=col>distance</th><th scope=col>hour</th><th scope=col>minute</th><th scope=col>time_hour</th></tr>\n",
       "\t<tr><th scope=col>&lt;int&gt;</th><th scope=col>&lt;int&gt;</th><th scope=col>&lt;int&gt;</th><th scope=col>&lt;int&gt;</th><th scope=col>&lt;int&gt;</th><th scope=col>&lt;dbl&gt;</th><th scope=col>&lt;int&gt;</th><th scope=col>&lt;int&gt;</th><th scope=col>&lt;dbl&gt;</th><th scope=col>&lt;chr&gt;</th><th scope=col>&lt;int&gt;</th><th scope=col>&lt;chr&gt;</th><th scope=col>&lt;chr&gt;</th><th scope=col>&lt;chr&gt;</th><th scope=col>&lt;dbl&gt;</th><th scope=col>&lt;dbl&gt;</th><th scope=col>&lt;dbl&gt;</th><th scope=col>&lt;dbl&gt;</th><th scope=col>&lt;dttm&gt;</th></tr>\n",
       "</thead>\n",
       "<tbody>\n",
       "\t<tr><td>2013</td><td>1</td><td>1</td><td>517</td><td>515</td><td> 2</td><td> 830</td><td> 819</td><td> 11</td><td>UA</td><td>1545</td><td>N14228</td><td>EWR</td><td>IAH</td><td>227</td><td>1400</td><td>5</td><td>15</td><td>2013-01-01 05:00:00</td></tr>\n",
       "\t<tr><td>2013</td><td>1</td><td>1</td><td>533</td><td>529</td><td> 4</td><td> 850</td><td> 830</td><td> 20</td><td>UA</td><td>1714</td><td>N24211</td><td>LGA</td><td>IAH</td><td>227</td><td>1416</td><td>5</td><td>29</td><td>2013-01-01 05:00:00</td></tr>\n",
       "\t<tr><td>2013</td><td>1</td><td>1</td><td>542</td><td>540</td><td> 2</td><td> 923</td><td> 850</td><td> 33</td><td>AA</td><td>1141</td><td>N619AA</td><td>JFK</td><td>MIA</td><td>160</td><td>1089</td><td>5</td><td>40</td><td>2013-01-01 05:00:00</td></tr>\n",
       "\t<tr><td>2013</td><td>1</td><td>1</td><td>544</td><td>545</td><td>-1</td><td>1004</td><td>1022</td><td>-18</td><td>B6</td><td> 725</td><td>N804JB</td><td>JFK</td><td>BQN</td><td>183</td><td>1576</td><td>5</td><td>45</td><td>2013-01-01 05:00:00</td></tr>\n",
       "\t<tr><td>2013</td><td>1</td><td>1</td><td>554</td><td>600</td><td>-6</td><td> 812</td><td> 837</td><td>-25</td><td>DL</td><td> 461</td><td>N668DN</td><td>LGA</td><td>ATL</td><td>116</td><td> 762</td><td>6</td><td> 0</td><td>2013-01-01 06:00:00</td></tr>\n",
       "\t<tr><td>2013</td><td>1</td><td>1</td><td>554</td><td>558</td><td>-4</td><td> 740</td><td> 728</td><td> 12</td><td>UA</td><td>1696</td><td>N39463</td><td>EWR</td><td>ORD</td><td>150</td><td> 719</td><td>5</td><td>58</td><td>2013-01-01 05:00:00</td></tr>\n",
       "</tbody>\n",
       "</table>\n"
      ],
      "text/latex": [
       "A tibble: 6 × 19\n",
       "\\begin{tabular}{r|lllllllllllllllllll}\n",
       " year & month & day & dep\\_time & sched\\_dep\\_time & dep\\_delay & arr\\_time & sched\\_arr\\_time & arr\\_delay & carrier & flight & tailnum & origin & dest & air\\_time & distance & hour & minute & time\\_hour\\\\\n",
       " <int> & <int> & <int> & <int> & <int> & <dbl> & <int> & <int> & <dbl> & <chr> & <int> & <chr> & <chr> & <chr> & <dbl> & <dbl> & <dbl> & <dbl> & <dttm>\\\\\n",
       "\\hline\n",
       "\t 2013 & 1 & 1 & 517 & 515 &  2 &  830 &  819 &  11 & UA & 1545 & N14228 & EWR & IAH & 227 & 1400 & 5 & 15 & 2013-01-01 05:00:00\\\\\n",
       "\t 2013 & 1 & 1 & 533 & 529 &  4 &  850 &  830 &  20 & UA & 1714 & N24211 & LGA & IAH & 227 & 1416 & 5 & 29 & 2013-01-01 05:00:00\\\\\n",
       "\t 2013 & 1 & 1 & 542 & 540 &  2 &  923 &  850 &  33 & AA & 1141 & N619AA & JFK & MIA & 160 & 1089 & 5 & 40 & 2013-01-01 05:00:00\\\\\n",
       "\t 2013 & 1 & 1 & 544 & 545 & -1 & 1004 & 1022 & -18 & B6 &  725 & N804JB & JFK & BQN & 183 & 1576 & 5 & 45 & 2013-01-01 05:00:00\\\\\n",
       "\t 2013 & 1 & 1 & 554 & 600 & -6 &  812 &  837 & -25 & DL &  461 & N668DN & LGA & ATL & 116 &  762 & 6 &  0 & 2013-01-01 06:00:00\\\\\n",
       "\t 2013 & 1 & 1 & 554 & 558 & -4 &  740 &  728 &  12 & UA & 1696 & N39463 & EWR & ORD & 150 &  719 & 5 & 58 & 2013-01-01 05:00:00\\\\\n",
       "\\end{tabular}\n"
      ],
      "text/markdown": [
       "\n",
       "A tibble: 6 × 19\n",
       "\n",
       "| year &lt;int&gt; | month &lt;int&gt; | day &lt;int&gt; | dep_time &lt;int&gt; | sched_dep_time &lt;int&gt; | dep_delay &lt;dbl&gt; | arr_time &lt;int&gt; | sched_arr_time &lt;int&gt; | arr_delay &lt;dbl&gt; | carrier &lt;chr&gt; | flight &lt;int&gt; | tailnum &lt;chr&gt; | origin &lt;chr&gt; | dest &lt;chr&gt; | air_time &lt;dbl&gt; | distance &lt;dbl&gt; | hour &lt;dbl&gt; | minute &lt;dbl&gt; | time_hour &lt;dttm&gt; |\n",
       "|---|---|---|---|---|---|---|---|---|---|---|---|---|---|---|---|---|---|---|\n",
       "| 2013 | 1 | 1 | 517 | 515 |  2 |  830 |  819 |  11 | UA | 1545 | N14228 | EWR | IAH | 227 | 1400 | 5 | 15 | 2013-01-01 05:00:00 |\n",
       "| 2013 | 1 | 1 | 533 | 529 |  4 |  850 |  830 |  20 | UA | 1714 | N24211 | LGA | IAH | 227 | 1416 | 5 | 29 | 2013-01-01 05:00:00 |\n",
       "| 2013 | 1 | 1 | 542 | 540 |  2 |  923 |  850 |  33 | AA | 1141 | N619AA | JFK | MIA | 160 | 1089 | 5 | 40 | 2013-01-01 05:00:00 |\n",
       "| 2013 | 1 | 1 | 544 | 545 | -1 | 1004 | 1022 | -18 | B6 |  725 | N804JB | JFK | BQN | 183 | 1576 | 5 | 45 | 2013-01-01 05:00:00 |\n",
       "| 2013 | 1 | 1 | 554 | 600 | -6 |  812 |  837 | -25 | DL |  461 | N668DN | LGA | ATL | 116 |  762 | 6 |  0 | 2013-01-01 06:00:00 |\n",
       "| 2013 | 1 | 1 | 554 | 558 | -4 |  740 |  728 |  12 | UA | 1696 | N39463 | EWR | ORD | 150 |  719 | 5 | 58 | 2013-01-01 05:00:00 |\n",
       "\n"
      ],
      "text/plain": [
       "  year month day dep_time sched_dep_time dep_delay arr_time sched_arr_time\n",
       "1 2013 1     1   517      515             2         830      819          \n",
       "2 2013 1     1   533      529             4         850      830          \n",
       "3 2013 1     1   542      540             2         923      850          \n",
       "4 2013 1     1   544      545            -1        1004     1022          \n",
       "5 2013 1     1   554      600            -6         812      837          \n",
       "6 2013 1     1   554      558            -4         740      728          \n",
       "  arr_delay carrier flight tailnum origin dest air_time distance hour minute\n",
       "1  11       UA      1545   N14228  EWR    IAH  227      1400     5    15    \n",
       "2  20       UA      1714   N24211  LGA    IAH  227      1416     5    29    \n",
       "3  33       AA      1141   N619AA  JFK    MIA  160      1089     5    40    \n",
       "4 -18       B6       725   N804JB  JFK    BQN  183      1576     5    45    \n",
       "5 -25       DL       461   N668DN  LGA    ATL  116       762     6     0    \n",
       "6  12       UA      1696   N39463  EWR    ORD  150       719     5    58    \n",
       "  time_hour          \n",
       "1 2013-01-01 05:00:00\n",
       "2 2013-01-01 05:00:00\n",
       "3 2013-01-01 05:00:00\n",
       "4 2013-01-01 05:00:00\n",
       "5 2013-01-01 06:00:00\n",
       "6 2013-01-01 05:00:00"
      ]
     },
     "metadata": {},
     "output_type": "display_data"
    }
   ],
   "source": [
    "head(fm1d1 <- filter(flights, month == 1, day == 1))"
   ]
  },
  {
   "cell_type": "markdown",
   "metadata": {},
   "source": [
    "除了使用等于\"==\"，还可以使用其他比较运算符\"!=\"、\">\"、\"<=\"，以及逻辑运算符\n",
    "\"&\"、\"|\"、\"!\""
   ]
  },
  {
   "cell_type": "code",
   "execution_count": 54,
   "metadata": {},
   "outputs": [
    {
     "data": {
      "text/html": [
       "<table>\n",
       "<caption>A tibble: 6 × 19</caption>\n",
       "<thead>\n",
       "\t<tr><th scope=col>year</th><th scope=col>month</th><th scope=col>day</th><th scope=col>dep_time</th><th scope=col>sched_dep_time</th><th scope=col>dep_delay</th><th scope=col>arr_time</th><th scope=col>sched_arr_time</th><th scope=col>arr_delay</th><th scope=col>carrier</th><th scope=col>flight</th><th scope=col>tailnum</th><th scope=col>origin</th><th scope=col>dest</th><th scope=col>air_time</th><th scope=col>distance</th><th scope=col>hour</th><th scope=col>minute</th><th scope=col>time_hour</th></tr>\n",
       "\t<tr><th scope=col>&lt;int&gt;</th><th scope=col>&lt;int&gt;</th><th scope=col>&lt;int&gt;</th><th scope=col>&lt;int&gt;</th><th scope=col>&lt;int&gt;</th><th scope=col>&lt;dbl&gt;</th><th scope=col>&lt;int&gt;</th><th scope=col>&lt;int&gt;</th><th scope=col>&lt;dbl&gt;</th><th scope=col>&lt;chr&gt;</th><th scope=col>&lt;int&gt;</th><th scope=col>&lt;chr&gt;</th><th scope=col>&lt;chr&gt;</th><th scope=col>&lt;chr&gt;</th><th scope=col>&lt;dbl&gt;</th><th scope=col>&lt;dbl&gt;</th><th scope=col>&lt;dbl&gt;</th><th scope=col>&lt;dbl&gt;</th><th scope=col>&lt;dttm&gt;</th></tr>\n",
       "</thead>\n",
       "<tbody>\n",
       "\t<tr><td>2013</td><td>2</td><td>1</td><td>456</td><td>500</td><td>-4</td><td> 652</td><td> 648</td><td>  4</td><td>US</td><td>1117</td><td>N197UW</td><td>EWR</td><td>CLT</td><td> 98</td><td> 529</td><td>5</td><td> 0</td><td>2013-02-01 05:00:00</td></tr>\n",
       "\t<tr><td>2013</td><td>2</td><td>1</td><td>520</td><td>525</td><td>-5</td><td> 816</td><td> 820</td><td> -4</td><td>UA</td><td>1018</td><td>N24211</td><td>EWR</td><td>IAH</td><td>209</td><td>1400</td><td>5</td><td>25</td><td>2013-02-01 05:00:00</td></tr>\n",
       "\t<tr><td>2013</td><td>2</td><td>1</td><td>527</td><td>530</td><td>-3</td><td> 837</td><td> 829</td><td>  8</td><td>UA</td><td> 650</td><td>N470UA</td><td>LGA</td><td>IAH</td><td>233</td><td>1416</td><td>5</td><td>30</td><td>2013-02-01 05:00:00</td></tr>\n",
       "\t<tr><td>2013</td><td>2</td><td>1</td><td>532</td><td>540</td><td>-8</td><td>1007</td><td>1017</td><td>-10</td><td>B6</td><td> 725</td><td>N554JB</td><td>JFK</td><td>BQN</td><td>195</td><td>1576</td><td>5</td><td>40</td><td>2013-02-01 05:00:00</td></tr>\n",
       "\t<tr><td>2013</td><td>2</td><td>1</td><td>540</td><td>540</td><td> 0</td><td> 859</td><td> 850</td><td>  9</td><td>AA</td><td>1141</td><td>N615AA</td><td>JFK</td><td>MIA</td><td>169</td><td>1089</td><td>5</td><td>40</td><td>2013-02-01 05:00:00</td></tr>\n",
       "\t<tr><td>2013</td><td>2</td><td>1</td><td>552</td><td>600</td><td>-8</td><td> 714</td><td> 715</td><td> -1</td><td>EV</td><td>5716</td><td>N829AS</td><td>JFK</td><td>IAD</td><td> 58</td><td> 228</td><td>6</td><td> 0</td><td>2013-02-01 06:00:00</td></tr>\n",
       "</tbody>\n",
       "</table>\n"
      ],
      "text/latex": [
       "A tibble: 6 × 19\n",
       "\\begin{tabular}{r|lllllllllllllllllll}\n",
       " year & month & day & dep\\_time & sched\\_dep\\_time & dep\\_delay & arr\\_time & sched\\_arr\\_time & arr\\_delay & carrier & flight & tailnum & origin & dest & air\\_time & distance & hour & minute & time\\_hour\\\\\n",
       " <int> & <int> & <int> & <int> & <int> & <dbl> & <int> & <int> & <dbl> & <chr> & <int> & <chr> & <chr> & <chr> & <dbl> & <dbl> & <dbl> & <dbl> & <dttm>\\\\\n",
       "\\hline\n",
       "\t 2013 & 2 & 1 & 456 & 500 & -4 &  652 &  648 &   4 & US & 1117 & N197UW & EWR & CLT &  98 &  529 & 5 &  0 & 2013-02-01 05:00:00\\\\\n",
       "\t 2013 & 2 & 1 & 520 & 525 & -5 &  816 &  820 &  -4 & UA & 1018 & N24211 & EWR & IAH & 209 & 1400 & 5 & 25 & 2013-02-01 05:00:00\\\\\n",
       "\t 2013 & 2 & 1 & 527 & 530 & -3 &  837 &  829 &   8 & UA &  650 & N470UA & LGA & IAH & 233 & 1416 & 5 & 30 & 2013-02-01 05:00:00\\\\\n",
       "\t 2013 & 2 & 1 & 532 & 540 & -8 & 1007 & 1017 & -10 & B6 &  725 & N554JB & JFK & BQN & 195 & 1576 & 5 & 40 & 2013-02-01 05:00:00\\\\\n",
       "\t 2013 & 2 & 1 & 540 & 540 &  0 &  859 &  850 &   9 & AA & 1141 & N615AA & JFK & MIA & 169 & 1089 & 5 & 40 & 2013-02-01 05:00:00\\\\\n",
       "\t 2013 & 2 & 1 & 552 & 600 & -8 &  714 &  715 &  -1 & EV & 5716 & N829AS & JFK & IAD &  58 &  228 & 6 &  0 & 2013-02-01 06:00:00\\\\\n",
       "\\end{tabular}\n"
      ],
      "text/markdown": [
       "\n",
       "A tibble: 6 × 19\n",
       "\n",
       "| year &lt;int&gt; | month &lt;int&gt; | day &lt;int&gt; | dep_time &lt;int&gt; | sched_dep_time &lt;int&gt; | dep_delay &lt;dbl&gt; | arr_time &lt;int&gt; | sched_arr_time &lt;int&gt; | arr_delay &lt;dbl&gt; | carrier &lt;chr&gt; | flight &lt;int&gt; | tailnum &lt;chr&gt; | origin &lt;chr&gt; | dest &lt;chr&gt; | air_time &lt;dbl&gt; | distance &lt;dbl&gt; | hour &lt;dbl&gt; | minute &lt;dbl&gt; | time_hour &lt;dttm&gt; |\n",
       "|---|---|---|---|---|---|---|---|---|---|---|---|---|---|---|---|---|---|---|\n",
       "| 2013 | 2 | 1 | 456 | 500 | -4 |  652 |  648 |   4 | US | 1117 | N197UW | EWR | CLT |  98 |  529 | 5 |  0 | 2013-02-01 05:00:00 |\n",
       "| 2013 | 2 | 1 | 520 | 525 | -5 |  816 |  820 |  -4 | UA | 1018 | N24211 | EWR | IAH | 209 | 1400 | 5 | 25 | 2013-02-01 05:00:00 |\n",
       "| 2013 | 2 | 1 | 527 | 530 | -3 |  837 |  829 |   8 | UA |  650 | N470UA | LGA | IAH | 233 | 1416 | 5 | 30 | 2013-02-01 05:00:00 |\n",
       "| 2013 | 2 | 1 | 532 | 540 | -8 | 1007 | 1017 | -10 | B6 |  725 | N554JB | JFK | BQN | 195 | 1576 | 5 | 40 | 2013-02-01 05:00:00 |\n",
       "| 2013 | 2 | 1 | 540 | 540 |  0 |  859 |  850 |   9 | AA | 1141 | N615AA | JFK | MIA | 169 | 1089 | 5 | 40 | 2013-02-01 05:00:00 |\n",
       "| 2013 | 2 | 1 | 552 | 600 | -8 |  714 |  715 |  -1 | EV | 5716 | N829AS | JFK | IAD |  58 |  228 | 6 |  0 | 2013-02-01 06:00:00 |\n",
       "\n"
      ],
      "text/plain": [
       "  year month day dep_time sched_dep_time dep_delay arr_time sched_arr_time\n",
       "1 2013 2     1   456      500            -4         652      648          \n",
       "2 2013 2     1   520      525            -5         816      820          \n",
       "3 2013 2     1   527      530            -3         837      829          \n",
       "4 2013 2     1   532      540            -8        1007     1017          \n",
       "5 2013 2     1   540      540             0         859      850          \n",
       "6 2013 2     1   552      600            -8         714      715          \n",
       "  arr_delay carrier flight tailnum origin dest air_time distance hour minute\n",
       "1   4       US      1117   N197UW  EWR    CLT   98       529     5     0    \n",
       "2  -4       UA      1018   N24211  EWR    IAH  209      1400     5    25    \n",
       "3   8       UA       650   N470UA  LGA    IAH  233      1416     5    30    \n",
       "4 -10       B6       725   N554JB  JFK    BQN  195      1576     5    40    \n",
       "5   9       AA      1141   N615AA  JFK    MIA  169      1089     5    40    \n",
       "6  -1       EV      5716   N829AS  JFK    IAD   58       228     6     0    \n",
       "  time_hour          \n",
       "1 2013-02-01 05:00:00\n",
       "2 2013-02-01 05:00:00\n",
       "3 2013-02-01 05:00:00\n",
       "4 2013-02-01 05:00:00\n",
       "5 2013-02-01 05:00:00\n",
       "6 2013-02-01 06:00:00"
      ]
     },
     "metadata": {},
     "output_type": "display_data"
    }
   ],
   "source": [
    "# 实践一下，找出8月中旬的航班与12月的航班\n",
    "head(eord <- filter(flights, month == 8 & day >= 10 & day <= 20 | month == 2))"
   ]
  },
  {
   "cell_type": "code",
   "execution_count": 55,
   "metadata": {},
   "outputs": [
    {
     "data": {
      "text/html": [
       "<ol class=list-inline>\n",
       "\t<li>2</li>\n",
       "\t<li>8</li>\n",
       "</ol>\n"
      ],
      "text/latex": [
       "\\begin{enumerate*}\n",
       "\\item 2\n",
       "\\item 8\n",
       "\\end{enumerate*}\n"
      ],
      "text/markdown": [
       "1. 2\n",
       "2. 8\n",
       "\n",
       "\n"
      ],
      "text/plain": [
       "[1] 2 8"
      ]
     },
     "metadata": {},
     "output_type": "display_data"
    },
    {
     "data": {
      "text/html": [
       "<table>\n",
       "<caption>A matrix: 1 × 11 of type int</caption>\n",
       "<tbody>\n",
       "\t<tr><td>10</td><td>11</td><td>12</td><td>13</td><td>14</td><td>15</td><td>16</td><td>17</td><td>18</td><td>19</td><td>20</td></tr>\n",
       "</tbody>\n",
       "</table>\n"
      ],
      "text/latex": [
       "A matrix: 1 × 11 of type int\n",
       "\\begin{tabular}{lllllllllll}\n",
       "\t 10 & 11 & 12 & 13 & 14 & 15 & 16 & 17 & 18 & 19 & 20\\\\\n",
       "\\end{tabular}\n"
      ],
      "text/markdown": [
       "\n",
       "A matrix: 1 × 11 of type int\n",
       "\n",
       "| 10 | 11 | 12 | 13 | 14 | 15 | 16 | 17 | 18 | 19 | 20 |\n",
       "\n"
      ],
      "text/plain": [
       "     [,1] [,2] [,3] [,4] [,5] [,6] [,7] [,8] [,9] [,10] [,11]\n",
       "[1,] 10   11   12   13   14   15   16   17   18   19    20   "
      ]
     },
     "metadata": {},
     "output_type": "display_data"
    },
    {
     "data": {
      "text/html": [
       "<table>\n",
       "<caption>A matrix: 4 × 7 of type int</caption>\n",
       "<tbody>\n",
       "\t<tr><td> 1</td><td> 2</td><td> 3</td><td> 4</td><td> 5</td><td> 6</td><td> 7</td></tr>\n",
       "\t<tr><td> 8</td><td> 9</td><td>10</td><td>11</td><td>12</td><td>13</td><td>14</td></tr>\n",
       "\t<tr><td>15</td><td>16</td><td>17</td><td>18</td><td>19</td><td>20</td><td>21</td></tr>\n",
       "\t<tr><td>22</td><td>23</td><td>24</td><td>25</td><td>26</td><td>27</td><td>28</td></tr>\n",
       "</tbody>\n",
       "</table>\n"
      ],
      "text/latex": [
       "A matrix: 4 × 7 of type int\n",
       "\\begin{tabular}{lllllll}\n",
       "\t  1 &  2 &  3 &  4 &  5 &  6 &  7\\\\\n",
       "\t  8 &  9 & 10 & 11 & 12 & 13 & 14\\\\\n",
       "\t 15 & 16 & 17 & 18 & 19 & 20 & 21\\\\\n",
       "\t 22 & 23 & 24 & 25 & 26 & 27 & 28\\\\\n",
       "\\end{tabular}\n"
      ],
      "text/markdown": [
       "\n",
       "A matrix: 4 × 7 of type int\n",
       "\n",
       "|  1 |  2 |  3 |  4 |  5 |  6 |  7 |\n",
       "|  8 |  9 | 10 | 11 | 12 | 13 | 14 |\n",
       "| 15 | 16 | 17 | 18 | 19 | 20 | 21 |\n",
       "| 22 | 23 | 24 | 25 | 26 | 27 | 28 |\n",
       "\n"
      ],
      "text/plain": [
       "     [,1] [,2] [,3] [,4] [,5] [,6] [,7]\n",
       "[1,]  1    2    3    4    5    6    7  \n",
       "[2,]  8    9   10   11   12   13   14  \n",
       "[3,] 15   16   17   18   19   20   21  \n",
       "[4,] 22   23   24   25   26   27   28  "
      ]
     },
     "metadata": {},
     "output_type": "display_data"
    }
   ],
   "source": [
    "# 检查一下上面筛选的有没有问题\n",
    "# 使用t()函数转置一下\n",
    "\n",
    "unique(eord$month)#是否只有8月和12月\n",
    "\n",
    "t(unique(filter(eord, month == 8)$day))# 8月是否是中旬\n",
    "\n",
    "matrix(unique(filter(eord, month == 2)$day),ncol = 7, byrow = T)# 12月是否是全月\n",
    "# 为了显示，转成了矩阵，,刚好2月是7的整数倍，不然不足的就自动填充了"
   ]
  },
  {
   "cell_type": "markdown",
   "metadata": {},
   "source": [
    "复杂的表达式最好用小括号括起来，看起来更清楚，而且很多复杂表达式可以简化\n",
    "\n",
    "还有一种操作是\"%in%\""
   ]
  },
  {
   "cell_type": "code",
   "execution_count": 56,
   "metadata": {},
   "outputs": [
    {
     "data": {
      "text/html": [
       "<table>\n",
       "<caption>A tibble: 6 × 19</caption>\n",
       "<thead>\n",
       "\t<tr><th scope=col>year</th><th scope=col>month</th><th scope=col>day</th><th scope=col>dep_time</th><th scope=col>sched_dep_time</th><th scope=col>dep_delay</th><th scope=col>arr_time</th><th scope=col>sched_arr_time</th><th scope=col>arr_delay</th><th scope=col>carrier</th><th scope=col>flight</th><th scope=col>tailnum</th><th scope=col>origin</th><th scope=col>dest</th><th scope=col>air_time</th><th scope=col>distance</th><th scope=col>hour</th><th scope=col>minute</th><th scope=col>time_hour</th></tr>\n",
       "\t<tr><th scope=col>&lt;int&gt;</th><th scope=col>&lt;int&gt;</th><th scope=col>&lt;int&gt;</th><th scope=col>&lt;int&gt;</th><th scope=col>&lt;int&gt;</th><th scope=col>&lt;dbl&gt;</th><th scope=col>&lt;int&gt;</th><th scope=col>&lt;int&gt;</th><th scope=col>&lt;dbl&gt;</th><th scope=col>&lt;chr&gt;</th><th scope=col>&lt;int&gt;</th><th scope=col>&lt;chr&gt;</th><th scope=col>&lt;chr&gt;</th><th scope=col>&lt;chr&gt;</th><th scope=col>&lt;dbl&gt;</th><th scope=col>&lt;dbl&gt;</th><th scope=col>&lt;dbl&gt;</th><th scope=col>&lt;dbl&gt;</th><th scope=col>&lt;dttm&gt;</th></tr>\n",
       "</thead>\n",
       "<tbody>\n",
       "\t<tr><td>2013</td><td>7</td><td>1</td><td> 1</td><td>2029</td><td>212</td><td>236</td><td>2359</td><td>157</td><td>B6</td><td> 915</td><td>N653JB</td><td>JFK</td><td>SFO</td><td>315</td><td>2586</td><td>20</td><td>29</td><td>2013-07-01 20:00:00</td></tr>\n",
       "\t<tr><td>2013</td><td>7</td><td>1</td><td> 2</td><td>2359</td><td>  3</td><td>344</td><td> 344</td><td>  0</td><td>B6</td><td>1503</td><td>N805JB</td><td>JFK</td><td>SJU</td><td>200</td><td>1598</td><td>23</td><td>59</td><td>2013-07-01 23:00:00</td></tr>\n",
       "\t<tr><td>2013</td><td>7</td><td>1</td><td>29</td><td>2245</td><td>104</td><td>151</td><td>   1</td><td>110</td><td>B6</td><td> 234</td><td>N348JB</td><td>JFK</td><td>BTV</td><td> 66</td><td> 266</td><td>22</td><td>45</td><td>2013-07-01 22:00:00</td></tr>\n",
       "\t<tr><td>2013</td><td>7</td><td>1</td><td>43</td><td>2130</td><td>193</td><td>322</td><td>  14</td><td>188</td><td>B6</td><td>1371</td><td>N794JB</td><td>LGA</td><td>FLL</td><td>143</td><td>1076</td><td>21</td><td>30</td><td>2013-07-01 21:00:00</td></tr>\n",
       "\t<tr><td>2013</td><td>7</td><td>1</td><td>44</td><td>2150</td><td>174</td><td>300</td><td> 100</td><td>120</td><td>AA</td><td> 185</td><td>N324AA</td><td>JFK</td><td>LAX</td><td>297</td><td>2475</td><td>21</td><td>50</td><td>2013-07-01 21:00:00</td></tr>\n",
       "\t<tr><td>2013</td><td>7</td><td>1</td><td>46</td><td>2051</td><td>235</td><td>304</td><td>2358</td><td>186</td><td>B6</td><td> 165</td><td>N640JB</td><td>JFK</td><td>PDX</td><td>304</td><td>2454</td><td>20</td><td>51</td><td>2013-07-01 20:00:00</td></tr>\n",
       "</tbody>\n",
       "</table>\n"
      ],
      "text/latex": [
       "A tibble: 6 × 19\n",
       "\\begin{tabular}{r|lllllllllllllllllll}\n",
       " year & month & day & dep\\_time & sched\\_dep\\_time & dep\\_delay & arr\\_time & sched\\_arr\\_time & arr\\_delay & carrier & flight & tailnum & origin & dest & air\\_time & distance & hour & minute & time\\_hour\\\\\n",
       " <int> & <int> & <int> & <int> & <int> & <dbl> & <int> & <int> & <dbl> & <chr> & <int> & <chr> & <chr> & <chr> & <dbl> & <dbl> & <dbl> & <dbl> & <dttm>\\\\\n",
       "\\hline\n",
       "\t 2013 & 7 & 1 &  1 & 2029 & 212 & 236 & 2359 & 157 & B6 &  915 & N653JB & JFK & SFO & 315 & 2586 & 20 & 29 & 2013-07-01 20:00:00\\\\\n",
       "\t 2013 & 7 & 1 &  2 & 2359 &   3 & 344 &  344 &   0 & B6 & 1503 & N805JB & JFK & SJU & 200 & 1598 & 23 & 59 & 2013-07-01 23:00:00\\\\\n",
       "\t 2013 & 7 & 1 & 29 & 2245 & 104 & 151 &    1 & 110 & B6 &  234 & N348JB & JFK & BTV &  66 &  266 & 22 & 45 & 2013-07-01 22:00:00\\\\\n",
       "\t 2013 & 7 & 1 & 43 & 2130 & 193 & 322 &   14 & 188 & B6 & 1371 & N794JB & LGA & FLL & 143 & 1076 & 21 & 30 & 2013-07-01 21:00:00\\\\\n",
       "\t 2013 & 7 & 1 & 44 & 2150 & 174 & 300 &  100 & 120 & AA &  185 & N324AA & JFK & LAX & 297 & 2475 & 21 & 50 & 2013-07-01 21:00:00\\\\\n",
       "\t 2013 & 7 & 1 & 46 & 2051 & 235 & 304 & 2358 & 186 & B6 &  165 & N640JB & JFK & PDX & 304 & 2454 & 20 & 51 & 2013-07-01 20:00:00\\\\\n",
       "\\end{tabular}\n"
      ],
      "text/markdown": [
       "\n",
       "A tibble: 6 × 19\n",
       "\n",
       "| year &lt;int&gt; | month &lt;int&gt; | day &lt;int&gt; | dep_time &lt;int&gt; | sched_dep_time &lt;int&gt; | dep_delay &lt;dbl&gt; | arr_time &lt;int&gt; | sched_arr_time &lt;int&gt; | arr_delay &lt;dbl&gt; | carrier &lt;chr&gt; | flight &lt;int&gt; | tailnum &lt;chr&gt; | origin &lt;chr&gt; | dest &lt;chr&gt; | air_time &lt;dbl&gt; | distance &lt;dbl&gt; | hour &lt;dbl&gt; | minute &lt;dbl&gt; | time_hour &lt;dttm&gt; |\n",
       "|---|---|---|---|---|---|---|---|---|---|---|---|---|---|---|---|---|---|---|\n",
       "| 2013 | 7 | 1 |  1 | 2029 | 212 | 236 | 2359 | 157 | B6 |  915 | N653JB | JFK | SFO | 315 | 2586 | 20 | 29 | 2013-07-01 20:00:00 |\n",
       "| 2013 | 7 | 1 |  2 | 2359 |   3 | 344 |  344 |   0 | B6 | 1503 | N805JB | JFK | SJU | 200 | 1598 | 23 | 59 | 2013-07-01 23:00:00 |\n",
       "| 2013 | 7 | 1 | 29 | 2245 | 104 | 151 |    1 | 110 | B6 |  234 | N348JB | JFK | BTV |  66 |  266 | 22 | 45 | 2013-07-01 22:00:00 |\n",
       "| 2013 | 7 | 1 | 43 | 2130 | 193 | 322 |   14 | 188 | B6 | 1371 | N794JB | LGA | FLL | 143 | 1076 | 21 | 30 | 2013-07-01 21:00:00 |\n",
       "| 2013 | 7 | 1 | 44 | 2150 | 174 | 300 |  100 | 120 | AA |  185 | N324AA | JFK | LAX | 297 | 2475 | 21 | 50 | 2013-07-01 21:00:00 |\n",
       "| 2013 | 7 | 1 | 46 | 2051 | 235 | 304 | 2358 | 186 | B6 |  165 | N640JB | JFK | PDX | 304 | 2454 | 20 | 51 | 2013-07-01 20:00:00 |\n",
       "\n"
      ],
      "text/plain": [
       "  year month day dep_time sched_dep_time dep_delay arr_time sched_arr_time\n",
       "1 2013 7     1    1       2029           212       236      2359          \n",
       "2 2013 7     1    2       2359             3       344       344          \n",
       "3 2013 7     1   29       2245           104       151         1          \n",
       "4 2013 7     1   43       2130           193       322        14          \n",
       "5 2013 7     1   44       2150           174       300       100          \n",
       "6 2013 7     1   46       2051           235       304      2358          \n",
       "  arr_delay carrier flight tailnum origin dest air_time distance hour minute\n",
       "1 157       B6       915   N653JB  JFK    SFO  315      2586     20   29    \n",
       "2   0       B6      1503   N805JB  JFK    SJU  200      1598     23   59    \n",
       "3 110       B6       234   N348JB  JFK    BTV   66       266     22   45    \n",
       "4 188       B6      1371   N794JB  LGA    FLL  143      1076     21   30    \n",
       "5 120       AA       185   N324AA  JFK    LAX  297      2475     21   50    \n",
       "6 186       B6       165   N640JB  JFK    PDX  304      2454     20   51    \n",
       "  time_hour          \n",
       "1 2013-07-01 20:00:00\n",
       "2 2013-07-01 23:00:00\n",
       "3 2013-07-01 22:00:00\n",
       "4 2013-07-01 21:00:00\n",
       "5 2013-07-01 21:00:00\n",
       "6 2013-07-01 20:00:00"
      ]
     },
     "metadata": {},
     "output_type": "display_data"
    },
    {
     "data": {
      "text/html": [
       "<table>\n",
       "<caption>A tibble: 6 × 19</caption>\n",
       "<thead>\n",
       "\t<tr><th scope=col>year</th><th scope=col>month</th><th scope=col>day</th><th scope=col>dep_time</th><th scope=col>sched_dep_time</th><th scope=col>dep_delay</th><th scope=col>arr_time</th><th scope=col>sched_arr_time</th><th scope=col>arr_delay</th><th scope=col>carrier</th><th scope=col>flight</th><th scope=col>tailnum</th><th scope=col>origin</th><th scope=col>dest</th><th scope=col>air_time</th><th scope=col>distance</th><th scope=col>hour</th><th scope=col>minute</th><th scope=col>time_hour</th></tr>\n",
       "\t<tr><th scope=col>&lt;int&gt;</th><th scope=col>&lt;int&gt;</th><th scope=col>&lt;int&gt;</th><th scope=col>&lt;int&gt;</th><th scope=col>&lt;int&gt;</th><th scope=col>&lt;dbl&gt;</th><th scope=col>&lt;int&gt;</th><th scope=col>&lt;int&gt;</th><th scope=col>&lt;dbl&gt;</th><th scope=col>&lt;chr&gt;</th><th scope=col>&lt;int&gt;</th><th scope=col>&lt;chr&gt;</th><th scope=col>&lt;chr&gt;</th><th scope=col>&lt;chr&gt;</th><th scope=col>&lt;dbl&gt;</th><th scope=col>&lt;dbl&gt;</th><th scope=col>&lt;dbl&gt;</th><th scope=col>&lt;dbl&gt;</th><th scope=col>&lt;dttm&gt;</th></tr>\n",
       "</thead>\n",
       "<tbody>\n",
       "\t<tr><td>2013</td><td>9</td><td>30</td><td>NA</td><td>1842</td><td>NA</td><td>NA</td><td>2019</td><td>NA</td><td>EV</td><td>5274</td><td>N740EV</td><td>LGA</td><td>BNA</td><td>NA</td><td>764</td><td>18</td><td>42</td><td>2013-09-30 18:00:00</td></tr>\n",
       "\t<tr><td>2013</td><td>9</td><td>30</td><td>NA</td><td>1455</td><td>NA</td><td>NA</td><td>1634</td><td>NA</td><td>9E</td><td>3393</td><td>NA    </td><td>JFK</td><td>DCA</td><td>NA</td><td>213</td><td>14</td><td>55</td><td>2013-09-30 14:00:00</td></tr>\n",
       "\t<tr><td>2013</td><td>9</td><td>30</td><td>NA</td><td>2200</td><td>NA</td><td>NA</td><td>2312</td><td>NA</td><td>9E</td><td>3525</td><td>NA    </td><td>LGA</td><td>SYR</td><td>NA</td><td>198</td><td>22</td><td> 0</td><td>2013-09-30 22:00:00</td></tr>\n",
       "\t<tr><td>2013</td><td>9</td><td>30</td><td>NA</td><td>1210</td><td>NA</td><td>NA</td><td>1330</td><td>NA</td><td>MQ</td><td>3461</td><td>N535MQ</td><td>LGA</td><td>BNA</td><td>NA</td><td>764</td><td>12</td><td>10</td><td>2013-09-30 12:00:00</td></tr>\n",
       "\t<tr><td>2013</td><td>9</td><td>30</td><td>NA</td><td>1159</td><td>NA</td><td>NA</td><td>1344</td><td>NA</td><td>MQ</td><td>3572</td><td>N511MQ</td><td>LGA</td><td>CLE</td><td>NA</td><td>419</td><td>11</td><td>59</td><td>2013-09-30 11:00:00</td></tr>\n",
       "\t<tr><td>2013</td><td>9</td><td>30</td><td>NA</td><td> 840</td><td>NA</td><td>NA</td><td>1020</td><td>NA</td><td>MQ</td><td>3531</td><td>N839MQ</td><td>LGA</td><td>RDU</td><td>NA</td><td>431</td><td> 8</td><td>40</td><td>2013-09-30 08:00:00</td></tr>\n",
       "</tbody>\n",
       "</table>\n"
      ],
      "text/latex": [
       "A tibble: 6 × 19\n",
       "\\begin{tabular}{r|lllllllllllllllllll}\n",
       " year & month & day & dep\\_time & sched\\_dep\\_time & dep\\_delay & arr\\_time & sched\\_arr\\_time & arr\\_delay & carrier & flight & tailnum & origin & dest & air\\_time & distance & hour & minute & time\\_hour\\\\\n",
       " <int> & <int> & <int> & <int> & <int> & <dbl> & <int> & <int> & <dbl> & <chr> & <int> & <chr> & <chr> & <chr> & <dbl> & <dbl> & <dbl> & <dbl> & <dttm>\\\\\n",
       "\\hline\n",
       "\t 2013 & 9 & 30 & NA & 1842 & NA & NA & 2019 & NA & EV & 5274 & N740EV & LGA & BNA & NA & 764 & 18 & 42 & 2013-09-30 18:00:00\\\\\n",
       "\t 2013 & 9 & 30 & NA & 1455 & NA & NA & 1634 & NA & 9E & 3393 & NA     & JFK & DCA & NA & 213 & 14 & 55 & 2013-09-30 14:00:00\\\\\n",
       "\t 2013 & 9 & 30 & NA & 2200 & NA & NA & 2312 & NA & 9E & 3525 & NA     & LGA & SYR & NA & 198 & 22 &  0 & 2013-09-30 22:00:00\\\\\n",
       "\t 2013 & 9 & 30 & NA & 1210 & NA & NA & 1330 & NA & MQ & 3461 & N535MQ & LGA & BNA & NA & 764 & 12 & 10 & 2013-09-30 12:00:00\\\\\n",
       "\t 2013 & 9 & 30 & NA & 1159 & NA & NA & 1344 & NA & MQ & 3572 & N511MQ & LGA & CLE & NA & 419 & 11 & 59 & 2013-09-30 11:00:00\\\\\n",
       "\t 2013 & 9 & 30 & NA &  840 & NA & NA & 1020 & NA & MQ & 3531 & N839MQ & LGA & RDU & NA & 431 &  8 & 40 & 2013-09-30 08:00:00\\\\\n",
       "\\end{tabular}\n"
      ],
      "text/markdown": [
       "\n",
       "A tibble: 6 × 19\n",
       "\n",
       "| year &lt;int&gt; | month &lt;int&gt; | day &lt;int&gt; | dep_time &lt;int&gt; | sched_dep_time &lt;int&gt; | dep_delay &lt;dbl&gt; | arr_time &lt;int&gt; | sched_arr_time &lt;int&gt; | arr_delay &lt;dbl&gt; | carrier &lt;chr&gt; | flight &lt;int&gt; | tailnum &lt;chr&gt; | origin &lt;chr&gt; | dest &lt;chr&gt; | air_time &lt;dbl&gt; | distance &lt;dbl&gt; | hour &lt;dbl&gt; | minute &lt;dbl&gt; | time_hour &lt;dttm&gt; |\n",
       "|---|---|---|---|---|---|---|---|---|---|---|---|---|---|---|---|---|---|---|\n",
       "| 2013 | 9 | 30 | NA | 1842 | NA | NA | 2019 | NA | EV | 5274 | N740EV | LGA | BNA | NA | 764 | 18 | 42 | 2013-09-30 18:00:00 |\n",
       "| 2013 | 9 | 30 | NA | 1455 | NA | NA | 1634 | NA | 9E | 3393 | NA     | JFK | DCA | NA | 213 | 14 | 55 | 2013-09-30 14:00:00 |\n",
       "| 2013 | 9 | 30 | NA | 2200 | NA | NA | 2312 | NA | 9E | 3525 | NA     | LGA | SYR | NA | 198 | 22 |  0 | 2013-09-30 22:00:00 |\n",
       "| 2013 | 9 | 30 | NA | 1210 | NA | NA | 1330 | NA | MQ | 3461 | N535MQ | LGA | BNA | NA | 764 | 12 | 10 | 2013-09-30 12:00:00 |\n",
       "| 2013 | 9 | 30 | NA | 1159 | NA | NA | 1344 | NA | MQ | 3572 | N511MQ | LGA | CLE | NA | 419 | 11 | 59 | 2013-09-30 11:00:00 |\n",
       "| 2013 | 9 | 30 | NA |  840 | NA | NA | 1020 | NA | MQ | 3531 | N839MQ | LGA | RDU | NA | 431 |  8 | 40 | 2013-09-30 08:00:00 |\n",
       "\n"
      ],
      "text/plain": [
       "  year month day dep_time sched_dep_time dep_delay arr_time sched_arr_time\n",
       "1 2013 9     30  NA       1842           NA        NA       2019          \n",
       "2 2013 9     30  NA       1455           NA        NA       1634          \n",
       "3 2013 9     30  NA       2200           NA        NA       2312          \n",
       "4 2013 9     30  NA       1210           NA        NA       1330          \n",
       "5 2013 9     30  NA       1159           NA        NA       1344          \n",
       "6 2013 9     30  NA        840           NA        NA       1020          \n",
       "  arr_delay carrier flight tailnum origin dest air_time distance hour minute\n",
       "1 NA        EV      5274   N740EV  LGA    BNA  NA       764      18   42    \n",
       "2 NA        9E      3393   NA      JFK    DCA  NA       213      14   55    \n",
       "3 NA        9E      3525   NA      LGA    SYR  NA       198      22    0    \n",
       "4 NA        MQ      3461   N535MQ  LGA    BNA  NA       764      12   10    \n",
       "5 NA        MQ      3572   N511MQ  LGA    CLE  NA       419      11   59    \n",
       "6 NA        MQ      3531   N839MQ  LGA    RDU  NA       431       8   40    \n",
       "  time_hour          \n",
       "1 2013-09-30 18:00:00\n",
       "2 2013-09-30 14:00:00\n",
       "3 2013-09-30 22:00:00\n",
       "4 2013-09-30 12:00:00\n",
       "5 2013-09-30 11:00:00\n",
       "6 2013-09-30 08:00:00"
      ]
     },
     "metadata": {},
     "output_type": "display_data"
    }
   ],
   "source": [
    "# 筛选出7-9月的航班\n",
    "head(filter(flights, month %in% c(7:9)))\n",
    "tail(filter(flights, month %in% c(7:9)))"
   ]
  },
  {
   "cell_type": "markdown",
   "metadata": {},
   "source": [
    "缺失值\"NA\"是一个复杂的问题，***filter()***函数会自动排除缺失值的行，\n",
    "***is.na()***可以判别是否是缺失值"
   ]
  },
  {
   "cell_type": "markdown",
   "metadata": {},
   "source": [
    "书上说可以用***between()***函数简化一些代码，不知如何实现"
   ]
  },
  {
   "cell_type": "markdown",
   "metadata": {},
   "source": [
    "## 使用arrange()排列行"
   ]
  },
  {
   "cell_type": "code",
   "execution_count": 57,
   "metadata": {},
   "outputs": [
    {
     "data": {
      "text/html": [
       "<table>\n",
       "<caption>A tibble: 336776 × 19</caption>\n",
       "<thead>\n",
       "\t<tr><th scope=col>year</th><th scope=col>month</th><th scope=col>day</th><th scope=col>dep_time</th><th scope=col>sched_dep_time</th><th scope=col>dep_delay</th><th scope=col>arr_time</th><th scope=col>sched_arr_time</th><th scope=col>arr_delay</th><th scope=col>carrier</th><th scope=col>flight</th><th scope=col>tailnum</th><th scope=col>origin</th><th scope=col>dest</th><th scope=col>air_time</th><th scope=col>distance</th><th scope=col>hour</th><th scope=col>minute</th><th scope=col>time_hour</th></tr>\n",
       "\t<tr><th scope=col>&lt;int&gt;</th><th scope=col>&lt;int&gt;</th><th scope=col>&lt;int&gt;</th><th scope=col>&lt;int&gt;</th><th scope=col>&lt;int&gt;</th><th scope=col>&lt;dbl&gt;</th><th scope=col>&lt;int&gt;</th><th scope=col>&lt;int&gt;</th><th scope=col>&lt;dbl&gt;</th><th scope=col>&lt;chr&gt;</th><th scope=col>&lt;int&gt;</th><th scope=col>&lt;chr&gt;</th><th scope=col>&lt;chr&gt;</th><th scope=col>&lt;chr&gt;</th><th scope=col>&lt;dbl&gt;</th><th scope=col>&lt;dbl&gt;</th><th scope=col>&lt;dbl&gt;</th><th scope=col>&lt;dbl&gt;</th><th scope=col>&lt;dttm&gt;</th></tr>\n",
       "</thead>\n",
       "<tbody>\n",
       "\t<tr><td>2013</td><td>12</td><td>1</td><td>NA</td><td>1200</td><td>NA</td><td>NA</td><td>1314</td><td>NA</td><td>9E</td><td>2902</td><td>NA    </td><td>JFK</td><td>BOS</td><td>NA</td><td> 187</td><td>12</td><td> 0</td><td>2013-12-01 12:00:00</td></tr>\n",
       "\t<tr><td>2013</td><td>12</td><td>1</td><td>NA</td><td> 830</td><td>NA</td><td>NA</td><td>1039</td><td>NA</td><td>9E</td><td>3385</td><td>NA    </td><td>EWR</td><td>MSP</td><td>NA</td><td>1008</td><td> 8</td><td>30</td><td>2013-12-01 08:00:00</td></tr>\n",
       "\t<tr><td>2013</td><td>12</td><td>1</td><td>NA</td><td>2229</td><td>NA</td><td>NA</td><td>2343</td><td>NA</td><td>B6</td><td> 234</td><td>N192JB</td><td>JFK</td><td>BTV</td><td>NA</td><td> 266</td><td>22</td><td>29</td><td>2013-12-01 22:00:00</td></tr>\n",
       "\t<tr><td>2013</td><td>12</td><td>1</td><td>NA</td><td> 631</td><td>NA</td><td>NA</td><td> 742</td><td>NA</td><td>EV</td><td>4194</td><td>N13975</td><td>EWR</td><td>DCA</td><td>NA</td><td> 199</td><td> 6</td><td>31</td><td>2013-12-01 06:00:00</td></tr>\n",
       "\t<tr><td>2013</td><td>12</td><td>1</td><td>NA</td><td> 620</td><td>NA</td><td>NA</td><td> 826</td><td>NA</td><td>EV</td><td>5178</td><td>N614QX</td><td>EWR</td><td>MSP</td><td>NA</td><td>1008</td><td> 6</td><td>20</td><td>2013-12-01 06:00:00</td></tr>\n",
       "\t<tr><td>2013</td><td>12</td><td>1</td><td>NA</td><td> 700</td><td>NA</td><td>NA</td><td> 834</td><td>NA</td><td>UA</td><td> 643</td><td>NA    </td><td>EWR</td><td>ORD</td><td>NA</td><td> 719</td><td> 7</td><td> 0</td><td>2013-12-01 07:00:00</td></tr>\n",
       "\t<tr><td>2013</td><td>12</td><td>2</td><td>NA</td><td>1050</td><td>NA</td><td>NA</td><td>1259</td><td>NA</td><td>EV</td><td>3852</td><td>N16963</td><td>EWR</td><td>DTW</td><td>NA</td><td> 488</td><td>10</td><td>50</td><td>2013-12-02 10:00:00</td></tr>\n",
       "\t<tr><td>2013</td><td>12</td><td>2</td><td>NA</td><td>1010</td><td>NA</td><td>NA</td><td>1129</td><td>NA</td><td>EV</td><td>5736</td><td>N820AS</td><td>LGA</td><td>IAD</td><td>NA</td><td> 229</td><td>10</td><td>10</td><td>2013-12-02 10:00:00</td></tr>\n",
       "\t<tr><td>2013</td><td>12</td><td>2</td><td>NA</td><td>1845</td><td>NA</td><td>NA</td><td>2026</td><td>NA</td><td>EV</td><td>5274</td><td>N709EV</td><td>LGA</td><td>BNA</td><td>NA</td><td> 764</td><td>18</td><td>45</td><td>2013-12-02 18:00:00</td></tr>\n",
       "\t<tr><td>2013</td><td>12</td><td>3</td><td>NA</td><td>1640</td><td>NA</td><td>NA</td><td>1838</td><td>NA</td><td>EV</td><td>5147</td><td>N744EV</td><td>LGA</td><td>CLE</td><td>NA</td><td> 419</td><td>16</td><td>40</td><td>2013-12-03 16:00:00</td></tr>\n",
       "\t<tr><td>2013</td><td>12</td><td>3</td><td>NA</td><td> 915</td><td>NA</td><td>NA</td><td>1056</td><td>NA</td><td>EV</td><td>5337</td><td>N709EV</td><td>LGA</td><td>ORF</td><td>NA</td><td> 296</td><td> 9</td><td>15</td><td>2013-12-03 09:00:00</td></tr>\n",
       "\t<tr><td>2013</td><td>12</td><td>3</td><td>NA</td><td>1845</td><td>NA</td><td>NA</td><td>2040</td><td>NA</td><td>MQ</td><td>3349</td><td>N546MQ</td><td>LGA</td><td>MSP</td><td>NA</td><td>1020</td><td>18</td><td>45</td><td>2013-12-03 18:00:00</td></tr>\n",
       "\t<tr><td>2013</td><td>12</td><td>4</td><td>NA</td><td>1025</td><td>NA</td><td>NA</td><td>1127</td><td>NA</td><td>B6</td><td> 518</td><td>N267JB</td><td>JFK</td><td>BOS</td><td>NA</td><td> 187</td><td>10</td><td>25</td><td>2013-12-04 10:00:00</td></tr>\n",
       "\t<tr><td>2013</td><td>12</td><td>4</td><td>NA</td><td>1259</td><td>NA</td><td>NA</td><td>1454</td><td>NA</td><td>MQ</td><td>3388</td><td>N817MQ</td><td>LGA</td><td>CMH</td><td>NA</td><td> 479</td><td>12</td><td>59</td><td>2013-12-04 12:00:00</td></tr>\n",
       "\t<tr><td>2013</td><td>12</td><td>4</td><td>NA</td><td>1020</td><td>NA</td><td>NA</td><td>1205</td><td>NA</td><td>MQ</td><td>3466</td><td>N857MQ</td><td>LGA</td><td>RDU</td><td>NA</td><td> 431</td><td>10</td><td>20</td><td>2013-12-04 10:00:00</td></tr>\n",
       "\t<tr><td>2013</td><td>12</td><td>4</td><td>NA</td><td>1155</td><td>NA</td><td>NA</td><td>1355</td><td>NA</td><td>MQ</td><td>3616</td><td>N514MQ</td><td>LGA</td><td>MSP</td><td>NA</td><td>1020</td><td>11</td><td>55</td><td>2013-12-04 11:00:00</td></tr>\n",
       "\t<tr><td>2013</td><td>12</td><td>4</td><td>NA</td><td>1845</td><td>NA</td><td>NA</td><td>2040</td><td>NA</td><td>MQ</td><td>3349</td><td>N507MQ</td><td>LGA</td><td>MSP</td><td>NA</td><td>1020</td><td>18</td><td>45</td><td>2013-12-04 18:00:00</td></tr>\n",
       "\t<tr><td>2013</td><td>12</td><td>4</td><td>NA</td><td>1359</td><td>NA</td><td>NA</td><td>1530</td><td>NA</td><td>UA</td><td> 643</td><td>NA    </td><td>EWR</td><td>ORD</td><td>NA</td><td> 719</td><td>13</td><td>59</td><td>2013-12-04 13:00:00</td></tr>\n",
       "\t<tr><td>2013</td><td>12</td><td>4</td><td>NA</td><td> 700</td><td>NA</td><td>NA</td><td> 835</td><td>NA</td><td>UA</td><td> 711</td><td>NA    </td><td>LGA</td><td>ORD</td><td>NA</td><td> 733</td><td> 7</td><td> 0</td><td>2013-12-04 07:00:00</td></tr>\n",
       "\t<tr><td>2013</td><td>12</td><td>4</td><td>NA</td><td> 850</td><td>NA</td><td>NA</td><td>1132</td><td>NA</td><td>UA</td><td>1643</td><td>NA    </td><td>EWR</td><td>DEN</td><td>NA</td><td>1605</td><td> 8</td><td>50</td><td>2013-12-04 08:00:00</td></tr>\n",
       "\t<tr><td>2013</td><td>12</td><td>5</td><td>NA</td><td> 925</td><td>NA</td><td>NA</td><td>1106</td><td>NA</td><td>9E</td><td>2906</td><td>NA    </td><td>JFK</td><td>BUF</td><td>NA</td><td> 301</td><td> 9</td><td>25</td><td>2013-12-05 09:00:00</td></tr>\n",
       "\t<tr><td>2013</td><td>12</td><td>5</td><td>NA</td><td> 825</td><td>NA</td><td>NA</td><td> 953</td><td>NA</td><td>9E</td><td>2912</td><td>NA    </td><td>JFK</td><td>DCA</td><td>NA</td><td> 213</td><td> 8</td><td>25</td><td>2013-12-05 08:00:00</td></tr>\n",
       "\t<tr><td>2013</td><td>12</td><td>5</td><td>NA</td><td>1815</td><td>NA</td><td>NA</td><td>2127</td><td>NA</td><td>9E</td><td>2915</td><td>NA    </td><td>JFK</td><td>DFW</td><td>NA</td><td>1391</td><td>18</td><td>15</td><td>2013-12-05 18:00:00</td></tr>\n",
       "\t<tr><td>2013</td><td>12</td><td>5</td><td>NA</td><td>1900</td><td>NA</td><td>NA</td><td>2047</td><td>NA</td><td>9E</td><td>2943</td><td>NA    </td><td>JFK</td><td>RIC</td><td>NA</td><td> 288</td><td>19</td><td> 0</td><td>2013-12-05 19:00:00</td></tr>\n",
       "\t<tr><td>2013</td><td>12</td><td>5</td><td>NA</td><td>1630</td><td>NA</td><td>NA</td><td>1816</td><td>NA</td><td>9E</td><td>3357</td><td>NA    </td><td>LGA</td><td>BNA</td><td>NA</td><td> 764</td><td>16</td><td>30</td><td>2013-12-05 16:00:00</td></tr>\n",
       "\t<tr><td>2013</td><td>12</td><td>5</td><td>NA</td><td>1700</td><td>NA</td><td>NA</td><td>1913</td><td>NA</td><td>9E</td><td>3323</td><td>NA    </td><td>EWR</td><td>CVG</td><td>NA</td><td> 569</td><td>17</td><td> 0</td><td>2013-12-05 17:00:00</td></tr>\n",
       "\t<tr><td>2013</td><td>12</td><td>5</td><td>NA</td><td>1235</td><td>NA</td><td>NA</td><td>1351</td><td>NA</td><td>9E</td><td>3340</td><td>NA    </td><td>LGA</td><td>SYR</td><td>NA</td><td> 198</td><td>12</td><td>35</td><td>2013-12-05 12:00:00</td></tr>\n",
       "\t<tr><td>2013</td><td>12</td><td>5</td><td>NA</td><td>1015</td><td>NA</td><td>NA</td><td>1337</td><td>NA</td><td>9E</td><td>3493</td><td>NA    </td><td>LGA</td><td>SRQ</td><td>NA</td><td>1047</td><td>10</td><td>15</td><td>2013-12-05 10:00:00</td></tr>\n",
       "\t<tr><td>2013</td><td>12</td><td>5</td><td>NA</td><td>1130</td><td>NA</td><td>NA</td><td>1333</td><td>NA</td><td>9E</td><td>3312</td><td>NA    </td><td>EWR</td><td>MSP</td><td>NA</td><td>1008</td><td>11</td><td>30</td><td>2013-12-05 11:00:00</td></tr>\n",
       "\t<tr><td>2013</td><td>12</td><td>5</td><td>NA</td><td>1930</td><td>NA</td><td>NA</td><td>2155</td><td>NA</td><td>9E</td><td>3445</td><td>NA    </td><td>LGA</td><td>DSM</td><td>NA</td><td>1031</td><td>19</td><td>30</td><td>2013-12-05 19:00:00</td></tr>\n",
       "\t<tr><td>⋮</td><td>⋮</td><td>⋮</td><td>⋮</td><td>⋮</td><td>⋮</td><td>⋮</td><td>⋮</td><td>⋮</td><td>⋮</td><td>⋮</td><td>⋮</td><td>⋮</td><td>⋮</td><td>⋮</td><td>⋮</td><td>⋮</td><td>⋮</td><td>⋮</td></tr>\n",
       "\t<tr><td>2013</td><td>1</td><td>31</td><td>2153</td><td>2005</td><td>108</td><td>  20</td><td>2230</td><td>110</td><td>9E</td><td>4033</td><td>N8894A</td><td>LGA</td><td>TYS</td><td>117</td><td> 647</td><td>20</td><td> 5</td><td>2013-01-31 20:00:00</td></tr>\n",
       "\t<tr><td>2013</td><td>1</td><td>31</td><td>2158</td><td>1904</td><td>174</td><td>2355</td><td>2109</td><td>166</td><td>EV</td><td>4437</td><td>N11184</td><td>EWR</td><td>CLT</td><td> 94</td><td> 529</td><td>19</td><td> 4</td><td>2013-01-31 19:00:00</td></tr>\n",
       "\t<tr><td>2013</td><td>1</td><td>31</td><td>2159</td><td>2005</td><td>114</td><td>2310</td><td>2133</td><td> 97</td><td>EV</td><td>4224</td><td>N13955</td><td>EWR</td><td>MKE</td><td>113</td><td> 725</td><td>20</td><td> 5</td><td>2013-01-31 20:00:00</td></tr>\n",
       "\t<tr><td>2013</td><td>1</td><td>31</td><td>2201</td><td>2045</td><td> 76</td><td>2323</td><td>2225</td><td> 58</td><td>AA</td><td> 371</td><td>N546AA</td><td>LGA</td><td>ORD</td><td>109</td><td> 733</td><td>20</td><td>45</td><td>2013-01-31 20:00:00</td></tr>\n",
       "\t<tr><td>2013</td><td>1</td><td>31</td><td>2202</td><td>2125</td><td> 37</td><td>2320</td><td>2240</td><td> 40</td><td>MQ</td><td>4449</td><td>N832MQ</td><td>JFK</td><td>DCA</td><td> 56</td><td> 213</td><td>21</td><td>25</td><td>2013-01-31 21:00:00</td></tr>\n",
       "\t<tr><td>2013</td><td>1</td><td>31</td><td>2206</td><td>2125</td><td> 41</td><td>2253</td><td>2224</td><td> 29</td><td>EV</td><td>4404</td><td>N13538</td><td>EWR</td><td>PVD</td><td> 31</td><td> 160</td><td>21</td><td>25</td><td>2013-01-31 21:00:00</td></tr>\n",
       "\t<tr><td>2013</td><td>1</td><td>31</td><td>2206</td><td>2030</td><td> 96</td><td>2338</td><td>2206</td><td> 92</td><td>FL</td><td> 354</td><td>N966AT</td><td>LGA</td><td>CAK</td><td> 69</td><td> 397</td><td>20</td><td>30</td><td>2013-01-31 20:00:00</td></tr>\n",
       "\t<tr><td>2013</td><td>1</td><td>31</td><td>2213</td><td>2140</td><td> 33</td><td>2345</td><td>2306</td><td> 39</td><td>B6</td><td> 104</td><td>N298JB</td><td>JFK</td><td>BUF</td><td> 64</td><td> 301</td><td>21</td><td>40</td><td>2013-01-31 21:00:00</td></tr>\n",
       "\t<tr><td>2013</td><td>1</td><td>31</td><td>2214</td><td>2125</td><td> 49</td><td>2349</td><td>2250</td><td> 59</td><td>MQ</td><td>4660</td><td>N510MQ</td><td>LGA</td><td>BNA</td><td>131</td><td> 764</td><td>21</td><td>25</td><td>2013-01-31 21:00:00</td></tr>\n",
       "\t<tr><td>2013</td><td>1</td><td>31</td><td>2215</td><td>2000</td><td>135</td><td>2346</td><td>2125</td><td>141</td><td>EV</td><td>4412</td><td>N16571</td><td>EWR</td><td>BUF</td><td> 56</td><td> 282</td><td>20</td><td> 0</td><td>2013-01-31 20:00:00</td></tr>\n",
       "\t<tr><td>2013</td><td>1</td><td>31</td><td>2219</td><td>1930</td><td>169</td><td>   2</td><td>2115</td><td>167</td><td>EV</td><td>3274</td><td>N16911</td><td>LGA</td><td>CLE</td><td> 79</td><td> 419</td><td>19</td><td>30</td><td>2013-01-31 19:00:00</td></tr>\n",
       "\t<tr><td>2013</td><td>1</td><td>31</td><td>2222</td><td>1945</td><td>157</td><td>2343</td><td>2105</td><td>158</td><td>EV</td><td>4108</td><td>N11176</td><td>EWR</td><td>IAD</td><td> 52</td><td> 212</td><td>19</td><td>45</td><td>2013-01-31 19:00:00</td></tr>\n",
       "\t<tr><td>2013</td><td>1</td><td>31</td><td>2225</td><td>2015</td><td>130</td><td>  14</td><td>2210</td><td>124</td><td>MQ</td><td>4555</td><td>N734MQ</td><td>LGA</td><td>CMH</td><td> 86</td><td> 479</td><td>20</td><td>15</td><td>2013-01-31 20:00:00</td></tr>\n",
       "\t<tr><td>2013</td><td>1</td><td>31</td><td>2229</td><td>2100</td><td> 89</td><td>  26</td><td>2250</td><td> 96</td><td>MQ</td><td>4584</td><td>N520MQ</td><td>LGA</td><td>CLT</td><td> 92</td><td> 544</td><td>21</td><td> 0</td><td>2013-01-31 21:00:00</td></tr>\n",
       "\t<tr><td>2013</td><td>1</td><td>31</td><td>2232</td><td>2000</td><td>152</td><td> 110</td><td>2232</td><td>158</td><td>EV</td><td>4333</td><td>N11194</td><td>EWR</td><td>TUL</td><td>192</td><td>1215</td><td>20</td><td> 0</td><td>2013-01-31 20:00:00</td></tr>\n",
       "\t<tr><td>2013</td><td>1</td><td>31</td><td>2233</td><td>2000</td><td>153</td><td>  41</td><td>2224</td><td>137</td><td>9E</td><td>3439</td><td>N912XJ</td><td>JFK</td><td>CVG</td><td>105</td><td> 589</td><td>20</td><td> 0</td><td>2013-01-31 20:00:00</td></tr>\n",
       "\t<tr><td>2013</td><td>1</td><td>31</td><td>2239</td><td>2110</td><td> 89</td><td> 123</td><td>2355</td><td> 88</td><td>B6</td><td> 529</td><td>N627JB</td><td>EWR</td><td>MCO</td><td>148</td><td> 937</td><td>21</td><td>10</td><td>2013-01-31 21:00:00</td></tr>\n",
       "\t<tr><td>2013</td><td>1</td><td>31</td><td>2240</td><td>2042</td><td>118</td><td>  29</td><td>2231</td><td>118</td><td>EV</td><td>3833</td><td>N11199</td><td>EWR</td><td>STL</td><td>152</td><td> 872</td><td>20</td><td>42</td><td>2013-01-31 20:00:00</td></tr>\n",
       "\t<tr><td>2013</td><td>1</td><td>31</td><td>2240</td><td>2159</td><td> 41</td><td>2337</td><td>2316</td><td> 21</td><td>DL</td><td>2155</td><td>N354NW</td><td>LGA</td><td>PWM</td><td> 38</td><td> 269</td><td>21</td><td>59</td><td>2013-01-31 21:00:00</td></tr>\n",
       "\t<tr><td>2013</td><td>1</td><td>31</td><td>2246</td><td>2250</td><td> -4</td><td>2335</td><td>2354</td><td>-19</td><td>B6</td><td>1018</td><td>N708JB</td><td>JFK</td><td>BOS</td><td> 32</td><td> 187</td><td>22</td><td>50</td><td>2013-01-31 22:00:00</td></tr>\n",
       "\t<tr><td>2013</td><td>1</td><td>31</td><td>2249</td><td>2135</td><td> 74</td><td> 157</td><td>  36</td><td> 81</td><td>B6</td><td>  11</td><td>N652JB</td><td>JFK</td><td>FLL</td><td>168</td><td>1069</td><td>21</td><td>35</td><td>2013-01-31 21:00:00</td></tr>\n",
       "\t<tr><td>2013</td><td>1</td><td>31</td><td>2250</td><td>2253</td><td> -3</td><td>  13</td><td>  15</td><td> -2</td><td>B6</td><td> 112</td><td>N794JB</td><td>JFK</td><td>BUF</td><td> 56</td><td> 301</td><td>22</td><td>53</td><td>2013-01-31 22:00:00</td></tr>\n",
       "\t<tr><td>2013</td><td>1</td><td>31</td><td>2254</td><td>2000</td><td>174</td><td> 102</td><td>2208</td><td>174</td><td>EV</td><td>3822</td><td>N14162</td><td>EWR</td><td>TYS</td><td>112</td><td> 631</td><td>20</td><td> 0</td><td>2013-01-31 20:00:00</td></tr>\n",
       "\t<tr><td>2013</td><td>1</td><td>31</td><td>2256</td><td>2130</td><td> 86</td><td> 206</td><td>  25</td><td>101</td><td>B6</td><td> 383</td><td>N644JB</td><td>LGA</td><td>FLL</td><td>169</td><td>1076</td><td>21</td><td>30</td><td>2013-01-31 21:00:00</td></tr>\n",
       "\t<tr><td>2013</td><td>1</td><td>31</td><td>2257</td><td>2245</td><td> 12</td><td>   2</td><td>2357</td><td>  5</td><td>B6</td><td> 128</td><td>N634JB</td><td>JFK</td><td>BTV</td><td> 47</td><td> 266</td><td>22</td><td>45</td><td>2013-01-31 22:00:00</td></tr>\n",
       "\t<tr><td>2013</td><td>1</td><td>31</td><td>2310</td><td>2105</td><td>125</td><td>  27</td><td>2217</td><td>130</td><td>EV</td><td>4119</td><td>N16919</td><td>EWR</td><td>RIC</td><td> 55</td><td> 277</td><td>21</td><td> 5</td><td>2013-01-31 21:00:00</td></tr>\n",
       "\t<tr><td>2013</td><td>1</td><td>31</td><td>2312</td><td>2159</td><td> 73</td><td>   8</td><td>2300</td><td> 68</td><td>EV</td><td>4519</td><td>N14993</td><td>EWR</td><td>BWI</td><td> 38</td><td> 169</td><td>21</td><td>59</td><td>2013-01-31 21:00:00</td></tr>\n",
       "\t<tr><td>2013</td><td>1</td><td>31</td><td>2324</td><td>1905</td><td>259</td><td>  32</td><td>2040</td><td>232</td><td>WN</td><td> 981</td><td>N473WN</td><td>LGA</td><td>MKE</td><td>109</td><td> 738</td><td>19</td><td> 5</td><td>2013-01-31 19:00:00</td></tr>\n",
       "\t<tr><td>2013</td><td>1</td><td>31</td><td>2330</td><td>2159</td><td> 91</td><td>  32</td><td>2306</td><td> 86</td><td>EV</td><td>4322</td><td>N13958</td><td>EWR</td><td>PWM</td><td> 47</td><td> 284</td><td>21</td><td>59</td><td>2013-01-31 21:00:00</td></tr>\n",
       "\t<tr><td>2013</td><td>1</td><td>31</td><td>2354</td><td>2055</td><td>179</td><td> 144</td><td>2250</td><td>174</td><td>MQ</td><td>4573</td><td>N711MQ</td><td>LGA</td><td>DTW</td><td> 82</td><td> 502</td><td>20</td><td>55</td><td>2013-01-31 20:00:00</td></tr>\n",
       "</tbody>\n",
       "</table>\n"
      ],
      "text/latex": [
       "A tibble: 336776 × 19\n",
       "\\begin{tabular}{r|lllllllllllllllllll}\n",
       " year & month & day & dep\\_time & sched\\_dep\\_time & dep\\_delay & arr\\_time & sched\\_arr\\_time & arr\\_delay & carrier & flight & tailnum & origin & dest & air\\_time & distance & hour & minute & time\\_hour\\\\\n",
       " <int> & <int> & <int> & <int> & <int> & <dbl> & <int> & <int> & <dbl> & <chr> & <int> & <chr> & <chr> & <chr> & <dbl> & <dbl> & <dbl> & <dbl> & <dttm>\\\\\n",
       "\\hline\n",
       "\t 2013 & 12 & 1 & NA & 1200 & NA & NA & 1314 & NA & 9E & 2902 & NA     & JFK & BOS & NA &  187 & 12 &  0 & 2013-12-01 12:00:00\\\\\n",
       "\t 2013 & 12 & 1 & NA &  830 & NA & NA & 1039 & NA & 9E & 3385 & NA     & EWR & MSP & NA & 1008 &  8 & 30 & 2013-12-01 08:00:00\\\\\n",
       "\t 2013 & 12 & 1 & NA & 2229 & NA & NA & 2343 & NA & B6 &  234 & N192JB & JFK & BTV & NA &  266 & 22 & 29 & 2013-12-01 22:00:00\\\\\n",
       "\t 2013 & 12 & 1 & NA &  631 & NA & NA &  742 & NA & EV & 4194 & N13975 & EWR & DCA & NA &  199 &  6 & 31 & 2013-12-01 06:00:00\\\\\n",
       "\t 2013 & 12 & 1 & NA &  620 & NA & NA &  826 & NA & EV & 5178 & N614QX & EWR & MSP & NA & 1008 &  6 & 20 & 2013-12-01 06:00:00\\\\\n",
       "\t 2013 & 12 & 1 & NA &  700 & NA & NA &  834 & NA & UA &  643 & NA     & EWR & ORD & NA &  719 &  7 &  0 & 2013-12-01 07:00:00\\\\\n",
       "\t 2013 & 12 & 2 & NA & 1050 & NA & NA & 1259 & NA & EV & 3852 & N16963 & EWR & DTW & NA &  488 & 10 & 50 & 2013-12-02 10:00:00\\\\\n",
       "\t 2013 & 12 & 2 & NA & 1010 & NA & NA & 1129 & NA & EV & 5736 & N820AS & LGA & IAD & NA &  229 & 10 & 10 & 2013-12-02 10:00:00\\\\\n",
       "\t 2013 & 12 & 2 & NA & 1845 & NA & NA & 2026 & NA & EV & 5274 & N709EV & LGA & BNA & NA &  764 & 18 & 45 & 2013-12-02 18:00:00\\\\\n",
       "\t 2013 & 12 & 3 & NA & 1640 & NA & NA & 1838 & NA & EV & 5147 & N744EV & LGA & CLE & NA &  419 & 16 & 40 & 2013-12-03 16:00:00\\\\\n",
       "\t 2013 & 12 & 3 & NA &  915 & NA & NA & 1056 & NA & EV & 5337 & N709EV & LGA & ORF & NA &  296 &  9 & 15 & 2013-12-03 09:00:00\\\\\n",
       "\t 2013 & 12 & 3 & NA & 1845 & NA & NA & 2040 & NA & MQ & 3349 & N546MQ & LGA & MSP & NA & 1020 & 18 & 45 & 2013-12-03 18:00:00\\\\\n",
       "\t 2013 & 12 & 4 & NA & 1025 & NA & NA & 1127 & NA & B6 &  518 & N267JB & JFK & BOS & NA &  187 & 10 & 25 & 2013-12-04 10:00:00\\\\\n",
       "\t 2013 & 12 & 4 & NA & 1259 & NA & NA & 1454 & NA & MQ & 3388 & N817MQ & LGA & CMH & NA &  479 & 12 & 59 & 2013-12-04 12:00:00\\\\\n",
       "\t 2013 & 12 & 4 & NA & 1020 & NA & NA & 1205 & NA & MQ & 3466 & N857MQ & LGA & RDU & NA &  431 & 10 & 20 & 2013-12-04 10:00:00\\\\\n",
       "\t 2013 & 12 & 4 & NA & 1155 & NA & NA & 1355 & NA & MQ & 3616 & N514MQ & LGA & MSP & NA & 1020 & 11 & 55 & 2013-12-04 11:00:00\\\\\n",
       "\t 2013 & 12 & 4 & NA & 1845 & NA & NA & 2040 & NA & MQ & 3349 & N507MQ & LGA & MSP & NA & 1020 & 18 & 45 & 2013-12-04 18:00:00\\\\\n",
       "\t 2013 & 12 & 4 & NA & 1359 & NA & NA & 1530 & NA & UA &  643 & NA     & EWR & ORD & NA &  719 & 13 & 59 & 2013-12-04 13:00:00\\\\\n",
       "\t 2013 & 12 & 4 & NA &  700 & NA & NA &  835 & NA & UA &  711 & NA     & LGA & ORD & NA &  733 &  7 &  0 & 2013-12-04 07:00:00\\\\\n",
       "\t 2013 & 12 & 4 & NA &  850 & NA & NA & 1132 & NA & UA & 1643 & NA     & EWR & DEN & NA & 1605 &  8 & 50 & 2013-12-04 08:00:00\\\\\n",
       "\t 2013 & 12 & 5 & NA &  925 & NA & NA & 1106 & NA & 9E & 2906 & NA     & JFK & BUF & NA &  301 &  9 & 25 & 2013-12-05 09:00:00\\\\\n",
       "\t 2013 & 12 & 5 & NA &  825 & NA & NA &  953 & NA & 9E & 2912 & NA     & JFK & DCA & NA &  213 &  8 & 25 & 2013-12-05 08:00:00\\\\\n",
       "\t 2013 & 12 & 5 & NA & 1815 & NA & NA & 2127 & NA & 9E & 2915 & NA     & JFK & DFW & NA & 1391 & 18 & 15 & 2013-12-05 18:00:00\\\\\n",
       "\t 2013 & 12 & 5 & NA & 1900 & NA & NA & 2047 & NA & 9E & 2943 & NA     & JFK & RIC & NA &  288 & 19 &  0 & 2013-12-05 19:00:00\\\\\n",
       "\t 2013 & 12 & 5 & NA & 1630 & NA & NA & 1816 & NA & 9E & 3357 & NA     & LGA & BNA & NA &  764 & 16 & 30 & 2013-12-05 16:00:00\\\\\n",
       "\t 2013 & 12 & 5 & NA & 1700 & NA & NA & 1913 & NA & 9E & 3323 & NA     & EWR & CVG & NA &  569 & 17 &  0 & 2013-12-05 17:00:00\\\\\n",
       "\t 2013 & 12 & 5 & NA & 1235 & NA & NA & 1351 & NA & 9E & 3340 & NA     & LGA & SYR & NA &  198 & 12 & 35 & 2013-12-05 12:00:00\\\\\n",
       "\t 2013 & 12 & 5 & NA & 1015 & NA & NA & 1337 & NA & 9E & 3493 & NA     & LGA & SRQ & NA & 1047 & 10 & 15 & 2013-12-05 10:00:00\\\\\n",
       "\t 2013 & 12 & 5 & NA & 1130 & NA & NA & 1333 & NA & 9E & 3312 & NA     & EWR & MSP & NA & 1008 & 11 & 30 & 2013-12-05 11:00:00\\\\\n",
       "\t 2013 & 12 & 5 & NA & 1930 & NA & NA & 2155 & NA & 9E & 3445 & NA     & LGA & DSM & NA & 1031 & 19 & 30 & 2013-12-05 19:00:00\\\\\n",
       "\t ⋮ & ⋮ & ⋮ & ⋮ & ⋮ & ⋮ & ⋮ & ⋮ & ⋮ & ⋮ & ⋮ & ⋮ & ⋮ & ⋮ & ⋮ & ⋮ & ⋮ & ⋮ & ⋮\\\\\n",
       "\t 2013 & 1 & 31 & 2153 & 2005 & 108 &   20 & 2230 & 110 & 9E & 4033 & N8894A & LGA & TYS & 117 &  647 & 20 &  5 & 2013-01-31 20:00:00\\\\\n",
       "\t 2013 & 1 & 31 & 2158 & 1904 & 174 & 2355 & 2109 & 166 & EV & 4437 & N11184 & EWR & CLT &  94 &  529 & 19 &  4 & 2013-01-31 19:00:00\\\\\n",
       "\t 2013 & 1 & 31 & 2159 & 2005 & 114 & 2310 & 2133 &  97 & EV & 4224 & N13955 & EWR & MKE & 113 &  725 & 20 &  5 & 2013-01-31 20:00:00\\\\\n",
       "\t 2013 & 1 & 31 & 2201 & 2045 &  76 & 2323 & 2225 &  58 & AA &  371 & N546AA & LGA & ORD & 109 &  733 & 20 & 45 & 2013-01-31 20:00:00\\\\\n",
       "\t 2013 & 1 & 31 & 2202 & 2125 &  37 & 2320 & 2240 &  40 & MQ & 4449 & N832MQ & JFK & DCA &  56 &  213 & 21 & 25 & 2013-01-31 21:00:00\\\\\n",
       "\t 2013 & 1 & 31 & 2206 & 2125 &  41 & 2253 & 2224 &  29 & EV & 4404 & N13538 & EWR & PVD &  31 &  160 & 21 & 25 & 2013-01-31 21:00:00\\\\\n",
       "\t 2013 & 1 & 31 & 2206 & 2030 &  96 & 2338 & 2206 &  92 & FL &  354 & N966AT & LGA & CAK &  69 &  397 & 20 & 30 & 2013-01-31 20:00:00\\\\\n",
       "\t 2013 & 1 & 31 & 2213 & 2140 &  33 & 2345 & 2306 &  39 & B6 &  104 & N298JB & JFK & BUF &  64 &  301 & 21 & 40 & 2013-01-31 21:00:00\\\\\n",
       "\t 2013 & 1 & 31 & 2214 & 2125 &  49 & 2349 & 2250 &  59 & MQ & 4660 & N510MQ & LGA & BNA & 131 &  764 & 21 & 25 & 2013-01-31 21:00:00\\\\\n",
       "\t 2013 & 1 & 31 & 2215 & 2000 & 135 & 2346 & 2125 & 141 & EV & 4412 & N16571 & EWR & BUF &  56 &  282 & 20 &  0 & 2013-01-31 20:00:00\\\\\n",
       "\t 2013 & 1 & 31 & 2219 & 1930 & 169 &    2 & 2115 & 167 & EV & 3274 & N16911 & LGA & CLE &  79 &  419 & 19 & 30 & 2013-01-31 19:00:00\\\\\n",
       "\t 2013 & 1 & 31 & 2222 & 1945 & 157 & 2343 & 2105 & 158 & EV & 4108 & N11176 & EWR & IAD &  52 &  212 & 19 & 45 & 2013-01-31 19:00:00\\\\\n",
       "\t 2013 & 1 & 31 & 2225 & 2015 & 130 &   14 & 2210 & 124 & MQ & 4555 & N734MQ & LGA & CMH &  86 &  479 & 20 & 15 & 2013-01-31 20:00:00\\\\\n",
       "\t 2013 & 1 & 31 & 2229 & 2100 &  89 &   26 & 2250 &  96 & MQ & 4584 & N520MQ & LGA & CLT &  92 &  544 & 21 &  0 & 2013-01-31 21:00:00\\\\\n",
       "\t 2013 & 1 & 31 & 2232 & 2000 & 152 &  110 & 2232 & 158 & EV & 4333 & N11194 & EWR & TUL & 192 & 1215 & 20 &  0 & 2013-01-31 20:00:00\\\\\n",
       "\t 2013 & 1 & 31 & 2233 & 2000 & 153 &   41 & 2224 & 137 & 9E & 3439 & N912XJ & JFK & CVG & 105 &  589 & 20 &  0 & 2013-01-31 20:00:00\\\\\n",
       "\t 2013 & 1 & 31 & 2239 & 2110 &  89 &  123 & 2355 &  88 & B6 &  529 & N627JB & EWR & MCO & 148 &  937 & 21 & 10 & 2013-01-31 21:00:00\\\\\n",
       "\t 2013 & 1 & 31 & 2240 & 2042 & 118 &   29 & 2231 & 118 & EV & 3833 & N11199 & EWR & STL & 152 &  872 & 20 & 42 & 2013-01-31 20:00:00\\\\\n",
       "\t 2013 & 1 & 31 & 2240 & 2159 &  41 & 2337 & 2316 &  21 & DL & 2155 & N354NW & LGA & PWM &  38 &  269 & 21 & 59 & 2013-01-31 21:00:00\\\\\n",
       "\t 2013 & 1 & 31 & 2246 & 2250 &  -4 & 2335 & 2354 & -19 & B6 & 1018 & N708JB & JFK & BOS &  32 &  187 & 22 & 50 & 2013-01-31 22:00:00\\\\\n",
       "\t 2013 & 1 & 31 & 2249 & 2135 &  74 &  157 &   36 &  81 & B6 &   11 & N652JB & JFK & FLL & 168 & 1069 & 21 & 35 & 2013-01-31 21:00:00\\\\\n",
       "\t 2013 & 1 & 31 & 2250 & 2253 &  -3 &   13 &   15 &  -2 & B6 &  112 & N794JB & JFK & BUF &  56 &  301 & 22 & 53 & 2013-01-31 22:00:00\\\\\n",
       "\t 2013 & 1 & 31 & 2254 & 2000 & 174 &  102 & 2208 & 174 & EV & 3822 & N14162 & EWR & TYS & 112 &  631 & 20 &  0 & 2013-01-31 20:00:00\\\\\n",
       "\t 2013 & 1 & 31 & 2256 & 2130 &  86 &  206 &   25 & 101 & B6 &  383 & N644JB & LGA & FLL & 169 & 1076 & 21 & 30 & 2013-01-31 21:00:00\\\\\n",
       "\t 2013 & 1 & 31 & 2257 & 2245 &  12 &    2 & 2357 &   5 & B6 &  128 & N634JB & JFK & BTV &  47 &  266 & 22 & 45 & 2013-01-31 22:00:00\\\\\n",
       "\t 2013 & 1 & 31 & 2310 & 2105 & 125 &   27 & 2217 & 130 & EV & 4119 & N16919 & EWR & RIC &  55 &  277 & 21 &  5 & 2013-01-31 21:00:00\\\\\n",
       "\t 2013 & 1 & 31 & 2312 & 2159 &  73 &    8 & 2300 &  68 & EV & 4519 & N14993 & EWR & BWI &  38 &  169 & 21 & 59 & 2013-01-31 21:00:00\\\\\n",
       "\t 2013 & 1 & 31 & 2324 & 1905 & 259 &   32 & 2040 & 232 & WN &  981 & N473WN & LGA & MKE & 109 &  738 & 19 &  5 & 2013-01-31 19:00:00\\\\\n",
       "\t 2013 & 1 & 31 & 2330 & 2159 &  91 &   32 & 2306 &  86 & EV & 4322 & N13958 & EWR & PWM &  47 &  284 & 21 & 59 & 2013-01-31 21:00:00\\\\\n",
       "\t 2013 & 1 & 31 & 2354 & 2055 & 179 &  144 & 2250 & 174 & MQ & 4573 & N711MQ & LGA & DTW &  82 &  502 & 20 & 55 & 2013-01-31 20:00:00\\\\\n",
       "\\end{tabular}\n"
      ],
      "text/markdown": [
       "\n",
       "A tibble: 336776 × 19\n",
       "\n",
       "| year &lt;int&gt; | month &lt;int&gt; | day &lt;int&gt; | dep_time &lt;int&gt; | sched_dep_time &lt;int&gt; | dep_delay &lt;dbl&gt; | arr_time &lt;int&gt; | sched_arr_time &lt;int&gt; | arr_delay &lt;dbl&gt; | carrier &lt;chr&gt; | flight &lt;int&gt; | tailnum &lt;chr&gt; | origin &lt;chr&gt; | dest &lt;chr&gt; | air_time &lt;dbl&gt; | distance &lt;dbl&gt; | hour &lt;dbl&gt; | minute &lt;dbl&gt; | time_hour &lt;dttm&gt; |\n",
       "|---|---|---|---|---|---|---|---|---|---|---|---|---|---|---|---|---|---|---|\n",
       "| 2013 | 12 | 1 | NA | 1200 | NA | NA | 1314 | NA | 9E | 2902 | NA     | JFK | BOS | NA |  187 | 12 |  0 | 2013-12-01 12:00:00 |\n",
       "| 2013 | 12 | 1 | NA |  830 | NA | NA | 1039 | NA | 9E | 3385 | NA     | EWR | MSP | NA | 1008 |  8 | 30 | 2013-12-01 08:00:00 |\n",
       "| 2013 | 12 | 1 | NA | 2229 | NA | NA | 2343 | NA | B6 |  234 | N192JB | JFK | BTV | NA |  266 | 22 | 29 | 2013-12-01 22:00:00 |\n",
       "| 2013 | 12 | 1 | NA |  631 | NA | NA |  742 | NA | EV | 4194 | N13975 | EWR | DCA | NA |  199 |  6 | 31 | 2013-12-01 06:00:00 |\n",
       "| 2013 | 12 | 1 | NA |  620 | NA | NA |  826 | NA | EV | 5178 | N614QX | EWR | MSP | NA | 1008 |  6 | 20 | 2013-12-01 06:00:00 |\n",
       "| 2013 | 12 | 1 | NA |  700 | NA | NA |  834 | NA | UA |  643 | NA     | EWR | ORD | NA |  719 |  7 |  0 | 2013-12-01 07:00:00 |\n",
       "| 2013 | 12 | 2 | NA | 1050 | NA | NA | 1259 | NA | EV | 3852 | N16963 | EWR | DTW | NA |  488 | 10 | 50 | 2013-12-02 10:00:00 |\n",
       "| 2013 | 12 | 2 | NA | 1010 | NA | NA | 1129 | NA | EV | 5736 | N820AS | LGA | IAD | NA |  229 | 10 | 10 | 2013-12-02 10:00:00 |\n",
       "| 2013 | 12 | 2 | NA | 1845 | NA | NA | 2026 | NA | EV | 5274 | N709EV | LGA | BNA | NA |  764 | 18 | 45 | 2013-12-02 18:00:00 |\n",
       "| 2013 | 12 | 3 | NA | 1640 | NA | NA | 1838 | NA | EV | 5147 | N744EV | LGA | CLE | NA |  419 | 16 | 40 | 2013-12-03 16:00:00 |\n",
       "| 2013 | 12 | 3 | NA |  915 | NA | NA | 1056 | NA | EV | 5337 | N709EV | LGA | ORF | NA |  296 |  9 | 15 | 2013-12-03 09:00:00 |\n",
       "| 2013 | 12 | 3 | NA | 1845 | NA | NA | 2040 | NA | MQ | 3349 | N546MQ | LGA | MSP | NA | 1020 | 18 | 45 | 2013-12-03 18:00:00 |\n",
       "| 2013 | 12 | 4 | NA | 1025 | NA | NA | 1127 | NA | B6 |  518 | N267JB | JFK | BOS | NA |  187 | 10 | 25 | 2013-12-04 10:00:00 |\n",
       "| 2013 | 12 | 4 | NA | 1259 | NA | NA | 1454 | NA | MQ | 3388 | N817MQ | LGA | CMH | NA |  479 | 12 | 59 | 2013-12-04 12:00:00 |\n",
       "| 2013 | 12 | 4 | NA | 1020 | NA | NA | 1205 | NA | MQ | 3466 | N857MQ | LGA | RDU | NA |  431 | 10 | 20 | 2013-12-04 10:00:00 |\n",
       "| 2013 | 12 | 4 | NA | 1155 | NA | NA | 1355 | NA | MQ | 3616 | N514MQ | LGA | MSP | NA | 1020 | 11 | 55 | 2013-12-04 11:00:00 |\n",
       "| 2013 | 12 | 4 | NA | 1845 | NA | NA | 2040 | NA | MQ | 3349 | N507MQ | LGA | MSP | NA | 1020 | 18 | 45 | 2013-12-04 18:00:00 |\n",
       "| 2013 | 12 | 4 | NA | 1359 | NA | NA | 1530 | NA | UA |  643 | NA     | EWR | ORD | NA |  719 | 13 | 59 | 2013-12-04 13:00:00 |\n",
       "| 2013 | 12 | 4 | NA |  700 | NA | NA |  835 | NA | UA |  711 | NA     | LGA | ORD | NA |  733 |  7 |  0 | 2013-12-04 07:00:00 |\n",
       "| 2013 | 12 | 4 | NA |  850 | NA | NA | 1132 | NA | UA | 1643 | NA     | EWR | DEN | NA | 1605 |  8 | 50 | 2013-12-04 08:00:00 |\n",
       "| 2013 | 12 | 5 | NA |  925 | NA | NA | 1106 | NA | 9E | 2906 | NA     | JFK | BUF | NA |  301 |  9 | 25 | 2013-12-05 09:00:00 |\n",
       "| 2013 | 12 | 5 | NA |  825 | NA | NA |  953 | NA | 9E | 2912 | NA     | JFK | DCA | NA |  213 |  8 | 25 | 2013-12-05 08:00:00 |\n",
       "| 2013 | 12 | 5 | NA | 1815 | NA | NA | 2127 | NA | 9E | 2915 | NA     | JFK | DFW | NA | 1391 | 18 | 15 | 2013-12-05 18:00:00 |\n",
       "| 2013 | 12 | 5 | NA | 1900 | NA | NA | 2047 | NA | 9E | 2943 | NA     | JFK | RIC | NA |  288 | 19 |  0 | 2013-12-05 19:00:00 |\n",
       "| 2013 | 12 | 5 | NA | 1630 | NA | NA | 1816 | NA | 9E | 3357 | NA     | LGA | BNA | NA |  764 | 16 | 30 | 2013-12-05 16:00:00 |\n",
       "| 2013 | 12 | 5 | NA | 1700 | NA | NA | 1913 | NA | 9E | 3323 | NA     | EWR | CVG | NA |  569 | 17 |  0 | 2013-12-05 17:00:00 |\n",
       "| 2013 | 12 | 5 | NA | 1235 | NA | NA | 1351 | NA | 9E | 3340 | NA     | LGA | SYR | NA |  198 | 12 | 35 | 2013-12-05 12:00:00 |\n",
       "| 2013 | 12 | 5 | NA | 1015 | NA | NA | 1337 | NA | 9E | 3493 | NA     | LGA | SRQ | NA | 1047 | 10 | 15 | 2013-12-05 10:00:00 |\n",
       "| 2013 | 12 | 5 | NA | 1130 | NA | NA | 1333 | NA | 9E | 3312 | NA     | EWR | MSP | NA | 1008 | 11 | 30 | 2013-12-05 11:00:00 |\n",
       "| 2013 | 12 | 5 | NA | 1930 | NA | NA | 2155 | NA | 9E | 3445 | NA     | LGA | DSM | NA | 1031 | 19 | 30 | 2013-12-05 19:00:00 |\n",
       "| ⋮ | ⋮ | ⋮ | ⋮ | ⋮ | ⋮ | ⋮ | ⋮ | ⋮ | ⋮ | ⋮ | ⋮ | ⋮ | ⋮ | ⋮ | ⋮ | ⋮ | ⋮ | ⋮ |\n",
       "| 2013 | 1 | 31 | 2153 | 2005 | 108 |   20 | 2230 | 110 | 9E | 4033 | N8894A | LGA | TYS | 117 |  647 | 20 |  5 | 2013-01-31 20:00:00 |\n",
       "| 2013 | 1 | 31 | 2158 | 1904 | 174 | 2355 | 2109 | 166 | EV | 4437 | N11184 | EWR | CLT |  94 |  529 | 19 |  4 | 2013-01-31 19:00:00 |\n",
       "| 2013 | 1 | 31 | 2159 | 2005 | 114 | 2310 | 2133 |  97 | EV | 4224 | N13955 | EWR | MKE | 113 |  725 | 20 |  5 | 2013-01-31 20:00:00 |\n",
       "| 2013 | 1 | 31 | 2201 | 2045 |  76 | 2323 | 2225 |  58 | AA |  371 | N546AA | LGA | ORD | 109 |  733 | 20 | 45 | 2013-01-31 20:00:00 |\n",
       "| 2013 | 1 | 31 | 2202 | 2125 |  37 | 2320 | 2240 |  40 | MQ | 4449 | N832MQ | JFK | DCA |  56 |  213 | 21 | 25 | 2013-01-31 21:00:00 |\n",
       "| 2013 | 1 | 31 | 2206 | 2125 |  41 | 2253 | 2224 |  29 | EV | 4404 | N13538 | EWR | PVD |  31 |  160 | 21 | 25 | 2013-01-31 21:00:00 |\n",
       "| 2013 | 1 | 31 | 2206 | 2030 |  96 | 2338 | 2206 |  92 | FL |  354 | N966AT | LGA | CAK |  69 |  397 | 20 | 30 | 2013-01-31 20:00:00 |\n",
       "| 2013 | 1 | 31 | 2213 | 2140 |  33 | 2345 | 2306 |  39 | B6 |  104 | N298JB | JFK | BUF |  64 |  301 | 21 | 40 | 2013-01-31 21:00:00 |\n",
       "| 2013 | 1 | 31 | 2214 | 2125 |  49 | 2349 | 2250 |  59 | MQ | 4660 | N510MQ | LGA | BNA | 131 |  764 | 21 | 25 | 2013-01-31 21:00:00 |\n",
       "| 2013 | 1 | 31 | 2215 | 2000 | 135 | 2346 | 2125 | 141 | EV | 4412 | N16571 | EWR | BUF |  56 |  282 | 20 |  0 | 2013-01-31 20:00:00 |\n",
       "| 2013 | 1 | 31 | 2219 | 1930 | 169 |    2 | 2115 | 167 | EV | 3274 | N16911 | LGA | CLE |  79 |  419 | 19 | 30 | 2013-01-31 19:00:00 |\n",
       "| 2013 | 1 | 31 | 2222 | 1945 | 157 | 2343 | 2105 | 158 | EV | 4108 | N11176 | EWR | IAD |  52 |  212 | 19 | 45 | 2013-01-31 19:00:00 |\n",
       "| 2013 | 1 | 31 | 2225 | 2015 | 130 |   14 | 2210 | 124 | MQ | 4555 | N734MQ | LGA | CMH |  86 |  479 | 20 | 15 | 2013-01-31 20:00:00 |\n",
       "| 2013 | 1 | 31 | 2229 | 2100 |  89 |   26 | 2250 |  96 | MQ | 4584 | N520MQ | LGA | CLT |  92 |  544 | 21 |  0 | 2013-01-31 21:00:00 |\n",
       "| 2013 | 1 | 31 | 2232 | 2000 | 152 |  110 | 2232 | 158 | EV | 4333 | N11194 | EWR | TUL | 192 | 1215 | 20 |  0 | 2013-01-31 20:00:00 |\n",
       "| 2013 | 1 | 31 | 2233 | 2000 | 153 |   41 | 2224 | 137 | 9E | 3439 | N912XJ | JFK | CVG | 105 |  589 | 20 |  0 | 2013-01-31 20:00:00 |\n",
       "| 2013 | 1 | 31 | 2239 | 2110 |  89 |  123 | 2355 |  88 | B6 |  529 | N627JB | EWR | MCO | 148 |  937 | 21 | 10 | 2013-01-31 21:00:00 |\n",
       "| 2013 | 1 | 31 | 2240 | 2042 | 118 |   29 | 2231 | 118 | EV | 3833 | N11199 | EWR | STL | 152 |  872 | 20 | 42 | 2013-01-31 20:00:00 |\n",
       "| 2013 | 1 | 31 | 2240 | 2159 |  41 | 2337 | 2316 |  21 | DL | 2155 | N354NW | LGA | PWM |  38 |  269 | 21 | 59 | 2013-01-31 21:00:00 |\n",
       "| 2013 | 1 | 31 | 2246 | 2250 |  -4 | 2335 | 2354 | -19 | B6 | 1018 | N708JB | JFK | BOS |  32 |  187 | 22 | 50 | 2013-01-31 22:00:00 |\n",
       "| 2013 | 1 | 31 | 2249 | 2135 |  74 |  157 |   36 |  81 | B6 |   11 | N652JB | JFK | FLL | 168 | 1069 | 21 | 35 | 2013-01-31 21:00:00 |\n",
       "| 2013 | 1 | 31 | 2250 | 2253 |  -3 |   13 |   15 |  -2 | B6 |  112 | N794JB | JFK | BUF |  56 |  301 | 22 | 53 | 2013-01-31 22:00:00 |\n",
       "| 2013 | 1 | 31 | 2254 | 2000 | 174 |  102 | 2208 | 174 | EV | 3822 | N14162 | EWR | TYS | 112 |  631 | 20 |  0 | 2013-01-31 20:00:00 |\n",
       "| 2013 | 1 | 31 | 2256 | 2130 |  86 |  206 |   25 | 101 | B6 |  383 | N644JB | LGA | FLL | 169 | 1076 | 21 | 30 | 2013-01-31 21:00:00 |\n",
       "| 2013 | 1 | 31 | 2257 | 2245 |  12 |    2 | 2357 |   5 | B6 |  128 | N634JB | JFK | BTV |  47 |  266 | 22 | 45 | 2013-01-31 22:00:00 |\n",
       "| 2013 | 1 | 31 | 2310 | 2105 | 125 |   27 | 2217 | 130 | EV | 4119 | N16919 | EWR | RIC |  55 |  277 | 21 |  5 | 2013-01-31 21:00:00 |\n",
       "| 2013 | 1 | 31 | 2312 | 2159 |  73 |    8 | 2300 |  68 | EV | 4519 | N14993 | EWR | BWI |  38 |  169 | 21 | 59 | 2013-01-31 21:00:00 |\n",
       "| 2013 | 1 | 31 | 2324 | 1905 | 259 |   32 | 2040 | 232 | WN |  981 | N473WN | LGA | MKE | 109 |  738 | 19 |  5 | 2013-01-31 19:00:00 |\n",
       "| 2013 | 1 | 31 | 2330 | 2159 |  91 |   32 | 2306 |  86 | EV | 4322 | N13958 | EWR | PWM |  47 |  284 | 21 | 59 | 2013-01-31 21:00:00 |\n",
       "| 2013 | 1 | 31 | 2354 | 2055 | 179 |  144 | 2250 | 174 | MQ | 4573 | N711MQ | LGA | DTW |  82 |  502 | 20 | 55 | 2013-01-31 20:00:00 |\n",
       "\n"
      ],
      "text/plain": [
       "       year month day dep_time sched_dep_time dep_delay arr_time sched_arr_time\n",
       "1      2013 12    1   NA       1200           NA        NA       1314          \n",
       "2      2013 12    1   NA        830           NA        NA       1039          \n",
       "3      2013 12    1   NA       2229           NA        NA       2343          \n",
       "4      2013 12    1   NA        631           NA        NA        742          \n",
       "5      2013 12    1   NA        620           NA        NA        826          \n",
       "6      2013 12    1   NA        700           NA        NA        834          \n",
       "7      2013 12    2   NA       1050           NA        NA       1259          \n",
       "8      2013 12    2   NA       1010           NA        NA       1129          \n",
       "9      2013 12    2   NA       1845           NA        NA       2026          \n",
       "10     2013 12    3   NA       1640           NA        NA       1838          \n",
       "11     2013 12    3   NA        915           NA        NA       1056          \n",
       "12     2013 12    3   NA       1845           NA        NA       2040          \n",
       "13     2013 12    4   NA       1025           NA        NA       1127          \n",
       "14     2013 12    4   NA       1259           NA        NA       1454          \n",
       "15     2013 12    4   NA       1020           NA        NA       1205          \n",
       "16     2013 12    4   NA       1155           NA        NA       1355          \n",
       "17     2013 12    4   NA       1845           NA        NA       2040          \n",
       "18     2013 12    4   NA       1359           NA        NA       1530          \n",
       "19     2013 12    4   NA        700           NA        NA        835          \n",
       "20     2013 12    4   NA        850           NA        NA       1132          \n",
       "21     2013 12    5   NA        925           NA        NA       1106          \n",
       "22     2013 12    5   NA        825           NA        NA        953          \n",
       "23     2013 12    5   NA       1815           NA        NA       2127          \n",
       "24     2013 12    5   NA       1900           NA        NA       2047          \n",
       "25     2013 12    5   NA       1630           NA        NA       1816          \n",
       "26     2013 12    5   NA       1700           NA        NA       1913          \n",
       "27     2013 12    5   NA       1235           NA        NA       1351          \n",
       "28     2013 12    5   NA       1015           NA        NA       1337          \n",
       "29     2013 12    5   NA       1130           NA        NA       1333          \n",
       "30     2013 12    5   NA       1930           NA        NA       2155          \n",
       "⋮      ⋮    ⋮     ⋮   ⋮        ⋮              ⋮         ⋮        ⋮             \n",
       "336747 2013 1     31  2153     2005           108         20     2230          \n",
       "336748 2013 1     31  2158     1904           174       2355     2109          \n",
       "336749 2013 1     31  2159     2005           114       2310     2133          \n",
       "336750 2013 1     31  2201     2045            76       2323     2225          \n",
       "336751 2013 1     31  2202     2125            37       2320     2240          \n",
       "336752 2013 1     31  2206     2125            41       2253     2224          \n",
       "336753 2013 1     31  2206     2030            96       2338     2206          \n",
       "336754 2013 1     31  2213     2140            33       2345     2306          \n",
       "336755 2013 1     31  2214     2125            49       2349     2250          \n",
       "336756 2013 1     31  2215     2000           135       2346     2125          \n",
       "336757 2013 1     31  2219     1930           169          2     2115          \n",
       "336758 2013 1     31  2222     1945           157       2343     2105          \n",
       "336759 2013 1     31  2225     2015           130         14     2210          \n",
       "336760 2013 1     31  2229     2100            89         26     2250          \n",
       "336761 2013 1     31  2232     2000           152        110     2232          \n",
       "336762 2013 1     31  2233     2000           153         41     2224          \n",
       "336763 2013 1     31  2239     2110            89        123     2355          \n",
       "336764 2013 1     31  2240     2042           118         29     2231          \n",
       "336765 2013 1     31  2240     2159            41       2337     2316          \n",
       "336766 2013 1     31  2246     2250            -4       2335     2354          \n",
       "336767 2013 1     31  2249     2135            74        157       36          \n",
       "336768 2013 1     31  2250     2253            -3         13       15          \n",
       "336769 2013 1     31  2254     2000           174        102     2208          \n",
       "336770 2013 1     31  2256     2130            86        206       25          \n",
       "336771 2013 1     31  2257     2245            12          2     2357          \n",
       "336772 2013 1     31  2310     2105           125         27     2217          \n",
       "336773 2013 1     31  2312     2159            73          8     2300          \n",
       "336774 2013 1     31  2324     1905           259         32     2040          \n",
       "336775 2013 1     31  2330     2159            91         32     2306          \n",
       "336776 2013 1     31  2354     2055           179        144     2250          \n",
       "       arr_delay carrier flight tailnum origin dest air_time distance hour\n",
       "1      NA        9E      2902   NA      JFK    BOS  NA        187     12  \n",
       "2      NA        9E      3385   NA      EWR    MSP  NA       1008      8  \n",
       "3      NA        B6       234   N192JB  JFK    BTV  NA        266     22  \n",
       "4      NA        EV      4194   N13975  EWR    DCA  NA        199      6  \n",
       "5      NA        EV      5178   N614QX  EWR    MSP  NA       1008      6  \n",
       "6      NA        UA       643   NA      EWR    ORD  NA        719      7  \n",
       "7      NA        EV      3852   N16963  EWR    DTW  NA        488     10  \n",
       "8      NA        EV      5736   N820AS  LGA    IAD  NA        229     10  \n",
       "9      NA        EV      5274   N709EV  LGA    BNA  NA        764     18  \n",
       "10     NA        EV      5147   N744EV  LGA    CLE  NA        419     16  \n",
       "11     NA        EV      5337   N709EV  LGA    ORF  NA        296      9  \n",
       "12     NA        MQ      3349   N546MQ  LGA    MSP  NA       1020     18  \n",
       "13     NA        B6       518   N267JB  JFK    BOS  NA        187     10  \n",
       "14     NA        MQ      3388   N817MQ  LGA    CMH  NA        479     12  \n",
       "15     NA        MQ      3466   N857MQ  LGA    RDU  NA        431     10  \n",
       "16     NA        MQ      3616   N514MQ  LGA    MSP  NA       1020     11  \n",
       "17     NA        MQ      3349   N507MQ  LGA    MSP  NA       1020     18  \n",
       "18     NA        UA       643   NA      EWR    ORD  NA        719     13  \n",
       "19     NA        UA       711   NA      LGA    ORD  NA        733      7  \n",
       "20     NA        UA      1643   NA      EWR    DEN  NA       1605      8  \n",
       "21     NA        9E      2906   NA      JFK    BUF  NA        301      9  \n",
       "22     NA        9E      2912   NA      JFK    DCA  NA        213      8  \n",
       "23     NA        9E      2915   NA      JFK    DFW  NA       1391     18  \n",
       "24     NA        9E      2943   NA      JFK    RIC  NA        288     19  \n",
       "25     NA        9E      3357   NA      LGA    BNA  NA        764     16  \n",
       "26     NA        9E      3323   NA      EWR    CVG  NA        569     17  \n",
       "27     NA        9E      3340   NA      LGA    SYR  NA        198     12  \n",
       "28     NA        9E      3493   NA      LGA    SRQ  NA       1047     10  \n",
       "29     NA        9E      3312   NA      EWR    MSP  NA       1008     11  \n",
       "30     NA        9E      3445   NA      LGA    DSM  NA       1031     19  \n",
       "⋮      ⋮         ⋮       ⋮      ⋮       ⋮      ⋮    ⋮        ⋮        ⋮   \n",
       "336747 110       9E      4033   N8894A  LGA    TYS  117       647     20  \n",
       "336748 166       EV      4437   N11184  EWR    CLT   94       529     19  \n",
       "336749  97       EV      4224   N13955  EWR    MKE  113       725     20  \n",
       "336750  58       AA       371   N546AA  LGA    ORD  109       733     20  \n",
       "336751  40       MQ      4449   N832MQ  JFK    DCA   56       213     21  \n",
       "336752  29       EV      4404   N13538  EWR    PVD   31       160     21  \n",
       "336753  92       FL       354   N966AT  LGA    CAK   69       397     20  \n",
       "336754  39       B6       104   N298JB  JFK    BUF   64       301     21  \n",
       "336755  59       MQ      4660   N510MQ  LGA    BNA  131       764     21  \n",
       "336756 141       EV      4412   N16571  EWR    BUF   56       282     20  \n",
       "336757 167       EV      3274   N16911  LGA    CLE   79       419     19  \n",
       "336758 158       EV      4108   N11176  EWR    IAD   52       212     19  \n",
       "336759 124       MQ      4555   N734MQ  LGA    CMH   86       479     20  \n",
       "336760  96       MQ      4584   N520MQ  LGA    CLT   92       544     21  \n",
       "336761 158       EV      4333   N11194  EWR    TUL  192      1215     20  \n",
       "336762 137       9E      3439   N912XJ  JFK    CVG  105       589     20  \n",
       "336763  88       B6       529   N627JB  EWR    MCO  148       937     21  \n",
       "336764 118       EV      3833   N11199  EWR    STL  152       872     20  \n",
       "336765  21       DL      2155   N354NW  LGA    PWM   38       269     21  \n",
       "336766 -19       B6      1018   N708JB  JFK    BOS   32       187     22  \n",
       "336767  81       B6        11   N652JB  JFK    FLL  168      1069     21  \n",
       "336768  -2       B6       112   N794JB  JFK    BUF   56       301     22  \n",
       "336769 174       EV      3822   N14162  EWR    TYS  112       631     20  \n",
       "336770 101       B6       383   N644JB  LGA    FLL  169      1076     21  \n",
       "336771   5       B6       128   N634JB  JFK    BTV   47       266     22  \n",
       "336772 130       EV      4119   N16919  EWR    RIC   55       277     21  \n",
       "336773  68       EV      4519   N14993  EWR    BWI   38       169     21  \n",
       "336774 232       WN       981   N473WN  LGA    MKE  109       738     19  \n",
       "336775  86       EV      4322   N13958  EWR    PWM   47       284     21  \n",
       "336776 174       MQ      4573   N711MQ  LGA    DTW   82       502     20  \n",
       "       minute time_hour          \n",
       "1       0     2013-12-01 12:00:00\n",
       "2      30     2013-12-01 08:00:00\n",
       "3      29     2013-12-01 22:00:00\n",
       "4      31     2013-12-01 06:00:00\n",
       "5      20     2013-12-01 06:00:00\n",
       "6       0     2013-12-01 07:00:00\n",
       "7      50     2013-12-02 10:00:00\n",
       "8      10     2013-12-02 10:00:00\n",
       "9      45     2013-12-02 18:00:00\n",
       "10     40     2013-12-03 16:00:00\n",
       "11     15     2013-12-03 09:00:00\n",
       "12     45     2013-12-03 18:00:00\n",
       "13     25     2013-12-04 10:00:00\n",
       "14     59     2013-12-04 12:00:00\n",
       "15     20     2013-12-04 10:00:00\n",
       "16     55     2013-12-04 11:00:00\n",
       "17     45     2013-12-04 18:00:00\n",
       "18     59     2013-12-04 13:00:00\n",
       "19      0     2013-12-04 07:00:00\n",
       "20     50     2013-12-04 08:00:00\n",
       "21     25     2013-12-05 09:00:00\n",
       "22     25     2013-12-05 08:00:00\n",
       "23     15     2013-12-05 18:00:00\n",
       "24      0     2013-12-05 19:00:00\n",
       "25     30     2013-12-05 16:00:00\n",
       "26      0     2013-12-05 17:00:00\n",
       "27     35     2013-12-05 12:00:00\n",
       "28     15     2013-12-05 10:00:00\n",
       "29     30     2013-12-05 11:00:00\n",
       "30     30     2013-12-05 19:00:00\n",
       "⋮      ⋮      ⋮                  \n",
       "336747  5     2013-01-31 20:00:00\n",
       "336748  4     2013-01-31 19:00:00\n",
       "336749  5     2013-01-31 20:00:00\n",
       "336750 45     2013-01-31 20:00:00\n",
       "336751 25     2013-01-31 21:00:00\n",
       "336752 25     2013-01-31 21:00:00\n",
       "336753 30     2013-01-31 20:00:00\n",
       "336754 40     2013-01-31 21:00:00\n",
       "336755 25     2013-01-31 21:00:00\n",
       "336756  0     2013-01-31 20:00:00\n",
       "336757 30     2013-01-31 19:00:00\n",
       "336758 45     2013-01-31 19:00:00\n",
       "336759 15     2013-01-31 20:00:00\n",
       "336760  0     2013-01-31 21:00:00\n",
       "336761  0     2013-01-31 20:00:00\n",
       "336762  0     2013-01-31 20:00:00\n",
       "336763 10     2013-01-31 21:00:00\n",
       "336764 42     2013-01-31 20:00:00\n",
       "336765 59     2013-01-31 21:00:00\n",
       "336766 50     2013-01-31 22:00:00\n",
       "336767 35     2013-01-31 21:00:00\n",
       "336768 53     2013-01-31 22:00:00\n",
       "336769  0     2013-01-31 20:00:00\n",
       "336770 30     2013-01-31 21:00:00\n",
       "336771 45     2013-01-31 22:00:00\n",
       "336772  5     2013-01-31 21:00:00\n",
       "336773 59     2013-01-31 21:00:00\n",
       "336774  5     2013-01-31 19:00:00\n",
       "336775 59     2013-01-31 21:00:00\n",
       "336776 55     2013-01-31 20:00:00"
      ]
     },
     "metadata": {},
     "output_type": "display_data"
    }
   ],
   "source": [
    "arrange(flights, desc(month), desc(is.na(dep_time)))"
   ]
  },
  {
   "cell_type": "markdown",
   "metadata": {},
   "source": [
    "arrange()就三个可说的用法\n",
    "\n",
    "分别是，正序排、逆序排、NA排前面以及复合排序"
   ]
  },
  {
   "cell_type": "code",
   "execution_count": 58,
   "metadata": {},
   "outputs": [
    {
     "data": {
      "text/html": [
       "<table>\n",
       "<caption>A tibble: 6 × 19</caption>\n",
       "<thead>\n",
       "\t<tr><th scope=col>year</th><th scope=col>month</th><th scope=col>day</th><th scope=col>dep_time</th><th scope=col>sched_dep_time</th><th scope=col>dep_delay</th><th scope=col>arr_time</th><th scope=col>sched_arr_time</th><th scope=col>arr_delay</th><th scope=col>carrier</th><th scope=col>flight</th><th scope=col>tailnum</th><th scope=col>origin</th><th scope=col>dest</th><th scope=col>air_time</th><th scope=col>distance</th><th scope=col>hour</th><th scope=col>minute</th><th scope=col>time_hour</th></tr>\n",
       "\t<tr><th scope=col>&lt;int&gt;</th><th scope=col>&lt;int&gt;</th><th scope=col>&lt;int&gt;</th><th scope=col>&lt;int&gt;</th><th scope=col>&lt;int&gt;</th><th scope=col>&lt;dbl&gt;</th><th scope=col>&lt;int&gt;</th><th scope=col>&lt;int&gt;</th><th scope=col>&lt;dbl&gt;</th><th scope=col>&lt;chr&gt;</th><th scope=col>&lt;int&gt;</th><th scope=col>&lt;chr&gt;</th><th scope=col>&lt;chr&gt;</th><th scope=col>&lt;chr&gt;</th><th scope=col>&lt;dbl&gt;</th><th scope=col>&lt;dbl&gt;</th><th scope=col>&lt;dbl&gt;</th><th scope=col>&lt;dbl&gt;</th><th scope=col>&lt;dttm&gt;</th></tr>\n",
       "</thead>\n",
       "<tbody>\n",
       "\t<tr><td>2013</td><td>1</td><td>1</td><td>517</td><td>515</td><td> 2</td><td> 830</td><td> 819</td><td> 11</td><td>UA</td><td>1545</td><td>N14228</td><td>EWR</td><td>IAH</td><td>227</td><td>1400</td><td>5</td><td>15</td><td>2013-01-01 05:00:00</td></tr>\n",
       "\t<tr><td>2013</td><td>1</td><td>1</td><td>533</td><td>529</td><td> 4</td><td> 850</td><td> 830</td><td> 20</td><td>UA</td><td>1714</td><td>N24211</td><td>LGA</td><td>IAH</td><td>227</td><td>1416</td><td>5</td><td>29</td><td>2013-01-01 05:00:00</td></tr>\n",
       "\t<tr><td>2013</td><td>1</td><td>1</td><td>542</td><td>540</td><td> 2</td><td> 923</td><td> 850</td><td> 33</td><td>AA</td><td>1141</td><td>N619AA</td><td>JFK</td><td>MIA</td><td>160</td><td>1089</td><td>5</td><td>40</td><td>2013-01-01 05:00:00</td></tr>\n",
       "\t<tr><td>2013</td><td>1</td><td>1</td><td>544</td><td>545</td><td>-1</td><td>1004</td><td>1022</td><td>-18</td><td>B6</td><td> 725</td><td>N804JB</td><td>JFK</td><td>BQN</td><td>183</td><td>1576</td><td>5</td><td>45</td><td>2013-01-01 05:00:00</td></tr>\n",
       "\t<tr><td>2013</td><td>1</td><td>1</td><td>554</td><td>600</td><td>-6</td><td> 812</td><td> 837</td><td>-25</td><td>DL</td><td> 461</td><td>N668DN</td><td>LGA</td><td>ATL</td><td>116</td><td> 762</td><td>6</td><td> 0</td><td>2013-01-01 06:00:00</td></tr>\n",
       "\t<tr><td>2013</td><td>1</td><td>1</td><td>554</td><td>558</td><td>-4</td><td> 740</td><td> 728</td><td> 12</td><td>UA</td><td>1696</td><td>N39463</td><td>EWR</td><td>ORD</td><td>150</td><td> 719</td><td>5</td><td>58</td><td>2013-01-01 05:00:00</td></tr>\n",
       "</tbody>\n",
       "</table>\n"
      ],
      "text/latex": [
       "A tibble: 6 × 19\n",
       "\\begin{tabular}{r|lllllllllllllllllll}\n",
       " year & month & day & dep\\_time & sched\\_dep\\_time & dep\\_delay & arr\\_time & sched\\_arr\\_time & arr\\_delay & carrier & flight & tailnum & origin & dest & air\\_time & distance & hour & minute & time\\_hour\\\\\n",
       " <int> & <int> & <int> & <int> & <int> & <dbl> & <int> & <int> & <dbl> & <chr> & <int> & <chr> & <chr> & <chr> & <dbl> & <dbl> & <dbl> & <dbl> & <dttm>\\\\\n",
       "\\hline\n",
       "\t 2013 & 1 & 1 & 517 & 515 &  2 &  830 &  819 &  11 & UA & 1545 & N14228 & EWR & IAH & 227 & 1400 & 5 & 15 & 2013-01-01 05:00:00\\\\\n",
       "\t 2013 & 1 & 1 & 533 & 529 &  4 &  850 &  830 &  20 & UA & 1714 & N24211 & LGA & IAH & 227 & 1416 & 5 & 29 & 2013-01-01 05:00:00\\\\\n",
       "\t 2013 & 1 & 1 & 542 & 540 &  2 &  923 &  850 &  33 & AA & 1141 & N619AA & JFK & MIA & 160 & 1089 & 5 & 40 & 2013-01-01 05:00:00\\\\\n",
       "\t 2013 & 1 & 1 & 544 & 545 & -1 & 1004 & 1022 & -18 & B6 &  725 & N804JB & JFK & BQN & 183 & 1576 & 5 & 45 & 2013-01-01 05:00:00\\\\\n",
       "\t 2013 & 1 & 1 & 554 & 600 & -6 &  812 &  837 & -25 & DL &  461 & N668DN & LGA & ATL & 116 &  762 & 6 &  0 & 2013-01-01 06:00:00\\\\\n",
       "\t 2013 & 1 & 1 & 554 & 558 & -4 &  740 &  728 &  12 & UA & 1696 & N39463 & EWR & ORD & 150 &  719 & 5 & 58 & 2013-01-01 05:00:00\\\\\n",
       "\\end{tabular}\n"
      ],
      "text/markdown": [
       "\n",
       "A tibble: 6 × 19\n",
       "\n",
       "| year &lt;int&gt; | month &lt;int&gt; | day &lt;int&gt; | dep_time &lt;int&gt; | sched_dep_time &lt;int&gt; | dep_delay &lt;dbl&gt; | arr_time &lt;int&gt; | sched_arr_time &lt;int&gt; | arr_delay &lt;dbl&gt; | carrier &lt;chr&gt; | flight &lt;int&gt; | tailnum &lt;chr&gt; | origin &lt;chr&gt; | dest &lt;chr&gt; | air_time &lt;dbl&gt; | distance &lt;dbl&gt; | hour &lt;dbl&gt; | minute &lt;dbl&gt; | time_hour &lt;dttm&gt; |\n",
       "|---|---|---|---|---|---|---|---|---|---|---|---|---|---|---|---|---|---|---|\n",
       "| 2013 | 1 | 1 | 517 | 515 |  2 |  830 |  819 |  11 | UA | 1545 | N14228 | EWR | IAH | 227 | 1400 | 5 | 15 | 2013-01-01 05:00:00 |\n",
       "| 2013 | 1 | 1 | 533 | 529 |  4 |  850 |  830 |  20 | UA | 1714 | N24211 | LGA | IAH | 227 | 1416 | 5 | 29 | 2013-01-01 05:00:00 |\n",
       "| 2013 | 1 | 1 | 542 | 540 |  2 |  923 |  850 |  33 | AA | 1141 | N619AA | JFK | MIA | 160 | 1089 | 5 | 40 | 2013-01-01 05:00:00 |\n",
       "| 2013 | 1 | 1 | 544 | 545 | -1 | 1004 | 1022 | -18 | B6 |  725 | N804JB | JFK | BQN | 183 | 1576 | 5 | 45 | 2013-01-01 05:00:00 |\n",
       "| 2013 | 1 | 1 | 554 | 600 | -6 |  812 |  837 | -25 | DL |  461 | N668DN | LGA | ATL | 116 |  762 | 6 |  0 | 2013-01-01 06:00:00 |\n",
       "| 2013 | 1 | 1 | 554 | 558 | -4 |  740 |  728 |  12 | UA | 1696 | N39463 | EWR | ORD | 150 |  719 | 5 | 58 | 2013-01-01 05:00:00 |\n",
       "\n"
      ],
      "text/plain": [
       "  year month day dep_time sched_dep_time dep_delay arr_time sched_arr_time\n",
       "1 2013 1     1   517      515             2         830      819          \n",
       "2 2013 1     1   533      529             4         850      830          \n",
       "3 2013 1     1   542      540             2         923      850          \n",
       "4 2013 1     1   544      545            -1        1004     1022          \n",
       "5 2013 1     1   554      600            -6         812      837          \n",
       "6 2013 1     1   554      558            -4         740      728          \n",
       "  arr_delay carrier flight tailnum origin dest air_time distance hour minute\n",
       "1  11       UA      1545   N14228  EWR    IAH  227      1400     5    15    \n",
       "2  20       UA      1714   N24211  LGA    IAH  227      1416     5    29    \n",
       "3  33       AA      1141   N619AA  JFK    MIA  160      1089     5    40    \n",
       "4 -18       B6       725   N804JB  JFK    BQN  183      1576     5    45    \n",
       "5 -25       DL       461   N668DN  LGA    ATL  116       762     6     0    \n",
       "6  12       UA      1696   N39463  EWR    ORD  150       719     5    58    \n",
       "  time_hour          \n",
       "1 2013-01-01 05:00:00\n",
       "2 2013-01-01 05:00:00\n",
       "3 2013-01-01 05:00:00\n",
       "4 2013-01-01 05:00:00\n",
       "5 2013-01-01 06:00:00\n",
       "6 2013-01-01 05:00:00"
      ]
     },
     "metadata": {},
     "output_type": "display_data"
    },
    {
     "data": {
      "text/html": [
       "<table>\n",
       "<caption>A tibble: 6 × 19</caption>\n",
       "<thead>\n",
       "\t<tr><th scope=col>year</th><th scope=col>month</th><th scope=col>day</th><th scope=col>dep_time</th><th scope=col>sched_dep_time</th><th scope=col>dep_delay</th><th scope=col>arr_time</th><th scope=col>sched_arr_time</th><th scope=col>arr_delay</th><th scope=col>carrier</th><th scope=col>flight</th><th scope=col>tailnum</th><th scope=col>origin</th><th scope=col>dest</th><th scope=col>air_time</th><th scope=col>distance</th><th scope=col>hour</th><th scope=col>minute</th><th scope=col>time_hour</th></tr>\n",
       "\t<tr><th scope=col>&lt;int&gt;</th><th scope=col>&lt;int&gt;</th><th scope=col>&lt;int&gt;</th><th scope=col>&lt;int&gt;</th><th scope=col>&lt;int&gt;</th><th scope=col>&lt;dbl&gt;</th><th scope=col>&lt;int&gt;</th><th scope=col>&lt;int&gt;</th><th scope=col>&lt;dbl&gt;</th><th scope=col>&lt;chr&gt;</th><th scope=col>&lt;int&gt;</th><th scope=col>&lt;chr&gt;</th><th scope=col>&lt;chr&gt;</th><th scope=col>&lt;chr&gt;</th><th scope=col>&lt;dbl&gt;</th><th scope=col>&lt;dbl&gt;</th><th scope=col>&lt;dbl&gt;</th><th scope=col>&lt;dbl&gt;</th><th scope=col>&lt;dttm&gt;</th></tr>\n",
       "</thead>\n",
       "<tbody>\n",
       "\t<tr><td>2013</td><td> 1</td><td>13</td><td>1</td><td>2249</td><td> 72</td><td>108</td><td>2357</td><td> 71</td><td>B6</td><td>  22</td><td>N206JB</td><td>JFK</td><td>SYR</td><td> 41</td><td> 209</td><td>22</td><td>49</td><td>2013-01-13 22:00:00</td></tr>\n",
       "\t<tr><td>2013</td><td> 1</td><td>31</td><td>1</td><td>2100</td><td>181</td><td>124</td><td>2225</td><td>179</td><td>WN</td><td> 530</td><td>N550WN</td><td>LGA</td><td>MDW</td><td>127</td><td> 725</td><td>21</td><td> 0</td><td>2013-01-31 21:00:00</td></tr>\n",
       "\t<tr><td>2013</td><td>11</td><td>13</td><td>1</td><td>2359</td><td>  2</td><td>442</td><td> 440</td><td>  2</td><td>B6</td><td>1503</td><td>N627JB</td><td>JFK</td><td>SJU</td><td>194</td><td>1598</td><td>23</td><td>59</td><td>2013-11-13 23:00:00</td></tr>\n",
       "\t<tr><td>2013</td><td>12</td><td>16</td><td>1</td><td>2359</td><td>  2</td><td>447</td><td> 437</td><td> 10</td><td>B6</td><td> 839</td><td>N607JB</td><td>JFK</td><td>BQN</td><td>202</td><td>1576</td><td>23</td><td>59</td><td>2013-12-16 23:00:00</td></tr>\n",
       "\t<tr><td>2013</td><td>12</td><td>20</td><td>1</td><td>2359</td><td>  2</td><td>430</td><td> 440</td><td>-10</td><td>B6</td><td>1503</td><td>N608JB</td><td>JFK</td><td>SJU</td><td>182</td><td>1598</td><td>23</td><td>59</td><td>2013-12-20 23:00:00</td></tr>\n",
       "\t<tr><td>2013</td><td>12</td><td>26</td><td>1</td><td>2359</td><td>  2</td><td>437</td><td> 440</td><td> -3</td><td>B6</td><td>1503</td><td>N527JB</td><td>JFK</td><td>SJU</td><td>197</td><td>1598</td><td>23</td><td>59</td><td>2013-12-26 23:00:00</td></tr>\n",
       "</tbody>\n",
       "</table>\n"
      ],
      "text/latex": [
       "A tibble: 6 × 19\n",
       "\\begin{tabular}{r|lllllllllllllllllll}\n",
       " year & month & day & dep\\_time & sched\\_dep\\_time & dep\\_delay & arr\\_time & sched\\_arr\\_time & arr\\_delay & carrier & flight & tailnum & origin & dest & air\\_time & distance & hour & minute & time\\_hour\\\\\n",
       " <int> & <int> & <int> & <int> & <int> & <dbl> & <int> & <int> & <dbl> & <chr> & <int> & <chr> & <chr> & <chr> & <dbl> & <dbl> & <dbl> & <dbl> & <dttm>\\\\\n",
       "\\hline\n",
       "\t 2013 &  1 & 13 & 1 & 2249 &  72 & 108 & 2357 &  71 & B6 &   22 & N206JB & JFK & SYR &  41 &  209 & 22 & 49 & 2013-01-13 22:00:00\\\\\n",
       "\t 2013 &  1 & 31 & 1 & 2100 & 181 & 124 & 2225 & 179 & WN &  530 & N550WN & LGA & MDW & 127 &  725 & 21 &  0 & 2013-01-31 21:00:00\\\\\n",
       "\t 2013 & 11 & 13 & 1 & 2359 &   2 & 442 &  440 &   2 & B6 & 1503 & N627JB & JFK & SJU & 194 & 1598 & 23 & 59 & 2013-11-13 23:00:00\\\\\n",
       "\t 2013 & 12 & 16 & 1 & 2359 &   2 & 447 &  437 &  10 & B6 &  839 & N607JB & JFK & BQN & 202 & 1576 & 23 & 59 & 2013-12-16 23:00:00\\\\\n",
       "\t 2013 & 12 & 20 & 1 & 2359 &   2 & 430 &  440 & -10 & B6 & 1503 & N608JB & JFK & SJU & 182 & 1598 & 23 & 59 & 2013-12-20 23:00:00\\\\\n",
       "\t 2013 & 12 & 26 & 1 & 2359 &   2 & 437 &  440 &  -3 & B6 & 1503 & N527JB & JFK & SJU & 197 & 1598 & 23 & 59 & 2013-12-26 23:00:00\\\\\n",
       "\\end{tabular}\n"
      ],
      "text/markdown": [
       "\n",
       "A tibble: 6 × 19\n",
       "\n",
       "| year &lt;int&gt; | month &lt;int&gt; | day &lt;int&gt; | dep_time &lt;int&gt; | sched_dep_time &lt;int&gt; | dep_delay &lt;dbl&gt; | arr_time &lt;int&gt; | sched_arr_time &lt;int&gt; | arr_delay &lt;dbl&gt; | carrier &lt;chr&gt; | flight &lt;int&gt; | tailnum &lt;chr&gt; | origin &lt;chr&gt; | dest &lt;chr&gt; | air_time &lt;dbl&gt; | distance &lt;dbl&gt; | hour &lt;dbl&gt; | minute &lt;dbl&gt; | time_hour &lt;dttm&gt; |\n",
       "|---|---|---|---|---|---|---|---|---|---|---|---|---|---|---|---|---|---|---|\n",
       "| 2013 |  1 | 13 | 1 | 2249 |  72 | 108 | 2357 |  71 | B6 |   22 | N206JB | JFK | SYR |  41 |  209 | 22 | 49 | 2013-01-13 22:00:00 |\n",
       "| 2013 |  1 | 31 | 1 | 2100 | 181 | 124 | 2225 | 179 | WN |  530 | N550WN | LGA | MDW | 127 |  725 | 21 |  0 | 2013-01-31 21:00:00 |\n",
       "| 2013 | 11 | 13 | 1 | 2359 |   2 | 442 |  440 |   2 | B6 | 1503 | N627JB | JFK | SJU | 194 | 1598 | 23 | 59 | 2013-11-13 23:00:00 |\n",
       "| 2013 | 12 | 16 | 1 | 2359 |   2 | 447 |  437 |  10 | B6 |  839 | N607JB | JFK | BQN | 202 | 1576 | 23 | 59 | 2013-12-16 23:00:00 |\n",
       "| 2013 | 12 | 20 | 1 | 2359 |   2 | 430 |  440 | -10 | B6 | 1503 | N608JB | JFK | SJU | 182 | 1598 | 23 | 59 | 2013-12-20 23:00:00 |\n",
       "| 2013 | 12 | 26 | 1 | 2359 |   2 | 437 |  440 |  -3 | B6 | 1503 | N527JB | JFK | SJU | 197 | 1598 | 23 | 59 | 2013-12-26 23:00:00 |\n",
       "\n"
      ],
      "text/plain": [
       "  year month day dep_time sched_dep_time dep_delay arr_time sched_arr_time\n",
       "1 2013  1    13  1        2249            72       108      2357          \n",
       "2 2013  1    31  1        2100           181       124      2225          \n",
       "3 2013 11    13  1        2359             2       442       440          \n",
       "4 2013 12    16  1        2359             2       447       437          \n",
       "5 2013 12    20  1        2359             2       430       440          \n",
       "6 2013 12    26  1        2359             2       437       440          \n",
       "  arr_delay carrier flight tailnum origin dest air_time distance hour minute\n",
       "1  71       B6        22   N206JB  JFK    SYR   41       209     22   49    \n",
       "2 179       WN       530   N550WN  LGA    MDW  127       725     21    0    \n",
       "3   2       B6      1503   N627JB  JFK    SJU  194      1598     23   59    \n",
       "4  10       B6       839   N607JB  JFK    BQN  202      1576     23   59    \n",
       "5 -10       B6      1503   N608JB  JFK    SJU  182      1598     23   59    \n",
       "6  -3       B6      1503   N527JB  JFK    SJU  197      1598     23   59    \n",
       "  time_hour          \n",
       "1 2013-01-13 22:00:00\n",
       "2 2013-01-31 21:00:00\n",
       "3 2013-11-13 23:00:00\n",
       "4 2013-12-16 23:00:00\n",
       "5 2013-12-20 23:00:00\n",
       "6 2013-12-26 23:00:00"
      ]
     },
     "metadata": {},
     "output_type": "display_data"
    }
   ],
   "source": [
    "# 正序排\n",
    "head(arrange(flights, month))\n",
    "\n",
    "head(arrange(flights, dep_time))"
   ]
  },
  {
   "cell_type": "code",
   "execution_count": 59,
   "metadata": {},
   "outputs": [
    {
     "data": {
      "text/html": [
       "<table>\n",
       "<caption>A tibble: 6 × 19</caption>\n",
       "<thead>\n",
       "\t<tr><th scope=col>year</th><th scope=col>month</th><th scope=col>day</th><th scope=col>dep_time</th><th scope=col>sched_dep_time</th><th scope=col>dep_delay</th><th scope=col>arr_time</th><th scope=col>sched_arr_time</th><th scope=col>arr_delay</th><th scope=col>carrier</th><th scope=col>flight</th><th scope=col>tailnum</th><th scope=col>origin</th><th scope=col>dest</th><th scope=col>air_time</th><th scope=col>distance</th><th scope=col>hour</th><th scope=col>minute</th><th scope=col>time_hour</th></tr>\n",
       "\t<tr><th scope=col>&lt;int&gt;</th><th scope=col>&lt;int&gt;</th><th scope=col>&lt;int&gt;</th><th scope=col>&lt;int&gt;</th><th scope=col>&lt;int&gt;</th><th scope=col>&lt;dbl&gt;</th><th scope=col>&lt;int&gt;</th><th scope=col>&lt;int&gt;</th><th scope=col>&lt;dbl&gt;</th><th scope=col>&lt;chr&gt;</th><th scope=col>&lt;int&gt;</th><th scope=col>&lt;chr&gt;</th><th scope=col>&lt;chr&gt;</th><th scope=col>&lt;chr&gt;</th><th scope=col>&lt;dbl&gt;</th><th scope=col>&lt;dbl&gt;</th><th scope=col>&lt;dbl&gt;</th><th scope=col>&lt;dbl&gt;</th><th scope=col>&lt;dttm&gt;</th></tr>\n",
       "</thead>\n",
       "<tbody>\n",
       "\t<tr><td>2013</td><td>1</td><td>31</td><td> 1</td><td>2100</td><td>181</td><td>124</td><td>2225</td><td>179</td><td>WN</td><td> 530</td><td>N550WN</td><td>LGA</td><td>MDW</td><td>127</td><td> 725</td><td>21</td><td> 0</td><td>2013-01-31 21:00:00</td></tr>\n",
       "\t<tr><td>2013</td><td>1</td><td>31</td><td> 4</td><td>2359</td><td>  5</td><td>455</td><td> 444</td><td> 11</td><td>B6</td><td> 739</td><td>N599JB</td><td>JFK</td><td>PSE</td><td>206</td><td>1617</td><td>23</td><td>59</td><td>2013-01-31 23:00:00</td></tr>\n",
       "\t<tr><td>2013</td><td>1</td><td>31</td><td> 7</td><td>2359</td><td>  8</td><td>453</td><td> 437</td><td> 16</td><td>B6</td><td> 727</td><td>N505JB</td><td>JFK</td><td>BQN</td><td>197</td><td>1576</td><td>23</td><td>59</td><td>2013-01-31 23:00:00</td></tr>\n",
       "\t<tr><td>2013</td><td>1</td><td>31</td><td>12</td><td>2250</td><td> 82</td><td>132</td><td>   7</td><td> 85</td><td>B6</td><td>  30</td><td>N178JB</td><td>JFK</td><td>ROC</td><td> 60</td><td> 264</td><td>22</td><td>50</td><td>2013-01-31 22:00:00</td></tr>\n",
       "\t<tr><td>2013</td><td>1</td><td>31</td><td>26</td><td>2154</td><td>152</td><td>328</td><td>  50</td><td>158</td><td>B6</td><td> 515</td><td>N663JB</td><td>EWR</td><td>FLL</td><td>161</td><td>1065</td><td>21</td><td>54</td><td>2013-01-31 21:00:00</td></tr>\n",
       "\t<tr><td>2013</td><td>1</td><td>31</td><td>34</td><td>2159</td><td>155</td><td>135</td><td>2315</td><td>140</td><td>EV</td><td>4162</td><td>N24128</td><td>EWR</td><td>BTV</td><td> 43</td><td> 266</td><td>21</td><td>59</td><td>2013-01-31 21:00:00</td></tr>\n",
       "</tbody>\n",
       "</table>\n"
      ],
      "text/latex": [
       "A tibble: 6 × 19\n",
       "\\begin{tabular}{r|lllllllllllllllllll}\n",
       " year & month & day & dep\\_time & sched\\_dep\\_time & dep\\_delay & arr\\_time & sched\\_arr\\_time & arr\\_delay & carrier & flight & tailnum & origin & dest & air\\_time & distance & hour & minute & time\\_hour\\\\\n",
       " <int> & <int> & <int> & <int> & <int> & <dbl> & <int> & <int> & <dbl> & <chr> & <int> & <chr> & <chr> & <chr> & <dbl> & <dbl> & <dbl> & <dbl> & <dttm>\\\\\n",
       "\\hline\n",
       "\t 2013 & 1 & 31 &  1 & 2100 & 181 & 124 & 2225 & 179 & WN &  530 & N550WN & LGA & MDW & 127 &  725 & 21 &  0 & 2013-01-31 21:00:00\\\\\n",
       "\t 2013 & 1 & 31 &  4 & 2359 &   5 & 455 &  444 &  11 & B6 &  739 & N599JB & JFK & PSE & 206 & 1617 & 23 & 59 & 2013-01-31 23:00:00\\\\\n",
       "\t 2013 & 1 & 31 &  7 & 2359 &   8 & 453 &  437 &  16 & B6 &  727 & N505JB & JFK & BQN & 197 & 1576 & 23 & 59 & 2013-01-31 23:00:00\\\\\n",
       "\t 2013 & 1 & 31 & 12 & 2250 &  82 & 132 &    7 &  85 & B6 &   30 & N178JB & JFK & ROC &  60 &  264 & 22 & 50 & 2013-01-31 22:00:00\\\\\n",
       "\t 2013 & 1 & 31 & 26 & 2154 & 152 & 328 &   50 & 158 & B6 &  515 & N663JB & EWR & FLL & 161 & 1065 & 21 & 54 & 2013-01-31 21:00:00\\\\\n",
       "\t 2013 & 1 & 31 & 34 & 2159 & 155 & 135 & 2315 & 140 & EV & 4162 & N24128 & EWR & BTV &  43 &  266 & 21 & 59 & 2013-01-31 21:00:00\\\\\n",
       "\\end{tabular}\n"
      ],
      "text/markdown": [
       "\n",
       "A tibble: 6 × 19\n",
       "\n",
       "| year &lt;int&gt; | month &lt;int&gt; | day &lt;int&gt; | dep_time &lt;int&gt; | sched_dep_time &lt;int&gt; | dep_delay &lt;dbl&gt; | arr_time &lt;int&gt; | sched_arr_time &lt;int&gt; | arr_delay &lt;dbl&gt; | carrier &lt;chr&gt; | flight &lt;int&gt; | tailnum &lt;chr&gt; | origin &lt;chr&gt; | dest &lt;chr&gt; | air_time &lt;dbl&gt; | distance &lt;dbl&gt; | hour &lt;dbl&gt; | minute &lt;dbl&gt; | time_hour &lt;dttm&gt; |\n",
       "|---|---|---|---|---|---|---|---|---|---|---|---|---|---|---|---|---|---|---|\n",
       "| 2013 | 1 | 31 |  1 | 2100 | 181 | 124 | 2225 | 179 | WN |  530 | N550WN | LGA | MDW | 127 |  725 | 21 |  0 | 2013-01-31 21:00:00 |\n",
       "| 2013 | 1 | 31 |  4 | 2359 |   5 | 455 |  444 |  11 | B6 |  739 | N599JB | JFK | PSE | 206 | 1617 | 23 | 59 | 2013-01-31 23:00:00 |\n",
       "| 2013 | 1 | 31 |  7 | 2359 |   8 | 453 |  437 |  16 | B6 |  727 | N505JB | JFK | BQN | 197 | 1576 | 23 | 59 | 2013-01-31 23:00:00 |\n",
       "| 2013 | 1 | 31 | 12 | 2250 |  82 | 132 |    7 |  85 | B6 |   30 | N178JB | JFK | ROC |  60 |  264 | 22 | 50 | 2013-01-31 22:00:00 |\n",
       "| 2013 | 1 | 31 | 26 | 2154 | 152 | 328 |   50 | 158 | B6 |  515 | N663JB | EWR | FLL | 161 | 1065 | 21 | 54 | 2013-01-31 21:00:00 |\n",
       "| 2013 | 1 | 31 | 34 | 2159 | 155 | 135 | 2315 | 140 | EV | 4162 | N24128 | EWR | BTV |  43 |  266 | 21 | 59 | 2013-01-31 21:00:00 |\n",
       "\n"
      ],
      "text/plain": [
       "  year month day dep_time sched_dep_time dep_delay arr_time sched_arr_time\n",
       "1 2013 1     31   1       2100           181       124      2225          \n",
       "2 2013 1     31   4       2359             5       455       444          \n",
       "3 2013 1     31   7       2359             8       453       437          \n",
       "4 2013 1     31  12       2250            82       132         7          \n",
       "5 2013 1     31  26       2154           152       328        50          \n",
       "6 2013 1     31  34       2159           155       135      2315          \n",
       "  arr_delay carrier flight tailnum origin dest air_time distance hour minute\n",
       "1 179       WN       530   N550WN  LGA    MDW  127       725     21    0    \n",
       "2  11       B6       739   N599JB  JFK    PSE  206      1617     23   59    \n",
       "3  16       B6       727   N505JB  JFK    BQN  197      1576     23   59    \n",
       "4  85       B6        30   N178JB  JFK    ROC   60       264     22   50    \n",
       "5 158       B6       515   N663JB  EWR    FLL  161      1065     21   54    \n",
       "6 140       EV      4162   N24128  EWR    BTV   43       266     21   59    \n",
       "  time_hour          \n",
       "1 2013-01-31 21:00:00\n",
       "2 2013-01-31 23:00:00\n",
       "3 2013-01-31 23:00:00\n",
       "4 2013-01-31 22:00:00\n",
       "5 2013-01-31 21:00:00\n",
       "6 2013-01-31 21:00:00"
      ]
     },
     "metadata": {},
     "output_type": "display_data"
    },
    {
     "data": {
      "text/html": [
       "<table>\n",
       "<caption>A tibble: 6 × 19</caption>\n",
       "<thead>\n",
       "\t<tr><th scope=col>year</th><th scope=col>month</th><th scope=col>day</th><th scope=col>dep_time</th><th scope=col>sched_dep_time</th><th scope=col>dep_delay</th><th scope=col>arr_time</th><th scope=col>sched_arr_time</th><th scope=col>arr_delay</th><th scope=col>carrier</th><th scope=col>flight</th><th scope=col>tailnum</th><th scope=col>origin</th><th scope=col>dest</th><th scope=col>air_time</th><th scope=col>distance</th><th scope=col>hour</th><th scope=col>minute</th><th scope=col>time_hour</th></tr>\n",
       "\t<tr><th scope=col>&lt;int&gt;</th><th scope=col>&lt;int&gt;</th><th scope=col>&lt;int&gt;</th><th scope=col>&lt;int&gt;</th><th scope=col>&lt;int&gt;</th><th scope=col>&lt;dbl&gt;</th><th scope=col>&lt;int&gt;</th><th scope=col>&lt;int&gt;</th><th scope=col>&lt;dbl&gt;</th><th scope=col>&lt;chr&gt;</th><th scope=col>&lt;int&gt;</th><th scope=col>&lt;chr&gt;</th><th scope=col>&lt;chr&gt;</th><th scope=col>&lt;chr&gt;</th><th scope=col>&lt;dbl&gt;</th><th scope=col>&lt;dbl&gt;</th><th scope=col>&lt;dbl&gt;</th><th scope=col>&lt;dbl&gt;</th><th scope=col>&lt;dttm&gt;</th></tr>\n",
       "</thead>\n",
       "<tbody>\n",
       "\t<tr><td>2013</td><td>1</td><td> 9</td><td> 641</td><td> 900</td><td>1301</td><td>1242</td><td>1530</td><td>1272</td><td>HA</td><td>  51</td><td>N384HA</td><td>JFK</td><td>HNL</td><td>640</td><td>4983</td><td> 9</td><td> 0</td><td>2013-01-09 09:00:00</td></tr>\n",
       "\t<tr><td>2013</td><td>6</td><td>15</td><td>1432</td><td>1935</td><td>1137</td><td>1607</td><td>2120</td><td>1127</td><td>MQ</td><td>3535</td><td>N504MQ</td><td>JFK</td><td>CMH</td><td> 74</td><td> 483</td><td>19</td><td>35</td><td>2013-06-15 19:00:00</td></tr>\n",
       "\t<tr><td>2013</td><td>1</td><td>10</td><td>1121</td><td>1635</td><td>1126</td><td>1239</td><td>1810</td><td>1109</td><td>MQ</td><td>3695</td><td>N517MQ</td><td>EWR</td><td>ORD</td><td>111</td><td> 719</td><td>16</td><td>35</td><td>2013-01-10 16:00:00</td></tr>\n",
       "\t<tr><td>2013</td><td>9</td><td>20</td><td>1139</td><td>1845</td><td>1014</td><td>1457</td><td>2210</td><td>1007</td><td>AA</td><td> 177</td><td>N338AA</td><td>JFK</td><td>SFO</td><td>354</td><td>2586</td><td>18</td><td>45</td><td>2013-09-20 18:00:00</td></tr>\n",
       "\t<tr><td>2013</td><td>7</td><td>22</td><td> 845</td><td>1600</td><td>1005</td><td>1044</td><td>1815</td><td> 989</td><td>MQ</td><td>3075</td><td>N665MQ</td><td>JFK</td><td>CVG</td><td> 96</td><td> 589</td><td>16</td><td> 0</td><td>2013-07-22 16:00:00</td></tr>\n",
       "\t<tr><td>2013</td><td>4</td><td>10</td><td>1100</td><td>1900</td><td> 960</td><td>1342</td><td>2211</td><td> 931</td><td>DL</td><td>2391</td><td>N959DL</td><td>JFK</td><td>TPA</td><td>139</td><td>1005</td><td>19</td><td> 0</td><td>2013-04-10 19:00:00</td></tr>\n",
       "</tbody>\n",
       "</table>\n"
      ],
      "text/latex": [
       "A tibble: 6 × 19\n",
       "\\begin{tabular}{r|lllllllllllllllllll}\n",
       " year & month & day & dep\\_time & sched\\_dep\\_time & dep\\_delay & arr\\_time & sched\\_arr\\_time & arr\\_delay & carrier & flight & tailnum & origin & dest & air\\_time & distance & hour & minute & time\\_hour\\\\\n",
       " <int> & <int> & <int> & <int> & <int> & <dbl> & <int> & <int> & <dbl> & <chr> & <int> & <chr> & <chr> & <chr> & <dbl> & <dbl> & <dbl> & <dbl> & <dttm>\\\\\n",
       "\\hline\n",
       "\t 2013 & 1 &  9 &  641 &  900 & 1301 & 1242 & 1530 & 1272 & HA &   51 & N384HA & JFK & HNL & 640 & 4983 &  9 &  0 & 2013-01-09 09:00:00\\\\\n",
       "\t 2013 & 6 & 15 & 1432 & 1935 & 1137 & 1607 & 2120 & 1127 & MQ & 3535 & N504MQ & JFK & CMH &  74 &  483 & 19 & 35 & 2013-06-15 19:00:00\\\\\n",
       "\t 2013 & 1 & 10 & 1121 & 1635 & 1126 & 1239 & 1810 & 1109 & MQ & 3695 & N517MQ & EWR & ORD & 111 &  719 & 16 & 35 & 2013-01-10 16:00:00\\\\\n",
       "\t 2013 & 9 & 20 & 1139 & 1845 & 1014 & 1457 & 2210 & 1007 & AA &  177 & N338AA & JFK & SFO & 354 & 2586 & 18 & 45 & 2013-09-20 18:00:00\\\\\n",
       "\t 2013 & 7 & 22 &  845 & 1600 & 1005 & 1044 & 1815 &  989 & MQ & 3075 & N665MQ & JFK & CVG &  96 &  589 & 16 &  0 & 2013-07-22 16:00:00\\\\\n",
       "\t 2013 & 4 & 10 & 1100 & 1900 &  960 & 1342 & 2211 &  931 & DL & 2391 & N959DL & JFK & TPA & 139 & 1005 & 19 &  0 & 2013-04-10 19:00:00\\\\\n",
       "\\end{tabular}\n"
      ],
      "text/markdown": [
       "\n",
       "A tibble: 6 × 19\n",
       "\n",
       "| year &lt;int&gt; | month &lt;int&gt; | day &lt;int&gt; | dep_time &lt;int&gt; | sched_dep_time &lt;int&gt; | dep_delay &lt;dbl&gt; | arr_time &lt;int&gt; | sched_arr_time &lt;int&gt; | arr_delay &lt;dbl&gt; | carrier &lt;chr&gt; | flight &lt;int&gt; | tailnum &lt;chr&gt; | origin &lt;chr&gt; | dest &lt;chr&gt; | air_time &lt;dbl&gt; | distance &lt;dbl&gt; | hour &lt;dbl&gt; | minute &lt;dbl&gt; | time_hour &lt;dttm&gt; |\n",
       "|---|---|---|---|---|---|---|---|---|---|---|---|---|---|---|---|---|---|---|\n",
       "| 2013 | 1 |  9 |  641 |  900 | 1301 | 1242 | 1530 | 1272 | HA |   51 | N384HA | JFK | HNL | 640 | 4983 |  9 |  0 | 2013-01-09 09:00:00 |\n",
       "| 2013 | 6 | 15 | 1432 | 1935 | 1137 | 1607 | 2120 | 1127 | MQ | 3535 | N504MQ | JFK | CMH |  74 |  483 | 19 | 35 | 2013-06-15 19:00:00 |\n",
       "| 2013 | 1 | 10 | 1121 | 1635 | 1126 | 1239 | 1810 | 1109 | MQ | 3695 | N517MQ | EWR | ORD | 111 |  719 | 16 | 35 | 2013-01-10 16:00:00 |\n",
       "| 2013 | 9 | 20 | 1139 | 1845 | 1014 | 1457 | 2210 | 1007 | AA |  177 | N338AA | JFK | SFO | 354 | 2586 | 18 | 45 | 2013-09-20 18:00:00 |\n",
       "| 2013 | 7 | 22 |  845 | 1600 | 1005 | 1044 | 1815 |  989 | MQ | 3075 | N665MQ | JFK | CVG |  96 |  589 | 16 |  0 | 2013-07-22 16:00:00 |\n",
       "| 2013 | 4 | 10 | 1100 | 1900 |  960 | 1342 | 2211 |  931 | DL | 2391 | N959DL | JFK | TPA | 139 | 1005 | 19 |  0 | 2013-04-10 19:00:00 |\n",
       "\n"
      ],
      "text/plain": [
       "  year month day dep_time sched_dep_time dep_delay arr_time sched_arr_time\n",
       "1 2013 1      9   641      900           1301      1242     1530          \n",
       "2 2013 6     15  1432     1935           1137      1607     2120          \n",
       "3 2013 1     10  1121     1635           1126      1239     1810          \n",
       "4 2013 9     20  1139     1845           1014      1457     2210          \n",
       "5 2013 7     22   845     1600           1005      1044     1815          \n",
       "6 2013 4     10  1100     1900            960      1342     2211          \n",
       "  arr_delay carrier flight tailnum origin dest air_time distance hour minute\n",
       "1 1272      HA        51   N384HA  JFK    HNL  640      4983      9    0    \n",
       "2 1127      MQ      3535   N504MQ  JFK    CMH   74       483     19   35    \n",
       "3 1109      MQ      3695   N517MQ  EWR    ORD  111       719     16   35    \n",
       "4 1007      AA       177   N338AA  JFK    SFO  354      2586     18   45    \n",
       "5  989      MQ      3075   N665MQ  JFK    CVG   96       589     16    0    \n",
       "6  931      DL      2391   N959DL  JFK    TPA  139      1005     19    0    \n",
       "  time_hour          \n",
       "1 2013-01-09 09:00:00\n",
       "2 2013-06-15 19:00:00\n",
       "3 2013-01-10 16:00:00\n",
       "4 2013-09-20 18:00:00\n",
       "5 2013-07-22 16:00:00\n",
       "6 2013-04-10 19:00:00"
      ]
     },
     "metadata": {},
     "output_type": "display_data"
    }
   ],
   "source": [
    "# 逆序排\n",
    "head(arrange(flights, desc(day)))\n",
    "\n",
    "head(arrange(flights, desc(dep_delay)))"
   ]
  },
  {
   "cell_type": "code",
   "execution_count": 60,
   "metadata": {},
   "outputs": [
    {
     "data": {
      "text/html": [
       "<table>\n",
       "<caption>A tibble: 6 × 19</caption>\n",
       "<thead>\n",
       "\t<tr><th scope=col>year</th><th scope=col>month</th><th scope=col>day</th><th scope=col>dep_time</th><th scope=col>sched_dep_time</th><th scope=col>dep_delay</th><th scope=col>arr_time</th><th scope=col>sched_arr_time</th><th scope=col>arr_delay</th><th scope=col>carrier</th><th scope=col>flight</th><th scope=col>tailnum</th><th scope=col>origin</th><th scope=col>dest</th><th scope=col>air_time</th><th scope=col>distance</th><th scope=col>hour</th><th scope=col>minute</th><th scope=col>time_hour</th></tr>\n",
       "\t<tr><th scope=col>&lt;int&gt;</th><th scope=col>&lt;int&gt;</th><th scope=col>&lt;int&gt;</th><th scope=col>&lt;int&gt;</th><th scope=col>&lt;int&gt;</th><th scope=col>&lt;dbl&gt;</th><th scope=col>&lt;int&gt;</th><th scope=col>&lt;int&gt;</th><th scope=col>&lt;dbl&gt;</th><th scope=col>&lt;chr&gt;</th><th scope=col>&lt;int&gt;</th><th scope=col>&lt;chr&gt;</th><th scope=col>&lt;chr&gt;</th><th scope=col>&lt;chr&gt;</th><th scope=col>&lt;dbl&gt;</th><th scope=col>&lt;dbl&gt;</th><th scope=col>&lt;dbl&gt;</th><th scope=col>&lt;dbl&gt;</th><th scope=col>&lt;dttm&gt;</th></tr>\n",
       "</thead>\n",
       "<tbody>\n",
       "\t<tr><td>2013</td><td>9</td><td>30</td><td>NA</td><td>1842</td><td>NA</td><td>NA</td><td>2019</td><td>NA</td><td>EV</td><td>5274</td><td>N740EV</td><td>LGA</td><td>BNA</td><td>NA</td><td>764</td><td>18</td><td>42</td><td>2013-09-30 18:00:00</td></tr>\n",
       "\t<tr><td>2013</td><td>9</td><td>30</td><td>NA</td><td>1455</td><td>NA</td><td>NA</td><td>1634</td><td>NA</td><td>9E</td><td>3393</td><td>NA    </td><td>JFK</td><td>DCA</td><td>NA</td><td>213</td><td>14</td><td>55</td><td>2013-09-30 14:00:00</td></tr>\n",
       "\t<tr><td>2013</td><td>9</td><td>30</td><td>NA</td><td>2200</td><td>NA</td><td>NA</td><td>2312</td><td>NA</td><td>9E</td><td>3525</td><td>NA    </td><td>LGA</td><td>SYR</td><td>NA</td><td>198</td><td>22</td><td> 0</td><td>2013-09-30 22:00:00</td></tr>\n",
       "\t<tr><td>2013</td><td>9</td><td>30</td><td>NA</td><td>1210</td><td>NA</td><td>NA</td><td>1330</td><td>NA</td><td>MQ</td><td>3461</td><td>N535MQ</td><td>LGA</td><td>BNA</td><td>NA</td><td>764</td><td>12</td><td>10</td><td>2013-09-30 12:00:00</td></tr>\n",
       "\t<tr><td>2013</td><td>9</td><td>30</td><td>NA</td><td>1159</td><td>NA</td><td>NA</td><td>1344</td><td>NA</td><td>MQ</td><td>3572</td><td>N511MQ</td><td>LGA</td><td>CLE</td><td>NA</td><td>419</td><td>11</td><td>59</td><td>2013-09-30 11:00:00</td></tr>\n",
       "\t<tr><td>2013</td><td>9</td><td>30</td><td>NA</td><td> 840</td><td>NA</td><td>NA</td><td>1020</td><td>NA</td><td>MQ</td><td>3531</td><td>N839MQ</td><td>LGA</td><td>RDU</td><td>NA</td><td>431</td><td> 8</td><td>40</td><td>2013-09-30 08:00:00</td></tr>\n",
       "</tbody>\n",
       "</table>\n"
      ],
      "text/latex": [
       "A tibble: 6 × 19\n",
       "\\begin{tabular}{r|lllllllllllllllllll}\n",
       " year & month & day & dep\\_time & sched\\_dep\\_time & dep\\_delay & arr\\_time & sched\\_arr\\_time & arr\\_delay & carrier & flight & tailnum & origin & dest & air\\_time & distance & hour & minute & time\\_hour\\\\\n",
       " <int> & <int> & <int> & <int> & <int> & <dbl> & <int> & <int> & <dbl> & <chr> & <int> & <chr> & <chr> & <chr> & <dbl> & <dbl> & <dbl> & <dbl> & <dttm>\\\\\n",
       "\\hline\n",
       "\t 2013 & 9 & 30 & NA & 1842 & NA & NA & 2019 & NA & EV & 5274 & N740EV & LGA & BNA & NA & 764 & 18 & 42 & 2013-09-30 18:00:00\\\\\n",
       "\t 2013 & 9 & 30 & NA & 1455 & NA & NA & 1634 & NA & 9E & 3393 & NA     & JFK & DCA & NA & 213 & 14 & 55 & 2013-09-30 14:00:00\\\\\n",
       "\t 2013 & 9 & 30 & NA & 2200 & NA & NA & 2312 & NA & 9E & 3525 & NA     & LGA & SYR & NA & 198 & 22 &  0 & 2013-09-30 22:00:00\\\\\n",
       "\t 2013 & 9 & 30 & NA & 1210 & NA & NA & 1330 & NA & MQ & 3461 & N535MQ & LGA & BNA & NA & 764 & 12 & 10 & 2013-09-30 12:00:00\\\\\n",
       "\t 2013 & 9 & 30 & NA & 1159 & NA & NA & 1344 & NA & MQ & 3572 & N511MQ & LGA & CLE & NA & 419 & 11 & 59 & 2013-09-30 11:00:00\\\\\n",
       "\t 2013 & 9 & 30 & NA &  840 & NA & NA & 1020 & NA & MQ & 3531 & N839MQ & LGA & RDU & NA & 431 &  8 & 40 & 2013-09-30 08:00:00\\\\\n",
       "\\end{tabular}\n"
      ],
      "text/markdown": [
       "\n",
       "A tibble: 6 × 19\n",
       "\n",
       "| year &lt;int&gt; | month &lt;int&gt; | day &lt;int&gt; | dep_time &lt;int&gt; | sched_dep_time &lt;int&gt; | dep_delay &lt;dbl&gt; | arr_time &lt;int&gt; | sched_arr_time &lt;int&gt; | arr_delay &lt;dbl&gt; | carrier &lt;chr&gt; | flight &lt;int&gt; | tailnum &lt;chr&gt; | origin &lt;chr&gt; | dest &lt;chr&gt; | air_time &lt;dbl&gt; | distance &lt;dbl&gt; | hour &lt;dbl&gt; | minute &lt;dbl&gt; | time_hour &lt;dttm&gt; |\n",
       "|---|---|---|---|---|---|---|---|---|---|---|---|---|---|---|---|---|---|---|\n",
       "| 2013 | 9 | 30 | NA | 1842 | NA | NA | 2019 | NA | EV | 5274 | N740EV | LGA | BNA | NA | 764 | 18 | 42 | 2013-09-30 18:00:00 |\n",
       "| 2013 | 9 | 30 | NA | 1455 | NA | NA | 1634 | NA | 9E | 3393 | NA     | JFK | DCA | NA | 213 | 14 | 55 | 2013-09-30 14:00:00 |\n",
       "| 2013 | 9 | 30 | NA | 2200 | NA | NA | 2312 | NA | 9E | 3525 | NA     | LGA | SYR | NA | 198 | 22 |  0 | 2013-09-30 22:00:00 |\n",
       "| 2013 | 9 | 30 | NA | 1210 | NA | NA | 1330 | NA | MQ | 3461 | N535MQ | LGA | BNA | NA | 764 | 12 | 10 | 2013-09-30 12:00:00 |\n",
       "| 2013 | 9 | 30 | NA | 1159 | NA | NA | 1344 | NA | MQ | 3572 | N511MQ | LGA | CLE | NA | 419 | 11 | 59 | 2013-09-30 11:00:00 |\n",
       "| 2013 | 9 | 30 | NA |  840 | NA | NA | 1020 | NA | MQ | 3531 | N839MQ | LGA | RDU | NA | 431 |  8 | 40 | 2013-09-30 08:00:00 |\n",
       "\n"
      ],
      "text/plain": [
       "  year month day dep_time sched_dep_time dep_delay arr_time sched_arr_time\n",
       "1 2013 9     30  NA       1842           NA        NA       2019          \n",
       "2 2013 9     30  NA       1455           NA        NA       1634          \n",
       "3 2013 9     30  NA       2200           NA        NA       2312          \n",
       "4 2013 9     30  NA       1210           NA        NA       1330          \n",
       "5 2013 9     30  NA       1159           NA        NA       1344          \n",
       "6 2013 9     30  NA        840           NA        NA       1020          \n",
       "  arr_delay carrier flight tailnum origin dest air_time distance hour minute\n",
       "1 NA        EV      5274   N740EV  LGA    BNA  NA       764      18   42    \n",
       "2 NA        9E      3393   NA      JFK    DCA  NA       213      14   55    \n",
       "3 NA        9E      3525   NA      LGA    SYR  NA       198      22    0    \n",
       "4 NA        MQ      3461   N535MQ  LGA    BNA  NA       764      12   10    \n",
       "5 NA        MQ      3572   N511MQ  LGA    CLE  NA       419      11   59    \n",
       "6 NA        MQ      3531   N839MQ  LGA    RDU  NA       431       8   40    \n",
       "  time_hour          \n",
       "1 2013-09-30 18:00:00\n",
       "2 2013-09-30 14:00:00\n",
       "3 2013-09-30 22:00:00\n",
       "4 2013-09-30 12:00:00\n",
       "5 2013-09-30 11:00:00\n",
       "6 2013-09-30 08:00:00"
      ]
     },
     "metadata": {},
     "output_type": "display_data"
    },
    {
     "data": {
      "text/html": [
       "<table>\n",
       "<caption>A tibble: 6 × 19</caption>\n",
       "<thead>\n",
       "\t<tr><th scope=col>year</th><th scope=col>month</th><th scope=col>day</th><th scope=col>dep_time</th><th scope=col>sched_dep_time</th><th scope=col>dep_delay</th><th scope=col>arr_time</th><th scope=col>sched_arr_time</th><th scope=col>arr_delay</th><th scope=col>carrier</th><th scope=col>flight</th><th scope=col>tailnum</th><th scope=col>origin</th><th scope=col>dest</th><th scope=col>air_time</th><th scope=col>distance</th><th scope=col>hour</th><th scope=col>minute</th><th scope=col>time_hour</th></tr>\n",
       "\t<tr><th scope=col>&lt;int&gt;</th><th scope=col>&lt;int&gt;</th><th scope=col>&lt;int&gt;</th><th scope=col>&lt;int&gt;</th><th scope=col>&lt;int&gt;</th><th scope=col>&lt;dbl&gt;</th><th scope=col>&lt;int&gt;</th><th scope=col>&lt;int&gt;</th><th scope=col>&lt;dbl&gt;</th><th scope=col>&lt;chr&gt;</th><th scope=col>&lt;int&gt;</th><th scope=col>&lt;chr&gt;</th><th scope=col>&lt;chr&gt;</th><th scope=col>&lt;chr&gt;</th><th scope=col>&lt;dbl&gt;</th><th scope=col>&lt;dbl&gt;</th><th scope=col>&lt;dbl&gt;</th><th scope=col>&lt;dbl&gt;</th><th scope=col>&lt;dttm&gt;</th></tr>\n",
       "</thead>\n",
       "<tbody>\n",
       "\t<tr><td>2013</td><td>9</td><td>30</td><td>NA</td><td>1842</td><td>NA</td><td>NA</td><td>2019</td><td>NA</td><td>EV</td><td>5274</td><td>N740EV</td><td>LGA</td><td>BNA</td><td>NA</td><td>764</td><td>18</td><td>42</td><td>2013-09-30 18:00:00</td></tr>\n",
       "\t<tr><td>2013</td><td>9</td><td>30</td><td>NA</td><td>1455</td><td>NA</td><td>NA</td><td>1634</td><td>NA</td><td>9E</td><td>3393</td><td>NA    </td><td>JFK</td><td>DCA</td><td>NA</td><td>213</td><td>14</td><td>55</td><td>2013-09-30 14:00:00</td></tr>\n",
       "\t<tr><td>2013</td><td>9</td><td>30</td><td>NA</td><td>2200</td><td>NA</td><td>NA</td><td>2312</td><td>NA</td><td>9E</td><td>3525</td><td>NA    </td><td>LGA</td><td>SYR</td><td>NA</td><td>198</td><td>22</td><td> 0</td><td>2013-09-30 22:00:00</td></tr>\n",
       "\t<tr><td>2013</td><td>9</td><td>30</td><td>NA</td><td>1210</td><td>NA</td><td>NA</td><td>1330</td><td>NA</td><td>MQ</td><td>3461</td><td>N535MQ</td><td>LGA</td><td>BNA</td><td>NA</td><td>764</td><td>12</td><td>10</td><td>2013-09-30 12:00:00</td></tr>\n",
       "\t<tr><td>2013</td><td>9</td><td>30</td><td>NA</td><td>1159</td><td>NA</td><td>NA</td><td>1344</td><td>NA</td><td>MQ</td><td>3572</td><td>N511MQ</td><td>LGA</td><td>CLE</td><td>NA</td><td>419</td><td>11</td><td>59</td><td>2013-09-30 11:00:00</td></tr>\n",
       "\t<tr><td>2013</td><td>9</td><td>30</td><td>NA</td><td> 840</td><td>NA</td><td>NA</td><td>1020</td><td>NA</td><td>MQ</td><td>3531</td><td>N839MQ</td><td>LGA</td><td>RDU</td><td>NA</td><td>431</td><td> 8</td><td>40</td><td>2013-09-30 08:00:00</td></tr>\n",
       "</tbody>\n",
       "</table>\n"
      ],
      "text/latex": [
       "A tibble: 6 × 19\n",
       "\\begin{tabular}{r|lllllllllllllllllll}\n",
       " year & month & day & dep\\_time & sched\\_dep\\_time & dep\\_delay & arr\\_time & sched\\_arr\\_time & arr\\_delay & carrier & flight & tailnum & origin & dest & air\\_time & distance & hour & minute & time\\_hour\\\\\n",
       " <int> & <int> & <int> & <int> & <int> & <dbl> & <int> & <int> & <dbl> & <chr> & <int> & <chr> & <chr> & <chr> & <dbl> & <dbl> & <dbl> & <dbl> & <dttm>\\\\\n",
       "\\hline\n",
       "\t 2013 & 9 & 30 & NA & 1842 & NA & NA & 2019 & NA & EV & 5274 & N740EV & LGA & BNA & NA & 764 & 18 & 42 & 2013-09-30 18:00:00\\\\\n",
       "\t 2013 & 9 & 30 & NA & 1455 & NA & NA & 1634 & NA & 9E & 3393 & NA     & JFK & DCA & NA & 213 & 14 & 55 & 2013-09-30 14:00:00\\\\\n",
       "\t 2013 & 9 & 30 & NA & 2200 & NA & NA & 2312 & NA & 9E & 3525 & NA     & LGA & SYR & NA & 198 & 22 &  0 & 2013-09-30 22:00:00\\\\\n",
       "\t 2013 & 9 & 30 & NA & 1210 & NA & NA & 1330 & NA & MQ & 3461 & N535MQ & LGA & BNA & NA & 764 & 12 & 10 & 2013-09-30 12:00:00\\\\\n",
       "\t 2013 & 9 & 30 & NA & 1159 & NA & NA & 1344 & NA & MQ & 3572 & N511MQ & LGA & CLE & NA & 419 & 11 & 59 & 2013-09-30 11:00:00\\\\\n",
       "\t 2013 & 9 & 30 & NA &  840 & NA & NA & 1020 & NA & MQ & 3531 & N839MQ & LGA & RDU & NA & 431 &  8 & 40 & 2013-09-30 08:00:00\\\\\n",
       "\\end{tabular}\n"
      ],
      "text/markdown": [
       "\n",
       "A tibble: 6 × 19\n",
       "\n",
       "| year &lt;int&gt; | month &lt;int&gt; | day &lt;int&gt; | dep_time &lt;int&gt; | sched_dep_time &lt;int&gt; | dep_delay &lt;dbl&gt; | arr_time &lt;int&gt; | sched_arr_time &lt;int&gt; | arr_delay &lt;dbl&gt; | carrier &lt;chr&gt; | flight &lt;int&gt; | tailnum &lt;chr&gt; | origin &lt;chr&gt; | dest &lt;chr&gt; | air_time &lt;dbl&gt; | distance &lt;dbl&gt; | hour &lt;dbl&gt; | minute &lt;dbl&gt; | time_hour &lt;dttm&gt; |\n",
       "|---|---|---|---|---|---|---|---|---|---|---|---|---|---|---|---|---|---|---|\n",
       "| 2013 | 9 | 30 | NA | 1842 | NA | NA | 2019 | NA | EV | 5274 | N740EV | LGA | BNA | NA | 764 | 18 | 42 | 2013-09-30 18:00:00 |\n",
       "| 2013 | 9 | 30 | NA | 1455 | NA | NA | 1634 | NA | 9E | 3393 | NA     | JFK | DCA | NA | 213 | 14 | 55 | 2013-09-30 14:00:00 |\n",
       "| 2013 | 9 | 30 | NA | 2200 | NA | NA | 2312 | NA | 9E | 3525 | NA     | LGA | SYR | NA | 198 | 22 |  0 | 2013-09-30 22:00:00 |\n",
       "| 2013 | 9 | 30 | NA | 1210 | NA | NA | 1330 | NA | MQ | 3461 | N535MQ | LGA | BNA | NA | 764 | 12 | 10 | 2013-09-30 12:00:00 |\n",
       "| 2013 | 9 | 30 | NA | 1159 | NA | NA | 1344 | NA | MQ | 3572 | N511MQ | LGA | CLE | NA | 419 | 11 | 59 | 2013-09-30 11:00:00 |\n",
       "| 2013 | 9 | 30 | NA |  840 | NA | NA | 1020 | NA | MQ | 3531 | N839MQ | LGA | RDU | NA | 431 |  8 | 40 | 2013-09-30 08:00:00 |\n",
       "\n"
      ],
      "text/plain": [
       "  year month day dep_time sched_dep_time dep_delay arr_time sched_arr_time\n",
       "1 2013 9     30  NA       1842           NA        NA       2019          \n",
       "2 2013 9     30  NA       1455           NA        NA       1634          \n",
       "3 2013 9     30  NA       2200           NA        NA       2312          \n",
       "4 2013 9     30  NA       1210           NA        NA       1330          \n",
       "5 2013 9     30  NA       1159           NA        NA       1344          \n",
       "6 2013 9     30  NA        840           NA        NA       1020          \n",
       "  arr_delay carrier flight tailnum origin dest air_time distance hour minute\n",
       "1 NA        EV      5274   N740EV  LGA    BNA  NA       764      18   42    \n",
       "2 NA        9E      3393   NA      JFK    DCA  NA       213      14   55    \n",
       "3 NA        9E      3525   NA      LGA    SYR  NA       198      22    0    \n",
       "4 NA        MQ      3461   N535MQ  LGA    BNA  NA       764      12   10    \n",
       "5 NA        MQ      3572   N511MQ  LGA    CLE  NA       419      11   59    \n",
       "6 NA        MQ      3531   N839MQ  LGA    RDU  NA       431       8   40    \n",
       "  time_hour          \n",
       "1 2013-09-30 18:00:00\n",
       "2 2013-09-30 14:00:00\n",
       "3 2013-09-30 22:00:00\n",
       "4 2013-09-30 12:00:00\n",
       "5 2013-09-30 11:00:00\n",
       "6 2013-09-30 08:00:00"
      ]
     },
     "metadata": {},
     "output_type": "display_data"
    },
    {
     "data": {
      "text/html": [
       "<table>\n",
       "<caption>A tibble: 6 × 19</caption>\n",
       "<thead>\n",
       "\t<tr><th scope=col>year</th><th scope=col>month</th><th scope=col>day</th><th scope=col>dep_time</th><th scope=col>sched_dep_time</th><th scope=col>dep_delay</th><th scope=col>arr_time</th><th scope=col>sched_arr_time</th><th scope=col>arr_delay</th><th scope=col>carrier</th><th scope=col>flight</th><th scope=col>tailnum</th><th scope=col>origin</th><th scope=col>dest</th><th scope=col>air_time</th><th scope=col>distance</th><th scope=col>hour</th><th scope=col>minute</th><th scope=col>time_hour</th></tr>\n",
       "\t<tr><th scope=col>&lt;int&gt;</th><th scope=col>&lt;int&gt;</th><th scope=col>&lt;int&gt;</th><th scope=col>&lt;int&gt;</th><th scope=col>&lt;int&gt;</th><th scope=col>&lt;dbl&gt;</th><th scope=col>&lt;int&gt;</th><th scope=col>&lt;int&gt;</th><th scope=col>&lt;dbl&gt;</th><th scope=col>&lt;chr&gt;</th><th scope=col>&lt;int&gt;</th><th scope=col>&lt;chr&gt;</th><th scope=col>&lt;chr&gt;</th><th scope=col>&lt;chr&gt;</th><th scope=col>&lt;dbl&gt;</th><th scope=col>&lt;dbl&gt;</th><th scope=col>&lt;dbl&gt;</th><th scope=col>&lt;dbl&gt;</th><th scope=col>&lt;dttm&gt;</th></tr>\n",
       "</thead>\n",
       "<tbody>\n",
       "\t<tr><td>2013</td><td>1</td><td>1</td><td>517</td><td>515</td><td> 2</td><td> 830</td><td> 819</td><td> 11</td><td>UA</td><td>1545</td><td>N14228</td><td>EWR</td><td>IAH</td><td>227</td><td>1400</td><td>5</td><td>15</td><td>2013-01-01 05:00:00</td></tr>\n",
       "\t<tr><td>2013</td><td>1</td><td>1</td><td>533</td><td>529</td><td> 4</td><td> 850</td><td> 830</td><td> 20</td><td>UA</td><td>1714</td><td>N24211</td><td>LGA</td><td>IAH</td><td>227</td><td>1416</td><td>5</td><td>29</td><td>2013-01-01 05:00:00</td></tr>\n",
       "\t<tr><td>2013</td><td>1</td><td>1</td><td>542</td><td>540</td><td> 2</td><td> 923</td><td> 850</td><td> 33</td><td>AA</td><td>1141</td><td>N619AA</td><td>JFK</td><td>MIA</td><td>160</td><td>1089</td><td>5</td><td>40</td><td>2013-01-01 05:00:00</td></tr>\n",
       "\t<tr><td>2013</td><td>1</td><td>1</td><td>544</td><td>545</td><td>-1</td><td>1004</td><td>1022</td><td>-18</td><td>B6</td><td> 725</td><td>N804JB</td><td>JFK</td><td>BQN</td><td>183</td><td>1576</td><td>5</td><td>45</td><td>2013-01-01 05:00:00</td></tr>\n",
       "\t<tr><td>2013</td><td>1</td><td>1</td><td>554</td><td>600</td><td>-6</td><td> 812</td><td> 837</td><td>-25</td><td>DL</td><td> 461</td><td>N668DN</td><td>LGA</td><td>ATL</td><td>116</td><td> 762</td><td>6</td><td> 0</td><td>2013-01-01 06:00:00</td></tr>\n",
       "\t<tr><td>2013</td><td>1</td><td>1</td><td>554</td><td>558</td><td>-4</td><td> 740</td><td> 728</td><td> 12</td><td>UA</td><td>1696</td><td>N39463</td><td>EWR</td><td>ORD</td><td>150</td><td> 719</td><td>5</td><td>58</td><td>2013-01-01 05:00:00</td></tr>\n",
       "</tbody>\n",
       "</table>\n"
      ],
      "text/latex": [
       "A tibble: 6 × 19\n",
       "\\begin{tabular}{r|lllllllllllllllllll}\n",
       " year & month & day & dep\\_time & sched\\_dep\\_time & dep\\_delay & arr\\_time & sched\\_arr\\_time & arr\\_delay & carrier & flight & tailnum & origin & dest & air\\_time & distance & hour & minute & time\\_hour\\\\\n",
       " <int> & <int> & <int> & <int> & <int> & <dbl> & <int> & <int> & <dbl> & <chr> & <int> & <chr> & <chr> & <chr> & <dbl> & <dbl> & <dbl> & <dbl> & <dttm>\\\\\n",
       "\\hline\n",
       "\t 2013 & 1 & 1 & 517 & 515 &  2 &  830 &  819 &  11 & UA & 1545 & N14228 & EWR & IAH & 227 & 1400 & 5 & 15 & 2013-01-01 05:00:00\\\\\n",
       "\t 2013 & 1 & 1 & 533 & 529 &  4 &  850 &  830 &  20 & UA & 1714 & N24211 & LGA & IAH & 227 & 1416 & 5 & 29 & 2013-01-01 05:00:00\\\\\n",
       "\t 2013 & 1 & 1 & 542 & 540 &  2 &  923 &  850 &  33 & AA & 1141 & N619AA & JFK & MIA & 160 & 1089 & 5 & 40 & 2013-01-01 05:00:00\\\\\n",
       "\t 2013 & 1 & 1 & 544 & 545 & -1 & 1004 & 1022 & -18 & B6 &  725 & N804JB & JFK & BQN & 183 & 1576 & 5 & 45 & 2013-01-01 05:00:00\\\\\n",
       "\t 2013 & 1 & 1 & 554 & 600 & -6 &  812 &  837 & -25 & DL &  461 & N668DN & LGA & ATL & 116 &  762 & 6 &  0 & 2013-01-01 06:00:00\\\\\n",
       "\t 2013 & 1 & 1 & 554 & 558 & -4 &  740 &  728 &  12 & UA & 1696 & N39463 & EWR & ORD & 150 &  719 & 5 & 58 & 2013-01-01 05:00:00\\\\\n",
       "\\end{tabular}\n"
      ],
      "text/markdown": [
       "\n",
       "A tibble: 6 × 19\n",
       "\n",
       "| year &lt;int&gt; | month &lt;int&gt; | day &lt;int&gt; | dep_time &lt;int&gt; | sched_dep_time &lt;int&gt; | dep_delay &lt;dbl&gt; | arr_time &lt;int&gt; | sched_arr_time &lt;int&gt; | arr_delay &lt;dbl&gt; | carrier &lt;chr&gt; | flight &lt;int&gt; | tailnum &lt;chr&gt; | origin &lt;chr&gt; | dest &lt;chr&gt; | air_time &lt;dbl&gt; | distance &lt;dbl&gt; | hour &lt;dbl&gt; | minute &lt;dbl&gt; | time_hour &lt;dttm&gt; |\n",
       "|---|---|---|---|---|---|---|---|---|---|---|---|---|---|---|---|---|---|---|\n",
       "| 2013 | 1 | 1 | 517 | 515 |  2 |  830 |  819 |  11 | UA | 1545 | N14228 | EWR | IAH | 227 | 1400 | 5 | 15 | 2013-01-01 05:00:00 |\n",
       "| 2013 | 1 | 1 | 533 | 529 |  4 |  850 |  830 |  20 | UA | 1714 | N24211 | LGA | IAH | 227 | 1416 | 5 | 29 | 2013-01-01 05:00:00 |\n",
       "| 2013 | 1 | 1 | 542 | 540 |  2 |  923 |  850 |  33 | AA | 1141 | N619AA | JFK | MIA | 160 | 1089 | 5 | 40 | 2013-01-01 05:00:00 |\n",
       "| 2013 | 1 | 1 | 544 | 545 | -1 | 1004 | 1022 | -18 | B6 |  725 | N804JB | JFK | BQN | 183 | 1576 | 5 | 45 | 2013-01-01 05:00:00 |\n",
       "| 2013 | 1 | 1 | 554 | 600 | -6 |  812 |  837 | -25 | DL |  461 | N668DN | LGA | ATL | 116 |  762 | 6 |  0 | 2013-01-01 06:00:00 |\n",
       "| 2013 | 1 | 1 | 554 | 558 | -4 |  740 |  728 |  12 | UA | 1696 | N39463 | EWR | ORD | 150 |  719 | 5 | 58 | 2013-01-01 05:00:00 |\n",
       "\n"
      ],
      "text/plain": [
       "  year month day dep_time sched_dep_time dep_delay arr_time sched_arr_time\n",
       "1 2013 1     1   517      515             2         830      819          \n",
       "2 2013 1     1   533      529             4         850      830          \n",
       "3 2013 1     1   542      540             2         923      850          \n",
       "4 2013 1     1   544      545            -1        1004     1022          \n",
       "5 2013 1     1   554      600            -6         812      837          \n",
       "6 2013 1     1   554      558            -4         740      728          \n",
       "  arr_delay carrier flight tailnum origin dest air_time distance hour minute\n",
       "1  11       UA      1545   N14228  EWR    IAH  227      1400     5    15    \n",
       "2  20       UA      1714   N24211  LGA    IAH  227      1416     5    29    \n",
       "3  33       AA      1141   N619AA  JFK    MIA  160      1089     5    40    \n",
       "4 -18       B6       725   N804JB  JFK    BQN  183      1576     5    45    \n",
       "5 -25       DL       461   N668DN  LGA    ATL  116       762     6     0    \n",
       "6  12       UA      1696   N39463  EWR    ORD  150       719     5    58    \n",
       "  time_hour          \n",
       "1 2013-01-01 05:00:00\n",
       "2 2013-01-01 05:00:00\n",
       "3 2013-01-01 05:00:00\n",
       "4 2013-01-01 05:00:00\n",
       "5 2013-01-01 06:00:00\n",
       "6 2013-01-01 05:00:00"
      ]
     },
     "metadata": {},
     "output_type": "display_data"
    },
    {
     "data": {
      "text/html": [
       "<table>\n",
       "<caption>A tibble: 6 × 19</caption>\n",
       "<thead>\n",
       "\t<tr><th scope=col>year</th><th scope=col>month</th><th scope=col>day</th><th scope=col>dep_time</th><th scope=col>sched_dep_time</th><th scope=col>dep_delay</th><th scope=col>arr_time</th><th scope=col>sched_arr_time</th><th scope=col>arr_delay</th><th scope=col>carrier</th><th scope=col>flight</th><th scope=col>tailnum</th><th scope=col>origin</th><th scope=col>dest</th><th scope=col>air_time</th><th scope=col>distance</th><th scope=col>hour</th><th scope=col>minute</th><th scope=col>time_hour</th></tr>\n",
       "\t<tr><th scope=col>&lt;int&gt;</th><th scope=col>&lt;int&gt;</th><th scope=col>&lt;int&gt;</th><th scope=col>&lt;int&gt;</th><th scope=col>&lt;int&gt;</th><th scope=col>&lt;dbl&gt;</th><th scope=col>&lt;int&gt;</th><th scope=col>&lt;int&gt;</th><th scope=col>&lt;dbl&gt;</th><th scope=col>&lt;chr&gt;</th><th scope=col>&lt;int&gt;</th><th scope=col>&lt;chr&gt;</th><th scope=col>&lt;chr&gt;</th><th scope=col>&lt;chr&gt;</th><th scope=col>&lt;dbl&gt;</th><th scope=col>&lt;dbl&gt;</th><th scope=col>&lt;dbl&gt;</th><th scope=col>&lt;dbl&gt;</th><th scope=col>&lt;dttm&gt;</th></tr>\n",
       "</thead>\n",
       "<tbody>\n",
       "\t<tr><td>2013</td><td>1</td><td>1</td><td>NA</td><td>1630</td><td>NA</td><td>NA</td><td>1815</td><td>NA</td><td>EV</td><td>4308</td><td>N18120</td><td>EWR</td><td>RDU</td><td>NA</td><td> 416</td><td>16</td><td>30</td><td>2013-01-01 16:00:00</td></tr>\n",
       "\t<tr><td>2013</td><td>1</td><td>1</td><td>NA</td><td>1935</td><td>NA</td><td>NA</td><td>2240</td><td>NA</td><td>AA</td><td> 791</td><td>N3EHAA</td><td>LGA</td><td>DFW</td><td>NA</td><td>1389</td><td>19</td><td>35</td><td>2013-01-01 19:00:00</td></tr>\n",
       "\t<tr><td>2013</td><td>1</td><td>1</td><td>NA</td><td>1500</td><td>NA</td><td>NA</td><td>1825</td><td>NA</td><td>AA</td><td>1925</td><td>N3EVAA</td><td>LGA</td><td>MIA</td><td>NA</td><td>1096</td><td>15</td><td> 0</td><td>2013-01-01 15:00:00</td></tr>\n",
       "\t<tr><td>2013</td><td>1</td><td>1</td><td>NA</td><td> 600</td><td>NA</td><td>NA</td><td> 901</td><td>NA</td><td>B6</td><td> 125</td><td>N618JB</td><td>JFK</td><td>FLL</td><td>NA</td><td>1069</td><td> 6</td><td> 0</td><td>2013-01-01 06:00:00</td></tr>\n",
       "\t<tr><td>2013</td><td>1</td><td>2</td><td>NA</td><td>1540</td><td>NA</td><td>NA</td><td>1747</td><td>NA</td><td>EV</td><td>4352</td><td>N10575</td><td>EWR</td><td>CVG</td><td>NA</td><td> 569</td><td>15</td><td>40</td><td>2013-01-02 15:00:00</td></tr>\n",
       "\t<tr><td>2013</td><td>1</td><td>2</td><td>NA</td><td>1620</td><td>NA</td><td>NA</td><td>1746</td><td>NA</td><td>EV</td><td>4406</td><td>N13949</td><td>EWR</td><td>PIT</td><td>NA</td><td> 319</td><td>16</td><td>20</td><td>2013-01-02 16:00:00</td></tr>\n",
       "</tbody>\n",
       "</table>\n"
      ],
      "text/latex": [
       "A tibble: 6 × 19\n",
       "\\begin{tabular}{r|lllllllllllllllllll}\n",
       " year & month & day & dep\\_time & sched\\_dep\\_time & dep\\_delay & arr\\_time & sched\\_arr\\_time & arr\\_delay & carrier & flight & tailnum & origin & dest & air\\_time & distance & hour & minute & time\\_hour\\\\\n",
       " <int> & <int> & <int> & <int> & <int> & <dbl> & <int> & <int> & <dbl> & <chr> & <int> & <chr> & <chr> & <chr> & <dbl> & <dbl> & <dbl> & <dbl> & <dttm>\\\\\n",
       "\\hline\n",
       "\t 2013 & 1 & 1 & NA & 1630 & NA & NA & 1815 & NA & EV & 4308 & N18120 & EWR & RDU & NA &  416 & 16 & 30 & 2013-01-01 16:00:00\\\\\n",
       "\t 2013 & 1 & 1 & NA & 1935 & NA & NA & 2240 & NA & AA &  791 & N3EHAA & LGA & DFW & NA & 1389 & 19 & 35 & 2013-01-01 19:00:00\\\\\n",
       "\t 2013 & 1 & 1 & NA & 1500 & NA & NA & 1825 & NA & AA & 1925 & N3EVAA & LGA & MIA & NA & 1096 & 15 &  0 & 2013-01-01 15:00:00\\\\\n",
       "\t 2013 & 1 & 1 & NA &  600 & NA & NA &  901 & NA & B6 &  125 & N618JB & JFK & FLL & NA & 1069 &  6 &  0 & 2013-01-01 06:00:00\\\\\n",
       "\t 2013 & 1 & 2 & NA & 1540 & NA & NA & 1747 & NA & EV & 4352 & N10575 & EWR & CVG & NA &  569 & 15 & 40 & 2013-01-02 15:00:00\\\\\n",
       "\t 2013 & 1 & 2 & NA & 1620 & NA & NA & 1746 & NA & EV & 4406 & N13949 & EWR & PIT & NA &  319 & 16 & 20 & 2013-01-02 16:00:00\\\\\n",
       "\\end{tabular}\n"
      ],
      "text/markdown": [
       "\n",
       "A tibble: 6 × 19\n",
       "\n",
       "| year &lt;int&gt; | month &lt;int&gt; | day &lt;int&gt; | dep_time &lt;int&gt; | sched_dep_time &lt;int&gt; | dep_delay &lt;dbl&gt; | arr_time &lt;int&gt; | sched_arr_time &lt;int&gt; | arr_delay &lt;dbl&gt; | carrier &lt;chr&gt; | flight &lt;int&gt; | tailnum &lt;chr&gt; | origin &lt;chr&gt; | dest &lt;chr&gt; | air_time &lt;dbl&gt; | distance &lt;dbl&gt; | hour &lt;dbl&gt; | minute &lt;dbl&gt; | time_hour &lt;dttm&gt; |\n",
       "|---|---|---|---|---|---|---|---|---|---|---|---|---|---|---|---|---|---|---|\n",
       "| 2013 | 1 | 1 | NA | 1630 | NA | NA | 1815 | NA | EV | 4308 | N18120 | EWR | RDU | NA |  416 | 16 | 30 | 2013-01-01 16:00:00 |\n",
       "| 2013 | 1 | 1 | NA | 1935 | NA | NA | 2240 | NA | AA |  791 | N3EHAA | LGA | DFW | NA | 1389 | 19 | 35 | 2013-01-01 19:00:00 |\n",
       "| 2013 | 1 | 1 | NA | 1500 | NA | NA | 1825 | NA | AA | 1925 | N3EVAA | LGA | MIA | NA | 1096 | 15 |  0 | 2013-01-01 15:00:00 |\n",
       "| 2013 | 1 | 1 | NA |  600 | NA | NA |  901 | NA | B6 |  125 | N618JB | JFK | FLL | NA | 1069 |  6 |  0 | 2013-01-01 06:00:00 |\n",
       "| 2013 | 1 | 2 | NA | 1540 | NA | NA | 1747 | NA | EV | 4352 | N10575 | EWR | CVG | NA |  569 | 15 | 40 | 2013-01-02 15:00:00 |\n",
       "| 2013 | 1 | 2 | NA | 1620 | NA | NA | 1746 | NA | EV | 4406 | N13949 | EWR | PIT | NA |  319 | 16 | 20 | 2013-01-02 16:00:00 |\n",
       "\n"
      ],
      "text/plain": [
       "  year month day dep_time sched_dep_time dep_delay arr_time sched_arr_time\n",
       "1 2013 1     1   NA       1630           NA        NA       1815          \n",
       "2 2013 1     1   NA       1935           NA        NA       2240          \n",
       "3 2013 1     1   NA       1500           NA        NA       1825          \n",
       "4 2013 1     1   NA        600           NA        NA        901          \n",
       "5 2013 1     2   NA       1540           NA        NA       1747          \n",
       "6 2013 1     2   NA       1620           NA        NA       1746          \n",
       "  arr_delay carrier flight tailnum origin dest air_time distance hour minute\n",
       "1 NA        EV      4308   N18120  EWR    RDU  NA        416     16   30    \n",
       "2 NA        AA       791   N3EHAA  LGA    DFW  NA       1389     19   35    \n",
       "3 NA        AA      1925   N3EVAA  LGA    MIA  NA       1096     15    0    \n",
       "4 NA        B6       125   N618JB  JFK    FLL  NA       1069      6    0    \n",
       "5 NA        EV      4352   N10575  EWR    CVG  NA        569     15   40    \n",
       "6 NA        EV      4406   N13949  EWR    PIT  NA        319     16   20    \n",
       "  time_hour          \n",
       "1 2013-01-01 16:00:00\n",
       "2 2013-01-01 19:00:00\n",
       "3 2013-01-01 15:00:00\n",
       "4 2013-01-01 06:00:00\n",
       "5 2013-01-02 15:00:00\n",
       "6 2013-01-02 16:00:00"
      ]
     },
     "metadata": {},
     "output_type": "display_data"
    }
   ],
   "source": [
    "# NA排前面（默认NA是排在末尾的）\n",
    "tail(arrange(flights, dep_time))\n",
    "tail(arrange(flights, desc(dep_time)))\n",
    "\n",
    "# 使用is.na()函数将NA排在前面\n",
    "head(arrange(flights, is.na(dep_time)))\n",
    "## 并没有\n",
    "head(arrange(flights, desc(is.na(dep_time))))"
   ]
  },
  {
   "cell_type": "code",
   "execution_count": 61,
   "metadata": {},
   "outputs": [
    {
     "data": {
      "text/html": [
       "<table>\n",
       "<caption>A tibble: 6 × 19</caption>\n",
       "<thead>\n",
       "\t<tr><th scope=col>year</th><th scope=col>month</th><th scope=col>day</th><th scope=col>dep_time</th><th scope=col>sched_dep_time</th><th scope=col>dep_delay</th><th scope=col>arr_time</th><th scope=col>sched_arr_time</th><th scope=col>arr_delay</th><th scope=col>carrier</th><th scope=col>flight</th><th scope=col>tailnum</th><th scope=col>origin</th><th scope=col>dest</th><th scope=col>air_time</th><th scope=col>distance</th><th scope=col>hour</th><th scope=col>minute</th><th scope=col>time_hour</th></tr>\n",
       "\t<tr><th scope=col>&lt;int&gt;</th><th scope=col>&lt;int&gt;</th><th scope=col>&lt;int&gt;</th><th scope=col>&lt;int&gt;</th><th scope=col>&lt;int&gt;</th><th scope=col>&lt;dbl&gt;</th><th scope=col>&lt;int&gt;</th><th scope=col>&lt;int&gt;</th><th scope=col>&lt;dbl&gt;</th><th scope=col>&lt;chr&gt;</th><th scope=col>&lt;int&gt;</th><th scope=col>&lt;chr&gt;</th><th scope=col>&lt;chr&gt;</th><th scope=col>&lt;chr&gt;</th><th scope=col>&lt;dbl&gt;</th><th scope=col>&lt;dbl&gt;</th><th scope=col>&lt;dbl&gt;</th><th scope=col>&lt;dbl&gt;</th><th scope=col>&lt;dttm&gt;</th></tr>\n",
       "</thead>\n",
       "<tbody>\n",
       "\t<tr><td>2013</td><td>1</td><td>31</td><td>NA</td><td>1145</td><td>NA</td><td>NA</td><td>1410</td><td>NA</td><td>DL</td><td> 401</td><td>N309DE</td><td>EWR</td><td>ATL</td><td>NA</td><td> 746</td><td>11</td><td>45</td><td>2013-01-31 11:00:00</td></tr>\n",
       "\t<tr><td>2013</td><td>1</td><td>31</td><td>NA</td><td> 817</td><td>NA</td><td>NA</td><td>1127</td><td>NA</td><td>DL</td><td>1109</td><td>N330NW</td><td>LGA</td><td>TPA</td><td>NA</td><td>1010</td><td> 8</td><td>17</td><td>2013-01-31 08:00:00</td></tr>\n",
       "\t<tr><td>2013</td><td>1</td><td>31</td><td>NA</td><td> 800</td><td>NA</td><td>NA</td><td>1122</td><td>NA</td><td>DL</td><td>1271</td><td>N935DL</td><td>JFK</td><td>FLL</td><td>NA</td><td>1069</td><td> 8</td><td> 0</td><td>2013-01-31 08:00:00</td></tr>\n",
       "\t<tr><td>2013</td><td>1</td><td>31</td><td>NA</td><td>1230</td><td>NA</td><td>NA</td><td>1459</td><td>NA</td><td>EV</td><td>3826</td><td>N11176</td><td>EWR</td><td>ATL</td><td>NA</td><td> 746</td><td>12</td><td>30</td><td>2013-01-31 12:00:00</td></tr>\n",
       "\t<tr><td>2013</td><td>1</td><td>31</td><td>NA</td><td>1527</td><td>NA</td><td>NA</td><td>1700</td><td>NA</td><td>EV</td><td>3835</td><td>N16561</td><td>EWR</td><td>BNA</td><td>NA</td><td> 748</td><td>15</td><td>27</td><td>2013-01-31 15:00:00</td></tr>\n",
       "\t<tr><td>2013</td><td>1</td><td>31</td><td>NA</td><td>1545</td><td>NA</td><td>NA</td><td>1815</td><td>NA</td><td>DL</td><td>1942</td><td>N342NB</td><td>EWR</td><td>ATL</td><td>NA</td><td> 746</td><td>15</td><td>45</td><td>2013-01-31 15:00:00</td></tr>\n",
       "</tbody>\n",
       "</table>\n"
      ],
      "text/latex": [
       "A tibble: 6 × 19\n",
       "\\begin{tabular}{r|lllllllllllllllllll}\n",
       " year & month & day & dep\\_time & sched\\_dep\\_time & dep\\_delay & arr\\_time & sched\\_arr\\_time & arr\\_delay & carrier & flight & tailnum & origin & dest & air\\_time & distance & hour & minute & time\\_hour\\\\\n",
       " <int> & <int> & <int> & <int> & <int> & <dbl> & <int> & <int> & <dbl> & <chr> & <int> & <chr> & <chr> & <chr> & <dbl> & <dbl> & <dbl> & <dbl> & <dttm>\\\\\n",
       "\\hline\n",
       "\t 2013 & 1 & 31 & NA & 1145 & NA & NA & 1410 & NA & DL &  401 & N309DE & EWR & ATL & NA &  746 & 11 & 45 & 2013-01-31 11:00:00\\\\\n",
       "\t 2013 & 1 & 31 & NA &  817 & NA & NA & 1127 & NA & DL & 1109 & N330NW & LGA & TPA & NA & 1010 &  8 & 17 & 2013-01-31 08:00:00\\\\\n",
       "\t 2013 & 1 & 31 & NA &  800 & NA & NA & 1122 & NA & DL & 1271 & N935DL & JFK & FLL & NA & 1069 &  8 &  0 & 2013-01-31 08:00:00\\\\\n",
       "\t 2013 & 1 & 31 & NA & 1230 & NA & NA & 1459 & NA & EV & 3826 & N11176 & EWR & ATL & NA &  746 & 12 & 30 & 2013-01-31 12:00:00\\\\\n",
       "\t 2013 & 1 & 31 & NA & 1527 & NA & NA & 1700 & NA & EV & 3835 & N16561 & EWR & BNA & NA &  748 & 15 & 27 & 2013-01-31 15:00:00\\\\\n",
       "\t 2013 & 1 & 31 & NA & 1545 & NA & NA & 1815 & NA & DL & 1942 & N342NB & EWR & ATL & NA &  746 & 15 & 45 & 2013-01-31 15:00:00\\\\\n",
       "\\end{tabular}\n"
      ],
      "text/markdown": [
       "\n",
       "A tibble: 6 × 19\n",
       "\n",
       "| year &lt;int&gt; | month &lt;int&gt; | day &lt;int&gt; | dep_time &lt;int&gt; | sched_dep_time &lt;int&gt; | dep_delay &lt;dbl&gt; | arr_time &lt;int&gt; | sched_arr_time &lt;int&gt; | arr_delay &lt;dbl&gt; | carrier &lt;chr&gt; | flight &lt;int&gt; | tailnum &lt;chr&gt; | origin &lt;chr&gt; | dest &lt;chr&gt; | air_time &lt;dbl&gt; | distance &lt;dbl&gt; | hour &lt;dbl&gt; | minute &lt;dbl&gt; | time_hour &lt;dttm&gt; |\n",
       "|---|---|---|---|---|---|---|---|---|---|---|---|---|---|---|---|---|---|---|\n",
       "| 2013 | 1 | 31 | NA | 1145 | NA | NA | 1410 | NA | DL |  401 | N309DE | EWR | ATL | NA |  746 | 11 | 45 | 2013-01-31 11:00:00 |\n",
       "| 2013 | 1 | 31 | NA |  817 | NA | NA | 1127 | NA | DL | 1109 | N330NW | LGA | TPA | NA | 1010 |  8 | 17 | 2013-01-31 08:00:00 |\n",
       "| 2013 | 1 | 31 | NA |  800 | NA | NA | 1122 | NA | DL | 1271 | N935DL | JFK | FLL | NA | 1069 |  8 |  0 | 2013-01-31 08:00:00 |\n",
       "| 2013 | 1 | 31 | NA | 1230 | NA | NA | 1459 | NA | EV | 3826 | N11176 | EWR | ATL | NA |  746 | 12 | 30 | 2013-01-31 12:00:00 |\n",
       "| 2013 | 1 | 31 | NA | 1527 | NA | NA | 1700 | NA | EV | 3835 | N16561 | EWR | BNA | NA |  748 | 15 | 27 | 2013-01-31 15:00:00 |\n",
       "| 2013 | 1 | 31 | NA | 1545 | NA | NA | 1815 | NA | DL | 1942 | N342NB | EWR | ATL | NA |  746 | 15 | 45 | 2013-01-31 15:00:00 |\n",
       "\n"
      ],
      "text/plain": [
       "  year month day dep_time sched_dep_time dep_delay arr_time sched_arr_time\n",
       "1 2013 1     31  NA       1145           NA        NA       1410          \n",
       "2 2013 1     31  NA        817           NA        NA       1127          \n",
       "3 2013 1     31  NA        800           NA        NA       1122          \n",
       "4 2013 1     31  NA       1230           NA        NA       1459          \n",
       "5 2013 1     31  NA       1527           NA        NA       1700          \n",
       "6 2013 1     31  NA       1545           NA        NA       1815          \n",
       "  arr_delay carrier flight tailnum origin dest air_time distance hour minute\n",
       "1 NA        DL       401   N309DE  EWR    ATL  NA        746     11   45    \n",
       "2 NA        DL      1109   N330NW  LGA    TPA  NA       1010      8   17    \n",
       "3 NA        DL      1271   N935DL  JFK    FLL  NA       1069      8    0    \n",
       "4 NA        EV      3826   N11176  EWR    ATL  NA        746     12   30    \n",
       "5 NA        EV      3835   N16561  EWR    BNA  NA        748     15   27    \n",
       "6 NA        DL      1942   N342NB  EWR    ATL  NA        746     15   45    \n",
       "  time_hour          \n",
       "1 2013-01-31 11:00:00\n",
       "2 2013-01-31 08:00:00\n",
       "3 2013-01-31 08:00:00\n",
       "4 2013-01-31 12:00:00\n",
       "5 2013-01-31 15:00:00\n",
       "6 2013-01-31 15:00:00"
      ]
     },
     "metadata": {},
     "output_type": "display_data"
    },
    {
     "data": {
      "text/html": [
       "<table>\n",
       "<caption>A tibble: 6 × 19</caption>\n",
       "<thead>\n",
       "\t<tr><th scope=col>year</th><th scope=col>month</th><th scope=col>day</th><th scope=col>dep_time</th><th scope=col>sched_dep_time</th><th scope=col>dep_delay</th><th scope=col>arr_time</th><th scope=col>sched_arr_time</th><th scope=col>arr_delay</th><th scope=col>carrier</th><th scope=col>flight</th><th scope=col>tailnum</th><th scope=col>origin</th><th scope=col>dest</th><th scope=col>air_time</th><th scope=col>distance</th><th scope=col>hour</th><th scope=col>minute</th><th scope=col>time_hour</th></tr>\n",
       "\t<tr><th scope=col>&lt;int&gt;</th><th scope=col>&lt;int&gt;</th><th scope=col>&lt;int&gt;</th><th scope=col>&lt;int&gt;</th><th scope=col>&lt;int&gt;</th><th scope=col>&lt;dbl&gt;</th><th scope=col>&lt;int&gt;</th><th scope=col>&lt;int&gt;</th><th scope=col>&lt;dbl&gt;</th><th scope=col>&lt;chr&gt;</th><th scope=col>&lt;int&gt;</th><th scope=col>&lt;chr&gt;</th><th scope=col>&lt;chr&gt;</th><th scope=col>&lt;chr&gt;</th><th scope=col>&lt;dbl&gt;</th><th scope=col>&lt;dbl&gt;</th><th scope=col>&lt;dbl&gt;</th><th scope=col>&lt;dbl&gt;</th><th scope=col>&lt;dttm&gt;</th></tr>\n",
       "</thead>\n",
       "<tbody>\n",
       "\t<tr><td>2013</td><td>12</td><td>1</td><td>2251</td><td>2200</td><td> 51</td><td>  50</td><td>  33</td><td> 17</td><td>UA</td><td> 668</td><td>N460UA</td><td>LGA</td><td>DEN</td><td>223</td><td>1620</td><td>22</td><td> 0</td><td>2013-12-01 22:00:00</td></tr>\n",
       "\t<tr><td>2013</td><td>12</td><td>1</td><td>2255</td><td>2250</td><td>  5</td><td>   1</td><td>2356</td><td>  5</td><td>B6</td><td>1816</td><td>N258JB</td><td>JFK</td><td>SYR</td><td> 43</td><td> 209</td><td>22</td><td>50</td><td>2013-12-01 22:00:00</td></tr>\n",
       "\t<tr><td>2013</td><td>12</td><td>1</td><td>2258</td><td>2300</td><td> -2</td><td>2350</td><td>  10</td><td>-20</td><td>UA</td><td>1525</td><td>N34282</td><td>EWR</td><td>BOS</td><td> 40</td><td> 200</td><td>23</td><td> 0</td><td>2013-12-01 23:00:00</td></tr>\n",
       "\t<tr><td>2013</td><td>12</td><td>1</td><td>2301</td><td>1955</td><td>186</td><td>  19</td><td>2146</td><td>153</td><td>EV</td><td>5038</td><td>N615QX</td><td>LGA</td><td>BHM</td><td>122</td><td> 866</td><td>19</td><td>55</td><td>2013-12-01 19:00:00</td></tr>\n",
       "\t<tr><td>2013</td><td>12</td><td>1</td><td>2321</td><td>2300</td><td> 21</td><td>  23</td><td>  28</td><td> -5</td><td>UA</td><td>1446</td><td>N12221</td><td>EWR</td><td>ORD</td><td>105</td><td> 719</td><td>23</td><td> 0</td><td>2013-12-01 23:00:00</td></tr>\n",
       "\t<tr><td>2013</td><td>12</td><td>1</td><td>2354</td><td>2359</td><td> -5</td><td> 429</td><td> 440</td><td>-11</td><td>B6</td><td>1503</td><td>N509JB</td><td>JFK</td><td>SJU</td><td>194</td><td>1598</td><td>23</td><td>59</td><td>2013-12-01 23:00:00</td></tr>\n",
       "</tbody>\n",
       "</table>\n"
      ],
      "text/latex": [
       "A tibble: 6 × 19\n",
       "\\begin{tabular}{r|lllllllllllllllllll}\n",
       " year & month & day & dep\\_time & sched\\_dep\\_time & dep\\_delay & arr\\_time & sched\\_arr\\_time & arr\\_delay & carrier & flight & tailnum & origin & dest & air\\_time & distance & hour & minute & time\\_hour\\\\\n",
       " <int> & <int> & <int> & <int> & <int> & <dbl> & <int> & <int> & <dbl> & <chr> & <int> & <chr> & <chr> & <chr> & <dbl> & <dbl> & <dbl> & <dbl> & <dttm>\\\\\n",
       "\\hline\n",
       "\t 2013 & 12 & 1 & 2251 & 2200 &  51 &   50 &   33 &  17 & UA &  668 & N460UA & LGA & DEN & 223 & 1620 & 22 &  0 & 2013-12-01 22:00:00\\\\\n",
       "\t 2013 & 12 & 1 & 2255 & 2250 &   5 &    1 & 2356 &   5 & B6 & 1816 & N258JB & JFK & SYR &  43 &  209 & 22 & 50 & 2013-12-01 22:00:00\\\\\n",
       "\t 2013 & 12 & 1 & 2258 & 2300 &  -2 & 2350 &   10 & -20 & UA & 1525 & N34282 & EWR & BOS &  40 &  200 & 23 &  0 & 2013-12-01 23:00:00\\\\\n",
       "\t 2013 & 12 & 1 & 2301 & 1955 & 186 &   19 & 2146 & 153 & EV & 5038 & N615QX & LGA & BHM & 122 &  866 & 19 & 55 & 2013-12-01 19:00:00\\\\\n",
       "\t 2013 & 12 & 1 & 2321 & 2300 &  21 &   23 &   28 &  -5 & UA & 1446 & N12221 & EWR & ORD & 105 &  719 & 23 &  0 & 2013-12-01 23:00:00\\\\\n",
       "\t 2013 & 12 & 1 & 2354 & 2359 &  -5 &  429 &  440 & -11 & B6 & 1503 & N509JB & JFK & SJU & 194 & 1598 & 23 & 59 & 2013-12-01 23:00:00\\\\\n",
       "\\end{tabular}\n"
      ],
      "text/markdown": [
       "\n",
       "A tibble: 6 × 19\n",
       "\n",
       "| year &lt;int&gt; | month &lt;int&gt; | day &lt;int&gt; | dep_time &lt;int&gt; | sched_dep_time &lt;int&gt; | dep_delay &lt;dbl&gt; | arr_time &lt;int&gt; | sched_arr_time &lt;int&gt; | arr_delay &lt;dbl&gt; | carrier &lt;chr&gt; | flight &lt;int&gt; | tailnum &lt;chr&gt; | origin &lt;chr&gt; | dest &lt;chr&gt; | air_time &lt;dbl&gt; | distance &lt;dbl&gt; | hour &lt;dbl&gt; | minute &lt;dbl&gt; | time_hour &lt;dttm&gt; |\n",
       "|---|---|---|---|---|---|---|---|---|---|---|---|---|---|---|---|---|---|---|\n",
       "| 2013 | 12 | 1 | 2251 | 2200 |  51 |   50 |   33 |  17 | UA |  668 | N460UA | LGA | DEN | 223 | 1620 | 22 |  0 | 2013-12-01 22:00:00 |\n",
       "| 2013 | 12 | 1 | 2255 | 2250 |   5 |    1 | 2356 |   5 | B6 | 1816 | N258JB | JFK | SYR |  43 |  209 | 22 | 50 | 2013-12-01 22:00:00 |\n",
       "| 2013 | 12 | 1 | 2258 | 2300 |  -2 | 2350 |   10 | -20 | UA | 1525 | N34282 | EWR | BOS |  40 |  200 | 23 |  0 | 2013-12-01 23:00:00 |\n",
       "| 2013 | 12 | 1 | 2301 | 1955 | 186 |   19 | 2146 | 153 | EV | 5038 | N615QX | LGA | BHM | 122 |  866 | 19 | 55 | 2013-12-01 19:00:00 |\n",
       "| 2013 | 12 | 1 | 2321 | 2300 |  21 |   23 |   28 |  -5 | UA | 1446 | N12221 | EWR | ORD | 105 |  719 | 23 |  0 | 2013-12-01 23:00:00 |\n",
       "| 2013 | 12 | 1 | 2354 | 2359 |  -5 |  429 |  440 | -11 | B6 | 1503 | N509JB | JFK | SJU | 194 | 1598 | 23 | 59 | 2013-12-01 23:00:00 |\n",
       "\n"
      ],
      "text/plain": [
       "  year month day dep_time sched_dep_time dep_delay arr_time sched_arr_time\n",
       "1 2013 12    1   2251     2200            51         50       33          \n",
       "2 2013 12    1   2255     2250             5          1     2356          \n",
       "3 2013 12    1   2258     2300            -2       2350       10          \n",
       "4 2013 12    1   2301     1955           186         19     2146          \n",
       "5 2013 12    1   2321     2300            21         23       28          \n",
       "6 2013 12    1   2354     2359            -5        429      440          \n",
       "  arr_delay carrier flight tailnum origin dest air_time distance hour minute\n",
       "1  17       UA       668   N460UA  LGA    DEN  223      1620     22    0    \n",
       "2   5       B6      1816   N258JB  JFK    SYR   43       209     22   50    \n",
       "3 -20       UA      1525   N34282  EWR    BOS   40       200     23    0    \n",
       "4 153       EV      5038   N615QX  LGA    BHM  122       866     19   55    \n",
       "5  -5       UA      1446   N12221  EWR    ORD  105       719     23    0    \n",
       "6 -11       B6      1503   N509JB  JFK    SJU  194      1598     23   59    \n",
       "  time_hour          \n",
       "1 2013-12-01 22:00:00\n",
       "2 2013-12-01 22:00:00\n",
       "3 2013-12-01 23:00:00\n",
       "4 2013-12-01 19:00:00\n",
       "5 2013-12-01 23:00:00\n",
       "6 2013-12-01 23:00:00"
      ]
     },
     "metadata": {},
     "output_type": "display_data"
    }
   ],
   "source": [
    "# 复合排序就是指定多条件进行排序\n",
    "\n",
    "# 按month正序排、按day逆序排、将dep_delay的NA排在前面\n",
    "head(arrange(flights, month, desc(day), desc(is.na(dep_delay))))\n",
    "\n",
    "tail(arrange(flights, month, desc(day), desc(is.na(dep_delay))))"
   ]
  },
  {
   "cell_type": "markdown",
   "metadata": {},
   "source": [
    "## 使用select()选择列"
   ]
  },
  {
   "cell_type": "code",
   "execution_count": 62,
   "metadata": {},
   "outputs": [
    {
     "data": {
      "text/html": [
       "<table>\n",
       "<caption>A tibble: 6 × 3</caption>\n",
       "<thead>\n",
       "\t<tr><th scope=col>year</th><th scope=col>month</th><th scope=col>day</th></tr>\n",
       "\t<tr><th scope=col>&lt;int&gt;</th><th scope=col>&lt;int&gt;</th><th scope=col>&lt;int&gt;</th></tr>\n",
       "</thead>\n",
       "<tbody>\n",
       "\t<tr><td>2013</td><td>1</td><td>1</td></tr>\n",
       "\t<tr><td>2013</td><td>1</td><td>1</td></tr>\n",
       "\t<tr><td>2013</td><td>1</td><td>1</td></tr>\n",
       "\t<tr><td>2013</td><td>1</td><td>1</td></tr>\n",
       "\t<tr><td>2013</td><td>1</td><td>1</td></tr>\n",
       "\t<tr><td>2013</td><td>1</td><td>1</td></tr>\n",
       "</tbody>\n",
       "</table>\n"
      ],
      "text/latex": [
       "A tibble: 6 × 3\n",
       "\\begin{tabular}{r|lll}\n",
       " year & month & day\\\\\n",
       " <int> & <int> & <int>\\\\\n",
       "\\hline\n",
       "\t 2013 & 1 & 1\\\\\n",
       "\t 2013 & 1 & 1\\\\\n",
       "\t 2013 & 1 & 1\\\\\n",
       "\t 2013 & 1 & 1\\\\\n",
       "\t 2013 & 1 & 1\\\\\n",
       "\t 2013 & 1 & 1\\\\\n",
       "\\end{tabular}\n"
      ],
      "text/markdown": [
       "\n",
       "A tibble: 6 × 3\n",
       "\n",
       "| year &lt;int&gt; | month &lt;int&gt; | day &lt;int&gt; |\n",
       "|---|---|---|\n",
       "| 2013 | 1 | 1 |\n",
       "| 2013 | 1 | 1 |\n",
       "| 2013 | 1 | 1 |\n",
       "| 2013 | 1 | 1 |\n",
       "| 2013 | 1 | 1 |\n",
       "| 2013 | 1 | 1 |\n",
       "\n"
      ],
      "text/plain": [
       "  year month day\n",
       "1 2013 1     1  \n",
       "2 2013 1     1  \n",
       "3 2013 1     1  \n",
       "4 2013 1     1  \n",
       "5 2013 1     1  \n",
       "6 2013 1     1  "
      ]
     },
     "metadata": {},
     "output_type": "display_data"
    },
    {
     "data": {
      "text/html": [
       "<table>\n",
       "<caption>A tibble: 6 × 3</caption>\n",
       "<thead>\n",
       "\t<tr><th scope=col>year</th><th scope=col>month</th><th scope=col>day</th></tr>\n",
       "\t<tr><th scope=col>&lt;int&gt;</th><th scope=col>&lt;int&gt;</th><th scope=col>&lt;int&gt;</th></tr>\n",
       "</thead>\n",
       "<tbody>\n",
       "\t<tr><td>2013</td><td>1</td><td>1</td></tr>\n",
       "\t<tr><td>2013</td><td>1</td><td>1</td></tr>\n",
       "\t<tr><td>2013</td><td>1</td><td>1</td></tr>\n",
       "\t<tr><td>2013</td><td>1</td><td>1</td></tr>\n",
       "\t<tr><td>2013</td><td>1</td><td>1</td></tr>\n",
       "\t<tr><td>2013</td><td>1</td><td>1</td></tr>\n",
       "</tbody>\n",
       "</table>\n"
      ],
      "text/latex": [
       "A tibble: 6 × 3\n",
       "\\begin{tabular}{r|lll}\n",
       " year & month & day\\\\\n",
       " <int> & <int> & <int>\\\\\n",
       "\\hline\n",
       "\t 2013 & 1 & 1\\\\\n",
       "\t 2013 & 1 & 1\\\\\n",
       "\t 2013 & 1 & 1\\\\\n",
       "\t 2013 & 1 & 1\\\\\n",
       "\t 2013 & 1 & 1\\\\\n",
       "\t 2013 & 1 & 1\\\\\n",
       "\\end{tabular}\n"
      ],
      "text/markdown": [
       "\n",
       "A tibble: 6 × 3\n",
       "\n",
       "| year &lt;int&gt; | month &lt;int&gt; | day &lt;int&gt; |\n",
       "|---|---|---|\n",
       "| 2013 | 1 | 1 |\n",
       "| 2013 | 1 | 1 |\n",
       "| 2013 | 1 | 1 |\n",
       "| 2013 | 1 | 1 |\n",
       "| 2013 | 1 | 1 |\n",
       "| 2013 | 1 | 1 |\n",
       "\n"
      ],
      "text/plain": [
       "  year month day\n",
       "1 2013 1     1  \n",
       "2 2013 1     1  \n",
       "3 2013 1     1  \n",
       "4 2013 1     1  \n",
       "5 2013 1     1  \n",
       "6 2013 1     1  "
      ]
     },
     "metadata": {},
     "output_type": "display_data"
    },
    {
     "data": {
      "text/html": [
       "<table>\n",
       "<caption>A tibble: 6 × 16</caption>\n",
       "<thead>\n",
       "\t<tr><th scope=col>dep_time</th><th scope=col>sched_dep_time</th><th scope=col>dep_delay</th><th scope=col>arr_time</th><th scope=col>sched_arr_time</th><th scope=col>arr_delay</th><th scope=col>carrier</th><th scope=col>flight</th><th scope=col>tailnum</th><th scope=col>origin</th><th scope=col>dest</th><th scope=col>air_time</th><th scope=col>distance</th><th scope=col>hour</th><th scope=col>minute</th><th scope=col>time_hour</th></tr>\n",
       "\t<tr><th scope=col>&lt;int&gt;</th><th scope=col>&lt;int&gt;</th><th scope=col>&lt;dbl&gt;</th><th scope=col>&lt;int&gt;</th><th scope=col>&lt;int&gt;</th><th scope=col>&lt;dbl&gt;</th><th scope=col>&lt;chr&gt;</th><th scope=col>&lt;int&gt;</th><th scope=col>&lt;chr&gt;</th><th scope=col>&lt;chr&gt;</th><th scope=col>&lt;chr&gt;</th><th scope=col>&lt;dbl&gt;</th><th scope=col>&lt;dbl&gt;</th><th scope=col>&lt;dbl&gt;</th><th scope=col>&lt;dbl&gt;</th><th scope=col>&lt;dttm&gt;</th></tr>\n",
       "</thead>\n",
       "<tbody>\n",
       "\t<tr><td>517</td><td>515</td><td> 2</td><td> 830</td><td> 819</td><td> 11</td><td>UA</td><td>1545</td><td>N14228</td><td>EWR</td><td>IAH</td><td>227</td><td>1400</td><td>5</td><td>15</td><td>2013-01-01 05:00:00</td></tr>\n",
       "\t<tr><td>533</td><td>529</td><td> 4</td><td> 850</td><td> 830</td><td> 20</td><td>UA</td><td>1714</td><td>N24211</td><td>LGA</td><td>IAH</td><td>227</td><td>1416</td><td>5</td><td>29</td><td>2013-01-01 05:00:00</td></tr>\n",
       "\t<tr><td>542</td><td>540</td><td> 2</td><td> 923</td><td> 850</td><td> 33</td><td>AA</td><td>1141</td><td>N619AA</td><td>JFK</td><td>MIA</td><td>160</td><td>1089</td><td>5</td><td>40</td><td>2013-01-01 05:00:00</td></tr>\n",
       "\t<tr><td>544</td><td>545</td><td>-1</td><td>1004</td><td>1022</td><td>-18</td><td>B6</td><td> 725</td><td>N804JB</td><td>JFK</td><td>BQN</td><td>183</td><td>1576</td><td>5</td><td>45</td><td>2013-01-01 05:00:00</td></tr>\n",
       "\t<tr><td>554</td><td>600</td><td>-6</td><td> 812</td><td> 837</td><td>-25</td><td>DL</td><td> 461</td><td>N668DN</td><td>LGA</td><td>ATL</td><td>116</td><td> 762</td><td>6</td><td> 0</td><td>2013-01-01 06:00:00</td></tr>\n",
       "\t<tr><td>554</td><td>558</td><td>-4</td><td> 740</td><td> 728</td><td> 12</td><td>UA</td><td>1696</td><td>N39463</td><td>EWR</td><td>ORD</td><td>150</td><td> 719</td><td>5</td><td>58</td><td>2013-01-01 05:00:00</td></tr>\n",
       "</tbody>\n",
       "</table>\n"
      ],
      "text/latex": [
       "A tibble: 6 × 16\n",
       "\\begin{tabular}{r|llllllllllllllll}\n",
       " dep\\_time & sched\\_dep\\_time & dep\\_delay & arr\\_time & sched\\_arr\\_time & arr\\_delay & carrier & flight & tailnum & origin & dest & air\\_time & distance & hour & minute & time\\_hour\\\\\n",
       " <int> & <int> & <dbl> & <int> & <int> & <dbl> & <chr> & <int> & <chr> & <chr> & <chr> & <dbl> & <dbl> & <dbl> & <dbl> & <dttm>\\\\\n",
       "\\hline\n",
       "\t 517 & 515 &  2 &  830 &  819 &  11 & UA & 1545 & N14228 & EWR & IAH & 227 & 1400 & 5 & 15 & 2013-01-01 05:00:00\\\\\n",
       "\t 533 & 529 &  4 &  850 &  830 &  20 & UA & 1714 & N24211 & LGA & IAH & 227 & 1416 & 5 & 29 & 2013-01-01 05:00:00\\\\\n",
       "\t 542 & 540 &  2 &  923 &  850 &  33 & AA & 1141 & N619AA & JFK & MIA & 160 & 1089 & 5 & 40 & 2013-01-01 05:00:00\\\\\n",
       "\t 544 & 545 & -1 & 1004 & 1022 & -18 & B6 &  725 & N804JB & JFK & BQN & 183 & 1576 & 5 & 45 & 2013-01-01 05:00:00\\\\\n",
       "\t 554 & 600 & -6 &  812 &  837 & -25 & DL &  461 & N668DN & LGA & ATL & 116 &  762 & 6 &  0 & 2013-01-01 06:00:00\\\\\n",
       "\t 554 & 558 & -4 &  740 &  728 &  12 & UA & 1696 & N39463 & EWR & ORD & 150 &  719 & 5 & 58 & 2013-01-01 05:00:00\\\\\n",
       "\\end{tabular}\n"
      ],
      "text/markdown": [
       "\n",
       "A tibble: 6 × 16\n",
       "\n",
       "| dep_time &lt;int&gt; | sched_dep_time &lt;int&gt; | dep_delay &lt;dbl&gt; | arr_time &lt;int&gt; | sched_arr_time &lt;int&gt; | arr_delay &lt;dbl&gt; | carrier &lt;chr&gt; | flight &lt;int&gt; | tailnum &lt;chr&gt; | origin &lt;chr&gt; | dest &lt;chr&gt; | air_time &lt;dbl&gt; | distance &lt;dbl&gt; | hour &lt;dbl&gt; | minute &lt;dbl&gt; | time_hour &lt;dttm&gt; |\n",
       "|---|---|---|---|---|---|---|---|---|---|---|---|---|---|---|---|\n",
       "| 517 | 515 |  2 |  830 |  819 |  11 | UA | 1545 | N14228 | EWR | IAH | 227 | 1400 | 5 | 15 | 2013-01-01 05:00:00 |\n",
       "| 533 | 529 |  4 |  850 |  830 |  20 | UA | 1714 | N24211 | LGA | IAH | 227 | 1416 | 5 | 29 | 2013-01-01 05:00:00 |\n",
       "| 542 | 540 |  2 |  923 |  850 |  33 | AA | 1141 | N619AA | JFK | MIA | 160 | 1089 | 5 | 40 | 2013-01-01 05:00:00 |\n",
       "| 544 | 545 | -1 | 1004 | 1022 | -18 | B6 |  725 | N804JB | JFK | BQN | 183 | 1576 | 5 | 45 | 2013-01-01 05:00:00 |\n",
       "| 554 | 600 | -6 |  812 |  837 | -25 | DL |  461 | N668DN | LGA | ATL | 116 |  762 | 6 |  0 | 2013-01-01 06:00:00 |\n",
       "| 554 | 558 | -4 |  740 |  728 |  12 | UA | 1696 | N39463 | EWR | ORD | 150 |  719 | 5 | 58 | 2013-01-01 05:00:00 |\n",
       "\n"
      ],
      "text/plain": [
       "  dep_time sched_dep_time dep_delay arr_time sched_arr_time arr_delay carrier\n",
       "1 517      515             2         830      819            11       UA     \n",
       "2 533      529             4         850      830            20       UA     \n",
       "3 542      540             2         923      850            33       AA     \n",
       "4 544      545            -1        1004     1022           -18       B6     \n",
       "5 554      600            -6         812      837           -25       DL     \n",
       "6 554      558            -4         740      728            12       UA     \n",
       "  flight tailnum origin dest air_time distance hour minute time_hour          \n",
       "1 1545   N14228  EWR    IAH  227      1400     5    15     2013-01-01 05:00:00\n",
       "2 1714   N24211  LGA    IAH  227      1416     5    29     2013-01-01 05:00:00\n",
       "3 1141   N619AA  JFK    MIA  160      1089     5    40     2013-01-01 05:00:00\n",
       "4  725   N804JB  JFK    BQN  183      1576     5    45     2013-01-01 05:00:00\n",
       "5  461   N668DN  LGA    ATL  116       762     6     0     2013-01-01 06:00:00\n",
       "6 1696   N39463  EWR    ORD  150       719     5    58     2013-01-01 05:00:00"
      ]
     },
     "metadata": {},
     "output_type": "display_data"
    }
   ],
   "source": [
    "# select()可以按变量名快速选择子集\n",
    "head(select(flights, year,month,day))\n",
    "head(select(flights, year:day))\n",
    "head(select(flights, -(year:day)))"
   ]
  },
  {
   "cell_type": "markdown",
   "metadata": {},
   "source": [
    "###  select()函数中的辅助函数\n",
    "\n",
    "starts_with()、ends_with()、contains()、matches()，分别是什么应该能看出来\n"
   ]
  },
  {
   "cell_type": "code",
   "execution_count": 63,
   "metadata": {},
   "outputs": [
    {
     "data": {
      "text/html": [
       "<table>\n",
       "<caption>A tibble: 6 × 2</caption>\n",
       "<thead>\n",
       "\t<tr><th scope=col>dep_time</th><th scope=col>dep_delay</th></tr>\n",
       "\t<tr><th scope=col>&lt;int&gt;</th><th scope=col>&lt;dbl&gt;</th></tr>\n",
       "</thead>\n",
       "<tbody>\n",
       "\t<tr><td>517</td><td> 2</td></tr>\n",
       "\t<tr><td>533</td><td> 4</td></tr>\n",
       "\t<tr><td>542</td><td> 2</td></tr>\n",
       "\t<tr><td>544</td><td>-1</td></tr>\n",
       "\t<tr><td>554</td><td>-6</td></tr>\n",
       "\t<tr><td>554</td><td>-4</td></tr>\n",
       "</tbody>\n",
       "</table>\n"
      ],
      "text/latex": [
       "A tibble: 6 × 2\n",
       "\\begin{tabular}{r|ll}\n",
       " dep\\_time & dep\\_delay\\\\\n",
       " <int> & <dbl>\\\\\n",
       "\\hline\n",
       "\t 517 &  2\\\\\n",
       "\t 533 &  4\\\\\n",
       "\t 542 &  2\\\\\n",
       "\t 544 & -1\\\\\n",
       "\t 554 & -6\\\\\n",
       "\t 554 & -4\\\\\n",
       "\\end{tabular}\n"
      ],
      "text/markdown": [
       "\n",
       "A tibble: 6 × 2\n",
       "\n",
       "| dep_time &lt;int&gt; | dep_delay &lt;dbl&gt; |\n",
       "|---|---|\n",
       "| 517 |  2 |\n",
       "| 533 |  4 |\n",
       "| 542 |  2 |\n",
       "| 544 | -1 |\n",
       "| 554 | -6 |\n",
       "| 554 | -4 |\n",
       "\n"
      ],
      "text/plain": [
       "  dep_time dep_delay\n",
       "1 517       2       \n",
       "2 533       4       \n",
       "3 542       2       \n",
       "4 544      -1       \n",
       "5 554      -6       \n",
       "6 554      -4       "
      ]
     },
     "metadata": {},
     "output_type": "display_data"
    },
    {
     "data": {
      "text/html": [
       "<table>\n",
       "<caption>A tibble: 6 × 5</caption>\n",
       "<thead>\n",
       "\t<tr><th scope=col>dep_time</th><th scope=col>sched_dep_time</th><th scope=col>arr_time</th><th scope=col>sched_arr_time</th><th scope=col>air_time</th></tr>\n",
       "\t<tr><th scope=col>&lt;int&gt;</th><th scope=col>&lt;int&gt;</th><th scope=col>&lt;int&gt;</th><th scope=col>&lt;int&gt;</th><th scope=col>&lt;dbl&gt;</th></tr>\n",
       "</thead>\n",
       "<tbody>\n",
       "\t<tr><td>517</td><td>515</td><td> 830</td><td> 819</td><td>227</td></tr>\n",
       "\t<tr><td>533</td><td>529</td><td> 850</td><td> 830</td><td>227</td></tr>\n",
       "\t<tr><td>542</td><td>540</td><td> 923</td><td> 850</td><td>160</td></tr>\n",
       "\t<tr><td>544</td><td>545</td><td>1004</td><td>1022</td><td>183</td></tr>\n",
       "\t<tr><td>554</td><td>600</td><td> 812</td><td> 837</td><td>116</td></tr>\n",
       "\t<tr><td>554</td><td>558</td><td> 740</td><td> 728</td><td>150</td></tr>\n",
       "</tbody>\n",
       "</table>\n"
      ],
      "text/latex": [
       "A tibble: 6 × 5\n",
       "\\begin{tabular}{r|lllll}\n",
       " dep\\_time & sched\\_dep\\_time & arr\\_time & sched\\_arr\\_time & air\\_time\\\\\n",
       " <int> & <int> & <int> & <int> & <dbl>\\\\\n",
       "\\hline\n",
       "\t 517 & 515 &  830 &  819 & 227\\\\\n",
       "\t 533 & 529 &  850 &  830 & 227\\\\\n",
       "\t 542 & 540 &  923 &  850 & 160\\\\\n",
       "\t 544 & 545 & 1004 & 1022 & 183\\\\\n",
       "\t 554 & 600 &  812 &  837 & 116\\\\\n",
       "\t 554 & 558 &  740 &  728 & 150\\\\\n",
       "\\end{tabular}\n"
      ],
      "text/markdown": [
       "\n",
       "A tibble: 6 × 5\n",
       "\n",
       "| dep_time &lt;int&gt; | sched_dep_time &lt;int&gt; | arr_time &lt;int&gt; | sched_arr_time &lt;int&gt; | air_time &lt;dbl&gt; |\n",
       "|---|---|---|---|---|\n",
       "| 517 | 515 |  830 |  819 | 227 |\n",
       "| 533 | 529 |  850 |  830 | 227 |\n",
       "| 542 | 540 |  923 |  850 | 160 |\n",
       "| 544 | 545 | 1004 | 1022 | 183 |\n",
       "| 554 | 600 |  812 |  837 | 116 |\n",
       "| 554 | 558 |  740 |  728 | 150 |\n",
       "\n"
      ],
      "text/plain": [
       "  dep_time sched_dep_time arr_time sched_arr_time air_time\n",
       "1 517      515             830      819           227     \n",
       "2 533      529             850      830           227     \n",
       "3 542      540             923      850           160     \n",
       "4 544      545            1004     1022           183     \n",
       "5 554      600             812      837           116     \n",
       "6 554      558             740      728           150     "
      ]
     },
     "metadata": {},
     "output_type": "display_data"
    },
    {
     "data": {
      "text/html": [
       "<table>\n",
       "<caption>A tibble: 6 × 2</caption>\n",
       "<thead>\n",
       "\t<tr><th scope=col>hour</th><th scope=col>time_hour</th></tr>\n",
       "\t<tr><th scope=col>&lt;dbl&gt;</th><th scope=col>&lt;dttm&gt;</th></tr>\n",
       "</thead>\n",
       "<tbody>\n",
       "\t<tr><td>5</td><td>2013-01-01 05:00:00</td></tr>\n",
       "\t<tr><td>5</td><td>2013-01-01 05:00:00</td></tr>\n",
       "\t<tr><td>5</td><td>2013-01-01 05:00:00</td></tr>\n",
       "\t<tr><td>5</td><td>2013-01-01 05:00:00</td></tr>\n",
       "\t<tr><td>6</td><td>2013-01-01 06:00:00</td></tr>\n",
       "\t<tr><td>5</td><td>2013-01-01 05:00:00</td></tr>\n",
       "</tbody>\n",
       "</table>\n"
      ],
      "text/latex": [
       "A tibble: 6 × 2\n",
       "\\begin{tabular}{r|ll}\n",
       " hour & time\\_hour\\\\\n",
       " <dbl> & <dttm>\\\\\n",
       "\\hline\n",
       "\t 5 & 2013-01-01 05:00:00\\\\\n",
       "\t 5 & 2013-01-01 05:00:00\\\\\n",
       "\t 5 & 2013-01-01 05:00:00\\\\\n",
       "\t 5 & 2013-01-01 05:00:00\\\\\n",
       "\t 6 & 2013-01-01 06:00:00\\\\\n",
       "\t 5 & 2013-01-01 05:00:00\\\\\n",
       "\\end{tabular}\n"
      ],
      "text/markdown": [
       "\n",
       "A tibble: 6 × 2\n",
       "\n",
       "| hour &lt;dbl&gt; | time_hour &lt;dttm&gt; |\n",
       "|---|---|\n",
       "| 5 | 2013-01-01 05:00:00 |\n",
       "| 5 | 2013-01-01 05:00:00 |\n",
       "| 5 | 2013-01-01 05:00:00 |\n",
       "| 5 | 2013-01-01 05:00:00 |\n",
       "| 6 | 2013-01-01 06:00:00 |\n",
       "| 5 | 2013-01-01 05:00:00 |\n",
       "\n"
      ],
      "text/plain": [
       "  hour time_hour          \n",
       "1 5    2013-01-01 05:00:00\n",
       "2 5    2013-01-01 05:00:00\n",
       "3 5    2013-01-01 05:00:00\n",
       "4 5    2013-01-01 05:00:00\n",
       "5 6    2013-01-01 06:00:00\n",
       "6 5    2013-01-01 05:00:00"
      ]
     },
     "metadata": {},
     "output_type": "display_data"
    },
    {
     "data": {
      "text/html": [
       "<table>\n",
       "<caption>A tibble: 6 × 2</caption>\n",
       "<thead>\n",
       "\t<tr><th scope=col>arr_time</th><th scope=col>arr_delay</th></tr>\n",
       "\t<tr><th scope=col>&lt;int&gt;</th><th scope=col>&lt;dbl&gt;</th></tr>\n",
       "</thead>\n",
       "<tbody>\n",
       "\t<tr><td> 830</td><td> 11</td></tr>\n",
       "\t<tr><td> 850</td><td> 20</td></tr>\n",
       "\t<tr><td> 923</td><td> 33</td></tr>\n",
       "\t<tr><td>1004</td><td>-18</td></tr>\n",
       "\t<tr><td> 812</td><td>-25</td></tr>\n",
       "\t<tr><td> 740</td><td> 12</td></tr>\n",
       "</tbody>\n",
       "</table>\n"
      ],
      "text/latex": [
       "A tibble: 6 × 2\n",
       "\\begin{tabular}{r|ll}\n",
       " arr\\_time & arr\\_delay\\\\\n",
       " <int> & <dbl>\\\\\n",
       "\\hline\n",
       "\t  830 &  11\\\\\n",
       "\t  850 &  20\\\\\n",
       "\t  923 &  33\\\\\n",
       "\t 1004 & -18\\\\\n",
       "\t  812 & -25\\\\\n",
       "\t  740 &  12\\\\\n",
       "\\end{tabular}\n"
      ],
      "text/markdown": [
       "\n",
       "A tibble: 6 × 2\n",
       "\n",
       "| arr_time &lt;int&gt; | arr_delay &lt;dbl&gt; |\n",
       "|---|---|\n",
       "|  830 |  11 |\n",
       "|  850 |  20 |\n",
       "|  923 |  33 |\n",
       "| 1004 | -18 |\n",
       "|  812 | -25 |\n",
       "|  740 |  12 |\n",
       "\n"
      ],
      "text/plain": [
       "  arr_time arr_delay\n",
       "1  830      11      \n",
       "2  850      20      \n",
       "3  923      33      \n",
       "4 1004     -18      \n",
       "5  812     -25      \n",
       "6  740      12      "
      ]
     },
     "metadata": {},
     "output_type": "display_data"
    },
    {
     "data": {
      "text/html": [
       "<table>\n",
       "<caption>A tibble: 6 × 14</caption>\n",
       "<thead>\n",
       "\t<tr><th scope=col>month</th><th scope=col>dep_time</th><th scope=col>sched_dep_time</th><th scope=col>arr_time</th><th scope=col>sched_arr_time</th><th scope=col>carrier</th><th scope=col>flight</th><th scope=col>tailnum</th><th scope=col>origin</th><th scope=col>air_time</th><th scope=col>distance</th><th scope=col>hour</th><th scope=col>minute</th><th scope=col>time_hour</th></tr>\n",
       "\t<tr><th scope=col>&lt;int&gt;</th><th scope=col>&lt;int&gt;</th><th scope=col>&lt;int&gt;</th><th scope=col>&lt;int&gt;</th><th scope=col>&lt;int&gt;</th><th scope=col>&lt;chr&gt;</th><th scope=col>&lt;int&gt;</th><th scope=col>&lt;chr&gt;</th><th scope=col>&lt;chr&gt;</th><th scope=col>&lt;dbl&gt;</th><th scope=col>&lt;dbl&gt;</th><th scope=col>&lt;dbl&gt;</th><th scope=col>&lt;dbl&gt;</th><th scope=col>&lt;dttm&gt;</th></tr>\n",
       "</thead>\n",
       "<tbody>\n",
       "\t<tr><td>1</td><td>517</td><td>515</td><td> 830</td><td> 819</td><td>UA</td><td>1545</td><td>N14228</td><td>EWR</td><td>227</td><td>1400</td><td>5</td><td>15</td><td>2013-01-01 05:00:00</td></tr>\n",
       "\t<tr><td>1</td><td>533</td><td>529</td><td> 850</td><td> 830</td><td>UA</td><td>1714</td><td>N24211</td><td>LGA</td><td>227</td><td>1416</td><td>5</td><td>29</td><td>2013-01-01 05:00:00</td></tr>\n",
       "\t<tr><td>1</td><td>542</td><td>540</td><td> 923</td><td> 850</td><td>AA</td><td>1141</td><td>N619AA</td><td>JFK</td><td>160</td><td>1089</td><td>5</td><td>40</td><td>2013-01-01 05:00:00</td></tr>\n",
       "\t<tr><td>1</td><td>544</td><td>545</td><td>1004</td><td>1022</td><td>B6</td><td> 725</td><td>N804JB</td><td>JFK</td><td>183</td><td>1576</td><td>5</td><td>45</td><td>2013-01-01 05:00:00</td></tr>\n",
       "\t<tr><td>1</td><td>554</td><td>600</td><td> 812</td><td> 837</td><td>DL</td><td> 461</td><td>N668DN</td><td>LGA</td><td>116</td><td> 762</td><td>6</td><td> 0</td><td>2013-01-01 06:00:00</td></tr>\n",
       "\t<tr><td>1</td><td>554</td><td>558</td><td> 740</td><td> 728</td><td>UA</td><td>1696</td><td>N39463</td><td>EWR</td><td>150</td><td> 719</td><td>5</td><td>58</td><td>2013-01-01 05:00:00</td></tr>\n",
       "</tbody>\n",
       "</table>\n"
      ],
      "text/latex": [
       "A tibble: 6 × 14\n",
       "\\begin{tabular}{r|llllllllllllll}\n",
       " month & dep\\_time & sched\\_dep\\_time & arr\\_time & sched\\_arr\\_time & carrier & flight & tailnum & origin & air\\_time & distance & hour & minute & time\\_hour\\\\\n",
       " <int> & <int> & <int> & <int> & <int> & <chr> & <int> & <chr> & <chr> & <dbl> & <dbl> & <dbl> & <dbl> & <dttm>\\\\\n",
       "\\hline\n",
       "\t 1 & 517 & 515 &  830 &  819 & UA & 1545 & N14228 & EWR & 227 & 1400 & 5 & 15 & 2013-01-01 05:00:00\\\\\n",
       "\t 1 & 533 & 529 &  850 &  830 & UA & 1714 & N24211 & LGA & 227 & 1416 & 5 & 29 & 2013-01-01 05:00:00\\\\\n",
       "\t 1 & 542 & 540 &  923 &  850 & AA & 1141 & N619AA & JFK & 160 & 1089 & 5 & 40 & 2013-01-01 05:00:00\\\\\n",
       "\t 1 & 544 & 545 & 1004 & 1022 & B6 &  725 & N804JB & JFK & 183 & 1576 & 5 & 45 & 2013-01-01 05:00:00\\\\\n",
       "\t 1 & 554 & 600 &  812 &  837 & DL &  461 & N668DN & LGA & 116 &  762 & 6 &  0 & 2013-01-01 06:00:00\\\\\n",
       "\t 1 & 554 & 558 &  740 &  728 & UA & 1696 & N39463 & EWR & 150 &  719 & 5 & 58 & 2013-01-01 05:00:00\\\\\n",
       "\\end{tabular}\n"
      ],
      "text/markdown": [
       "\n",
       "A tibble: 6 × 14\n",
       "\n",
       "| month &lt;int&gt; | dep_time &lt;int&gt; | sched_dep_time &lt;int&gt; | arr_time &lt;int&gt; | sched_arr_time &lt;int&gt; | carrier &lt;chr&gt; | flight &lt;int&gt; | tailnum &lt;chr&gt; | origin &lt;chr&gt; | air_time &lt;dbl&gt; | distance &lt;dbl&gt; | hour &lt;dbl&gt; | minute &lt;dbl&gt; | time_hour &lt;dttm&gt; |\n",
       "|---|---|---|---|---|---|---|---|---|---|---|---|---|---|\n",
       "| 1 | 517 | 515 |  830 |  819 | UA | 1545 | N14228 | EWR | 227 | 1400 | 5 | 15 | 2013-01-01 05:00:00 |\n",
       "| 1 | 533 | 529 |  850 |  830 | UA | 1714 | N24211 | LGA | 227 | 1416 | 5 | 29 | 2013-01-01 05:00:00 |\n",
       "| 1 | 542 | 540 |  923 |  850 | AA | 1141 | N619AA | JFK | 160 | 1089 | 5 | 40 | 2013-01-01 05:00:00 |\n",
       "| 1 | 544 | 545 | 1004 | 1022 | B6 |  725 | N804JB | JFK | 183 | 1576 | 5 | 45 | 2013-01-01 05:00:00 |\n",
       "| 1 | 554 | 600 |  812 |  837 | DL |  461 | N668DN | LGA | 116 |  762 | 6 |  0 | 2013-01-01 06:00:00 |\n",
       "| 1 | 554 | 558 |  740 |  728 | UA | 1696 | N39463 | EWR | 150 |  719 | 5 | 58 | 2013-01-01 05:00:00 |\n",
       "\n"
      ],
      "text/plain": [
       "  month dep_time sched_dep_time arr_time sched_arr_time carrier flight tailnum\n",
       "1 1     517      515             830      819           UA      1545   N14228 \n",
       "2 1     533      529             850      830           UA      1714   N24211 \n",
       "3 1     542      540             923      850           AA      1141   N619AA \n",
       "4 1     544      545            1004     1022           B6       725   N804JB \n",
       "5 1     554      600             812      837           DL       461   N668DN \n",
       "6 1     554      558             740      728           UA      1696   N39463 \n",
       "  origin air_time distance hour minute time_hour          \n",
       "1 EWR    227      1400     5    15     2013-01-01 05:00:00\n",
       "2 LGA    227      1416     5    29     2013-01-01 05:00:00\n",
       "3 JFK    160      1089     5    40     2013-01-01 05:00:00\n",
       "4 JFK    183      1576     5    45     2013-01-01 05:00:00\n",
       "5 LGA    116       762     6     0     2013-01-01 06:00:00\n",
       "6 EWR    150       719     5    58     2013-01-01 05:00:00"
      ]
     },
     "metadata": {},
     "output_type": "display_data"
    }
   ],
   "source": [
    "head(select(flights, starts_with(\"dep\")))\n",
    "\n",
    "head(select(flights, ends_with(\"time\")))\n",
    "\n",
    "head(select(flights, contains(\"ou\")))\n",
    "\n",
    "head(select(flights, matches(\"^arr\")))# 正则表达式匹配\"arr\"开头\n",
    "\n",
    "head(select(flights, matches(\"[iou]\")))# 正则表达式匹配行名包含\"iou\"的列\n",
    "\n",
    "# 正则表达式非常有用!!!"
   ]
  },
  {
   "cell_type": "code",
   "execution_count": 64,
   "metadata": {},
   "outputs": [
    {
     "data": {
      "text/html": [
       "<table>\n",
       "<caption>A tibble: 6 × 1</caption>\n",
       "<thead>\n",
       "\t<tr><th scope=col>tailnum</th></tr>\n",
       "\t<tr><th scope=col>&lt;chr&gt;</th></tr>\n",
       "</thead>\n",
       "<tbody>\n",
       "\t<tr><td>N14228</td></tr>\n",
       "\t<tr><td>N24211</td></tr>\n",
       "\t<tr><td>N619AA</td></tr>\n",
       "\t<tr><td>N804JB</td></tr>\n",
       "\t<tr><td>N668DN</td></tr>\n",
       "\t<tr><td>N39463</td></tr>\n",
       "</tbody>\n",
       "</table>\n"
      ],
      "text/latex": [
       "A tibble: 6 × 1\n",
       "\\begin{tabular}{r|l}\n",
       " tailnum\\\\\n",
       " <chr>\\\\\n",
       "\\hline\n",
       "\t N14228\\\\\n",
       "\t N24211\\\\\n",
       "\t N619AA\\\\\n",
       "\t N804JB\\\\\n",
       "\t N668DN\\\\\n",
       "\t N39463\\\\\n",
       "\\end{tabular}\n"
      ],
      "text/markdown": [
       "\n",
       "A tibble: 6 × 1\n",
       "\n",
       "| tailnum &lt;chr&gt; |\n",
       "|---|\n",
       "| N14228 |\n",
       "| N24211 |\n",
       "| N619AA |\n",
       "| N804JB |\n",
       "| N668DN |\n",
       "| N39463 |\n",
       "\n"
      ],
      "text/plain": [
       "  tailnum\n",
       "1 N14228 \n",
       "2 N24211 \n",
       "3 N619AA \n",
       "4 N804JB \n",
       "5 N668DN \n",
       "6 N39463 "
      ]
     },
     "metadata": {},
     "output_type": "display_data"
    },
    {
     "data": {
      "text/html": [
       "<table>\n",
       "<caption>A tibble: 6 × 1</caption>\n",
       "<thead>\n",
       "\t<tr><th scope=col>tail_t_num</th></tr>\n",
       "\t<tr><th scope=col>&lt;chr&gt;</th></tr>\n",
       "</thead>\n",
       "<tbody>\n",
       "\t<tr><td>N14228</td></tr>\n",
       "\t<tr><td>N24211</td></tr>\n",
       "\t<tr><td>N619AA</td></tr>\n",
       "\t<tr><td>N804JB</td></tr>\n",
       "\t<tr><td>N668DN</td></tr>\n",
       "\t<tr><td>N39463</td></tr>\n",
       "</tbody>\n",
       "</table>\n"
      ],
      "text/latex": [
       "A tibble: 6 × 1\n",
       "\\begin{tabular}{r|l}\n",
       " tail\\_t\\_num\\\\\n",
       " <chr>\\\\\n",
       "\\hline\n",
       "\t N14228\\\\\n",
       "\t N24211\\\\\n",
       "\t N619AA\\\\\n",
       "\t N804JB\\\\\n",
       "\t N668DN\\\\\n",
       "\t N39463\\\\\n",
       "\\end{tabular}\n"
      ],
      "text/markdown": [
       "\n",
       "A tibble: 6 × 1\n",
       "\n",
       "| tail_t_num &lt;chr&gt; |\n",
       "|---|\n",
       "| N14228 |\n",
       "| N24211 |\n",
       "| N619AA |\n",
       "| N804JB |\n",
       "| N668DN |\n",
       "| N39463 |\n",
       "\n"
      ],
      "text/plain": [
       "  tail_t_num\n",
       "1 N14228    \n",
       "2 N24211    \n",
       "3 N619AA    \n",
       "4 N804JB    \n",
       "5 N668DN    \n",
       "6 N39463    "
      ]
     },
     "metadata": {},
     "output_type": "display_data"
    }
   ],
   "source": [
    "# 使用rename()函数重命名将tailnum改为tail_t_num\n",
    "head(select(flights, contains(\"num\")))\n",
    "\n",
    "head(select(rename(flights, tail_t_num = tailnum),contains(\"num\")))"
   ]
  },
  {
   "cell_type": "code",
   "execution_count": 65,
   "metadata": {},
   "outputs": [
    {
     "data": {
      "text/html": [
       "<table>\n",
       "<caption>A tibble: 6 × 19</caption>\n",
       "<thead>\n",
       "\t<tr><th scope=col>time_hour</th><th scope=col>tailnum</th><th scope=col>year</th><th scope=col>month</th><th scope=col>day</th><th scope=col>dep_time</th><th scope=col>sched_dep_time</th><th scope=col>dep_delay</th><th scope=col>arr_time</th><th scope=col>sched_arr_time</th><th scope=col>arr_delay</th><th scope=col>carrier</th><th scope=col>flight</th><th scope=col>origin</th><th scope=col>dest</th><th scope=col>air_time</th><th scope=col>distance</th><th scope=col>hour</th><th scope=col>minute</th></tr>\n",
       "\t<tr><th scope=col>&lt;dttm&gt;</th><th scope=col>&lt;chr&gt;</th><th scope=col>&lt;int&gt;</th><th scope=col>&lt;int&gt;</th><th scope=col>&lt;int&gt;</th><th scope=col>&lt;int&gt;</th><th scope=col>&lt;int&gt;</th><th scope=col>&lt;dbl&gt;</th><th scope=col>&lt;int&gt;</th><th scope=col>&lt;int&gt;</th><th scope=col>&lt;dbl&gt;</th><th scope=col>&lt;chr&gt;</th><th scope=col>&lt;int&gt;</th><th scope=col>&lt;chr&gt;</th><th scope=col>&lt;chr&gt;</th><th scope=col>&lt;dbl&gt;</th><th scope=col>&lt;dbl&gt;</th><th scope=col>&lt;dbl&gt;</th><th scope=col>&lt;dbl&gt;</th></tr>\n",
       "</thead>\n",
       "<tbody>\n",
       "\t<tr><td>2013-01-01 05:00:00</td><td>N14228</td><td>2013</td><td>1</td><td>1</td><td>517</td><td>515</td><td> 2</td><td> 830</td><td> 819</td><td> 11</td><td>UA</td><td>1545</td><td>EWR</td><td>IAH</td><td>227</td><td>1400</td><td>5</td><td>15</td></tr>\n",
       "\t<tr><td>2013-01-01 05:00:00</td><td>N24211</td><td>2013</td><td>1</td><td>1</td><td>533</td><td>529</td><td> 4</td><td> 850</td><td> 830</td><td> 20</td><td>UA</td><td>1714</td><td>LGA</td><td>IAH</td><td>227</td><td>1416</td><td>5</td><td>29</td></tr>\n",
       "\t<tr><td>2013-01-01 05:00:00</td><td>N619AA</td><td>2013</td><td>1</td><td>1</td><td>542</td><td>540</td><td> 2</td><td> 923</td><td> 850</td><td> 33</td><td>AA</td><td>1141</td><td>JFK</td><td>MIA</td><td>160</td><td>1089</td><td>5</td><td>40</td></tr>\n",
       "\t<tr><td>2013-01-01 05:00:00</td><td>N804JB</td><td>2013</td><td>1</td><td>1</td><td>544</td><td>545</td><td>-1</td><td>1004</td><td>1022</td><td>-18</td><td>B6</td><td> 725</td><td>JFK</td><td>BQN</td><td>183</td><td>1576</td><td>5</td><td>45</td></tr>\n",
       "\t<tr><td>2013-01-01 06:00:00</td><td>N668DN</td><td>2013</td><td>1</td><td>1</td><td>554</td><td>600</td><td>-6</td><td> 812</td><td> 837</td><td>-25</td><td>DL</td><td> 461</td><td>LGA</td><td>ATL</td><td>116</td><td> 762</td><td>6</td><td> 0</td></tr>\n",
       "\t<tr><td>2013-01-01 05:00:00</td><td>N39463</td><td>2013</td><td>1</td><td>1</td><td>554</td><td>558</td><td>-4</td><td> 740</td><td> 728</td><td> 12</td><td>UA</td><td>1696</td><td>EWR</td><td>ORD</td><td>150</td><td> 719</td><td>5</td><td>58</td></tr>\n",
       "</tbody>\n",
       "</table>\n"
      ],
      "text/latex": [
       "A tibble: 6 × 19\n",
       "\\begin{tabular}{r|lllllllllllllllllll}\n",
       " time\\_hour & tailnum & year & month & day & dep\\_time & sched\\_dep\\_time & dep\\_delay & arr\\_time & sched\\_arr\\_time & arr\\_delay & carrier & flight & origin & dest & air\\_time & distance & hour & minute\\\\\n",
       " <dttm> & <chr> & <int> & <int> & <int> & <int> & <int> & <dbl> & <int> & <int> & <dbl> & <chr> & <int> & <chr> & <chr> & <dbl> & <dbl> & <dbl> & <dbl>\\\\\n",
       "\\hline\n",
       "\t 2013-01-01 05:00:00 & N14228 & 2013 & 1 & 1 & 517 & 515 &  2 &  830 &  819 &  11 & UA & 1545 & EWR & IAH & 227 & 1400 & 5 & 15\\\\\n",
       "\t 2013-01-01 05:00:00 & N24211 & 2013 & 1 & 1 & 533 & 529 &  4 &  850 &  830 &  20 & UA & 1714 & LGA & IAH & 227 & 1416 & 5 & 29\\\\\n",
       "\t 2013-01-01 05:00:00 & N619AA & 2013 & 1 & 1 & 542 & 540 &  2 &  923 &  850 &  33 & AA & 1141 & JFK & MIA & 160 & 1089 & 5 & 40\\\\\n",
       "\t 2013-01-01 05:00:00 & N804JB & 2013 & 1 & 1 & 544 & 545 & -1 & 1004 & 1022 & -18 & B6 &  725 & JFK & BQN & 183 & 1576 & 5 & 45\\\\\n",
       "\t 2013-01-01 06:00:00 & N668DN & 2013 & 1 & 1 & 554 & 600 & -6 &  812 &  837 & -25 & DL &  461 & LGA & ATL & 116 &  762 & 6 &  0\\\\\n",
       "\t 2013-01-01 05:00:00 & N39463 & 2013 & 1 & 1 & 554 & 558 & -4 &  740 &  728 &  12 & UA & 1696 & EWR & ORD & 150 &  719 & 5 & 58\\\\\n",
       "\\end{tabular}\n"
      ],
      "text/markdown": [
       "\n",
       "A tibble: 6 × 19\n",
       "\n",
       "| time_hour &lt;dttm&gt; | tailnum &lt;chr&gt; | year &lt;int&gt; | month &lt;int&gt; | day &lt;int&gt; | dep_time &lt;int&gt; | sched_dep_time &lt;int&gt; | dep_delay &lt;dbl&gt; | arr_time &lt;int&gt; | sched_arr_time &lt;int&gt; | arr_delay &lt;dbl&gt; | carrier &lt;chr&gt; | flight &lt;int&gt; | origin &lt;chr&gt; | dest &lt;chr&gt; | air_time &lt;dbl&gt; | distance &lt;dbl&gt; | hour &lt;dbl&gt; | minute &lt;dbl&gt; |\n",
       "|---|---|---|---|---|---|---|---|---|---|---|---|---|---|---|---|---|---|---|\n",
       "| 2013-01-01 05:00:00 | N14228 | 2013 | 1 | 1 | 517 | 515 |  2 |  830 |  819 |  11 | UA | 1545 | EWR | IAH | 227 | 1400 | 5 | 15 |\n",
       "| 2013-01-01 05:00:00 | N24211 | 2013 | 1 | 1 | 533 | 529 |  4 |  850 |  830 |  20 | UA | 1714 | LGA | IAH | 227 | 1416 | 5 | 29 |\n",
       "| 2013-01-01 05:00:00 | N619AA | 2013 | 1 | 1 | 542 | 540 |  2 |  923 |  850 |  33 | AA | 1141 | JFK | MIA | 160 | 1089 | 5 | 40 |\n",
       "| 2013-01-01 05:00:00 | N804JB | 2013 | 1 | 1 | 544 | 545 | -1 | 1004 | 1022 | -18 | B6 |  725 | JFK | BQN | 183 | 1576 | 5 | 45 |\n",
       "| 2013-01-01 06:00:00 | N668DN | 2013 | 1 | 1 | 554 | 600 | -6 |  812 |  837 | -25 | DL |  461 | LGA | ATL | 116 |  762 | 6 |  0 |\n",
       "| 2013-01-01 05:00:00 | N39463 | 2013 | 1 | 1 | 554 | 558 | -4 |  740 |  728 |  12 | UA | 1696 | EWR | ORD | 150 |  719 | 5 | 58 |\n",
       "\n"
      ],
      "text/plain": [
       "  time_hour           tailnum year month day dep_time sched_dep_time dep_delay\n",
       "1 2013-01-01 05:00:00 N14228  2013 1     1   517      515             2       \n",
       "2 2013-01-01 05:00:00 N24211  2013 1     1   533      529             4       \n",
       "3 2013-01-01 05:00:00 N619AA  2013 1     1   542      540             2       \n",
       "4 2013-01-01 05:00:00 N804JB  2013 1     1   544      545            -1       \n",
       "5 2013-01-01 06:00:00 N668DN  2013 1     1   554      600            -6       \n",
       "6 2013-01-01 05:00:00 N39463  2013 1     1   554      558            -4       \n",
       "  arr_time sched_arr_time arr_delay carrier flight origin dest air_time\n",
       "1  830      819            11       UA      1545   EWR    IAH  227     \n",
       "2  850      830            20       UA      1714   LGA    IAH  227     \n",
       "3  923      850            33       AA      1141   JFK    MIA  160     \n",
       "4 1004     1022           -18       B6       725   JFK    BQN  183     \n",
       "5  812      837           -25       DL       461   LGA    ATL  116     \n",
       "6  740      728            12       UA      1696   EWR    ORD  150     \n",
       "  distance hour minute\n",
       "1 1400     5    15    \n",
       "2 1416     5    29    \n",
       "3 1089     5    40    \n",
       "4 1576     5    45    \n",
       "5  762     6     0    \n",
       "6  719     5    58    "
      ]
     },
     "metadata": {},
     "output_type": "display_data"
    }
   ],
   "source": [
    "# 使用everything()函数将某列或某几列放到前面\n",
    "head(select(flights, time_hour, tailnum, everything()))"
   ]
  },
  {
   "cell_type": "code",
   "execution_count": 66,
   "metadata": {},
   "outputs": [
    {
     "data": {
      "text/html": [
       "<table>\n",
       "<caption>A tibble: 6 × 5</caption>\n",
       "<thead>\n",
       "\t<tr><th scope=col>year</th><th scope=col>month</th><th scope=col>day</th><th scope=col>dep_delay</th><th scope=col>arr_delay</th></tr>\n",
       "\t<tr><th scope=col>&lt;int&gt;</th><th scope=col>&lt;int&gt;</th><th scope=col>&lt;int&gt;</th><th scope=col>&lt;dbl&gt;</th><th scope=col>&lt;dbl&gt;</th></tr>\n",
       "</thead>\n",
       "<tbody>\n",
       "\t<tr><td>2013</td><td>1</td><td>1</td><td> 2</td><td> 11</td></tr>\n",
       "\t<tr><td>2013</td><td>1</td><td>1</td><td> 4</td><td> 20</td></tr>\n",
       "\t<tr><td>2013</td><td>1</td><td>1</td><td> 2</td><td> 33</td></tr>\n",
       "\t<tr><td>2013</td><td>1</td><td>1</td><td>-1</td><td>-18</td></tr>\n",
       "\t<tr><td>2013</td><td>1</td><td>1</td><td>-6</td><td>-25</td></tr>\n",
       "\t<tr><td>2013</td><td>1</td><td>1</td><td>-4</td><td> 12</td></tr>\n",
       "</tbody>\n",
       "</table>\n"
      ],
      "text/latex": [
       "A tibble: 6 × 5\n",
       "\\begin{tabular}{r|lllll}\n",
       " year & month & day & dep\\_delay & arr\\_delay\\\\\n",
       " <int> & <int> & <int> & <dbl> & <dbl>\\\\\n",
       "\\hline\n",
       "\t 2013 & 1 & 1 &  2 &  11\\\\\n",
       "\t 2013 & 1 & 1 &  4 &  20\\\\\n",
       "\t 2013 & 1 & 1 &  2 &  33\\\\\n",
       "\t 2013 & 1 & 1 & -1 & -18\\\\\n",
       "\t 2013 & 1 & 1 & -6 & -25\\\\\n",
       "\t 2013 & 1 & 1 & -4 &  12\\\\\n",
       "\\end{tabular}\n"
      ],
      "text/markdown": [
       "\n",
       "A tibble: 6 × 5\n",
       "\n",
       "| year &lt;int&gt; | month &lt;int&gt; | day &lt;int&gt; | dep_delay &lt;dbl&gt; | arr_delay &lt;dbl&gt; |\n",
       "|---|---|---|---|---|\n",
       "| 2013 | 1 | 1 |  2 |  11 |\n",
       "| 2013 | 1 | 1 |  4 |  20 |\n",
       "| 2013 | 1 | 1 |  2 |  33 |\n",
       "| 2013 | 1 | 1 | -1 | -18 |\n",
       "| 2013 | 1 | 1 | -6 | -25 |\n",
       "| 2013 | 1 | 1 | -4 |  12 |\n",
       "\n"
      ],
      "text/plain": [
       "  year month day dep_delay arr_delay\n",
       "1 2013 1     1    2         11      \n",
       "2 2013 1     1    4         20      \n",
       "3 2013 1     1    2         33      \n",
       "4 2013 1     1   -1        -18      \n",
       "5 2013 1     1   -6        -25      \n",
       "6 2013 1     1   -4         12      "
      ]
     },
     "metadata": {},
     "output_type": "display_data"
    }
   ],
   "source": [
    "#  one_of()函数的作用是什么？\n",
    "\n",
    "vars <-c( \"year\", \"month\", \"day\", \"dep_delay\", \"arr_delay\")\n",
    "\n",
    "head(select(flights, vars))"
   ]
  },
  {
   "cell_type": "markdown",
   "metadata": {},
   "source": [
    "## 使用mutate()添加新变量"
   ]
  },
  {
   "cell_type": "code",
   "execution_count": 67,
   "metadata": {},
   "outputs": [
    {
     "data": {
      "text/html": [
       "<table>\n",
       "<caption>A tibble: 6 × 9</caption>\n",
       "<thead>\n",
       "\t<tr><th scope=col>year</th><th scope=col>month</th><th scope=col>day</th><th scope=col>dep_delay</th><th scope=col>arr_delay</th><th scope=col>distance</th><th scope=col>air_time</th><th scope=col>gain</th><th scope=col>speed</th></tr>\n",
       "\t<tr><th scope=col>&lt;int&gt;</th><th scope=col>&lt;int&gt;</th><th scope=col>&lt;int&gt;</th><th scope=col>&lt;dbl&gt;</th><th scope=col>&lt;dbl&gt;</th><th scope=col>&lt;dbl&gt;</th><th scope=col>&lt;dbl&gt;</th><th scope=col>&lt;dbl&gt;</th><th scope=col>&lt;dbl&gt;</th></tr>\n",
       "</thead>\n",
       "<tbody>\n",
       "\t<tr><td>2013</td><td>1</td><td>1</td><td> 2</td><td> 11</td><td>1400</td><td>227</td><td>  9</td><td>370.0441</td></tr>\n",
       "\t<tr><td>2013</td><td>1</td><td>1</td><td> 4</td><td> 20</td><td>1416</td><td>227</td><td> 16</td><td>374.2731</td></tr>\n",
       "\t<tr><td>2013</td><td>1</td><td>1</td><td> 2</td><td> 33</td><td>1089</td><td>160</td><td> 31</td><td>408.3750</td></tr>\n",
       "\t<tr><td>2013</td><td>1</td><td>1</td><td>-1</td><td>-18</td><td>1576</td><td>183</td><td>-17</td><td>516.7213</td></tr>\n",
       "\t<tr><td>2013</td><td>1</td><td>1</td><td>-6</td><td>-25</td><td> 762</td><td>116</td><td>-19</td><td>394.1379</td></tr>\n",
       "\t<tr><td>2013</td><td>1</td><td>1</td><td>-4</td><td> 12</td><td> 719</td><td>150</td><td> 16</td><td>287.6000</td></tr>\n",
       "</tbody>\n",
       "</table>\n"
      ],
      "text/latex": [
       "A tibble: 6 × 9\n",
       "\\begin{tabular}{r|lllllllll}\n",
       " year & month & day & dep\\_delay & arr\\_delay & distance & air\\_time & gain & speed\\\\\n",
       " <int> & <int> & <int> & <dbl> & <dbl> & <dbl> & <dbl> & <dbl> & <dbl>\\\\\n",
       "\\hline\n",
       "\t 2013 & 1 & 1 &  2 &  11 & 1400 & 227 &   9 & 370.0441\\\\\n",
       "\t 2013 & 1 & 1 &  4 &  20 & 1416 & 227 &  16 & 374.2731\\\\\n",
       "\t 2013 & 1 & 1 &  2 &  33 & 1089 & 160 &  31 & 408.3750\\\\\n",
       "\t 2013 & 1 & 1 & -1 & -18 & 1576 & 183 & -17 & 516.7213\\\\\n",
       "\t 2013 & 1 & 1 & -6 & -25 &  762 & 116 & -19 & 394.1379\\\\\n",
       "\t 2013 & 1 & 1 & -4 &  12 &  719 & 150 &  16 & 287.6000\\\\\n",
       "\\end{tabular}\n"
      ],
      "text/markdown": [
       "\n",
       "A tibble: 6 × 9\n",
       "\n",
       "| year &lt;int&gt; | month &lt;int&gt; | day &lt;int&gt; | dep_delay &lt;dbl&gt; | arr_delay &lt;dbl&gt; | distance &lt;dbl&gt; | air_time &lt;dbl&gt; | gain &lt;dbl&gt; | speed &lt;dbl&gt; |\n",
       "|---|---|---|---|---|---|---|---|---|\n",
       "| 2013 | 1 | 1 |  2 |  11 | 1400 | 227 |   9 | 370.0441 |\n",
       "| 2013 | 1 | 1 |  4 |  20 | 1416 | 227 |  16 | 374.2731 |\n",
       "| 2013 | 1 | 1 |  2 |  33 | 1089 | 160 |  31 | 408.3750 |\n",
       "| 2013 | 1 | 1 | -1 | -18 | 1576 | 183 | -17 | 516.7213 |\n",
       "| 2013 | 1 | 1 | -6 | -25 |  762 | 116 | -19 | 394.1379 |\n",
       "| 2013 | 1 | 1 | -4 |  12 |  719 | 150 |  16 | 287.6000 |\n",
       "\n"
      ],
      "text/plain": [
       "  year month day dep_delay arr_delay distance air_time gain speed   \n",
       "1 2013 1     1    2         11       1400     227        9  370.0441\n",
       "2 2013 1     1    4         20       1416     227       16  374.2731\n",
       "3 2013 1     1    2         33       1089     160       31  408.3750\n",
       "4 2013 1     1   -1        -18       1576     183      -17  516.7213\n",
       "5 2013 1     1   -6        -25        762     116      -19  394.1379\n",
       "6 2013 1     1   -4         12        719     150       16  287.6000"
      ]
     },
     "metadata": {},
     "output_type": "display_data"
    }
   ],
   "source": [
    "# mutate就是以原有列为基础进行运算，在最后添加新的列\n",
    "\n",
    "flights_sml <- select(flights, year:day,ends_with(\"delay\"),\n",
    "                     distance, air_time)\n",
    "\n",
    "head(mutate(flights_sml, gain = arr_delay - dep_delay,\n",
    "      speed = distance / air_time * 60))"
   ]
  },
  {
   "cell_type": "code",
   "execution_count": 68,
   "metadata": {},
   "outputs": [
    {
     "data": {
      "text/html": [
       "<table>\n",
       "<caption>A tibble: 6 × 7</caption>\n",
       "<thead>\n",
       "\t<tr><th scope=col>year</th><th scope=col>month</th><th scope=col>day</th><th scope=col>dep_delay</th><th scope=col>arr_delay</th><th scope=col>distance</th><th scope=col>air_time</th></tr>\n",
       "\t<tr><th scope=col>&lt;int&gt;</th><th scope=col>&lt;int&gt;</th><th scope=col>&lt;int&gt;</th><th scope=col>&lt;dbl&gt;</th><th scope=col>&lt;dbl&gt;</th><th scope=col>&lt;dbl&gt;</th><th scope=col>&lt;dbl&gt;</th></tr>\n",
       "</thead>\n",
       "<tbody>\n",
       "\t<tr><td>2013</td><td>1</td><td>1</td><td> 2</td><td> 11</td><td>1400</td><td>227</td></tr>\n",
       "\t<tr><td>2013</td><td>1</td><td>1</td><td> 4</td><td> 20</td><td>1416</td><td>227</td></tr>\n",
       "\t<tr><td>2013</td><td>1</td><td>1</td><td> 2</td><td> 33</td><td>1089</td><td>160</td></tr>\n",
       "\t<tr><td>2013</td><td>1</td><td>1</td><td>-1</td><td>-18</td><td>1576</td><td>183</td></tr>\n",
       "\t<tr><td>2013</td><td>1</td><td>1</td><td>-6</td><td>-25</td><td> 762</td><td>116</td></tr>\n",
       "\t<tr><td>2013</td><td>1</td><td>1</td><td>-4</td><td> 12</td><td> 719</td><td>150</td></tr>\n",
       "</tbody>\n",
       "</table>\n"
      ],
      "text/latex": [
       "A tibble: 6 × 7\n",
       "\\begin{tabular}{r|lllllll}\n",
       " year & month & day & dep\\_delay & arr\\_delay & distance & air\\_time\\\\\n",
       " <int> & <int> & <int> & <dbl> & <dbl> & <dbl> & <dbl>\\\\\n",
       "\\hline\n",
       "\t 2013 & 1 & 1 &  2 &  11 & 1400 & 227\\\\\n",
       "\t 2013 & 1 & 1 &  4 &  20 & 1416 & 227\\\\\n",
       "\t 2013 & 1 & 1 &  2 &  33 & 1089 & 160\\\\\n",
       "\t 2013 & 1 & 1 & -1 & -18 & 1576 & 183\\\\\n",
       "\t 2013 & 1 & 1 & -6 & -25 &  762 & 116\\\\\n",
       "\t 2013 & 1 & 1 & -4 &  12 &  719 & 150\\\\\n",
       "\\end{tabular}\n"
      ],
      "text/markdown": [
       "\n",
       "A tibble: 6 × 7\n",
       "\n",
       "| year &lt;int&gt; | month &lt;int&gt; | day &lt;int&gt; | dep_delay &lt;dbl&gt; | arr_delay &lt;dbl&gt; | distance &lt;dbl&gt; | air_time &lt;dbl&gt; |\n",
       "|---|---|---|---|---|---|---|\n",
       "| 2013 | 1 | 1 |  2 |  11 | 1400 | 227 |\n",
       "| 2013 | 1 | 1 |  4 |  20 | 1416 | 227 |\n",
       "| 2013 | 1 | 1 |  2 |  33 | 1089 | 160 |\n",
       "| 2013 | 1 | 1 | -1 | -18 | 1576 | 183 |\n",
       "| 2013 | 1 | 1 | -6 | -25 |  762 | 116 |\n",
       "| 2013 | 1 | 1 | -4 |  12 |  719 | 150 |\n",
       "\n"
      ],
      "text/plain": [
       "  year month day dep_delay arr_delay distance air_time\n",
       "1 2013 1     1    2         11       1400     227     \n",
       "2 2013 1     1    4         20       1416     227     \n",
       "3 2013 1     1    2         33       1089     160     \n",
       "4 2013 1     1   -1        -18       1576     183     \n",
       "5 2013 1     1   -6        -25        762     116     \n",
       "6 2013 1     1   -4         12        719     150     "
      ]
     },
     "metadata": {},
     "output_type": "display_data"
    }
   ],
   "source": [
    "head(flights_sml)# 原始数据依旧没有修改"
   ]
  },
  {
   "cell_type": "code",
   "execution_count": 69,
   "metadata": {},
   "outputs": [
    {
     "data": {
      "text/html": [
       "<table>\n",
       "<caption>A tibble: 6 × 10</caption>\n",
       "<thead>\n",
       "\t<tr><th scope=col>year</th><th scope=col>month</th><th scope=col>day</th><th scope=col>dep_delay</th><th scope=col>arr_delay</th><th scope=col>distance</th><th scope=col>air_time</th><th scope=col>gain</th><th scope=col>hours</th><th scope=col>gain_per_hour</th></tr>\n",
       "\t<tr><th scope=col>&lt;int&gt;</th><th scope=col>&lt;int&gt;</th><th scope=col>&lt;int&gt;</th><th scope=col>&lt;dbl&gt;</th><th scope=col>&lt;dbl&gt;</th><th scope=col>&lt;dbl&gt;</th><th scope=col>&lt;dbl&gt;</th><th scope=col>&lt;dbl&gt;</th><th scope=col>&lt;dbl&gt;</th><th scope=col>&lt;dbl&gt;</th></tr>\n",
       "</thead>\n",
       "<tbody>\n",
       "\t<tr><td>2013</td><td>1</td><td>1</td><td> 2</td><td> 11</td><td>1400</td><td>227</td><td>  9</td><td>3.783333</td><td> 2.378855</td></tr>\n",
       "\t<tr><td>2013</td><td>1</td><td>1</td><td> 4</td><td> 20</td><td>1416</td><td>227</td><td> 16</td><td>3.783333</td><td> 4.229075</td></tr>\n",
       "\t<tr><td>2013</td><td>1</td><td>1</td><td> 2</td><td> 33</td><td>1089</td><td>160</td><td> 31</td><td>2.666667</td><td>11.625000</td></tr>\n",
       "\t<tr><td>2013</td><td>1</td><td>1</td><td>-1</td><td>-18</td><td>1576</td><td>183</td><td>-17</td><td>3.050000</td><td>-5.573770</td></tr>\n",
       "\t<tr><td>2013</td><td>1</td><td>1</td><td>-6</td><td>-25</td><td> 762</td><td>116</td><td>-19</td><td>1.933333</td><td>-9.827586</td></tr>\n",
       "\t<tr><td>2013</td><td>1</td><td>1</td><td>-4</td><td> 12</td><td> 719</td><td>150</td><td> 16</td><td>2.500000</td><td> 6.400000</td></tr>\n",
       "</tbody>\n",
       "</table>\n"
      ],
      "text/latex": [
       "A tibble: 6 × 10\n",
       "\\begin{tabular}{r|llllllllll}\n",
       " year & month & day & dep\\_delay & arr\\_delay & distance & air\\_time & gain & hours & gain\\_per\\_hour\\\\\n",
       " <int> & <int> & <int> & <dbl> & <dbl> & <dbl> & <dbl> & <dbl> & <dbl> & <dbl>\\\\\n",
       "\\hline\n",
       "\t 2013 & 1 & 1 &  2 &  11 & 1400 & 227 &   9 & 3.783333 &  2.378855\\\\\n",
       "\t 2013 & 1 & 1 &  4 &  20 & 1416 & 227 &  16 & 3.783333 &  4.229075\\\\\n",
       "\t 2013 & 1 & 1 &  2 &  33 & 1089 & 160 &  31 & 2.666667 & 11.625000\\\\\n",
       "\t 2013 & 1 & 1 & -1 & -18 & 1576 & 183 & -17 & 3.050000 & -5.573770\\\\\n",
       "\t 2013 & 1 & 1 & -6 & -25 &  762 & 116 & -19 & 1.933333 & -9.827586\\\\\n",
       "\t 2013 & 1 & 1 & -4 &  12 &  719 & 150 &  16 & 2.500000 &  6.400000\\\\\n",
       "\\end{tabular}\n"
      ],
      "text/markdown": [
       "\n",
       "A tibble: 6 × 10\n",
       "\n",
       "| year &lt;int&gt; | month &lt;int&gt; | day &lt;int&gt; | dep_delay &lt;dbl&gt; | arr_delay &lt;dbl&gt; | distance &lt;dbl&gt; | air_time &lt;dbl&gt; | gain &lt;dbl&gt; | hours &lt;dbl&gt; | gain_per_hour &lt;dbl&gt; |\n",
       "|---|---|---|---|---|---|---|---|---|---|\n",
       "| 2013 | 1 | 1 |  2 |  11 | 1400 | 227 |   9 | 3.783333 |  2.378855 |\n",
       "| 2013 | 1 | 1 |  4 |  20 | 1416 | 227 |  16 | 3.783333 |  4.229075 |\n",
       "| 2013 | 1 | 1 |  2 |  33 | 1089 | 160 |  31 | 2.666667 | 11.625000 |\n",
       "| 2013 | 1 | 1 | -1 | -18 | 1576 | 183 | -17 | 3.050000 | -5.573770 |\n",
       "| 2013 | 1 | 1 | -6 | -25 |  762 | 116 | -19 | 1.933333 | -9.827586 |\n",
       "| 2013 | 1 | 1 | -4 |  12 |  719 | 150 |  16 | 2.500000 |  6.400000 |\n",
       "\n"
      ],
      "text/plain": [
       "  year month day dep_delay arr_delay distance air_time gain hours   \n",
       "1 2013 1     1    2         11       1400     227        9  3.783333\n",
       "2 2013 1     1    4         20       1416     227       16  3.783333\n",
       "3 2013 1     1    2         33       1089     160       31  2.666667\n",
       "4 2013 1     1   -1        -18       1576     183      -17  3.050000\n",
       "5 2013 1     1   -6        -25        762     116      -19  1.933333\n",
       "6 2013 1     1   -4         12        719     150       16  2.500000\n",
       "  gain_per_hour\n",
       "1  2.378855    \n",
       "2  4.229075    \n",
       "3 11.625000    \n",
       "4 -5.573770    \n",
       "5 -9.827586    \n",
       "6  6.400000    "
      ]
     },
     "metadata": {},
     "output_type": "display_data"
    }
   ],
   "source": [
    "head(mutate(flights_sml,\n",
    "      gain = arr_delay - dep_delay,\n",
    "      hours = air_time / 60,\n",
    "      gain_per_hour = gain / hours))"
   ]
  },
  {
   "cell_type": "code",
   "execution_count": 70,
   "metadata": {},
   "outputs": [
    {
     "data": {
      "text/html": [
       "<table>\n",
       "<caption>A tibble: 6 × 3</caption>\n",
       "<thead>\n",
       "\t<tr><th scope=col>gain</th><th scope=col>hours</th><th scope=col>gain_per_hour</th></tr>\n",
       "\t<tr><th scope=col>&lt;dbl&gt;</th><th scope=col>&lt;dbl&gt;</th><th scope=col>&lt;dbl&gt;</th></tr>\n",
       "</thead>\n",
       "<tbody>\n",
       "\t<tr><td>  9</td><td>3.783333</td><td> 2.378855</td></tr>\n",
       "\t<tr><td> 16</td><td>3.783333</td><td> 4.229075</td></tr>\n",
       "\t<tr><td> 31</td><td>2.666667</td><td>11.625000</td></tr>\n",
       "\t<tr><td>-17</td><td>3.050000</td><td>-5.573770</td></tr>\n",
       "\t<tr><td>-19</td><td>1.933333</td><td>-9.827586</td></tr>\n",
       "\t<tr><td> 16</td><td>2.500000</td><td> 6.400000</td></tr>\n",
       "</tbody>\n",
       "</table>\n"
      ],
      "text/latex": [
       "A tibble: 6 × 3\n",
       "\\begin{tabular}{r|lll}\n",
       " gain & hours & gain\\_per\\_hour\\\\\n",
       " <dbl> & <dbl> & <dbl>\\\\\n",
       "\\hline\n",
       "\t   9 & 3.783333 &  2.378855\\\\\n",
       "\t  16 & 3.783333 &  4.229075\\\\\n",
       "\t  31 & 2.666667 & 11.625000\\\\\n",
       "\t -17 & 3.050000 & -5.573770\\\\\n",
       "\t -19 & 1.933333 & -9.827586\\\\\n",
       "\t  16 & 2.500000 &  6.400000\\\\\n",
       "\\end{tabular}\n"
      ],
      "text/markdown": [
       "\n",
       "A tibble: 6 × 3\n",
       "\n",
       "| gain &lt;dbl&gt; | hours &lt;dbl&gt; | gain_per_hour &lt;dbl&gt; |\n",
       "|---|---|---|\n",
       "|   9 | 3.783333 |  2.378855 |\n",
       "|  16 | 3.783333 |  4.229075 |\n",
       "|  31 | 2.666667 | 11.625000 |\n",
       "| -17 | 3.050000 | -5.573770 |\n",
       "| -19 | 1.933333 | -9.827586 |\n",
       "|  16 | 2.500000 |  6.400000 |\n",
       "\n"
      ],
      "text/plain": [
       "  gain hours    gain_per_hour\n",
       "1   9  3.783333  2.378855    \n",
       "2  16  3.783333  4.229075    \n",
       "3  31  2.666667 11.625000    \n",
       "4 -17  3.050000 -5.573770    \n",
       "5 -19  1.933333 -9.827586    \n",
       "6  16  2.500000  6.400000    "
      ]
     },
     "metadata": {},
     "output_type": "display_data"
    },
    {
     "data": {
      "text/html": [
       "<table>\n",
       "<caption>A tibble: 6 × 7</caption>\n",
       "<thead>\n",
       "\t<tr><th scope=col>year</th><th scope=col>month</th><th scope=col>day</th><th scope=col>dep_delay</th><th scope=col>arr_delay</th><th scope=col>distance</th><th scope=col>air_time</th></tr>\n",
       "\t<tr><th scope=col>&lt;int&gt;</th><th scope=col>&lt;int&gt;</th><th scope=col>&lt;int&gt;</th><th scope=col>&lt;dbl&gt;</th><th scope=col>&lt;dbl&gt;</th><th scope=col>&lt;dbl&gt;</th><th scope=col>&lt;dbl&gt;</th></tr>\n",
       "</thead>\n",
       "<tbody>\n",
       "\t<tr><td>2013</td><td>1</td><td>1</td><td> 2</td><td> 11</td><td>1400</td><td>227</td></tr>\n",
       "\t<tr><td>2013</td><td>1</td><td>1</td><td> 4</td><td> 20</td><td>1416</td><td>227</td></tr>\n",
       "\t<tr><td>2013</td><td>1</td><td>1</td><td> 2</td><td> 33</td><td>1089</td><td>160</td></tr>\n",
       "\t<tr><td>2013</td><td>1</td><td>1</td><td>-1</td><td>-18</td><td>1576</td><td>183</td></tr>\n",
       "\t<tr><td>2013</td><td>1</td><td>1</td><td>-6</td><td>-25</td><td> 762</td><td>116</td></tr>\n",
       "\t<tr><td>2013</td><td>1</td><td>1</td><td>-4</td><td> 12</td><td> 719</td><td>150</td></tr>\n",
       "</tbody>\n",
       "</table>\n"
      ],
      "text/latex": [
       "A tibble: 6 × 7\n",
       "\\begin{tabular}{r|lllllll}\n",
       " year & month & day & dep\\_delay & arr\\_delay & distance & air\\_time\\\\\n",
       " <int> & <int> & <int> & <dbl> & <dbl> & <dbl> & <dbl>\\\\\n",
       "\\hline\n",
       "\t 2013 & 1 & 1 &  2 &  11 & 1400 & 227\\\\\n",
       "\t 2013 & 1 & 1 &  4 &  20 & 1416 & 227\\\\\n",
       "\t 2013 & 1 & 1 &  2 &  33 & 1089 & 160\\\\\n",
       "\t 2013 & 1 & 1 & -1 & -18 & 1576 & 183\\\\\n",
       "\t 2013 & 1 & 1 & -6 & -25 &  762 & 116\\\\\n",
       "\t 2013 & 1 & 1 & -4 &  12 &  719 & 150\\\\\n",
       "\\end{tabular}\n"
      ],
      "text/markdown": [
       "\n",
       "A tibble: 6 × 7\n",
       "\n",
       "| year &lt;int&gt; | month &lt;int&gt; | day &lt;int&gt; | dep_delay &lt;dbl&gt; | arr_delay &lt;dbl&gt; | distance &lt;dbl&gt; | air_time &lt;dbl&gt; |\n",
       "|---|---|---|---|---|---|---|\n",
       "| 2013 | 1 | 1 |  2 |  11 | 1400 | 227 |\n",
       "| 2013 | 1 | 1 |  4 |  20 | 1416 | 227 |\n",
       "| 2013 | 1 | 1 |  2 |  33 | 1089 | 160 |\n",
       "| 2013 | 1 | 1 | -1 | -18 | 1576 | 183 |\n",
       "| 2013 | 1 | 1 | -6 | -25 |  762 | 116 |\n",
       "| 2013 | 1 | 1 | -4 |  12 |  719 | 150 |\n",
       "\n"
      ],
      "text/plain": [
       "  year month day dep_delay arr_delay distance air_time\n",
       "1 2013 1     1    2         11       1400     227     \n",
       "2 2013 1     1    4         20       1416     227     \n",
       "3 2013 1     1    2         33       1089     160     \n",
       "4 2013 1     1   -1        -18       1576     183     \n",
       "5 2013 1     1   -6        -25        762     116     \n",
       "6 2013 1     1   -4         12        719     150     "
      ]
     },
     "metadata": {},
     "output_type": "display_data"
    }
   ],
   "source": [
    "# 如果只想保留新变量，使用transmute()函数\n",
    "head(transmute(flights_sml,\n",
    "      gain = arr_delay - dep_delay,\n",
    "      hours = air_time / 60,\n",
    "      gain_per_hour = gain / hours))\n",
    "\n",
    "head(flights_sml)# 原数据依旧没变"
   ]
  },
  {
   "cell_type": "markdown",
   "metadata": {},
   "source": [
    "### 常用创建函数\n",
    "\n",
    "创建新变量的多种函数可供你同mutate()一同使用。\n",
    "最重要的一点是，这种函数必须是向量化的：\n",
    "它必须接受一个向量作为输入，并返回一个向量作为输出，\n",
    "而且输入向量与输出向量具有同样数目的分量。\n",
    "\n",
    "1. 算数运算符：+ 、- 、* 、/ 、^\n",
    "\n",
    "2. 模运算符：%/%(整除) 、%%(取余)\n",
    "\n",
    "3. 对数：log() 、logx() 、log10()\n",
    "\n",
    "4. 偏移函数：lead() 、lag()\n",
    "\n",
    "5. 逻辑比较：< 、<= 、> 、>= 、!=\n",
    "\n",
    "6. 排秩\n",
    "\n",
    "7. 累加和滚动聚合"
   ]
  },
  {
   "cell_type": "code",
   "execution_count": 71,
   "metadata": {},
   "outputs": [
    {
     "data": {
      "text/html": [
       "<table>\n",
       "<caption>A matrix: 1 × 10 of type int</caption>\n",
       "<tbody>\n",
       "\t<tr><td>1</td><td>2</td><td>3</td><td>4</td><td>5</td><td>6</td><td>7</td><td>8</td><td>9</td><td>10</td></tr>\n",
       "</tbody>\n",
       "</table>\n"
      ],
      "text/latex": [
       "A matrix: 1 × 10 of type int\n",
       "\\begin{tabular}{llllllllll}\n",
       "\t 1 & 2 & 3 & 4 & 5 & 6 & 7 & 8 & 9 & 10\\\\\n",
       "\\end{tabular}\n"
      ],
      "text/markdown": [
       "\n",
       "A matrix: 1 × 10 of type int\n",
       "\n",
       "| 1 | 2 | 3 | 4 | 5 | 6 | 7 | 8 | 9 | 10 |\n",
       "\n"
      ],
      "text/plain": [
       "     [,1] [,2] [,3] [,4] [,5] [,6] [,7] [,8] [,9] [,10]\n",
       "[1,] 1    2    3    4    5    6    7    8    9    10   "
      ]
     },
     "metadata": {},
     "output_type": "display_data"
    },
    {
     "data": {
      "text/html": [
       "<table>\n",
       "<caption>A matrix: 1 × 10 of type int</caption>\n",
       "<tbody>\n",
       "\t<tr><td>NA</td><td>1</td><td>2</td><td>3</td><td>4</td><td>5</td><td>6</td><td>7</td><td>8</td><td>9</td></tr>\n",
       "</tbody>\n",
       "</table>\n"
      ],
      "text/latex": [
       "A matrix: 1 × 10 of type int\n",
       "\\begin{tabular}{llllllllll}\n",
       "\t NA & 1 & 2 & 3 & 4 & 5 & 6 & 7 & 8 & 9\\\\\n",
       "\\end{tabular}\n"
      ],
      "text/markdown": [
       "\n",
       "A matrix: 1 × 10 of type int\n",
       "\n",
       "| NA | 1 | 2 | 3 | 4 | 5 | 6 | 7 | 8 | 9 |\n",
       "\n"
      ],
      "text/plain": [
       "     [,1] [,2] [,3] [,4] [,5] [,6] [,7] [,8] [,9] [,10]\n",
       "[1,] NA   1    2    3    4    5    6    7    8    9    "
      ]
     },
     "metadata": {},
     "output_type": "display_data"
    },
    {
     "data": {
      "text/html": [
       "<table>\n",
       "<caption>A matrix: 1 × 10 of type int</caption>\n",
       "<tbody>\n",
       "\t<tr><td>2</td><td>3</td><td>4</td><td>5</td><td>6</td><td>7</td><td>8</td><td>9</td><td>10</td><td>NA</td></tr>\n",
       "</tbody>\n",
       "</table>\n"
      ],
      "text/latex": [
       "A matrix: 1 × 10 of type int\n",
       "\\begin{tabular}{llllllllll}\n",
       "\t 2 & 3 & 4 & 5 & 6 & 7 & 8 & 9 & 10 & NA\\\\\n",
       "\\end{tabular}\n"
      ],
      "text/markdown": [
       "\n",
       "A matrix: 1 × 10 of type int\n",
       "\n",
       "| 2 | 3 | 4 | 5 | 6 | 7 | 8 | 9 | 10 | NA |\n",
       "\n"
      ],
      "text/plain": [
       "     [,1] [,2] [,3] [,4] [,5] [,6] [,7] [,8] [,9] [,10]\n",
       "[1,] 2    3    4    5    6    7    8    9    10   NA   "
      ]
     },
     "metadata": {},
     "output_type": "display_data"
    }
   ],
   "source": [
    "# 偏移函数一看例子就懂，不解释\n",
    "t(x <- 1:10)\n",
    "t(lag(x))\n",
    "t(lead(x))"
   ]
  },
  {
   "cell_type": "markdown",
   "metadata": {},
   "source": [
    "这样看不出来偏移函数用法，学了group_by()\n",
    "之后还不明白可以参考下面的链接\n",
    "[巧用偏移函数](https://cloud.tencent.com/developer/article/1429995)"
   ]
  },
  {
   "cell_type": "markdown",
   "metadata": {},
   "source": [
    "秩(rank)，顾名思义就是秩序的意思，不懂的百度\n",
    "\n",
    "几个排秩函数：min_rank()、row_number()、dense_rank()、\n",
    "percent_rank()、cume_dist()、mtile()\n",
    "\n",
    "目前会用min_rank()即可"
   ]
  },
  {
   "cell_type": "code",
   "execution_count": 72,
   "metadata": {},
   "outputs": [
    {
     "data": {
      "text/html": [
       "<table>\n",
       "<caption>A matrix: 1 × 5 of type dbl</caption>\n",
       "<tbody>\n",
       "\t<tr><td>1</td><td>2</td><td>2</td><td>3</td><td>4</td></tr>\n",
       "</tbody>\n",
       "</table>\n"
      ],
      "text/latex": [
       "A matrix: 1 × 5 of type dbl\n",
       "\\begin{tabular}{lllll}\n",
       "\t 1 & 2 & 2 & 3 & 4\\\\\n",
       "\\end{tabular}\n"
      ],
      "text/markdown": [
       "\n",
       "A matrix: 1 × 5 of type dbl\n",
       "\n",
       "| 1 | 2 | 2 | 3 | 4 |\n",
       "\n"
      ],
      "text/plain": [
       "     [,1] [,2] [,3] [,4] [,5]\n",
       "[1,] 1    2    2    3    4   "
      ]
     },
     "metadata": {},
     "output_type": "display_data"
    },
    {
     "data": {
      "text/html": [
       "<table>\n",
       "<caption>A matrix: 1 × 6 of type int</caption>\n",
       "<tbody>\n",
       "\t<tr><td>1</td><td>2</td><td>4</td><td>2</td><td>NA</td><td>5</td></tr>\n",
       "</tbody>\n",
       "</table>\n"
      ],
      "text/latex": [
       "A matrix: 1 × 6 of type int\n",
       "\\begin{tabular}{llllll}\n",
       "\t 1 & 2 & 4 & 2 & NA & 5\\\\\n",
       "\\end{tabular}\n"
      ],
      "text/markdown": [
       "\n",
       "A matrix: 1 × 6 of type int\n",
       "\n",
       "| 1 | 2 | 4 | 2 | NA | 5 |\n",
       "\n"
      ],
      "text/plain": [
       "     [,1] [,2] [,3] [,4] [,5] [,6]\n",
       "[1,] 1    2    4    2    NA   5   "
      ]
     },
     "metadata": {},
     "output_type": "display_data"
    },
    {
     "data": {
      "text/html": [
       "<table>\n",
       "<caption>A matrix: 1 × 6 of type int</caption>\n",
       "<tbody>\n",
       "\t<tr><td>5</td><td>3</td><td>2</td><td>3</td><td>NA</td><td>1</td></tr>\n",
       "</tbody>\n",
       "</table>\n"
      ],
      "text/latex": [
       "A matrix: 1 × 6 of type int\n",
       "\\begin{tabular}{llllll}\n",
       "\t 5 & 3 & 2 & 3 & NA & 1\\\\\n",
       "\\end{tabular}\n"
      ],
      "text/markdown": [
       "\n",
       "A matrix: 1 × 6 of type int\n",
       "\n",
       "| 5 | 3 | 2 | 3 | NA | 1 |\n",
       "\n"
      ],
      "text/plain": [
       "     [,1] [,2] [,3] [,4] [,5] [,6]\n",
       "[1,] 5    3    2    3    NA   1   "
      ]
     },
     "metadata": {},
     "output_type": "display_data"
    }
   ],
   "source": [
    "y <- c(1,2,3,2,NA,4)\n",
    "t(sort(y))\n",
    "t(min_rank(y))# 最小值获得最前面的名次\n",
    "t(min_rank(desc(y)))"
   ]
  },
  {
   "cell_type": "code",
   "execution_count": 73,
   "metadata": {},
   "outputs": [
    {
     "data": {
      "text/html": [
       "<table>\n",
       "<caption>A matrix: 1 × 10 of type int</caption>\n",
       "<tbody>\n",
       "\t<tr><td>1</td><td>2</td><td>3</td><td>4</td><td>5</td><td>6</td><td>7</td><td>8</td><td>9</td><td>10</td></tr>\n",
       "</tbody>\n",
       "</table>\n"
      ],
      "text/latex": [
       "A matrix: 1 × 10 of type int\n",
       "\\begin{tabular}{llllllllll}\n",
       "\t 1 & 2 & 3 & 4 & 5 & 6 & 7 & 8 & 9 & 10\\\\\n",
       "\\end{tabular}\n"
      ],
      "text/markdown": [
       "\n",
       "A matrix: 1 × 10 of type int\n",
       "\n",
       "| 1 | 2 | 3 | 4 | 5 | 6 | 7 | 8 | 9 | 10 |\n",
       "\n"
      ],
      "text/plain": [
       "     [,1] [,2] [,3] [,4] [,5] [,6] [,7] [,8] [,9] [,10]\n",
       "[1,] 1    2    3    4    5    6    7    8    9    10   "
      ]
     },
     "metadata": {},
     "output_type": "display_data"
    },
    {
     "data": {
      "text/html": [
       "<table>\n",
       "<caption>A matrix: 1 × 10 of type int</caption>\n",
       "<tbody>\n",
       "\t<tr><td>1</td><td>3</td><td>6</td><td>10</td><td>15</td><td>21</td><td>28</td><td>36</td><td>45</td><td>55</td></tr>\n",
       "</tbody>\n",
       "</table>\n"
      ],
      "text/latex": [
       "A matrix: 1 × 10 of type int\n",
       "\\begin{tabular}{llllllllll}\n",
       "\t 1 & 3 & 6 & 10 & 15 & 21 & 28 & 36 & 45 & 55\\\\\n",
       "\\end{tabular}\n"
      ],
      "text/markdown": [
       "\n",
       "A matrix: 1 × 10 of type int\n",
       "\n",
       "| 1 | 3 | 6 | 10 | 15 | 21 | 28 | 36 | 45 | 55 |\n",
       "\n"
      ],
      "text/plain": [
       "     [,1] [,2] [,3] [,4] [,5] [,6] [,7] [,8] [,9] [,10]\n",
       "[1,] 1    3    6    10   15   21   28   36   45   55   "
      ]
     },
     "metadata": {},
     "output_type": "display_data"
    },
    {
     "data": {
      "text/html": [
       "<table>\n",
       "<caption>A matrix: 1 × 10 of type dbl</caption>\n",
       "<tbody>\n",
       "\t<tr><td>1</td><td>2</td><td>6</td><td>24</td><td>120</td><td>720</td><td>5040</td><td>40320</td><td>362880</td><td>3628800</td></tr>\n",
       "</tbody>\n",
       "</table>\n"
      ],
      "text/latex": [
       "A matrix: 1 × 10 of type dbl\n",
       "\\begin{tabular}{llllllllll}\n",
       "\t 1 & 2 & 6 & 24 & 120 & 720 & 5040 & 40320 & 362880 & 3628800\\\\\n",
       "\\end{tabular}\n"
      ],
      "text/markdown": [
       "\n",
       "A matrix: 1 × 10 of type dbl\n",
       "\n",
       "| 1 | 2 | 6 | 24 | 120 | 720 | 5040 | 40320 | 362880 | 3628800 |\n",
       "\n"
      ],
      "text/plain": [
       "     [,1] [,2] [,3] [,4] [,5] [,6] [,7] [,8]  [,9]   [,10]  \n",
       "[1,] 1    2    6    24   120  720  5040 40320 362880 3628800"
      ]
     },
     "metadata": {},
     "output_type": "display_data"
    },
    {
     "data": {
      "text/html": [
       "<table>\n",
       "<caption>A matrix: 1 × 10 of type int</caption>\n",
       "<tbody>\n",
       "\t<tr><td>1</td><td>1</td><td>1</td><td>1</td><td>1</td><td>1</td><td>1</td><td>1</td><td>1</td><td>1</td></tr>\n",
       "</tbody>\n",
       "</table>\n"
      ],
      "text/latex": [
       "A matrix: 1 × 10 of type int\n",
       "\\begin{tabular}{llllllllll}\n",
       "\t 1 & 1 & 1 & 1 & 1 & 1 & 1 & 1 & 1 & 1\\\\\n",
       "\\end{tabular}\n"
      ],
      "text/markdown": [
       "\n",
       "A matrix: 1 × 10 of type int\n",
       "\n",
       "| 1 | 1 | 1 | 1 | 1 | 1 | 1 | 1 | 1 | 1 |\n",
       "\n"
      ],
      "text/plain": [
       "     [,1] [,2] [,3] [,4] [,5] [,6] [,7] [,8] [,9] [,10]\n",
       "[1,] 1    1    1    1    1    1    1    1    1    1    "
      ]
     },
     "metadata": {},
     "output_type": "display_data"
    },
    {
     "data": {
      "text/html": [
       "<table>\n",
       "<caption>A matrix: 1 × 10 of type int</caption>\n",
       "<tbody>\n",
       "\t<tr><td>1</td><td>2</td><td>3</td><td>4</td><td>5</td><td>6</td><td>7</td><td>8</td><td>9</td><td>10</td></tr>\n",
       "</tbody>\n",
       "</table>\n"
      ],
      "text/latex": [
       "A matrix: 1 × 10 of type int\n",
       "\\begin{tabular}{llllllllll}\n",
       "\t 1 & 2 & 3 & 4 & 5 & 6 & 7 & 8 & 9 & 10\\\\\n",
       "\\end{tabular}\n"
      ],
      "text/markdown": [
       "\n",
       "A matrix: 1 × 10 of type int\n",
       "\n",
       "| 1 | 2 | 3 | 4 | 5 | 6 | 7 | 8 | 9 | 10 |\n",
       "\n"
      ],
      "text/plain": [
       "     [,1] [,2] [,3] [,4] [,5] [,6] [,7] [,8] [,9] [,10]\n",
       "[1,] 1    2    3    4    5    6    7    8    9    10   "
      ]
     },
     "metadata": {},
     "output_type": "display_data"
    },
    {
     "data": {
      "text/html": [
       "<table>\n",
       "<caption>A matrix: 1 × 10 of type dbl</caption>\n",
       "<tbody>\n",
       "\t<tr><td>1</td><td>1.5</td><td>2</td><td>2.5</td><td>3</td><td>3.5</td><td>4</td><td>4.5</td><td>5</td><td>5.5</td></tr>\n",
       "</tbody>\n",
       "</table>\n"
      ],
      "text/latex": [
       "A matrix: 1 × 10 of type dbl\n",
       "\\begin{tabular}{llllllllll}\n",
       "\t 1 & 1.5 & 2 & 2.5 & 3 & 3.5 & 4 & 4.5 & 5 & 5.5\\\\\n",
       "\\end{tabular}\n"
      ],
      "text/markdown": [
       "\n",
       "A matrix: 1 × 10 of type dbl\n",
       "\n",
       "| 1 | 1.5 | 2 | 2.5 | 3 | 3.5 | 4 | 4.5 | 5 | 5.5 |\n",
       "\n"
      ],
      "text/plain": [
       "     [,1] [,2] [,3] [,4] [,5] [,6] [,7] [,8] [,9] [,10]\n",
       "[1,] 1    1.5  2    2.5  3    3.5  4    4.5  5    5.5  "
      ]
     },
     "metadata": {},
     "output_type": "display_data"
    }
   ],
   "source": [
    "## 累加和滚动聚合也不难\n",
    "\n",
    "# R提供了计算累加和、累加积、累加最小值和累加最大值的函数：\n",
    "\n",
    "# cumsum()、cumprod()、cummin()和cummax()；\n",
    "\n",
    "# dplyr还提供了cummean()函数以计算累加均值。\n",
    "\n",
    "t(x <- 1:10)\n",
    " \n",
    "t(cumsum(x))# 和\n",
    "\n",
    "t(cumprod(x)) # 积\n",
    "\n",
    "t(cummin(x))# min\n",
    "\n",
    "t(cummax(x))# max\n",
    "\n",
    "t(cummean(x))# mean"
   ]
  },
  {
   "cell_type": "markdown",
   "metadata": {},
   "source": [
    "cummin()和cummax()不是很好理解吧\n",
    "\n",
    "和下面的例子对比也许就懂了"
   ]
  },
  {
   "cell_type": "code",
   "execution_count": 74,
   "metadata": {},
   "outputs": [
    {
     "data": {
      "text/html": [
       "<table>\n",
       "<caption>A matrix: 1 × 10 of type int</caption>\n",
       "<tbody>\n",
       "\t<tr><td>10</td><td>9</td><td>8</td><td>7</td><td>6</td><td>5</td><td>4</td><td>3</td><td>2</td><td>1</td></tr>\n",
       "</tbody>\n",
       "</table>\n"
      ],
      "text/latex": [
       "A matrix: 1 × 10 of type int\n",
       "\\begin{tabular}{llllllllll}\n",
       "\t 10 & 9 & 8 & 7 & 6 & 5 & 4 & 3 & 2 & 1\\\\\n",
       "\\end{tabular}\n"
      ],
      "text/markdown": [
       "\n",
       "A matrix: 1 × 10 of type int\n",
       "\n",
       "| 10 | 9 | 8 | 7 | 6 | 5 | 4 | 3 | 2 | 1 |\n",
       "\n"
      ],
      "text/plain": [
       "     [,1] [,2] [,3] [,4] [,5] [,6] [,7] [,8] [,9] [,10]\n",
       "[1,] 10   9    8    7    6    5    4    3    2    1    "
      ]
     },
     "metadata": {},
     "output_type": "display_data"
    },
    {
     "data": {
      "text/html": [
       "<table>\n",
       "<caption>A matrix: 1 × 10 of type int</caption>\n",
       "<tbody>\n",
       "\t<tr><td>10</td><td>9</td><td>8</td><td>7</td><td>6</td><td>5</td><td>4</td><td>3</td><td>2</td><td>1</td></tr>\n",
       "</tbody>\n",
       "</table>\n"
      ],
      "text/latex": [
       "A matrix: 1 × 10 of type int\n",
       "\\begin{tabular}{llllllllll}\n",
       "\t 10 & 9 & 8 & 7 & 6 & 5 & 4 & 3 & 2 & 1\\\\\n",
       "\\end{tabular}\n"
      ],
      "text/markdown": [
       "\n",
       "A matrix: 1 × 10 of type int\n",
       "\n",
       "| 10 | 9 | 8 | 7 | 6 | 5 | 4 | 3 | 2 | 1 |\n",
       "\n"
      ],
      "text/plain": [
       "     [,1] [,2] [,3] [,4] [,5] [,6] [,7] [,8] [,9] [,10]\n",
       "[1,] 10   9    8    7    6    5    4    3    2    1    "
      ]
     },
     "metadata": {},
     "output_type": "display_data"
    },
    {
     "data": {
      "text/html": [
       "<table>\n",
       "<caption>A matrix: 1 × 10 of type int</caption>\n",
       "<tbody>\n",
       "\t<tr><td>10</td><td>10</td><td>10</td><td>10</td><td>10</td><td>10</td><td>10</td><td>10</td><td>10</td><td>10</td></tr>\n",
       "</tbody>\n",
       "</table>\n"
      ],
      "text/latex": [
       "A matrix: 1 × 10 of type int\n",
       "\\begin{tabular}{llllllllll}\n",
       "\t 10 & 10 & 10 & 10 & 10 & 10 & 10 & 10 & 10 & 10\\\\\n",
       "\\end{tabular}\n"
      ],
      "text/markdown": [
       "\n",
       "A matrix: 1 × 10 of type int\n",
       "\n",
       "| 10 | 10 | 10 | 10 | 10 | 10 | 10 | 10 | 10 | 10 |\n",
       "\n"
      ],
      "text/plain": [
       "     [,1] [,2] [,3] [,4] [,5] [,6] [,7] [,8] [,9] [,10]\n",
       "[1,] 10   10   10   10   10   10   10   10   10   10   "
      ]
     },
     "metadata": {},
     "output_type": "display_data"
    }
   ],
   "source": [
    "t(z <- 10:1)\n",
    "t(cummin(z))\n",
    "t(cummax(z))\n",
    "\n",
    "# 还可以执行example(cummin)看一下官方例子"
   ]
  },
  {
   "cell_type": "code",
   "execution_count": 75,
   "metadata": {},
   "outputs": [
    {
     "name": "stdout",
     "output_type": "stream",
     "text": [
      "\n",
      "cummin> cumsum(1:10)\n",
      " [1]  1  3  6 10 15 21 28 36 45 55\n",
      "\n",
      "cummin> cumprod(1:10)\n",
      " [1]       1       2       6      24     120     720    5040   40320  362880\n",
      "[10] 3628800\n",
      "\n",
      "cummin> cummin(c(3:1, 2:0, 4:2))\n",
      "[1] 3 2 1 1 1 0 0 0 0\n",
      "\n",
      "cummin> cummax(c(3:1, 2:0, 4:2))\n",
      "[1] 3 3 3 3 3 3 4 4 4\n"
     ]
    }
   ],
   "source": [
    "example(cummin)"
   ]
  },
  {
   "cell_type": "markdown",
   "metadata": {},
   "source": [
    "## 使用summarize()进行分组摘要"
   ]
  },
  {
   "cell_type": "code",
   "execution_count": 76,
   "metadata": {},
   "outputs": [
    {
     "data": {
      "text/html": [
       "<table>\n",
       "<caption>A tibble: 1 × 1</caption>\n",
       "<thead>\n",
       "\t<tr><th scope=col>delay</th></tr>\n",
       "\t<tr><th scope=col>&lt;dbl&gt;</th></tr>\n",
       "</thead>\n",
       "<tbody>\n",
       "\t<tr><td>12.63907</td></tr>\n",
       "</tbody>\n",
       "</table>\n"
      ],
      "text/latex": [
       "A tibble: 1 × 1\n",
       "\\begin{tabular}{r|l}\n",
       " delay\\\\\n",
       " <dbl>\\\\\n",
       "\\hline\n",
       "\t 12.63907\\\\\n",
       "\\end{tabular}\n"
      ],
      "text/markdown": [
       "\n",
       "A tibble: 1 × 1\n",
       "\n",
       "| delay &lt;dbl&gt; |\n",
       "|---|\n",
       "| 12.63907 |\n",
       "\n"
      ],
      "text/plain": [
       "  delay   \n",
       "1 12.63907"
      ]
     },
     "metadata": {},
     "output_type": "display_data"
    }
   ],
   "source": [
    "# 一个简单用法\n",
    "summarise(flights, delay = mean(dep_delay, na.rm = T))\n",
    "# 对dep_delay求均值"
   ]
  },
  {
   "cell_type": "markdown",
   "metadata": {},
   "source": [
    "summarize()如果不与group_by()一起使用，也就没什么用；\n",
    "group_by()起的作用就是对数据集分组"
   ]
  },
  {
   "cell_type": "code",
   "execution_count": 77,
   "metadata": {},
   "outputs": [
    {
     "data": {
      "text/html": [
       "<table>\n",
       "<caption>A grouped_df: 6 × 4</caption>\n",
       "<thead>\n",
       "\t<tr><th scope=col>year</th><th scope=col>month</th><th scope=col>day</th><th scope=col>delay</th></tr>\n",
       "\t<tr><th scope=col>&lt;int&gt;</th><th scope=col>&lt;int&gt;</th><th scope=col>&lt;int&gt;</th><th scope=col>&lt;dbl&gt;</th></tr>\n",
       "</thead>\n",
       "<tbody>\n",
       "\t<tr><td>2013</td><td>1</td><td>1</td><td>11.548926</td></tr>\n",
       "\t<tr><td>2013</td><td>1</td><td>2</td><td>13.858824</td></tr>\n",
       "\t<tr><td>2013</td><td>1</td><td>3</td><td>10.987832</td></tr>\n",
       "\t<tr><td>2013</td><td>1</td><td>4</td><td> 8.951595</td></tr>\n",
       "\t<tr><td>2013</td><td>1</td><td>5</td><td> 5.732218</td></tr>\n",
       "\t<tr><td>2013</td><td>1</td><td>6</td><td> 7.148014</td></tr>\n",
       "</tbody>\n",
       "</table>\n"
      ],
      "text/latex": [
       "A grouped_df: 6 × 4\n",
       "\\begin{tabular}{r|llll}\n",
       " year & month & day & delay\\\\\n",
       " <int> & <int> & <int> & <dbl>\\\\\n",
       "\\hline\n",
       "\t 2013 & 1 & 1 & 11.548926\\\\\n",
       "\t 2013 & 1 & 2 & 13.858824\\\\\n",
       "\t 2013 & 1 & 3 & 10.987832\\\\\n",
       "\t 2013 & 1 & 4 &  8.951595\\\\\n",
       "\t 2013 & 1 & 5 &  5.732218\\\\\n",
       "\t 2013 & 1 & 6 &  7.148014\\\\\n",
       "\\end{tabular}\n"
      ],
      "text/markdown": [
       "\n",
       "A grouped_df: 6 × 4\n",
       "\n",
       "| year &lt;int&gt; | month &lt;int&gt; | day &lt;int&gt; | delay &lt;dbl&gt; |\n",
       "|---|---|---|---|\n",
       "| 2013 | 1 | 1 | 11.548926 |\n",
       "| 2013 | 1 | 2 | 13.858824 |\n",
       "| 2013 | 1 | 3 | 10.987832 |\n",
       "| 2013 | 1 | 4 |  8.951595 |\n",
       "| 2013 | 1 | 5 |  5.732218 |\n",
       "| 2013 | 1 | 6 |  7.148014 |\n",
       "\n"
      ],
      "text/plain": [
       "  year month day delay    \n",
       "1 2013 1     1   11.548926\n",
       "2 2013 1     2   13.858824\n",
       "3 2013 1     3   10.987832\n",
       "4 2013 1     4    8.951595\n",
       "5 2013 1     5    5.732218\n",
       "6 2013 1     6    7.148014"
      ]
     },
     "metadata": {},
     "output_type": "display_data"
    }
   ],
   "source": [
    "by_day <- group_by(flights, year, month, day)\n",
    "head(summarise(by_day,delay = mean(dep_delay, na.rm = T)))\n",
    "# 这即是获得每日平均延误时间"
   ]
  },
  {
   "cell_type": "markdown",
   "metadata": {},
   "source": [
    "group_by()和summarize()的组合构成了使用dplyr包时最常用的操作之一：分组摘要"
   ]
  },
  {
   "cell_type": "markdown",
   "metadata": {},
   "source": [
    "### 管道%>%\n",
    "\n",
    "管道是一个非常有用的功能，如果懂Linux的管道\"|\"，理解起来就非常容易了，不知道也没关系，也不难理解\n",
    "\n",
    "下面看作者的例子"
   ]
  },
  {
   "cell_type": "code",
   "execution_count": 78,
   "metadata": {},
   "outputs": [
    {
     "name": "stderr",
     "output_type": "stream",
     "text": [
      "`geom_smooth()` using method = 'loess' and formula 'y ~ x'\n"
     ]
    },
    {
     "data": {
      "image/png": "[encoded data removed]",
      "text/plain": [
       "plot without title"
      ]
     },
     "metadata": {},
     "output_type": "display_data"
    }
   ],
   "source": [
    "# 假设我们想要研究每个目的地的距离和平均延误时间的关系\n",
    "\n",
    "# 看以下代码\n",
    "\n",
    "by_dest <- group_by(flights, dest)# 按dest分组\n",
    "delay <- summarise(by_dest, \n",
    "                  count = n(),\n",
    "                   # 计数\n",
    "                  dist = mean(distance, na.rm = T),\n",
    "                   # 去NA计算均值\n",
    "                  delay = mean(arr_delay, na.rm = T),\n",
    "                  )\n",
    "delay <- filter(delay, count > 20, dest !=\"HNL\")\n",
    "# \n",
    "\n",
    "ggplot(data = delay, mapping = aes(dist, delay)) + \n",
    "geom_point(aes(size = count),alpha = 1/3) + \n",
    "geom_smooth(se = F)"
   ]
  },
  {
   "cell_type": "code",
   "execution_count": 79,
   "metadata": {},
   "outputs": [
    {
     "name": "stderr",
     "output_type": "stream",
     "text": [
      "`geom_smooth()` using method = 'loess' and formula 'y ~ x'\n"
     ]
    },
    {
     "data": {
      "image/png": "[encoded data removed]",
      "text/plain": [
       "plot without title"
      ]
     },
     "metadata": {},
     "output_type": "display_data"
    }
   ],
   "source": [
    "# 上面是没有使用管道的代码，下面看怎么使用管道实现同样操作\n",
    "delay <- flights %>% group_by(dest) %>% \n",
    "summarize(count = n(), \n",
    "          dist = mean(distance, na.rm = T),\n",
    "          delay = mean(arr_delay, na.rm = T)) %>% filter(count > 20, dest != \"HNL\")\n",
    "ggplot(data = delay,aes(dist, delay)) + geom_point(aes(size = count),alpha = 1/3) + geom_smooth(se = F)"
   ]
  },
  {
   "cell_type": "markdown",
   "metadata": {},
   "source": [
    "使用管道的好处就是可读性提高，管道就是将上一步的输出作为下一步的输入进行处理，给人一种连贯性\n",
    "\n",
    "na.rm = T就是删除缺失值"
   ]
  },
  {
   "cell_type": "code",
   "execution_count": 80,
   "metadata": {},
   "outputs": [
    {
     "data": {
      "text/html": [
       "<table>\n",
       "<caption>A tibble: 6 × 19</caption>\n",
       "<thead>\n",
       "\t<tr><th scope=col>year</th><th scope=col>month</th><th scope=col>day</th><th scope=col>dep_time</th><th scope=col>sched_dep_time</th><th scope=col>dep_delay</th><th scope=col>arr_time</th><th scope=col>sched_arr_time</th><th scope=col>arr_delay</th><th scope=col>carrier</th><th scope=col>flight</th><th scope=col>tailnum</th><th scope=col>origin</th><th scope=col>dest</th><th scope=col>air_time</th><th scope=col>distance</th><th scope=col>hour</th><th scope=col>minute</th><th scope=col>time_hour</th></tr>\n",
       "\t<tr><th scope=col>&lt;int&gt;</th><th scope=col>&lt;int&gt;</th><th scope=col>&lt;int&gt;</th><th scope=col>&lt;int&gt;</th><th scope=col>&lt;int&gt;</th><th scope=col>&lt;dbl&gt;</th><th scope=col>&lt;int&gt;</th><th scope=col>&lt;int&gt;</th><th scope=col>&lt;dbl&gt;</th><th scope=col>&lt;chr&gt;</th><th scope=col>&lt;int&gt;</th><th scope=col>&lt;chr&gt;</th><th scope=col>&lt;chr&gt;</th><th scope=col>&lt;chr&gt;</th><th scope=col>&lt;dbl&gt;</th><th scope=col>&lt;dbl&gt;</th><th scope=col>&lt;dbl&gt;</th><th scope=col>&lt;dbl&gt;</th><th scope=col>&lt;dttm&gt;</th></tr>\n",
       "</thead>\n",
       "<tbody>\n",
       "\t<tr><td>2013</td><td>1</td><td>1</td><td>517</td><td>515</td><td> 2</td><td> 830</td><td> 819</td><td> 11</td><td>UA</td><td>1545</td><td>N14228</td><td>EWR</td><td>IAH</td><td>227</td><td>1400</td><td>5</td><td>15</td><td>2013-01-01 05:00:00</td></tr>\n",
       "\t<tr><td>2013</td><td>1</td><td>1</td><td>533</td><td>529</td><td> 4</td><td> 850</td><td> 830</td><td> 20</td><td>UA</td><td>1714</td><td>N24211</td><td>LGA</td><td>IAH</td><td>227</td><td>1416</td><td>5</td><td>29</td><td>2013-01-01 05:00:00</td></tr>\n",
       "\t<tr><td>2013</td><td>1</td><td>1</td><td>542</td><td>540</td><td> 2</td><td> 923</td><td> 850</td><td> 33</td><td>AA</td><td>1141</td><td>N619AA</td><td>JFK</td><td>MIA</td><td>160</td><td>1089</td><td>5</td><td>40</td><td>2013-01-01 05:00:00</td></tr>\n",
       "\t<tr><td>2013</td><td>1</td><td>1</td><td>544</td><td>545</td><td>-1</td><td>1004</td><td>1022</td><td>-18</td><td>B6</td><td> 725</td><td>N804JB</td><td>JFK</td><td>BQN</td><td>183</td><td>1576</td><td>5</td><td>45</td><td>2013-01-01 05:00:00</td></tr>\n",
       "\t<tr><td>2013</td><td>1</td><td>1</td><td>554</td><td>600</td><td>-6</td><td> 812</td><td> 837</td><td>-25</td><td>DL</td><td> 461</td><td>N668DN</td><td>LGA</td><td>ATL</td><td>116</td><td> 762</td><td>6</td><td> 0</td><td>2013-01-01 06:00:00</td></tr>\n",
       "\t<tr><td>2013</td><td>1</td><td>1</td><td>554</td><td>558</td><td>-4</td><td> 740</td><td> 728</td><td> 12</td><td>UA</td><td>1696</td><td>N39463</td><td>EWR</td><td>ORD</td><td>150</td><td> 719</td><td>5</td><td>58</td><td>2013-01-01 05:00:00</td></tr>\n",
       "</tbody>\n",
       "</table>\n"
      ],
      "text/latex": [
       "A tibble: 6 × 19\n",
       "\\begin{tabular}{r|lllllllllllllllllll}\n",
       " year & month & day & dep\\_time & sched\\_dep\\_time & dep\\_delay & arr\\_time & sched\\_arr\\_time & arr\\_delay & carrier & flight & tailnum & origin & dest & air\\_time & distance & hour & minute & time\\_hour\\\\\n",
       " <int> & <int> & <int> & <int> & <int> & <dbl> & <int> & <int> & <dbl> & <chr> & <int> & <chr> & <chr> & <chr> & <dbl> & <dbl> & <dbl> & <dbl> & <dttm>\\\\\n",
       "\\hline\n",
       "\t 2013 & 1 & 1 & 517 & 515 &  2 &  830 &  819 &  11 & UA & 1545 & N14228 & EWR & IAH & 227 & 1400 & 5 & 15 & 2013-01-01 05:00:00\\\\\n",
       "\t 2013 & 1 & 1 & 533 & 529 &  4 &  850 &  830 &  20 & UA & 1714 & N24211 & LGA & IAH & 227 & 1416 & 5 & 29 & 2013-01-01 05:00:00\\\\\n",
       "\t 2013 & 1 & 1 & 542 & 540 &  2 &  923 &  850 &  33 & AA & 1141 & N619AA & JFK & MIA & 160 & 1089 & 5 & 40 & 2013-01-01 05:00:00\\\\\n",
       "\t 2013 & 1 & 1 & 544 & 545 & -1 & 1004 & 1022 & -18 & B6 &  725 & N804JB & JFK & BQN & 183 & 1576 & 5 & 45 & 2013-01-01 05:00:00\\\\\n",
       "\t 2013 & 1 & 1 & 554 & 600 & -6 &  812 &  837 & -25 & DL &  461 & N668DN & LGA & ATL & 116 &  762 & 6 &  0 & 2013-01-01 06:00:00\\\\\n",
       "\t 2013 & 1 & 1 & 554 & 558 & -4 &  740 &  728 &  12 & UA & 1696 & N39463 & EWR & ORD & 150 &  719 & 5 & 58 & 2013-01-01 05:00:00\\\\\n",
       "\\end{tabular}\n"
      ],
      "text/markdown": [
       "\n",
       "A tibble: 6 × 19\n",
       "\n",
       "| year &lt;int&gt; | month &lt;int&gt; | day &lt;int&gt; | dep_time &lt;int&gt; | sched_dep_time &lt;int&gt; | dep_delay &lt;dbl&gt; | arr_time &lt;int&gt; | sched_arr_time &lt;int&gt; | arr_delay &lt;dbl&gt; | carrier &lt;chr&gt; | flight &lt;int&gt; | tailnum &lt;chr&gt; | origin &lt;chr&gt; | dest &lt;chr&gt; | air_time &lt;dbl&gt; | distance &lt;dbl&gt; | hour &lt;dbl&gt; | minute &lt;dbl&gt; | time_hour &lt;dttm&gt; |\n",
       "|---|---|---|---|---|---|---|---|---|---|---|---|---|---|---|---|---|---|---|\n",
       "| 2013 | 1 | 1 | 517 | 515 |  2 |  830 |  819 |  11 | UA | 1545 | N14228 | EWR | IAH | 227 | 1400 | 5 | 15 | 2013-01-01 05:00:00 |\n",
       "| 2013 | 1 | 1 | 533 | 529 |  4 |  850 |  830 |  20 | UA | 1714 | N24211 | LGA | IAH | 227 | 1416 | 5 | 29 | 2013-01-01 05:00:00 |\n",
       "| 2013 | 1 | 1 | 542 | 540 |  2 |  923 |  850 |  33 | AA | 1141 | N619AA | JFK | MIA | 160 | 1089 | 5 | 40 | 2013-01-01 05:00:00 |\n",
       "| 2013 | 1 | 1 | 544 | 545 | -1 | 1004 | 1022 | -18 | B6 |  725 | N804JB | JFK | BQN | 183 | 1576 | 5 | 45 | 2013-01-01 05:00:00 |\n",
       "| 2013 | 1 | 1 | 554 | 600 | -6 |  812 |  837 | -25 | DL |  461 | N668DN | LGA | ATL | 116 |  762 | 6 |  0 | 2013-01-01 06:00:00 |\n",
       "| 2013 | 1 | 1 | 554 | 558 | -4 |  740 |  728 |  12 | UA | 1696 | N39463 | EWR | ORD | 150 |  719 | 5 | 58 | 2013-01-01 05:00:00 |\n",
       "\n"
      ],
      "text/plain": [
       "  year month day dep_time sched_dep_time dep_delay arr_time sched_arr_time\n",
       "1 2013 1     1   517      515             2         830      819          \n",
       "2 2013 1     1   533      529             4         850      830          \n",
       "3 2013 1     1   542      540             2         923      850          \n",
       "4 2013 1     1   544      545            -1        1004     1022          \n",
       "5 2013 1     1   554      600            -6         812      837          \n",
       "6 2013 1     1   554      558            -4         740      728          \n",
       "  arr_delay carrier flight tailnum origin dest air_time distance hour minute\n",
       "1  11       UA      1545   N14228  EWR    IAH  227      1400     5    15    \n",
       "2  20       UA      1714   N24211  LGA    IAH  227      1416     5    29    \n",
       "3  33       AA      1141   N619AA  JFK    MIA  160      1089     5    40    \n",
       "4 -18       B6       725   N804JB  JFK    BQN  183      1576     5    45    \n",
       "5 -25       DL       461   N668DN  LGA    ATL  116       762     6     0    \n",
       "6  12       UA      1696   N39463  EWR    ORD  150       719     5    58    \n",
       "  time_hour          \n",
       "1 2013-01-01 05:00:00\n",
       "2 2013-01-01 05:00:00\n",
       "3 2013-01-01 05:00:00\n",
       "4 2013-01-01 05:00:00\n",
       "5 2013-01-01 06:00:00\n",
       "6 2013-01-01 05:00:00"
      ]
     },
     "metadata": {},
     "output_type": "display_data"
    }
   ],
   "source": [
    "not_cancelled <- flights %>% filter(!is.na(dep_delay), !is.na(arr_delay))\n",
    "# filter()筛选函数，！表示非，is.na()判断是否是NA\n",
    "head(not_cancelled)\n",
    "\n",
    "# not_cancelled数据集后面会多次用到"
   ]
  },
  {
   "cell_type": "code",
   "execution_count": 81,
   "metadata": {},
   "outputs": [
    {
     "data": {
      "text/html": [
       "<table>\n",
       "<caption>A grouped_df: 6 × 4</caption>\n",
       "<thead>\n",
       "\t<tr><th scope=col>year</th><th scope=col>month</th><th scope=col>day</th><th scope=col>mean</th></tr>\n",
       "\t<tr><th scope=col>&lt;int&gt;</th><th scope=col>&lt;int&gt;</th><th scope=col>&lt;int&gt;</th><th scope=col>&lt;dbl&gt;</th></tr>\n",
       "</thead>\n",
       "<tbody>\n",
       "\t<tr><td>2013</td><td>1</td><td>1</td><td>11.435620</td></tr>\n",
       "\t<tr><td>2013</td><td>1</td><td>2</td><td>13.677802</td></tr>\n",
       "\t<tr><td>2013</td><td>1</td><td>3</td><td>10.907778</td></tr>\n",
       "\t<tr><td>2013</td><td>1</td><td>4</td><td> 8.965859</td></tr>\n",
       "\t<tr><td>2013</td><td>1</td><td>5</td><td> 5.732218</td></tr>\n",
       "\t<tr><td>2013</td><td>1</td><td>6</td><td> 7.145959</td></tr>\n",
       "</tbody>\n",
       "</table>\n"
      ],
      "text/latex": [
       "A grouped_df: 6 × 4\n",
       "\\begin{tabular}{r|llll}\n",
       " year & month & day & mean\\\\\n",
       " <int> & <int> & <int> & <dbl>\\\\\n",
       "\\hline\n",
       "\t 2013 & 1 & 1 & 11.435620\\\\\n",
       "\t 2013 & 1 & 2 & 13.677802\\\\\n",
       "\t 2013 & 1 & 3 & 10.907778\\\\\n",
       "\t 2013 & 1 & 4 &  8.965859\\\\\n",
       "\t 2013 & 1 & 5 &  5.732218\\\\\n",
       "\t 2013 & 1 & 6 &  7.145959\\\\\n",
       "\\end{tabular}\n"
      ],
      "text/markdown": [
       "\n",
       "A grouped_df: 6 × 4\n",
       "\n",
       "| year &lt;int&gt; | month &lt;int&gt; | day &lt;int&gt; | mean &lt;dbl&gt; |\n",
       "|---|---|---|---|\n",
       "| 2013 | 1 | 1 | 11.435620 |\n",
       "| 2013 | 1 | 2 | 13.677802 |\n",
       "| 2013 | 1 | 3 | 10.907778 |\n",
       "| 2013 | 1 | 4 |  8.965859 |\n",
       "| 2013 | 1 | 5 |  5.732218 |\n",
       "| 2013 | 1 | 6 |  7.145959 |\n",
       "\n"
      ],
      "text/plain": [
       "  year month day mean     \n",
       "1 2013 1     1   11.435620\n",
       "2 2013 1     2   13.677802\n",
       "3 2013 1     3   10.907778\n",
       "4 2013 1     4    8.965859\n",
       "5 2013 1     5    5.732218\n",
       "6 2013 1     6    7.145959"
      ]
     },
     "metadata": {},
     "output_type": "display_data"
    }
   ],
   "source": [
    "head(not_cancelled %>% group_by(year, month, day) %>% summarise(mean = mean(dep_delay)))"
   ]
  },
  {
   "cell_type": "code",
   "execution_count": 82,
   "metadata": {},
   "outputs": [
    {
     "data": {
      "image/png": "[encoded data removed]",
      "text/plain": [
       "plot without title"
      ]
     },
     "metadata": {},
     "output_type": "display_data"
    }
   ],
   "source": [
    "### 计数\n",
    "# 两个计数函数n()和sum(!is_na())\n",
    "delays <- not_cancelled %>% group_by(tailnum) %>% summarise(delay = mean(arr_delay))\n",
    "# 按尾号分组，对arr_delay求均值并计数\n",
    "ggplot(data = delays, mapping = aes(x = delay)) + geom_freqpoly(binwidth = 10)"
   ]
  },
  {
   "cell_type": "code",
   "execution_count": 83,
   "metadata": {},
   "outputs": [
    {
     "data": {
      "image/png": "[encoded data removed]",
      "text/plain": [
       "plot without title"
      ]
     },
     "metadata": {},
     "output_type": "display_data"
    }
   ],
   "source": [
    "# 绘制航班数量和平均延误时间的散点图\n",
    "delays <- not_cancelled %>% group_by(tailnum) %>% \n",
    "summarise(delay = mean(arr_delay, na.rm = T),n = n())\n",
    "\n",
    "ggplot(data = delays, mapping = aes(n,delay)) + geom_point(alpha = 1/10)"
   ]
  },
  {
   "cell_type": "code",
   "execution_count": 84,
   "metadata": {},
   "outputs": [
    {
     "data": {
      "image/png": "[encoded data removed]",
      "text/plain": [
       "plot without title"
      ]
     },
     "metadata": {},
     "output_type": "display_data"
    }
   ],
   "source": [
    "delays %>% filter(n > 25) %>% ggplot(aes(n,delay)) + geom_point(alpha = 1/10)"
   ]
  },
  {
   "cell_type": "code",
   "execution_count": 85,
   "metadata": {},
   "outputs": [
    {
     "data": {
      "text/html": [
       "<table>\n",
       "<caption>A data.frame: 24 × 5</caption>\n",
       "<thead>\n",
       "\t<tr><th scope=col>file</th><th scope=col>class</th><th scope=col>nobs</th><th scope=col>nvar</th><th scope=col>title</th></tr>\n",
       "\t<tr><th scope=col>&lt;chr&gt;</th><th scope=col>&lt;chr&gt;</th><th scope=col>&lt;dbl&gt;</th><th scope=col>&lt;dbl&gt;</th><th scope=col>&lt;chr&gt;</th></tr>\n",
       "</thead>\n",
       "<tbody>\n",
       "\t<tr><td>AllstarFull        </td><td>data.frame</td><td>  4993</td><td> 8</td><td>AllstarFull table        </td></tr>\n",
       "\t<tr><td>Appearances        </td><td>data.frame</td><td> 99466</td><td>21</td><td>Appearances table        </td></tr>\n",
       "\t<tr><td>AwardsManagers     </td><td>data.frame</td><td>   171</td><td> 6</td><td>AwardsManagers table     </td></tr>\n",
       "\t<tr><td>AwardsPlayers      </td><td>data.frame</td><td>  6026</td><td> 6</td><td>AwardsPlayers table      </td></tr>\n",
       "\t<tr><td>AwardsShareManagers</td><td>data.frame</td><td>   401</td><td> 7</td><td>AwardsShareManagers table</td></tr>\n",
       "\t<tr><td>AwardsSharePlayers </td><td>data.frame</td><td>  6705</td><td> 7</td><td>AwardsSharePlayers table </td></tr>\n",
       "\t<tr><td>Batting            </td><td>data.frame</td><td> 99846</td><td>22</td><td>Batting table            </td></tr>\n",
       "\t<tr><td>BattingPost        </td><td>data.frame</td><td> 11294</td><td>22</td><td>BattingPost table        </td></tr>\n",
       "\t<tr><td>CollegePlaying     </td><td>data.frame</td><td> 17350</td><td> 3</td><td>CollegePlaying table     </td></tr>\n",
       "\t<tr><td>Fielding           </td><td>data.frame</td><td>167938</td><td>18</td><td>Fielding table           </td></tr>\n",
       "\t<tr><td>FieldingOF         </td><td>data.frame</td><td> 12028</td><td> 6</td><td>FieldingOF table         </td></tr>\n",
       "\t<tr><td>FieldingPost       </td><td>data.frame</td><td> 11924</td><td>17</td><td>FieldingPost data        </td></tr>\n",
       "\t<tr><td>HallOfFame         </td><td>data.frame</td><td>  4088</td><td> 9</td><td>Hall of Fame Voting Data </td></tr>\n",
       "\t<tr><td>Managers           </td><td>data.frame</td><td>  3370</td><td>10</td><td>Managers table           </td></tr>\n",
       "\t<tr><td>ManagersHalf       </td><td>data.frame</td><td>    93</td><td>10</td><td>ManagersHalf table       </td></tr>\n",
       "\t<tr><td>Master             </td><td>data.frame</td><td> 18589</td><td>26</td><td>Master table             </td></tr>\n",
       "\t<tr><td>Pitching           </td><td>data.frame</td><td> 43330</td><td>30</td><td>Pitching table           </td></tr>\n",
       "\t<tr><td>PitchingPost       </td><td>data.frame</td><td>  4945</td><td>30</td><td>PitchingPost table       </td></tr>\n",
       "\t<tr><td>Salaries           </td><td>data.frame</td><td> 24758</td><td> 5</td><td>Salaries table           </td></tr>\n",
       "\t<tr><td>Schools            </td><td>data.frame</td><td>  1207</td><td> 5</td><td>Schools table            </td></tr>\n",
       "\t<tr><td>SeriesPost         </td><td>data.frame</td><td>   298</td><td> 9</td><td>SeriesPost table         </td></tr>\n",
       "\t<tr><td>Teams              </td><td>data.frame</td><td>  2775</td><td>48</td><td>Teams table              </td></tr>\n",
       "\t<tr><td>TeamsFranchises    </td><td>data.frame</td><td>   120</td><td> 4</td><td>TeamFranchises table     </td></tr>\n",
       "\t<tr><td>TeamsHalf          </td><td>data.frame</td><td>    52</td><td>10</td><td>TeamsHalf table          </td></tr>\n",
       "</tbody>\n",
       "</table>\n"
      ],
      "text/latex": [
       "A data.frame: 24 × 5\n",
       "\\begin{tabular}{r|lllll}\n",
       " file & class & nobs & nvar & title\\\\\n",
       " <chr> & <chr> & <dbl> & <dbl> & <chr>\\\\\n",
       "\\hline\n",
       "\t AllstarFull         & data.frame &   4993 &  8 & AllstarFull table        \\\\\n",
       "\t Appearances         & data.frame &  99466 & 21 & Appearances table        \\\\\n",
       "\t AwardsManagers      & data.frame &    171 &  6 & AwardsManagers table     \\\\\n",
       "\t AwardsPlayers       & data.frame &   6026 &  6 & AwardsPlayers table      \\\\\n",
       "\t AwardsShareManagers & data.frame &    401 &  7 & AwardsShareManagers table\\\\\n",
       "\t AwardsSharePlayers  & data.frame &   6705 &  7 & AwardsSharePlayers table \\\\\n",
       "\t Batting             & data.frame &  99846 & 22 & Batting table            \\\\\n",
       "\t BattingPost         & data.frame &  11294 & 22 & BattingPost table        \\\\\n",
       "\t CollegePlaying      & data.frame &  17350 &  3 & CollegePlaying table     \\\\\n",
       "\t Fielding            & data.frame & 167938 & 18 & Fielding table           \\\\\n",
       "\t FieldingOF          & data.frame &  12028 &  6 & FieldingOF table         \\\\\n",
       "\t FieldingPost        & data.frame &  11924 & 17 & FieldingPost data        \\\\\n",
       "\t HallOfFame          & data.frame &   4088 &  9 & Hall of Fame Voting Data \\\\\n",
       "\t Managers            & data.frame &   3370 & 10 & Managers table           \\\\\n",
       "\t ManagersHalf        & data.frame &     93 & 10 & ManagersHalf table       \\\\\n",
       "\t Master              & data.frame &  18589 & 26 & Master table             \\\\\n",
       "\t Pitching            & data.frame &  43330 & 30 & Pitching table           \\\\\n",
       "\t PitchingPost        & data.frame &   4945 & 30 & PitchingPost table       \\\\\n",
       "\t Salaries            & data.frame &  24758 &  5 & Salaries table           \\\\\n",
       "\t Schools             & data.frame &   1207 &  5 & Schools table            \\\\\n",
       "\t SeriesPost          & data.frame &    298 &  9 & SeriesPost table         \\\\\n",
       "\t Teams               & data.frame &   2775 & 48 & Teams table              \\\\\n",
       "\t TeamsFranchises     & data.frame &    120 &  4 & TeamFranchises table     \\\\\n",
       "\t TeamsHalf           & data.frame &     52 & 10 & TeamsHalf table          \\\\\n",
       "\\end{tabular}\n"
      ],
      "text/markdown": [
       "\n",
       "A data.frame: 24 × 5\n",
       "\n",
       "| file &lt;chr&gt; | class &lt;chr&gt; | nobs &lt;dbl&gt; | nvar &lt;dbl&gt; | title &lt;chr&gt; |\n",
       "|---|---|---|---|---|\n",
       "| AllstarFull         | data.frame |   4993 |  8 | AllstarFull table         |\n",
       "| Appearances         | data.frame |  99466 | 21 | Appearances table         |\n",
       "| AwardsManagers      | data.frame |    171 |  6 | AwardsManagers table      |\n",
       "| AwardsPlayers       | data.frame |   6026 |  6 | AwardsPlayers table       |\n",
       "| AwardsShareManagers | data.frame |    401 |  7 | AwardsShareManagers table |\n",
       "| AwardsSharePlayers  | data.frame |   6705 |  7 | AwardsSharePlayers table  |\n",
       "| Batting             | data.frame |  99846 | 22 | Batting table             |\n",
       "| BattingPost         | data.frame |  11294 | 22 | BattingPost table         |\n",
       "| CollegePlaying      | data.frame |  17350 |  3 | CollegePlaying table      |\n",
       "| Fielding            | data.frame | 167938 | 18 | Fielding table            |\n",
       "| FieldingOF          | data.frame |  12028 |  6 | FieldingOF table          |\n",
       "| FieldingPost        | data.frame |  11924 | 17 | FieldingPost data         |\n",
       "| HallOfFame          | data.frame |   4088 |  9 | Hall of Fame Voting Data  |\n",
       "| Managers            | data.frame |   3370 | 10 | Managers table            |\n",
       "| ManagersHalf        | data.frame |     93 | 10 | ManagersHalf table        |\n",
       "| Master              | data.frame |  18589 | 26 | Master table              |\n",
       "| Pitching            | data.frame |  43330 | 30 | Pitching table            |\n",
       "| PitchingPost        | data.frame |   4945 | 30 | PitchingPost table        |\n",
       "| Salaries            | data.frame |  24758 |  5 | Salaries table            |\n",
       "| Schools             | data.frame |   1207 |  5 | Schools table             |\n",
       "| SeriesPost          | data.frame |    298 |  9 | SeriesPost table          |\n",
       "| Teams               | data.frame |   2775 | 48 | Teams table               |\n",
       "| TeamsFranchises     | data.frame |    120 |  4 | TeamFranchises table      |\n",
       "| TeamsHalf           | data.frame |     52 | 10 | TeamsHalf table           |\n",
       "\n"
      ],
      "text/plain": [
       "   file                class      nobs   nvar title                    \n",
       "1  AllstarFull         data.frame   4993  8   AllstarFull table        \n",
       "2  Appearances         data.frame  99466 21   Appearances table        \n",
       "3  AwardsManagers      data.frame    171  6   AwardsManagers table     \n",
       "4  AwardsPlayers       data.frame   6026  6   AwardsPlayers table      \n",
       "5  AwardsShareManagers data.frame    401  7   AwardsShareManagers table\n",
       "6  AwardsSharePlayers  data.frame   6705  7   AwardsSharePlayers table \n",
       "7  Batting             data.frame  99846 22   Batting table            \n",
       "8  BattingPost         data.frame  11294 22   BattingPost table        \n",
       "9  CollegePlaying      data.frame  17350  3   CollegePlaying table     \n",
       "10 Fielding            data.frame 167938 18   Fielding table           \n",
       "11 FieldingOF          data.frame  12028  6   FieldingOF table         \n",
       "12 FieldingPost        data.frame  11924 17   FieldingPost data        \n",
       "13 HallOfFame          data.frame   4088  9   Hall of Fame Voting Data \n",
       "14 Managers            data.frame   3370 10   Managers table           \n",
       "15 ManagersHalf        data.frame     93 10   ManagersHalf table       \n",
       "16 Master              data.frame  18589 26   Master table             \n",
       "17 Pitching            data.frame  43330 30   Pitching table           \n",
       "18 PitchingPost        data.frame   4945 30   PitchingPost table       \n",
       "19 Salaries            data.frame  24758  5   Salaries table           \n",
       "20 Schools             data.frame   1207  5   Schools table            \n",
       "21 SeriesPost          data.frame    298  9   SeriesPost table         \n",
       "22 Teams               data.frame   2775 48   Teams table              \n",
       "23 TeamsFranchises     data.frame    120  4   TeamFranchises table     \n",
       "24 TeamsHalf           data.frame     52 10   TeamsHalf table          "
      ]
     },
     "metadata": {},
     "output_type": "display_data"
    },
    {
     "data": {
      "text/html": [
       "<table>\n",
       "<caption>A tibble: 6 × 22</caption>\n",
       "<thead>\n",
       "\t<tr><th scope=col>playerID</th><th scope=col>yearID</th><th scope=col>stint</th><th scope=col>teamID</th><th scope=col>lgID</th><th scope=col>G</th><th scope=col>AB</th><th scope=col>R</th><th scope=col>H</th><th scope=col>X2B</th><th scope=col>⋯</th><th scope=col>RBI</th><th scope=col>SB</th><th scope=col>CS</th><th scope=col>BB</th><th scope=col>SO</th><th scope=col>IBB</th><th scope=col>HBP</th><th scope=col>SH</th><th scope=col>SF</th><th scope=col>GIDP</th></tr>\n",
       "\t<tr><th scope=col>&lt;chr&gt;</th><th scope=col>&lt;int&gt;</th><th scope=col>&lt;int&gt;</th><th scope=col>&lt;fct&gt;</th><th scope=col>&lt;fct&gt;</th><th scope=col>&lt;int&gt;</th><th scope=col>&lt;int&gt;</th><th scope=col>&lt;int&gt;</th><th scope=col>&lt;int&gt;</th><th scope=col>&lt;int&gt;</th><th scope=col>⋯</th><th scope=col>&lt;int&gt;</th><th scope=col>&lt;int&gt;</th><th scope=col>&lt;int&gt;</th><th scope=col>&lt;int&gt;</th><th scope=col>&lt;int&gt;</th><th scope=col>&lt;int&gt;</th><th scope=col>&lt;int&gt;</th><th scope=col>&lt;int&gt;</th><th scope=col>&lt;int&gt;</th><th scope=col>&lt;int&gt;</th></tr>\n",
       "</thead>\n",
       "<tbody>\n",
       "\t<tr><td>abercda01</td><td>1871</td><td>1</td><td>TRO</td><td>NA</td><td> 1</td><td>  4</td><td> 0</td><td> 0</td><td> 0</td><td>⋯</td><td> 0</td><td>0</td><td>0</td><td>0</td><td>0</td><td>NA</td><td>NA</td><td>NA</td><td>NA</td><td>0</td></tr>\n",
       "\t<tr><td>addybo01 </td><td>1871</td><td>1</td><td>RC1</td><td>NA</td><td>25</td><td>118</td><td>30</td><td>32</td><td> 6</td><td>⋯</td><td>13</td><td>8</td><td>1</td><td>4</td><td>0</td><td>NA</td><td>NA</td><td>NA</td><td>NA</td><td>0</td></tr>\n",
       "\t<tr><td>allisar01</td><td>1871</td><td>1</td><td>CL1</td><td>NA</td><td>29</td><td>137</td><td>28</td><td>40</td><td> 4</td><td>⋯</td><td>19</td><td>3</td><td>1</td><td>2</td><td>5</td><td>NA</td><td>NA</td><td>NA</td><td>NA</td><td>1</td></tr>\n",
       "\t<tr><td>allisdo01</td><td>1871</td><td>1</td><td>WS3</td><td>NA</td><td>27</td><td>133</td><td>28</td><td>44</td><td>10</td><td>⋯</td><td>27</td><td>1</td><td>1</td><td>0</td><td>2</td><td>NA</td><td>NA</td><td>NA</td><td>NA</td><td>0</td></tr>\n",
       "\t<tr><td>ansonca01</td><td>1871</td><td>1</td><td>RC1</td><td>NA</td><td>25</td><td>120</td><td>29</td><td>39</td><td>11</td><td>⋯</td><td>16</td><td>6</td><td>2</td><td>2</td><td>1</td><td>NA</td><td>NA</td><td>NA</td><td>NA</td><td>0</td></tr>\n",
       "\t<tr><td>armstbo01</td><td>1871</td><td>1</td><td>FW1</td><td>NA</td><td>12</td><td> 49</td><td> 9</td><td>11</td><td> 2</td><td>⋯</td><td> 5</td><td>0</td><td>1</td><td>0</td><td>1</td><td>NA</td><td>NA</td><td>NA</td><td>NA</td><td>0</td></tr>\n",
       "</tbody>\n",
       "</table>\n"
      ],
      "text/latex": [
       "A tibble: 6 × 22\n",
       "\\begin{tabular}{r|llllllllllllllllllllll}\n",
       " playerID & yearID & stint & teamID & lgID & G & AB & R & H & X2B & X3B & HR & RBI & SB & CS & BB & SO & IBB & HBP & SH & SF & GIDP\\\\\n",
       " <chr> & <int> & <int> & <fct> & <fct> & <int> & <int> & <int> & <int> & <int> & <int> & <int> & <int> & <int> & <int> & <int> & <int> & <int> & <int> & <int> & <int> & <int>\\\\\n",
       "\\hline\n",
       "\t abercda01 & 1871 & 1 & TRO & NA &  1 &   4 &  0 &  0 &  0 & 0 & 0 &  0 & 0 & 0 & 0 & 0 & NA & NA & NA & NA & 0\\\\\n",
       "\t addybo01  & 1871 & 1 & RC1 & NA & 25 & 118 & 30 & 32 &  6 & 0 & 0 & 13 & 8 & 1 & 4 & 0 & NA & NA & NA & NA & 0\\\\\n",
       "\t allisar01 & 1871 & 1 & CL1 & NA & 29 & 137 & 28 & 40 &  4 & 5 & 0 & 19 & 3 & 1 & 2 & 5 & NA & NA & NA & NA & 1\\\\\n",
       "\t allisdo01 & 1871 & 1 & WS3 & NA & 27 & 133 & 28 & 44 & 10 & 2 & 2 & 27 & 1 & 1 & 0 & 2 & NA & NA & NA & NA & 0\\\\\n",
       "\t ansonca01 & 1871 & 1 & RC1 & NA & 25 & 120 & 29 & 39 & 11 & 3 & 0 & 16 & 6 & 2 & 2 & 1 & NA & NA & NA & NA & 0\\\\\n",
       "\t armstbo01 & 1871 & 1 & FW1 & NA & 12 &  49 &  9 & 11 &  2 & 1 & 0 &  5 & 0 & 1 & 0 & 1 & NA & NA & NA & NA & 0\\\\\n",
       "\\end{tabular}\n"
      ],
      "text/markdown": [
       "\n",
       "A tibble: 6 × 22\n",
       "\n",
       "| playerID &lt;chr&gt; | yearID &lt;int&gt; | stint &lt;int&gt; | teamID &lt;fct&gt; | lgID &lt;fct&gt; | G &lt;int&gt; | AB &lt;int&gt; | R &lt;int&gt; | H &lt;int&gt; | X2B &lt;int&gt; | ⋯ ⋯ | RBI &lt;int&gt; | SB &lt;int&gt; | CS &lt;int&gt; | BB &lt;int&gt; | SO &lt;int&gt; | IBB &lt;int&gt; | HBP &lt;int&gt; | SH &lt;int&gt; | SF &lt;int&gt; | GIDP &lt;int&gt; |\n",
       "|---|---|---|---|---|---|---|---|---|---|---|---|---|---|---|---|---|---|---|---|---|\n",
       "| abercda01 | 1871 | 1 | TRO | NA |  1 |   4 |  0 |  0 |  0 | ⋯ |  0 | 0 | 0 | 0 | 0 | NA | NA | NA | NA | 0 |\n",
       "| addybo01  | 1871 | 1 | RC1 | NA | 25 | 118 | 30 | 32 |  6 | ⋯ | 13 | 8 | 1 | 4 | 0 | NA | NA | NA | NA | 0 |\n",
       "| allisar01 | 1871 | 1 | CL1 | NA | 29 | 137 | 28 | 40 |  4 | ⋯ | 19 | 3 | 1 | 2 | 5 | NA | NA | NA | NA | 1 |\n",
       "| allisdo01 | 1871 | 1 | WS3 | NA | 27 | 133 | 28 | 44 | 10 | ⋯ | 27 | 1 | 1 | 0 | 2 | NA | NA | NA | NA | 0 |\n",
       "| ansonca01 | 1871 | 1 | RC1 | NA | 25 | 120 | 29 | 39 | 11 | ⋯ | 16 | 6 | 2 | 2 | 1 | NA | NA | NA | NA | 0 |\n",
       "| armstbo01 | 1871 | 1 | FW1 | NA | 12 |  49 |  9 | 11 |  2 | ⋯ |  5 | 0 | 1 | 0 | 1 | NA | NA | NA | NA | 0 |\n",
       "\n"
      ],
      "text/plain": [
       "  playerID  yearID stint teamID lgID G  AB  R  H  X2B ⋯ RBI SB CS BB SO IBB HBP\n",
       "1 abercda01 1871   1     TRO    NA    1   4  0  0  0  ⋯  0  0  0  0  0  NA  NA \n",
       "2 addybo01  1871   1     RC1    NA   25 118 30 32  6  ⋯ 13  8  1  4  0  NA  NA \n",
       "3 allisar01 1871   1     CL1    NA   29 137 28 40  4  ⋯ 19  3  1  2  5  NA  NA \n",
       "4 allisdo01 1871   1     WS3    NA   27 133 28 44 10  ⋯ 27  1  1  0  2  NA  NA \n",
       "5 ansonca01 1871   1     RC1    NA   25 120 29 39 11  ⋯ 16  6  2  2  1  NA  NA \n",
       "6 armstbo01 1871   1     FW1    NA   12  49  9 11  2  ⋯  5  0  1  0  1  NA  NA \n",
       "  SH SF GIDP\n",
       "1 NA NA 0   \n",
       "2 NA NA 0   \n",
       "3 NA NA 1   \n",
       "4 NA NA 0   \n",
       "5 NA NA 0   \n",
       "6 NA NA 0   "
      ]
     },
     "metadata": {},
     "output_type": "display_data"
    }
   ],
   "source": [
    "# 图的解释看书\n",
    "# 再看一组数据\n",
    "library(Lahman)\n",
    "# 转成tibble格式\n",
    "LahmanData # 和之前见到的数据不同\n",
    "# 转为tibble数据\n",
    "head(batting <- as_tibble(Lahman::Batting))"
   ]
  },
  {
   "cell_type": "code",
   "execution_count": 86,
   "metadata": {},
   "outputs": [
    {
     "name": "stderr",
     "output_type": "stream",
     "text": [
      "`geom_smooth()` using method = 'gam' and formula 'y ~ s(x, bs = \"cs\")'\n"
     ]
    },
    {
     "data": {
      "image/png": "[encoded data removed]",
      "text/plain": [
       "plot without title"
      ]
     },
     "metadata": {},
     "output_type": "display_data"
    }
   ],
   "source": [
    "batters <- batting %>% group_by(playerID) %>% \n",
    "summarize(ba = sum(H, na.rm = T)/sum(AB,na.rm = T),\n",
    " ab = sum(AB, na.rm = T))\n",
    "\n",
    "batters %>% filter(ab > 100) %>% ggplot(aes(ab,ba)) +\n",
    "geom_point()+\n",
    "geom_smooth(se = F)"
   ]
  },
  {
   "cell_type": "code",
   "execution_count": 87,
   "metadata": {},
   "outputs": [
    {
     "data": {
      "text/html": [
       "<table>\n",
       "<caption>A tibble: 6 × 3</caption>\n",
       "<thead>\n",
       "\t<tr><th scope=col>playerID</th><th scope=col>ba</th><th scope=col>ab</th></tr>\n",
       "\t<tr><th scope=col>&lt;chr&gt;</th><th scope=col>&lt;dbl&gt;</th><th scope=col>&lt;int&gt;</th></tr>\n",
       "</thead>\n",
       "<tbody>\n",
       "\t<tr><td>abramge01</td><td>1</td><td>1</td></tr>\n",
       "\t<tr><td>alberan01</td><td>1</td><td>1</td></tr>\n",
       "\t<tr><td>allarko01</td><td>1</td><td>1</td></tr>\n",
       "\t<tr><td>banisje01</td><td>1</td><td>1</td></tr>\n",
       "\t<tr><td>bartocl01</td><td>1</td><td>1</td></tr>\n",
       "\t<tr><td>bassdo01 </td><td>1</td><td>1</td></tr>\n",
       "</tbody>\n",
       "</table>\n"
      ],
      "text/latex": [
       "A tibble: 6 × 3\n",
       "\\begin{tabular}{r|lll}\n",
       " playerID & ba & ab\\\\\n",
       " <chr> & <dbl> & <int>\\\\\n",
       "\\hline\n",
       "\t abramge01 & 1 & 1\\\\\n",
       "\t alberan01 & 1 & 1\\\\\n",
       "\t allarko01 & 1 & 1\\\\\n",
       "\t banisje01 & 1 & 1\\\\\n",
       "\t bartocl01 & 1 & 1\\\\\n",
       "\t bassdo01  & 1 & 1\\\\\n",
       "\\end{tabular}\n"
      ],
      "text/markdown": [
       "\n",
       "A tibble: 6 × 3\n",
       "\n",
       "| playerID &lt;chr&gt; | ba &lt;dbl&gt; | ab &lt;int&gt; |\n",
       "|---|---|---|\n",
       "| abramge01 | 1 | 1 |\n",
       "| alberan01 | 1 | 1 |\n",
       "| allarko01 | 1 | 1 |\n",
       "| banisje01 | 1 | 1 |\n",
       "| bartocl01 | 1 | 1 |\n",
       "| bassdo01  | 1 | 1 |\n",
       "\n"
      ],
      "text/plain": [
       "  playerID  ba ab\n",
       "1 abramge01 1  1 \n",
       "2 alberan01 1  1 \n",
       "3 allarko01 1  1 \n",
       "4 banisje01 1  1 \n",
       "5 bartocl01 1  1 \n",
       "6 bassdo01  1  1 "
      ]
     },
     "metadata": {},
     "output_type": "display_data"
    }
   ],
   "source": [
    "head(batters %>% arrange(desc(ba)))"
   ]
  },
  {
   "cell_type": "markdown",
   "metadata": {},
   "source": [
    "### 常用的摘要函数\n",
    "\n",
    "位置度量：mean()、median()分别是均值、中位数\n",
    "\n",
    "分散程度度量：sd()、IQR()、mad()分别是标准误差、四分位距、绝对中位差\n",
    "\n",
    "秩的度量：min()、quantile()、max()分别是最小值、分位数、最大值\n",
    "\n",
    "定位度量：first()、nth()、last()\n",
    "\n",
    "计数：n()、sum(!is.na(x))、n_distinct(x)\n",
    "\n",
    "逻辑值的计数和比例：sum(x > 10)和mean(y == 0)"
   ]
  },
  {
   "cell_type": "code",
   "execution_count": 88,
   "metadata": {},
   "outputs": [
    {
     "data": {
      "text/html": [
       "<table>\n",
       "<caption>A grouped_df: 6 × 6</caption>\n",
       "<thead>\n",
       "\t<tr><th scope=col>year</th><th scope=col>month</th><th scope=col>day</th><th scope=col>avg_delay1</th><th scope=col>avg_delay2</th><th scope=col>avg_delay3</th></tr>\n",
       "\t<tr><th scope=col>&lt;int&gt;</th><th scope=col>&lt;int&gt;</th><th scope=col>&lt;int&gt;</th><th scope=col>&lt;dbl&gt;</th><th scope=col>&lt;dbl&gt;</th><th scope=col>&lt;dbl&gt;</th></tr>\n",
       "</thead>\n",
       "<tbody>\n",
       "\t<tr><td>2013</td><td>1</td><td>1</td><td>12.651023</td><td> 3</td><td>32.48156</td></tr>\n",
       "\t<tr><td>2013</td><td>1</td><td>2</td><td>12.692888</td><td> 4</td><td>32.02991</td></tr>\n",
       "\t<tr><td>2013</td><td>1</td><td>3</td><td> 5.733333</td><td> 1</td><td>27.66087</td></tr>\n",
       "\t<tr><td>2013</td><td>1</td><td>4</td><td>-1.932819</td><td>-8</td><td>28.30976</td></tr>\n",
       "\t<tr><td>2013</td><td>1</td><td>5</td><td>-1.525802</td><td>-7</td><td>22.55882</td></tr>\n",
       "\t<tr><td>2013</td><td>1</td><td>6</td><td> 4.236429</td><td>-1</td><td>24.37270</td></tr>\n",
       "</tbody>\n",
       "</table>\n"
      ],
      "text/latex": [
       "A grouped_df: 6 × 6\n",
       "\\begin{tabular}{r|llllll}\n",
       " year & month & day & avg\\_delay1 & avg\\_delay2 & avg\\_delay3\\\\\n",
       " <int> & <int> & <int> & <dbl> & <dbl> & <dbl>\\\\\n",
       "\\hline\n",
       "\t 2013 & 1 & 1 & 12.651023 &  3 & 32.48156\\\\\n",
       "\t 2013 & 1 & 2 & 12.692888 &  4 & 32.02991\\\\\n",
       "\t 2013 & 1 & 3 &  5.733333 &  1 & 27.66087\\\\\n",
       "\t 2013 & 1 & 4 & -1.932819 & -8 & 28.30976\\\\\n",
       "\t 2013 & 1 & 5 & -1.525802 & -7 & 22.55882\\\\\n",
       "\t 2013 & 1 & 6 &  4.236429 & -1 & 24.37270\\\\\n",
       "\\end{tabular}\n"
      ],
      "text/markdown": [
       "\n",
       "A grouped_df: 6 × 6\n",
       "\n",
       "| year &lt;int&gt; | month &lt;int&gt; | day &lt;int&gt; | avg_delay1 &lt;dbl&gt; | avg_delay2 &lt;dbl&gt; | avg_delay3 &lt;dbl&gt; |\n",
       "|---|---|---|---|---|---|\n",
       "| 2013 | 1 | 1 | 12.651023 |  3 | 32.48156 |\n",
       "| 2013 | 1 | 2 | 12.692888 |  4 | 32.02991 |\n",
       "| 2013 | 1 | 3 |  5.733333 |  1 | 27.66087 |\n",
       "| 2013 | 1 | 4 | -1.932819 | -8 | 28.30976 |\n",
       "| 2013 | 1 | 5 | -1.525802 | -7 | 22.55882 |\n",
       "| 2013 | 1 | 6 |  4.236429 | -1 | 24.37270 |\n",
       "\n"
      ],
      "text/plain": [
       "  year month day avg_delay1 avg_delay2 avg_delay3\n",
       "1 2013 1     1   12.651023   3         32.48156  \n",
       "2 2013 1     2   12.692888   4         32.02991  \n",
       "3 2013 1     3    5.733333   1         27.66087  \n",
       "4 2013 1     4   -1.932819  -8         28.30976  \n",
       "5 2013 1     5   -1.525802  -7         22.55882  \n",
       "6 2013 1     6    4.236429  -1         24.37270  "
      ]
     },
     "metadata": {},
     "output_type": "display_data"
    }
   ],
   "source": [
    "# 位置度量\n",
    "not_cancelled %>% group_by(year, month, day) %>% \n",
    "summarise(avg_delay1 = mean(arr_delay),\n",
    "         avg_delay2 = median(arr_delay),\n",
    "         avg_delay3 = mean(arr_delay[arr_delay > 0])) %>% head()"
   ]
  },
  {
   "cell_type": "code",
   "execution_count": 89,
   "metadata": {},
   "outputs": [
    {
     "data": {
      "text/html": [
       "<table>\n",
       "<caption>A tibble: 6 × 2</caption>\n",
       "<thead>\n",
       "\t<tr><th scope=col>dest</th><th scope=col>distance_sd</th></tr>\n",
       "\t<tr><th scope=col>&lt;chr&gt;</th><th scope=col>&lt;dbl&gt;</th></tr>\n",
       "</thead>\n",
       "<tbody>\n",
       "\t<tr><td>EGE</td><td>10.542765</td></tr>\n",
       "\t<tr><td>SAN</td><td>10.350094</td></tr>\n",
       "\t<tr><td>SFO</td><td>10.216017</td></tr>\n",
       "\t<tr><td>HNL</td><td>10.004197</td></tr>\n",
       "\t<tr><td>SEA</td><td> 9.977993</td></tr>\n",
       "\t<tr><td>LAS</td><td> 9.907786</td></tr>\n",
       "</tbody>\n",
       "</table>\n"
      ],
      "text/latex": [
       "A tibble: 6 × 2\n",
       "\\begin{tabular}{r|ll}\n",
       " dest & distance\\_sd\\\\\n",
       " <chr> & <dbl>\\\\\n",
       "\\hline\n",
       "\t EGE & 10.542765\\\\\n",
       "\t SAN & 10.350094\\\\\n",
       "\t SFO & 10.216017\\\\\n",
       "\t HNL & 10.004197\\\\\n",
       "\t SEA &  9.977993\\\\\n",
       "\t LAS &  9.907786\\\\\n",
       "\\end{tabular}\n"
      ],
      "text/markdown": [
       "\n",
       "A tibble: 6 × 2\n",
       "\n",
       "| dest &lt;chr&gt; | distance_sd &lt;dbl&gt; |\n",
       "|---|---|\n",
       "| EGE | 10.542765 |\n",
       "| SAN | 10.350094 |\n",
       "| SFO | 10.216017 |\n",
       "| HNL | 10.004197 |\n",
       "| SEA |  9.977993 |\n",
       "| LAS |  9.907786 |\n",
       "\n"
      ],
      "text/plain": [
       "  dest distance_sd\n",
       "1 EGE  10.542765  \n",
       "2 SAN  10.350094  \n",
       "3 SFO  10.216017  \n",
       "4 HNL  10.004197  \n",
       "5 SEA   9.977993  \n",
       "6 LAS   9.907786  "
      ]
     },
     "metadata": {},
     "output_type": "display_data"
    }
   ],
   "source": [
    "# 分散程度度量\n",
    "not_cancelled %>% group_by(dest) %>%\n",
    "summarise(distance_sd = sd(distance)) %>%\n",
    "arrange(desc(distance_sd)) %>% head()"
   ]
  },
  {
   "cell_type": "code",
   "execution_count": 90,
   "metadata": {},
   "outputs": [
    {
     "data": {
      "text/html": [
       "<table>\n",
       "<caption>A grouped_df: 6 × 6</caption>\n",
       "<thead>\n",
       "\t<tr><th scope=col>year</th><th scope=col>month</th><th scope=col>day</th><th scope=col>first</th><th scope=col>last</th><th scope=col>half</th></tr>\n",
       "\t<tr><th scope=col>&lt;int&gt;</th><th scope=col>&lt;int&gt;</th><th scope=col>&lt;int&gt;</th><th scope=col>&lt;int&gt;</th><th scope=col>&lt;int&gt;</th><th scope=col>&lt;dbl&gt;</th></tr>\n",
       "</thead>\n",
       "<tbody>\n",
       "\t<tr><td>2013</td><td>1</td><td>1</td><td>517</td><td>2356</td><td> 938.50</td></tr>\n",
       "\t<tr><td>2013</td><td>1</td><td>2</td><td> 42</td><td>2354</td><td> 911.50</td></tr>\n",
       "\t<tr><td>2013</td><td>1</td><td>3</td><td> 32</td><td>2349</td><td> 909.00</td></tr>\n",
       "\t<tr><td>2013</td><td>1</td><td>4</td><td> 25</td><td>2358</td><td> 900.75</td></tr>\n",
       "\t<tr><td>2013</td><td>1</td><td>5</td><td> 14</td><td>2357</td><td> 859.00</td></tr>\n",
       "\t<tr><td>2013</td><td>1</td><td>6</td><td> 16</td><td>2355</td><td>1003.00</td></tr>\n",
       "</tbody>\n",
       "</table>\n"
      ],
      "text/latex": [
       "A grouped_df: 6 × 6\n",
       "\\begin{tabular}{r|llllll}\n",
       " year & month & day & first & last & half\\\\\n",
       " <int> & <int> & <int> & <int> & <int> & <dbl>\\\\\n",
       "\\hline\n",
       "\t 2013 & 1 & 1 & 517 & 2356 &  938.50\\\\\n",
       "\t 2013 & 1 & 2 &  42 & 2354 &  911.50\\\\\n",
       "\t 2013 & 1 & 3 &  32 & 2349 &  909.00\\\\\n",
       "\t 2013 & 1 & 4 &  25 & 2358 &  900.75\\\\\n",
       "\t 2013 & 1 & 5 &  14 & 2357 &  859.00\\\\\n",
       "\t 2013 & 1 & 6 &  16 & 2355 & 1003.00\\\\\n",
       "\\end{tabular}\n"
      ],
      "text/markdown": [
       "\n",
       "A grouped_df: 6 × 6\n",
       "\n",
       "| year &lt;int&gt; | month &lt;int&gt; | day &lt;int&gt; | first &lt;int&gt; | last &lt;int&gt; | half &lt;dbl&gt; |\n",
       "|---|---|---|---|---|---|\n",
       "| 2013 | 1 | 1 | 517 | 2356 |  938.50 |\n",
       "| 2013 | 1 | 2 |  42 | 2354 |  911.50 |\n",
       "| 2013 | 1 | 3 |  32 | 2349 |  909.00 |\n",
       "| 2013 | 1 | 4 |  25 | 2358 |  900.75 |\n",
       "| 2013 | 1 | 5 |  14 | 2357 |  859.00 |\n",
       "| 2013 | 1 | 6 |  16 | 2355 | 1003.00 |\n",
       "\n"
      ],
      "text/plain": [
       "  year month day first last half   \n",
       "1 2013 1     1   517   2356  938.50\n",
       "2 2013 1     2    42   2354  911.50\n",
       "3 2013 1     3    32   2349  909.00\n",
       "4 2013 1     4    25   2358  900.75\n",
       "5 2013 1     5    14   2357  859.00\n",
       "6 2013 1     6    16   2355 1003.00"
      ]
     },
     "metadata": {},
     "output_type": "display_data"
    },
    {
     "data": {
      "text/html": [
       "<table>\n",
       "<caption>A matrix: 1 × 10 of type int</caption>\n",
       "<tbody>\n",
       "\t<tr><td>1</td><td>2</td><td>3</td><td>4</td><td>5</td><td>6</td><td>7</td><td>8</td><td>9</td><td>10</td></tr>\n",
       "</tbody>\n",
       "</table>\n"
      ],
      "text/latex": [
       "A matrix: 1 × 10 of type int\n",
       "\\begin{tabular}{llllllllll}\n",
       "\t 1 & 2 & 3 & 4 & 5 & 6 & 7 & 8 & 9 & 10\\\\\n",
       "\\end{tabular}\n"
      ],
      "text/markdown": [
       "\n",
       "A matrix: 1 × 10 of type int\n",
       "\n",
       "| 1 | 2 | 3 | 4 | 5 | 6 | 7 | 8 | 9 | 10 |\n",
       "\n"
      ],
      "text/plain": [
       "     [,1] [,2] [,3] [,4] [,5] [,6] [,7] [,8] [,9] [,10]\n",
       "[1,] 1    2    3    4    5    6    7    8    9    10   "
      ]
     },
     "metadata": {},
     "output_type": "display_data"
    },
    {
     "data": {
      "text/html": [
       "<dl class=dl-horizontal>\n",
       "\t<dt>0%</dt>\n",
       "\t\t<dd>1</dd>\n",
       "\t<dt>25%</dt>\n",
       "\t\t<dd>3.25</dd>\n",
       "\t<dt>50%</dt>\n",
       "\t\t<dd>5.5</dd>\n",
       "\t<dt>75%</dt>\n",
       "\t\t<dd>7.75</dd>\n",
       "\t<dt>100%</dt>\n",
       "\t\t<dd>10</dd>\n",
       "</dl>\n"
      ],
      "text/latex": [
       "\\begin{description*}\n",
       "\\item[0\\textbackslash{}\\%] 1\n",
       "\\item[25\\textbackslash{}\\%] 3.25\n",
       "\\item[50\\textbackslash{}\\%] 5.5\n",
       "\\item[75\\textbackslash{}\\%] 7.75\n",
       "\\item[100\\textbackslash{}\\%] 10\n",
       "\\end{description*}\n"
      ],
      "text/markdown": [
       "0%\n",
       ":   125%\n",
       ":   3.2550%\n",
       ":   5.575%\n",
       ":   7.75100%\n",
       ":   10\n",
       "\n"
      ],
      "text/plain": [
       "   0%   25%   50%   75%  100% \n",
       " 1.00  3.25  5.50  7.75 10.00 "
      ]
     },
     "metadata": {},
     "output_type": "display_data"
    }
   ],
   "source": [
    "# 秩的度量\n",
    "not_cancelled %>% group_by(year, month, day) %>% \n",
    "summarise(first = min(dep_time),\n",
    "         last = max(dep_time),\n",
    "         half = quantile(dep_time, 0.25)) %>% head()\n",
    "\n",
    "t(temp <-1:10)\n",
    "quantile(temp,c(0,0.25,0.5,0.75,1))"
   ]
  },
  {
   "cell_type": "code",
   "execution_count": 91,
   "metadata": {},
   "outputs": [
    {
     "data": {
      "text/html": [
       "<table>\n",
       "<caption>A grouped_df: 6 × 6</caption>\n",
       "<thead>\n",
       "\t<tr><th scope=col>year</th><th scope=col>month</th><th scope=col>day</th><th scope=col>first_dep</th><th scope=col>last_dep</th><th scope=col>second_dep</th></tr>\n",
       "\t<tr><th scope=col>&lt;int&gt;</th><th scope=col>&lt;int&gt;</th><th scope=col>&lt;int&gt;</th><th scope=col>&lt;int&gt;</th><th scope=col>&lt;int&gt;</th><th scope=col>&lt;int&gt;</th></tr>\n",
       "</thead>\n",
       "<tbody>\n",
       "\t<tr><td>2013</td><td>1</td><td>1</td><td>517</td><td>2356</td><td>533</td></tr>\n",
       "\t<tr><td>2013</td><td>1</td><td>2</td><td> 42</td><td>2354</td><td>126</td></tr>\n",
       "\t<tr><td>2013</td><td>1</td><td>3</td><td> 32</td><td>2349</td><td> 50</td></tr>\n",
       "\t<tr><td>2013</td><td>1</td><td>4</td><td> 25</td><td>2358</td><td>106</td></tr>\n",
       "\t<tr><td>2013</td><td>1</td><td>5</td><td> 14</td><td>2357</td><td> 37</td></tr>\n",
       "\t<tr><td>2013</td><td>1</td><td>6</td><td> 16</td><td>2355</td><td>458</td></tr>\n",
       "</tbody>\n",
       "</table>\n"
      ],
      "text/latex": [
       "A grouped_df: 6 × 6\n",
       "\\begin{tabular}{r|llllll}\n",
       " year & month & day & first\\_dep & last\\_dep & second\\_dep\\\\\n",
       " <int> & <int> & <int> & <int> & <int> & <int>\\\\\n",
       "\\hline\n",
       "\t 2013 & 1 & 1 & 517 & 2356 & 533\\\\\n",
       "\t 2013 & 1 & 2 &  42 & 2354 & 126\\\\\n",
       "\t 2013 & 1 & 3 &  32 & 2349 &  50\\\\\n",
       "\t 2013 & 1 & 4 &  25 & 2358 & 106\\\\\n",
       "\t 2013 & 1 & 5 &  14 & 2357 &  37\\\\\n",
       "\t 2013 & 1 & 6 &  16 & 2355 & 458\\\\\n",
       "\\end{tabular}\n"
      ],
      "text/markdown": [
       "\n",
       "A grouped_df: 6 × 6\n",
       "\n",
       "| year &lt;int&gt; | month &lt;int&gt; | day &lt;int&gt; | first_dep &lt;int&gt; | last_dep &lt;int&gt; | second_dep &lt;int&gt; |\n",
       "|---|---|---|---|---|---|\n",
       "| 2013 | 1 | 1 | 517 | 2356 | 533 |\n",
       "| 2013 | 1 | 2 |  42 | 2354 | 126 |\n",
       "| 2013 | 1 | 3 |  32 | 2349 |  50 |\n",
       "| 2013 | 1 | 4 |  25 | 2358 | 106 |\n",
       "| 2013 | 1 | 5 |  14 | 2357 |  37 |\n",
       "| 2013 | 1 | 6 |  16 | 2355 | 458 |\n",
       "\n"
      ],
      "text/plain": [
       "  year month day first_dep last_dep second_dep\n",
       "1 2013 1     1   517       2356     533       \n",
       "2 2013 1     2    42       2354     126       \n",
       "3 2013 1     3    32       2349      50       \n",
       "4 2013 1     4    25       2358     106       \n",
       "5 2013 1     5    14       2357      37       \n",
       "6 2013 1     6    16       2355     458       "
      ]
     },
     "metadata": {},
     "output_type": "display_data"
    },
    {
     "data": {
      "text/html": [
       "<table>\n",
       "<caption>A matrix: 1 × 10 of type int</caption>\n",
       "<tbody>\n",
       "\t<tr><td>1</td><td>2</td><td>3</td><td>4</td><td>5</td><td>6</td><td>7</td><td>8</td><td>9</td><td>10</td></tr>\n",
       "</tbody>\n",
       "</table>\n"
      ],
      "text/latex": [
       "A matrix: 1 × 10 of type int\n",
       "\\begin{tabular}{llllllllll}\n",
       "\t 1 & 2 & 3 & 4 & 5 & 6 & 7 & 8 & 9 & 10\\\\\n",
       "\\end{tabular}\n"
      ],
      "text/markdown": [
       "\n",
       "A matrix: 1 × 10 of type int\n",
       "\n",
       "| 1 | 2 | 3 | 4 | 5 | 6 | 7 | 8 | 9 | 10 |\n",
       "\n"
      ],
      "text/plain": [
       "     [,1] [,2] [,3] [,4] [,5] [,6] [,7] [,8] [,9] [,10]\n",
       "[1,] 1    2    3    4    5    6    7    8    9    10   "
      ]
     },
     "metadata": {},
     "output_type": "display_data"
    },
    {
     "data": {
      "text/html": [
       "1"
      ],
      "text/latex": [
       "1"
      ],
      "text/markdown": [
       "1"
      ],
      "text/plain": [
       "[1] 1"
      ]
     },
     "metadata": {},
     "output_type": "display_data"
    },
    {
     "data": {
      "text/html": [
       "2"
      ],
      "text/latex": [
       "2"
      ],
      "text/markdown": [
       "2"
      ],
      "text/plain": [
       "[1] 2"
      ]
     },
     "metadata": {},
     "output_type": "display_data"
    },
    {
     "data": {
      "text/html": [
       "10"
      ],
      "text/latex": [
       "10"
      ],
      "text/markdown": [
       "10"
      ],
      "text/plain": [
       "[1] 10"
      ]
     },
     "metadata": {},
     "output_type": "display_data"
    }
   ],
   "source": [
    "# 定位度量\n",
    "not_cancelled %>% group_by(year, month, day) %>% \n",
    "summarise(first_dep = first(dep_time),\n",
    "         last_dep = last(dep_time),\n",
    "         second_dep = nth(dep_time, 2)) %>% head()\n",
    "t(temp)\n",
    "first(temp)\n",
    "nth(temp, 2)\n",
    "last(temp)"
   ]
  },
  {
   "cell_type": "code",
   "execution_count": 92,
   "metadata": {},
   "outputs": [
    {
     "data": {
      "text/html": [
       "<table>\n",
       "<caption>A grouped_df: 6 × 20</caption>\n",
       "<thead>\n",
       "\t<tr><th scope=col>year</th><th scope=col>month</th><th scope=col>day</th><th scope=col>dep_time</th><th scope=col>sched_dep_time</th><th scope=col>dep_delay</th><th scope=col>arr_time</th><th scope=col>sched_arr_time</th><th scope=col>arr_delay</th><th scope=col>carrier</th><th scope=col>flight</th><th scope=col>tailnum</th><th scope=col>origin</th><th scope=col>dest</th><th scope=col>air_time</th><th scope=col>distance</th><th scope=col>hour</th><th scope=col>minute</th><th scope=col>time_hour</th><th scope=col>r</th></tr>\n",
       "\t<tr><th scope=col>&lt;int&gt;</th><th scope=col>&lt;int&gt;</th><th scope=col>&lt;int&gt;</th><th scope=col>&lt;int&gt;</th><th scope=col>&lt;int&gt;</th><th scope=col>&lt;dbl&gt;</th><th scope=col>&lt;int&gt;</th><th scope=col>&lt;int&gt;</th><th scope=col>&lt;dbl&gt;</th><th scope=col>&lt;chr&gt;</th><th scope=col>&lt;int&gt;</th><th scope=col>&lt;chr&gt;</th><th scope=col>&lt;chr&gt;</th><th scope=col>&lt;chr&gt;</th><th scope=col>&lt;dbl&gt;</th><th scope=col>&lt;dbl&gt;</th><th scope=col>&lt;dbl&gt;</th><th scope=col>&lt;dbl&gt;</th><th scope=col>&lt;dttm&gt;</th><th scope=col>&lt;int&gt;</th></tr>\n",
       "</thead>\n",
       "<tbody>\n",
       "\t<tr><td>2013</td><td>1</td><td>1</td><td> 517</td><td> 515</td><td>  2</td><td>830</td><td>819</td><td> 11</td><td>UA</td><td>1545</td><td>N14228</td><td>EWR</td><td>IAH</td><td>227</td><td>1400</td><td> 5</td><td>15</td><td>2013-01-01 05:00:00</td><td>831</td></tr>\n",
       "\t<tr><td>2013</td><td>1</td><td>1</td><td>2356</td><td>2359</td><td> -3</td><td>425</td><td>437</td><td>-12</td><td>B6</td><td> 727</td><td>N588JB</td><td>JFK</td><td>BQN</td><td>186</td><td>1576</td><td>23</td><td>59</td><td>2013-01-01 23:00:00</td><td>  1</td></tr>\n",
       "\t<tr><td>2013</td><td>1</td><td>2</td><td>  42</td><td>2359</td><td> 43</td><td>518</td><td>442</td><td> 36</td><td>B6</td><td> 707</td><td>N580JB</td><td>JFK</td><td>SJU</td><td>189</td><td>1598</td><td>23</td><td>59</td><td>2013-01-02 23:00:00</td><td>928</td></tr>\n",
       "\t<tr><td>2013</td><td>1</td><td>2</td><td>2354</td><td>2359</td><td> -5</td><td>413</td><td>437</td><td>-24</td><td>B6</td><td> 727</td><td>N789JB</td><td>JFK</td><td>BQN</td><td>180</td><td>1576</td><td>23</td><td>59</td><td>2013-01-02 23:00:00</td><td>  1</td></tr>\n",
       "\t<tr><td>2013</td><td>1</td><td>3</td><td>  32</td><td>2359</td><td> 33</td><td>504</td><td>442</td><td> 22</td><td>B6</td><td> 707</td><td>N763JB</td><td>JFK</td><td>SJU</td><td>193</td><td>1598</td><td>23</td><td>59</td><td>2013-01-03 23:00:00</td><td>900</td></tr>\n",
       "\t<tr><td>2013</td><td>1</td><td>3</td><td>2349</td><td>2359</td><td>-10</td><td>434</td><td>445</td><td>-11</td><td>B6</td><td> 739</td><td>N729JB</td><td>JFK</td><td>PSE</td><td>199</td><td>1617</td><td>23</td><td>59</td><td>2013-01-03 23:00:00</td><td>  1</td></tr>\n",
       "</tbody>\n",
       "</table>\n"
      ],
      "text/latex": [
       "A grouped_df: 6 × 20\n",
       "\\begin{tabular}{r|llllllllllllllllllll}\n",
       " year & month & day & dep\\_time & sched\\_dep\\_time & dep\\_delay & arr\\_time & sched\\_arr\\_time & arr\\_delay & carrier & flight & tailnum & origin & dest & air\\_time & distance & hour & minute & time\\_hour & r\\\\\n",
       " <int> & <int> & <int> & <int> & <int> & <dbl> & <int> & <int> & <dbl> & <chr> & <int> & <chr> & <chr> & <chr> & <dbl> & <dbl> & <dbl> & <dbl> & <dttm> & <int>\\\\\n",
       "\\hline\n",
       "\t 2013 & 1 & 1 &  517 &  515 &   2 & 830 & 819 &  11 & UA & 1545 & N14228 & EWR & IAH & 227 & 1400 &  5 & 15 & 2013-01-01 05:00:00 & 831\\\\\n",
       "\t 2013 & 1 & 1 & 2356 & 2359 &  -3 & 425 & 437 & -12 & B6 &  727 & N588JB & JFK & BQN & 186 & 1576 & 23 & 59 & 2013-01-01 23:00:00 &   1\\\\\n",
       "\t 2013 & 1 & 2 &   42 & 2359 &  43 & 518 & 442 &  36 & B6 &  707 & N580JB & JFK & SJU & 189 & 1598 & 23 & 59 & 2013-01-02 23:00:00 & 928\\\\\n",
       "\t 2013 & 1 & 2 & 2354 & 2359 &  -5 & 413 & 437 & -24 & B6 &  727 & N789JB & JFK & BQN & 180 & 1576 & 23 & 59 & 2013-01-02 23:00:00 &   1\\\\\n",
       "\t 2013 & 1 & 3 &   32 & 2359 &  33 & 504 & 442 &  22 & B6 &  707 & N763JB & JFK & SJU & 193 & 1598 & 23 & 59 & 2013-01-03 23:00:00 & 900\\\\\n",
       "\t 2013 & 1 & 3 & 2349 & 2359 & -10 & 434 & 445 & -11 & B6 &  739 & N729JB & JFK & PSE & 199 & 1617 & 23 & 59 & 2013-01-03 23:00:00 &   1\\\\\n",
       "\\end{tabular}\n"
      ],
      "text/markdown": [
       "\n",
       "A grouped_df: 6 × 20\n",
       "\n",
       "| year &lt;int&gt; | month &lt;int&gt; | day &lt;int&gt; | dep_time &lt;int&gt; | sched_dep_time &lt;int&gt; | dep_delay &lt;dbl&gt; | arr_time &lt;int&gt; | sched_arr_time &lt;int&gt; | arr_delay &lt;dbl&gt; | carrier &lt;chr&gt; | flight &lt;int&gt; | tailnum &lt;chr&gt; | origin &lt;chr&gt; | dest &lt;chr&gt; | air_time &lt;dbl&gt; | distance &lt;dbl&gt; | hour &lt;dbl&gt; | minute &lt;dbl&gt; | time_hour &lt;dttm&gt; | r &lt;int&gt; |\n",
       "|---|---|---|---|---|---|---|---|---|---|---|---|---|---|---|---|---|---|---|---|\n",
       "| 2013 | 1 | 1 |  517 |  515 |   2 | 830 | 819 |  11 | UA | 1545 | N14228 | EWR | IAH | 227 | 1400 |  5 | 15 | 2013-01-01 05:00:00 | 831 |\n",
       "| 2013 | 1 | 1 | 2356 | 2359 |  -3 | 425 | 437 | -12 | B6 |  727 | N588JB | JFK | BQN | 186 | 1576 | 23 | 59 | 2013-01-01 23:00:00 |   1 |\n",
       "| 2013 | 1 | 2 |   42 | 2359 |  43 | 518 | 442 |  36 | B6 |  707 | N580JB | JFK | SJU | 189 | 1598 | 23 | 59 | 2013-01-02 23:00:00 | 928 |\n",
       "| 2013 | 1 | 2 | 2354 | 2359 |  -5 | 413 | 437 | -24 | B6 |  727 | N789JB | JFK | BQN | 180 | 1576 | 23 | 59 | 2013-01-02 23:00:00 |   1 |\n",
       "| 2013 | 1 | 3 |   32 | 2359 |  33 | 504 | 442 |  22 | B6 |  707 | N763JB | JFK | SJU | 193 | 1598 | 23 | 59 | 2013-01-03 23:00:00 | 900 |\n",
       "| 2013 | 1 | 3 | 2349 | 2359 | -10 | 434 | 445 | -11 | B6 |  739 | N729JB | JFK | PSE | 199 | 1617 | 23 | 59 | 2013-01-03 23:00:00 |   1 |\n",
       "\n"
      ],
      "text/plain": [
       "  year month day dep_time sched_dep_time dep_delay arr_time sched_arr_time\n",
       "1 2013 1     1    517      515             2       830      819           \n",
       "2 2013 1     1   2356     2359            -3       425      437           \n",
       "3 2013 1     2     42     2359            43       518      442           \n",
       "4 2013 1     2   2354     2359            -5       413      437           \n",
       "5 2013 1     3     32     2359            33       504      442           \n",
       "6 2013 1     3   2349     2359           -10       434      445           \n",
       "  arr_delay carrier flight tailnum origin dest air_time distance hour minute\n",
       "1  11       UA      1545   N14228  EWR    IAH  227      1400      5   15    \n",
       "2 -12       B6       727   N588JB  JFK    BQN  186      1576     23   59    \n",
       "3  36       B6       707   N580JB  JFK    SJU  189      1598     23   59    \n",
       "4 -24       B6       727   N789JB  JFK    BQN  180      1576     23   59    \n",
       "5  22       B6       707   N763JB  JFK    SJU  193      1598     23   59    \n",
       "6 -11       B6       739   N729JB  JFK    PSE  199      1617     23   59    \n",
       "  time_hour           r  \n",
       "1 2013-01-01 05:00:00 831\n",
       "2 2013-01-01 23:00:00   1\n",
       "3 2013-01-02 23:00:00 928\n",
       "4 2013-01-02 23:00:00   1\n",
       "5 2013-01-03 23:00:00 900\n",
       "6 2013-01-03 23:00:00   1"
      ]
     },
     "metadata": {},
     "output_type": "display_data"
    }
   ],
   "source": [
    "not_cancelled %>% group_by(year, month, day) %>%\n",
    "mutate(r = min_rank(desc(dep_time))) %>%\n",
    "filter(r %in% range(r)) %>% head()"
   ]
  },
  {
   "cell_type": "code",
   "execution_count": 93,
   "metadata": {},
   "outputs": [
    {
     "data": {
      "text/html": [
       "<table>\n",
       "<caption>A grouped_df: 6 × 20</caption>\n",
       "<thead>\n",
       "\t<tr><th scope=col>year</th><th scope=col>month</th><th scope=col>day</th><th scope=col>dep_time</th><th scope=col>sched_dep_time</th><th scope=col>dep_delay</th><th scope=col>arr_time</th><th scope=col>sched_arr_time</th><th scope=col>arr_delay</th><th scope=col>carrier</th><th scope=col>flight</th><th scope=col>tailnum</th><th scope=col>origin</th><th scope=col>dest</th><th scope=col>air_time</th><th scope=col>distance</th><th scope=col>hour</th><th scope=col>minute</th><th scope=col>time_hour</th><th scope=col>r</th></tr>\n",
       "\t<tr><th scope=col>&lt;int&gt;</th><th scope=col>&lt;int&gt;</th><th scope=col>&lt;int&gt;</th><th scope=col>&lt;int&gt;</th><th scope=col>&lt;int&gt;</th><th scope=col>&lt;dbl&gt;</th><th scope=col>&lt;int&gt;</th><th scope=col>&lt;int&gt;</th><th scope=col>&lt;dbl&gt;</th><th scope=col>&lt;chr&gt;</th><th scope=col>&lt;int&gt;</th><th scope=col>&lt;chr&gt;</th><th scope=col>&lt;chr&gt;</th><th scope=col>&lt;chr&gt;</th><th scope=col>&lt;dbl&gt;</th><th scope=col>&lt;dbl&gt;</th><th scope=col>&lt;dbl&gt;</th><th scope=col>&lt;dbl&gt;</th><th scope=col>&lt;dttm&gt;</th><th scope=col>&lt;int&gt;</th></tr>\n",
       "</thead>\n",
       "<tbody>\n",
       "\t<tr><td>2013</td><td>1</td><td>1</td><td> 517</td><td> 515</td><td>  2</td><td>830</td><td>819</td><td> 11</td><td>UA</td><td>1545</td><td>N14228</td><td>EWR</td><td>IAH</td><td>227</td><td>1400</td><td> 5</td><td>15</td><td>2013-01-01 05:00:00</td><td>  1</td></tr>\n",
       "\t<tr><td>2013</td><td>1</td><td>1</td><td>2356</td><td>2359</td><td> -3</td><td>425</td><td>437</td><td>-12</td><td>B6</td><td> 727</td><td>N588JB</td><td>JFK</td><td>BQN</td><td>186</td><td>1576</td><td>23</td><td>59</td><td>2013-01-01 23:00:00</td><td>831</td></tr>\n",
       "\t<tr><td>2013</td><td>1</td><td>2</td><td>  42</td><td>2359</td><td> 43</td><td>518</td><td>442</td><td> 36</td><td>B6</td><td> 707</td><td>N580JB</td><td>JFK</td><td>SJU</td><td>189</td><td>1598</td><td>23</td><td>59</td><td>2013-01-02 23:00:00</td><td>  1</td></tr>\n",
       "\t<tr><td>2013</td><td>1</td><td>2</td><td>2354</td><td>2359</td><td> -5</td><td>413</td><td>437</td><td>-24</td><td>B6</td><td> 727</td><td>N789JB</td><td>JFK</td><td>BQN</td><td>180</td><td>1576</td><td>23</td><td>59</td><td>2013-01-02 23:00:00</td><td>928</td></tr>\n",
       "\t<tr><td>2013</td><td>1</td><td>3</td><td>  32</td><td>2359</td><td> 33</td><td>504</td><td>442</td><td> 22</td><td>B6</td><td> 707</td><td>N763JB</td><td>JFK</td><td>SJU</td><td>193</td><td>1598</td><td>23</td><td>59</td><td>2013-01-03 23:00:00</td><td>  1</td></tr>\n",
       "\t<tr><td>2013</td><td>1</td><td>3</td><td>2349</td><td>2359</td><td>-10</td><td>434</td><td>445</td><td>-11</td><td>B6</td><td> 739</td><td>N729JB</td><td>JFK</td><td>PSE</td><td>199</td><td>1617</td><td>23</td><td>59</td><td>2013-01-03 23:00:00</td><td>900</td></tr>\n",
       "</tbody>\n",
       "</table>\n"
      ],
      "text/latex": [
       "A grouped_df: 6 × 20\n",
       "\\begin{tabular}{r|llllllllllllllllllll}\n",
       " year & month & day & dep\\_time & sched\\_dep\\_time & dep\\_delay & arr\\_time & sched\\_arr\\_time & arr\\_delay & carrier & flight & tailnum & origin & dest & air\\_time & distance & hour & minute & time\\_hour & r\\\\\n",
       " <int> & <int> & <int> & <int> & <int> & <dbl> & <int> & <int> & <dbl> & <chr> & <int> & <chr> & <chr> & <chr> & <dbl> & <dbl> & <dbl> & <dbl> & <dttm> & <int>\\\\\n",
       "\\hline\n",
       "\t 2013 & 1 & 1 &  517 &  515 &   2 & 830 & 819 &  11 & UA & 1545 & N14228 & EWR & IAH & 227 & 1400 &  5 & 15 & 2013-01-01 05:00:00 &   1\\\\\n",
       "\t 2013 & 1 & 1 & 2356 & 2359 &  -3 & 425 & 437 & -12 & B6 &  727 & N588JB & JFK & BQN & 186 & 1576 & 23 & 59 & 2013-01-01 23:00:00 & 831\\\\\n",
       "\t 2013 & 1 & 2 &   42 & 2359 &  43 & 518 & 442 &  36 & B6 &  707 & N580JB & JFK & SJU & 189 & 1598 & 23 & 59 & 2013-01-02 23:00:00 &   1\\\\\n",
       "\t 2013 & 1 & 2 & 2354 & 2359 &  -5 & 413 & 437 & -24 & B6 &  727 & N789JB & JFK & BQN & 180 & 1576 & 23 & 59 & 2013-01-02 23:00:00 & 928\\\\\n",
       "\t 2013 & 1 & 3 &   32 & 2359 &  33 & 504 & 442 &  22 & B6 &  707 & N763JB & JFK & SJU & 193 & 1598 & 23 & 59 & 2013-01-03 23:00:00 &   1\\\\\n",
       "\t 2013 & 1 & 3 & 2349 & 2359 & -10 & 434 & 445 & -11 & B6 &  739 & N729JB & JFK & PSE & 199 & 1617 & 23 & 59 & 2013-01-03 23:00:00 & 900\\\\\n",
       "\\end{tabular}\n"
      ],
      "text/markdown": [
       "\n",
       "A grouped_df: 6 × 20\n",
       "\n",
       "| year &lt;int&gt; | month &lt;int&gt; | day &lt;int&gt; | dep_time &lt;int&gt; | sched_dep_time &lt;int&gt; | dep_delay &lt;dbl&gt; | arr_time &lt;int&gt; | sched_arr_time &lt;int&gt; | arr_delay &lt;dbl&gt; | carrier &lt;chr&gt; | flight &lt;int&gt; | tailnum &lt;chr&gt; | origin &lt;chr&gt; | dest &lt;chr&gt; | air_time &lt;dbl&gt; | distance &lt;dbl&gt; | hour &lt;dbl&gt; | minute &lt;dbl&gt; | time_hour &lt;dttm&gt; | r &lt;int&gt; |\n",
       "|---|---|---|---|---|---|---|---|---|---|---|---|---|---|---|---|---|---|---|---|\n",
       "| 2013 | 1 | 1 |  517 |  515 |   2 | 830 | 819 |  11 | UA | 1545 | N14228 | EWR | IAH | 227 | 1400 |  5 | 15 | 2013-01-01 05:00:00 |   1 |\n",
       "| 2013 | 1 | 1 | 2356 | 2359 |  -3 | 425 | 437 | -12 | B6 |  727 | N588JB | JFK | BQN | 186 | 1576 | 23 | 59 | 2013-01-01 23:00:00 | 831 |\n",
       "| 2013 | 1 | 2 |   42 | 2359 |  43 | 518 | 442 |  36 | B6 |  707 | N580JB | JFK | SJU | 189 | 1598 | 23 | 59 | 2013-01-02 23:00:00 |   1 |\n",
       "| 2013 | 1 | 2 | 2354 | 2359 |  -5 | 413 | 437 | -24 | B6 |  727 | N789JB | JFK | BQN | 180 | 1576 | 23 | 59 | 2013-01-02 23:00:00 | 928 |\n",
       "| 2013 | 1 | 3 |   32 | 2359 |  33 | 504 | 442 |  22 | B6 |  707 | N763JB | JFK | SJU | 193 | 1598 | 23 | 59 | 2013-01-03 23:00:00 |   1 |\n",
       "| 2013 | 1 | 3 | 2349 | 2359 | -10 | 434 | 445 | -11 | B6 |  739 | N729JB | JFK | PSE | 199 | 1617 | 23 | 59 | 2013-01-03 23:00:00 | 900 |\n",
       "\n"
      ],
      "text/plain": [
       "  year month day dep_time sched_dep_time dep_delay arr_time sched_arr_time\n",
       "1 2013 1     1    517      515             2       830      819           \n",
       "2 2013 1     1   2356     2359            -3       425      437           \n",
       "3 2013 1     2     42     2359            43       518      442           \n",
       "4 2013 1     2   2354     2359            -5       413      437           \n",
       "5 2013 1     3     32     2359            33       504      442           \n",
       "6 2013 1     3   2349     2359           -10       434      445           \n",
       "  arr_delay carrier flight tailnum origin dest air_time distance hour minute\n",
       "1  11       UA      1545   N14228  EWR    IAH  227      1400      5   15    \n",
       "2 -12       B6       727   N588JB  JFK    BQN  186      1576     23   59    \n",
       "3  36       B6       707   N580JB  JFK    SJU  189      1598     23   59    \n",
       "4 -24       B6       727   N789JB  JFK    BQN  180      1576     23   59    \n",
       "5  22       B6       707   N763JB  JFK    SJU  193      1598     23   59    \n",
       "6 -11       B6       739   N729JB  JFK    PSE  199      1617     23   59    \n",
       "  time_hour           r  \n",
       "1 2013-01-01 05:00:00   1\n",
       "2 2013-01-01 23:00:00 831\n",
       "3 2013-01-02 23:00:00   1\n",
       "4 2013-01-02 23:00:00 928\n",
       "5 2013-01-03 23:00:00   1\n",
       "6 2013-01-03 23:00:00 900"
      ]
     },
     "metadata": {},
     "output_type": "display_data"
    }
   ],
   "source": [
    "not_cancelled %>% group_by(year, month, day) %>%\n",
    "mutate(r = min_rank(dep_time)) %>%\n",
    "filter(r %in% range(r)) %>% head()\n",
    "\n",
    "# 有没有desc()逆序一样"
   ]
  },
  {
   "cell_type": "code",
   "execution_count": 94,
   "metadata": {},
   "outputs": [
    {
     "data": {
      "text/html": [
       "<ol class=list-inline>\n",
       "\t<li>1</li>\n",
       "\t<li>10</li>\n",
       "</ol>\n"
      ],
      "text/latex": [
       "\\begin{enumerate*}\n",
       "\\item 1\n",
       "\\item 10\n",
       "\\end{enumerate*}\n"
      ],
      "text/markdown": [
       "1. 1\n",
       "2. 10\n",
       "\n",
       "\n"
      ],
      "text/plain": [
       "[1]  1 10"
      ]
     },
     "metadata": {},
     "output_type": "display_data"
    },
    {
     "data": {
      "text/html": [
       "<ol class=list-inline>\n",
       "\t<li>2</li>\n",
       "\t<li>62</li>\n",
       "</ol>\n"
      ],
      "text/latex": [
       "\\begin{enumerate*}\n",
       "\\item 2\n",
       "\\item 62\n",
       "\\end{enumerate*}\n"
      ],
      "text/markdown": [
       "1. 2\n",
       "2. 62\n",
       "\n",
       "\n"
      ],
      "text/plain": [
       "[1]  2 62"
      ]
     },
     "metadata": {},
     "output_type": "display_data"
    }
   ],
   "source": [
    "# 看看range()函数，不解释\n",
    "# range returns a vector containing the minimum and maximum of all the given arguments. \n",
    "x <- 1:10\n",
    "y <- c(2,4,62,6,2,61,9)\n",
    "range(x)\n",
    "range(y)"
   ]
  },
  {
   "cell_type": "code",
   "execution_count": 95,
   "metadata": {},
   "outputs": [
    {
     "data": {
      "text/html": [
       "<table>\n",
       "<caption>A tibble: 6 × 2</caption>\n",
       "<thead>\n",
       "\t<tr><th scope=col>dest</th><th scope=col>carriers</th></tr>\n",
       "\t<tr><th scope=col>&lt;chr&gt;</th><th scope=col>&lt;int&gt;</th></tr>\n",
       "</thead>\n",
       "<tbody>\n",
       "\t<tr><td>ATL</td><td>7</td></tr>\n",
       "\t<tr><td>BOS</td><td>7</td></tr>\n",
       "\t<tr><td>CLT</td><td>7</td></tr>\n",
       "\t<tr><td>ORD</td><td>7</td></tr>\n",
       "\t<tr><td>TPA</td><td>7</td></tr>\n",
       "\t<tr><td>AUS</td><td>6</td></tr>\n",
       "</tbody>\n",
       "</table>\n"
      ],
      "text/latex": [
       "A tibble: 6 × 2\n",
       "\\begin{tabular}{r|ll}\n",
       " dest & carriers\\\\\n",
       " <chr> & <int>\\\\\n",
       "\\hline\n",
       "\t ATL & 7\\\\\n",
       "\t BOS & 7\\\\\n",
       "\t CLT & 7\\\\\n",
       "\t ORD & 7\\\\\n",
       "\t TPA & 7\\\\\n",
       "\t AUS & 6\\\\\n",
       "\\end{tabular}\n"
      ],
      "text/markdown": [
       "\n",
       "A tibble: 6 × 2\n",
       "\n",
       "| dest &lt;chr&gt; | carriers &lt;int&gt; |\n",
       "|---|---|\n",
       "| ATL | 7 |\n",
       "| BOS | 7 |\n",
       "| CLT | 7 |\n",
       "| ORD | 7 |\n",
       "| TPA | 7 |\n",
       "| AUS | 6 |\n",
       "\n"
      ],
      "text/plain": [
       "  dest carriers\n",
       "1 ATL  7       \n",
       "2 BOS  7       \n",
       "3 CLT  7       \n",
       "4 ORD  7       \n",
       "5 TPA  7       \n",
       "6 AUS  6       "
      ]
     },
     "metadata": {},
     "output_type": "display_data"
    }
   ],
   "source": [
    "# 计数\n",
    "not_cancelled %>% group_by(dest) %>% \n",
    "summarise(carriers = n_distinct(carrier)) %>%\n",
    "arrange(desc(carriers)) %>% head()"
   ]
  },
  {
   "cell_type": "code",
   "execution_count": 96,
   "metadata": {},
   "outputs": [
    {
     "data": {
      "text/html": [
       "<table>\n",
       "<caption>A tibble: 6 × 2</caption>\n",
       "<thead>\n",
       "\t<tr><th scope=col>dest</th><th scope=col>n</th></tr>\n",
       "\t<tr><th scope=col>&lt;chr&gt;</th><th scope=col>&lt;int&gt;</th></tr>\n",
       "</thead>\n",
       "<tbody>\n",
       "\t<tr><td>ABQ</td><td>  254</td></tr>\n",
       "\t<tr><td>ACK</td><td>  264</td></tr>\n",
       "\t<tr><td>ALB</td><td>  418</td></tr>\n",
       "\t<tr><td>ANC</td><td>    8</td></tr>\n",
       "\t<tr><td>ATL</td><td>16837</td></tr>\n",
       "\t<tr><td>AUS</td><td> 2411</td></tr>\n",
       "</tbody>\n",
       "</table>\n"
      ],
      "text/latex": [
       "A tibble: 6 × 2\n",
       "\\begin{tabular}{r|ll}\n",
       " dest & n\\\\\n",
       " <chr> & <int>\\\\\n",
       "\\hline\n",
       "\t ABQ &   254\\\\\n",
       "\t ACK &   264\\\\\n",
       "\t ALB &   418\\\\\n",
       "\t ANC &     8\\\\\n",
       "\t ATL & 16837\\\\\n",
       "\t AUS &  2411\\\\\n",
       "\\end{tabular}\n"
      ],
      "text/markdown": [
       "\n",
       "A tibble: 6 × 2\n",
       "\n",
       "| dest &lt;chr&gt; | n &lt;int&gt; |\n",
       "|---|---|\n",
       "| ABQ |   254 |\n",
       "| ACK |   264 |\n",
       "| ALB |   418 |\n",
       "| ANC |     8 |\n",
       "| ATL | 16837 |\n",
       "| AUS |  2411 |\n",
       "\n"
      ],
      "text/plain": [
       "  dest n    \n",
       "1 ABQ    254\n",
       "2 ACK    264\n",
       "3 ALB    418\n",
       "4 ANC      8\n",
       "5 ATL  16837\n",
       "6 AUS   2411"
      ]
     },
     "metadata": {},
     "output_type": "display_data"
    }
   ],
   "source": [
    "# 因为计数太常用了，所以dplyr提供了一个简单的辅助函数，用于只需要计数的情况：\n",
    "not_cancelled %>% count(dest) %>% head()"
   ]
  },
  {
   "cell_type": "code",
   "execution_count": 97,
   "metadata": {},
   "outputs": [
    {
     "data": {
      "text/html": [
       "<table>\n",
       "<caption>A grouped_df: 6 × 4</caption>\n",
       "<thead>\n",
       "\t<tr><th scope=col>year</th><th scope=col>month</th><th scope=col>day</th><th scope=col>n_early</th></tr>\n",
       "\t<tr><th scope=col>&lt;int&gt;</th><th scope=col>&lt;int&gt;</th><th scope=col>&lt;int&gt;</th><th scope=col>&lt;int&gt;</th></tr>\n",
       "</thead>\n",
       "<tbody>\n",
       "\t<tr><td>2013</td><td>1</td><td>1</td><td>0</td></tr>\n",
       "\t<tr><td>2013</td><td>1</td><td>2</td><td>3</td></tr>\n",
       "\t<tr><td>2013</td><td>1</td><td>3</td><td>4</td></tr>\n",
       "\t<tr><td>2013</td><td>1</td><td>4</td><td>3</td></tr>\n",
       "\t<tr><td>2013</td><td>1</td><td>5</td><td>3</td></tr>\n",
       "\t<tr><td>2013</td><td>1</td><td>6</td><td>2</td></tr>\n",
       "</tbody>\n",
       "</table>\n"
      ],
      "text/latex": [
       "A grouped_df: 6 × 4\n",
       "\\begin{tabular}{r|llll}\n",
       " year & month & day & n\\_early\\\\\n",
       " <int> & <int> & <int> & <int>\\\\\n",
       "\\hline\n",
       "\t 2013 & 1 & 1 & 0\\\\\n",
       "\t 2013 & 1 & 2 & 3\\\\\n",
       "\t 2013 & 1 & 3 & 4\\\\\n",
       "\t 2013 & 1 & 4 & 3\\\\\n",
       "\t 2013 & 1 & 5 & 3\\\\\n",
       "\t 2013 & 1 & 6 & 2\\\\\n",
       "\\end{tabular}\n"
      ],
      "text/markdown": [
       "\n",
       "A grouped_df: 6 × 4\n",
       "\n",
       "| year &lt;int&gt; | month &lt;int&gt; | day &lt;int&gt; | n_early &lt;int&gt; |\n",
       "|---|---|---|---|\n",
       "| 2013 | 1 | 1 | 0 |\n",
       "| 2013 | 1 | 2 | 3 |\n",
       "| 2013 | 1 | 3 | 4 |\n",
       "| 2013 | 1 | 4 | 3 |\n",
       "| 2013 | 1 | 5 | 3 |\n",
       "| 2013 | 1 | 6 | 2 |\n",
       "\n"
      ],
      "text/plain": [
       "  year month day n_early\n",
       "1 2013 1     1   0      \n",
       "2 2013 1     2   3      \n",
       "3 2013 1     3   4      \n",
       "4 2013 1     4   3      \n",
       "5 2013 1     5   3      \n",
       "6 2013 1     6   2      "
      ]
     },
     "metadata": {},
     "output_type": "display_data"
    },
    {
     "data": {
      "text/html": [
       "<table>\n",
       "<caption>A grouped_df: 6 × 4</caption>\n",
       "<thead>\n",
       "\t<tr><th scope=col>year</th><th scope=col>month</th><th scope=col>day</th><th scope=col>hour_perc</th></tr>\n",
       "\t<tr><th scope=col>&lt;int&gt;</th><th scope=col>&lt;int&gt;</th><th scope=col>&lt;int&gt;</th><th scope=col>&lt;dbl&gt;</th></tr>\n",
       "</thead>\n",
       "<tbody>\n",
       "\t<tr><td>2013</td><td>1</td><td>1</td><td>0.07220217</td></tr>\n",
       "\t<tr><td>2013</td><td>1</td><td>2</td><td>0.08512931</td></tr>\n",
       "\t<tr><td>2013</td><td>1</td><td>3</td><td>0.05666667</td></tr>\n",
       "\t<tr><td>2013</td><td>1</td><td>4</td><td>0.03964758</td></tr>\n",
       "\t<tr><td>2013</td><td>1</td><td>5</td><td>0.03486750</td></tr>\n",
       "\t<tr><td>2013</td><td>1</td><td>6</td><td>0.04704463</td></tr>\n",
       "</tbody>\n",
       "</table>\n"
      ],
      "text/latex": [
       "A grouped_df: 6 × 4\n",
       "\\begin{tabular}{r|llll}\n",
       " year & month & day & hour\\_perc\\\\\n",
       " <int> & <int> & <int> & <dbl>\\\\\n",
       "\\hline\n",
       "\t 2013 & 1 & 1 & 0.07220217\\\\\n",
       "\t 2013 & 1 & 2 & 0.08512931\\\\\n",
       "\t 2013 & 1 & 3 & 0.05666667\\\\\n",
       "\t 2013 & 1 & 4 & 0.03964758\\\\\n",
       "\t 2013 & 1 & 5 & 0.03486750\\\\\n",
       "\t 2013 & 1 & 6 & 0.04704463\\\\\n",
       "\\end{tabular}\n"
      ],
      "text/markdown": [
       "\n",
       "A grouped_df: 6 × 4\n",
       "\n",
       "| year &lt;int&gt; | month &lt;int&gt; | day &lt;int&gt; | hour_perc &lt;dbl&gt; |\n",
       "|---|---|---|---|\n",
       "| 2013 | 1 | 1 | 0.07220217 |\n",
       "| 2013 | 1 | 2 | 0.08512931 |\n",
       "| 2013 | 1 | 3 | 0.05666667 |\n",
       "| 2013 | 1 | 4 | 0.03964758 |\n",
       "| 2013 | 1 | 5 | 0.03486750 |\n",
       "| 2013 | 1 | 6 | 0.04704463 |\n",
       "\n"
      ],
      "text/plain": [
       "  year month day hour_perc \n",
       "1 2013 1     1   0.07220217\n",
       "2 2013 1     2   0.08512931\n",
       "3 2013 1     3   0.05666667\n",
       "4 2013 1     4   0.03964758\n",
       "5 2013 1     5   0.03486750\n",
       "6 2013 1     6   0.04704463"
      ]
     },
     "metadata": {},
     "output_type": "display_data"
    }
   ],
   "source": [
    "# 逻辑值的计数和比例\n",
    "not_cancelled %>% group_by(year, month, day) %>% \n",
    "summarise(n_early = sum(dep_time < 500)) %>% head()\n",
    "\n",
    "not_cancelled %>% group_by(year, month, day) %>% \n",
    "summarise(hour_perc = mean(arr_delay > 60)) %>% head()"
   ]
  },
  {
   "cell_type": "code",
   "execution_count": 98,
   "metadata": {},
   "outputs": [
    {
     "data": {
      "text/html": [
       "<table>\n",
       "<caption>A grouped_df: 6 × 4</caption>\n",
       "<thead>\n",
       "\t<tr><th scope=col>year</th><th scope=col>month</th><th scope=col>day</th><th scope=col>flights</th></tr>\n",
       "\t<tr><th scope=col>&lt;int&gt;</th><th scope=col>&lt;int&gt;</th><th scope=col>&lt;int&gt;</th><th scope=col>&lt;int&gt;</th></tr>\n",
       "</thead>\n",
       "<tbody>\n",
       "\t<tr><td>2013</td><td>1</td><td>1</td><td>842</td></tr>\n",
       "\t<tr><td>2013</td><td>1</td><td>2</td><td>943</td></tr>\n",
       "\t<tr><td>2013</td><td>1</td><td>3</td><td>914</td></tr>\n",
       "\t<tr><td>2013</td><td>1</td><td>4</td><td>915</td></tr>\n",
       "\t<tr><td>2013</td><td>1</td><td>5</td><td>720</td></tr>\n",
       "\t<tr><td>2013</td><td>1</td><td>6</td><td>832</td></tr>\n",
       "</tbody>\n",
       "</table>\n"
      ],
      "text/latex": [
       "A grouped_df: 6 × 4\n",
       "\\begin{tabular}{r|llll}\n",
       " year & month & day & flights\\\\\n",
       " <int> & <int> & <int> & <int>\\\\\n",
       "\\hline\n",
       "\t 2013 & 1 & 1 & 842\\\\\n",
       "\t 2013 & 1 & 2 & 943\\\\\n",
       "\t 2013 & 1 & 3 & 914\\\\\n",
       "\t 2013 & 1 & 4 & 915\\\\\n",
       "\t 2013 & 1 & 5 & 720\\\\\n",
       "\t 2013 & 1 & 6 & 832\\\\\n",
       "\\end{tabular}\n"
      ],
      "text/markdown": [
       "\n",
       "A grouped_df: 6 × 4\n",
       "\n",
       "| year &lt;int&gt; | month &lt;int&gt; | day &lt;int&gt; | flights &lt;int&gt; |\n",
       "|---|---|---|---|\n",
       "| 2013 | 1 | 1 | 842 |\n",
       "| 2013 | 1 | 2 | 943 |\n",
       "| 2013 | 1 | 3 | 914 |\n",
       "| 2013 | 1 | 4 | 915 |\n",
       "| 2013 | 1 | 5 | 720 |\n",
       "| 2013 | 1 | 6 | 832 |\n",
       "\n"
      ],
      "text/plain": [
       "  year month day flights\n",
       "1 2013 1     1   842    \n",
       "2 2013 1     2   943    \n",
       "3 2013 1     3   914    \n",
       "4 2013 1     4   915    \n",
       "5 2013 1     5   720    \n",
       "6 2013 1     6   832    "
      ]
     },
     "metadata": {},
     "output_type": "display_data"
    },
    {
     "data": {
      "text/html": [
       "<table>\n",
       "<caption>A tibble: 1 × 1</caption>\n",
       "<thead>\n",
       "\t<tr><th scope=col>flights</th></tr>\n",
       "\t<tr><th scope=col>&lt;int&gt;</th></tr>\n",
       "</thead>\n",
       "<tbody>\n",
       "\t<tr><td>336776</td></tr>\n",
       "</tbody>\n",
       "</table>\n"
      ],
      "text/latex": [
       "A tibble: 1 × 1\n",
       "\\begin{tabular}{r|l}\n",
       " flights\\\\\n",
       " <int>\\\\\n",
       "\\hline\n",
       "\t 336776\\\\\n",
       "\\end{tabular}\n"
      ],
      "text/markdown": [
       "\n",
       "A tibble: 1 × 1\n",
       "\n",
       "| flights &lt;int&gt; |\n",
       "|---|\n",
       "| 336776 |\n",
       "\n"
      ],
      "text/plain": [
       "  flights\n",
       "1 336776 "
      ]
     },
     "metadata": {},
     "output_type": "display_data"
    }
   ],
   "source": [
    "### 取消分组\n",
    "daily <-group_by(flights, year, month, day)\n",
    "head(per_day   <-summarize(daily, flights =n())) \n",
    "daily %>% ungroup() %>% summarize(flights = n()) "
   ]
  },
  {
   "cell_type": "markdown",
   "metadata": {},
   "source": [
    "后面就省略很多了，看书上写的"
   ]
  },
  {
   "cell_type": "code",
   "execution_count": null,
   "metadata": {},
   "outputs": [],
   "source": []
  }
 ],
 "metadata": {
  "kernelspec": {
   "display_name": "R",
   "language": "R",
   "name": "ir"
  },
  "language_info": {
   "codemirror_mode": "r",
   "file_extension": ".r",
   "mimetype": "text/x-r-source",
   "name": "R",
   "pygments_lexer": "r",
   "version": "3.5.2"
  },
  "toc-autonumbering": true
 },
 "nbformat": 4,
 "nbformat_minor": 4
}
