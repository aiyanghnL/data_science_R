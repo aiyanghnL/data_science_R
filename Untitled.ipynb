{
 "cells": [
  {
   "cell_type": "code",
   "execution_count": 1,
   "metadata": {},
   "outputs": [],
   "source": [
    "hp <- read.table(\"hp.csv\",header = T,sep = \",\")"
   ]
  },
  {
   "cell_type": "code",
   "execution_count": 62,
   "metadata": {},
   "outputs": [
    {
     "data": {
      "text/html": [
       "<table>\n",
       "<caption>A data.frame: 15 × 8</caption>\n",
       "<thead>\n",
       "\t<tr><th scope=col>Sample</th><th scope=col>observed_species</th><th scope=col>shannon</th><th scope=col>simpson</th><th scope=col>chao1</th><th scope=col>ACE</th><th scope=col>goods_coverage</th><th scope=col>PD_whole_tree</th></tr>\n",
       "\t<tr><th scope=col>&lt;fct&gt;</th><th scope=col>&lt;int&gt;</th><th scope=col>&lt;dbl&gt;</th><th scope=col>&lt;dbl&gt;</th><th scope=col>&lt;dbl&gt;</th><th scope=col>&lt;dbl&gt;</th><th scope=col>&lt;dbl&gt;</th><th scope=col>&lt;dbl&gt;</th></tr>\n",
       "</thead>\n",
       "<tbody>\n",
       "\t<tr><td>CWB</td><td>2139</td><td>8.217</td><td>0.986</td><td>3209.049</td><td>2462.558</td><td>0.992</td><td>185.989</td></tr>\n",
       "\t<tr><td>CWB</td><td>1982</td><td>8.197</td><td>0.988</td><td>2126.850</td><td>2121.087</td><td>0.996</td><td>177.511</td></tr>\n",
       "\t<tr><td>CWB</td><td>1925</td><td>8.365</td><td>0.991</td><td>2046.026</td><td>2040.442</td><td>0.996</td><td>166.796</td></tr>\n",
       "\t<tr><td>YH </td><td>1458</td><td>7.173</td><td>0.949</td><td>1637.286</td><td>1622.451</td><td>0.996</td><td>132.709</td></tr>\n",
       "\t<tr><td>YH </td><td>1461</td><td>7.550</td><td>0.985</td><td>1592.204</td><td>1601.046</td><td>0.996</td><td>133.500</td></tr>\n",
       "\t<tr><td>YH </td><td>1144</td><td>4.325</td><td>0.679</td><td>1285.984</td><td>1309.131</td><td>0.996</td><td>108.495</td></tr>\n",
       "\t<tr><td>Bar</td><td> 678</td><td>6.262</td><td>0.971</td><td> 737.202</td><td> 747.892</td><td>0.998</td><td> 76.106</td></tr>\n",
       "\t<tr><td>Bar</td><td> 756</td><td>6.871</td><td>0.982</td><td> 825.727</td><td> 832.240</td><td>0.998</td><td> 86.784</td></tr>\n",
       "\t<tr><td>Bar</td><td> 767</td><td>6.787</td><td>0.980</td><td> 808.941</td><td> 821.047</td><td>0.998</td><td> 85.042</td></tr>\n",
       "\t<tr><td>YW </td><td> 402</td><td>1.784</td><td>0.420</td><td> 451.714</td><td> 465.886</td><td>0.999</td><td> 49.019</td></tr>\n",
       "\t<tr><td>YW </td><td> 381</td><td>1.779</td><td>0.419</td><td> 417.076</td><td> 434.272</td><td>0.999</td><td> 49.527</td></tr>\n",
       "\t<tr><td>YW </td><td> 519</td><td>2.475</td><td>0.511</td><td> 572.517</td><td> 584.482</td><td>0.998</td><td> 63.068</td></tr>\n",
       "\t<tr><td>EB </td><td> 867</td><td>5.229</td><td>0.865</td><td> 935.343</td><td> 932.281</td><td>0.998</td><td> 88.707</td></tr>\n",
       "\t<tr><td>EB </td><td> 909</td><td>6.091</td><td>0.929</td><td> 952.545</td><td> 961.399</td><td>0.998</td><td> 91.895</td></tr>\n",
       "\t<tr><td>EB </td><td> 905</td><td>5.981</td><td>0.924</td><td> 964.500</td><td> 971.086</td><td>0.998</td><td> 91.253</td></tr>\n",
       "</tbody>\n",
       "</table>\n"
      ],
      "text/latex": [
       "A data.frame: 15 × 8\n",
       "\\begin{tabular}{r|llllllll}\n",
       " Sample & observed\\_species & shannon & simpson & chao1 & ACE & goods\\_coverage & PD\\_whole\\_tree\\\\\n",
       " <fct> & <int> & <dbl> & <dbl> & <dbl> & <dbl> & <dbl> & <dbl>\\\\\n",
       "\\hline\n",
       "\t CWB & 2139 & 8.217 & 0.986 & 3209.049 & 2462.558 & 0.992 & 185.989\\\\\n",
       "\t CWB & 1982 & 8.197 & 0.988 & 2126.850 & 2121.087 & 0.996 & 177.511\\\\\n",
       "\t CWB & 1925 & 8.365 & 0.991 & 2046.026 & 2040.442 & 0.996 & 166.796\\\\\n",
       "\t YH  & 1458 & 7.173 & 0.949 & 1637.286 & 1622.451 & 0.996 & 132.709\\\\\n",
       "\t YH  & 1461 & 7.550 & 0.985 & 1592.204 & 1601.046 & 0.996 & 133.500\\\\\n",
       "\t YH  & 1144 & 4.325 & 0.679 & 1285.984 & 1309.131 & 0.996 & 108.495\\\\\n",
       "\t Bar &  678 & 6.262 & 0.971 &  737.202 &  747.892 & 0.998 &  76.106\\\\\n",
       "\t Bar &  756 & 6.871 & 0.982 &  825.727 &  832.240 & 0.998 &  86.784\\\\\n",
       "\t Bar &  767 & 6.787 & 0.980 &  808.941 &  821.047 & 0.998 &  85.042\\\\\n",
       "\t YW  &  402 & 1.784 & 0.420 &  451.714 &  465.886 & 0.999 &  49.019\\\\\n",
       "\t YW  &  381 & 1.779 & 0.419 &  417.076 &  434.272 & 0.999 &  49.527\\\\\n",
       "\t YW  &  519 & 2.475 & 0.511 &  572.517 &  584.482 & 0.998 &  63.068\\\\\n",
       "\t EB  &  867 & 5.229 & 0.865 &  935.343 &  932.281 & 0.998 &  88.707\\\\\n",
       "\t EB  &  909 & 6.091 & 0.929 &  952.545 &  961.399 & 0.998 &  91.895\\\\\n",
       "\t EB  &  905 & 5.981 & 0.924 &  964.500 &  971.086 & 0.998 &  91.253\\\\\n",
       "\\end{tabular}\n"
      ],
      "text/markdown": [
       "\n",
       "A data.frame: 15 × 8\n",
       "\n",
       "| Sample &lt;fct&gt; | observed_species &lt;int&gt; | shannon &lt;dbl&gt; | simpson &lt;dbl&gt; | chao1 &lt;dbl&gt; | ACE &lt;dbl&gt; | goods_coverage &lt;dbl&gt; | PD_whole_tree &lt;dbl&gt; |\n",
       "|---|---|---|---|---|---|---|---|\n",
       "| CWB | 2139 | 8.217 | 0.986 | 3209.049 | 2462.558 | 0.992 | 185.989 |\n",
       "| CWB | 1982 | 8.197 | 0.988 | 2126.850 | 2121.087 | 0.996 | 177.511 |\n",
       "| CWB | 1925 | 8.365 | 0.991 | 2046.026 | 2040.442 | 0.996 | 166.796 |\n",
       "| YH  | 1458 | 7.173 | 0.949 | 1637.286 | 1622.451 | 0.996 | 132.709 |\n",
       "| YH  | 1461 | 7.550 | 0.985 | 1592.204 | 1601.046 | 0.996 | 133.500 |\n",
       "| YH  | 1144 | 4.325 | 0.679 | 1285.984 | 1309.131 | 0.996 | 108.495 |\n",
       "| Bar |  678 | 6.262 | 0.971 |  737.202 |  747.892 | 0.998 |  76.106 |\n",
       "| Bar |  756 | 6.871 | 0.982 |  825.727 |  832.240 | 0.998 |  86.784 |\n",
       "| Bar |  767 | 6.787 | 0.980 |  808.941 |  821.047 | 0.998 |  85.042 |\n",
       "| YW  |  402 | 1.784 | 0.420 |  451.714 |  465.886 | 0.999 |  49.019 |\n",
       "| YW  |  381 | 1.779 | 0.419 |  417.076 |  434.272 | 0.999 |  49.527 |\n",
       "| YW  |  519 | 2.475 | 0.511 |  572.517 |  584.482 | 0.998 |  63.068 |\n",
       "| EB  |  867 | 5.229 | 0.865 |  935.343 |  932.281 | 0.998 |  88.707 |\n",
       "| EB  |  909 | 6.091 | 0.929 |  952.545 |  961.399 | 0.998 |  91.895 |\n",
       "| EB  |  905 | 5.981 | 0.924 |  964.500 |  971.086 | 0.998 |  91.253 |\n",
       "\n"
      ],
      "text/plain": [
       "   Sample observed_species shannon simpson chao1    ACE      goods_coverage\n",
       "1  CWB    2139             8.217   0.986   3209.049 2462.558 0.992         \n",
       "2  CWB    1982             8.197   0.988   2126.850 2121.087 0.996         \n",
       "3  CWB    1925             8.365   0.991   2046.026 2040.442 0.996         \n",
       "4  YH     1458             7.173   0.949   1637.286 1622.451 0.996         \n",
       "5  YH     1461             7.550   0.985   1592.204 1601.046 0.996         \n",
       "6  YH     1144             4.325   0.679   1285.984 1309.131 0.996         \n",
       "7  Bar     678             6.262   0.971    737.202  747.892 0.998         \n",
       "8  Bar     756             6.871   0.982    825.727  832.240 0.998         \n",
       "9  Bar     767             6.787   0.980    808.941  821.047 0.998         \n",
       "10 YW      402             1.784   0.420    451.714  465.886 0.999         \n",
       "11 YW      381             1.779   0.419    417.076  434.272 0.999         \n",
       "12 YW      519             2.475   0.511    572.517  584.482 0.998         \n",
       "13 EB      867             5.229   0.865    935.343  932.281 0.998         \n",
       "14 EB      909             6.091   0.929    952.545  961.399 0.998         \n",
       "15 EB      905             5.981   0.924    964.500  971.086 0.998         \n",
       "   PD_whole_tree\n",
       "1  185.989      \n",
       "2  177.511      \n",
       "3  166.796      \n",
       "4  132.709      \n",
       "5  133.500      \n",
       "6  108.495      \n",
       "7   76.106      \n",
       "8   86.784      \n",
       "9   85.042      \n",
       "10  49.019      \n",
       "11  49.527      \n",
       "12  63.068      \n",
       "13  88.707      \n",
       "14  91.895      \n",
       "15  91.253      "
      ]
     },
     "metadata": {},
     "output_type": "display_data"
    }
   ],
   "source": [
    "hp"
   ]
  },
  {
   "cell_type": "code",
   "execution_count": null,
   "metadata": {},
   "outputs": [],
   "source": [
    "meanANDsd <- function(x){\n",
    "    m <- mean(x)\n",
    "    s <- sd(x)\n",
    "    return(c(mean = m, sd = s, ad = paste(m,s,sep = \"±\")))\n",
    "    \n",
    "}\n",
    "\n",
    "alpha <- c(\"observed_species\",\"shannon\",\"simpson\",\"chao1\",\"ACE\",\"goods_coverage\",\"PD_whole_tree\")\n",
    "sapply(hp[alpha],  meanANDsd)"
   ]
  },
  {
   "cell_type": "code",
   "execution_count": 37,
   "metadata": {},
   "outputs": [
    {
     "data": {
      "text/html": [
       "<table>\n",
       "<caption>A data.frame: 5 × 8</caption>\n",
       "<thead>\n",
       "\t<tr><th scope=col>Sample</th><th scope=col>observed_species</th><th scope=col>shannon</th><th scope=col>simpson</th><th scope=col>chao1</th><th scope=col>ACE</th><th scope=col>goods_coverage</th><th scope=col>PD_whole_tree</th></tr>\n",
       "\t<tr><th scope=col>&lt;fct&gt;</th><th scope=col>&lt;dbl&gt;</th><th scope=col>&lt;dbl&gt;</th><th scope=col>&lt;dbl&gt;</th><th scope=col>&lt;dbl&gt;</th><th scope=col>&lt;dbl&gt;</th><th scope=col>&lt;dbl&gt;</th><th scope=col>&lt;dbl&gt;</th></tr>\n",
       "</thead>\n",
       "<tbody>\n",
       "\t<tr><td>Bar</td><td> 733.6667</td><td>6.640000</td><td>0.9776667</td><td> 790.6233</td><td> 800.393</td><td>0.9980000</td><td> 82.64400</td></tr>\n",
       "\t<tr><td>CWB</td><td>2015.3333</td><td>8.259667</td><td>0.9883333</td><td>2460.6417</td><td>2208.029</td><td>0.9946667</td><td>176.76533</td></tr>\n",
       "\t<tr><td>EB </td><td> 893.6667</td><td>5.767000</td><td>0.9060000</td><td> 950.7960</td><td> 954.922</td><td>0.9980000</td><td> 90.61833</td></tr>\n",
       "\t<tr><td>YH </td><td>1354.3333</td><td>6.349333</td><td>0.8710000</td><td>1505.1580</td><td>1510.876</td><td>0.9960000</td><td>124.90133</td></tr>\n",
       "\t<tr><td>YW </td><td> 434.0000</td><td>2.012667</td><td>0.4500000</td><td> 480.4357</td><td> 494.880</td><td>0.9986667</td><td> 53.87133</td></tr>\n",
       "</tbody>\n",
       "</table>\n"
      ],
      "text/latex": [
       "A data.frame: 5 × 8\n",
       "\\begin{tabular}{r|llllllll}\n",
       " Sample & observed\\_species & shannon & simpson & chao1 & ACE & goods\\_coverage & PD\\_whole\\_tree\\\\\n",
       " <fct> & <dbl> & <dbl> & <dbl> & <dbl> & <dbl> & <dbl> & <dbl>\\\\\n",
       "\\hline\n",
       "\t Bar &  733.6667 & 6.640000 & 0.9776667 &  790.6233 &  800.393 & 0.9980000 &  82.64400\\\\\n",
       "\t CWB & 2015.3333 & 8.259667 & 0.9883333 & 2460.6417 & 2208.029 & 0.9946667 & 176.76533\\\\\n",
       "\t EB  &  893.6667 & 5.767000 & 0.9060000 &  950.7960 &  954.922 & 0.9980000 &  90.61833\\\\\n",
       "\t YH  & 1354.3333 & 6.349333 & 0.8710000 & 1505.1580 & 1510.876 & 0.9960000 & 124.90133\\\\\n",
       "\t YW  &  434.0000 & 2.012667 & 0.4500000 &  480.4357 &  494.880 & 0.9986667 &  53.87133\\\\\n",
       "\\end{tabular}\n"
      ],
      "text/markdown": [
       "\n",
       "A data.frame: 5 × 8\n",
       "\n",
       "| Sample &lt;fct&gt; | observed_species &lt;dbl&gt; | shannon &lt;dbl&gt; | simpson &lt;dbl&gt; | chao1 &lt;dbl&gt; | ACE &lt;dbl&gt; | goods_coverage &lt;dbl&gt; | PD_whole_tree &lt;dbl&gt; |\n",
       "|---|---|---|---|---|---|---|---|\n",
       "| Bar |  733.6667 | 6.640000 | 0.9776667 |  790.6233 |  800.393 | 0.9980000 |  82.64400 |\n",
       "| CWB | 2015.3333 | 8.259667 | 0.9883333 | 2460.6417 | 2208.029 | 0.9946667 | 176.76533 |\n",
       "| EB  |  893.6667 | 5.767000 | 0.9060000 |  950.7960 |  954.922 | 0.9980000 |  90.61833 |\n",
       "| YH  | 1354.3333 | 6.349333 | 0.8710000 | 1505.1580 | 1510.876 | 0.9960000 | 124.90133 |\n",
       "| YW  |  434.0000 | 2.012667 | 0.4500000 |  480.4357 |  494.880 | 0.9986667 |  53.87133 |\n",
       "\n"
      ],
      "text/plain": [
       "  Sample observed_species shannon  simpson   chao1     ACE      goods_coverage\n",
       "1 Bar     733.6667        6.640000 0.9776667  790.6233  800.393 0.9980000     \n",
       "2 CWB    2015.3333        8.259667 0.9883333 2460.6417 2208.029 0.9946667     \n",
       "3 EB      893.6667        5.767000 0.9060000  950.7960  954.922 0.9980000     \n",
       "4 YH     1354.3333        6.349333 0.8710000 1505.1580 1510.876 0.9960000     \n",
       "5 YW      434.0000        2.012667 0.4500000  480.4357  494.880 0.9986667     \n",
       "  PD_whole_tree\n",
       "1  82.64400    \n",
       "2 176.76533    \n",
       "3  90.61833    \n",
       "4 124.90133    \n",
       "5  53.87133    "
      ]
     },
     "metadata": {},
     "output_type": "display_data"
    },
    {
     "data": {
      "text/html": [
       "<table>\n",
       "<caption>A data.frame: 5 × 8</caption>\n",
       "<thead>\n",
       "\t<tr><th scope=col>Sample</th><th scope=col>observed_species</th><th scope=col>shannon</th><th scope=col>simpson</th><th scope=col>chao1</th><th scope=col>ACE</th><th scope=col>goods_coverage</th><th scope=col>PD_whole_tree</th></tr>\n",
       "\t<tr><th scope=col>&lt;fct&gt;</th><th scope=col>&lt;dbl&gt;</th><th scope=col>&lt;dbl&gt;</th><th scope=col>&lt;dbl&gt;</th><th scope=col>&lt;dbl&gt;</th><th scope=col>&lt;dbl&gt;</th><th scope=col>&lt;dbl&gt;</th><th scope=col>&lt;dbl&gt;</th></tr>\n",
       "</thead>\n",
       "<tbody>\n",
       "\t<tr><td>Bar</td><td> 48.52147</td><td>0.33004091</td><td>0.005859465</td><td> 47.01937</td><td> 45.81034</td><td>0.0000000000</td><td> 5.728676</td></tr>\n",
       "\t<tr><td>CWB</td><td>110.82569</td><td>0.09176782</td><td>0.002516611</td><td>649.39840</td><td>224.08628</td><td>0.0023094011</td><td> 9.618203</td></tr>\n",
       "\t<tr><td>EB </td><td> 23.18045</td><td>0.46915669</td><td>0.035594943</td><td> 14.65697</td><td> 20.19705</td><td>0.0000000000</td><td> 1.686101</td></tr>\n",
       "\t<tr><td>YH </td><td>182.16019</td><td>1.76322895</td><td>0.167248318</td><td>191.14400</td><td>175.04379</td><td>0.0000000000</td><td>14.213805</td></tr>\n",
       "\t<tr><td>YW </td><td> 74.35725</td><td>0.40040022</td><td>0.052829916</td><td> 81.60378</td><td> 79.19122</td><td>0.0005773503</td><td> 7.968596</td></tr>\n",
       "</tbody>\n",
       "</table>\n"
      ],
      "text/latex": [
       "A data.frame: 5 × 8\n",
       "\\begin{tabular}{r|llllllll}\n",
       " Sample & observed\\_species & shannon & simpson & chao1 & ACE & goods\\_coverage & PD\\_whole\\_tree\\\\\n",
       " <fct> & <dbl> & <dbl> & <dbl> & <dbl> & <dbl> & <dbl> & <dbl>\\\\\n",
       "\\hline\n",
       "\t Bar &  48.52147 & 0.33004091 & 0.005859465 &  47.01937 &  45.81034 & 0.0000000000 &  5.728676\\\\\n",
       "\t CWB & 110.82569 & 0.09176782 & 0.002516611 & 649.39840 & 224.08628 & 0.0023094011 &  9.618203\\\\\n",
       "\t EB  &  23.18045 & 0.46915669 & 0.035594943 &  14.65697 &  20.19705 & 0.0000000000 &  1.686101\\\\\n",
       "\t YH  & 182.16019 & 1.76322895 & 0.167248318 & 191.14400 & 175.04379 & 0.0000000000 & 14.213805\\\\\n",
       "\t YW  &  74.35725 & 0.40040022 & 0.052829916 &  81.60378 &  79.19122 & 0.0005773503 &  7.968596\\\\\n",
       "\\end{tabular}\n"
      ],
      "text/markdown": [
       "\n",
       "A data.frame: 5 × 8\n",
       "\n",
       "| Sample &lt;fct&gt; | observed_species &lt;dbl&gt; | shannon &lt;dbl&gt; | simpson &lt;dbl&gt; | chao1 &lt;dbl&gt; | ACE &lt;dbl&gt; | goods_coverage &lt;dbl&gt; | PD_whole_tree &lt;dbl&gt; |\n",
       "|---|---|---|---|---|---|---|---|\n",
       "| Bar |  48.52147 | 0.33004091 | 0.005859465 |  47.01937 |  45.81034 | 0.0000000000 |  5.728676 |\n",
       "| CWB | 110.82569 | 0.09176782 | 0.002516611 | 649.39840 | 224.08628 | 0.0023094011 |  9.618203 |\n",
       "| EB  |  23.18045 | 0.46915669 | 0.035594943 |  14.65697 |  20.19705 | 0.0000000000 |  1.686101 |\n",
       "| YH  | 182.16019 | 1.76322895 | 0.167248318 | 191.14400 | 175.04379 | 0.0000000000 | 14.213805 |\n",
       "| YW  |  74.35725 | 0.40040022 | 0.052829916 |  81.60378 |  79.19122 | 0.0005773503 |  7.968596 |\n",
       "\n"
      ],
      "text/plain": [
       "  Sample observed_species shannon    simpson     chao1     ACE      \n",
       "1 Bar     48.52147        0.33004091 0.005859465  47.01937  45.81034\n",
       "2 CWB    110.82569        0.09176782 0.002516611 649.39840 224.08628\n",
       "3 EB      23.18045        0.46915669 0.035594943  14.65697  20.19705\n",
       "4 YH     182.16019        1.76322895 0.167248318 191.14400 175.04379\n",
       "5 YW      74.35725        0.40040022 0.052829916  81.60378  79.19122\n",
       "  goods_coverage PD_whole_tree\n",
       "1 0.0000000000    5.728676    \n",
       "2 0.0023094011    9.618203    \n",
       "3 0.0000000000    1.686101    \n",
       "4 0.0000000000   14.213805    \n",
       "5 0.0005773503    7.968596    "
      ]
     },
     "metadata": {},
     "output_type": "display_data"
    }
   ],
   "source": [
    "(x1 <- aggregate(hp[alpha], by=list(Sample = hp$Sample), mean))\n",
    "\n",
    "(x2 <- aggregate(hp[alpha], by=list(Sample = hp$Sample), sd))\n",
    "\n",
    "write_csv(x2,\"hpsd.csv\")"
   ]
  },
  {
   "cell_type": "code",
   "execution_count": 4,
   "metadata": {
    "collapsed": true,
    "jupyter": {
     "outputs_hidden": true
    }
   },
   "outputs": [
    {
     "data": {
      "text/html": [
       "<table>\n",
       "<caption>A tibble: 5 × 2</caption>\n",
       "<thead>\n",
       "\t<tr><th scope=col>Sample</th><th scope=col>sd</th></tr>\n",
       "\t<tr><th scope=col>&lt;fct&gt;</th><th scope=col>&lt;dbl&gt;</th></tr>\n",
       "</thead>\n",
       "<tbody>\n",
       "\t<tr><td>Bar</td><td> 48.52147</td></tr>\n",
       "\t<tr><td>CWB</td><td>110.82569</td></tr>\n",
       "\t<tr><td>EB </td><td> 23.18045</td></tr>\n",
       "\t<tr><td>YH </td><td>182.16019</td></tr>\n",
       "\t<tr><td>YW </td><td> 74.35725</td></tr>\n",
       "</tbody>\n",
       "</table>\n"
      ],
      "text/latex": [
       "A tibble: 5 × 2\n",
       "\\begin{tabular}{r|ll}\n",
       " Sample & sd\\\\\n",
       " <fct> & <dbl>\\\\\n",
       "\\hline\n",
       "\t Bar &  48.52147\\\\\n",
       "\t CWB & 110.82569\\\\\n",
       "\t EB  &  23.18045\\\\\n",
       "\t YH  & 182.16019\\\\\n",
       "\t YW  &  74.35725\\\\\n",
       "\\end{tabular}\n"
      ],
      "text/markdown": [
       "\n",
       "A tibble: 5 × 2\n",
       "\n",
       "| Sample &lt;fct&gt; | sd &lt;dbl&gt; |\n",
       "|---|---|\n",
       "| Bar |  48.52147 |\n",
       "| CWB | 110.82569 |\n",
       "| EB  |  23.18045 |\n",
       "| YH  | 182.16019 |\n",
       "| YW  |  74.35725 |\n",
       "\n"
      ],
      "text/plain": [
       "  Sample sd       \n",
       "1 Bar     48.52147\n",
       "2 CWB    110.82569\n",
       "3 EB      23.18045\n",
       "4 YH     182.16019\n",
       "5 YW      74.35725"
      ]
     },
     "metadata": {},
     "output_type": "display_data"
    },
    {
     "data": {
      "text/html": [
       "<table>\n",
       "<caption>A tibble: 5 × 2</caption>\n",
       "<thead>\n",
       "\t<tr><th scope=col>Sample</th><th scope=col>sd</th></tr>\n",
       "\t<tr><th scope=col>&lt;fct&gt;</th><th scope=col>&lt;dbl&gt;</th></tr>\n",
       "</thead>\n",
       "<tbody>\n",
       "\t<tr><td>Bar</td><td>0.33004091</td></tr>\n",
       "\t<tr><td>CWB</td><td>0.09176782</td></tr>\n",
       "\t<tr><td>EB </td><td>0.46915669</td></tr>\n",
       "\t<tr><td>YH </td><td>1.76322895</td></tr>\n",
       "\t<tr><td>YW </td><td>0.40040022</td></tr>\n",
       "</tbody>\n",
       "</table>\n"
      ],
      "text/latex": [
       "A tibble: 5 × 2\n",
       "\\begin{tabular}{r|ll}\n",
       " Sample & sd\\\\\n",
       " <fct> & <dbl>\\\\\n",
       "\\hline\n",
       "\t Bar & 0.33004091\\\\\n",
       "\t CWB & 0.09176782\\\\\n",
       "\t EB  & 0.46915669\\\\\n",
       "\t YH  & 1.76322895\\\\\n",
       "\t YW  & 0.40040022\\\\\n",
       "\\end{tabular}\n"
      ],
      "text/markdown": [
       "\n",
       "A tibble: 5 × 2\n",
       "\n",
       "| Sample &lt;fct&gt; | sd &lt;dbl&gt; |\n",
       "|---|---|\n",
       "| Bar | 0.33004091 |\n",
       "| CWB | 0.09176782 |\n",
       "| EB  | 0.46915669 |\n",
       "| YH  | 1.76322895 |\n",
       "| YW  | 0.40040022 |\n",
       "\n"
      ],
      "text/plain": [
       "  Sample sd        \n",
       "1 Bar    0.33004091\n",
       "2 CWB    0.09176782\n",
       "3 EB     0.46915669\n",
       "4 YH     1.76322895\n",
       "5 YW     0.40040022"
      ]
     },
     "metadata": {},
     "output_type": "display_data"
    },
    {
     "data": {
      "text/html": [
       "<table>\n",
       "<caption>A tibble: 5 × 2</caption>\n",
       "<thead>\n",
       "\t<tr><th scope=col>Sample</th><th scope=col>sd</th></tr>\n",
       "\t<tr><th scope=col>&lt;fct&gt;</th><th scope=col>&lt;dbl&gt;</th></tr>\n",
       "</thead>\n",
       "<tbody>\n",
       "\t<tr><td>Bar</td><td>0.005859465</td></tr>\n",
       "\t<tr><td>CWB</td><td>0.002516611</td></tr>\n",
       "\t<tr><td>EB </td><td>0.035594943</td></tr>\n",
       "\t<tr><td>YH </td><td>0.167248318</td></tr>\n",
       "\t<tr><td>YW </td><td>0.052829916</td></tr>\n",
       "</tbody>\n",
       "</table>\n"
      ],
      "text/latex": [
       "A tibble: 5 × 2\n",
       "\\begin{tabular}{r|ll}\n",
       " Sample & sd\\\\\n",
       " <fct> & <dbl>\\\\\n",
       "\\hline\n",
       "\t Bar & 0.005859465\\\\\n",
       "\t CWB & 0.002516611\\\\\n",
       "\t EB  & 0.035594943\\\\\n",
       "\t YH  & 0.167248318\\\\\n",
       "\t YW  & 0.052829916\\\\\n",
       "\\end{tabular}\n"
      ],
      "text/markdown": [
       "\n",
       "A tibble: 5 × 2\n",
       "\n",
       "| Sample &lt;fct&gt; | sd &lt;dbl&gt; |\n",
       "|---|---|\n",
       "| Bar | 0.005859465 |\n",
       "| CWB | 0.002516611 |\n",
       "| EB  | 0.035594943 |\n",
       "| YH  | 0.167248318 |\n",
       "| YW  | 0.052829916 |\n",
       "\n"
      ],
      "text/plain": [
       "  Sample sd         \n",
       "1 Bar    0.005859465\n",
       "2 CWB    0.002516611\n",
       "3 EB     0.035594943\n",
       "4 YH     0.167248318\n",
       "5 YW     0.052829916"
      ]
     },
     "metadata": {},
     "output_type": "display_data"
    },
    {
     "data": {
      "text/html": [
       "<table>\n",
       "<caption>A tibble: 5 × 2</caption>\n",
       "<thead>\n",
       "\t<tr><th scope=col>Sample</th><th scope=col>sd</th></tr>\n",
       "\t<tr><th scope=col>&lt;fct&gt;</th><th scope=col>&lt;dbl&gt;</th></tr>\n",
       "</thead>\n",
       "<tbody>\n",
       "\t<tr><td>Bar</td><td> 47.01937</td></tr>\n",
       "\t<tr><td>CWB</td><td>649.39840</td></tr>\n",
       "\t<tr><td>EB </td><td> 14.65697</td></tr>\n",
       "\t<tr><td>YH </td><td>191.14400</td></tr>\n",
       "\t<tr><td>YW </td><td> 81.60378</td></tr>\n",
       "</tbody>\n",
       "</table>\n"
      ],
      "text/latex": [
       "A tibble: 5 × 2\n",
       "\\begin{tabular}{r|ll}\n",
       " Sample & sd\\\\\n",
       " <fct> & <dbl>\\\\\n",
       "\\hline\n",
       "\t Bar &  47.01937\\\\\n",
       "\t CWB & 649.39840\\\\\n",
       "\t EB  &  14.65697\\\\\n",
       "\t YH  & 191.14400\\\\\n",
       "\t YW  &  81.60378\\\\\n",
       "\\end{tabular}\n"
      ],
      "text/markdown": [
       "\n",
       "A tibble: 5 × 2\n",
       "\n",
       "| Sample &lt;fct&gt; | sd &lt;dbl&gt; |\n",
       "|---|---|\n",
       "| Bar |  47.01937 |\n",
       "| CWB | 649.39840 |\n",
       "| EB  |  14.65697 |\n",
       "| YH  | 191.14400 |\n",
       "| YW  |  81.60378 |\n",
       "\n"
      ],
      "text/plain": [
       "  Sample sd       \n",
       "1 Bar     47.01937\n",
       "2 CWB    649.39840\n",
       "3 EB      14.65697\n",
       "4 YH     191.14400\n",
       "5 YW      81.60378"
      ]
     },
     "metadata": {},
     "output_type": "display_data"
    },
    {
     "data": {
      "text/html": [
       "<table>\n",
       "<caption>A tibble: 5 × 2</caption>\n",
       "<thead>\n",
       "\t<tr><th scope=col>Sample</th><th scope=col>sd</th></tr>\n",
       "\t<tr><th scope=col>&lt;fct&gt;</th><th scope=col>&lt;dbl&gt;</th></tr>\n",
       "</thead>\n",
       "<tbody>\n",
       "\t<tr><td>Bar</td><td> 45.81034</td></tr>\n",
       "\t<tr><td>CWB</td><td>224.08628</td></tr>\n",
       "\t<tr><td>EB </td><td> 20.19705</td></tr>\n",
       "\t<tr><td>YH </td><td>175.04379</td></tr>\n",
       "\t<tr><td>YW </td><td> 79.19122</td></tr>\n",
       "</tbody>\n",
       "</table>\n"
      ],
      "text/latex": [
       "A tibble: 5 × 2\n",
       "\\begin{tabular}{r|ll}\n",
       " Sample & sd\\\\\n",
       " <fct> & <dbl>\\\\\n",
       "\\hline\n",
       "\t Bar &  45.81034\\\\\n",
       "\t CWB & 224.08628\\\\\n",
       "\t EB  &  20.19705\\\\\n",
       "\t YH  & 175.04379\\\\\n",
       "\t YW  &  79.19122\\\\\n",
       "\\end{tabular}\n"
      ],
      "text/markdown": [
       "\n",
       "A tibble: 5 × 2\n",
       "\n",
       "| Sample &lt;fct&gt; | sd &lt;dbl&gt; |\n",
       "|---|---|\n",
       "| Bar |  45.81034 |\n",
       "| CWB | 224.08628 |\n",
       "| EB  |  20.19705 |\n",
       "| YH  | 175.04379 |\n",
       "| YW  |  79.19122 |\n",
       "\n"
      ],
      "text/plain": [
       "  Sample sd       \n",
       "1 Bar     45.81034\n",
       "2 CWB    224.08628\n",
       "3 EB      20.19705\n",
       "4 YH     175.04379\n",
       "5 YW      79.19122"
      ]
     },
     "metadata": {},
     "output_type": "display_data"
    },
    {
     "data": {
      "text/html": [
       "<table>\n",
       "<caption>A tibble: 5 × 2</caption>\n",
       "<thead>\n",
       "\t<tr><th scope=col>Sample</th><th scope=col>sd</th></tr>\n",
       "\t<tr><th scope=col>&lt;fct&gt;</th><th scope=col>&lt;dbl&gt;</th></tr>\n",
       "</thead>\n",
       "<tbody>\n",
       "\t<tr><td>Bar</td><td>0.0000000000</td></tr>\n",
       "\t<tr><td>CWB</td><td>0.0023094011</td></tr>\n",
       "\t<tr><td>EB </td><td>0.0000000000</td></tr>\n",
       "\t<tr><td>YH </td><td>0.0000000000</td></tr>\n",
       "\t<tr><td>YW </td><td>0.0005773503</td></tr>\n",
       "</tbody>\n",
       "</table>\n"
      ],
      "text/latex": [
       "A tibble: 5 × 2\n",
       "\\begin{tabular}{r|ll}\n",
       " Sample & sd\\\\\n",
       " <fct> & <dbl>\\\\\n",
       "\\hline\n",
       "\t Bar & 0.0000000000\\\\\n",
       "\t CWB & 0.0023094011\\\\\n",
       "\t EB  & 0.0000000000\\\\\n",
       "\t YH  & 0.0000000000\\\\\n",
       "\t YW  & 0.0005773503\\\\\n",
       "\\end{tabular}\n"
      ],
      "text/markdown": [
       "\n",
       "A tibble: 5 × 2\n",
       "\n",
       "| Sample &lt;fct&gt; | sd &lt;dbl&gt; |\n",
       "|---|---|\n",
       "| Bar | 0.0000000000 |\n",
       "| CWB | 0.0023094011 |\n",
       "| EB  | 0.0000000000 |\n",
       "| YH  | 0.0000000000 |\n",
       "| YW  | 0.0005773503 |\n",
       "\n"
      ],
      "text/plain": [
       "  Sample sd          \n",
       "1 Bar    0.0000000000\n",
       "2 CWB    0.0023094011\n",
       "3 EB     0.0000000000\n",
       "4 YH     0.0000000000\n",
       "5 YW     0.0005773503"
      ]
     },
     "metadata": {},
     "output_type": "display_data"
    },
    {
     "data": {
      "text/html": [
       "<table>\n",
       "<caption>A tibble: 5 × 2</caption>\n",
       "<thead>\n",
       "\t<tr><th scope=col>Sample</th><th scope=col>sd</th></tr>\n",
       "\t<tr><th scope=col>&lt;fct&gt;</th><th scope=col>&lt;dbl&gt;</th></tr>\n",
       "</thead>\n",
       "<tbody>\n",
       "\t<tr><td>Bar</td><td> 5.728676</td></tr>\n",
       "\t<tr><td>CWB</td><td> 9.618203</td></tr>\n",
       "\t<tr><td>EB </td><td> 1.686101</td></tr>\n",
       "\t<tr><td>YH </td><td>14.213805</td></tr>\n",
       "\t<tr><td>YW </td><td> 7.968596</td></tr>\n",
       "</tbody>\n",
       "</table>\n"
      ],
      "text/latex": [
       "A tibble: 5 × 2\n",
       "\\begin{tabular}{r|ll}\n",
       " Sample & sd\\\\\n",
       " <fct> & <dbl>\\\\\n",
       "\\hline\n",
       "\t Bar &  5.728676\\\\\n",
       "\t CWB &  9.618203\\\\\n",
       "\t EB  &  1.686101\\\\\n",
       "\t YH  & 14.213805\\\\\n",
       "\t YW  &  7.968596\\\\\n",
       "\\end{tabular}\n"
      ],
      "text/markdown": [
       "\n",
       "A tibble: 5 × 2\n",
       "\n",
       "| Sample &lt;fct&gt; | sd &lt;dbl&gt; |\n",
       "|---|---|\n",
       "| Bar |  5.728676 |\n",
       "| CWB |  9.618203 |\n",
       "| EB  |  1.686101 |\n",
       "| YH  | 14.213805 |\n",
       "| YW  |  7.968596 |\n",
       "\n"
      ],
      "text/plain": [
       "  Sample sd       \n",
       "1 Bar     5.728676\n",
       "2 CWB     9.618203\n",
       "3 EB      1.686101\n",
       "4 YH     14.213805\n",
       "5 YW      7.968596"
      ]
     },
     "metadata": {},
     "output_type": "display_data"
    }
   ],
   "source": [
    "\n",
    "by_all <- group_by(hp, Sample)\n",
    "summarise(by_all, sd = sd(observed_species))\n",
    "summarise(by_all, sd = sd(shannon))\n",
    "summarise(by_all, sd = sd(simpson))\n",
    "summarise(by_all, sd = sd(chao1))\n",
    "summarise(by_all, sd = sd(ACE))\n",
    "summarise(by_all, sd = sd(goods_coverage))\n",
    "summarise(by_all, sd = sd(PD_whole_tree))\n",
    "\n",
    "\n",
    "# summarise(by_all, sd = sd(c(\"observed_species\",\"shannon\",\"simpson\",\"chao1\",\"ACE\",\"goods_coverage\",\"PD_whole_tree\")))"
   ]
  },
  {
   "cell_type": "code",
   "execution_count": 5,
   "metadata": {},
   "outputs": [
    {
     "data": {
      "text/plain": [
       "\n",
       "Bar CWB  EB  YH  YW \n",
       "  3   3   3   3   3 "
      ]
     },
     "metadata": {},
     "output_type": "display_data"
    },
    {
     "data": {
      "text/html": [
       "<table>\n",
       "<caption>A data.frame: 5 × 2</caption>\n",
       "<thead>\n",
       "\t<tr><th scope=col>Group.1</th><th scope=col>x</th></tr>\n",
       "\t<tr><th scope=col>&lt;fct&gt;</th><th scope=col>&lt;dbl&gt;</th></tr>\n",
       "</thead>\n",
       "<tbody>\n",
       "\t<tr><td>Bar</td><td> 45.81034</td></tr>\n",
       "\t<tr><td>CWB</td><td>224.08628</td></tr>\n",
       "\t<tr><td>EB </td><td> 20.19705</td></tr>\n",
       "\t<tr><td>YH </td><td>175.04379</td></tr>\n",
       "\t<tr><td>YW </td><td> 79.19122</td></tr>\n",
       "</tbody>\n",
       "</table>\n"
      ],
      "text/latex": [
       "A data.frame: 5 × 2\n",
       "\\begin{tabular}{r|ll}\n",
       " Group.1 & x\\\\\n",
       " <fct> & <dbl>\\\\\n",
       "\\hline\n",
       "\t Bar &  45.81034\\\\\n",
       "\t CWB & 224.08628\\\\\n",
       "\t EB  &  20.19705\\\\\n",
       "\t YH  & 175.04379\\\\\n",
       "\t YW  &  79.19122\\\\\n",
       "\\end{tabular}\n"
      ],
      "text/markdown": [
       "\n",
       "A data.frame: 5 × 2\n",
       "\n",
       "| Group.1 &lt;fct&gt; | x &lt;dbl&gt; |\n",
       "|---|---|\n",
       "| Bar |  45.81034 |\n",
       "| CWB | 224.08628 |\n",
       "| EB  |  20.19705 |\n",
       "| YH  | 175.04379 |\n",
       "| YW  |  79.19122 |\n",
       "\n"
      ],
      "text/plain": [
       "  Group.1 x        \n",
       "1 Bar      45.81034\n",
       "2 CWB     224.08628\n",
       "3 EB       20.19705\n",
       "4 YH      175.04379\n",
       "5 YW       79.19122"
      ]
     },
     "metadata": {},
     "output_type": "display_data"
    }
   ],
   "source": [
    "table(hp$Sample)\n",
    "aggregate(hp$ACE,by = list(hp$Sample), sd)"
   ]
  },
  {
   "cell_type": "code",
   "execution_count": 6,
   "metadata": {},
   "outputs": [],
   "source": [
    "attach(hp)"
   ]
  },
  {
   "cell_type": "code",
   "execution_count": 10,
   "metadata": {},
   "outputs": [
    {
     "name": "stderr",
     "output_type": "stream",
     "text": [
      "Loading required package: mvtnorm\n",
      "Loading required package: survival\n",
      "Loading required package: TH.data\n",
      "Loading required package: MASS\n",
      "\n",
      "Attaching package: ‘MASS’\n",
      "\n",
      "The following object is masked from ‘package:dplyr’:\n",
      "\n",
      "    select\n",
      "\n",
      "\n",
      "Attaching package: ‘TH.data’\n",
      "\n",
      "The following object is masked from ‘package:MASS’:\n",
      "\n",
      "    geyser\n",
      "\n"
     ]
    }
   ],
   "source": [
    "library(multcomp)"
   ]
  },
  {
   "cell_type": "code",
   "execution_count": 65,
   "metadata": {},
   "outputs": [
    {
     "data": {
      "text/plain": [
       "\n",
       "\t Simultaneous Tests for General Linear Hypotheses\n",
       "\n",
       "Multiple Comparisons of Means: Tukey Contrasts\n",
       "\n",
       "\n",
       "Fit: aov(formula = shannon ~ Sample, data = hp)\n",
       "\n",
       "Linear Hypotheses:\n",
       "               Estimate Std. Error t value Pr(>|t|)    \n",
       "CWB - Bar == 0   1.6197     0.6935   2.336  0.21071    \n",
       "EB - Bar == 0   -0.8730     0.6935  -1.259  0.71997    \n",
       "YH - Bar == 0   -0.2907     0.6935  -0.419  0.99250    \n",
       "YW - Bar == 0   -4.6273     0.6935  -6.673  < 0.001 ***\n",
       "EB - CWB == 0   -2.4927     0.6935  -3.594  0.03117 *  \n",
       "YH - CWB == 0   -1.9103     0.6935  -2.755  0.11400    \n",
       "YW - CWB == 0   -6.2470     0.6935  -9.008  < 0.001 ***\n",
       "YH - EB == 0     0.5823     0.6935   0.840  0.91200    \n",
       "YW - EB == 0    -3.7543     0.6935  -5.414  0.00213 ** \n",
       "YW - YH == 0    -4.3367     0.6935  -6.254  < 0.001 ***\n",
       "---\n",
       "Signif. codes:  0 ‘***’ 0.001 ‘**’ 0.01 ‘*’ 0.05 ‘.’ 0.1 ‘ ’ 1\n",
       "(Adjusted p values reported -- single-step method)\n"
      ]
     },
     "metadata": {},
     "output_type": "display_data"
    },
    {
     "name": "stdout",
     "output_type": "stream",
     "text": [
      "List of 10\n",
      " $ model      :List of 13\n",
      "  ..$ coefficients : Named num [1:5] 6.64 1.62 -0.873 -0.291 -4.627\n",
      "  .. ..- attr(*, \"names\")= chr [1:5] \"(Intercept)\" \"SampleCWB\" \"SampleEB\" \"SampleYH\" ...\n",
      "  ..$ residuals    : Named num [1:15] -0.0427 -0.0627 0.1053 0.8237 1.2007 ...\n",
      "  .. ..- attr(*, \"names\")= chr [1:15] \"1\" \"2\" \"3\" \"4\" ...\n",
      "  ..$ effects      : Named num [1:15] -22.49 -4.75 -1.15 -2.86 -5.67 ...\n",
      "  .. ..- attr(*, \"names\")= chr [1:15] \"(Intercept)\" \"SampleCWB\" \"SampleEB\" \"SampleYH\" ...\n",
      "  ..$ rank         : int 5\n",
      "  ..$ fitted.values: Named num [1:15] 8.26 8.26 8.26 6.35 6.35 ...\n",
      "  .. ..- attr(*, \"names\")= chr [1:15] \"1\" \"2\" \"3\" \"4\" ...\n",
      "  ..$ assign       : int [1:5] 0 1 1 1 1\n",
      "  ..$ qr           :List of 5\n",
      "  .. ..$ qr   : num [1:15, 1:5] -3.873 0.258 0.258 0.258 0.258 ...\n",
      "  .. .. ..- attr(*, \"dimnames\")=List of 2\n",
      "  .. .. .. ..$ : chr [1:15] \"1\" \"2\" \"3\" \"4\" ...\n",
      "  .. .. .. ..$ : chr [1:5] \"(Intercept)\" \"SampleCWB\" \"SampleEB\" \"SampleYH\" ...\n",
      "  .. .. ..- attr(*, \"assign\")= int [1:5] 0 1 1 1 1\n",
      "  .. .. ..- attr(*, \"contrasts\")=List of 1\n",
      "  .. .. .. ..$ Sample: chr \"contr.treatment\"\n",
      "  .. ..$ qraux: num [1:5] 1.26 1.41 1 1.47 1\n",
      "  .. ..$ pivot: int [1:5] 1 2 3 4 5\n",
      "  .. ..$ tol  : num 1e-07\n",
      "  .. ..$ rank : int 5\n",
      "  .. ..- attr(*, \"class\")= chr \"qr\"\n",
      "  ..$ df.residual  : int 10\n",
      "  ..$ contrasts    :List of 1\n",
      "  .. ..$ Sample: chr \"contr.treatment\"\n",
      "  ..$ xlevels      :List of 1\n",
      "  .. ..$ Sample: chr [1:5] \"Bar\" \"CWB\" \"EB\" \"YH\" ...\n",
      "  ..$ call         : language aov(formula = shannon ~ Sample, data = hp)\n",
      "  ..$ terms        :Classes 'terms', 'formula'  language shannon ~ Sample\n",
      "  .. .. ..- attr(*, \"variables\")= language list(shannon, Sample)\n",
      "  .. .. ..- attr(*, \"factors\")= int [1:2, 1] 0 1\n",
      "  .. .. .. ..- attr(*, \"dimnames\")=List of 2\n",
      "  .. .. .. .. ..$ : chr [1:2] \"shannon\" \"Sample\"\n",
      "  .. .. .. .. ..$ : chr \"Sample\"\n",
      "  .. .. ..- attr(*, \"term.labels\")= chr \"Sample\"\n",
      "  .. .. ..- attr(*, \"order\")= int 1\n",
      "  .. .. ..- attr(*, \"intercept\")= int 1\n",
      "  .. .. ..- attr(*, \"response\")= int 1\n",
      "  .. .. ..- attr(*, \".Environment\")=<environment: R_GlobalEnv> \n",
      "  .. .. ..- attr(*, \"predvars\")= language list(shannon, Sample)\n",
      "  .. .. ..- attr(*, \"dataClasses\")= Named chr [1:2] \"numeric\" \"factor\"\n",
      "  .. .. .. ..- attr(*, \"names\")= chr [1:2] \"shannon\" \"Sample\"\n",
      "  ..$ model        :'data.frame':\t15 obs. of  2 variables:\n",
      "  .. ..$ shannon: num [1:15] 8.22 8.2 8.37 7.17 7.55 ...\n",
      "  .. ..$ Sample : Factor w/ 5 levels \"Bar\",\"CWB\",\"EB\",..: 2 2 2 4 4 4 1 1 1 5 ...\n",
      "  .. ..- attr(*, \"terms\")=Classes 'terms', 'formula'  language shannon ~ Sample\n",
      "  .. .. .. ..- attr(*, \"variables\")= language list(shannon, Sample)\n",
      "  .. .. .. ..- attr(*, \"factors\")= int [1:2, 1] 0 1\n",
      "  .. .. .. .. ..- attr(*, \"dimnames\")=List of 2\n",
      "  .. .. .. .. .. ..$ : chr [1:2] \"shannon\" \"Sample\"\n",
      "  .. .. .. .. .. ..$ : chr \"Sample\"\n",
      "  .. .. .. ..- attr(*, \"term.labels\")= chr \"Sample\"\n",
      "  .. .. .. ..- attr(*, \"order\")= int 1\n",
      "  .. .. .. ..- attr(*, \"intercept\")= int 1\n",
      "  .. .. .. ..- attr(*, \"response\")= int 1\n",
      "  .. .. .. ..- attr(*, \".Environment\")=<environment: R_GlobalEnv> \n",
      "  .. .. .. ..- attr(*, \"predvars\")= language list(shannon, Sample)\n",
      "  .. .. .. ..- attr(*, \"dataClasses\")= Named chr [1:2] \"numeric\" \"factor\"\n",
      "  .. .. .. .. ..- attr(*, \"names\")= chr [1:2] \"shannon\" \"Sample\"\n",
      "  ..- attr(*, \"class\")= chr [1:2] \"aov\" \"lm\"\n",
      " $ linfct     : num [1:10, 1:5] 0 0 0 0 0 0 0 0 0 0 ...\n",
      "  ..- attr(*, \"dimnames\")=List of 2\n",
      "  .. ..$ : Named chr [1:10] \"CWB - Bar\" \"EB - Bar\" \"YH - Bar\" \"YW - Bar\" ...\n",
      "  .. .. ..- attr(*, \"names\")= chr [1:10] \"Sample1\" \"Sample2\" \"Sample3\" \"Sample4\" ...\n",
      "  .. ..$ : chr [1:5] \"(Intercept)\" \"SampleCWB\" \"SampleEB\" \"SampleYH\" ...\n",
      "  ..- attr(*, \"type\")= chr \"Tukey\"\n",
      " $ rhs        : num [1:10] 0 0 0 0 0 0 0 0 0 0\n",
      " $ coef       : Named num [1:5] 6.64 1.62 -0.873 -0.291 -4.627\n",
      "  ..- attr(*, \"names\")= chr [1:5] \"(Intercept)\" \"SampleCWB\" \"SampleEB\" \"SampleYH\" ...\n",
      " $ vcov       : num [1:5, 1:5] 0.24 -0.24 -0.24 -0.24 -0.24 ...\n",
      "  ..- attr(*, \"dimnames\")=List of 2\n",
      "  .. ..$ : chr [1:5] \"(Intercept)\" \"SampleCWB\" \"SampleEB\" \"SampleYH\" ...\n",
      "  .. ..$ : chr [1:5] \"(Intercept)\" \"SampleCWB\" \"SampleEB\" \"SampleYH\" ...\n",
      " $ df         : int 10\n",
      " $ alternative: chr \"two.sided\"\n",
      " $ type       : chr \"Tukey\"\n",
      " $ focus      : chr \"Sample\"\n",
      " $ test       :List of 7\n",
      "  ..$ pfunction   :function (type = c(\"univariate\", \"adjusted\", p.adjust.methods), ...)  \n",
      "  ..$ qfunction   :function (conf.level, adjusted = TRUE, ...)  \n",
      "  ..$ coefficients: Named num [1:10] 1.62 -0.873 -0.291 -4.627 -2.493 ...\n",
      "  .. ..- attr(*, \"names\")= chr [1:10] \"CWB - Bar\" \"EB - Bar\" \"YH - Bar\" \"YW - Bar\" ...\n",
      "  ..$ sigma       : Named num [1:10] 0.693 0.693 0.693 0.693 0.693 ...\n",
      "  .. ..- attr(*, \"names\")= chr [1:10] \"CWB - Bar\" \"EB - Bar\" \"YH - Bar\" \"YW - Bar\" ...\n",
      "  ..$ tstat       : Named num [1:10] 2.336 -1.259 -0.419 -6.673 -3.594 ...\n",
      "  .. ..- attr(*, \"names\")= chr [1:10] \"CWB - Bar\" \"EB - Bar\" \"YH - Bar\" \"YW - Bar\" ...\n",
      "  ..$ pvalues     : num [1:10] 0.210708 0.719966 0.9925 0.000378 0.031175 ...\n",
      "  .. ..- attr(*, \"error\")= num 0.000307\n",
      "  ..$ type        : chr \"single-step\"\n",
      "  ..- attr(*, \"class\")= chr \"mtest\"\n",
      " - attr(*, \"class\")= chr [1:2] \"summary.glht\" \"glht\"\n"
     ]
    }
   ],
   "source": [
    "fit <- aov(shannon~Sample,data = hp)#  %>%\n",
    "# summary()\n",
    "# TukeyHSD()\n",
    "tuk <- glht(fit, linfct = mcp(Sample = \"Tukey\")) # %>%\n",
    "(xx <- summary(tuk))\n",
    "\n",
    "\n",
    "# write_file(xx,\"shanaov.txt\")"
   ]
  },
  {
   "cell_type": "code",
   "execution_count": 17,
   "metadata": {},
   "outputs": [
    {
     "data": {
      "text/plain": [
       "\n",
       "\t Simultaneous Tests for General Linear Hypotheses\n",
       "\n",
       "Multiple Comparisons of Means: Tukey Contrasts\n",
       "\n",
       "\n",
       "Fit: aov(formula = observed_species ~ Sample, data = hp)\n",
       "\n",
       "Linear Hypotheses:\n",
       "               Estimate Std. Error t value Pr(>|t|)    \n",
       "CWB - Bar == 0  1281.67      84.76  15.121  < 1e-04 ***\n",
       "EB - Bar == 0    160.00      84.76   1.888 0.381635    \n",
       "YH - Bar == 0    620.67      84.76   7.322 0.000164 ***\n",
       "YW - Bar == 0   -299.67      84.76  -3.535 0.034203 *  \n",
       "EB - CWB == 0  -1121.67      84.76 -13.233  < 1e-04 ***\n",
       "YH - CWB == 0   -661.00      84.76  -7.798 0.000123 ***\n",
       "YW - CWB == 0  -1581.33      84.76 -18.656  < 1e-04 ***\n",
       "YH - EB == 0     460.67      84.76   5.435 0.002094 ** \n",
       "YW - EB == 0    -459.67      84.76  -5.423 0.002090 ** \n",
       "YW - YH == 0    -920.33      84.76 -10.858  < 1e-04 ***\n",
       "---\n",
       "Signif. codes:  0 ‘***’ 0.001 ‘**’ 0.01 ‘*’ 0.05 ‘.’ 0.1 ‘ ’ 1\n",
       "(Adjusted p values reported -- single-step method)\n"
      ]
     },
     "metadata": {},
     "output_type": "display_data"
    }
   ],
   "source": [
    "aov(observed_species~Sample,data = hp) %>%\n",
    "# summary()\n",
    "# TukeyHSD()\n",
    "glht(linfct = mcp(Sample = \"Tukey\")) %>%\n",
    "summary()"
   ]
  },
  {
   "cell_type": "code",
   "execution_count": 18,
   "metadata": {},
   "outputs": [
    {
     "data": {
      "text/plain": [
       "\n",
       "\t Simultaneous Tests for General Linear Hypotheses\n",
       "\n",
       "Multiple Comparisons of Means: Tukey Contrasts\n",
       "\n",
       "\n",
       "Fit: aov(formula = simpson ~ Sample, data = hp)\n",
       "\n",
       "Linear Hypotheses:\n",
       "               Estimate Std. Error t value Pr(>|t|)    \n",
       "CWB - Bar == 0  0.01067    0.06539   0.163 0.999811    \n",
       "EB - Bar == 0  -0.07167    0.06539  -1.096 0.804930    \n",
       "YH - Bar == 0  -0.10667    0.06539  -1.631 0.511841    \n",
       "YW - Bar == 0  -0.52767    0.06539  -8.069 0.000101 ***\n",
       "EB - CWB == 0  -0.08233    0.06539  -1.259 0.719873    \n",
       "YH - CWB == 0  -0.11733    0.06539  -1.794 0.426702    \n",
       "YW - CWB == 0  -0.53833    0.06539  -8.232  < 1e-04 ***\n",
       "YH - EB == 0   -0.03500    0.06539  -0.535 0.981395    \n",
       "YW - EB == 0   -0.45600    0.06539  -6.973 0.000247 ***\n",
       "YW - YH == 0   -0.42100    0.06539  -6.438 0.000534 ***\n",
       "---\n",
       "Signif. codes:  0 ‘***’ 0.001 ‘**’ 0.01 ‘*’ 0.05 ‘.’ 0.1 ‘ ’ 1\n",
       "(Adjusted p values reported -- single-step method)\n"
      ]
     },
     "metadata": {},
     "output_type": "display_data"
    }
   ],
   "source": [
    "aov(simpson~Sample,data = hp) %>%\n",
    "# summary()\n",
    "# TukeyHSD()\n",
    "glht(linfct = mcp(Sample = \"Tukey\")) %>%\n",
    "summary()"
   ]
  },
  {
   "cell_type": "code",
   "execution_count": 19,
   "metadata": {},
   "outputs": [
    {
     "data": {
      "text/plain": [
       "\n",
       "\t Simultaneous Tests for General Linear Hypotheses\n",
       "\n",
       "Multiple Comparisons of Means: Tukey Contrasts\n",
       "\n",
       "\n",
       "Fit: aov(formula = chao1 ~ Sample, data = hp)\n",
       "\n",
       "Linear Hypotheses:\n",
       "               Estimate Std. Error t value Pr(>|t|)    \n",
       "CWB - Bar == 0   1670.0      249.6   6.690   <0.001 ***\n",
       "EB - Bar == 0     160.2      249.6   0.642   0.9644    \n",
       "YH - Bar == 0     714.5      249.6   2.862   0.0968 .  \n",
       "YW - Bar == 0    -310.2      249.6  -1.243   0.7288    \n",
       "EB - CWB == 0   -1509.8      249.6  -6.048   <0.001 ***\n",
       "YH - CWB == 0    -955.5      249.6  -3.828   0.0218 *  \n",
       "YW - CWB == 0   -1980.2      249.6  -7.933   <0.001 ***\n",
       "YH - EB == 0      554.4      249.6   2.221   0.2473    \n",
       "YW - EB == 0     -470.4      249.6  -1.884   0.3832    \n",
       "YW - YH == 0    -1024.7      249.6  -4.105   0.0141 *  \n",
       "---\n",
       "Signif. codes:  0 ‘***’ 0.001 ‘**’ 0.01 ‘*’ 0.05 ‘.’ 0.1 ‘ ’ 1\n",
       "(Adjusted p values reported -- single-step method)\n"
      ]
     },
     "metadata": {},
     "output_type": "display_data"
    }
   ],
   "source": [
    "aov(chao1~Sample,data = hp) %>%\n",
    "# summary()\n",
    "# TukeyHSD()\n",
    "glht(linfct = mcp(Sample = \"Tukey\")) %>%\n",
    "summary()"
   ]
  },
  {
   "cell_type": "code",
   "execution_count": 20,
   "metadata": {},
   "outputs": [
    {
     "data": {
      "text/plain": [
       "\n",
       "\t Simultaneous Tests for General Linear Hypotheses\n",
       "\n",
       "Multiple Comparisons of Means: Tukey Contrasts\n",
       "\n",
       "\n",
       "Fit: aov(formula = ACE ~ Sample, data = hp)\n",
       "\n",
       "Linear Hypotheses:\n",
       "               Estimate Std. Error t value Pr(>|t|)    \n",
       "CWB - Bar == 0   1407.6      109.3  12.876  < 1e-04 ***\n",
       "EB - Bar == 0     154.5      109.3   1.414 0.633433    \n",
       "YH - Bar == 0     710.5      109.3   6.499 0.000544 ***\n",
       "YW - Bar == 0    -305.5      109.3  -2.795 0.107353    \n",
       "EB - CWB == 0   -1253.1      109.3 -11.463  < 1e-04 ***\n",
       "YH - CWB == 0    -697.2      109.3  -6.377 0.000581 ***\n",
       "YW - CWB == 0   -1713.1      109.3 -15.671  < 1e-04 ***\n",
       "YH - EB == 0      556.0      109.3   5.086 0.003343 ** \n",
       "YW - EB == 0     -460.0      109.3  -4.208 0.012183 *  \n",
       "YW - YH == 0    -1016.0      109.3  -9.294  < 1e-04 ***\n",
       "---\n",
       "Signif. codes:  0 ‘***’ 0.001 ‘**’ 0.01 ‘*’ 0.05 ‘.’ 0.1 ‘ ’ 1\n",
       "(Adjusted p values reported -- single-step method)\n"
      ]
     },
     "metadata": {},
     "output_type": "display_data"
    }
   ],
   "source": [
    "aov(ACE~Sample,data = hp) %>%\n",
    "# summary()\n",
    "# TukeyHSD()\n",
    "glht(linfct = mcp(Sample = \"Tukey\")) %>%\n",
    "summary()"
   ]
  },
  {
   "cell_type": "code",
   "execution_count": 23,
   "metadata": {},
   "outputs": [],
   "source": [
    "detach(hp)"
   ]
  },
  {
   "cell_type": "code",
   "execution_count": null,
   "metadata": {},
   "outputs": [],
   "source": [
    "# install.packages(\"multcomp\")\n",
    "library(multcomp)\n",
    "attach(hp)\n",
    "aov(ACE~Sample,data = hp) %>%\n",
    "# summary()\n",
    "# TukeyHSD()\n",
    "glht(linfct = mcp(Sample = \"Tukey\")) %>%\n",
    "summary()\n",
    "detach(hp)\n"
   ]
  }
 ],
 "metadata": {
  "kernelspec": {
   "display_name": "R",
   "language": "R",
   "name": "ir"
  },
  "language_info": {
   "codemirror_mode": "r",
   "file_extension": ".r",
   "mimetype": "text/x-r-source",
   "name": "R",
   "pygments_lexer": "r",
   "version": "3.5.2"
  }
 },
 "nbformat": 4,
 "nbformat_minor": 4
}
