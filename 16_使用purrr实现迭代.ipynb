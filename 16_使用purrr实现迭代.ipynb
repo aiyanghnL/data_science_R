{
 "cells": [
  {
   "cell_type": "markdown",
   "metadata": {},
   "source": [
    "# 16_使用purrr实现迭代\n",
    "\n",
    "purrr包在迭代方面确实很好用，有些地方也不是很好理解，有多好用我们看例子"
   ]
  },
  {
   "cell_type": "code",
   "execution_count": 1,
   "metadata": {},
   "outputs": [
    {
     "name": "stderr",
     "output_type": "stream",
     "text": [
      "─ \u001b[1mAttaching packages\u001b[22m ──────────────────── tidyverse 1.2.1 ─\n",
      "\u001b[32m✔\u001b[39m \u001b[34mggplot2\u001b[39m 3.2.0     \u001b[32m✔\u001b[39m \u001b[34mpurrr  \u001b[39m 0.3.2\n",
      "\u001b[32m✔\u001b[39m \u001b[34mtibble \u001b[39m 2.1.3     \u001b[32m✔\u001b[39m \u001b[34mdplyr  \u001b[39m 0.8.3\n",
      "\u001b[32m✔\u001b[39m \u001b[34mtidyr  \u001b[39m 0.8.3     \u001b[32m✔\u001b[39m \u001b[34mstringr\u001b[39m 1.4.0\n",
      "\u001b[32m✔\u001b[39m \u001b[34mreadr  \u001b[39m 1.3.1     \u001b[32m✔\u001b[39m \u001b[34mforcats\u001b[39m 0.4.0\n",
      "─ \u001b[1mConflicts\u001b[22m ───────────────────── tidyverse_conflicts() ─\n",
      "\u001b[31m✖\u001b[39m \u001b[34mdplyr\u001b[39m::\u001b[32mfilter()\u001b[39m masks \u001b[34mstats\u001b[39m::filter()\n",
      "\u001b[31m✖\u001b[39m \u001b[34mdplyr\u001b[39m::\u001b[32mlag()\u001b[39m    masks \u001b[34mstats\u001b[39m::lag()\n"
     ]
    }
   ],
   "source": [
    "library(tidyverse)"
   ]
  },
  {
   "cell_type": "markdown",
   "metadata": {},
   "source": [
    "## for 循环"
   ]
  },
  {
   "cell_type": "code",
   "execution_count": 2,
   "metadata": {},
   "outputs": [
    {
     "data": {
      "text/html": [
       "0.633988221779616"
      ],
      "text/latex": [
       "0.633988221779616"
      ],
      "text/markdown": [
       "0.633988221779616"
      ],
      "text/plain": [
       "[1] 0.6339882"
      ]
     },
     "metadata": {},
     "output_type": "display_data"
    },
    {
     "data": {
      "text/html": [
       "0.314986892686608"
      ],
      "text/latex": [
       "0.314986892686608"
      ],
      "text/markdown": [
       "0.314986892686608"
      ],
      "text/plain": [
       "[1] 0.3149869"
      ]
     },
     "metadata": {},
     "output_type": "display_data"
    },
    {
     "data": {
      "text/html": [
       "0.34051040038387"
      ],
      "text/latex": [
       "0.34051040038387"
      ],
      "text/markdown": [
       "0.34051040038387"
      ],
      "text/plain": [
       "[1] 0.3405104"
      ]
     },
     "metadata": {},
     "output_type": "display_data"
    },
    {
     "data": {
      "text/html": [
       "-0.238654126371758"
      ],
      "text/latex": [
       "-0.238654126371758"
      ],
      "text/markdown": [
       "-0.238654126371758"
      ],
      "text/plain": [
       "[1] -0.2386541"
      ]
     },
     "metadata": {},
     "output_type": "display_data"
    },
    {
     "data": {
      "text/html": [
       "<ol class=list-inline>\n",
       "\t<li>0.633988221779616</li>\n",
       "\t<li>0.314986892686608</li>\n",
       "\t<li>0.34051040038387</li>\n",
       "\t<li>-0.238654126371758</li>\n",
       "</ol>\n"
      ],
      "text/latex": [
       "\\begin{enumerate*}\n",
       "\\item 0.633988221779616\n",
       "\\item 0.314986892686608\n",
       "\\item 0.34051040038387\n",
       "\\item -0.238654126371758\n",
       "\\end{enumerate*}\n"
      ],
      "text/markdown": [
       "1. 0.633988221779616\n",
       "2. 0.314986892686608\n",
       "3. 0.34051040038387\n",
       "4. -0.238654126371758\n",
       "\n",
       "\n"
      ],
      "text/plain": [
       "[1]  0.6339882  0.3149869  0.3405104 -0.2386541"
      ]
     },
     "metadata": {},
     "output_type": "display_data"
    }
   ],
   "source": [
    "# 这里是一个简单的数据框\n",
    "df <- tibble(\n",
    "    a = rnorm(10),\n",
    "    b = rnorm(10),\n",
    "    c = rnorm(10),\n",
    "    d = rnorm(10)\n",
    ")\n",
    "\n",
    "# 例如我们要计算中位数\n",
    "median(df$a)\n",
    "median(df$b)\n",
    "median(df$c)\n",
    "median(df$d)\n",
    "# 复制粘贴也可以接受\n",
    "\n",
    "# for循环解决方法\n",
    "\n",
    "output <- vector(\"double\", ncol(df))\n",
    "for (i in seq_along(df)) {\n",
    "    output[[i]] <- median(df[[i]])\n",
    "}\n",
    "# vector()函数创建给定长度的空向量\n",
    "# seq_along()函数生成一定长度的序列\n",
    "# 双方括号要比单方括号好，在同样的情况下\n",
    "output"
   ]
  },
  {
   "cell_type": "markdown",
   "metadata": {},
   "source": [
    "## 练习"
   ]
  },
  {
   "cell_type": "code",
   "execution_count": 3,
   "metadata": {},
   "outputs": [
    {
     "data": {
      "text/html": [
       "<table>\n",
       "<caption>A data.frame: 6 × 11</caption>\n",
       "<thead>\n",
       "\t<tr><th></th><th scope=col>mpg</th><th scope=col>cyl</th><th scope=col>disp</th><th scope=col>hp</th><th scope=col>drat</th><th scope=col>wt</th><th scope=col>qsec</th><th scope=col>vs</th><th scope=col>am</th><th scope=col>gear</th><th scope=col>carb</th></tr>\n",
       "\t<tr><th></th><th scope=col>&lt;dbl&gt;</th><th scope=col>&lt;dbl&gt;</th><th scope=col>&lt;dbl&gt;</th><th scope=col>&lt;dbl&gt;</th><th scope=col>&lt;dbl&gt;</th><th scope=col>&lt;dbl&gt;</th><th scope=col>&lt;dbl&gt;</th><th scope=col>&lt;dbl&gt;</th><th scope=col>&lt;dbl&gt;</th><th scope=col>&lt;dbl&gt;</th><th scope=col>&lt;dbl&gt;</th></tr>\n",
       "</thead>\n",
       "<tbody>\n",
       "\t<tr><th scope=row>Mazda RX4</th><td>21.0</td><td>6</td><td>160</td><td>110</td><td>3.90</td><td>2.620</td><td>16.46</td><td>0</td><td>1</td><td>4</td><td>4</td></tr>\n",
       "\t<tr><th scope=row>Mazda RX4 Wag</th><td>21.0</td><td>6</td><td>160</td><td>110</td><td>3.90</td><td>2.875</td><td>17.02</td><td>0</td><td>1</td><td>4</td><td>4</td></tr>\n",
       "\t<tr><th scope=row>Datsun 710</th><td>22.8</td><td>4</td><td>108</td><td> 93</td><td>3.85</td><td>2.320</td><td>18.61</td><td>1</td><td>1</td><td>4</td><td>1</td></tr>\n",
       "\t<tr><th scope=row>Hornet 4 Drive</th><td>21.4</td><td>6</td><td>258</td><td>110</td><td>3.08</td><td>3.215</td><td>19.44</td><td>1</td><td>0</td><td>3</td><td>1</td></tr>\n",
       "\t<tr><th scope=row>Hornet Sportabout</th><td>18.7</td><td>8</td><td>360</td><td>175</td><td>3.15</td><td>3.440</td><td>17.02</td><td>0</td><td>0</td><td>3</td><td>2</td></tr>\n",
       "\t<tr><th scope=row>Valiant</th><td>18.1</td><td>6</td><td>225</td><td>105</td><td>2.76</td><td>3.460</td><td>20.22</td><td>1</td><td>0</td><td>3</td><td>1</td></tr>\n",
       "</tbody>\n",
       "</table>\n"
      ],
      "text/latex": [
       "A data.frame: 6 × 11\n",
       "\\begin{tabular}{r|lllllllllll}\n",
       "  & mpg & cyl & disp & hp & drat & wt & qsec & vs & am & gear & carb\\\\\n",
       "  & <dbl> & <dbl> & <dbl> & <dbl> & <dbl> & <dbl> & <dbl> & <dbl> & <dbl> & <dbl> & <dbl>\\\\\n",
       "\\hline\n",
       "\tMazda RX4 & 21.0 & 6 & 160 & 110 & 3.90 & 2.620 & 16.46 & 0 & 1 & 4 & 4\\\\\n",
       "\tMazda RX4 Wag & 21.0 & 6 & 160 & 110 & 3.90 & 2.875 & 17.02 & 0 & 1 & 4 & 4\\\\\n",
       "\tDatsun 710 & 22.8 & 4 & 108 &  93 & 3.85 & 2.320 & 18.61 & 1 & 1 & 4 & 1\\\\\n",
       "\tHornet 4 Drive & 21.4 & 6 & 258 & 110 & 3.08 & 3.215 & 19.44 & 1 & 0 & 3 & 1\\\\\n",
       "\tHornet Sportabout & 18.7 & 8 & 360 & 175 & 3.15 & 3.440 & 17.02 & 0 & 0 & 3 & 2\\\\\n",
       "\tValiant & 18.1 & 6 & 225 & 105 & 2.76 & 3.460 & 20.22 & 1 & 0 & 3 & 1\\\\\n",
       "\\end{tabular}\n"
      ],
      "text/markdown": [
       "\n",
       "A data.frame: 6 × 11\n",
       "\n",
       "| <!--/--> | mpg &lt;dbl&gt; | cyl &lt;dbl&gt; | disp &lt;dbl&gt; | hp &lt;dbl&gt; | drat &lt;dbl&gt; | wt &lt;dbl&gt; | qsec &lt;dbl&gt; | vs &lt;dbl&gt; | am &lt;dbl&gt; | gear &lt;dbl&gt; | carb &lt;dbl&gt; |\n",
       "|---|---|---|---|---|---|---|---|---|---|---|---|\n",
       "| Mazda RX4 | 21.0 | 6 | 160 | 110 | 3.90 | 2.620 | 16.46 | 0 | 1 | 4 | 4 |\n",
       "| Mazda RX4 Wag | 21.0 | 6 | 160 | 110 | 3.90 | 2.875 | 17.02 | 0 | 1 | 4 | 4 |\n",
       "| Datsun 710 | 22.8 | 4 | 108 |  93 | 3.85 | 2.320 | 18.61 | 1 | 1 | 4 | 1 |\n",
       "| Hornet 4 Drive | 21.4 | 6 | 258 | 110 | 3.08 | 3.215 | 19.44 | 1 | 0 | 3 | 1 |\n",
       "| Hornet Sportabout | 18.7 | 8 | 360 | 175 | 3.15 | 3.440 | 17.02 | 0 | 0 | 3 | 2 |\n",
       "| Valiant | 18.1 | 6 | 225 | 105 | 2.76 | 3.460 | 20.22 | 1 | 0 | 3 | 1 |\n",
       "\n"
      ],
      "text/plain": [
       "                  mpg  cyl disp hp  drat wt    qsec  vs am gear carb\n",
       "Mazda RX4         21.0 6   160  110 3.90 2.620 16.46 0  1  4    4   \n",
       "Mazda RX4 Wag     21.0 6   160  110 3.90 2.875 17.02 0  1  4    4   \n",
       "Datsun 710        22.8 4   108   93 3.85 2.320 18.61 1  1  4    1   \n",
       "Hornet 4 Drive    21.4 6   258  110 3.08 3.215 19.44 1  0  3    1   \n",
       "Hornet Sportabout 18.7 8   360  175 3.15 3.440 17.02 0  0  3    2   \n",
       "Valiant           18.1 6   225  105 2.76 3.460 20.22 1  0  3    1   "
      ]
     },
     "metadata": {},
     "output_type": "display_data"
    },
    {
     "data": {
      "text/html": [
       "20.090625"
      ],
      "text/latex": [
       "20.090625"
      ],
      "text/markdown": [
       "20.090625"
      ],
      "text/plain": [
       "[1] 20.09062"
      ]
     },
     "metadata": {},
     "output_type": "display_data"
    },
    {
     "data": {
      "text/html": [
       "2.8125"
      ],
      "text/latex": [
       "2.8125"
      ],
      "text/markdown": [
       "2.8125"
      ],
      "text/plain": [
       "[1] 2.8125"
      ]
     },
     "metadata": {},
     "output_type": "display_data"
    },
    {
     "data": {
      "text/html": [
       "<ol class=list-inline>\n",
       "\t<li>20.090625</li>\n",
       "\t<li>6.1875</li>\n",
       "\t<li>230.721875</li>\n",
       "\t<li>146.6875</li>\n",
       "\t<li>3.5965625</li>\n",
       "\t<li>3.21725</li>\n",
       "\t<li>17.84875</li>\n",
       "\t<li>0.4375</li>\n",
       "\t<li>0.40625</li>\n",
       "\t<li>3.6875</li>\n",
       "\t<li>2.8125</li>\n",
       "</ol>\n"
      ],
      "text/latex": [
       "\\begin{enumerate*}\n",
       "\\item 20.090625\n",
       "\\item 6.1875\n",
       "\\item 230.721875\n",
       "\\item 146.6875\n",
       "\\item 3.5965625\n",
       "\\item 3.21725\n",
       "\\item 17.84875\n",
       "\\item 0.4375\n",
       "\\item 0.40625\n",
       "\\item 3.6875\n",
       "\\item 2.8125\n",
       "\\end{enumerate*}\n"
      ],
      "text/markdown": [
       "1. 20.090625\n",
       "2. 6.1875\n",
       "3. 230.721875\n",
       "4. 146.6875\n",
       "5. 3.5965625\n",
       "6. 3.21725\n",
       "7. 17.84875\n",
       "8. 0.4375\n",
       "9. 0.40625\n",
       "10. 3.6875\n",
       "11. 2.8125\n",
       "\n",
       "\n"
      ],
      "text/plain": [
       " [1]  20.090625   6.187500 230.721875 146.687500   3.596563   3.217250\n",
       " [7]  17.848750   0.437500   0.406250   3.687500   2.812500"
      ]
     },
     "metadata": {},
     "output_type": "display_data"
    }
   ],
   "source": [
    "# a. 计算出mtcars数据集中每列的均值。\n",
    "head(mtcars)\n",
    "mean(mtcars$mpg)\n",
    "# ;\n",
    "# ;\n",
    "# ;手动也可以，很麻烦\n",
    "mean(mtcars$carb)\n",
    "\n",
    "# for循环实现\n",
    "out_mean <- vector(\"double\", ncol(mtcars))\n",
    "for (i in seq_along(mtcars)){\n",
    "    out_mean[[i]] <- mean(mtcars[[i]])\n",
    "}\n",
    "\n",
    "out_mean"
   ]
  },
  {
   "cell_type": "code",
   "execution_count": 4,
   "metadata": {},
   "outputs": [
    {
     "data": {
      "text/html": [
       "<table>\n",
       "<caption>A tibble: 6 × 19</caption>\n",
       "<thead>\n",
       "\t<tr><th scope=col>year</th><th scope=col>month</th><th scope=col>day</th><th scope=col>dep_time</th><th scope=col>sched_dep_time</th><th scope=col>dep_delay</th><th scope=col>arr_time</th><th scope=col>sched_arr_time</th><th scope=col>arr_delay</th><th scope=col>carrier</th><th scope=col>flight</th><th scope=col>tailnum</th><th scope=col>origin</th><th scope=col>dest</th><th scope=col>air_time</th><th scope=col>distance</th><th scope=col>hour</th><th scope=col>minute</th><th scope=col>time_hour</th></tr>\n",
       "\t<tr><th scope=col>&lt;int&gt;</th><th scope=col>&lt;int&gt;</th><th scope=col>&lt;int&gt;</th><th scope=col>&lt;int&gt;</th><th scope=col>&lt;int&gt;</th><th scope=col>&lt;dbl&gt;</th><th scope=col>&lt;int&gt;</th><th scope=col>&lt;int&gt;</th><th scope=col>&lt;dbl&gt;</th><th scope=col>&lt;chr&gt;</th><th scope=col>&lt;int&gt;</th><th scope=col>&lt;chr&gt;</th><th scope=col>&lt;chr&gt;</th><th scope=col>&lt;chr&gt;</th><th scope=col>&lt;dbl&gt;</th><th scope=col>&lt;dbl&gt;</th><th scope=col>&lt;dbl&gt;</th><th scope=col>&lt;dbl&gt;</th><th scope=col>&lt;dttm&gt;</th></tr>\n",
       "</thead>\n",
       "<tbody>\n",
       "\t<tr><td>2013</td><td>1</td><td>1</td><td>517</td><td>515</td><td> 2</td><td> 830</td><td> 819</td><td> 11</td><td>UA</td><td>1545</td><td>N14228</td><td>EWR</td><td>IAH</td><td>227</td><td>1400</td><td>5</td><td>15</td><td>2013-01-01 05:00:00</td></tr>\n",
       "\t<tr><td>2013</td><td>1</td><td>1</td><td>533</td><td>529</td><td> 4</td><td> 850</td><td> 830</td><td> 20</td><td>UA</td><td>1714</td><td>N24211</td><td>LGA</td><td>IAH</td><td>227</td><td>1416</td><td>5</td><td>29</td><td>2013-01-01 05:00:00</td></tr>\n",
       "\t<tr><td>2013</td><td>1</td><td>1</td><td>542</td><td>540</td><td> 2</td><td> 923</td><td> 850</td><td> 33</td><td>AA</td><td>1141</td><td>N619AA</td><td>JFK</td><td>MIA</td><td>160</td><td>1089</td><td>5</td><td>40</td><td>2013-01-01 05:00:00</td></tr>\n",
       "\t<tr><td>2013</td><td>1</td><td>1</td><td>544</td><td>545</td><td>-1</td><td>1004</td><td>1022</td><td>-18</td><td>B6</td><td> 725</td><td>N804JB</td><td>JFK</td><td>BQN</td><td>183</td><td>1576</td><td>5</td><td>45</td><td>2013-01-01 05:00:00</td></tr>\n",
       "\t<tr><td>2013</td><td>1</td><td>1</td><td>554</td><td>600</td><td>-6</td><td> 812</td><td> 837</td><td>-25</td><td>DL</td><td> 461</td><td>N668DN</td><td>LGA</td><td>ATL</td><td>116</td><td> 762</td><td>6</td><td> 0</td><td>2013-01-01 06:00:00</td></tr>\n",
       "\t<tr><td>2013</td><td>1</td><td>1</td><td>554</td><td>558</td><td>-4</td><td> 740</td><td> 728</td><td> 12</td><td>UA</td><td>1696</td><td>N39463</td><td>EWR</td><td>ORD</td><td>150</td><td> 719</td><td>5</td><td>58</td><td>2013-01-01 05:00:00</td></tr>\n",
       "</tbody>\n",
       "</table>\n"
      ],
      "text/latex": [
       "A tibble: 6 × 19\n",
       "\\begin{tabular}{r|lllllllllllllllllll}\n",
       " year & month & day & dep\\_time & sched\\_dep\\_time & dep\\_delay & arr\\_time & sched\\_arr\\_time & arr\\_delay & carrier & flight & tailnum & origin & dest & air\\_time & distance & hour & minute & time\\_hour\\\\\n",
       " <int> & <int> & <int> & <int> & <int> & <dbl> & <int> & <int> & <dbl> & <chr> & <int> & <chr> & <chr> & <chr> & <dbl> & <dbl> & <dbl> & <dbl> & <dttm>\\\\\n",
       "\\hline\n",
       "\t 2013 & 1 & 1 & 517 & 515 &  2 &  830 &  819 &  11 & UA & 1545 & N14228 & EWR & IAH & 227 & 1400 & 5 & 15 & 2013-01-01 05:00:00\\\\\n",
       "\t 2013 & 1 & 1 & 533 & 529 &  4 &  850 &  830 &  20 & UA & 1714 & N24211 & LGA & IAH & 227 & 1416 & 5 & 29 & 2013-01-01 05:00:00\\\\\n",
       "\t 2013 & 1 & 1 & 542 & 540 &  2 &  923 &  850 &  33 & AA & 1141 & N619AA & JFK & MIA & 160 & 1089 & 5 & 40 & 2013-01-01 05:00:00\\\\\n",
       "\t 2013 & 1 & 1 & 544 & 545 & -1 & 1004 & 1022 & -18 & B6 &  725 & N804JB & JFK & BQN & 183 & 1576 & 5 & 45 & 2013-01-01 05:00:00\\\\\n",
       "\t 2013 & 1 & 1 & 554 & 600 & -6 &  812 &  837 & -25 & DL &  461 & N668DN & LGA & ATL & 116 &  762 & 6 &  0 & 2013-01-01 06:00:00\\\\\n",
       "\t 2013 & 1 & 1 & 554 & 558 & -4 &  740 &  728 &  12 & UA & 1696 & N39463 & EWR & ORD & 150 &  719 & 5 & 58 & 2013-01-01 05:00:00\\\\\n",
       "\\end{tabular}\n"
      ],
      "text/markdown": [
       "\n",
       "A tibble: 6 × 19\n",
       "\n",
       "| year &lt;int&gt; | month &lt;int&gt; | day &lt;int&gt; | dep_time &lt;int&gt; | sched_dep_time &lt;int&gt; | dep_delay &lt;dbl&gt; | arr_time &lt;int&gt; | sched_arr_time &lt;int&gt; | arr_delay &lt;dbl&gt; | carrier &lt;chr&gt; | flight &lt;int&gt; | tailnum &lt;chr&gt; | origin &lt;chr&gt; | dest &lt;chr&gt; | air_time &lt;dbl&gt; | distance &lt;dbl&gt; | hour &lt;dbl&gt; | minute &lt;dbl&gt; | time_hour &lt;dttm&gt; |\n",
       "|---|---|---|---|---|---|---|---|---|---|---|---|---|---|---|---|---|---|---|\n",
       "| 2013 | 1 | 1 | 517 | 515 |  2 |  830 |  819 |  11 | UA | 1545 | N14228 | EWR | IAH | 227 | 1400 | 5 | 15 | 2013-01-01 05:00:00 |\n",
       "| 2013 | 1 | 1 | 533 | 529 |  4 |  850 |  830 |  20 | UA | 1714 | N24211 | LGA | IAH | 227 | 1416 | 5 | 29 | 2013-01-01 05:00:00 |\n",
       "| 2013 | 1 | 1 | 542 | 540 |  2 |  923 |  850 |  33 | AA | 1141 | N619AA | JFK | MIA | 160 | 1089 | 5 | 40 | 2013-01-01 05:00:00 |\n",
       "| 2013 | 1 | 1 | 544 | 545 | -1 | 1004 | 1022 | -18 | B6 |  725 | N804JB | JFK | BQN | 183 | 1576 | 5 | 45 | 2013-01-01 05:00:00 |\n",
       "| 2013 | 1 | 1 | 554 | 600 | -6 |  812 |  837 | -25 | DL |  461 | N668DN | LGA | ATL | 116 |  762 | 6 |  0 | 2013-01-01 06:00:00 |\n",
       "| 2013 | 1 | 1 | 554 | 558 | -4 |  740 |  728 |  12 | UA | 1696 | N39463 | EWR | ORD | 150 |  719 | 5 | 58 | 2013-01-01 05:00:00 |\n",
       "\n"
      ],
      "text/plain": [
       "  year month day dep_time sched_dep_time dep_delay arr_time sched_arr_time\n",
       "1 2013 1     1   517      515             2         830      819          \n",
       "2 2013 1     1   533      529             4         850      830          \n",
       "3 2013 1     1   542      540             2         923      850          \n",
       "4 2013 1     1   544      545            -1        1004     1022          \n",
       "5 2013 1     1   554      600            -6         812      837          \n",
       "6 2013 1     1   554      558            -4         740      728          \n",
       "  arr_delay carrier flight tailnum origin dest air_time distance hour minute\n",
       "1  11       UA      1545   N14228  EWR    IAH  227      1400     5    15    \n",
       "2  20       UA      1714   N24211  LGA    IAH  227      1416     5    29    \n",
       "3  33       AA      1141   N619AA  JFK    MIA  160      1089     5    40    \n",
       "4 -18       B6       725   N804JB  JFK    BQN  183      1576     5    45    \n",
       "5 -25       DL       461   N668DN  LGA    ATL  116       762     6     0    \n",
       "6  12       UA      1696   N39463  EWR    ORD  150       719     5    58    \n",
       "  time_hour          \n",
       "1 2013-01-01 05:00:00\n",
       "2 2013-01-01 05:00:00\n",
       "3 2013-01-01 05:00:00\n",
       "4 2013-01-01 05:00:00\n",
       "5 2013-01-01 06:00:00\n",
       "6 2013-01-01 05:00:00"
      ]
     },
     "metadata": {},
     "output_type": "display_data"
    },
    {
     "data": {
      "text/html": [
       "'integer'"
      ],
      "text/latex": [
       "'integer'"
      ],
      "text/markdown": [
       "'integer'"
      ],
      "text/plain": [
       "[1] \"integer\""
      ]
     },
     "metadata": {},
     "output_type": "display_data"
    },
    {
     "data": {
      "text/html": [
       "<table>\n",
       "<caption>A matrix: 1 × 19 of type chr</caption>\n",
       "<tbody>\n",
       "\t<tr><td>integer</td><td>integer</td><td>integer</td><td>integer</td><td>integer</td><td>double</td><td>integer</td><td>integer</td><td>double</td><td>character</td><td>integer</td><td>character</td><td>character</td><td>character</td><td>double</td><td>double</td><td>double</td><td>double</td><td>double</td></tr>\n",
       "</tbody>\n",
       "</table>\n"
      ],
      "text/latex": [
       "A matrix: 1 × 19 of type chr\n",
       "\\begin{tabular}{lllllllllllllllllll}\n",
       "\t integer & integer & integer & integer & integer & double & integer & integer & double & character & integer & character & character & character & double & double & double & double & double\\\\\n",
       "\\end{tabular}\n"
      ],
      "text/markdown": [
       "\n",
       "A matrix: 1 × 19 of type chr\n",
       "\n",
       "| integer | integer | integer | integer | integer | double | integer | integer | double | character | integer | character | character | character | double | double | double | double | double |\n",
       "\n"
      ],
      "text/plain": [
       "     [,1]    [,2]    [,3]    [,4]    [,5]    [,6]   [,7]    [,8]    [,9]  \n",
       "[1,] integer integer integer integer integer double integer integer double\n",
       "     [,10]     [,11]   [,12]     [,13]     [,14]     [,15]  [,16]  [,17] \n",
       "[1,] character integer character character character double double double\n",
       "     [,18]  [,19] \n",
       "[1,] double double"
      ]
     },
     "metadata": {},
     "output_type": "display_data"
    }
   ],
   "source": [
    "# b. 确定nycflights13::flights数据集中每列的类型。\n",
    "library(nycflights13)\n",
    "head(flights)\n",
    "typeof(flights$year)# 查看数据类型\n",
    "\n",
    "# 循环体已经知道，准备循环\n",
    "out_type <- vector(\"character\", ncol(flights))\n",
    "# 使用charactor是因为typeof输出是字符型\n",
    "for (i in seq_along(flights)){\n",
    "    out_type[[i]] <- typeof(flights[[i]])\n",
    "}\n",
    "\n",
    "out_type %>% t()"
   ]
  },
  {
   "cell_type": "code",
   "execution_count": 5,
   "metadata": {},
   "outputs": [
    {
     "data": {
      "text/html": [
       "<table>\n",
       "<caption>A data.frame: 6 × 5</caption>\n",
       "<thead>\n",
       "\t<tr><th scope=col>Sepal.Length</th><th scope=col>Sepal.Width</th><th scope=col>Petal.Length</th><th scope=col>Petal.Width</th><th scope=col>Species</th></tr>\n",
       "\t<tr><th scope=col>&lt;dbl&gt;</th><th scope=col>&lt;dbl&gt;</th><th scope=col>&lt;dbl&gt;</th><th scope=col>&lt;dbl&gt;</th><th scope=col>&lt;fct&gt;</th></tr>\n",
       "</thead>\n",
       "<tbody>\n",
       "\t<tr><td>5.1</td><td>3.5</td><td>1.4</td><td>0.2</td><td>setosa</td></tr>\n",
       "\t<tr><td>4.9</td><td>3.0</td><td>1.4</td><td>0.2</td><td>setosa</td></tr>\n",
       "\t<tr><td>4.7</td><td>3.2</td><td>1.3</td><td>0.2</td><td>setosa</td></tr>\n",
       "\t<tr><td>4.6</td><td>3.1</td><td>1.5</td><td>0.2</td><td>setosa</td></tr>\n",
       "\t<tr><td>5.0</td><td>3.6</td><td>1.4</td><td>0.2</td><td>setosa</td></tr>\n",
       "\t<tr><td>5.4</td><td>3.9</td><td>1.7</td><td>0.4</td><td>setosa</td></tr>\n",
       "</tbody>\n",
       "</table>\n"
      ],
      "text/latex": [
       "A data.frame: 6 × 5\n",
       "\\begin{tabular}{r|lllll}\n",
       " Sepal.Length & Sepal.Width & Petal.Length & Petal.Width & Species\\\\\n",
       " <dbl> & <dbl> & <dbl> & <dbl> & <fct>\\\\\n",
       "\\hline\n",
       "\t 5.1 & 3.5 & 1.4 & 0.2 & setosa\\\\\n",
       "\t 4.9 & 3.0 & 1.4 & 0.2 & setosa\\\\\n",
       "\t 4.7 & 3.2 & 1.3 & 0.2 & setosa\\\\\n",
       "\t 4.6 & 3.1 & 1.5 & 0.2 & setosa\\\\\n",
       "\t 5.0 & 3.6 & 1.4 & 0.2 & setosa\\\\\n",
       "\t 5.4 & 3.9 & 1.7 & 0.4 & setosa\\\\\n",
       "\\end{tabular}\n"
      ],
      "text/markdown": [
       "\n",
       "A data.frame: 6 × 5\n",
       "\n",
       "| Sepal.Length &lt;dbl&gt; | Sepal.Width &lt;dbl&gt; | Petal.Length &lt;dbl&gt; | Petal.Width &lt;dbl&gt; | Species &lt;fct&gt; |\n",
       "|---|---|---|---|---|\n",
       "| 5.1 | 3.5 | 1.4 | 0.2 | setosa |\n",
       "| 4.9 | 3.0 | 1.4 | 0.2 | setosa |\n",
       "| 4.7 | 3.2 | 1.3 | 0.2 | setosa |\n",
       "| 4.6 | 3.1 | 1.5 | 0.2 | setosa |\n",
       "| 5.0 | 3.6 | 1.4 | 0.2 | setosa |\n",
       "| 5.4 | 3.9 | 1.7 | 0.4 | setosa |\n",
       "\n"
      ],
      "text/plain": [
       "  Sepal.Length Sepal.Width Petal.Length Petal.Width Species\n",
       "1 5.1          3.5         1.4          0.2         setosa \n",
       "2 4.9          3.0         1.4          0.2         setosa \n",
       "3 4.7          3.2         1.3          0.2         setosa \n",
       "4 4.6          3.1         1.5          0.2         setosa \n",
       "5 5.0          3.6         1.4          0.2         setosa \n",
       "6 5.4          3.9         1.7          0.4         setosa "
      ]
     },
     "metadata": {},
     "output_type": "display_data"
    },
    {
     "data": {
      "text/html": [
       "3"
      ],
      "text/latex": [
       "3"
      ],
      "text/markdown": [
       "3"
      ],
      "text/plain": [
       "[1] 3"
      ]
     },
     "metadata": {},
     "output_type": "display_data"
    },
    {
     "data": {
      "text/plain": [
       "\n",
       "    setosa versicolor  virginica \n",
       "        50         50         50 "
      ]
     },
     "metadata": {},
     "output_type": "display_data"
    },
    {
     "data": {
      "text/html": [
       "<ol class=list-inline>\n",
       "\t<li>35</li>\n",
       "\t<li>23</li>\n",
       "\t<li>43</li>\n",
       "\t<li>22</li>\n",
       "\t<li>3</li>\n",
       "</ol>\n"
      ],
      "text/latex": [
       "\\begin{enumerate*}\n",
       "\\item 35\n",
       "\\item 23\n",
       "\\item 43\n",
       "\\item 22\n",
       "\\item 3\n",
       "\\end{enumerate*}\n"
      ],
      "text/markdown": [
       "1. 35\n",
       "2. 23\n",
       "3. 43\n",
       "4. 22\n",
       "5. 3\n",
       "\n",
       "\n"
      ],
      "text/plain": [
       "[1] 35 23 43 22  3"
      ]
     },
     "metadata": {},
     "output_type": "display_data"
    },
    {
     "data": {
      "text/html": [
       "<dl class=dl-horizontal>\n",
       "\t<dt>Sepal.Length</dt>\n",
       "\t\t<dd>35</dd>\n",
       "\t<dt>Sepal.Width</dt>\n",
       "\t\t<dd>23</dd>\n",
       "\t<dt>Petal.Length</dt>\n",
       "\t\t<dd>43</dd>\n",
       "\t<dt>Petal.Width</dt>\n",
       "\t\t<dd>22</dd>\n",
       "\t<dt>Species</dt>\n",
       "\t\t<dd>3</dd>\n",
       "</dl>\n"
      ],
      "text/latex": [
       "\\begin{description*}\n",
       "\\item[Sepal.Length] 35\n",
       "\\item[Sepal.Width] 23\n",
       "\\item[Petal.Length] 43\n",
       "\\item[Petal.Width] 22\n",
       "\\item[Species] 3\n",
       "\\end{description*}\n"
      ],
      "text/markdown": [
       "Sepal.Length\n",
       ":   35Sepal.Width\n",
       ":   23Petal.Length\n",
       ":   43Petal.Width\n",
       ":   22Species\n",
       ":   3\n",
       "\n"
      ],
      "text/plain": [
       "Sepal.Length  Sepal.Width Petal.Length  Petal.Width      Species \n",
       "          35           23           43           22            3 "
      ]
     },
     "metadata": {},
     "output_type": "display_data"
    }
   ],
   "source": [
    "# c. 计算出iris数据集中每列唯一值的数量\n",
    "head(iris)# 查看数据\n",
    "unique(iris$Species)%>%length()# unique()函数去重\n",
    "table(iris$Species)\n",
    "# 以上是重复体\n",
    "out_num <- vector(\"integer\", ncol(iris))\n",
    "for (i in seq_along(iris)){\n",
    "    out_num[[i]] <- length(unique(iris[[i]]))\n",
    "}\n",
    "out_num\n",
    "\n",
    "# 下面对向量进行了命名，更清晰\n",
    "iris_uniq <- vector(\"double\", ncol(iris))\n",
    "names(iris_uniq) <- names(iris)\n",
    "for (i in names(iris)) {\n",
    "  iris_uniq[i] <- length(unique(iris[[i]]))\n",
    "}\n",
    "iris_uniq"
   ]
  },
  {
   "cell_type": "code",
   "execution_count": 6,
   "metadata": {},
   "outputs": [
    {
     "data": {
      "text/html": [
       "<ol>\n",
       "\t<li><ol class=list-inline>\n",
       "\t<li>-10.9895859639989</li>\n",
       "\t<li>-11.5418366205284</li>\n",
       "\t<li>-10.8450489029227</li>\n",
       "\t<li>-10.4538940953841</li>\n",
       "\t<li>-10.3387502219951</li>\n",
       "\t<li>-9.20382486699511</li>\n",
       "\t<li>-10.7660795027087</li>\n",
       "\t<li>-9.68420491141331</li>\n",
       "\t<li>-8.89805951176629</li>\n",
       "\t<li>-10.0416990086735</li>\n",
       "</ol>\n",
       "</li>\n",
       "\t<li><ol class=list-inline>\n",
       "\t<li>-1.84301435860798</li>\n",
       "\t<li>0.613515804896667</li>\n",
       "\t<li>0.621807803439537</li>\n",
       "\t<li>-0.109308407880036</li>\n",
       "\t<li>0.348353048884382</li>\n",
       "\t<li>-0.213754600910744</li>\n",
       "\t<li>0.661554400833045</li>\n",
       "\t<li>-0.922527504942822</li>\n",
       "\t<li>0.546669678477325</li>\n",
       "\t<li>0.368312003918553</li>\n",
       "</ol>\n",
       "</li>\n",
       "\t<li><ol class=list-inline>\n",
       "\t<li>11.9669066241575</li>\n",
       "\t<li>8.77756221395076</li>\n",
       "\t<li>10.0793343695548</li>\n",
       "\t<li>8.47357137472204</li>\n",
       "\t<li>10.3406260021458</li>\n",
       "\t<li>10.4674303500044</li>\n",
       "\t<li>10.9898713550137</li>\n",
       "\t<li>9.48405290039471</li>\n",
       "\t<li>10.6754392059497</li>\n",
       "\t<li>9.75957372146529</li>\n",
       "</ol>\n",
       "</li>\n",
       "\t<li><ol class=list-inline>\n",
       "\t<li>101.27511916689</li>\n",
       "\t<li>99.6719784689655</li>\n",
       "\t<li>97.8808546507369</li>\n",
       "\t<li>99.9866567683821</li>\n",
       "\t<li>102.010459041466</li>\n",
       "\t<li>100.347404107866</li>\n",
       "\t<li>99.5666314178817</li>\n",
       "\t<li>100.227230664617</li>\n",
       "\t<li>100.937901473172</li>\n",
       "\t<li>100.600551478769</li>\n",
       "</ol>\n",
       "</li>\n",
       "</ol>\n"
      ],
      "text/latex": [
       "\\begin{enumerate}\n",
       "\\item \\begin{enumerate*}\n",
       "\\item -10.9895859639989\n",
       "\\item -11.5418366205284\n",
       "\\item -10.8450489029227\n",
       "\\item -10.4538940953841\n",
       "\\item -10.3387502219951\n",
       "\\item -9.20382486699511\n",
       "\\item -10.7660795027087\n",
       "\\item -9.68420491141331\n",
       "\\item -8.89805951176629\n",
       "\\item -10.0416990086735\n",
       "\\end{enumerate*}\n",
       "\n",
       "\\item \\begin{enumerate*}\n",
       "\\item -1.84301435860798\n",
       "\\item 0.613515804896667\n",
       "\\item 0.621807803439537\n",
       "\\item -0.109308407880036\n",
       "\\item 0.348353048884382\n",
       "\\item -0.213754600910744\n",
       "\\item 0.661554400833045\n",
       "\\item -0.922527504942822\n",
       "\\item 0.546669678477325\n",
       "\\item 0.368312003918553\n",
       "\\end{enumerate*}\n",
       "\n",
       "\\item \\begin{enumerate*}\n",
       "\\item 11.9669066241575\n",
       "\\item 8.77756221395076\n",
       "\\item 10.0793343695548\n",
       "\\item 8.47357137472204\n",
       "\\item 10.3406260021458\n",
       "\\item 10.4674303500044\n",
       "\\item 10.9898713550137\n",
       "\\item 9.48405290039471\n",
       "\\item 10.6754392059497\n",
       "\\item 9.75957372146529\n",
       "\\end{enumerate*}\n",
       "\n",
       "\\item \\begin{enumerate*}\n",
       "\\item 101.27511916689\n",
       "\\item 99.6719784689655\n",
       "\\item 97.8808546507369\n",
       "\\item 99.9866567683821\n",
       "\\item 102.010459041466\n",
       "\\item 100.347404107866\n",
       "\\item 99.5666314178817\n",
       "\\item 100.227230664617\n",
       "\\item 100.937901473172\n",
       "\\item 100.600551478769\n",
       "\\end{enumerate*}\n",
       "\n",
       "\\end{enumerate}\n"
      ],
      "text/markdown": [
       "1. 1. -10.9895859639989\n",
       "2. -11.5418366205284\n",
       "3. -10.8450489029227\n",
       "4. -10.4538940953841\n",
       "5. -10.3387502219951\n",
       "6. -9.20382486699511\n",
       "7. -10.7660795027087\n",
       "8. -9.68420491141331\n",
       "9. -8.89805951176629\n",
       "10. -10.0416990086735\n",
       "\n",
       "\n",
       "\n",
       "2. 1. -1.84301435860798\n",
       "2. 0.613515804896667\n",
       "3. 0.621807803439537\n",
       "4. -0.109308407880036\n",
       "5. 0.348353048884382\n",
       "6. -0.213754600910744\n",
       "7. 0.661554400833045\n",
       "8. -0.922527504942822\n",
       "9. 0.546669678477325\n",
       "10. 0.368312003918553\n",
       "\n",
       "\n",
       "\n",
       "3. 1. 11.9669066241575\n",
       "2. 8.77756221395076\n",
       "3. 10.0793343695548\n",
       "4. 8.47357137472204\n",
       "5. 10.3406260021458\n",
       "6. 10.4674303500044\n",
       "7. 10.9898713550137\n",
       "8. 9.48405290039471\n",
       "9. 10.6754392059497\n",
       "10. 9.75957372146529\n",
       "\n",
       "\n",
       "\n",
       "4. 1. 101.27511916689\n",
       "2. 99.6719784689655\n",
       "3. 97.8808546507369\n",
       "4. 99.9866567683821\n",
       "5. 102.010459041466\n",
       "6. 100.347404107866\n",
       "7. 99.5666314178817\n",
       "8. 100.227230664617\n",
       "9. 100.937901473172\n",
       "10. 100.600551478769\n",
       "\n",
       "\n",
       "\n",
       "\n",
       "\n"
      ],
      "text/plain": [
       "[[1]]\n",
       " [1] -10.989586 -11.541837 -10.845049 -10.453894 -10.338750  -9.203825\n",
       " [7] -10.766080  -9.684205  -8.898060 -10.041699\n",
       "\n",
       "[[2]]\n",
       " [1] -1.8430144  0.6135158  0.6218078 -0.1093084  0.3483530 -0.2137546\n",
       " [7]  0.6615544 -0.9225275  0.5466697  0.3683120\n",
       "\n",
       "[[3]]\n",
       " [1] 11.966907  8.777562 10.079334  8.473571 10.340626 10.467430 10.989871\n",
       " [8]  9.484053 10.675439  9.759574\n",
       "\n",
       "[[4]]\n",
       " [1] 101.27512  99.67198  97.88085  99.98666 102.01046 100.34740  99.56663\n",
       " [8] 100.22723 100.93790 100.60055\n"
      ]
     },
     "metadata": {},
     "output_type": "display_data"
    }
   ],
   "source": [
    "# d. 分别使用μ= -10、0、10和100的正态分布生成10个随机数\n",
    "\n",
    "# 直接写了\n",
    "mu <- c(-10, 0, 10, 100)\n",
    "output <- vector(\"list\",length(mu))\n",
    "for (i in seq_along(mu)){\n",
    "    output[[i]] <- rnorm(10, mean = mu[[i]])\n",
    "}\n",
    "output"
   ]
  },
  {
   "cell_type": "code",
   "execution_count": 7,
   "metadata": {},
   "outputs": [
    {
     "data": {
      "text/html": [
       "'abcdefghijklmnopqrstuvwxyz'"
      ],
      "text/latex": [
       "'abcdefghijklmnopqrstuvwxyz'"
      ],
      "text/markdown": [
       "'abcdefghijklmnopqrstuvwxyz'"
      ],
      "text/plain": [
       "[1] \"abcdefghijklmnopqrstuvwxyz\""
      ]
     },
     "metadata": {},
     "output_type": "display_data"
    },
    {
     "data": {
      "text/html": [
       "'abcdefghijklmnopqrstuvwxyz'"
      ],
      "text/latex": [
       "'abcdefghijklmnopqrstuvwxyz'"
      ],
      "text/markdown": [
       "'abcdefghijklmnopqrstuvwxyz'"
      ],
      "text/plain": [
       "[1] \"abcdefghijklmnopqrstuvwxyz\""
      ]
     },
     "metadata": {},
     "output_type": "display_data"
    }
   ],
   "source": [
    "# 使用支持向量运算的现有函数替换for循环\n",
    "out <- \"\"\n",
    "for (x in letters) {   \n",
    "    out <- stringr::str_c(out, x) \n",
    "} \n",
    "out\n",
    "\n",
    "str_c(letters, collapse = \"\")"
   ]
  },
  {
   "cell_type": "code",
   "execution_count": 8,
   "metadata": {},
   "outputs": [
    {
     "data": {
      "text/html": [
       "29.011491975882"
      ],
      "text/latex": [
       "29.011491975882"
      ],
      "text/markdown": [
       "29.011491975882"
      ],
      "text/plain": [
       "[1] 29.01149"
      ]
     },
     "metadata": {},
     "output_type": "display_data"
    },
    {
     "data": {
      "text/html": [
       "29.011491975882"
      ],
      "text/latex": [
       "29.011491975882"
      ],
      "text/markdown": [
       "29.011491975882"
      ],
      "text/plain": [
       "[1] 29.01149"
      ]
     },
     "metadata": {},
     "output_type": "display_data"
    }
   ],
   "source": [
    "# 使用支持向量运算的现有函数替换以下示例中的for循环\n",
    "x <-sample(100) \n",
    "sd <- 0\n",
    "for (i in seq_along(x)) {  \n",
    "    sd <- sd + (x[i] -mean(x)) ^ 2\n",
    "} \n",
    "    sd <-sqrt(sd / (length(x) -1)) \n",
    "# 能看出来是计算样本标准差\n",
    "sd\n",
    "sd(x)# 现成函数很方便"
   ]
  },
  {
   "cell_type": "code",
   "execution_count": 9,
   "metadata": {},
   "outputs": [
    {
     "data": {
      "text/html": [
       "<table>\n",
       "<caption>A matrix: 10 × 10 of type dbl</caption>\n",
       "<tbody>\n",
       "\t<tr><td>0.6973035</td><td>3.938048</td><td> 8.259073</td><td>13.67238</td><td>17.15333</td><td>22.35866</td><td>29.25973</td><td>34.10490</td><td>40.80170</td><td>46.68028</td></tr>\n",
       "\t<tr><td>1.3506894</td><td>4.384395</td><td> 8.756041</td><td>14.10328</td><td>17.47762</td><td>22.91591</td><td>29.86711</td><td>34.71337</td><td>40.94017</td><td>47.60513</td></tr>\n",
       "\t<tr><td>1.6900253</td><td>4.754075</td><td> 8.877519</td><td>14.13409</td><td>17.79589</td><td>23.72497</td><td>30.28393</td><td>35.39988</td><td>41.76018</td><td>48.51303</td></tr>\n",
       "\t<tr><td>1.7954746</td><td>4.872559</td><td> 9.830943</td><td>14.14016</td><td>18.60000</td><td>24.13645</td><td>31.04306</td><td>36.22826</td><td>42.63365</td><td>49.08509</td></tr>\n",
       "\t<tr><td>2.4524392</td><td>5.033890</td><td> 9.974643</td><td>14.19695</td><td>19.22917</td><td>25.01270</td><td>31.19702</td><td>36.69341</td><td>43.16276</td><td>49.49770</td></tr>\n",
       "\t<tr><td>2.5742237</td><td>5.298167</td><td>10.853133</td><td>14.35575</td><td>19.87172</td><td>25.81202</td><td>31.26369</td><td>37.65621</td><td>44.04778</td><td>50.01020</td></tr>\n",
       "\t<tr><td>3.2427838</td><td>5.578703</td><td>11.613923</td><td>14.59185</td><td>20.28119</td><td>26.70988</td><td>31.87535</td><td>38.52491</td><td>44.78916</td><td>50.45304</td></tr>\n",
       "\t<tr><td>3.3848914</td><td>6.527052</td><td>11.957272</td><td>15.44704</td><td>20.53768</td><td>27.64155</td><td>32.12513</td><td>39.51977</td><td>45.62506</td><td>50.87641</td></tr>\n",
       "\t<tr><td>3.6706284</td><td>7.204942</td><td>12.898611</td><td>15.97371</td><td>21.21989</td><td>28.44343</td><td>32.55670</td><td>40.39189</td><td>45.97259</td><td>51.13508</td></tr>\n",
       "\t<tr><td>3.6844165</td><td>8.110477</td><td>13.113221</td><td>16.96792</td><td>21.52370</td><td>28.78806</td><td>33.34381</td><td>40.56337</td><td>46.23726</td><td>51.56451</td></tr>\n",
       "</tbody>\n",
       "</table>\n"
      ],
      "text/latex": [
       "A matrix: 10 × 10 of type dbl\n",
       "\\begin{tabular}{llllllllll}\n",
       "\t 0.6973035 & 3.938048 &  8.259073 & 13.67238 & 17.15333 & 22.35866 & 29.25973 & 34.10490 & 40.80170 & 46.68028\\\\\n",
       "\t 1.3506894 & 4.384395 &  8.756041 & 14.10328 & 17.47762 & 22.91591 & 29.86711 & 34.71337 & 40.94017 & 47.60513\\\\\n",
       "\t 1.6900253 & 4.754075 &  8.877519 & 14.13409 & 17.79589 & 23.72497 & 30.28393 & 35.39988 & 41.76018 & 48.51303\\\\\n",
       "\t 1.7954746 & 4.872559 &  9.830943 & 14.14016 & 18.60000 & 24.13645 & 31.04306 & 36.22826 & 42.63365 & 49.08509\\\\\n",
       "\t 2.4524392 & 5.033890 &  9.974643 & 14.19695 & 19.22917 & 25.01270 & 31.19702 & 36.69341 & 43.16276 & 49.49770\\\\\n",
       "\t 2.5742237 & 5.298167 & 10.853133 & 14.35575 & 19.87172 & 25.81202 & 31.26369 & 37.65621 & 44.04778 & 50.01020\\\\\n",
       "\t 3.2427838 & 5.578703 & 11.613923 & 14.59185 & 20.28119 & 26.70988 & 31.87535 & 38.52491 & 44.78916 & 50.45304\\\\\n",
       "\t 3.3848914 & 6.527052 & 11.957272 & 15.44704 & 20.53768 & 27.64155 & 32.12513 & 39.51977 & 45.62506 & 50.87641\\\\\n",
       "\t 3.6706284 & 7.204942 & 12.898611 & 15.97371 & 21.21989 & 28.44343 & 32.55670 & 40.39189 & 45.97259 & 51.13508\\\\\n",
       "\t 3.6844165 & 8.110477 & 13.113221 & 16.96792 & 21.52370 & 28.78806 & 33.34381 & 40.56337 & 46.23726 & 51.56451\\\\\n",
       "\\end{tabular}\n"
      ],
      "text/markdown": [
       "\n",
       "A matrix: 10 × 10 of type dbl\n",
       "\n",
       "| 0.6973035 | 3.938048 |  8.259073 | 13.67238 | 17.15333 | 22.35866 | 29.25973 | 34.10490 | 40.80170 | 46.68028 |\n",
       "| 1.3506894 | 4.384395 |  8.756041 | 14.10328 | 17.47762 | 22.91591 | 29.86711 | 34.71337 | 40.94017 | 47.60513 |\n",
       "| 1.6900253 | 4.754075 |  8.877519 | 14.13409 | 17.79589 | 23.72497 | 30.28393 | 35.39988 | 41.76018 | 48.51303 |\n",
       "| 1.7954746 | 4.872559 |  9.830943 | 14.14016 | 18.60000 | 24.13645 | 31.04306 | 36.22826 | 42.63365 | 49.08509 |\n",
       "| 2.4524392 | 5.033890 |  9.974643 | 14.19695 | 19.22917 | 25.01270 | 31.19702 | 36.69341 | 43.16276 | 49.49770 |\n",
       "| 2.5742237 | 5.298167 | 10.853133 | 14.35575 | 19.87172 | 25.81202 | 31.26369 | 37.65621 | 44.04778 | 50.01020 |\n",
       "| 3.2427838 | 5.578703 | 11.613923 | 14.59185 | 20.28119 | 26.70988 | 31.87535 | 38.52491 | 44.78916 | 50.45304 |\n",
       "| 3.3848914 | 6.527052 | 11.957272 | 15.44704 | 20.53768 | 27.64155 | 32.12513 | 39.51977 | 45.62506 | 50.87641 |\n",
       "| 3.6706284 | 7.204942 | 12.898611 | 15.97371 | 21.21989 | 28.44343 | 32.55670 | 40.39189 | 45.97259 | 51.13508 |\n",
       "| 3.6844165 | 8.110477 | 13.113221 | 16.96792 | 21.52370 | 28.78806 | 33.34381 | 40.56337 | 46.23726 | 51.56451 |\n",
       "\n"
      ],
      "text/plain": [
       "      [,1]      [,2]     [,3]      [,4]     [,5]     [,6]     [,7]     [,8]    \n",
       " [1,] 0.6973035 3.938048  8.259073 13.67238 17.15333 22.35866 29.25973 34.10490\n",
       " [2,] 1.3506894 4.384395  8.756041 14.10328 17.47762 22.91591 29.86711 34.71337\n",
       " [3,] 1.6900253 4.754075  8.877519 14.13409 17.79589 23.72497 30.28393 35.39988\n",
       " [4,] 1.7954746 4.872559  9.830943 14.14016 18.60000 24.13645 31.04306 36.22826\n",
       " [5,] 2.4524392 5.033890  9.974643 14.19695 19.22917 25.01270 31.19702 36.69341\n",
       " [6,] 2.5742237 5.298167 10.853133 14.35575 19.87172 25.81202 31.26369 37.65621\n",
       " [7,] 3.2427838 5.578703 11.613923 14.59185 20.28119 26.70988 31.87535 38.52491\n",
       " [8,] 3.3848914 6.527052 11.957272 15.44704 20.53768 27.64155 32.12513 39.51977\n",
       " [9,] 3.6706284 7.204942 12.898611 15.97371 21.21989 28.44343 32.55670 40.39189\n",
       "[10,] 3.6844165 8.110477 13.113221 16.96792 21.52370 28.78806 33.34381 40.56337\n",
       "      [,9]     [,10]   \n",
       " [1,] 40.80170 46.68028\n",
       " [2,] 40.94017 47.60513\n",
       " [3,] 41.76018 48.51303\n",
       " [4,] 42.63365 49.08509\n",
       " [5,] 43.16276 49.49770\n",
       " [6,] 44.04778 50.01020\n",
       " [7,] 44.78916 50.45304\n",
       " [8,] 45.62506 50.87641\n",
       " [9,] 45.97259 51.13508\n",
       "[10,] 46.23726 51.56451"
      ]
     },
     "metadata": {},
     "output_type": "display_data"
    },
    {
     "data": {
      "text/html": [
       "<table>\n",
       "<caption>A matrix: 10 × 10 of type dbl</caption>\n",
       "<tbody>\n",
       "\t<tr><td>0.6973035</td><td>3.938048</td><td> 8.259073</td><td>13.67238</td><td>17.15333</td><td>22.35866</td><td>29.25973</td><td>34.10490</td><td>40.80170</td><td>46.68028</td></tr>\n",
       "\t<tr><td>1.3506894</td><td>4.384395</td><td> 8.756041</td><td>14.10328</td><td>17.47762</td><td>22.91591</td><td>29.86711</td><td>34.71337</td><td>40.94017</td><td>47.60513</td></tr>\n",
       "\t<tr><td>1.6900253</td><td>4.754075</td><td> 8.877519</td><td>14.13409</td><td>17.79589</td><td>23.72497</td><td>30.28393</td><td>35.39988</td><td>41.76018</td><td>48.51303</td></tr>\n",
       "\t<tr><td>1.7954746</td><td>4.872559</td><td> 9.830943</td><td>14.14016</td><td>18.60000</td><td>24.13645</td><td>31.04306</td><td>36.22826</td><td>42.63365</td><td>49.08509</td></tr>\n",
       "\t<tr><td>2.4524392</td><td>5.033890</td><td> 9.974643</td><td>14.19695</td><td>19.22917</td><td>25.01270</td><td>31.19702</td><td>36.69341</td><td>43.16276</td><td>49.49770</td></tr>\n",
       "\t<tr><td>2.5742237</td><td>5.298167</td><td>10.853133</td><td>14.35575</td><td>19.87172</td><td>25.81202</td><td>31.26369</td><td>37.65621</td><td>44.04778</td><td>50.01020</td></tr>\n",
       "\t<tr><td>3.2427838</td><td>5.578703</td><td>11.613923</td><td>14.59185</td><td>20.28119</td><td>26.70988</td><td>31.87535</td><td>38.52491</td><td>44.78916</td><td>50.45304</td></tr>\n",
       "\t<tr><td>3.3848914</td><td>6.527052</td><td>11.957272</td><td>15.44704</td><td>20.53768</td><td>27.64155</td><td>32.12513</td><td>39.51977</td><td>45.62506</td><td>50.87641</td></tr>\n",
       "\t<tr><td>3.6706284</td><td>7.204942</td><td>12.898611</td><td>15.97371</td><td>21.21989</td><td>28.44343</td><td>32.55670</td><td>40.39189</td><td>45.97259</td><td>51.13508</td></tr>\n",
       "\t<tr><td>3.6844165</td><td>8.110477</td><td>13.113221</td><td>16.96792</td><td>21.52370</td><td>28.78806</td><td>33.34381</td><td>40.56337</td><td>46.23726</td><td>51.56451</td></tr>\n",
       "</tbody>\n",
       "</table>\n"
      ],
      "text/latex": [
       "A matrix: 10 × 10 of type dbl\n",
       "\\begin{tabular}{llllllllll}\n",
       "\t 0.6973035 & 3.938048 &  8.259073 & 13.67238 & 17.15333 & 22.35866 & 29.25973 & 34.10490 & 40.80170 & 46.68028\\\\\n",
       "\t 1.3506894 & 4.384395 &  8.756041 & 14.10328 & 17.47762 & 22.91591 & 29.86711 & 34.71337 & 40.94017 & 47.60513\\\\\n",
       "\t 1.6900253 & 4.754075 &  8.877519 & 14.13409 & 17.79589 & 23.72497 & 30.28393 & 35.39988 & 41.76018 & 48.51303\\\\\n",
       "\t 1.7954746 & 4.872559 &  9.830943 & 14.14016 & 18.60000 & 24.13645 & 31.04306 & 36.22826 & 42.63365 & 49.08509\\\\\n",
       "\t 2.4524392 & 5.033890 &  9.974643 & 14.19695 & 19.22917 & 25.01270 & 31.19702 & 36.69341 & 43.16276 & 49.49770\\\\\n",
       "\t 2.5742237 & 5.298167 & 10.853133 & 14.35575 & 19.87172 & 25.81202 & 31.26369 & 37.65621 & 44.04778 & 50.01020\\\\\n",
       "\t 3.2427838 & 5.578703 & 11.613923 & 14.59185 & 20.28119 & 26.70988 & 31.87535 & 38.52491 & 44.78916 & 50.45304\\\\\n",
       "\t 3.3848914 & 6.527052 & 11.957272 & 15.44704 & 20.53768 & 27.64155 & 32.12513 & 39.51977 & 45.62506 & 50.87641\\\\\n",
       "\t 3.6706284 & 7.204942 & 12.898611 & 15.97371 & 21.21989 & 28.44343 & 32.55670 & 40.39189 & 45.97259 & 51.13508\\\\\n",
       "\t 3.6844165 & 8.110477 & 13.113221 & 16.96792 & 21.52370 & 28.78806 & 33.34381 & 40.56337 & 46.23726 & 51.56451\\\\\n",
       "\\end{tabular}\n"
      ],
      "text/markdown": [
       "\n",
       "A matrix: 10 × 10 of type dbl\n",
       "\n",
       "| 0.6973035 | 3.938048 |  8.259073 | 13.67238 | 17.15333 | 22.35866 | 29.25973 | 34.10490 | 40.80170 | 46.68028 |\n",
       "| 1.3506894 | 4.384395 |  8.756041 | 14.10328 | 17.47762 | 22.91591 | 29.86711 | 34.71337 | 40.94017 | 47.60513 |\n",
       "| 1.6900253 | 4.754075 |  8.877519 | 14.13409 | 17.79589 | 23.72497 | 30.28393 | 35.39988 | 41.76018 | 48.51303 |\n",
       "| 1.7954746 | 4.872559 |  9.830943 | 14.14016 | 18.60000 | 24.13645 | 31.04306 | 36.22826 | 42.63365 | 49.08509 |\n",
       "| 2.4524392 | 5.033890 |  9.974643 | 14.19695 | 19.22917 | 25.01270 | 31.19702 | 36.69341 | 43.16276 | 49.49770 |\n",
       "| 2.5742237 | 5.298167 | 10.853133 | 14.35575 | 19.87172 | 25.81202 | 31.26369 | 37.65621 | 44.04778 | 50.01020 |\n",
       "| 3.2427838 | 5.578703 | 11.613923 | 14.59185 | 20.28119 | 26.70988 | 31.87535 | 38.52491 | 44.78916 | 50.45304 |\n",
       "| 3.3848914 | 6.527052 | 11.957272 | 15.44704 | 20.53768 | 27.64155 | 32.12513 | 39.51977 | 45.62506 | 50.87641 |\n",
       "| 3.6706284 | 7.204942 | 12.898611 | 15.97371 | 21.21989 | 28.44343 | 32.55670 | 40.39189 | 45.97259 | 51.13508 |\n",
       "| 3.6844165 | 8.110477 | 13.113221 | 16.96792 | 21.52370 | 28.78806 | 33.34381 | 40.56337 | 46.23726 | 51.56451 |\n",
       "\n"
      ],
      "text/plain": [
       "      [,1]      [,2]     [,3]      [,4]     [,5]     [,6]     [,7]     [,8]    \n",
       " [1,] 0.6973035 3.938048  8.259073 13.67238 17.15333 22.35866 29.25973 34.10490\n",
       " [2,] 1.3506894 4.384395  8.756041 14.10328 17.47762 22.91591 29.86711 34.71337\n",
       " [3,] 1.6900253 4.754075  8.877519 14.13409 17.79589 23.72497 30.28393 35.39988\n",
       " [4,] 1.7954746 4.872559  9.830943 14.14016 18.60000 24.13645 31.04306 36.22826\n",
       " [5,] 2.4524392 5.033890  9.974643 14.19695 19.22917 25.01270 31.19702 36.69341\n",
       " [6,] 2.5742237 5.298167 10.853133 14.35575 19.87172 25.81202 31.26369 37.65621\n",
       " [7,] 3.2427838 5.578703 11.613923 14.59185 20.28119 26.70988 31.87535 38.52491\n",
       " [8,] 3.3848914 6.527052 11.957272 15.44704 20.53768 27.64155 32.12513 39.51977\n",
       " [9,] 3.6706284 7.204942 12.898611 15.97371 21.21989 28.44343 32.55670 40.39189\n",
       "[10,] 3.6844165 8.110477 13.113221 16.96792 21.52370 28.78806 33.34381 40.56337\n",
       "      [,9]     [,10]   \n",
       " [1,] 40.80170 46.68028\n",
       " [2,] 40.94017 47.60513\n",
       " [3,] 41.76018 48.51303\n",
       " [4,] 42.63365 49.08509\n",
       " [5,] 43.16276 49.49770\n",
       " [6,] 44.04778 50.01020\n",
       " [7,] 44.78916 50.45304\n",
       " [8,] 45.62506 50.87641\n",
       " [9,] 45.97259 51.13508\n",
       "[10,] 46.23726 51.56451"
      ]
     },
     "metadata": {},
     "output_type": "display_data"
    }
   ],
   "source": [
    "# 使用支持向量运算的现有函数替换以下示例中的for循环\n",
    "x <-runif(100) \n",
    "# x <- 1:10\n",
    "out <-vector(\"numeric\", length(x)) \n",
    "out[1] <- x[1] \n",
    "for (i in 2:length(x)) {  \n",
    "    out[i] <- out[i -1] + x[i] \n",
    "}\n",
    "out %>% matrix(nrow = 10)\n",
    "accumulate(x, `+`) %>% matrix(nrow = 10)# 一个累计函数就解决了"
   ]
  },
  {
   "cell_type": "markdown",
   "metadata": {},
   "source": [
    "## for循环变体"
   ]
  },
  {
   "cell_type": "code",
   "execution_count": 10,
   "metadata": {},
   "outputs": [
    {
     "data": {
      "text/html": [
       "0.386486837831051"
      ],
      "text/latex": [
       "0.386486837831051"
      ],
      "text/markdown": [
       "0.386486837831051"
      ],
      "text/plain": [
       "[1] 0.3864868"
      ]
     },
     "metadata": {},
     "output_type": "display_data"
    },
    {
     "data": {
      "text/html": [
       "0.660216206921165"
      ],
      "text/latex": [
       "0.660216206921165"
      ],
      "text/markdown": [
       "0.660216206921165"
      ],
      "text/plain": [
       "[1] 0.6602162"
      ]
     },
     "metadata": {},
     "output_type": "display_data"
    },
    {
     "data": {
      "text/html": [
       "0.478502584665723"
      ],
      "text/latex": [
       "0.478502584665723"
      ],
      "text/markdown": [
       "0.478502584665723"
      ],
      "text/plain": [
       "[1] 0.4785026"
      ]
     },
     "metadata": {},
     "output_type": "display_data"
    },
    {
     "data": {
      "text/html": [
       "0.470834987465262"
      ],
      "text/latex": [
       "0.470834987465262"
      ],
      "text/markdown": [
       "0.470834987465262"
      ],
      "text/plain": [
       "[1] 0.470835"
      ]
     },
     "metadata": {},
     "output_type": "display_data"
    },
    {
     "name": "stdout",
     "output_type": "stream",
     "text": [
      "[1] \"a\"\n",
      "[1] \"b\"\n",
      "[1] \"c\"\n",
      "[1] \"d\"\n"
     ]
    },
    {
     "data": {
      "text/html": [
       "<dl class=dl-horizontal>\n",
       "\t<dt>a</dt>\n",
       "\t\t<dd>0.386486837831051</dd>\n",
       "\t<dt>b</dt>\n",
       "\t\t<dd>0.660216206921165</dd>\n",
       "\t<dt>c</dt>\n",
       "\t\t<dd>0.478502584665723</dd>\n",
       "\t<dt>d</dt>\n",
       "\t\t<dd>0.470834987465262</dd>\n",
       "</dl>\n"
      ],
      "text/latex": [
       "\\begin{description*}\n",
       "\\item[a] 0.386486837831051\n",
       "\\item[b] 0.660216206921165\n",
       "\\item[c] 0.478502584665723\n",
       "\\item[d] 0.470834987465262\n",
       "\\end{description*}\n"
      ],
      "text/markdown": [
       "a\n",
       ":   0.386486837831051b\n",
       ":   0.660216206921165c\n",
       ":   0.478502584665723d\n",
       ":   0.470834987465262\n",
       "\n"
      ],
      "text/plain": [
       "        a         b         c         d \n",
       "0.3864868 0.6602162 0.4785026 0.4708350 "
      ]
     },
     "metadata": {},
     "output_type": "display_data"
    }
   ],
   "source": [
    "#修改现有对象\n",
    "\n",
    "# 还是前面的例子\n",
    "df <- tibble(\n",
    "    a = rnorm(10),\n",
    "    b = rnorm(10),\n",
    "    c = rnorm(10),\n",
    "    d = rnorm(10)\n",
    ")\n",
    "\n",
    "rescale01 <- function(x) {\n",
    "    rng <- range(x, na.rm = T)\n",
    "    (x - rng[1]) / (rng[2] - rng[1])\n",
    "}\n",
    "\n",
    "df$a <-rescale01(df$a) \n",
    "df$b <-rescale01(df$b) \n",
    "df$c <-rescale01(df$c) \n",
    "df$d <-rescale01(df$d)\n",
    "\n",
    "# for循环实现如下\n",
    "for (i in seq_along(df)) {\n",
    "    df[[i]] <- rescale01(df[[i]])\n",
    "}\n",
    "\n",
    "# 要记住使用[[，而不是[。你或许已经发现了，\n",
    "# 我们在所有for循环中使用的都是[[。\n",
    "# 我们认为甚至在原子向量中最好也使用[[，\n",
    "# 因为它可以明确表示我们要处理的是单个元素\n",
    "\n",
    "# 循环模式\n",
    "\n",
    "# 除了前面的数值索引，\n",
    "# 还可以通过元素进行循环以及按名称进行循环，\n",
    "# 前面已经用过了\n",
    "\n",
    "# 如果想要创建命名的输出向量，请一定按照如下方式进行命名：\n",
    "\n",
    "# results <-vector(\"list\", length(x)) \n",
    "\n",
    "# names(results) <-names(x)\n",
    "\n",
    "result <- vector(\"double\", length(df))\n",
    "names(result) <- names(df)\n",
    "\n",
    "# for (i in seq_along(df)){\n",
    "#     name <- names(df)[[i]]\n",
    "#     value <- df[[i]]\n",
    "# }\n",
    "# name\n",
    "# value\n",
    "# 这里不合适，试一下就明白了\n",
    "\n",
    "mean(df$a)\n",
    "mean(df$b)\n",
    "mean(df$c)\n",
    "mean(df$d)\n",
    "\n",
    "for (i in names(result)){\n",
    "    print(i)\n",
    "    result[i] <- mean(df[[i]])# 再次强调用双方括号\n",
    "}\n",
    "\n",
    "result"
   ]
  },
  {
   "cell_type": "code",
   "execution_count": 11,
   "metadata": {},
   "outputs": [
    {
     "name": "stdout",
     "output_type": "stream",
     "text": [
      " num [1:110] -1.446 -0.865 0.409 -0.86 -1.618 ...\n",
      "List of 3\n",
      " $ : num [1:82] -1.485 1.063 -1.168 0.356 -1.372 ...\n",
      " $ : num [1:72] 0.917 2.902 1.368 1.292 0.176 ...\n",
      " $ : num [1:95] 3.75 2.41 1.47 2.52 1.45 ...\n",
      " num [1:249] -1.485 1.063 -1.168 0.356 -1.372 ...\n",
      " num [1:249] -1.485 1.063 -1.168 0.356 -1.372 ...\n"
     ]
    },
    {
     "data": {
      "text/html": [
       "5"
      ],
      "text/latex": [
       "5"
      ],
      "text/markdown": [
       "5"
      ],
      "text/plain": [
       "[1] 5"
      ]
     },
     "metadata": {},
     "output_type": "display_data"
    }
   ],
   "source": [
    "## 未知的输出长度\n",
    "# sample(100,1)\n",
    "# rnorm(sample(100,1), 0)\n",
    "# mean(rnorm(sample(100,1), 0))\n",
    "\n",
    "# 例如\n",
    "means <- c(0, 1, 2)\n",
    "output <- double()\n",
    "for (i in seq_along(means)) {\n",
    "    n <- sample(100, 1)\n",
    "    output <- c(output, rnorm(n, means[[i]]))\n",
    "}\n",
    "str(output)\n",
    "\n",
    "# 这种方式很低效，如果元素数量多，将会非常耗时\n",
    "\n",
    "# 将结果保存到列表中的解决方法\n",
    "out <- vector(\"list\", length(means))\n",
    "for (i in seq_along(means)) {\n",
    "    n <- sample(100, 1)\n",
    "    out[[i]] <- rnorm(n, means[[i]])\n",
    "}\n",
    "str(out)\n",
    "str(unlist(out))# 列表转向量\n",
    "str(flatten_dbl(out))# 来自purrr包的列表转向量函数\n",
    "\n",
    "# 只要遇到类似情况，就应该使用一个更复杂的对象来保存每次迭代的结果，\n",
    "# 最后再一次性组合起来。\n",
    "\n",
    "# 未知的序列长度\n",
    "# 此时用while循环\n",
    "\n",
    "# while (condition) {   \n",
    "#     # 循环体\n",
    "# }\n",
    "\n",
    "# 使用while循环找出了连续3次掷出正面向上的硬币所需的投掷次数\n",
    "\n",
    "flip <- function() sample(c(\"T\", \"H\"), 1)\n",
    "\n",
    "flips <- 0\n",
    "nheads <- 0\n",
    "\n",
    "while(nheads < 3) {\n",
    "    if (flip() == \"H\") {\n",
    "        nheads <- nheads + 1\n",
    "    } else {\n",
    "        nheads <- 0\n",
    "    }\n",
    "    flips <- flips + 1\n",
    "}\n",
    "\n",
    "flips\n",
    "\n",
    "# while循环用的少，当不知道迭代次数的时候用"
   ]
  },
  {
   "cell_type": "markdown",
   "metadata": {},
   "source": [
    "## 练习"
   ]
  },
  {
   "cell_type": "markdown",
   "metadata": {},
   "source": [
    "(1) 假设一个目录中全是你想要读入的CSV文件。你已经将这些文件的路径保存在向量files <- dir(\"data/\", pattern = \"\\\\.csv$\", full.names = TRUE)中，现在想要使用read_csv()函数来读取每个文件。编写一个for循环将这些文件加载到一个数据框中。"
   ]
  },
  {
   "cell_type": "code",
   "execution_count": 12,
   "metadata": {},
   "outputs": [
    {
     "name": "stdout",
     "output_type": "stream",
     "text": [
      "[1] \"abc_data//abc.csv\"\n"
     ]
    },
    {
     "name": "stderr",
     "output_type": "stream",
     "text": [
      "Parsed with column specification:\n",
      "cols(\n",
      "  a = \u001b[32mcol_double()\u001b[39m,\n",
      "  b = \u001b[32mcol_double()\u001b[39m,\n",
      "  c = \u001b[32mcol_double()\u001b[39m\n",
      ")\n"
     ]
    },
    {
     "name": "stdout",
     "output_type": "stream",
     "text": [
      "[1] \"abc_data//abc2.csv\"\n"
     ]
    },
    {
     "name": "stderr",
     "output_type": "stream",
     "text": [
      "Parsed with column specification:\n",
      "cols(\n",
      "  a = \u001b[32mcol_double()\u001b[39m,\n",
      "  d = \u001b[32mcol_double()\u001b[39m,\n",
      "  e = \u001b[32mcol_double()\u001b[39m\n",
      ")\n"
     ]
    },
    {
     "data": {
      "text/html": [
       "<dl>\n",
       "\t<dt>[[1]]</dt>\n",
       "\t\t<dd>NULL</dd>\n",
       "\t<dt>[[2]]</dt>\n",
       "\t\t<dd>NULL</dd>\n",
       "\t<dt>$abc.csv</dt>\n",
       "\t\t<dd><table>\n",
       "<caption>A spec_tbl_df: 10 × 3</caption>\n",
       "<thead>\n",
       "\t<tr><th scope=col>a</th><th scope=col>b</th><th scope=col>c</th></tr>\n",
       "\t<tr><th scope=col>&lt;dbl&gt;</th><th scope=col>&lt;dbl&gt;</th><th scope=col>&lt;dbl&gt;</th></tr>\n",
       "</thead>\n",
       "<tbody>\n",
       "\t<tr><td> 1</td><td> 2</td><td>  4</td></tr>\n",
       "\t<tr><td> 2</td><td> 4</td><td> 16</td></tr>\n",
       "\t<tr><td> 3</td><td> 6</td><td> 28</td></tr>\n",
       "\t<tr><td> 4</td><td> 8</td><td> 40</td></tr>\n",
       "\t<tr><td> 5</td><td>10</td><td> 52</td></tr>\n",
       "\t<tr><td> 6</td><td>12</td><td> 64</td></tr>\n",
       "\t<tr><td> 7</td><td>14</td><td> 76</td></tr>\n",
       "\t<tr><td> 8</td><td>16</td><td> 88</td></tr>\n",
       "\t<tr><td> 9</td><td>18</td><td>100</td></tr>\n",
       "\t<tr><td>10</td><td>20</td><td>112</td></tr>\n",
       "</tbody>\n",
       "</table>\n",
       "</dd>\n",
       "\t<dt>$abc2.csv</dt>\n",
       "\t\t<dd><table>\n",
       "<caption>A spec_tbl_df: 10 × 3</caption>\n",
       "<thead>\n",
       "\t<tr><th scope=col>a</th><th scope=col>d</th><th scope=col>e</th></tr>\n",
       "\t<tr><th scope=col>&lt;dbl&gt;</th><th scope=col>&lt;dbl&gt;</th><th scope=col>&lt;dbl&gt;</th></tr>\n",
       "</thead>\n",
       "<tbody>\n",
       "\t<tr><td> 1</td><td> 3</td><td> 4</td></tr>\n",
       "\t<tr><td> 2</td><td> 9</td><td> 8</td></tr>\n",
       "\t<tr><td> 3</td><td>15</td><td>12</td></tr>\n",
       "\t<tr><td> 4</td><td>21</td><td>16</td></tr>\n",
       "\t<tr><td> 5</td><td>27</td><td>20</td></tr>\n",
       "\t<tr><td> 6</td><td>33</td><td>24</td></tr>\n",
       "\t<tr><td> 7</td><td>39</td><td>28</td></tr>\n",
       "\t<tr><td> 8</td><td>45</td><td>32</td></tr>\n",
       "\t<tr><td> 9</td><td>51</td><td>36</td></tr>\n",
       "\t<tr><td>10</td><td>57</td><td>40</td></tr>\n",
       "</tbody>\n",
       "</table>\n",
       "</dd>\n",
       "</dl>\n"
      ],
      "text/latex": [
       "\\begin{description}\n",
       "\\item[{[[1]]}] NULL\n",
       "\\item[{[[2]]}] NULL\n",
       "\\item[\\$abc.csv] A spec_tbl_df: 10 × 3\n",
       "\\begin{tabular}{r|lll}\n",
       " a & b & c\\\\\n",
       " <dbl> & <dbl> & <dbl>\\\\\n",
       "\\hline\n",
       "\t  1 &  2 &   4\\\\\n",
       "\t  2 &  4 &  16\\\\\n",
       "\t  3 &  6 &  28\\\\\n",
       "\t  4 &  8 &  40\\\\\n",
       "\t  5 & 10 &  52\\\\\n",
       "\t  6 & 12 &  64\\\\\n",
       "\t  7 & 14 &  76\\\\\n",
       "\t  8 & 16 &  88\\\\\n",
       "\t  9 & 18 & 100\\\\\n",
       "\t 10 & 20 & 112\\\\\n",
       "\\end{tabular}\n",
       "\n",
       "\\item[\\$abc2.csv] A spec_tbl_df: 10 × 3\n",
       "\\begin{tabular}{r|lll}\n",
       " a & d & e\\\\\n",
       " <dbl> & <dbl> & <dbl>\\\\\n",
       "\\hline\n",
       "\t  1 &  3 &  4\\\\\n",
       "\t  2 &  9 &  8\\\\\n",
       "\t  3 & 15 & 12\\\\\n",
       "\t  4 & 21 & 16\\\\\n",
       "\t  5 & 27 & 20\\\\\n",
       "\t  6 & 33 & 24\\\\\n",
       "\t  7 & 39 & 28\\\\\n",
       "\t  8 & 45 & 32\\\\\n",
       "\t  9 & 51 & 36\\\\\n",
       "\t 10 & 57 & 40\\\\\n",
       "\\end{tabular}\n",
       "\n",
       "\\end{description}\n"
      ],
      "text/markdown": [
       "[[1]]\n",
       ":   NULL\n",
       "[[2]]\n",
       ":   NULL\n",
       "$abc.csv\n",
       ":   \n",
       "A spec_tbl_df: 10 × 3\n",
       "\n",
       "| a &lt;dbl&gt; | b &lt;dbl&gt; | c &lt;dbl&gt; |\n",
       "|---|---|---|\n",
       "|  1 |  2 |   4 |\n",
       "|  2 |  4 |  16 |\n",
       "|  3 |  6 |  28 |\n",
       "|  4 |  8 |  40 |\n",
       "|  5 | 10 |  52 |\n",
       "|  6 | 12 |  64 |\n",
       "|  7 | 14 |  76 |\n",
       "|  8 | 16 |  88 |\n",
       "|  9 | 18 | 100 |\n",
       "| 10 | 20 | 112 |\n",
       "\n",
       "\n",
       "$abc2.csv\n",
       ":   \n",
       "A spec_tbl_df: 10 × 3\n",
       "\n",
       "| a &lt;dbl&gt; | d &lt;dbl&gt; | e &lt;dbl&gt; |\n",
       "|---|---|---|\n",
       "|  1 |  3 |  4 |\n",
       "|  2 |  9 |  8 |\n",
       "|  3 | 15 | 12 |\n",
       "|  4 | 21 | 16 |\n",
       "|  5 | 27 | 20 |\n",
       "|  6 | 33 | 24 |\n",
       "|  7 | 39 | 28 |\n",
       "|  8 | 45 | 32 |\n",
       "|  9 | 51 | 36 |\n",
       "| 10 | 57 | 40 |\n",
       "\n",
       "\n",
       "\n",
       "\n"
      ],
      "text/plain": [
       "[[1]]\n",
       "NULL\n",
       "\n",
       "[[2]]\n",
       "NULL\n",
       "\n",
       "$abc.csv\n",
       "\u001b[90m# A tibble: 10 x 3\u001b[39m\n",
       "       a     b     c\n",
       "   \u001b[3m\u001b[90m<dbl>\u001b[39m\u001b[23m \u001b[3m\u001b[90m<dbl>\u001b[39m\u001b[23m \u001b[3m\u001b[90m<dbl>\u001b[39m\u001b[23m\n",
       "\u001b[90m 1\u001b[39m     1     2     4\n",
       "\u001b[90m 2\u001b[39m     2     4    16\n",
       "\u001b[90m 3\u001b[39m     3     6    28\n",
       "\u001b[90m 4\u001b[39m     4     8    40\n",
       "\u001b[90m 5\u001b[39m     5    10    52\n",
       "\u001b[90m 6\u001b[39m     6    12    64\n",
       "\u001b[90m 7\u001b[39m     7    14    76\n",
       "\u001b[90m 8\u001b[39m     8    16    88\n",
       "\u001b[90m 9\u001b[39m     9    18   100\n",
       "\u001b[90m10\u001b[39m    10    20   112\n",
       "\n",
       "$abc2.csv\n",
       "\u001b[90m# A tibble: 10 x 3\u001b[39m\n",
       "       a     d     e\n",
       "   \u001b[3m\u001b[90m<dbl>\u001b[39m\u001b[23m \u001b[3m\u001b[90m<dbl>\u001b[39m\u001b[23m \u001b[3m\u001b[90m<dbl>\u001b[39m\u001b[23m\n",
       "\u001b[90m 1\u001b[39m     1     3     4\n",
       "\u001b[90m 2\u001b[39m     2     9     8\n",
       "\u001b[90m 3\u001b[39m     3    15    12\n",
       "\u001b[90m 4\u001b[39m     4    21    16\n",
       "\u001b[90m 5\u001b[39m     5    27    20\n",
       "\u001b[90m 6\u001b[39m     6    33    24\n",
       "\u001b[90m 7\u001b[39m     7    39    28\n",
       "\u001b[90m 8\u001b[39m     8    45    32\n",
       "\u001b[90m 9\u001b[39m     9    51    36\n",
       "\u001b[90m10\u001b[39m    10    57    40\n"
      ]
     },
     "metadata": {},
     "output_type": "display_data"
    },
    {
     "data": {
      "text/html": [
       "<table>\n",
       "<caption>A spec_tbl_df: 20 × 5</caption>\n",
       "<thead>\n",
       "\t<tr><th scope=col>a</th><th scope=col>b</th><th scope=col>c</th><th scope=col>d</th><th scope=col>e</th></tr>\n",
       "\t<tr><th scope=col>&lt;dbl&gt;</th><th scope=col>&lt;dbl&gt;</th><th scope=col>&lt;dbl&gt;</th><th scope=col>&lt;dbl&gt;</th><th scope=col>&lt;dbl&gt;</th></tr>\n",
       "</thead>\n",
       "<tbody>\n",
       "\t<tr><td> 1</td><td> 2</td><td>  4</td><td>NA</td><td>NA</td></tr>\n",
       "\t<tr><td> 2</td><td> 4</td><td> 16</td><td>NA</td><td>NA</td></tr>\n",
       "\t<tr><td> 3</td><td> 6</td><td> 28</td><td>NA</td><td>NA</td></tr>\n",
       "\t<tr><td> 4</td><td> 8</td><td> 40</td><td>NA</td><td>NA</td></tr>\n",
       "\t<tr><td> 5</td><td>10</td><td> 52</td><td>NA</td><td>NA</td></tr>\n",
       "\t<tr><td> 6</td><td>12</td><td> 64</td><td>NA</td><td>NA</td></tr>\n",
       "\t<tr><td> 7</td><td>14</td><td> 76</td><td>NA</td><td>NA</td></tr>\n",
       "\t<tr><td> 8</td><td>16</td><td> 88</td><td>NA</td><td>NA</td></tr>\n",
       "\t<tr><td> 9</td><td>18</td><td>100</td><td>NA</td><td>NA</td></tr>\n",
       "\t<tr><td>10</td><td>20</td><td>112</td><td>NA</td><td>NA</td></tr>\n",
       "\t<tr><td> 1</td><td>NA</td><td> NA</td><td> 3</td><td> 4</td></tr>\n",
       "\t<tr><td> 2</td><td>NA</td><td> NA</td><td> 9</td><td> 8</td></tr>\n",
       "\t<tr><td> 3</td><td>NA</td><td> NA</td><td>15</td><td>12</td></tr>\n",
       "\t<tr><td> 4</td><td>NA</td><td> NA</td><td>21</td><td>16</td></tr>\n",
       "\t<tr><td> 5</td><td>NA</td><td> NA</td><td>27</td><td>20</td></tr>\n",
       "\t<tr><td> 6</td><td>NA</td><td> NA</td><td>33</td><td>24</td></tr>\n",
       "\t<tr><td> 7</td><td>NA</td><td> NA</td><td>39</td><td>28</td></tr>\n",
       "\t<tr><td> 8</td><td>NA</td><td> NA</td><td>45</td><td>32</td></tr>\n",
       "\t<tr><td> 9</td><td>NA</td><td> NA</td><td>51</td><td>36</td></tr>\n",
       "\t<tr><td>10</td><td>NA</td><td> NA</td><td>57</td><td>40</td></tr>\n",
       "</tbody>\n",
       "</table>\n"
      ],
      "text/latex": [
       "A spec_tbl_df: 20 × 5\n",
       "\\begin{tabular}{r|lllll}\n",
       " a & b & c & d & e\\\\\n",
       " <dbl> & <dbl> & <dbl> & <dbl> & <dbl>\\\\\n",
       "\\hline\n",
       "\t  1 &  2 &   4 & NA & NA\\\\\n",
       "\t  2 &  4 &  16 & NA & NA\\\\\n",
       "\t  3 &  6 &  28 & NA & NA\\\\\n",
       "\t  4 &  8 &  40 & NA & NA\\\\\n",
       "\t  5 & 10 &  52 & NA & NA\\\\\n",
       "\t  6 & 12 &  64 & NA & NA\\\\\n",
       "\t  7 & 14 &  76 & NA & NA\\\\\n",
       "\t  8 & 16 &  88 & NA & NA\\\\\n",
       "\t  9 & 18 & 100 & NA & NA\\\\\n",
       "\t 10 & 20 & 112 & NA & NA\\\\\n",
       "\t  1 & NA &  NA &  3 &  4\\\\\n",
       "\t  2 & NA &  NA &  9 &  8\\\\\n",
       "\t  3 & NA &  NA & 15 & 12\\\\\n",
       "\t  4 & NA &  NA & 21 & 16\\\\\n",
       "\t  5 & NA &  NA & 27 & 20\\\\\n",
       "\t  6 & NA &  NA & 33 & 24\\\\\n",
       "\t  7 & NA &  NA & 39 & 28\\\\\n",
       "\t  8 & NA &  NA & 45 & 32\\\\\n",
       "\t  9 & NA &  NA & 51 & 36\\\\\n",
       "\t 10 & NA &  NA & 57 & 40\\\\\n",
       "\\end{tabular}\n"
      ],
      "text/markdown": [
       "\n",
       "A spec_tbl_df: 20 × 5\n",
       "\n",
       "| a &lt;dbl&gt; | b &lt;dbl&gt; | c &lt;dbl&gt; | d &lt;dbl&gt; | e &lt;dbl&gt; |\n",
       "|---|---|---|---|---|\n",
       "|  1 |  2 |   4 | NA | NA |\n",
       "|  2 |  4 |  16 | NA | NA |\n",
       "|  3 |  6 |  28 | NA | NA |\n",
       "|  4 |  8 |  40 | NA | NA |\n",
       "|  5 | 10 |  52 | NA | NA |\n",
       "|  6 | 12 |  64 | NA | NA |\n",
       "|  7 | 14 |  76 | NA | NA |\n",
       "|  8 | 16 |  88 | NA | NA |\n",
       "|  9 | 18 | 100 | NA | NA |\n",
       "| 10 | 20 | 112 | NA | NA |\n",
       "|  1 | NA |  NA |  3 |  4 |\n",
       "|  2 | NA |  NA |  9 |  8 |\n",
       "|  3 | NA |  NA | 15 | 12 |\n",
       "|  4 | NA |  NA | 21 | 16 |\n",
       "|  5 | NA |  NA | 27 | 20 |\n",
       "|  6 | NA |  NA | 33 | 24 |\n",
       "|  7 | NA |  NA | 39 | 28 |\n",
       "|  8 | NA |  NA | 45 | 32 |\n",
       "|  9 | NA |  NA | 51 | 36 |\n",
       "| 10 | NA |  NA | 57 | 40 |\n",
       "\n"
      ],
      "text/plain": [
       "   a  b  c   d  e \n",
       "1   1  2   4 NA NA\n",
       "2   2  4  16 NA NA\n",
       "3   3  6  28 NA NA\n",
       "4   4  8  40 NA NA\n",
       "5   5 10  52 NA NA\n",
       "6   6 12  64 NA NA\n",
       "7   7 14  76 NA NA\n",
       "8   8 16  88 NA NA\n",
       "9   9 18 100 NA NA\n",
       "10 10 20 112 NA NA\n",
       "11  1 NA  NA  3  4\n",
       "12  2 NA  NA  9  8\n",
       "13  3 NA  NA 15 12\n",
       "14  4 NA  NA 21 16\n",
       "15  5 NA  NA 27 20\n",
       "16  6 NA  NA 33 24\n",
       "17  7 NA  NA 39 28\n",
       "18  8 NA  NA 45 32\n",
       "19  9 NA  NA 51 36\n",
       "20 10 NA  NA 57 40"
      ]
     },
     "metadata": {},
     "output_type": "display_data"
    },
    {
     "data": {
      "text/html": [
       "<table>\n",
       "<caption>A spec_tbl_df: 10 × 6</caption>\n",
       "<thead>\n",
       "\t<tr><th scope=col>a</th><th scope=col>b</th><th scope=col>c</th><th scope=col>a1</th><th scope=col>d</th><th scope=col>e</th></tr>\n",
       "\t<tr><th scope=col>&lt;dbl&gt;</th><th scope=col>&lt;dbl&gt;</th><th scope=col>&lt;dbl&gt;</th><th scope=col>&lt;dbl&gt;</th><th scope=col>&lt;dbl&gt;</th><th scope=col>&lt;dbl&gt;</th></tr>\n",
       "</thead>\n",
       "<tbody>\n",
       "\t<tr><td> 1</td><td> 2</td><td>  4</td><td> 1</td><td> 3</td><td> 4</td></tr>\n",
       "\t<tr><td> 2</td><td> 4</td><td> 16</td><td> 2</td><td> 9</td><td> 8</td></tr>\n",
       "\t<tr><td> 3</td><td> 6</td><td> 28</td><td> 3</td><td>15</td><td>12</td></tr>\n",
       "\t<tr><td> 4</td><td> 8</td><td> 40</td><td> 4</td><td>21</td><td>16</td></tr>\n",
       "\t<tr><td> 5</td><td>10</td><td> 52</td><td> 5</td><td>27</td><td>20</td></tr>\n",
       "\t<tr><td> 6</td><td>12</td><td> 64</td><td> 6</td><td>33</td><td>24</td></tr>\n",
       "\t<tr><td> 7</td><td>14</td><td> 76</td><td> 7</td><td>39</td><td>28</td></tr>\n",
       "\t<tr><td> 8</td><td>16</td><td> 88</td><td> 8</td><td>45</td><td>32</td></tr>\n",
       "\t<tr><td> 9</td><td>18</td><td>100</td><td> 9</td><td>51</td><td>36</td></tr>\n",
       "\t<tr><td>10</td><td>20</td><td>112</td><td>10</td><td>57</td><td>40</td></tr>\n",
       "</tbody>\n",
       "</table>\n"
      ],
      "text/latex": [
       "A spec_tbl_df: 10 × 6\n",
       "\\begin{tabular}{r|llllll}\n",
       " a & b & c & a1 & d & e\\\\\n",
       " <dbl> & <dbl> & <dbl> & <dbl> & <dbl> & <dbl>\\\\\n",
       "\\hline\n",
       "\t  1 &  2 &   4 &  1 &  3 &  4\\\\\n",
       "\t  2 &  4 &  16 &  2 &  9 &  8\\\\\n",
       "\t  3 &  6 &  28 &  3 & 15 & 12\\\\\n",
       "\t  4 &  8 &  40 &  4 & 21 & 16\\\\\n",
       "\t  5 & 10 &  52 &  5 & 27 & 20\\\\\n",
       "\t  6 & 12 &  64 &  6 & 33 & 24\\\\\n",
       "\t  7 & 14 &  76 &  7 & 39 & 28\\\\\n",
       "\t  8 & 16 &  88 &  8 & 45 & 32\\\\\n",
       "\t  9 & 18 & 100 &  9 & 51 & 36\\\\\n",
       "\t 10 & 20 & 112 & 10 & 57 & 40\\\\\n",
       "\\end{tabular}\n"
      ],
      "text/markdown": [
       "\n",
       "A spec_tbl_df: 10 × 6\n",
       "\n",
       "| a &lt;dbl&gt; | b &lt;dbl&gt; | c &lt;dbl&gt; | a1 &lt;dbl&gt; | d &lt;dbl&gt; | e &lt;dbl&gt; |\n",
       "|---|---|---|---|---|---|\n",
       "|  1 |  2 |   4 |  1 |  3 |  4 |\n",
       "|  2 |  4 |  16 |  2 |  9 |  8 |\n",
       "|  3 |  6 |  28 |  3 | 15 | 12 |\n",
       "|  4 |  8 |  40 |  4 | 21 | 16 |\n",
       "|  5 | 10 |  52 |  5 | 27 | 20 |\n",
       "|  6 | 12 |  64 |  6 | 33 | 24 |\n",
       "|  7 | 14 |  76 |  7 | 39 | 28 |\n",
       "|  8 | 16 |  88 |  8 | 45 | 32 |\n",
       "|  9 | 18 | 100 |  9 | 51 | 36 |\n",
       "| 10 | 20 | 112 | 10 | 57 | 40 |\n",
       "\n"
      ],
      "text/plain": [
       "   a  b  c   a1 d  e \n",
       "1   1  2   4  1  3  4\n",
       "2   2  4  16  2  9  8\n",
       "3   3  6  28  3 15 12\n",
       "4   4  8  40  4 21 16\n",
       "5   5 10  52  5 27 20\n",
       "6   6 12  64  6 33 24\n",
       "7   7 14  76  7 39 28\n",
       "8   8 16  88  8 45 32\n",
       "9   9 18 100  9 51 36\n",
       "10 10 20 112 10 57 40"
      ]
     },
     "metadata": {},
     "output_type": "display_data"
    }
   ],
   "source": [
    "files <- dir(\"abc_data/\", pattern = \"\\\\.csv$\", full.names = TRUE)\n",
    "out <-vector(\"list\", length(files))\n",
    "\n",
    "for (i in files) {\n",
    "    print(i)\n",
    "    nm <- str_split(i, \"/\", simplify = T)[1,3]\n",
    "    out[[nm]] <- read_csv(file = i, col_names = T, quote = \"\")\n",
    "\n",
    "}# 利用一下字符串拆分名一下名\n",
    "out\n",
    "bind_rows(out)\n",
    "bind_cols(out)"
   ]
  },
  {
   "cell_type": "code",
   "execution_count": 13,
   "metadata": {},
   "outputs": [
    {
     "name": "stdout",
     "output_type": "stream",
     "text": [
      "Sepal.Length:5.84\n",
      "Sepal.Width:3.06\n",
      "Petal.Length:3.76\n",
      "Petal.Width:1.20\n",
      "Sepal.Length: 5.84 \n",
      "Sepal.Width:  3.06 \n",
      "Petal.Length: 3.76 \n",
      "Petal.Width:  1.20 \n"
     ]
    }
   ],
   "source": [
    "# 编写一个函数，使其输出一个数据框中所有数值列的均值及名称\n",
    "show_mean <- function(x){\n",
    "    for (i in names(x)){\n",
    "        if(is.numeric(x[[i]])){\n",
    "        mn <- mean(x[[i]])\n",
    "#         print(i)\n",
    "        cat(i, \":\" , format(mn, digits = 2, nsmall = 2), \"\\n\", sep = \"\")\n",
    "        }# format用于格式化\n",
    "    }\n",
    "}\n",
    "show_mean(iris)\n",
    "# 目前只能写到这样\n",
    "\n",
    "# 下面的是网上找到的，对齐了数值\n",
    "show_mean2 <- function(df, digits = 2) {\n",
    "  # Get max length of all variable names in the dataset\n",
    "  maxstr <- max(str_length(names(df)))\n",
    "  for (nm in names(df)) {\n",
    "    if (is.numeric(df[[nm]])) {\n",
    "      cat(\n",
    "        str_c(str_pad(str_c(nm, \":\"), maxstr + 1L, side = \"right\"),\n",
    "              format(mean(df[[nm]]), digits = digits, nsmall = digits),\n",
    "              sep = \" \"\n",
    "        ),\n",
    "        \"\\n\"\n",
    "      )\n",
    "    }\n",
    "  }\n",
    "}\n",
    "show_mean2(iris)"
   ]
  },
  {
   "cell_type": "code",
   "execution_count": 14,
   "metadata": {},
   "outputs": [
    {
     "data": {
      "text/html": [
       "<table>\n",
       "<caption>A data.frame: 6 × 11</caption>\n",
       "<thead>\n",
       "\t<tr><th></th><th scope=col>mpg</th><th scope=col>cyl</th><th scope=col>disp</th><th scope=col>hp</th><th scope=col>drat</th><th scope=col>wt</th><th scope=col>qsec</th><th scope=col>vs</th><th scope=col>am</th><th scope=col>gear</th><th scope=col>carb</th></tr>\n",
       "\t<tr><th></th><th scope=col>&lt;dbl&gt;</th><th scope=col>&lt;dbl&gt;</th><th scope=col>&lt;dbl&gt;</th><th scope=col>&lt;dbl&gt;</th><th scope=col>&lt;dbl&gt;</th><th scope=col>&lt;dbl&gt;</th><th scope=col>&lt;dbl&gt;</th><th scope=col>&lt;dbl&gt;</th><th scope=col>&lt;dbl&gt;</th><th scope=col>&lt;dbl&gt;</th><th scope=col>&lt;dbl&gt;</th></tr>\n",
       "</thead>\n",
       "<tbody>\n",
       "\t<tr><th scope=row>Mazda RX4</th><td>21.0</td><td>6</td><td>160</td><td>110</td><td>3.90</td><td>2.620</td><td>16.46</td><td>0</td><td>1</td><td>4</td><td>4</td></tr>\n",
       "\t<tr><th scope=row>Mazda RX4 Wag</th><td>21.0</td><td>6</td><td>160</td><td>110</td><td>3.90</td><td>2.875</td><td>17.02</td><td>0</td><td>1</td><td>4</td><td>4</td></tr>\n",
       "\t<tr><th scope=row>Datsun 710</th><td>22.8</td><td>4</td><td>108</td><td> 93</td><td>3.85</td><td>2.320</td><td>18.61</td><td>1</td><td>1</td><td>4</td><td>1</td></tr>\n",
       "\t<tr><th scope=row>Hornet 4 Drive</th><td>21.4</td><td>6</td><td>258</td><td>110</td><td>3.08</td><td>3.215</td><td>19.44</td><td>1</td><td>0</td><td>3</td><td>1</td></tr>\n",
       "\t<tr><th scope=row>Hornet Sportabout</th><td>18.7</td><td>8</td><td>360</td><td>175</td><td>3.15</td><td>3.440</td><td>17.02</td><td>0</td><td>0</td><td>3</td><td>2</td></tr>\n",
       "\t<tr><th scope=row>Valiant</th><td>18.1</td><td>6</td><td>225</td><td>105</td><td>2.76</td><td>3.460</td><td>20.22</td><td>1</td><td>0</td><td>3</td><td>1</td></tr>\n",
       "</tbody>\n",
       "</table>\n"
      ],
      "text/latex": [
       "A data.frame: 6 × 11\n",
       "\\begin{tabular}{r|lllllllllll}\n",
       "  & mpg & cyl & disp & hp & drat & wt & qsec & vs & am & gear & carb\\\\\n",
       "  & <dbl> & <dbl> & <dbl> & <dbl> & <dbl> & <dbl> & <dbl> & <dbl> & <dbl> & <dbl> & <dbl>\\\\\n",
       "\\hline\n",
       "\tMazda RX4 & 21.0 & 6 & 160 & 110 & 3.90 & 2.620 & 16.46 & 0 & 1 & 4 & 4\\\\\n",
       "\tMazda RX4 Wag & 21.0 & 6 & 160 & 110 & 3.90 & 2.875 & 17.02 & 0 & 1 & 4 & 4\\\\\n",
       "\tDatsun 710 & 22.8 & 4 & 108 &  93 & 3.85 & 2.320 & 18.61 & 1 & 1 & 4 & 1\\\\\n",
       "\tHornet 4 Drive & 21.4 & 6 & 258 & 110 & 3.08 & 3.215 & 19.44 & 1 & 0 & 3 & 1\\\\\n",
       "\tHornet Sportabout & 18.7 & 8 & 360 & 175 & 3.15 & 3.440 & 17.02 & 0 & 0 & 3 & 2\\\\\n",
       "\tValiant & 18.1 & 6 & 225 & 105 & 2.76 & 3.460 & 20.22 & 1 & 0 & 3 & 1\\\\\n",
       "\\end{tabular}\n"
      ],
      "text/markdown": [
       "\n",
       "A data.frame: 6 × 11\n",
       "\n",
       "| <!--/--> | mpg &lt;dbl&gt; | cyl &lt;dbl&gt; | disp &lt;dbl&gt; | hp &lt;dbl&gt; | drat &lt;dbl&gt; | wt &lt;dbl&gt; | qsec &lt;dbl&gt; | vs &lt;dbl&gt; | am &lt;dbl&gt; | gear &lt;dbl&gt; | carb &lt;dbl&gt; |\n",
       "|---|---|---|---|---|---|---|---|---|---|---|---|\n",
       "| Mazda RX4 | 21.0 | 6 | 160 | 110 | 3.90 | 2.620 | 16.46 | 0 | 1 | 4 | 4 |\n",
       "| Mazda RX4 Wag | 21.0 | 6 | 160 | 110 | 3.90 | 2.875 | 17.02 | 0 | 1 | 4 | 4 |\n",
       "| Datsun 710 | 22.8 | 4 | 108 |  93 | 3.85 | 2.320 | 18.61 | 1 | 1 | 4 | 1 |\n",
       "| Hornet 4 Drive | 21.4 | 6 | 258 | 110 | 3.08 | 3.215 | 19.44 | 1 | 0 | 3 | 1 |\n",
       "| Hornet Sportabout | 18.7 | 8 | 360 | 175 | 3.15 | 3.440 | 17.02 | 0 | 0 | 3 | 2 |\n",
       "| Valiant | 18.1 | 6 | 225 | 105 | 2.76 | 3.460 | 20.22 | 1 | 0 | 3 | 1 |\n",
       "\n"
      ],
      "text/plain": [
       "                  mpg  cyl disp hp  drat wt    qsec  vs am gear carb\n",
       "Mazda RX4         21.0 6   160  110 3.90 2.620 16.46 0  1  4    4   \n",
       "Mazda RX4 Wag     21.0 6   160  110 3.90 2.875 17.02 0  1  4    4   \n",
       "Datsun 710        22.8 4   108   93 3.85 2.320 18.61 1  1  4    1   \n",
       "Hornet 4 Drive    21.4 6   258  110 3.08 3.215 19.44 1  0  3    1   \n",
       "Hornet Sportabout 18.7 8   360  175 3.15 3.440 17.02 0  0  3    2   \n",
       "Valiant           18.1 6   225  105 2.76 3.460 20.22 1  0  3    1   "
      ]
     },
     "metadata": {},
     "output_type": "display_data"
    },
    {
     "data": {
      "text/html": [
       "<table>\n",
       "<caption>A data.frame: 6 × 11</caption>\n",
       "<thead>\n",
       "\t<tr><th></th><th scope=col>mpg</th><th scope=col>cyl</th><th scope=col>disp</th><th scope=col>hp</th><th scope=col>drat</th><th scope=col>wt</th><th scope=col>qsec</th><th scope=col>vs</th><th scope=col>am</th><th scope=col>gear</th><th scope=col>carb</th></tr>\n",
       "\t<tr><th></th><th scope=col>&lt;dbl&gt;</th><th scope=col>&lt;dbl&gt;</th><th scope=col>&lt;dbl&gt;</th><th scope=col>&lt;dbl&gt;</th><th scope=col>&lt;dbl&gt;</th><th scope=col>&lt;dbl&gt;</th><th scope=col>&lt;dbl&gt;</th><th scope=col>&lt;dbl&gt;</th><th scope=col>&lt;fct&gt;</th><th scope=col>&lt;dbl&gt;</th><th scope=col>&lt;dbl&gt;</th></tr>\n",
       "</thead>\n",
       "<tbody>\n",
       "\t<tr><th scope=row>Mazda RX4</th><td>21.0</td><td>6</td><td>2.621936</td><td>110</td><td>3.90</td><td>2.620</td><td>16.46</td><td>0</td><td>manual</td><td>4</td><td>4</td></tr>\n",
       "\t<tr><th scope=row>Mazda RX4 Wag</th><td>21.0</td><td>6</td><td>2.621936</td><td>110</td><td>3.90</td><td>2.875</td><td>17.02</td><td>0</td><td>manual</td><td>4</td><td>4</td></tr>\n",
       "\t<tr><th scope=row>Datsun 710</th><td>22.8</td><td>4</td><td>1.769807</td><td> 93</td><td>3.85</td><td>2.320</td><td>18.61</td><td>1</td><td>manual</td><td>4</td><td>1</td></tr>\n",
       "\t<tr><th scope=row>Hornet 4 Drive</th><td>21.4</td><td>6</td><td>4.227872</td><td>110</td><td>3.08</td><td>3.215</td><td>19.44</td><td>1</td><td>auto  </td><td>3</td><td>1</td></tr>\n",
       "\t<tr><th scope=row>Hornet Sportabout</th><td>18.7</td><td>8</td><td>5.899356</td><td>175</td><td>3.15</td><td>3.440</td><td>17.02</td><td>0</td><td>auto  </td><td>3</td><td>2</td></tr>\n",
       "\t<tr><th scope=row>Valiant</th><td>18.1</td><td>6</td><td>3.687098</td><td>105</td><td>2.76</td><td>3.460</td><td>20.22</td><td>1</td><td>auto  </td><td>3</td><td>1</td></tr>\n",
       "</tbody>\n",
       "</table>\n"
      ],
      "text/latex": [
       "A data.frame: 6 × 11\n",
       "\\begin{tabular}{r|lllllllllll}\n",
       "  & mpg & cyl & disp & hp & drat & wt & qsec & vs & am & gear & carb\\\\\n",
       "  & <dbl> & <dbl> & <dbl> & <dbl> & <dbl> & <dbl> & <dbl> & <dbl> & <fct> & <dbl> & <dbl>\\\\\n",
       "\\hline\n",
       "\tMazda RX4 & 21.0 & 6 & 2.621936 & 110 & 3.90 & 2.620 & 16.46 & 0 & manual & 4 & 4\\\\\n",
       "\tMazda RX4 Wag & 21.0 & 6 & 2.621936 & 110 & 3.90 & 2.875 & 17.02 & 0 & manual & 4 & 4\\\\\n",
       "\tDatsun 710 & 22.8 & 4 & 1.769807 &  93 & 3.85 & 2.320 & 18.61 & 1 & manual & 4 & 1\\\\\n",
       "\tHornet 4 Drive & 21.4 & 6 & 4.227872 & 110 & 3.08 & 3.215 & 19.44 & 1 & auto   & 3 & 1\\\\\n",
       "\tHornet Sportabout & 18.7 & 8 & 5.899356 & 175 & 3.15 & 3.440 & 17.02 & 0 & auto   & 3 & 2\\\\\n",
       "\tValiant & 18.1 & 6 & 3.687098 & 105 & 2.76 & 3.460 & 20.22 & 1 & auto   & 3 & 1\\\\\n",
       "\\end{tabular}\n"
      ],
      "text/markdown": [
       "\n",
       "A data.frame: 6 × 11\n",
       "\n",
       "| <!--/--> | mpg &lt;dbl&gt; | cyl &lt;dbl&gt; | disp &lt;dbl&gt; | hp &lt;dbl&gt; | drat &lt;dbl&gt; | wt &lt;dbl&gt; | qsec &lt;dbl&gt; | vs &lt;dbl&gt; | am &lt;fct&gt; | gear &lt;dbl&gt; | carb &lt;dbl&gt; |\n",
       "|---|---|---|---|---|---|---|---|---|---|---|---|\n",
       "| Mazda RX4 | 21.0 | 6 | 2.621936 | 110 | 3.90 | 2.620 | 16.46 | 0 | manual | 4 | 4 |\n",
       "| Mazda RX4 Wag | 21.0 | 6 | 2.621936 | 110 | 3.90 | 2.875 | 17.02 | 0 | manual | 4 | 4 |\n",
       "| Datsun 710 | 22.8 | 4 | 1.769807 |  93 | 3.85 | 2.320 | 18.61 | 1 | manual | 4 | 1 |\n",
       "| Hornet 4 Drive | 21.4 | 6 | 4.227872 | 110 | 3.08 | 3.215 | 19.44 | 1 | auto   | 3 | 1 |\n",
       "| Hornet Sportabout | 18.7 | 8 | 5.899356 | 175 | 3.15 | 3.440 | 17.02 | 0 | auto   | 3 | 2 |\n",
       "| Valiant | 18.1 | 6 | 3.687098 | 105 | 2.76 | 3.460 | 20.22 | 1 | auto   | 3 | 1 |\n",
       "\n"
      ],
      "text/plain": [
       "                  mpg  cyl disp     hp  drat wt    qsec  vs am     gear carb\n",
       "Mazda RX4         21.0 6   2.621936 110 3.90 2.620 16.46 0  manual 4    4   \n",
       "Mazda RX4 Wag     21.0 6   2.621936 110 3.90 2.875 17.02 0  manual 4    4   \n",
       "Datsun 710        22.8 4   1.769807  93 3.85 2.320 18.61 1  manual 4    1   \n",
       "Hornet 4 Drive    21.4 6   4.227872 110 3.08 3.215 19.44 1  auto   3    1   \n",
       "Hornet Sportabout 18.7 8   5.899356 175 3.15 3.440 17.02 0  auto   3    2   \n",
       "Valiant           18.1 6   3.687098 105 2.76 3.460 20.22 1  auto   3    1   "
      ]
     },
     "metadata": {},
     "output_type": "display_data"
    }
   ],
   "source": [
    "head(mtcars)\n",
    "trans <-list(  \n",
    "    disp =function(x) x *0.0163871,   \n",
    "    am =function(x) { \n",
    "        factor(x, labels =c(\"auto\", \"manual\"))   \n",
    "    } \n",
    ") \n",
    "for (var in names(trans)) {   \n",
    "    mtcars[[var]] <- trans[[var]](mtcars[[var]]) \n",
    "}\n",
    "head(mtcars)\n",
    "\n",
    "# 对比一下能懂，写不出来"
   ]
  },
  {
   "cell_type": "markdown",
   "metadata": {},
   "source": [
    "## for循环与函数式编程\n",
    "\n",
    "for循环在R中不像在其他语言中那么重要，因为R是一门函数式编程语言。这意味着可以先将for循环包装在函数中，然后再调用这个函数，而不是直接使用for循环。"
   ]
  },
  {
   "cell_type": "code",
   "execution_count": 15,
   "metadata": {},
   "outputs": [
    {
     "data": {
      "text/html": [
       "<ol class=list-inline>\n",
       "\t<li>-0.0691737424348837</li>\n",
       "\t<li>0.189403079594602</li>\n",
       "\t<li>0.026400624604292</li>\n",
       "\t<li>0.490374176541561</li>\n",
       "</ol>\n"
      ],
      "text/latex": [
       "\\begin{enumerate*}\n",
       "\\item -0.0691737424348837\n",
       "\\item 0.189403079594602\n",
       "\\item 0.026400624604292\n",
       "\\item 0.490374176541561\n",
       "\\end{enumerate*}\n"
      ],
      "text/markdown": [
       "1. -0.0691737424348837\n",
       "2. 0.189403079594602\n",
       "3. 0.026400624604292\n",
       "4. 0.490374176541561\n",
       "\n",
       "\n"
      ],
      "text/plain": [
       "[1] -0.06917374  0.18940308  0.02640062  0.49037418"
      ]
     },
     "metadata": {},
     "output_type": "display_data"
    },
    {
     "data": {
      "text/html": [
       "<ol class=list-inline>\n",
       "\t<li>-0.0691737424348837</li>\n",
       "\t<li>0.189403079594602</li>\n",
       "\t<li>0.026400624604292</li>\n",
       "\t<li>0.490374176541561</li>\n",
       "</ol>\n"
      ],
      "text/latex": [
       "\\begin{enumerate*}\n",
       "\\item -0.0691737424348837\n",
       "\\item 0.189403079594602\n",
       "\\item 0.026400624604292\n",
       "\\item 0.490374176541561\n",
       "\\end{enumerate*}\n"
      ],
      "text/markdown": [
       "1. -0.0691737424348837\n",
       "2. 0.189403079594602\n",
       "3. 0.026400624604292\n",
       "4. 0.490374176541561\n",
       "\n",
       "\n"
      ],
      "text/plain": [
       "[1] -0.06917374  0.18940308  0.02640062  0.49037418"
      ]
     },
     "metadata": {},
     "output_type": "display_data"
    },
    {
     "data": {
      "text/html": [
       "<ol class=list-inline>\n",
       "\t<li>-0.0923123945154875</li>\n",
       "\t<li>0.513887237083275</li>\n",
       "\t<li>0.345117798467214</li>\n",
       "\t<li>0.565390015450605</li>\n",
       "</ol>\n"
      ],
      "text/latex": [
       "\\begin{enumerate*}\n",
       "\\item -0.0923123945154875\n",
       "\\item 0.513887237083275\n",
       "\\item 0.345117798467214\n",
       "\\item 0.565390015450605\n",
       "\\end{enumerate*}\n"
      ],
      "text/markdown": [
       "1. -0.0923123945154875\n",
       "2. 0.513887237083275\n",
       "3. 0.345117798467214\n",
       "4. 0.565390015450605\n",
       "\n",
       "\n"
      ],
      "text/plain": [
       "[1] -0.09231239  0.51388724  0.34511780  0.56539002"
      ]
     },
     "metadata": {},
     "output_type": "display_data"
    },
    {
     "data": {
      "text/html": [
       "<ol class=list-inline>\n",
       "\t<li>0.90800827543933</li>\n",
       "\t<li>1.14091855303405</li>\n",
       "\t<li>1.08706849760068</li>\n",
       "\t<li>0.888396286300644</li>\n",
       "</ol>\n"
      ],
      "text/latex": [
       "\\begin{enumerate*}\n",
       "\\item 0.90800827543933\n",
       "\\item 1.14091855303405\n",
       "\\item 1.08706849760068\n",
       "\\item 0.888396286300644\n",
       "\\end{enumerate*}\n"
      ],
      "text/markdown": [
       "1. 0.90800827543933\n",
       "2. 1.14091855303405\n",
       "3. 1.08706849760068\n",
       "4. 0.888396286300644\n",
       "\n",
       "\n"
      ],
      "text/plain": [
       "[1] 0.9080083 1.1409186 1.0870685 0.8883963"
      ]
     },
     "metadata": {},
     "output_type": "display_data"
    }
   ],
   "source": [
    "# 还是老例子\n",
    "\n",
    "df <- tibble(\n",
    "    a = rnorm(10),\n",
    "    b = rnorm(10),\n",
    "    c = rnorm(10),\n",
    "    d = rnorm(10)\n",
    ")\n",
    "\n",
    "# 计算均值\n",
    "output <- vector(\"double\", length(df))\n",
    "for (i in seq_along(df)) {\n",
    "    output[[i]] <- mean(df[[i]])\n",
    "}\n",
    "output\n",
    "\n",
    "# 将for循环包装进函数\n",
    "col_mean <- function(df){\n",
    "    output <- vector(\"double\", length(df))\n",
    "    for (i in seq_along(df)) {\n",
    "        output[[i]] <- mean(df[[i]])\n",
    "    }\n",
    "    output\n",
    "}\n",
    "\n",
    "col_mean(df)\n",
    "\n",
    "# 计算中位数\n",
    "col_median <- function(df){\n",
    "    output <- vector(\"double\", length(df))\n",
    "    for (i in seq_along(df)) {\n",
    "        output[[i]] <- median(df[[i]])\n",
    "    }\n",
    "    output\n",
    "}\n",
    "col_median(df)\n",
    "\n",
    "# 计算标准差\n",
    "col_sd <- function(df){\n",
    "    output <- vector(\"double\", length(df))\n",
    "    for (i in seq_along(df)) {\n",
    "        output[[i]] <- sd(df[[i]])\n",
    "    }\n",
    "    output\n",
    "}\n",
    "col_sd(df)\n",
    "\n",
    "# 我们又复制了两次"
   ]
  },
  {
   "cell_type": "code",
   "execution_count": 16,
   "metadata": {},
   "outputs": [
    {
     "data": {
      "text/html": [
       "<ol class=list-inline>\n",
       "\t<li>-0.0923123945154875</li>\n",
       "\t<li>0.513887237083275</li>\n",
       "\t<li>0.345117798467214</li>\n",
       "\t<li>0.565390015450605</li>\n",
       "</ol>\n"
      ],
      "text/latex": [
       "\\begin{enumerate*}\n",
       "\\item -0.0923123945154875\n",
       "\\item 0.513887237083275\n",
       "\\item 0.345117798467214\n",
       "\\item 0.565390015450605\n",
       "\\end{enumerate*}\n"
      ],
      "text/markdown": [
       "1. -0.0923123945154875\n",
       "2. 0.513887237083275\n",
       "3. 0.345117798467214\n",
       "4. 0.565390015450605\n",
       "\n",
       "\n"
      ],
      "text/plain": [
       "[1] -0.09231239  0.51388724  0.34511780  0.56539002"
      ]
     },
     "metadata": {},
     "output_type": "display_data"
    },
    {
     "data": {
      "text/html": [
       "<ol class=list-inline>\n",
       "\t<li>-0.0691737424348837</li>\n",
       "\t<li>0.189403079594602</li>\n",
       "\t<li>0.026400624604292</li>\n",
       "\t<li>0.490374176541561</li>\n",
       "</ol>\n"
      ],
      "text/latex": [
       "\\begin{enumerate*}\n",
       "\\item -0.0691737424348837\n",
       "\\item 0.189403079594602\n",
       "\\item 0.026400624604292\n",
       "\\item 0.490374176541561\n",
       "\\end{enumerate*}\n"
      ],
      "text/markdown": [
       "1. -0.0691737424348837\n",
       "2. 0.189403079594602\n",
       "3. 0.026400624604292\n",
       "4. 0.490374176541561\n",
       "\n",
       "\n"
      ],
      "text/plain": [
       "[1] -0.06917374  0.18940308  0.02640062  0.49037418"
      ]
     },
     "metadata": {},
     "output_type": "display_data"
    }
   ],
   "source": [
    "# 让我们扩展一下我们的函数\n",
    "col_summary <- function(df, fun){\n",
    "    output <- vector(\"double\", length(df))\n",
    "    for (i in seq_along(df)) {\n",
    "        output[[i]] <- fun(df[[i]])\n",
    "    }\n",
    "    output\n",
    "}# 为函数增加了一个参数，将函数作为参数传入另一个函数，以便实现功能\n",
    "col_summary(df, median)\n",
    "col_summary(df, mean)"
   ]
  },
  {
   "cell_type": "markdown",
   "metadata": {},
   "source": [
    "> 在本章剩余部分，我们将学习和使用purrr包，它提供的函数可以替代很多常见的for循环应用。R基础包中的应用函数族（apply()、lapply()、tapply()等）也可以完成类似的任务，但purrr包中的函数更一致，也更易于学习。\n",
    "\n",
    "大佬说的"
   ]
  },
  {
   "cell_type": "code",
   "execution_count": 17,
   "metadata": {},
   "outputs": [
    {
     "data": {
      "text/html": [
       "<ol class=list-inline>\n",
       "\t<li>5.84333333333333</li>\n",
       "\t<li>3.05733333333333</li>\n",
       "\t<li>3.758</li>\n",
       "\t<li>1.19933333333333</li>\n",
       "\t<li>0</li>\n",
       "</ol>\n"
      ],
      "text/latex": [
       "\\begin{enumerate*}\n",
       "\\item 5.84333333333333\n",
       "\\item 3.05733333333333\n",
       "\\item 3.758\n",
       "\\item 1.19933333333333\n",
       "\\item 0\n",
       "\\end{enumerate*}\n"
      ],
      "text/markdown": [
       "1. 5.84333333333333\n",
       "2. 3.05733333333333\n",
       "3. 3.758\n",
       "4. 1.19933333333333\n",
       "5. 0\n",
       "\n",
       "\n"
      ],
      "text/plain": [
       "[1] 5.843333 3.057333 3.758000 1.199333 0.000000"
      ]
     },
     "metadata": {},
     "output_type": "display_data"
    }
   ],
   "source": [
    "col_summary <- function(df, fun){\n",
    "    output <- vector(\"double\", length(df))\n",
    "    for (i in seq_along(df)) {\n",
    "        if(is.numeric(df[[i]])){\n",
    "        output[[i]] <- fun(df[[i]])\n",
    "            }\n",
    "        }\n",
    "    output\n",
    "}# 加个判断不如不加吧\n",
    "\n",
    "col_summary(iris, mean)"
   ]
  },
  {
   "cell_type": "markdown",
   "metadata": {},
   "source": [
    "## 映射函数\n",
    "\n",
    "* map()用于输出列表；\n",
    "* map_lgl()用于输出逻辑型向量；\n",
    "* map_int()用于输出整型向量；\n",
    "* map_dbl()用于输出双精度型向量；\n",
    "* map_chr()用于输出字符型向量。\n",
    "\n",
    "映射函数是一种高度抽象，需要花费很长时间才能理解其工作原理"
   ]
  },
  {
   "cell_type": "code",
   "execution_count": 18,
   "metadata": {},
   "outputs": [
    {
     "data": {
      "text/html": [
       "<dl class=dl-horizontal>\n",
       "\t<dt>a</dt>\n",
       "\t\t<dd>-0.0691737424348837</dd>\n",
       "\t<dt>b</dt>\n",
       "\t\t<dd>0.189403079594602</dd>\n",
       "\t<dt>c</dt>\n",
       "\t\t<dd>0.026400624604292</dd>\n",
       "\t<dt>d</dt>\n",
       "\t\t<dd>0.490374176541561</dd>\n",
       "</dl>\n"
      ],
      "text/latex": [
       "\\begin{description*}\n",
       "\\item[a] -0.0691737424348837\n",
       "\\item[b] 0.189403079594602\n",
       "\\item[c] 0.026400624604292\n",
       "\\item[d] 0.490374176541561\n",
       "\\end{description*}\n"
      ],
      "text/markdown": [
       "a\n",
       ":   -0.0691737424348837b\n",
       ":   0.189403079594602c\n",
       ":   0.026400624604292d\n",
       ":   0.490374176541561\n",
       "\n"
      ],
      "text/plain": [
       "          a           b           c           d \n",
       "-0.06917374  0.18940308  0.02640062  0.49037418 "
      ]
     },
     "metadata": {},
     "output_type": "display_data"
    },
    {
     "data": {
      "text/html": [
       "<dl class=dl-horizontal>\n",
       "\t<dt>a</dt>\n",
       "\t\t<dd>-0.0923123945154875</dd>\n",
       "\t<dt>b</dt>\n",
       "\t\t<dd>0.513887237083275</dd>\n",
       "\t<dt>c</dt>\n",
       "\t\t<dd>0.345117798467214</dd>\n",
       "\t<dt>d</dt>\n",
       "\t\t<dd>0.565390015450605</dd>\n",
       "</dl>\n"
      ],
      "text/latex": [
       "\\begin{description*}\n",
       "\\item[a] -0.0923123945154875\n",
       "\\item[b] 0.513887237083275\n",
       "\\item[c] 0.345117798467214\n",
       "\\item[d] 0.565390015450605\n",
       "\\end{description*}\n"
      ],
      "text/markdown": [
       "a\n",
       ":   -0.0923123945154875b\n",
       ":   0.513887237083275c\n",
       ":   0.345117798467214d\n",
       ":   0.565390015450605\n",
       "\n"
      ],
      "text/plain": [
       "          a           b           c           d \n",
       "-0.09231239  0.51388724  0.34511780  0.56539002 "
      ]
     },
     "metadata": {},
     "output_type": "display_data"
    },
    {
     "name": "stderr",
     "output_type": "stream",
     "text": [
      "Warning message in mean.default(.x[[i]], ...):\n",
      "“argument is not numeric or logical: returning NA”"
     ]
    },
    {
     "data": {
      "text/html": [
       "<dl class=dl-horizontal>\n",
       "\t<dt>Sepal.Length</dt>\n",
       "\t\t<dd>5.84333333333333</dd>\n",
       "\t<dt>Sepal.Width</dt>\n",
       "\t\t<dd>3.05733333333333</dd>\n",
       "\t<dt>Petal.Length</dt>\n",
       "\t\t<dd>3.758</dd>\n",
       "\t<dt>Petal.Width</dt>\n",
       "\t\t<dd>1.19933333333333</dd>\n",
       "\t<dt>Species</dt>\n",
       "\t\t<dd>&lt;NA&gt;</dd>\n",
       "</dl>\n"
      ],
      "text/latex": [
       "\\begin{description*}\n",
       "\\item[Sepal.Length] 5.84333333333333\n",
       "\\item[Sepal.Width] 3.05733333333333\n",
       "\\item[Petal.Length] 3.758\n",
       "\\item[Petal.Width] 1.19933333333333\n",
       "\\item[Species] <NA>\n",
       "\\end{description*}\n"
      ],
      "text/markdown": [
       "Sepal.Length\n",
       ":   5.84333333333333Sepal.Width\n",
       ":   3.05733333333333Petal.Length\n",
       ":   3.758Petal.Width\n",
       ":   1.19933333333333Species\n",
       ":   &lt;NA&gt;\n",
       "\n"
      ],
      "text/plain": [
       "Sepal.Length  Sepal.Width Petal.Length  Petal.Width      Species \n",
       "    5.843333     3.057333     3.758000     1.199333           NA "
      ]
     },
     "metadata": {},
     "output_type": "display_data"
    }
   ],
   "source": [
    "# 看摘要函数的例子\n",
    "map_dbl(df, mean)\n",
    "map_dbl(df, median)\n",
    "# map_dbl(df, sd)# 这个容易报错\n",
    "map_dbl(iris, mean)"
   ]
  },
  {
   "cell_type": "code",
   "execution_count": 19,
   "metadata": {},
   "outputs": [
    {
     "data": {
      "text/html": [
       "<dl class=dl-horizontal>\n",
       "\t<dt>a</dt>\n",
       "\t\t<dd>-0.0691737424348837</dd>\n",
       "\t<dt>b</dt>\n",
       "\t\t<dd>0.189403079594602</dd>\n",
       "\t<dt>c</dt>\n",
       "\t\t<dd>0.026400624604292</dd>\n",
       "\t<dt>d</dt>\n",
       "\t\t<dd>0.490374176541561</dd>\n",
       "</dl>\n"
      ],
      "text/latex": [
       "\\begin{description*}\n",
       "\\item[a] -0.0691737424348837\n",
       "\\item[b] 0.189403079594602\n",
       "\\item[c] 0.026400624604292\n",
       "\\item[d] 0.490374176541561\n",
       "\\end{description*}\n"
      ],
      "text/markdown": [
       "a\n",
       ":   -0.0691737424348837b\n",
       ":   0.189403079594602c\n",
       ":   0.026400624604292d\n",
       ":   0.490374176541561\n",
       "\n"
      ],
      "text/plain": [
       "          a           b           c           d \n",
       "-0.06917374  0.18940308  0.02640062  0.49037418 "
      ]
     },
     "metadata": {},
     "output_type": "display_data"
    }
   ],
   "source": [
    "# 使用管道更明显\n",
    "df %>% map_dbl(mean)"
   ]
  },
  {
   "cell_type": "markdown",
   "metadata": {},
   "source": [
    "purrr函数都是C语言实现的，速度特别快\n",
    "\n",
    "第二个参数可以是公式、一个字符向量等"
   ]
  },
  {
   "cell_type": "code",
   "execution_count": 20,
   "metadata": {},
   "outputs": [
    {
     "data": {
      "text/html": [
       "<dl class=dl-horizontal>\n",
       "\t<dt>a</dt>\n",
       "\t\t<dd>-0.0923123945154875</dd>\n",
       "\t<dt>b</dt>\n",
       "\t\t<dd>0.513887237083275</dd>\n",
       "\t<dt>c</dt>\n",
       "\t\t<dd>0.345117798467214</dd>\n",
       "\t<dt>d</dt>\n",
       "\t\t<dd>0.565390015450605</dd>\n",
       "</dl>\n"
      ],
      "text/latex": [
       "\\begin{description*}\n",
       "\\item[a] -0.0923123945154875\n",
       "\\item[b] 0.513887237083275\n",
       "\\item[c] 0.345117798467214\n",
       "\\item[d] 0.565390015450605\n",
       "\\end{description*}\n"
      ],
      "text/markdown": [
       "a\n",
       ":   -0.0923123945154875b\n",
       ":   0.513887237083275c\n",
       ":   0.345117798467214d\n",
       ":   0.565390015450605\n",
       "\n"
      ],
      "text/plain": [
       "          a           b           c           d \n",
       "-0.09231239  0.51388724  0.34511780  0.56539002 "
      ]
     },
     "metadata": {},
     "output_type": "display_data"
    },
    {
     "data": {
      "text/html": [
       "<dl class=dl-horizontal>\n",
       "\t<dt>x</dt>\n",
       "\t\t<dd>3</dd>\n",
       "\t<dt>y</dt>\n",
       "\t\t<dd>2</dd>\n",
       "</dl>\n"
      ],
      "text/latex": [
       "\\begin{description*}\n",
       "\\item[x] 3\n",
       "\\item[y] 2\n",
       "\\end{description*}\n"
      ],
      "text/markdown": [
       "x\n",
       ":   3y\n",
       ":   2\n",
       "\n"
      ],
      "text/plain": [
       "x y \n",
       "3 2 "
      ]
     },
     "metadata": {},
     "output_type": "display_data"
    }
   ],
   "source": [
    "map_dbl(df, mean, trim = 0.5)# 可以有附加参数\n",
    "z <- list(x = 1:3, y = 4:5)\n",
    "map_int(z, length)# 可以保留名称"
   ]
  },
  {
   "cell_type": "code",
   "execution_count": 21,
   "metadata": {},
   "outputs": [
    {
     "data": {
      "text/html": [
       "<dl class=dl-horizontal>\n",
       "\t<dt>4</dt>\n",
       "\t\t<dd>0.50863259632314</dd>\n",
       "\t<dt>6</dt>\n",
       "\t\t<dd>0.464510150550548</dd>\n",
       "\t<dt>8</dt>\n",
       "\t\t<dd>0.422965536496111</dd>\n",
       "</dl>\n"
      ],
      "text/latex": [
       "\\begin{description*}\n",
       "\\item[4] 0.50863259632314\n",
       "\\item[6] 0.464510150550548\n",
       "\\item[8] 0.422965536496111\n",
       "\\end{description*}\n"
      ],
      "text/markdown": [
       "4\n",
       ":   0.508632596323146\n",
       ":   0.4645101505505488\n",
       ":   0.422965536496111\n",
       "\n"
      ],
      "text/plain": [
       "        4         6         8 \n",
       "0.5086326 0.4645102 0.4229655 "
      ]
     },
     "metadata": {},
     "output_type": "display_data"
    },
    {
     "data": {
      "text/html": [
       "<dl class=dl-horizontal>\n",
       "\t<dt>4</dt>\n",
       "\t\t<dd>0.50863259632314</dd>\n",
       "\t<dt>6</dt>\n",
       "\t\t<dd>0.464510150550548</dd>\n",
       "\t<dt>8</dt>\n",
       "\t\t<dd>0.422965536496111</dd>\n",
       "</dl>\n"
      ],
      "text/latex": [
       "\\begin{description*}\n",
       "\\item[4] 0.50863259632314\n",
       "\\item[6] 0.464510150550548\n",
       "\\item[8] 0.422965536496111\n",
       "\\end{description*}\n"
      ],
      "text/markdown": [
       "4\n",
       ":   0.508632596323146\n",
       ":   0.4645101505505488\n",
       ":   0.422965536496111\n",
       "\n"
      ],
      "text/plain": [
       "        4         6         8 \n",
       "0.5086326 0.4645102 0.4229655 "
      ]
     },
     "metadata": {},
     "output_type": "display_data"
    },
    {
     "data": {
      "text/html": [
       "<ol class=list-inline>\n",
       "\t<li>2</li>\n",
       "\t<li>5</li>\n",
       "\t<li>8</li>\n",
       "</ol>\n"
      ],
      "text/latex": [
       "\\begin{enumerate*}\n",
       "\\item 2\n",
       "\\item 5\n",
       "\\item 8\n",
       "\\end{enumerate*}\n"
      ],
      "text/markdown": [
       "1. 2\n",
       "2. 5\n",
       "3. 8\n",
       "\n",
       "\n"
      ],
      "text/plain": [
       "[1] 2 5 8"
      ]
     },
     "metadata": {},
     "output_type": "display_data"
    }
   ],
   "source": [
    "# 快捷方式\n",
    "\n",
    "# 按照气缸拟合线性模型\n",
    "models <- mtcars %>% split(.$cyl) %>% \n",
    "map(function(df) lm(mpg ~ wt, data = df))\n",
    "\n",
    "# 可以使用单侧公式简化\n",
    "models <- mtcars %>% split(.$cyl) %>%\n",
    "map(~lm(mpg ~ wt, data = .))\n",
    "# models\n",
    "    \n",
    "# 提取R^2\n",
    "\n",
    "models %>% map(summary) %>% map_dbl(~ .$r.squared)\n",
    "\n",
    "# 甚至可以使用字符串\n",
    "models %>% map(summary) %>% map_dbl(\"r.squared\")\n",
    "    \n",
    "# 还可以使用整数按照位置来选取元素：\n",
    "x <-list(list(1, 2, 3), list(4, 5, 6), list(7, 8, 9)) \n",
    "x %>%map_dbl(2) "
   ]
  },
  {
   "cell_type": "code",
   "execution_count": 22,
   "metadata": {},
   "outputs": [
    {
     "name": "stdout",
     "output_type": "stream",
     "text": [
      "List of 3\n",
      " $ : num 0.91\n",
      " $ : num [1:2] 0.9 0.94\n",
      " $ : num(0) \n",
      " num [1:3] 0.99 0.93 0.87\n"
     ]
    }
   ],
   "source": [
    "### R基础包\n",
    "# R基础包中也有应用函数族，像是lapply(), sapply(), vapply()\n",
    "\n",
    "# sapply()函数是对lapply()的包装，可以自动简化输出。\n",
    "# 这对交互工作是有用的，但作为函数则是有问题的，\n",
    "# 因为你不知道会得到什么样的输出\n",
    "x1 <-list( \n",
    "    c(0.27, 0.37, 0.57, 0.91, 0.20), \n",
    "    c(0.90, 0.94, 0.66, 0.63, 0.06),\n",
    "    c(0.21, 0.18, 0.69, 0.38, 0.77) \n",
    ") \n",
    "x2 <-list( \n",
    "    c(0.50, 0.72, 0.99, 0.38, 0.78), \n",
    "    c(0.93, 0.21, 0.65, 0.13, 0.27), \n",
    "    c(0.39, 0.01, 0.38, 0.87, 0.34) \n",
    ") \n",
    "threshold <-function(x, cutoff =0.8) x[x > cutoff] \n",
    "x1 %>%sapply(threshold) %>%str() # 返回列表\n",
    "x2 %>%sapply(threshold) %>%str()# 返回num"
   ]
  },
  {
   "cell_type": "markdown",
   "metadata": {},
   "source": [
    "vapply()函数是sapply()的一种安全替代方式，因为前者可以提供额外的参数来定义类型。vapply()的唯一缺点是输入量较大：vapply(df,  is.numeric,  logical(1))等价于map_lgl(df,  is.numeric)。"
   ]
  },
  {
   "cell_type": "code",
   "execution_count": 23,
   "metadata": {},
   "outputs": [
    {
     "name": "stderr",
     "output_type": "stream",
     "text": [
      "Warning message in mean.default(.x[[i]], ...):\n",
      "“argument is not numeric or logical: returning NA”"
     ]
    },
    {
     "data": {
      "text/html": [
       "<dl class=dl-horizontal>\n",
       "\t<dt>mpg</dt>\n",
       "\t\t<dd>20.090625</dd>\n",
       "\t<dt>cyl</dt>\n",
       "\t\t<dd>6.1875</dd>\n",
       "\t<dt>disp</dt>\n",
       "\t\t<dd>3.7808624378125</dd>\n",
       "\t<dt>hp</dt>\n",
       "\t\t<dd>146.6875</dd>\n",
       "\t<dt>drat</dt>\n",
       "\t\t<dd>3.5965625</dd>\n",
       "\t<dt>wt</dt>\n",
       "\t\t<dd>3.21725</dd>\n",
       "\t<dt>qsec</dt>\n",
       "\t\t<dd>17.84875</dd>\n",
       "\t<dt>vs</dt>\n",
       "\t\t<dd>0.4375</dd>\n",
       "\t<dt>am</dt>\n",
       "\t\t<dd>&lt;NA&gt;</dd>\n",
       "\t<dt>gear</dt>\n",
       "\t\t<dd>3.6875</dd>\n",
       "\t<dt>carb</dt>\n",
       "\t\t<dd>2.8125</dd>\n",
       "</dl>\n"
      ],
      "text/latex": [
       "\\begin{description*}\n",
       "\\item[mpg] 20.090625\n",
       "\\item[cyl] 6.1875\n",
       "\\item[disp] 3.7808624378125\n",
       "\\item[hp] 146.6875\n",
       "\\item[drat] 3.5965625\n",
       "\\item[wt] 3.21725\n",
       "\\item[qsec] 17.84875\n",
       "\\item[vs] 0.4375\n",
       "\\item[am] <NA>\n",
       "\\item[gear] 3.6875\n",
       "\\item[carb] 2.8125\n",
       "\\end{description*}\n"
      ],
      "text/markdown": [
       "mpg\n",
       ":   20.090625cyl\n",
       ":   6.1875disp\n",
       ":   3.7808624378125hp\n",
       ":   146.6875drat\n",
       ":   3.5965625wt\n",
       ":   3.21725qsec\n",
       ":   17.84875vs\n",
       ":   0.4375am\n",
       ":   &lt;NA&gt;gear\n",
       ":   3.6875carb\n",
       ":   2.8125\n",
       "\n"
      ],
      "text/plain": [
       "       mpg        cyl       disp         hp       drat         wt       qsec \n",
       " 20.090625   6.187500   3.780862 146.687500   3.596563   3.217250  17.848750 \n",
       "        vs         am       gear       carb \n",
       "  0.437500         NA   3.687500   2.812500 "
      ]
     },
     "metadata": {},
     "output_type": "display_data"
    },
    {
     "data": {
      "text/html": [
       "<dl>\n",
       "\t<dt>$year</dt>\n",
       "\t\t<dd>'integer'</dd>\n",
       "\t<dt>$month</dt>\n",
       "\t\t<dd>'integer'</dd>\n",
       "\t<dt>$day</dt>\n",
       "\t\t<dd>'integer'</dd>\n",
       "\t<dt>$dep_time</dt>\n",
       "\t\t<dd>'integer'</dd>\n",
       "\t<dt>$sched_dep_time</dt>\n",
       "\t\t<dd>'integer'</dd>\n",
       "\t<dt>$dep_delay</dt>\n",
       "\t\t<dd>'numeric'</dd>\n",
       "\t<dt>$arr_time</dt>\n",
       "\t\t<dd>'integer'</dd>\n",
       "\t<dt>$sched_arr_time</dt>\n",
       "\t\t<dd>'integer'</dd>\n",
       "\t<dt>$arr_delay</dt>\n",
       "\t\t<dd>'numeric'</dd>\n",
       "\t<dt>$carrier</dt>\n",
       "\t\t<dd>'character'</dd>\n",
       "\t<dt>$flight</dt>\n",
       "\t\t<dd>'integer'</dd>\n",
       "\t<dt>$tailnum</dt>\n",
       "\t\t<dd>'character'</dd>\n",
       "\t<dt>$origin</dt>\n",
       "\t\t<dd>'character'</dd>\n",
       "\t<dt>$dest</dt>\n",
       "\t\t<dd>'character'</dd>\n",
       "\t<dt>$air_time</dt>\n",
       "\t\t<dd>'numeric'</dd>\n",
       "\t<dt>$distance</dt>\n",
       "\t\t<dd>'numeric'</dd>\n",
       "\t<dt>$hour</dt>\n",
       "\t\t<dd>'numeric'</dd>\n",
       "\t<dt>$minute</dt>\n",
       "\t\t<dd>'numeric'</dd>\n",
       "\t<dt>$time_hour</dt>\n",
       "\t\t<dd><ol class=list-inline>\n",
       "\t<li>'POSIXct'</li>\n",
       "\t<li>'POSIXt'</li>\n",
       "</ol>\n",
       "</dd>\n",
       "</dl>\n"
      ],
      "text/latex": [
       "\\begin{description}\n",
       "\\item[\\$year] 'integer'\n",
       "\\item[\\$month] 'integer'\n",
       "\\item[\\$day] 'integer'\n",
       "\\item[\\$dep\\_time] 'integer'\n",
       "\\item[\\$sched\\_dep\\_time] 'integer'\n",
       "\\item[\\$dep\\_delay] 'numeric'\n",
       "\\item[\\$arr\\_time] 'integer'\n",
       "\\item[\\$sched\\_arr\\_time] 'integer'\n",
       "\\item[\\$arr\\_delay] 'numeric'\n",
       "\\item[\\$carrier] 'character'\n",
       "\\item[\\$flight] 'integer'\n",
       "\\item[\\$tailnum] 'character'\n",
       "\\item[\\$origin] 'character'\n",
       "\\item[\\$dest] 'character'\n",
       "\\item[\\$air\\_time] 'numeric'\n",
       "\\item[\\$distance] 'numeric'\n",
       "\\item[\\$hour] 'numeric'\n",
       "\\item[\\$minute] 'numeric'\n",
       "\\item[\\$time\\_hour] \\begin{enumerate*}\n",
       "\\item 'POSIXct'\n",
       "\\item 'POSIXt'\n",
       "\\end{enumerate*}\n",
       "\n",
       "\\end{description}\n"
      ],
      "text/markdown": [
       "$year\n",
       ":   'integer'\n",
       "$month\n",
       ":   'integer'\n",
       "$day\n",
       ":   'integer'\n",
       "$dep_time\n",
       ":   'integer'\n",
       "$sched_dep_time\n",
       ":   'integer'\n",
       "$dep_delay\n",
       ":   'numeric'\n",
       "$arr_time\n",
       ":   'integer'\n",
       "$sched_arr_time\n",
       ":   'integer'\n",
       "$arr_delay\n",
       ":   'numeric'\n",
       "$carrier\n",
       ":   'character'\n",
       "$flight\n",
       ":   'integer'\n",
       "$tailnum\n",
       ":   'character'\n",
       "$origin\n",
       ":   'character'\n",
       "$dest\n",
       ":   'character'\n",
       "$air_time\n",
       ":   'numeric'\n",
       "$distance\n",
       ":   'numeric'\n",
       "$hour\n",
       ":   'numeric'\n",
       "$minute\n",
       ":   'numeric'\n",
       "$time_hour\n",
       ":   1. 'POSIXct'\n",
       "2. 'POSIXt'\n",
       "\n",
       "\n",
       "\n",
       "\n",
       "\n"
      ],
      "text/plain": [
       "$year\n",
       "[1] \"integer\"\n",
       "\n",
       "$month\n",
       "[1] \"integer\"\n",
       "\n",
       "$day\n",
       "[1] \"integer\"\n",
       "\n",
       "$dep_time\n",
       "[1] \"integer\"\n",
       "\n",
       "$sched_dep_time\n",
       "[1] \"integer\"\n",
       "\n",
       "$dep_delay\n",
       "[1] \"numeric\"\n",
       "\n",
       "$arr_time\n",
       "[1] \"integer\"\n",
       "\n",
       "$sched_arr_time\n",
       "[1] \"integer\"\n",
       "\n",
       "$arr_delay\n",
       "[1] \"numeric\"\n",
       "\n",
       "$carrier\n",
       "[1] \"character\"\n",
       "\n",
       "$flight\n",
       "[1] \"integer\"\n",
       "\n",
       "$tailnum\n",
       "[1] \"character\"\n",
       "\n",
       "$origin\n",
       "[1] \"character\"\n",
       "\n",
       "$dest\n",
       "[1] \"character\"\n",
       "\n",
       "$air_time\n",
       "[1] \"numeric\"\n",
       "\n",
       "$distance\n",
       "[1] \"numeric\"\n",
       "\n",
       "$hour\n",
       "[1] \"numeric\"\n",
       "\n",
       "$minute\n",
       "[1] \"numeric\"\n",
       "\n",
       "$time_hour\n",
       "[1] \"POSIXct\" \"POSIXt\" \n"
      ]
     },
     "metadata": {},
     "output_type": "display_data"
    },
    {
     "data": {
      "text/html": [
       "<dl class=dl-horizontal>\n",
       "\t<dt>Sepal.Length</dt>\n",
       "\t\t<dd>35</dd>\n",
       "\t<dt>Sepal.Width</dt>\n",
       "\t\t<dd>23</dd>\n",
       "\t<dt>Petal.Length</dt>\n",
       "\t\t<dd>43</dd>\n",
       "\t<dt>Petal.Width</dt>\n",
       "\t\t<dd>22</dd>\n",
       "\t<dt>Species</dt>\n",
       "\t\t<dd>3</dd>\n",
       "</dl>\n"
      ],
      "text/latex": [
       "\\begin{description*}\n",
       "\\item[Sepal.Length] 35\n",
       "\\item[Sepal.Width] 23\n",
       "\\item[Petal.Length] 43\n",
       "\\item[Petal.Width] 22\n",
       "\\item[Species] 3\n",
       "\\end{description*}\n"
      ],
      "text/markdown": [
       "Sepal.Length\n",
       ":   35Sepal.Width\n",
       ":   23Petal.Length\n",
       ":   43Petal.Width\n",
       ":   22Species\n",
       ":   3\n",
       "\n"
      ],
      "text/plain": [
       "Sepal.Length  Sepal.Width Petal.Length  Petal.Width      Species \n",
       "          35           23           43           22            3 "
      ]
     },
     "metadata": {},
     "output_type": "display_data"
    },
    {
     "data": {
      "text/html": [
       "<ol>\n",
       "\t<li><ol class=list-inline>\n",
       "\t<li>-7.61178690221624</li>\n",
       "\t<li>-9.62020979118412</li>\n",
       "\t<li>-8.21119612202838</li>\n",
       "\t<li>-10.3045730867521</li>\n",
       "\t<li>-11.4461730864789</li>\n",
       "\t<li>-9.61159153966673</li>\n",
       "\t<li>-10.6294065693388</li>\n",
       "\t<li>-10.2867625512788</li>\n",
       "\t<li>-10.525487000336</li>\n",
       "\t<li>-9.48203186609093</li>\n",
       "</ol>\n",
       "</li>\n",
       "\t<li><ol class=list-inline>\n",
       "\t<li>-0.292348269190166</li>\n",
       "\t<li>-0.244951190508629</li>\n",
       "\t<li>-0.169692692892563</li>\n",
       "\t<li>-0.399224871825663</li>\n",
       "\t<li>0.33072608541756</li>\n",
       "\t<li>0.588909491250073</li>\n",
       "\t<li>-0.489534376718707</li>\n",
       "\t<li>-0.704906375187525</li>\n",
       "\t<li>1.17590841100481</li>\n",
       "\t<li>-0.0866991258351262</li>\n",
       "</ol>\n",
       "</li>\n",
       "\t<li><ol class=list-inline>\n",
       "\t<li>10.4521582385986</li>\n",
       "\t<li>8.03884932613253</li>\n",
       "\t<li>11.8623163880673</li>\n",
       "\t<li>8.73210111922027</li>\n",
       "\t<li>10.556674614529</li>\n",
       "\t<li>10.6720775955732</li>\n",
       "\t<li>10.377434711092</li>\n",
       "\t<li>8.82637912847465</li>\n",
       "\t<li>9.49949438782754</li>\n",
       "\t<li>9.96808401033364</li>\n",
       "</ol>\n",
       "</li>\n",
       "\t<li><ol class=list-inline>\n",
       "\t<li>99.7525662520464</li>\n",
       "\t<li>97.7737797372444</li>\n",
       "\t<li>103.221900701538</li>\n",
       "\t<li>99.2752620277251</li>\n",
       "\t<li>99.0542699693914</li>\n",
       "\t<li>99.8151944908271</li>\n",
       "\t<li>100.405113573576</li>\n",
       "\t<li>99.4944585470587</li>\n",
       "\t<li>101.504723890361</li>\n",
       "\t<li>99.4633413717159</li>\n",
       "</ol>\n",
       "</li>\n",
       "</ol>\n"
      ],
      "text/latex": [
       "\\begin{enumerate}\n",
       "\\item \\begin{enumerate*}\n",
       "\\item -7.61178690221624\n",
       "\\item -9.62020979118412\n",
       "\\item -8.21119612202838\n",
       "\\item -10.3045730867521\n",
       "\\item -11.4461730864789\n",
       "\\item -9.61159153966673\n",
       "\\item -10.6294065693388\n",
       "\\item -10.2867625512788\n",
       "\\item -10.525487000336\n",
       "\\item -9.48203186609093\n",
       "\\end{enumerate*}\n",
       "\n",
       "\\item \\begin{enumerate*}\n",
       "\\item -0.292348269190166\n",
       "\\item -0.244951190508629\n",
       "\\item -0.169692692892563\n",
       "\\item -0.399224871825663\n",
       "\\item 0.33072608541756\n",
       "\\item 0.588909491250073\n",
       "\\item -0.489534376718707\n",
       "\\item -0.704906375187525\n",
       "\\item 1.17590841100481\n",
       "\\item -0.0866991258351262\n",
       "\\end{enumerate*}\n",
       "\n",
       "\\item \\begin{enumerate*}\n",
       "\\item 10.4521582385986\n",
       "\\item 8.03884932613253\n",
       "\\item 11.8623163880673\n",
       "\\item 8.73210111922027\n",
       "\\item 10.556674614529\n",
       "\\item 10.6720775955732\n",
       "\\item 10.377434711092\n",
       "\\item 8.82637912847465\n",
       "\\item 9.49949438782754\n",
       "\\item 9.96808401033364\n",
       "\\end{enumerate*}\n",
       "\n",
       "\\item \\begin{enumerate*}\n",
       "\\item 99.7525662520464\n",
       "\\item 97.7737797372444\n",
       "\\item 103.221900701538\n",
       "\\item 99.2752620277251\n",
       "\\item 99.0542699693914\n",
       "\\item 99.8151944908271\n",
       "\\item 100.405113573576\n",
       "\\item 99.4944585470587\n",
       "\\item 101.504723890361\n",
       "\\item 99.4633413717159\n",
       "\\end{enumerate*}\n",
       "\n",
       "\\end{enumerate}\n"
      ],
      "text/markdown": [
       "1. 1. -7.61178690221624\n",
       "2. -9.62020979118412\n",
       "3. -8.21119612202838\n",
       "4. -10.3045730867521\n",
       "5. -11.4461730864789\n",
       "6. -9.61159153966673\n",
       "7. -10.6294065693388\n",
       "8. -10.2867625512788\n",
       "9. -10.525487000336\n",
       "10. -9.48203186609093\n",
       "\n",
       "\n",
       "\n",
       "2. 1. -0.292348269190166\n",
       "2. -0.244951190508629\n",
       "3. -0.169692692892563\n",
       "4. -0.399224871825663\n",
       "5. 0.33072608541756\n",
       "6. 0.588909491250073\n",
       "7. -0.489534376718707\n",
       "8. -0.704906375187525\n",
       "9. 1.17590841100481\n",
       "10. -0.0866991258351262\n",
       "\n",
       "\n",
       "\n",
       "3. 1. 10.4521582385986\n",
       "2. 8.03884932613253\n",
       "3. 11.8623163880673\n",
       "4. 8.73210111922027\n",
       "5. 10.556674614529\n",
       "6. 10.6720775955732\n",
       "7. 10.377434711092\n",
       "8. 8.82637912847465\n",
       "9. 9.49949438782754\n",
       "10. 9.96808401033364\n",
       "\n",
       "\n",
       "\n",
       "4. 1. 99.7525662520464\n",
       "2. 97.7737797372444\n",
       "3. 103.221900701538\n",
       "4. 99.2752620277251\n",
       "5. 99.0542699693914\n",
       "6. 99.8151944908271\n",
       "7. 100.405113573576\n",
       "8. 99.4944585470587\n",
       "9. 101.504723890361\n",
       "10. 99.4633413717159\n",
       "\n",
       "\n",
       "\n",
       "\n",
       "\n"
      ],
      "text/plain": [
       "[[1]]\n",
       " [1]  -7.611787  -9.620210  -8.211196 -10.304573 -11.446173  -9.611592\n",
       " [7] -10.629407 -10.286763 -10.525487  -9.482032\n",
       "\n",
       "[[2]]\n",
       " [1] -0.29234827 -0.24495119 -0.16969269 -0.39922487  0.33072609  0.58890949\n",
       " [7] -0.48953438 -0.70490638  1.17590841 -0.08669913\n",
       "\n",
       "[[3]]\n",
       " [1] 10.452158  8.038849 11.862316  8.732101 10.556675 10.672078 10.377435\n",
       " [8]  8.826379  9.499494  9.968084\n",
       "\n",
       "[[4]]\n",
       " [1]  99.75257  97.77378 103.22190  99.27526  99.05427  99.81519 100.40511\n",
       " [8]  99.49446 101.50472  99.46334\n"
      ]
     },
     "metadata": {},
     "output_type": "display_data"
    }
   ],
   "source": [
    "# a.计算mtcars数据集中每列的均值\n",
    "# head(mtcars)\n",
    "map_dbl(mtcars, mean)\n",
    "# b.确定nycflights13::flights数据集中每列的类型。\n",
    "library(nycflights13)\n",
    "# flights %>% str()\n",
    "flights %>% map(class)\n",
    "# c.计算iris数据集中每列唯一值的数量。\n",
    "iris %>% map_int(~length(unique(.)))\n",
    "# d.分别使用μ= -10、0、10和100的正态分布生成10个随机数。\n",
    "mu <- list(-10, 0, 10, 100)\n",
    "mu %>% map(~rnorm(n = 10, mean = .))"
   ]
  },
  {
   "cell_type": "code",
   "execution_count": 24,
   "metadata": {},
   "outputs": [
    {
     "data": {
      "text/html": [
       "<ol>\n",
       "\t<li>0.00581031921319664</li>\n",
       "\t<li><ol class=list-inline>\n",
       "\t<li>0.469833726761863</li>\n",
       "\t<li>0.174555057426915</li>\n",
       "</ol>\n",
       "</li>\n",
       "\t<li><ol class=list-inline>\n",
       "\t<li>0.675424233544618</li>\n",
       "\t<li>0.182182345306501</li>\n",
       "\t<li>0.546054564649239</li>\n",
       "</ol>\n",
       "</li>\n",
       "\t<li><ol class=list-inline>\n",
       "\t<li>0.223653354449198</li>\n",
       "\t<li>0.138208583928645</li>\n",
       "\t<li>0.579780279193074</li>\n",
       "\t<li>0.31526015419513</li>\n",
       "</ol>\n",
       "</li>\n",
       "\t<li><ol class=list-inline>\n",
       "\t<li>0.559682150371373</li>\n",
       "\t<li>0.068848526570946</li>\n",
       "\t<li>0.350577338598669</li>\n",
       "\t<li>0.352343474514782</li>\n",
       "\t<li>0.386256132042035</li>\n",
       "</ol>\n",
       "</li>\n",
       "</ol>\n"
      ],
      "text/latex": [
       "\\begin{enumerate}\n",
       "\\item 0.00581031921319664\n",
       "\\item \\begin{enumerate*}\n",
       "\\item 0.469833726761863\n",
       "\\item 0.174555057426915\n",
       "\\end{enumerate*}\n",
       "\n",
       "\\item \\begin{enumerate*}\n",
       "\\item 0.675424233544618\n",
       "\\item 0.182182345306501\n",
       "\\item 0.546054564649239\n",
       "\\end{enumerate*}\n",
       "\n",
       "\\item \\begin{enumerate*}\n",
       "\\item 0.223653354449198\n",
       "\\item 0.138208583928645\n",
       "\\item 0.579780279193074\n",
       "\\item 0.31526015419513\n",
       "\\end{enumerate*}\n",
       "\n",
       "\\item \\begin{enumerate*}\n",
       "\\item 0.559682150371373\n",
       "\\item 0.068848526570946\n",
       "\\item 0.350577338598669\n",
       "\\item 0.352343474514782\n",
       "\\item 0.386256132042035\n",
       "\\end{enumerate*}\n",
       "\n",
       "\\end{enumerate}\n"
      ],
      "text/markdown": [
       "1. 0.00581031921319664\n",
       "2. 1. 0.469833726761863\n",
       "2. 0.174555057426915\n",
       "\n",
       "\n",
       "\n",
       "3. 1. 0.675424233544618\n",
       "2. 0.182182345306501\n",
       "3. 0.546054564649239\n",
       "\n",
       "\n",
       "\n",
       "4. 1. 0.223653354449198\n",
       "2. 0.138208583928645\n",
       "3. 0.579780279193074\n",
       "4. 0.31526015419513\n",
       "\n",
       "\n",
       "\n",
       "5. 1. 0.559682150371373\n",
       "2. 0.068848526570946\n",
       "3. 0.350577338598669\n",
       "4. 0.352343474514782\n",
       "5. 0.386256132042035\n",
       "\n",
       "\n",
       "\n",
       "\n",
       "\n"
      ],
      "text/plain": [
       "[[1]]\n",
       "[1] 0.005810319\n",
       "\n",
       "[[2]]\n",
       "[1] 0.4698337 0.1745551\n",
       "\n",
       "[[3]]\n",
       "[1] 0.6754242 0.1821823 0.5460546\n",
       "\n",
       "[[4]]\n",
       "[1] 0.2236534 0.1382086 0.5797803 0.3152602\n",
       "\n",
       "[[5]]\n",
       "[1] 0.55968215 0.06884853 0.35057734 0.35234347 0.38625613\n"
      ]
     },
     "metadata": {},
     "output_type": "display_data"
    }
   ],
   "source": [
    "# 如果在非列表向量上使用映射函数，那么会发生什么情况？\n",
    "# map(1:5,  runif)的作用是什么？为什么？\n",
    "map(1:5, runif)# 作为参数输入"
   ]
  },
  {
   "cell_type": "code",
   "execution_count": 25,
   "metadata": {},
   "outputs": [
    {
     "data": {
      "text/html": [
       "<ol>\n",
       "\t<li><ol class=list-inline>\n",
       "\t<li>-2.14142464968772</li>\n",
       "\t<li>-4.4853794702427</li>\n",
       "\t<li>-1.59646697149563</li>\n",
       "\t<li>-1.66558105310495</li>\n",
       "\t<li>-1.97815616812872</li>\n",
       "</ol>\n",
       "</li>\n",
       "\t<li><ol class=list-inline>\n",
       "\t<li>0.907359865449551</li>\n",
       "\t<li>-1.76090281145307</li>\n",
       "\t<li>0.173990067294692</li>\n",
       "\t<li>-0.885595220165182</li>\n",
       "\t<li>-2.03525419922009</li>\n",
       "</ol>\n",
       "</li>\n",
       "\t<li><ol class=list-inline>\n",
       "\t<li>-0.895423091502646</li>\n",
       "\t<li>-0.163401094764929</li>\n",
       "\t<li>-0.613834466531499</li>\n",
       "\t<li>1.17060696395874</li>\n",
       "\t<li>0.231809385468989</li>\n",
       "</ol>\n",
       "</li>\n",
       "\t<li><ol class=list-inline>\n",
       "\t<li>0.493381205606247</li>\n",
       "\t<li>0.370603132850885</li>\n",
       "\t<li>0.642941281217797</li>\n",
       "\t<li>0.597108601314557</li>\n",
       "\t<li>0.432752002570071</li>\n",
       "</ol>\n",
       "</li>\n",
       "\t<li><ol class=list-inline>\n",
       "\t<li>2.50199423709977</li>\n",
       "\t<li>2.54800133149241</li>\n",
       "\t<li>0.714398097696883</li>\n",
       "\t<li>2.07681607118511</li>\n",
       "\t<li>1.5016552936112</li>\n",
       "</ol>\n",
       "</li>\n",
       "</ol>\n"
      ],
      "text/latex": [
       "\\begin{enumerate}\n",
       "\\item \\begin{enumerate*}\n",
       "\\item -2.14142464968772\n",
       "\\item -4.4853794702427\n",
       "\\item -1.59646697149563\n",
       "\\item -1.66558105310495\n",
       "\\item -1.97815616812872\n",
       "\\end{enumerate*}\n",
       "\n",
       "\\item \\begin{enumerate*}\n",
       "\\item 0.907359865449551\n",
       "\\item -1.76090281145307\n",
       "\\item 0.173990067294692\n",
       "\\item -0.885595220165182\n",
       "\\item -2.03525419922009\n",
       "\\end{enumerate*}\n",
       "\n",
       "\\item \\begin{enumerate*}\n",
       "\\item -0.895423091502646\n",
       "\\item -0.163401094764929\n",
       "\\item -0.613834466531499\n",
       "\\item 1.17060696395874\n",
       "\\item 0.231809385468989\n",
       "\\end{enumerate*}\n",
       "\n",
       "\\item \\begin{enumerate*}\n",
       "\\item 0.493381205606247\n",
       "\\item 0.370603132850885\n",
       "\\item 0.642941281217797\n",
       "\\item 0.597108601314557\n",
       "\\item 0.432752002570071\n",
       "\\end{enumerate*}\n",
       "\n",
       "\\item \\begin{enumerate*}\n",
       "\\item 2.50199423709977\n",
       "\\item 2.54800133149241\n",
       "\\item 0.714398097696883\n",
       "\\item 2.07681607118511\n",
       "\\item 1.5016552936112\n",
       "\\end{enumerate*}\n",
       "\n",
       "\\end{enumerate}\n"
      ],
      "text/markdown": [
       "1. 1. -2.14142464968772\n",
       "2. -4.4853794702427\n",
       "3. -1.59646697149563\n",
       "4. -1.66558105310495\n",
       "5. -1.97815616812872\n",
       "\n",
       "\n",
       "\n",
       "2. 1. 0.907359865449551\n",
       "2. -1.76090281145307\n",
       "3. 0.173990067294692\n",
       "4. -0.885595220165182\n",
       "5. -2.03525419922009\n",
       "\n",
       "\n",
       "\n",
       "3. 1. -0.895423091502646\n",
       "2. -0.163401094764929\n",
       "3. -0.613834466531499\n",
       "4. 1.17060696395874\n",
       "5. 0.231809385468989\n",
       "\n",
       "\n",
       "\n",
       "4. 1. 0.493381205606247\n",
       "2. 0.370603132850885\n",
       "3. 0.642941281217797\n",
       "4. 0.597108601314557\n",
       "5. 0.432752002570071\n",
       "\n",
       "\n",
       "\n",
       "5. 1. 2.50199423709977\n",
       "2. 2.54800133149241\n",
       "3. 0.714398097696883\n",
       "4. 2.07681607118511\n",
       "5. 1.5016552936112\n",
       "\n",
       "\n",
       "\n",
       "\n",
       "\n"
      ],
      "text/plain": [
       "[[1]]\n",
       "[1] -2.141425 -4.485379 -1.596467 -1.665581 -1.978156\n",
       "\n",
       "[[2]]\n",
       "[1]  0.9073599 -1.7609028  0.1739901 -0.8855952 -2.0352542\n",
       "\n",
       "[[3]]\n",
       "[1] -0.8954231 -0.1634011 -0.6138345  1.1706070  0.2318094\n",
       "\n",
       "[[4]]\n",
       "[1] 0.4933812 0.3706031 0.6429413 0.5971086 0.4327520\n",
       "\n",
       "[[5]]\n",
       "[1] 2.5019942 2.5480013 0.7143981 2.0768161 1.5016553\n"
      ]
     },
     "metadata": {},
     "output_type": "display_data"
    }
   ],
   "source": [
    "# map(-2:2, rnorm, n = 5)的作用是什么？为什么？\n",
    "# map_dbl(-2:2, rnorm, n = 5)的作用又是什么？为什么？\n",
    "map(-2:2, rnorm, n = 5)# 作为第二个参数导入\n",
    "# map_dbl(-2:2, rnorm, n = 5)# 报错"
   ]
  },
  {
   "cell_type": "markdown",
   "metadata": {},
   "source": [
    "## 对操作失败的处理\n",
    "\n",
    "safely(),transpose(),possibly(),quietly()函数\n",
    "\n",
    "这四个函数对失败的处理不同，书上写的很明白"
   ]
  },
  {
   "cell_type": "markdown",
   "metadata": {},
   "source": [
    "## 多参数映射"
   ]
  },
  {
   "cell_type": "code",
   "execution_count": 26,
   "metadata": {},
   "outputs": [
    {
     "name": "stdout",
     "output_type": "stream",
     "text": [
      "List of 3\n",
      " $ : num [1:5] 5.57 4.53 4.08 5.19 5.11\n",
      " $ : num [1:5] 10.53 8.59 10.27 9.51 10.19\n",
      " $ : num [1:5] -2.1 -4.26 -3.36 -2.24 -3.1\n",
      "List of 3\n",
      " $ : num [1:5] 4.85 4.91 2.89 5.02 4.64\n",
      " $ : num [1:5] 6.49 9.5 9.03 7.81 16.93\n",
      " $ : num [1:5] 0.712 -8.34 -21.278 7.161 -22.743\n",
      "List of 3\n",
      " $ : num [1:5] 4.71 3.81 5.35 6.84 5.24\n",
      " $ : num [1:5] 14.5 14 9.4 11.4 10.2\n",
      " $ : num [1:5] 2.71 -5.11 -8.06 -3.08 -9.77\n",
      "List of 3\n",
      " $ : num 4.29\n",
      " $ : num [1:3] 10.18 6.45 7.7\n",
      " $ : num [1:5] -7.16 3.3 13.64 -9.74 13.5\n",
      "List of 3\n",
      " $ : num 3.77\n",
      " $ : num [1:3] 16.8 11.1 11.4\n",
      " $ : num [1:5] -23.5 -6.68 -2.24 2.79 -20.53\n"
     ]
    }
   ],
   "source": [
    "# 模拟均值不同的随机正态分布\n",
    "mu <- list(5, 10, -3)\n",
    "mu %>% map(rnorm, n = 5) %>% str()\n",
    "\n",
    "# 如果还想让标准差也不同呢？\n",
    "\n",
    "# 一种方法是用索引进行迭代\n",
    "sigma <- list(1, 5, 10)\n",
    "seq_along(mu) %>% map(~rnorm(5, mu[[.]], sigma[[.]])) %>% str()\n",
    "\n",
    "# 另一种方法是使用map2函数，它对两个向量进行同步迭代\n",
    "map2(mu, sigma, rnorm, n = 5) %>% str()\n",
    "\n",
    "# 如果是样本数量也不同呢？\n",
    "# pmap()函数可以将一个列表作为参数\n",
    "n <- list(1, 3, 5)\n",
    "args1 <- list(n, mu, sigma)\n",
    "args1 %>% pmap(rnorm) %>% str()\n",
    "\n",
    "# 这样没有命名容易出错，且可读性差\n",
    "\n",
    "# 命名后的代码如下\n",
    "args2 <- list(mean = mu, sd = sigma, n = n)\n",
    "args2 %>% pmap(rnorm) %>%  str()"
   ]
  },
  {
   "cell_type": "code",
   "execution_count": 27,
   "metadata": {},
   "outputs": [
    {
     "data": {
      "text/html": [
       "<ol>\n",
       "\t<li>3.7629252728007</li>\n",
       "\t<li><ol class=list-inline>\n",
       "\t<li>13.8120767590046</li>\n",
       "\t<li>6.35297596000443</li>\n",
       "\t<li>10.8368808594292</li>\n",
       "</ol>\n",
       "</li>\n",
       "\t<li><ol class=list-inline>\n",
       "\t<li>-7.32624883247804</li>\n",
       "\t<li>-1.29299588807772</li>\n",
       "\t<li>-5.83324200434657</li>\n",
       "\t<li>-12.4415451854882</li>\n",
       "\t<li>-6.15911055388429</li>\n",
       "</ol>\n",
       "</li>\n",
       "</ol>\n"
      ],
      "text/latex": [
       "\\begin{enumerate}\n",
       "\\item 3.7629252728007\n",
       "\\item \\begin{enumerate*}\n",
       "\\item 13.8120767590046\n",
       "\\item 6.35297596000443\n",
       "\\item 10.8368808594292\n",
       "\\end{enumerate*}\n",
       "\n",
       "\\item \\begin{enumerate*}\n",
       "\\item -7.32624883247804\n",
       "\\item -1.29299588807772\n",
       "\\item -5.83324200434657\n",
       "\\item -12.4415451854882\n",
       "\\item -6.15911055388429\n",
       "\\end{enumerate*}\n",
       "\n",
       "\\end{enumerate}\n"
      ],
      "text/markdown": [
       "1. 3.7629252728007\n",
       "2. 1. 13.8120767590046\n",
       "2. 6.35297596000443\n",
       "3. 10.8368808594292\n",
       "\n",
       "\n",
       "\n",
       "3. 1. -7.32624883247804\n",
       "2. -1.29299588807772\n",
       "3. -5.83324200434657\n",
       "4. -12.4415451854882\n",
       "5. -6.15911055388429\n",
       "\n",
       "\n",
       "\n",
       "\n",
       "\n"
      ],
      "text/plain": [
       "[[1]]\n",
       "[1] 3.762925\n",
       "\n",
       "[[2]]\n",
       "[1] 13.812077  6.352976 10.836881\n",
       "\n",
       "[[3]]\n",
       "[1]  -7.326249  -1.292996  -5.833242 -12.441545  -6.159111\n"
      ]
     },
     "metadata": {},
     "output_type": "display_data"
    }
   ],
   "source": [
    "# 因为长度都是相同的，所以可以将各个参数保存在一个数据框中：\n",
    "params <-tribble( \n",
    "    ~mean, ~sd, ~n, \n",
    "    5,     1,  1, \n",
    "    10,    5,  3, \n",
    "    -3,    10,  5\n",
    ") \n",
    "params %>% pmap(rnorm)"
   ]
  },
  {
   "cell_type": "code",
   "execution_count": 28,
   "metadata": {},
   "outputs": [
    {
     "name": "stdout",
     "output_type": "stream",
     "text": [
      "List of 3\n",
      " $ : num [1:5] 0.0959 0.7964 0.469 -0.5055 -0.1469\n",
      " $ : num [1:5] -12.79 3.43 -3.89 5.46 -2.46\n",
      " $ : int [1:5] 5 5 11 12 6\n"
     ]
    },
    {
     "data": {
      "text/html": [
       "<table>\n",
       "<caption>A tibble: 3 × 3</caption>\n",
       "<thead>\n",
       "\t<tr><th scope=col>f</th><th scope=col>params</th><th scope=col>sim</th></tr>\n",
       "\t<tr><th scope=col>&lt;chr&gt;</th><th scope=col>&lt;list&gt;</th><th scope=col>&lt;list&gt;</th></tr>\n",
       "</thead>\n",
       "<tbody>\n",
       "\t<tr><td>runif</td><td>-1, 1</td><td>0.8064592, -0.5800157, -0.8758826, 0.1162058, -0.4481403, -0.5444552, -0.2009330, 0.8922024, 0.6315626, 0.3517507</td></tr>\n",
       "\t<tr><td>rnorm</td><td>5</td><td>-6.9614559, 1.7678565, 7.4130429, -4.1046393, 1.2004052, -3.5973553, -3.0707497, -2.4898078, -3.6925922, 0.4619668</td></tr>\n",
       "\t<tr><td>rpois</td><td>10</td><td>6, 14, 11, 12, 10, 12, 3, 11, 12, 17</td></tr>\n",
       "</tbody>\n",
       "</table>\n"
      ],
      "text/latex": [
       "A tibble: 3 × 3\n",
       "\\begin{tabular}{r|lll}\n",
       " f & params & sim\\\\\n",
       " <chr> & <list> & <list>\\\\\n",
       "\\hline\n",
       "\t runif & -1, 1 & 0.8064592, -0.5800157, -0.8758826, 0.1162058, -0.4481403, -0.5444552, -0.2009330, 0.8922024, 0.6315626, 0.3517507\\\\\n",
       "\t rnorm & 5 & -6.9614559, 1.7678565, 7.4130429, -4.1046393, 1.2004052, -3.5973553, -3.0707497, -2.4898078, -3.6925922, 0.4619668\\\\\n",
       "\t rpois & 10 & 6, 14, 11, 12, 10, 12, 3, 11, 12, 17\\\\\n",
       "\\end{tabular}\n"
      ],
      "text/markdown": [
       "\n",
       "A tibble: 3 × 3\n",
       "\n",
       "| f &lt;chr&gt; | params &lt;list&gt; | sim &lt;list&gt; |\n",
       "|---|---|---|\n",
       "| runif | -1, 1 | 0.8064592, -0.5800157, -0.8758826, 0.1162058, -0.4481403, -0.5444552, -0.2009330, 0.8922024, 0.6315626, 0.3517507 |\n",
       "| rnorm | 5 | -6.9614559, 1.7678565, 7.4130429, -4.1046393, 1.2004052, -3.5973553, -3.0707497, -2.4898078, -3.6925922, 0.4619668 |\n",
       "| rpois | 10 | 6, 14, 11, 12, 10, 12, 3, 11, 12, 17 |\n",
       "\n"
      ],
      "text/plain": [
       "  f     params\n",
       "1 runif -1, 1 \n",
       "2 rnorm 5     \n",
       "3 rpois 10    \n",
       "  sim                                                                                                               \n",
       "1 0.8064592, -0.5800157, -0.8758826, 0.1162058, -0.4481403, -0.5444552, -0.2009330, 0.8922024, 0.6315626, 0.3517507 \n",
       "2 -6.9614559, 1.7678565, 7.4130429, -4.1046393, 1.2004052, -3.5973553, -3.0707497, -2.4898078, -3.6925922, 0.4619668\n",
       "3 6, 14, 11, 12, 10, 12, 3, 11, 12, 17                                                                              "
      ]
     },
     "metadata": {},
     "output_type": "display_data"
    }
   ],
   "source": [
    "# 再复杂点是调用不同函数\n",
    "f <- c(\"runif\", \"rnorm\", \"rpois\") \n",
    "param <-list( \n",
    "    list(min =-1, max =1), \n",
    "    list(sd =5), \n",
    "    list(lambda =10) \n",
    ")\n",
    "# 使用invoke_map()函数\n",
    "invoke_map(f, param, n = 5) %>% str()\n",
    "\n",
    "# 也可以使用数据框\n",
    "sim <-tribble( \n",
    "    ~f,      ~params, \n",
    "    \"runif\", list(min =-1, max =1), \n",
    "    \"rnorm\", list(sd =5), \n",
    "    \"rpois\", list(lambda =10) ) \n",
    "\n",
    "sim %>% mutate(sim = invoke_map(f, params, n = 10))"
   ]
  },
  {
   "cell_type": "markdown",
   "metadata": {},
   "source": [
    "## 游走函数\n",
    "\n",
    "使用这个函数的目的是在屏幕上提供输出或者将文件保存到磁盘——重要的是操作过程，而不是返回值。"
   ]
  },
  {
   "cell_type": "code",
   "execution_count": 29,
   "metadata": {},
   "outputs": [
    {
     "name": "stdout",
     "output_type": "stream",
     "text": [
      "[1] 1\n",
      "[1] \"a\"\n",
      "[1] 3\n"
     ]
    }
   ],
   "source": [
    "# 简单例子\n",
    "x <- list(1, \"a\", 3)\n",
    "x %>% walk(print)"
   ]
  },
  {
   "cell_type": "code",
   "execution_count": 30,
   "metadata": {},
   "outputs": [
    {
     "name": "stderr",
     "output_type": "stream",
     "text": [
      "Saving 6.67 x 6.67 in image\n",
      "Saving 6.67 x 6.67 in image\n",
      "Saving 6.67 x 6.67 in image\n"
     ]
    },
    {
     "data": {
      "text/html": [
       "'/tmp/RtmpwnsVEU'"
      ],
      "text/latex": [
       "'/tmp/RtmpwnsVEU'"
      ],
      "text/markdown": [
       "'/tmp/RtmpwnsVEU'"
      ],
      "text/plain": [
       "[1] \"/tmp/RtmpwnsVEU\""
      ]
     },
     "metadata": {},
     "output_type": "display_data"
    }
   ],
   "source": [
    "# pwalk保存文件\n",
    "library(ggplot2)\n",
    "plots <- mtcars %>% split(.$cyl) %>%\n",
    "    map(~ggplot(., aes(mpg, wt)) + geom_point())\n",
    "paths <- str_c(names(plots), \".pdf\")\n",
    "# plots\n",
    "pwalk(list(paths, plots), ggsave, path = tempdir())\n",
    "# tempdir()函数表示获得临时目录\n",
    "tempdir()"
   ]
  },
  {
   "cell_type": "markdown",
   "metadata": {},
   "source": [
    "## for循环的其他模式"
   ]
  },
  {
   "cell_type": "code",
   "execution_count": 31,
   "metadata": {},
   "outputs": [
    {
     "name": "stdout",
     "output_type": "stream",
     "text": [
      "'data.frame':\t150 obs. of  1 variable:\n",
      " $ Species: Factor w/ 3 levels \"setosa\",\"versicolor\",..: 1 1 1 1 1 1 1 1 1 1 ...\n",
      "'data.frame':\t150 obs. of  4 variables:\n",
      " $ Sepal.Length: num  5.1 4.9 4.7 4.6 5 5.4 4.6 5 4.4 4.9 ...\n",
      " $ Sepal.Width : num  3.5 3 3.2 3.1 3.6 3.9 3.4 3.4 2.9 3.1 ...\n",
      " $ Petal.Length: num  1.4 1.4 1.3 1.5 1.4 1.7 1.4 1.5 1.4 1.5 ...\n",
      " $ Petal.Width : num  0.2 0.2 0.2 0.2 0.2 0.4 0.3 0.2 0.2 0.1 ...\n"
     ]
    },
    {
     "data": {
      "text/html": [
       "TRUE"
      ],
      "text/latex": [
       "TRUE"
      ],
      "text/markdown": [
       "TRUE"
      ],
      "text/plain": [
       "[1] TRUE"
      ]
     },
     "metadata": {},
     "output_type": "display_data"
    },
    {
     "data": {
      "text/html": [
       "TRUE"
      ],
      "text/latex": [
       "TRUE"
      ],
      "text/markdown": [
       "TRUE"
      ],
      "text/plain": [
       "[1] TRUE"
      ]
     },
     "metadata": {},
     "output_type": "display_data"
    }
   ],
   "source": [
    "# 预测函数\n",
    "iris %>% keep(is.factor) %>% str()# keep 保留为T的元素\n",
    "iris %>% discard(is.factor) %>% str()# discard保留为F的元素\n",
    "\n",
    "x <- list(1:5, letters, list(10))\n",
    "\n",
    "x %>% some(is_character)# 部分为真\n",
    "x %>% every(is_vector)# 全部为真"
   ]
  },
  {
   "cell_type": "code",
   "execution_count": 32,
   "metadata": {},
   "outputs": [
    {
     "data": {
      "text/html": [
       "<table>\n",
       "<caption>A matrix: 1 × 10 of type int</caption>\n",
       "<tbody>\n",
       "\t<tr><td>7</td><td>10</td><td>4</td><td>3</td><td>2</td><td>6</td><td>5</td><td>1</td><td>8</td><td>9</td></tr>\n",
       "</tbody>\n",
       "</table>\n"
      ],
      "text/latex": [
       "A matrix: 1 × 10 of type int\n",
       "\\begin{tabular}{llllllllll}\n",
       "\t 7 & 10 & 4 & 3 & 2 & 6 & 5 & 1 & 8 & 9\\\\\n",
       "\\end{tabular}\n"
      ],
      "text/markdown": [
       "\n",
       "A matrix: 1 × 10 of type int\n",
       "\n",
       "| 7 | 10 | 4 | 3 | 2 | 6 | 5 | 1 | 8 | 9 |\n",
       "\n"
      ],
      "text/plain": [
       "     [,1] [,2] [,3] [,4] [,5] [,6] [,7] [,8] [,9] [,10]\n",
       "[1,] 7    10   4    3    2    6    5    1    8    9    "
      ]
     },
     "metadata": {},
     "output_type": "display_data"
    },
    {
     "data": {
      "text/html": [
       "7"
      ],
      "text/latex": [
       "7"
      ],
      "text/markdown": [
       "7"
      ],
      "text/plain": [
       "[1] 7"
      ]
     },
     "metadata": {},
     "output_type": "display_data"
    },
    {
     "data": {
      "text/html": [
       "1"
      ],
      "text/latex": [
       "1"
      ],
      "text/markdown": [
       "1"
      ],
      "text/plain": [
       "[1] 1"
      ]
     },
     "metadata": {},
     "output_type": "display_data"
    },
    {
     "data": {
      "text/html": [
       "<ol class=list-inline>\n",
       "\t<li>7</li>\n",
       "\t<li>10</li>\n",
       "</ol>\n"
      ],
      "text/latex": [
       "\\begin{enumerate*}\n",
       "\\item 7\n",
       "\\item 10\n",
       "\\end{enumerate*}\n"
      ],
      "text/markdown": [
       "1. 7\n",
       "2. 10\n",
       "\n",
       "\n"
      ],
      "text/plain": [
       "[1]  7 10"
      ]
     },
     "metadata": {},
     "output_type": "display_data"
    },
    {
     "data": {
      "text/html": [
       "<ol class=list-inline>\n",
       "\t<li>8</li>\n",
       "\t<li>9</li>\n",
       "</ol>\n"
      ],
      "text/latex": [
       "\\begin{enumerate*}\n",
       "\\item 8\n",
       "\\item 9\n",
       "\\end{enumerate*}\n"
      ],
      "text/markdown": [
       "1. 8\n",
       "2. 9\n",
       "\n",
       "\n"
      ],
      "text/plain": [
       "[1] 8 9"
      ]
     },
     "metadata": {},
     "output_type": "display_data"
    }
   ],
   "source": [
    "# detect()函数可以找出预测值为真的第一个元素，\n",
    "# detect_index()函数则可以返回这个元素的位置：\n",
    "\n",
    "x <- sample(10)\n",
    "x %>% t()\n",
    "x %>% detect(~ . > 5)\n",
    "x %>% detect_index(~ . > 5)\n",
    "# head_while()和tail_while()分别从向量的开头和结尾找出预测值为真的元素：\n",
    "\n",
    "x %>% head_while(~ . > 5)\n",
    "x %>% tail_while(~ . > 5)"
   ]
  },
  {
   "cell_type": "code",
   "execution_count": 33,
   "metadata": {},
   "outputs": [
    {
     "name": "stderr",
     "output_type": "stream",
     "text": [
      "Joining, by = \"name\"\n",
      "Joining, by = \"name\"\n"
     ]
    },
    {
     "data": {
      "text/html": [
       "<table>\n",
       "<caption>A tibble: 2 × 4</caption>\n",
       "<thead>\n",
       "\t<tr><th scope=col>name</th><th scope=col>age</th><th scope=col>sex</th><th scope=col>treatment</th></tr>\n",
       "\t<tr><th scope=col>&lt;chr&gt;</th><th scope=col>&lt;dbl&gt;</th><th scope=col>&lt;chr&gt;</th><th scope=col>&lt;chr&gt;</th></tr>\n",
       "</thead>\n",
       "<tbody>\n",
       "\t<tr><td>John</td><td>30</td><td>M</td><td>NA</td></tr>\n",
       "\t<tr><td>Mary</td><td>NA</td><td>F</td><td>A </td></tr>\n",
       "</tbody>\n",
       "</table>\n"
      ],
      "text/latex": [
       "A tibble: 2 × 4\n",
       "\\begin{tabular}{r|llll}\n",
       " name & age & sex & treatment\\\\\n",
       " <chr> & <dbl> & <chr> & <chr>\\\\\n",
       "\\hline\n",
       "\t John & 30 & M & NA\\\\\n",
       "\t Mary & NA & F & A \\\\\n",
       "\\end{tabular}\n"
      ],
      "text/markdown": [
       "\n",
       "A tibble: 2 × 4\n",
       "\n",
       "| name &lt;chr&gt; | age &lt;dbl&gt; | sex &lt;chr&gt; | treatment &lt;chr&gt; |\n",
       "|---|---|---|---|\n",
       "| John | 30 | M | NA |\n",
       "| Mary | NA | F | A  |\n",
       "\n"
      ],
      "text/plain": [
       "  name age sex treatment\n",
       "1 John 30  M   NA       \n",
       "2 Mary NA  F   A        "
      ]
     },
     "metadata": {},
     "output_type": "display_data"
    },
    {
     "data": {
      "text/html": [
       "<ol class=list-inline>\n",
       "\t<li>1</li>\n",
       "\t<li>3</li>\n",
       "\t<li>10</li>\n",
       "</ol>\n"
      ],
      "text/latex": [
       "\\begin{enumerate*}\n",
       "\\item 1\n",
       "\\item 3\n",
       "\\item 10\n",
       "\\end{enumerate*}\n"
      ],
      "text/markdown": [
       "1. 1\n",
       "2. 3\n",
       "3. 10\n",
       "\n",
       "\n"
      ],
      "text/plain": [
       "[1]  1  3 10"
      ]
     },
     "metadata": {},
     "output_type": "display_data"
    },
    {
     "data": {
      "text/html": [
       "<table>\n",
       "<caption>A matrix: 1 × 10 of type int</caption>\n",
       "<tbody>\n",
       "\t<tr><td>9</td><td>16</td><td>21</td><td>25</td><td>33</td><td>39</td><td>40</td><td>50</td><td>52</td><td>55</td></tr>\n",
       "</tbody>\n",
       "</table>\n"
      ],
      "text/latex": [
       "A matrix: 1 × 10 of type int\n",
       "\\begin{tabular}{llllllllll}\n",
       "\t 9 & 16 & 21 & 25 & 33 & 39 & 40 & 50 & 52 & 55\\\\\n",
       "\\end{tabular}\n"
      ],
      "text/markdown": [
       "\n",
       "A matrix: 1 × 10 of type int\n",
       "\n",
       "| 9 | 16 | 21 | 25 | 33 | 39 | 40 | 50 | 52 | 55 |\n",
       "\n"
      ],
      "text/plain": [
       "     [,1] [,2] [,3] [,4] [,5] [,6] [,7] [,8] [,9] [,10]\n",
       "[1,] 9    16   21   25   33   39   40   50   52   55   "
      ]
     },
     "metadata": {},
     "output_type": "display_data"
    }
   ],
   "source": [
    "# # 归约与累计\n",
    "# reduce()函数使用一个“二元”函数（即具有两个基本输入的函数），\n",
    "# 将其不断应用于一个列表，直到最后只剩下一个元素为止。\n",
    "dfs <- list(   \n",
    "    age =tibble(name =\"John\", age =30),   \n",
    "    sex =tibble(name =c(\"John\", \"Mary\"), sex =c(\"M\", \"F\")),   \n",
    "    trt =tibble(name =\"Mary\", treatment =\"A\") ) \n",
    "dfs %>% reduce(full_join)# 合并表\n",
    "\n",
    "vs <- list( \n",
    "    c(1, 3, 5, 6, 10), \n",
    "    c(1, 2, 3, 7, 8, 10), \n",
    "    c(1, 2, 3, 4, 8, 9, 10) \n",
    "    )\n",
    "vs %>% reduce(intersect)# 找交集\n",
    "\n",
    "# 累计函数与归约函数很相似，但前者会保留所有中间结果。你可以使用它来实现累计求和：\n",
    "\n",
    "x <- sample(10)\n",
    "x %>% accumulate(`+`) %>% t()"
   ]
  }
 ],
 "metadata": {
  "jupytext": {
   "formats": "ipynb,Rmd"
  },
  "kernelspec": {
   "display_name": "R",
   "language": "R",
   "name": "ir"
  },
  "language_info": {
   "codemirror_mode": "r",
   "file_extension": ".r",
   "mimetype": "text/x-r-source",
   "name": "R",
   "pygments_lexer": "r",
   "version": "3.6.1"
  }
 },
 "nbformat": 4,
 "nbformat_minor": 4
}
