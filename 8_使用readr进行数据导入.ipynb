{
 "cells": [
  {
   "cell_type": "markdown",
   "metadata": {},
   "source": [
    "# 使用readr进行数据导入\n",
    "\n",
    "readr是tidyverse的核心包之一，readr是较新的进行数据导入的包，相比就的导入函数和自带的数据导入函数有不少优势，不少地方还在使用旧的方法导入或者读取数据。\n",
    "\n",
    "旧的方法目前还是比较通用，一般还不需要加载额外的包，都要知道，就不对比了，因为能力不足。"
   ]
  },
  {
   "cell_type": "code",
   "execution_count": 1,
   "metadata": {},
   "outputs": [
    {
     "name": "stderr",
     "output_type": "stream",
     "text": [
      "─ \u001b[1mAttaching packages\u001b[22m ──────────────────── tidyverse 1.2.1 ─\n",
      "\u001b[32m✔\u001b[39m \u001b[34mggplot2\u001b[39m 3.2.1     \u001b[32m✔\u001b[39m \u001b[34mpurrr  \u001b[39m 0.3.2\n",
      "\u001b[32m✔\u001b[39m \u001b[34mtibble \u001b[39m 2.1.3     \u001b[32m✔\u001b[39m \u001b[34mdplyr  \u001b[39m 0.8.3\n",
      "\u001b[32m✔\u001b[39m \u001b[34mtidyr  \u001b[39m 1.0.0     \u001b[32m✔\u001b[39m \u001b[34mstringr\u001b[39m 1.4.0\n",
      "\u001b[32m✔\u001b[39m \u001b[34mreadr  \u001b[39m 1.3.1     \u001b[32m✔\u001b[39m \u001b[34mforcats\u001b[39m 0.4.0\n",
      "─ \u001b[1mConflicts\u001b[22m ───────────────────── tidyverse_conflicts() ─\n",
      "\u001b[31m✖\u001b[39m \u001b[34mdplyr\u001b[39m::\u001b[32mfilter()\u001b[39m masks \u001b[34mstats\u001b[39m::filter()\n",
      "\u001b[31m✖\u001b[39m \u001b[34mdplyr\u001b[39m::\u001b[32mlag()\u001b[39m    masks \u001b[34mstats\u001b[39m::lag()\n"
     ]
    }
   ],
   "source": [
    "# 加载包\n",
    "library(tidyverse)"
   ]
  },
  {
   "cell_type": "markdown",
   "metadata": {},
   "source": [
    "## 摘要\n",
    "\n",
    "readr的多数函数用于将平面文件转换为数据框\n",
    "\n",
    "read_csv()：读取逗号分割的文件，\n",
    "\n",
    "read_csv2()：读取分号分割的文件，\n",
    "\n",
    "read_tsv()：读取制表符分割的文件，\n",
    "\n",
    "read_delim()：读取任意分隔符的文件\n",
    "\n",
    "read_fwf()：读取固定宽度的文件，\n",
    "\n",
    "其他参考书或者帮助\n",
    "\n",
    "这些函数用法类似，这里主要介绍read_csv()函数，逗号分割的CSV文件常用"
   ]
  },
  {
   "cell_type": "markdown",
   "metadata": {
    "toc-hr-collapsed": false
   },
   "source": [
    "## read_csv()"
   ]
  },
  {
   "cell_type": "code",
   "execution_count": 2,
   "metadata": {},
   "outputs": [
    {
     "name": "stderr",
     "output_type": "stream",
     "text": [
      "Parsed with column specification:\n",
      "cols(\n",
      "  earn = \u001b[32mcol_double()\u001b[39m,\n",
      "  height = \u001b[32mcol_double()\u001b[39m,\n",
      "  sex = \u001b[31mcol_character()\u001b[39m,\n",
      "  ed = \u001b[32mcol_double()\u001b[39m,\n",
      "  age = \u001b[32mcol_double()\u001b[39m,\n",
      "  race = \u001b[31mcol_character()\u001b[39m\n",
      ")\n"
     ]
    },
    {
     "data": {
      "text/html": [
       "<table>\n",
       "<caption>A tibble: 6 × 6</caption>\n",
       "<thead>\n",
       "\t<tr><th scope=col>earn</th><th scope=col>height</th><th scope=col>sex</th><th scope=col>ed</th><th scope=col>age</th><th scope=col>race</th></tr>\n",
       "\t<tr><th scope=col>&lt;dbl&gt;</th><th scope=col>&lt;dbl&gt;</th><th scope=col>&lt;chr&gt;</th><th scope=col>&lt;dbl&gt;</th><th scope=col>&lt;dbl&gt;</th><th scope=col>&lt;chr&gt;</th></tr>\n",
       "</thead>\n",
       "<tbody>\n",
       "\t<tr><td>50000</td><td>74.42444</td><td>male  </td><td>16</td><td>45</td><td>white</td></tr>\n",
       "\t<tr><td>60000</td><td>65.53754</td><td>female</td><td>16</td><td>58</td><td>white</td></tr>\n",
       "\t<tr><td>30000</td><td>63.62920</td><td>female</td><td>16</td><td>29</td><td>white</td></tr>\n",
       "\t<tr><td>50000</td><td>63.10856</td><td>female</td><td>16</td><td>91</td><td>other</td></tr>\n",
       "\t<tr><td>51000</td><td>63.40248</td><td>female</td><td>17</td><td>39</td><td>white</td></tr>\n",
       "\t<tr><td> 9000</td><td>64.39951</td><td>female</td><td>15</td><td>26</td><td>white</td></tr>\n",
       "</tbody>\n",
       "</table>\n"
      ],
      "text/latex": [
       "A tibble: 6 × 6\n",
       "\\begin{tabular}{r|llllll}\n",
       " earn & height & sex & ed & age & race\\\\\n",
       " <dbl> & <dbl> & <chr> & <dbl> & <dbl> & <chr>\\\\\n",
       "\\hline\n",
       "\t 50000 & 74.42444 & male   & 16 & 45 & white\\\\\n",
       "\t 60000 & 65.53754 & female & 16 & 58 & white\\\\\n",
       "\t 30000 & 63.62920 & female & 16 & 29 & white\\\\\n",
       "\t 50000 & 63.10856 & female & 16 & 91 & other\\\\\n",
       "\t 51000 & 63.40248 & female & 17 & 39 & white\\\\\n",
       "\t  9000 & 64.39951 & female & 15 & 26 & white\\\\\n",
       "\\end{tabular}\n"
      ],
      "text/markdown": [
       "\n",
       "A tibble: 6 × 6\n",
       "\n",
       "| earn &lt;dbl&gt; | height &lt;dbl&gt; | sex &lt;chr&gt; | ed &lt;dbl&gt; | age &lt;dbl&gt; | race &lt;chr&gt; |\n",
       "|---|---|---|---|---|---|\n",
       "| 50000 | 74.42444 | male   | 16 | 45 | white |\n",
       "| 60000 | 65.53754 | female | 16 | 58 | white |\n",
       "| 30000 | 63.62920 | female | 16 | 29 | white |\n",
       "| 50000 | 63.10856 | female | 16 | 91 | other |\n",
       "| 51000 | 63.40248 | female | 17 | 39 | white |\n",
       "|  9000 | 64.39951 | female | 15 | 26 | white |\n",
       "\n"
      ],
      "text/plain": [
       "  earn  height   sex    ed age race \n",
       "1 50000 74.42444 male   16 45  white\n",
       "2 60000 65.53754 female 16 58  white\n",
       "3 30000 63.62920 female 16 29  white\n",
       "4 50000 63.10856 female 16 91  other\n",
       "5 51000 63.40248 female 17 39  white\n",
       "6  9000 64.39951 female 15 26  white"
      ]
     },
     "metadata": {},
     "output_type": "display_data"
    }
   ],
   "source": [
    "# 让我们用read_csv()函数读取本地文件\n",
    "heights <- read_csv(\"data/heights.csv\") \n",
    "# read_csv()会打印数据说明，非常有用\n",
    "heights %>% head()"
   ]
  },
  {
   "cell_type": "code",
   "execution_count": 3,
   "metadata": {},
   "outputs": [
    {
     "data": {
      "text/html": [
       "<table>\n",
       "<caption>A spec_tbl_df: 2 × 3</caption>\n",
       "<thead>\n",
       "\t<tr><th scope=col>a</th><th scope=col>b</th><th scope=col>c</th></tr>\n",
       "\t<tr><th scope=col>&lt;dbl&gt;</th><th scope=col>&lt;dbl&gt;</th><th scope=col>&lt;dbl&gt;</th></tr>\n",
       "</thead>\n",
       "<tbody>\n",
       "\t<tr><td>1</td><td>2</td><td>3</td></tr>\n",
       "\t<tr><td>4</td><td>5</td><td>6</td></tr>\n",
       "</tbody>\n",
       "</table>\n"
      ],
      "text/latex": [
       "A spec_tbl_df: 2 × 3\n",
       "\\begin{tabular}{r|lll}\n",
       " a & b & c\\\\\n",
       " <dbl> & <dbl> & <dbl>\\\\\n",
       "\\hline\n",
       "\t 1 & 2 & 3\\\\\n",
       "\t 4 & 5 & 6\\\\\n",
       "\\end{tabular}\n"
      ],
      "text/markdown": [
       "\n",
       "A spec_tbl_df: 2 × 3\n",
       "\n",
       "| a &lt;dbl&gt; | b &lt;dbl&gt; | c &lt;dbl&gt; |\n",
       "|---|---|---|\n",
       "| 1 | 2 | 3 |\n",
       "| 4 | 5 | 6 |\n",
       "\n"
      ],
      "text/plain": [
       "  a b c\n",
       "1 1 2 3\n",
       "2 4 5 6"
      ]
     },
     "metadata": {},
     "output_type": "display_data"
    }
   ],
   "source": [
    "# 再看读取行内CSV的例子\n",
    "read_csv(\"a,b,c\n",
    "1,2,3\n",
    "4,5,6\")"
   ]
  },
  {
   "cell_type": "code",
   "execution_count": 4,
   "metadata": {},
   "outputs": [
    {
     "data": {
      "text/html": [
       "<table>\n",
       "<caption>A spec_tbl_df: 1 × 3</caption>\n",
       "<thead>\n",
       "\t<tr><th scope=col>x</th><th scope=col>y</th><th scope=col>z</th></tr>\n",
       "\t<tr><th scope=col>&lt;dbl&gt;</th><th scope=col>&lt;dbl&gt;</th><th scope=col>&lt;dbl&gt;</th></tr>\n",
       "</thead>\n",
       "<tbody>\n",
       "\t<tr><td>1</td><td>2</td><td>3</td></tr>\n",
       "</tbody>\n",
       "</table>\n"
      ],
      "text/latex": [
       "A spec_tbl_df: 1 × 3\n",
       "\\begin{tabular}{r|lll}\n",
       " x & y & z\\\\\n",
       " <dbl> & <dbl> & <dbl>\\\\\n",
       "\\hline\n",
       "\t 1 & 2 & 3\\\\\n",
       "\\end{tabular}\n"
      ],
      "text/markdown": [
       "\n",
       "A spec_tbl_df: 1 × 3\n",
       "\n",
       "| x &lt;dbl&gt; | y &lt;dbl&gt; | z &lt;dbl&gt; |\n",
       "|---|---|---|\n",
       "| 1 | 2 | 3 |\n",
       "\n"
      ],
      "text/plain": [
       "  x y z\n",
       "1 1 2 3"
      ]
     },
     "metadata": {},
     "output_type": "display_data"
    },
    {
     "data": {
      "text/html": [
       "<table>\n",
       "<caption>A spec_tbl_df: 1 × 3</caption>\n",
       "<thead>\n",
       "\t<tr><th scope=col>x</th><th scope=col>y</th><th scope=col>z</th></tr>\n",
       "\t<tr><th scope=col>&lt;dbl&gt;</th><th scope=col>&lt;dbl&gt;</th><th scope=col>&lt;dbl&gt;</th></tr>\n",
       "</thead>\n",
       "<tbody>\n",
       "\t<tr><td>1</td><td>2</td><td>3</td></tr>\n",
       "</tbody>\n",
       "</table>\n"
      ],
      "text/latex": [
       "A spec_tbl_df: 1 × 3\n",
       "\\begin{tabular}{r|lll}\n",
       " x & y & z\\\\\n",
       " <dbl> & <dbl> & <dbl>\\\\\n",
       "\\hline\n",
       "\t 1 & 2 & 3\\\\\n",
       "\\end{tabular}\n"
      ],
      "text/markdown": [
       "\n",
       "A spec_tbl_df: 1 × 3\n",
       "\n",
       "| x &lt;dbl&gt; | y &lt;dbl&gt; | z &lt;dbl&gt; |\n",
       "|---|---|---|\n",
       "| 1 | 2 | 3 |\n",
       "\n"
      ],
      "text/plain": [
       "  x y z\n",
       "1 1 2 3"
      ]
     },
     "metadata": {},
     "output_type": "display_data"
    }
   ],
   "source": [
    "# 以上两个例子read_csv()函数都使用第一行作为列名称\n",
    "# 可以使用skip = n　来跳过前n行\n",
    "# 或者使用comment = \"#\"丢弃以\"#\"开头的行\n",
    "\n",
    "read_csv(\"The first line of metadata\n",
    "The second line of metadata\n",
    "x,y,z\n",
    "1,2,3\", \n",
    "skip = 2)\n",
    "\n",
    "\n",
    "read_csv(\"# A comment I want to skip\n",
    "x,y,z\n",
    "1,2,3\",\n",
    "comment = \"#\")"
   ]
  },
  {
   "cell_type": "code",
   "execution_count": 5,
   "metadata": {},
   "outputs": [
    {
     "data": {
      "text/html": [
       "<table>\n",
       "<caption>A spec_tbl_df: 2 × 3</caption>\n",
       "<thead>\n",
       "\t<tr><th scope=col>X1</th><th scope=col>X2</th><th scope=col>X3</th></tr>\n",
       "\t<tr><th scope=col>&lt;dbl&gt;</th><th scope=col>&lt;dbl&gt;</th><th scope=col>&lt;dbl&gt;</th></tr>\n",
       "</thead>\n",
       "<tbody>\n",
       "\t<tr><td>1</td><td>2</td><td>3</td></tr>\n",
       "\t<tr><td>4</td><td>5</td><td>6</td></tr>\n",
       "</tbody>\n",
       "</table>\n"
      ],
      "text/latex": [
       "A spec_tbl_df: 2 × 3\n",
       "\\begin{tabular}{r|lll}\n",
       " X1 & X2 & X3\\\\\n",
       " <dbl> & <dbl> & <dbl>\\\\\n",
       "\\hline\n",
       "\t 1 & 2 & 3\\\\\n",
       "\t 4 & 5 & 6\\\\\n",
       "\\end{tabular}\n"
      ],
      "text/markdown": [
       "\n",
       "A spec_tbl_df: 2 × 3\n",
       "\n",
       "| X1 &lt;dbl&gt; | X2 &lt;dbl&gt; | X3 &lt;dbl&gt; |\n",
       "|---|---|---|\n",
       "| 1 | 2 | 3 |\n",
       "| 4 | 5 | 6 |\n",
       "\n"
      ],
      "text/plain": [
       "  X1 X2 X3\n",
       "1 1  2  3 \n",
       "2 4  5  6 "
      ]
     },
     "metadata": {},
     "output_type": "display_data"
    },
    {
     "data": {
      "text/html": [
       "<table>\n",
       "<caption>A spec_tbl_df: 2 × 3</caption>\n",
       "<thead>\n",
       "\t<tr><th scope=col>x</th><th scope=col>y</th><th scope=col>z</th></tr>\n",
       "\t<tr><th scope=col>&lt;dbl&gt;</th><th scope=col>&lt;dbl&gt;</th><th scope=col>&lt;dbl&gt;</th></tr>\n",
       "</thead>\n",
       "<tbody>\n",
       "\t<tr><td>1</td><td>2</td><td>3</td></tr>\n",
       "\t<tr><td>4</td><td>5</td><td>6</td></tr>\n",
       "</tbody>\n",
       "</table>\n"
      ],
      "text/latex": [
       "A spec_tbl_df: 2 × 3\n",
       "\\begin{tabular}{r|lll}\n",
       " x & y & z\\\\\n",
       " <dbl> & <dbl> & <dbl>\\\\\n",
       "\\hline\n",
       "\t 1 & 2 & 3\\\\\n",
       "\t 4 & 5 & 6\\\\\n",
       "\\end{tabular}\n"
      ],
      "text/markdown": [
       "\n",
       "A spec_tbl_df: 2 × 3\n",
       "\n",
       "| x &lt;dbl&gt; | y &lt;dbl&gt; | z &lt;dbl&gt; |\n",
       "|---|---|---|\n",
       "| 1 | 2 | 3 |\n",
       "| 4 | 5 | 6 |\n",
       "\n"
      ],
      "text/plain": [
       "  x y z\n",
       "1 1 2 3\n",
       "2 4 5 6"
      ]
     },
     "metadata": {},
     "output_type": "display_data"
    }
   ],
   "source": [
    "# 若数据没有列名称，可以使用col_names = F \n",
    "read_csv(\"1,2,3\\n4,5,6\", col_names = F)\n",
    "# \"\\n\"记住是换行即可\n",
    "# 或者向col_names传递一个向量作为列名称\n",
    "read_csv(\"1,2,3\\n4,5,6\", col_names =  c(\"x\",\"y\",\"z\"))"
   ]
  },
  {
   "cell_type": "code",
   "execution_count": 6,
   "metadata": {},
   "outputs": [
    {
     "data": {
      "text/html": [
       "<table>\n",
       "<caption>A spec_tbl_df: 1 × 3</caption>\n",
       "<thead>\n",
       "\t<tr><th scope=col>a</th><th scope=col>b</th><th scope=col>c</th></tr>\n",
       "\t<tr><th scope=col>&lt;dbl&gt;</th><th scope=col>&lt;dbl&gt;</th><th scope=col>&lt;lgl&gt;</th></tr>\n",
       "</thead>\n",
       "<tbody>\n",
       "\t<tr><td>1</td><td>2</td><td>NA</td></tr>\n",
       "</tbody>\n",
       "</table>\n"
      ],
      "text/latex": [
       "A spec_tbl_df: 1 × 3\n",
       "\\begin{tabular}{r|lll}\n",
       " a & b & c\\\\\n",
       " <dbl> & <dbl> & <lgl>\\\\\n",
       "\\hline\n",
       "\t 1 & 2 & NA\\\\\n",
       "\\end{tabular}\n"
      ],
      "text/markdown": [
       "\n",
       "A spec_tbl_df: 1 × 3\n",
       "\n",
       "| a &lt;dbl&gt; | b &lt;dbl&gt; | c &lt;lgl&gt; |\n",
       "|---|---|---|\n",
       "| 1 | 2 | NA |\n",
       "\n"
      ],
      "text/plain": [
       "  a b c \n",
       "1 1 2 NA"
      ]
     },
     "metadata": {},
     "output_type": "display_data"
    }
   ],
   "source": [
    "# 在读取真实数据是的重要选项是na，设定使用哪个值作为缺失值\n",
    "read_csv(\"a,b,c\\n1,2,.\", na = \".\")"
   ]
  },
  {
   "cell_type": "markdown",
   "metadata": {},
   "source": [
    "### 更多参数和用法查看帮助\n",
    "\n",
    "R基础包中的函数会继承操作系统的功能并依赖环境变量，因此在你电脑上正常运行的代码在导入他人计算机时不一定能正常运行"
   ]
  },
  {
   "cell_type": "markdown",
   "metadata": {},
   "source": [
    "### 练习"
   ]
  },
  {
   "cell_type": "code",
   "execution_count": 7,
   "metadata": {},
   "outputs": [
    {
     "data": {
      "text/html": [
       "<table>\n",
       "<caption>A spec_tbl_df: 2 × 3</caption>\n",
       "<thead>\n",
       "\t<tr><th scope=col>x</th><th scope=col>y</th><th scope=col>z</th></tr>\n",
       "\t<tr><th scope=col>&lt;dbl&gt;</th><th scope=col>&lt;dbl&gt;</th><th scope=col>&lt;dbl&gt;</th></tr>\n",
       "</thead>\n",
       "<tbody>\n",
       "\t<tr><td>1</td><td>2</td><td>3</td></tr>\n",
       "\t<tr><td>4</td><td>5</td><td>6</td></tr>\n",
       "</tbody>\n",
       "</table>\n"
      ],
      "text/latex": [
       "A spec_tbl_df: 2 × 3\n",
       "\\begin{tabular}{r|lll}\n",
       " x & y & z\\\\\n",
       " <dbl> & <dbl> & <dbl>\\\\\n",
       "\\hline\n",
       "\t 1 & 2 & 3\\\\\n",
       "\t 4 & 5 & 6\\\\\n",
       "\\end{tabular}\n"
      ],
      "text/markdown": [
       "\n",
       "A spec_tbl_df: 2 × 3\n",
       "\n",
       "| x &lt;dbl&gt; | y &lt;dbl&gt; | z &lt;dbl&gt; |\n",
       "|---|---|---|\n",
       "| 1 | 2 | 3 |\n",
       "| 4 | 5 | 6 |\n",
       "\n"
      ],
      "text/plain": [
       "  x y z\n",
       "1 1 2 3\n",
       "2 4 5 6"
      ]
     },
     "metadata": {},
     "output_type": "display_data"
    }
   ],
   "source": [
    "# 读取又\"|\"分隔的文件\n",
    "split_bar <- \"x|y|z\\n1|2|3\\n4|5|6\"\n",
    "read_delim(split_bar, delim = \"|\")\n"
   ]
  },
  {
   "cell_type": "code",
   "execution_count": 8,
   "metadata": {},
   "outputs": [
    {
     "data": {
      "text/html": [
       "<table>\n",
       "<caption>A spec_tbl_df: 1 × 2</caption>\n",
       "<thead>\n",
       "\t<tr><th scope=col>x</th><th scope=col>y</th></tr>\n",
       "\t<tr><th scope=col>&lt;dbl&gt;</th><th scope=col>&lt;chr&gt;</th></tr>\n",
       "</thead>\n",
       "<tbody>\n",
       "\t<tr><td>1</td><td>a,b</td></tr>\n",
       "</tbody>\n",
       "</table>\n"
      ],
      "text/latex": [
       "A spec_tbl_df: 1 × 2\n",
       "\\begin{tabular}{r|ll}\n",
       " x & y\\\\\n",
       " <dbl> & <chr>\\\\\n",
       "\\hline\n",
       "\t 1 & a,b\\\\\n",
       "\\end{tabular}\n"
      ],
      "text/markdown": [
       "\n",
       "A spec_tbl_df: 1 × 2\n",
       "\n",
       "| x &lt;dbl&gt; | y &lt;chr&gt; |\n",
       "|---|---|\n",
       "| 1 | a,b |\n",
       "\n"
      ],
      "text/plain": [
       "  x y  \n",
       "1 1 a,b"
      ]
     },
     "metadata": {},
     "output_type": "display_data"
    },
    {
     "name": "stderr",
     "output_type": "stream",
     "text": [
      "Warning message:\n",
      "“1 parsing failure.\n",
      "row col  expected    actual         file\n",
      "  1  -- 2 columns 3 columns literal data\n",
      "”"
     ]
    },
    {
     "data": {
      "text/html": [
       "<table>\n",
       "<caption>A spec_tbl_df: 1 × 2</caption>\n",
       "<thead>\n",
       "\t<tr><th scope=col>x</th><th scope=col>y</th></tr>\n",
       "\t<tr><th scope=col>&lt;dbl&gt;</th><th scope=col>&lt;chr&gt;</th></tr>\n",
       "</thead>\n",
       "<tbody>\n",
       "\t<tr><td>1</td><td>'a</td></tr>\n",
       "</tbody>\n",
       "</table>\n"
      ],
      "text/latex": [
       "A spec_tbl_df: 1 × 2\n",
       "\\begin{tabular}{r|ll}\n",
       " x & y\\\\\n",
       " <dbl> & <chr>\\\\\n",
       "\\hline\n",
       "\t 1 & 'a\\\\\n",
       "\\end{tabular}\n"
      ],
      "text/markdown": [
       "\n",
       "A spec_tbl_df: 1 × 2\n",
       "\n",
       "| x &lt;dbl&gt; | y &lt;chr&gt; |\n",
       "|---|---|\n",
       "| 1 | 'a |\n",
       "\n"
      ],
      "text/plain": [
       "  x y \n",
       "1 1 'a"
      ]
     },
     "metadata": {},
     "output_type": "display_data"
    },
    {
     "data": {
      "text/html": [
       "<table>\n",
       "<caption>A spec_tbl_df: 1 × 2</caption>\n",
       "<thead>\n",
       "\t<tr><th scope=col>x</th><th scope=col>y</th></tr>\n",
       "\t<tr><th scope=col>&lt;dbl&gt;</th><th scope=col>&lt;chr&gt;</th></tr>\n",
       "</thead>\n",
       "<tbody>\n",
       "\t<tr><td>1</td><td>a,b</td></tr>\n",
       "</tbody>\n",
       "</table>\n"
      ],
      "text/latex": [
       "A spec_tbl_df: 1 × 2\n",
       "\\begin{tabular}{r|ll}\n",
       " x & y\\\\\n",
       " <dbl> & <chr>\\\\\n",
       "\\hline\n",
       "\t 1 & a,b\\\\\n",
       "\\end{tabular}\n"
      ],
      "text/markdown": [
       "\n",
       "A spec_tbl_df: 1 × 2\n",
       "\n",
       "| x &lt;dbl&gt; | y &lt;chr&gt; |\n",
       "|---|---|\n",
       "| 1 | a,b |\n",
       "\n"
      ],
      "text/plain": [
       "  x y  \n",
       "1 1 a,b"
      ]
     },
     "metadata": {},
     "output_type": "display_data"
    }
   ],
   "source": [
    "# 读取字符串中包含逗号的CSV文件\n",
    "test_char <- \"x,y\\n1,'a,b'\"\n",
    "read_csv(test_char, quote = \"''\")\n",
    "read_csv(test_char)# warnning读错\n",
    "read_delim(test_char, delim = \",\", quote = \"'\")\n"
   ]
  },
  {
   "cell_type": "code",
   "execution_count": 9,
   "metadata": {},
   "outputs": [
    {
     "name": "stderr",
     "output_type": "stream",
     "text": [
      "Warning message:\n",
      "“2 parsing failures.\n",
      "row col  expected    actual         file\n",
      "  1  -- 2 columns 3 columns literal data\n",
      "  2  -- 2 columns 3 columns literal data\n",
      "”"
     ]
    },
    {
     "data": {
      "text/html": [
       "<table>\n",
       "<caption>A spec_tbl_df: 2 × 2</caption>\n",
       "<thead>\n",
       "\t<tr><th scope=col>a</th><th scope=col>b</th></tr>\n",
       "\t<tr><th scope=col>&lt;dbl&gt;</th><th scope=col>&lt;dbl&gt;</th></tr>\n",
       "</thead>\n",
       "<tbody>\n",
       "\t<tr><td>1</td><td>2</td></tr>\n",
       "\t<tr><td>4</td><td>5</td></tr>\n",
       "</tbody>\n",
       "</table>\n"
      ],
      "text/latex": [
       "A spec_tbl_df: 2 × 2\n",
       "\\begin{tabular}{r|ll}\n",
       " a & b\\\\\n",
       " <dbl> & <dbl>\\\\\n",
       "\\hline\n",
       "\t 1 & 2\\\\\n",
       "\t 4 & 5\\\\\n",
       "\\end{tabular}\n"
      ],
      "text/markdown": [
       "\n",
       "A spec_tbl_df: 2 × 2\n",
       "\n",
       "| a &lt;dbl&gt; | b &lt;dbl&gt; |\n",
       "|---|---|\n",
       "| 1 | 2 |\n",
       "| 4 | 5 |\n",
       "\n"
      ],
      "text/plain": [
       "  a b\n",
       "1 1 2\n",
       "2 4 5"
      ]
     },
     "metadata": {},
     "output_type": "display_data"
    },
    {
     "name": "stderr",
     "output_type": "stream",
     "text": [
      "Warning message:\n",
      "“2 parsing failures.\n",
      "row col  expected    actual         file\n",
      "  1  -- 3 columns 2 columns literal data\n",
      "  2  -- 3 columns 4 columns literal data\n",
      "”"
     ]
    },
    {
     "data": {
      "text/html": [
       "<table>\n",
       "<caption>A spec_tbl_df: 2 × 3</caption>\n",
       "<thead>\n",
       "\t<tr><th scope=col>a</th><th scope=col>b</th><th scope=col>c</th></tr>\n",
       "\t<tr><th scope=col>&lt;dbl&gt;</th><th scope=col>&lt;dbl&gt;</th><th scope=col>&lt;dbl&gt;</th></tr>\n",
       "</thead>\n",
       "<tbody>\n",
       "\t<tr><td>1</td><td>2</td><td>NA</td></tr>\n",
       "\t<tr><td>1</td><td>2</td><td> 3</td></tr>\n",
       "</tbody>\n",
       "</table>\n"
      ],
      "text/latex": [
       "A spec_tbl_df: 2 × 3\n",
       "\\begin{tabular}{r|lll}\n",
       " a & b & c\\\\\n",
       " <dbl> & <dbl> & <dbl>\\\\\n",
       "\\hline\n",
       "\t 1 & 2 & NA\\\\\n",
       "\t 1 & 2 &  3\\\\\n",
       "\\end{tabular}\n"
      ],
      "text/markdown": [
       "\n",
       "A spec_tbl_df: 2 × 3\n",
       "\n",
       "| a &lt;dbl&gt; | b &lt;dbl&gt; | c &lt;dbl&gt; |\n",
       "|---|---|---|\n",
       "| 1 | 2 | NA |\n",
       "| 1 | 2 |  3 |\n",
       "\n"
      ],
      "text/plain": [
       "  a b c \n",
       "1 1 2 NA\n",
       "2 1 2  3"
      ]
     },
     "metadata": {},
     "output_type": "display_data"
    },
    {
     "name": "stderr",
     "output_type": "stream",
     "text": [
      "Warning message:\n",
      "“2 parsing failures.\n",
      "row col                     expected    actual         file\n",
      "  1  a  closing quote at end of file           literal data\n",
      "  1  -- 2 columns                    1 columns literal data\n",
      "”"
     ]
    },
    {
     "data": {
      "text/html": [
       "<table>\n",
       "<caption>A spec_tbl_df: 1 × 2</caption>\n",
       "<thead>\n",
       "\t<tr><th scope=col>a</th><th scope=col>b</th></tr>\n",
       "\t<tr><th scope=col>&lt;dbl&gt;</th><th scope=col>&lt;chr&gt;</th></tr>\n",
       "</thead>\n",
       "<tbody>\n",
       "\t<tr><td>1</td><td>NA</td></tr>\n",
       "</tbody>\n",
       "</table>\n"
      ],
      "text/latex": [
       "A spec_tbl_df: 1 × 2\n",
       "\\begin{tabular}{r|ll}\n",
       " a & b\\\\\n",
       " <dbl> & <chr>\\\\\n",
       "\\hline\n",
       "\t 1 & NA\\\\\n",
       "\\end{tabular}\n"
      ],
      "text/markdown": [
       "\n",
       "A spec_tbl_df: 1 × 2\n",
       "\n",
       "| a &lt;dbl&gt; | b &lt;chr&gt; |\n",
       "|---|---|\n",
       "| 1 | NA |\n",
       "\n"
      ],
      "text/plain": [
       "  a b \n",
       "1 1 NA"
      ]
     },
     "metadata": {},
     "output_type": "display_data"
    },
    {
     "data": {
      "text/html": [
       "<table>\n",
       "<caption>A spec_tbl_df: 2 × 2</caption>\n",
       "<thead>\n",
       "\t<tr><th scope=col>a</th><th scope=col>b</th></tr>\n",
       "\t<tr><th scope=col>&lt;chr&gt;</th><th scope=col>&lt;chr&gt;</th></tr>\n",
       "</thead>\n",
       "<tbody>\n",
       "\t<tr><td>1</td><td>2</td></tr>\n",
       "\t<tr><td>a</td><td>b</td></tr>\n",
       "</tbody>\n",
       "</table>\n"
      ],
      "text/latex": [
       "A spec_tbl_df: 2 × 2\n",
       "\\begin{tabular}{r|ll}\n",
       " a & b\\\\\n",
       " <chr> & <chr>\\\\\n",
       "\\hline\n",
       "\t 1 & 2\\\\\n",
       "\t a & b\\\\\n",
       "\\end{tabular}\n"
      ],
      "text/markdown": [
       "\n",
       "A spec_tbl_df: 2 × 2\n",
       "\n",
       "| a &lt;chr&gt; | b &lt;chr&gt; |\n",
       "|---|---|\n",
       "| 1 | 2 |\n",
       "| a | b |\n",
       "\n"
      ],
      "text/plain": [
       "  a b\n",
       "1 1 2\n",
       "2 a b"
      ]
     },
     "metadata": {},
     "output_type": "display_data"
    },
    {
     "data": {
      "text/html": [
       "<table>\n",
       "<caption>A spec_tbl_df: 1 × 1</caption>\n",
       "<thead>\n",
       "\t<tr><th scope=col>a;b</th></tr>\n",
       "\t<tr><th scope=col>&lt;chr&gt;</th></tr>\n",
       "</thead>\n",
       "<tbody>\n",
       "\t<tr><td>1;3</td></tr>\n",
       "</tbody>\n",
       "</table>\n"
      ],
      "text/latex": [
       "A spec_tbl_df: 1 × 1\n",
       "\\begin{tabular}{r|l}\n",
       " a;b\\\\\n",
       " <chr>\\\\\n",
       "\\hline\n",
       "\t 1;3\\\\\n",
       "\\end{tabular}\n"
      ],
      "text/markdown": [
       "\n",
       "A spec_tbl_df: 1 × 1\n",
       "\n",
       "| a;b &lt;chr&gt; |\n",
       "|---|\n",
       "| 1;3 |\n",
       "\n"
      ],
      "text/plain": [
       "  a;b\n",
       "1 1;3"
      ]
     },
     "metadata": {},
     "output_type": "display_data"
    }
   ],
   "source": [
    "# 看几个错误，看和自己想的结果一样不一样\n",
    "read_csv(\"a,b\\n1,2,3\\n4,5,6\")\n",
    "read_csv(\"a,b,c\\n1,2\\n1,2,3,4\")\n",
    "read_csv(\"a,b\\n\\\"1\")\n",
    "read_csv(\"a,b\\n1,2\\na,b\")\n",
    "read_csv(\"a;b\\n1;3\")"
   ]
  },
  {
   "cell_type": "markdown",
   "metadata": {},
   "source": [
    "## 解析向量\n",
    "\n",
    "这一部分觉得不需要可以跳过，讲的是读取函数怎么读取的"
   ]
  },
  {
   "cell_type": "code",
   "execution_count": 10,
   "metadata": {},
   "outputs": [
    {
     "name": "stdout",
     "output_type": "stream",
     "text": [
      " logi [1:3] TRUE FALSE NA\n",
      " int [1:3] 1 2 3\n",
      " Date[1:2], format: \"2010-02-03\" \"1997-05-12\"\n"
     ]
    }
   ],
   "source": [
    "# parse_*()函数族，接受一个字符向量并返回一个特定向量\n",
    "parse_logical(c(\"TRUE\", \"FALSE\", \"NA\")) %>% str()\n",
    "\n",
    "parse_integer(c(\"1\", \"2\", \"3\")) %>% str()\n",
    "\n",
    "parse_date(c(\"2010-02-03\", \"1997-05-12\")) %>% str()"
   ]
  },
  {
   "cell_type": "code",
   "execution_count": 11,
   "metadata": {},
   "outputs": [
    {
     "data": {
      "text/html": [
       "<ol class=list-inline>\n",
       "\t<li>1</li>\n",
       "\t<li>123</li>\n",
       "\t<li>&lt;NA&gt;</li>\n",
       "\t<li>234</li>\n",
       "</ol>\n"
      ],
      "text/latex": [
       "\\begin{enumerate*}\n",
       "\\item 1\n",
       "\\item 123\n",
       "\\item <NA>\n",
       "\\item 234\n",
       "\\end{enumerate*}\n"
      ],
      "text/markdown": [
       "1. 1\n",
       "2. 123\n",
       "3. &lt;NA&gt;\n",
       "4. 234\n",
       "\n",
       "\n"
      ],
      "text/plain": [
       "[1]   1 123  NA 234"
      ]
     },
     "metadata": {},
     "output_type": "display_data"
    },
    {
     "name": "stderr",
     "output_type": "stream",
     "text": [
      "Warning message:\n",
      "“2 parsing failures.\n",
      "row col               expected actual\n",
      "  3  -- an integer                abc\n",
      "  4  -- no trailing characters    .45\n",
      "”"
     ]
    },
    {
     "data": {
      "text/html": [
       "<ol class=list-inline>\n",
       "\t<li>123</li>\n",
       "\t<li>234</li>\n",
       "\t<li>&lt;NA&gt;</li>\n",
       "\t<li>&lt;NA&gt;</li>\n",
       "</ol>\n"
      ],
      "text/latex": [
       "\\begin{enumerate*}\n",
       "\\item 123\n",
       "\\item 234\n",
       "\\item <NA>\n",
       "\\item <NA>\n",
       "\\end{enumerate*}\n"
      ],
      "text/markdown": [
       "1. 123\n",
       "2. 234\n",
       "3. &lt;NA&gt;\n",
       "4. &lt;NA&gt;\n",
       "\n",
       "\n"
      ],
      "text/plain": [
       "[1] 123 234  NA  NA\n",
       "attr(,\"problems\")\n",
       "\u001b[90m# A tibble: 2 x 4\u001b[39m\n",
       "    row   col expected               actual\n",
       "  \u001b[3m\u001b[90m<int>\u001b[39m\u001b[23m \u001b[3m\u001b[90m<int>\u001b[39m\u001b[23m \u001b[3m\u001b[90m<chr>\u001b[39m\u001b[23m                  \u001b[3m\u001b[90m<chr>\u001b[39m\u001b[23m \n",
       "\u001b[90m1\u001b[39m     3    \u001b[31mNA\u001b[39m an integer             abc   \n",
       "\u001b[90m2\u001b[39m     4    \u001b[31mNA\u001b[39m no trailing characters .45   "
      ]
     },
     "metadata": {},
     "output_type": "display_data"
    }
   ],
   "source": [
    "# 指定缺失值\n",
    "parse_integer(c(\"1\", \"123\", \".\", \"234\"), na = \".\")\n",
    "\n",
    "# warnning\n",
    "parse_integer(c(\"123\", \"234\", \"abc\", \"123.45\"))\n",
    "# 整数读取函数将字符串和浮点数作为NA读入"
   ]
  },
  {
   "cell_type": "code",
   "execution_count": 12,
   "metadata": {},
   "outputs": [
    {
     "name": "stderr",
     "output_type": "stream",
     "text": [
      "Warning message:\n",
      "“2 parsing failures.\n",
      "row col               expected actual\n",
      "  3  -- an integer                abc\n",
      "  4  -- no trailing characters    .45\n",
      "”"
     ]
    },
    {
     "data": {
      "text/html": [
       "<ol class=list-inline>\n",
       "\t<li>123</li>\n",
       "\t<li>234</li>\n",
       "\t<li>&lt;NA&gt;</li>\n",
       "\t<li>&lt;NA&gt;</li>\n",
       "</ol>\n"
      ],
      "text/latex": [
       "\\begin{enumerate*}\n",
       "\\item 123\n",
       "\\item 234\n",
       "\\item <NA>\n",
       "\\item <NA>\n",
       "\\end{enumerate*}\n"
      ],
      "text/markdown": [
       "1. 123\n",
       "2. 234\n",
       "3. &lt;NA&gt;\n",
       "4. &lt;NA&gt;\n",
       "\n",
       "\n"
      ],
      "text/plain": [
       "[1] 123 234  NA  NA\n",
       "attr(,\"problems\")\n",
       "\u001b[90m# A tibble: 2 x 4\u001b[39m\n",
       "    row   col expected               actual\n",
       "  \u001b[3m\u001b[90m<int>\u001b[39m\u001b[23m \u001b[3m\u001b[90m<int>\u001b[39m\u001b[23m \u001b[3m\u001b[90m<chr>\u001b[39m\u001b[23m                  \u001b[3m\u001b[90m<chr>\u001b[39m\u001b[23m \n",
       "\u001b[90m1\u001b[39m     3    \u001b[31mNA\u001b[39m an integer             abc   \n",
       "\u001b[90m2\u001b[39m     4    \u001b[31mNA\u001b[39m no trailing characters .45   "
      ]
     },
     "metadata": {},
     "output_type": "display_data"
    },
    {
     "data": {
      "text/html": [
       "<table>\n",
       "<caption>A tibble: 2 × 4</caption>\n",
       "<thead>\n",
       "\t<tr><th scope=col>row</th><th scope=col>col</th><th scope=col>expected</th><th scope=col>actual</th></tr>\n",
       "\t<tr><th scope=col>&lt;int&gt;</th><th scope=col>&lt;int&gt;</th><th scope=col>&lt;chr&gt;</th><th scope=col>&lt;chr&gt;</th></tr>\n",
       "</thead>\n",
       "<tbody>\n",
       "\t<tr><td>3</td><td>NA</td><td>an integer            </td><td>abc</td></tr>\n",
       "\t<tr><td>4</td><td>NA</td><td>no trailing characters</td><td>.45</td></tr>\n",
       "</tbody>\n",
       "</table>\n"
      ],
      "text/latex": [
       "A tibble: 2 × 4\n",
       "\\begin{tabular}{r|llll}\n",
       " row & col & expected & actual\\\\\n",
       " <int> & <int> & <chr> & <chr>\\\\\n",
       "\\hline\n",
       "\t 3 & NA & an integer             & abc\\\\\n",
       "\t 4 & NA & no trailing characters & .45\\\\\n",
       "\\end{tabular}\n"
      ],
      "text/markdown": [
       "\n",
       "A tibble: 2 × 4\n",
       "\n",
       "| row &lt;int&gt; | col &lt;int&gt; | expected &lt;chr&gt; | actual &lt;chr&gt; |\n",
       "|---|---|---|---|\n",
       "| 3 | NA | an integer             | abc |\n",
       "| 4 | NA | no trailing characters | .45 |\n",
       "\n"
      ],
      "text/plain": [
       "  row col expected               actual\n",
       "1 3   NA  an integer             abc   \n",
       "2 4   NA  no trailing characters .45   "
      ]
     },
     "metadata": {},
     "output_type": "display_data"
    }
   ],
   "source": [
    "x <- parse_integer(c(\"123\", \"234\", \"abc\", \"123.45\"))\n",
    "x\n",
    "# 使用problems()获取失败的信息集合\n",
    "problems(x)"
   ]
  },
  {
   "cell_type": "markdown",
   "metadata": {},
   "source": [
    "重要的8种解析函数\n",
    "\n",
    "- parse_logical()和parse_integer()函数分别解析逻辑值和整数。因为这两个解析函数基本不会出现问题，所以我们不再进行更多介绍。\n",
    "\n",
    "- parse_double()是严格的数值型解析函数，parse_number()则是灵活的数值型解析函数。这两个函数要比你预想的更复杂，因为世界各地书写数值的方式不尽相同。\n",
    "\n",
    "- parse_character()函数似乎太过简单，甚至没必要存在。但一个棘手的问题使得这个函数变得非常重要：字符编码。\n",
    "\n",
    "- parse_factor()函数可以创建因子，R使用这种数据结构来表示分类变量，该变量具有固定数目的已知值。\n",
    "\n",
    "- parse_datetime()、parse_date()和parse_time()函数可以解析不同类型的日期和时间。它们是最复杂的，因为有太多不同的日期书写形式。"
   ]
  },
  {
   "cell_type": "markdown",
   "metadata": {},
   "source": [
    "### 数值\n",
    "\n",
    "书写的差异导致数值解析的复杂"
   ]
  },
  {
   "cell_type": "code",
   "execution_count": 13,
   "metadata": {},
   "outputs": [
    {
     "data": {
      "text/html": [
       "1.23"
      ],
      "text/latex": [
       "1.23"
      ],
      "text/markdown": [
       "1.23"
      ],
      "text/plain": [
       "[1] 1.23"
      ]
     },
     "metadata": {},
     "output_type": "display_data"
    },
    {
     "data": {
      "text/html": [
       "1.23"
      ],
      "text/latex": [
       "1.23"
      ],
      "text/markdown": [
       "1.23"
      ],
      "text/plain": [
       "[1] 1.23"
      ]
     },
     "metadata": {},
     "output_type": "display_data"
    }
   ],
   "source": [
    "# 我们使用较多的点分隔符\n",
    "parse_double(\"1.23\")\n",
    "# 如果是以逗号分隔的整数位和小数位呢，用decimal_mark\n",
    "parse_double(\"1,23\", locale = locale(decimal_mark = \",\"))"
   ]
  },
  {
   "cell_type": "code",
   "execution_count": 14,
   "metadata": {},
   "outputs": [
    {
     "data": {
      "text/html": [
       "100"
      ],
      "text/latex": [
       "100"
      ],
      "text/markdown": [
       "100"
      ],
      "text/plain": [
       "[1] 100"
      ]
     },
     "metadata": {},
     "output_type": "display_data"
    },
    {
     "data": {
      "text/html": [
       "20"
      ],
      "text/latex": [
       "20"
      ],
      "text/markdown": [
       "20"
      ],
      "text/plain": [
       "[1] 20"
      ]
     },
     "metadata": {},
     "output_type": "display_data"
    },
    {
     "data": {
      "text/html": [
       "123.45"
      ],
      "text/latex": [
       "123.45"
      ],
      "text/markdown": [
       "123.45"
      ],
      "text/plain": [
       "[1] 123.45"
      ]
     },
     "metadata": {},
     "output_type": "display_data"
    },
    {
     "data": {
      "text/html": [
       "100"
      ],
      "text/latex": [
       "100"
      ],
      "text/markdown": [
       "100"
      ],
      "text/plain": [
       "[1] 100"
      ]
     },
     "metadata": {},
     "output_type": "display_data"
    }
   ],
   "source": [
    "# 处理货币和百分比\n",
    "parse_number(\"$100\")\n",
    "\n",
    "parse_number(\"20%\")\n",
    "\n",
    "parse_number(\"It cost $123.45\")\n",
    "\n",
    "parse_number(\"人民币￥100\")"
   ]
  },
  {
   "cell_type": "code",
   "execution_count": 15,
   "metadata": {},
   "outputs": [
    {
     "data": {
      "text/html": [
       "123"
      ],
      "text/latex": [
       "123"
      ],
      "text/markdown": [
       "123"
      ],
      "text/plain": [
       "[1] 123"
      ]
     },
     "metadata": {},
     "output_type": "display_data"
    },
    {
     "data": {
      "text/html": [
       "123456789"
      ],
      "text/latex": [
       "123456789"
      ],
      "text/markdown": [
       "123456789"
      ],
      "text/plain": [
       "[1] 123456789"
      ]
     },
     "metadata": {},
     "output_type": "display_data"
    },
    {
     "data": {
      "text/html": [
       "123456789"
      ],
      "text/latex": [
       "123456789"
      ],
      "text/markdown": [
       "123456789"
      ],
      "text/plain": [
       "[1] 123456789"
      ]
     },
     "metadata": {},
     "output_type": "display_data"
    },
    {
     "data": {
      "text/html": [
       "1.23456789e+17"
      ],
      "text/latex": [
       "1.23456789e+17"
      ],
      "text/markdown": [
       "1.23456789e+17"
      ],
      "text/plain": [
       "[1] 1.234568e+17"
      ]
     },
     "metadata": {},
     "output_type": "display_data"
    }
   ],
   "source": [
    "# 位数多的话就以科学计数法表示了\n",
    "parse_number(\"123 456 789\")# 这样以空格分隔就会出问题\n",
    "parse_number(\"123,456,789\")# 以逗号分隔就没问题，以为默认是美式书写，其他书写需要设置locale\n",
    "\n",
    "parse_number(\"123 456 789\", locale = locale(grouping_mark = \" \"))\n",
    "# 其他类似，用什么分隔就设置mark等于什么\n",
    "parse_number(\"123.456.789.000.000.000\", locale = locale(grouping_mark = \".\"))\n"
   ]
  },
  {
   "cell_type": "markdown",
   "metadata": {},
   "source": [
    "### 字符串\n",
    "\n",
    "介绍字符串必然要涉及到计算机编码问题，现在用的多的是UTF-8编码，支持中英文及多种符号"
   ]
  },
  {
   "cell_type": "code",
   "execution_count": 16,
   "metadata": {},
   "outputs": [
    {
     "data": {
      "text/plain": [
       "[1] 61"
      ]
     },
     "metadata": {},
     "output_type": "display_data"
    },
    {
     "data": {
      "text/plain": [
       "[1] 31"
      ]
     },
     "metadata": {},
     "output_type": "display_data"
    },
    {
     "data": {
      "text/plain": [
       "[1] 41"
      ]
     },
     "metadata": {},
     "output_type": "display_data"
    },
    {
     "data": {
      "text/plain": [
       "[1] 40"
      ]
     },
     "metadata": {},
     "output_type": "display_data"
    },
    {
     "data": {
      "text/plain": [
       "[1] e6 9d 8e"
      ]
     },
     "metadata": {},
     "output_type": "display_data"
    }
   ],
   "source": [
    "# 使用charToRaw()函数获得字符串的底层编码\n",
    "charToRaw(\"a\")\n",
    "charToRaw(\"1\")\n",
    "charToRaw(\"A\")\n",
    "charToRaw(\"@\")\n",
    "charToRaw(\"李\")"
   ]
  },
  {
   "cell_type": "markdown",
   "metadata": {},
   "source": [
    "readr全面支持UTF-8，我们使用时尽量都使用该编码，其他就不说了"
   ]
  },
  {
   "cell_type": "markdown",
   "metadata": {},
   "source": [
    "### 因子\n",
    "\n",
    "因子是R中用的非常普遍的分类变量，无论是在作图还是分析都离不开"
   ]
  },
  {
   "cell_type": "code",
   "execution_count": 17,
   "metadata": {},
   "outputs": [
    {
     "name": "stderr",
     "output_type": "stream",
     "text": [
      "Warning message:\n",
      "“1 parsing failure.\n",
      "row col           expected actual\n",
      "  4  -- value in level set  bluee\n",
      "”"
     ]
    },
    {
     "data": {
      "text/html": [
       "<ol class=list-inline>\n",
       "\t<li>white</li>\n",
       "\t<li>red</li>\n",
       "\t<li>green</li>\n",
       "\t<li>&lt;NA&gt;</li>\n",
       "</ol>\n",
       "\n",
       "<details>\n",
       "\t<summary style=display:list-item;cursor:pointer>\n",
       "\t\t<strong>Levels</strong>:\n",
       "\t</summary>\n",
       "\t<ol class=list-inline>\n",
       "\t\t<li>'white'</li>\n",
       "\t\t<li>'black'</li>\n",
       "\t\t<li>'red'</li>\n",
       "\t\t<li>'green'</li>\n",
       "\t\t<li>'blue'</li>\n",
       "\t</ol>\n",
       "</details>"
      ],
      "text/latex": [
       "\\begin{enumerate*}\n",
       "\\item white\n",
       "\\item red\n",
       "\\item green\n",
       "\\item <NA>\n",
       "\\end{enumerate*}\n",
       "\n",
       "\\emph{Levels}: \\begin{enumerate*}\n",
       "\\item 'white'\n",
       "\\item 'black'\n",
       "\\item 'red'\n",
       "\\item 'green'\n",
       "\\item 'blue'\n",
       "\\end{enumerate*}\n"
      ],
      "text/markdown": [
       "1. white\n",
       "2. red\n",
       "3. green\n",
       "4. &lt;NA&gt;\n",
       "\n",
       "\n",
       "\n",
       "**Levels**: 1. 'white'\n",
       "2. 'black'\n",
       "3. 'red'\n",
       "4. 'green'\n",
       "5. 'blue'\n",
       "\n",
       "\n"
      ],
      "text/plain": [
       "[1] white red   green <NA> \n",
       "attr(,\"problems\")\n",
       "\u001b[90m# A tibble: 1 x 4\u001b[39m\n",
       "    row   col expected           actual\n",
       "  \u001b[3m\u001b[90m<int>\u001b[39m\u001b[23m \u001b[3m\u001b[90m<int>\u001b[39m\u001b[23m \u001b[3m\u001b[90m<chr>\u001b[39m\u001b[23m              \u001b[3m\u001b[90m<chr>\u001b[39m\u001b[23m \n",
       "\u001b[90m1\u001b[39m     4    \u001b[31mNA\u001b[39m value in level set bluee \n",
       "Levels: white black red green blue"
      ]
     },
     "metadata": {},
     "output_type": "display_data"
    },
    {
     "data": {
      "text/html": [
       "<ol class=list-inline>\n",
       "\t<li>white</li>\n",
       "\t<li>red</li>\n",
       "\t<li>green</li>\n",
       "\t<li>blue</li>\n",
       "\t<li>red</li>\n",
       "</ol>\n",
       "\n",
       "<details>\n",
       "\t<summary style=display:list-item;cursor:pointer>\n",
       "\t\t<strong>Levels</strong>:\n",
       "\t</summary>\n",
       "\t<ol class=list-inline>\n",
       "\t\t<li>'white'</li>\n",
       "\t\t<li>'black'</li>\n",
       "\t\t<li>'red'</li>\n",
       "\t\t<li>'green'</li>\n",
       "\t\t<li>'blue'</li>\n",
       "\t</ol>\n",
       "</details>"
      ],
      "text/latex": [
       "\\begin{enumerate*}\n",
       "\\item white\n",
       "\\item red\n",
       "\\item green\n",
       "\\item blue\n",
       "\\item red\n",
       "\\end{enumerate*}\n",
       "\n",
       "\\emph{Levels}: \\begin{enumerate*}\n",
       "\\item 'white'\n",
       "\\item 'black'\n",
       "\\item 'red'\n",
       "\\item 'green'\n",
       "\\item 'blue'\n",
       "\\end{enumerate*}\n"
      ],
      "text/markdown": [
       "1. white\n",
       "2. red\n",
       "3. green\n",
       "4. blue\n",
       "5. red\n",
       "\n",
       "\n",
       "\n",
       "**Levels**: 1. 'white'\n",
       "2. 'black'\n",
       "3. 'red'\n",
       "4. 'green'\n",
       "5. 'blue'\n",
       "\n",
       "\n"
      ],
      "text/plain": [
       "[1] white red   green blue  red  \n",
       "Levels: white black red green blue"
      ]
     },
     "metadata": {},
     "output_type": "display_data"
    }
   ],
   "source": [
    "# 看例子吧\n",
    "color <- c(\"white\", \"black\", \"red\", \"green\", \"blue\")\n",
    "parse_factor(c(\"white\", \"red\", \"green\", \"bluee\"), levels = color)\n",
    "parse_factor(c(\"white\", \"red\", \"green\", \"blue\", \"red\"), levels = color)\n",
    "# 不存在的因子会wainning"
   ]
  },
  {
   "cell_type": "markdown",
   "metadata": {},
   "source": [
    "### 日期和时间"
   ]
  },
  {
   "cell_type": "code",
   "execution_count": 18,
   "metadata": {},
   "outputs": [
    {
     "name": "stderr",
     "output_type": "stream",
     "text": [
      "Warning message:\n",
      "“1 parsing failure.\n",
      "row col   expected              actual\n",
      "  1  -- date like  2019-11-11-11-11-11\n",
      "”"
     ]
    },
    {
     "data": {
      "text/plain": [
       "[1] NA"
      ]
     },
     "metadata": {},
     "output_type": "display_data"
    },
    {
     "data": {
      "text/plain": [
       "[1] \"2011-11-11 11:12:13 UTC\""
      ]
     },
     "metadata": {},
     "output_type": "display_data"
    },
    {
     "data": {
      "text/plain": [
       "[1] \"2019-10-26 UTC\""
      ]
     },
     "metadata": {},
     "output_type": "display_data"
    }
   ],
   "source": [
    "# ISO 8601标准日期时间：年、月、日、时、分、秒\n",
    "parse_datetime(\"2019-11-11-11-11-11\")# 出错\n",
    "parse_datetime(\"2011-11-11T111213\")# UTC感兴趣的去查一查\n",
    "parse_datetime(\"2019-10-26\")"
   ]
  },
  {
   "cell_type": "code",
   "execution_count": 19,
   "metadata": {},
   "outputs": [
    {
     "data": {
      "text/html": [
       "<time datetime=\"1970-01-01\">1970-01-01</time>"
      ],
      "text/latex": [
       "1970-01-01"
      ],
      "text/markdown": [
       "1970-01-01"
      ],
      "text/plain": [
       "[1] \"1970-01-01\""
      ]
     },
     "metadata": {},
     "output_type": "display_data"
    },
    {
     "data": {
      "text/html": [
       "<time datetime=\"1970-01-01\">1970-01-01</time>"
      ],
      "text/latex": [
       "1970-01-01"
      ],
      "text/markdown": [
       "1970-01-01"
      ],
      "text/plain": [
       "[1] \"1970-01-01\""
      ]
     },
     "metadata": {},
     "output_type": "display_data"
    },
    {
     "name": "stderr",
     "output_type": "stream",
     "text": [
      "Warning message:\n",
      "“1 parsing failure.\n",
      "row col   expected   actual\n",
      "  1  -- date like  1970-1-1\n",
      "”"
     ]
    },
    {
     "data": {
      "text/html": [
       "<time datetime=\"&lt;NA&gt;\">&lt;NA&gt;</time>"
      ],
      "text/latex": [
       "<NA>"
      ],
      "text/markdown": [
       "&lt;NA&gt;"
      ],
      "text/plain": [
       "[1] NA"
      ]
     },
     "metadata": {},
     "output_type": "display_data"
    },
    {
     "data": {
      "text/plain": [
       "12:12:00"
      ]
     },
     "metadata": {},
     "output_type": "display_data"
    },
    {
     "data": {
      "text/plain": [
       "12:12:00"
      ]
     },
     "metadata": {},
     "output_type": "display_data"
    },
    {
     "data": {
      "text/plain": [
       "20:20:20"
      ]
     },
     "metadata": {},
     "output_type": "display_data"
    },
    {
     "name": "stderr",
     "output_type": "stream",
     "text": [
      "Warning message:\n",
      "“1 parsing failure.\n",
      "row col   expected actual\n",
      "  1  -- time like   18-30\n",
      "”"
     ]
    },
    {
     "data": {
      "text/plain": [
       "NA"
      ]
     },
     "metadata": {},
     "output_type": "display_data"
    }
   ],
   "source": [
    "# 同样的，parse_date()是日期，parse_time()是时间\n",
    "parse_date(\"1970-01-01\")\n",
    "parse_date(\"1970/01/01\")\n",
    "parse_date(\"1970-1-1\")# 站位的0不能省\n",
    "\n",
    "parse_time(\"12:12\")\n",
    "parse_time(\"12:12 pm\")\n",
    "parse_time(\"20:20:20\")\n",
    "parse_time(\"18-30\")# 冒号而不是连字符"
   ]
  },
  {
   "cell_type": "code",
   "execution_count": 20,
   "metadata": {},
   "outputs": [
    {
     "data": {
      "text/html": [
       "<time datetime=\"2019-01-02\">2019-01-02</time>"
      ],
      "text/latex": [
       "2019-01-02"
      ],
      "text/markdown": [
       "2019-01-02"
      ],
      "text/plain": [
       "[1] \"2019-01-02\""
      ]
     },
     "metadata": {},
     "output_type": "display_data"
    },
    {
     "data": {
      "text/html": [
       "<time datetime=\"2019-02-01\">2019-02-01</time>"
      ],
      "text/latex": [
       "2019-02-01"
      ],
      "text/markdown": [
       "2019-02-01"
      ],
      "text/plain": [
       "[1] \"2019-02-01\""
      ]
     },
     "metadata": {},
     "output_type": "display_data"
    },
    {
     "name": "stderr",
     "output_type": "stream",
     "text": [
      "Warning message:\n",
      "“1 parsing failure.\n",
      "row col           expected   actual\n",
      "  1  -- date like %Y/%m/%d 01/02/19\n",
      "”"
     ]
    },
    {
     "data": {
      "text/html": [
       "<time datetime=\"&lt;NA&gt;\">&lt;NA&gt;</time>"
      ],
      "text/latex": [
       "<NA>"
      ],
      "text/markdown": [
       "&lt;NA&gt;"
      ],
      "text/plain": [
       "[1] NA"
      ]
     },
     "metadata": {},
     "output_type": "display_data"
    },
    {
     "data": {
      "text/html": [
       "<time datetime=\"2001-02-19\">2001-02-19</time>"
      ],
      "text/latex": [
       "2001-02-19"
      ],
      "text/markdown": [
       "2001-02-19"
      ],
      "text/plain": [
       "[1] \"2001-02-19\""
      ]
     },
     "metadata": {},
     "output_type": "display_data"
    },
    {
     "data": {
      "text/plain": [
       "20:21:22"
      ]
     },
     "metadata": {},
     "output_type": "display_data"
    }
   ],
   "source": [
    "# R基础包中没有能够很好表示时间数据的内置类，可以使用hms包\n",
    "# 可以提供自己的日期时间格式\n",
    "# 百分号加代表日期和时间的字母，应该是通用的吧\n",
    "\n",
    "parse_date(\"01/02/19\", \"%m/%d/%y\")\n",
    "parse_date(\"01/02/19\", \"%d/%m/%y\")\n",
    "parse_date(\"01/02/19\", \"%Y/%m/%d\")# 日期中大小写不同\n",
    "parse_date(\"2001/02/19\", \"%Y/%m/%d\")\n",
    "\n",
    "parse_time(\"20/21/22\", \"%H/%M/%S\")# 时间是大写"
   ]
  },
  {
   "cell_type": "code",
   "execution_count": 21,
   "metadata": {},
   "outputs": [
    {
     "data": {
      "text/html": [
       "123.456"
      ],
      "text/latex": [
       "123.456"
      ],
      "text/markdown": [
       "123.456"
      ],
      "text/plain": [
       "[1] 123.456"
      ]
     },
     "metadata": {},
     "output_type": "display_data"
    },
    {
     "data": {
      "text/html": [
       "123456789"
      ],
      "text/latex": [
       "123456789"
      ],
      "text/markdown": [
       "123456789"
      ],
      "text/plain": [
       "[1] 123456789"
      ]
     },
     "metadata": {},
     "output_type": "display_data"
    },
    {
     "data": {
      "text/html": [
       "123456789.123"
      ],
      "text/latex": [
       "123456789.123"
      ],
      "text/markdown": [
       "123456789.123"
      ],
      "text/plain": [
       "[1] 123456789"
      ]
     },
     "metadata": {},
     "output_type": "display_data"
    },
    {
     "ename": "ERROR",
     "evalue": "Error: `decimal_mark` and `grouping_mark` must be different\n",
     "output_type": "error",
     "traceback": [
      "Error: `decimal_mark` and `grouping_mark` must be different\nTraceback:\n",
      "1. parse_number(\"123,456,789.123\", locale = locale(grouping_mark = \",\", \n .     decimal_mark = \",\"))",
      "2. parse_vector(x, col_number(), na = na, locale = locale, trim_ws = trim_ws)",
      "3. warn_problems(parse_vector_(x, collector, na = na, locale_ = locale, \n .     trim_ws = trim_ws))",
      "4. n_problems(x)",
      "5. probs(x)",
      "6. suppressWarnings(x)",
      "7. withCallingHandlers(expr, warning = function(w) invokeRestart(\"muffleWarning\"))",
      "8. parse_vector_(x, collector, na = na, locale_ = locale, trim_ws = trim_ws)",
      "9. locale(grouping_mark = \",\", decimal_mark = \",\")",
      "10. stop(\"`decimal_mark` and `grouping_mark` must be different\", \n  .     call. = FALSE)"
     ]
    }
   ],
   "source": [
    "parse_number(\"123.456.789\", locale = locale(decimal_mark = \".\"))\n",
    "\n",
    "parse_number(\"123.456.789\", locale = locale(grouping_mark = \".\"))\n",
    "\n",
    "parse_number(\"123,456,789.123\", locale = locale(grouping_mark = \",\", \n",
    "                                            decimal_mark = \".\"))\n",
    "# decimal_mark和group_mark一样会报错\n",
    "# parse_number(\"123,456,789.123\", locale = locale(grouping_mark = \",\", \n",
    "#                                            decimal_mark = \",\"))"
   ]
  },
  {
   "cell_type": "code",
   "execution_count": 22,
   "metadata": {},
   "outputs": [],
   "source": [
    "# 解析以下日期和时间\n",
    "d1 <- \"January 1, 2010\"\n",
    "d2 <-　\"2015-Mar-07\" \n",
    "d3 <-　\"06-Jun-2017\" \n",
    "d4 <-　c(\"August 19 (2015)\", \"July 1 (2015)\")\n",
    "d5 <-　\"12/30/14\"# 2014年12月30日\n",
    "t1 <-　\"1705\" \n",
    "t2 <-　\"11:15:10.12 PM\""
   ]
  },
  {
   "cell_type": "code",
   "execution_count": 23,
   "metadata": {},
   "outputs": [
    {
     "data": {
      "text/html": [
       "<time datetime=\"2010-01-01\">2010-01-01</time>"
      ],
      "text/latex": [
       "2010-01-01"
      ],
      "text/markdown": [
       "2010-01-01"
      ],
      "text/plain": [
       "[1] \"2010-01-01\""
      ]
     },
     "metadata": {},
     "output_type": "display_data"
    },
    {
     "data": {
      "text/html": [
       "<time datetime=\"2015-03-07\">2015-03-07</time>"
      ],
      "text/latex": [
       "2015-03-07"
      ],
      "text/markdown": [
       "2015-03-07"
      ],
      "text/plain": [
       "[1] \"2015-03-07\""
      ]
     },
     "metadata": {},
     "output_type": "display_data"
    },
    {
     "data": {
      "text/html": [
       "<ol class=list-inline>\n",
       "\t<li><time datetime=\"2015-08-19\">2015-08-19</time></li>\n",
       "\t<li><time datetime=\"2015-07-01\">2015-07-01</time></li>\n",
       "</ol>\n"
      ],
      "text/latex": [
       "\\begin{enumerate*}\n",
       "\\item 2015-08-19\n",
       "\\item 2015-07-01\n",
       "\\end{enumerate*}\n"
      ],
      "text/markdown": [
       "1. 2015-08-19\n",
       "2. 2015-07-01\n",
       "\n",
       "\n"
      ],
      "text/plain": [
       "[1] \"2015-08-19\" \"2015-07-01\""
      ]
     },
     "metadata": {},
     "output_type": "display_data"
    },
    {
     "data": {
      "text/plain": [
       "17:05:00"
      ]
     },
     "metadata": {},
     "output_type": "display_data"
    },
    {
     "data": {
      "text/plain": [
       "23:15:10.12"
      ]
     },
     "metadata": {},
     "output_type": "display_data"
    }
   ],
   "source": [
    "parse_date(d1, \"%B %d, %Y\")\n",
    "parse_date(d2, \"%Y-%b-%d\")\n",
    "parse_date(d4, \"%B %d (%Y)\")\n",
    "# 另外两个省了\n",
    "parse_time(t1, \"%H%M\")\n",
    "parse_time(t2, \"%I:%M:%OS %p\")"
   ]
  },
  {
   "cell_type": "markdown",
   "metadata": {},
   "source": [
    "## 解析文件\n",
    "\n",
    "readr使用启发式过程猜测每列的数据类型，先读取1000行，这些都可以改的，不过还是建议数据提前就整理好，如果数据不大的话在读取的时候就直接指定哪一部分需要更改默认设置，比如前1000行是整数，后面有浮点数，直接指定浮点数\n",
    "\n",
    "这一部分需要就看书吧"
   ]
  },
  {
   "cell_type": "markdown",
   "metadata": {},
   "source": [
    "## 写入文件\n",
    "\n",
    "简要介绍write_csv()和write_rds()两个函数"
   ]
  },
  {
   "cell_type": "code",
   "execution_count": 24,
   "metadata": {},
   "outputs": [
    {
     "name": "stderr",
     "output_type": "stream",
     "text": [
      "Parsed with column specification:\n",
      "cols(\n",
      "  x = \u001b[32mcol_double()\u001b[39m,\n",
      "  y = \u001b[34mcol_date(format = \"\")\u001b[39m\n",
      ")\n"
     ]
    }
   ],
   "source": [
    "# 以纯文本保存文件用write_csv()和write_tsv()\n",
    "challenge <-read_csv(readr_example(\"challenge.csv\"), guess_max = 1001) \n",
    "write_csv(challenge, \"data/challenge.csv\")\n",
    "write_rds(challenge, \"data/challenge.rds\")\n",
    "# 各有优缺点，csv不保存类型信息，rds为R的二进制格式，在其他地方不好使"
   ]
  },
  {
   "cell_type": "markdown",
   "metadata": {},
   "source": [
    "## 其他类型数据\n",
    "\n",
    "haven可以读取SPSS、Stata、SAS文件\n",
    "\n",
    "readxl可以读取Excel文件\n",
    "\n",
    "其他可以参考《R语言实战》和其他资料\n",
    "\n",
    "本章结束"
   ]
  }
 ],
 "metadata": {
  "kernelspec": {
   "display_name": "R",
   "language": "R",
   "name": "ir"
  },
  "language_info": {
   "codemirror_mode": "r",
   "file_extension": ".r",
   "mimetype": "text/x-r-source",
   "name": "R",
   "pygments_lexer": "r",
   "version": "3.5.2"
  }
 },
 "nbformat": 4,
 "nbformat_minor": 4
}
