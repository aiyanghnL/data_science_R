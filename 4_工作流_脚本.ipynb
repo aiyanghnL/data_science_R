{
 "cells": [
  {
   "cell_type": "markdown",
   "metadata": {},
   "source": [
    "# 第四章 工作流：脚本\n",
    "\n",
    "这一章书中说的很简单，重复了上一章的两行代码，以及建议我们使用R脚本和Rstudio。没了。\n",
    "\n",
    "不过我打算添加一点点作为补充"
   ]
  },
  {
   "cell_type": "code",
   "execution_count": 1,
   "metadata": {},
   "outputs": [
    {
     "name": "stderr",
     "output_type": "stream",
     "text": [
      "\n",
      "Attaching package: ‘dplyr’\n",
      "\n",
      "The following objects are masked from ‘package:stats’:\n",
      "\n",
      "    filter, lag\n",
      "\n",
      "The following objects are masked from ‘package:base’:\n",
      "\n",
      "    intersect, setdiff, setequal, union\n",
      "\n"
     ]
    }
   ],
   "source": [
    "# 加载包\n",
    "library(dplyr) \n",
    "library(nycflights13)"
   ]
  },
  {
   "cell_type": "code",
   "execution_count": 2,
   "metadata": {},
   "outputs": [
    {
     "data": {
      "text/html": [
       "<table>\n",
       "<thead><tr><th scope=col>year</th><th scope=col>month</th><th scope=col>day</th><th scope=col>mean</th></tr></thead>\n",
       "<tbody>\n",
       "\t<tr><td>2013     </td><td>1        </td><td>1        </td><td>11.435620</td></tr>\n",
       "\t<tr><td>2013     </td><td>1        </td><td>2        </td><td>13.677802</td></tr>\n",
       "\t<tr><td>2013     </td><td>1        </td><td>3        </td><td>10.907778</td></tr>\n",
       "\t<tr><td>2013     </td><td>1        </td><td>4        </td><td> 8.965859</td></tr>\n",
       "\t<tr><td>2013     </td><td>1        </td><td>5        </td><td> 5.732218</td></tr>\n",
       "\t<tr><td>2013     </td><td>1        </td><td>6        </td><td> 7.145959</td></tr>\n",
       "</tbody>\n",
       "</table>\n"
      ],
      "text/latex": [
       "\\begin{tabular}{r|llll}\n",
       " year & month & day & mean\\\\\n",
       "\\hline\n",
       "\t 2013      & 1         & 1         & 11.435620\\\\\n",
       "\t 2013      & 1         & 2         & 13.677802\\\\\n",
       "\t 2013      & 1         & 3         & 10.907778\\\\\n",
       "\t 2013      & 1         & 4         &  8.965859\\\\\n",
       "\t 2013      & 1         & 5         &  5.732218\\\\\n",
       "\t 2013      & 1         & 6         &  7.145959\\\\\n",
       "\\end{tabular}\n"
      ],
      "text/markdown": [
       "\n",
       "year | month | day | mean | \n",
       "|---|---|---|---|---|---|\n",
       "| 2013      | 1         | 1         | 11.435620 | \n",
       "| 2013      | 1         | 2         | 13.677802 | \n",
       "| 2013      | 1         | 3         | 10.907778 | \n",
       "| 2013      | 1         | 4         |  8.965859 | \n",
       "| 2013      | 1         | 5         |  5.732218 | \n",
       "| 2013      | 1         | 6         |  7.145959 | \n",
       "\n",
       "\n"
      ],
      "text/plain": [
       "  year month day mean     \n",
       "1 2013 1     1   11.435620\n",
       "2 2013 1     2   13.677802\n",
       "3 2013 1     3   10.907778\n",
       "4 2013 1     4    8.965859\n",
       "5 2013 1     5    5.732218\n",
       "6 2013 1     6    7.145959"
      ]
     },
     "metadata": {},
     "output_type": "display_data"
    }
   ],
   "source": [
    "# 运行代码\n",
    "not_flights <- flights %>% filter(!is.na(dep_delay), !is.na(arr_delay))\n",
    "\n",
    "not_flights %>% group_by(year, month, day) %>% summarise(mean = mean(dep_delay)) %>% head()"
   ]
  },
  {
   "cell_type": "markdown",
   "metadata": {},
   "source": [
    "运行R不仅仅是Rstudio,Rstudio只是做的比较专业、好看点、方便点，其实只要学的好，不在乎使用什么编辑器。\n",
    "\n",
    "如果要一行行或一块块运行R代码的话，Rstudio确实很好用，R原生gui也行，jupyter也行；\n",
    "\n",
    "如果要写好R脚本自动运行的话，Rstudio也非常棒，使用Rscript.exe(windows)，Rscript(linux) 加R脚本"
   ]
  },
  {
   "cell_type": "markdown",
   "metadata": {},
   "source": [
    "## 对比\n",
    "\n",
    "Rgui中文，很简洁\n",
    "![Rgui](image/Rgui.png)\n",
    "\n",
    "Rstudio英文，很丰富\n",
    "![Rstudio](image/Rstudio.png)\n",
    "\n",
    "Jupyterlab非常之简洁，不过可以分屏，适合同时使用R和Python进行数据分析的\n",
    "![jupyterlab](image/jupyterlab.png)\n",
    "\n",
    "Rgui和Rstudio适合本地使用，jupyterlab适合本地和远程使用，Rstudioserver也非常适合远程使用，不过没有windows版。\n",
    "\n",
    "根据个人喜好选择即可，不论选择哪一个，多记几个快捷键肯定是事倍功半。\n",
    "\n",
    "这些工具还有很多差别的地方，就不一一介绍了，自己慢慢摸索。"
   ]
  },
  {
   "cell_type": "code",
   "execution_count": null,
   "metadata": {},
   "outputs": [],
   "source": []
  }
 ],
 "metadata": {
  "kernelspec": {
   "display_name": "R",
   "language": "R",
   "name": "ir"
  },
  "language_info": {
   "codemirror_mode": "r",
   "file_extension": ".r",
   "mimetype": "text/x-r-source",
   "name": "R",
   "pygments_lexer": "r",
   "version": "3.4.4"
  }
 },
 "nbformat": 4,
 "nbformat_minor": 4
}
