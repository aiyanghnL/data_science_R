{
 "cells": [
  {
   "cell_type": "markdown",
   "metadata": {},
   "source": [
    "# 使用dplyr处理关系数据\n",
    "\n",
    "此部分包括表之间的合并连接、筛选连接以及集合操作"
   ]
  },
  {
   "cell_type": "code",
   "execution_count": 1,
   "metadata": {},
   "outputs": [
    {
     "name": "stderr",
     "output_type": "stream",
     "text": [
      "─ \u001b[1mAttaching packages\u001b[22m ──────────────────── tidyverse 1.2.1 ─\n",
      "\u001b[32m✔\u001b[39m \u001b[34mggplot2\u001b[39m 3.2.0     \u001b[32m✔\u001b[39m \u001b[34mpurrr  \u001b[39m 0.3.2\n",
      "\u001b[32m✔\u001b[39m \u001b[34mtibble \u001b[39m 2.1.3     \u001b[32m✔\u001b[39m \u001b[34mdplyr  \u001b[39m 0.8.3\n",
      "\u001b[32m✔\u001b[39m \u001b[34mtidyr  \u001b[39m 0.8.3     \u001b[32m✔\u001b[39m \u001b[34mstringr\u001b[39m 1.4.0\n",
      "\u001b[32m✔\u001b[39m \u001b[34mreadr  \u001b[39m 1.3.1     \u001b[32m✔\u001b[39m \u001b[34mforcats\u001b[39m 0.4.0\n",
      "─ \u001b[1mConflicts\u001b[22m ───────────────────── tidyverse_conflicts() ─\n",
      "\u001b[31m✖\u001b[39m \u001b[34mdplyr\u001b[39m::\u001b[32mfilter()\u001b[39m masks \u001b[34mstats\u001b[39m::filter()\n",
      "\u001b[31m✖\u001b[39m \u001b[34mdplyr\u001b[39m::\u001b[32mlag()\u001b[39m    masks \u001b[34mstats\u001b[39m::lag()\n"
     ]
    }
   ],
   "source": [
    "library(tidyverse)\n",
    "library(nycflights13)"
   ]
  },
  {
   "cell_type": "markdown",
   "metadata": {},
   "source": [
    "nycflights13包含与flights相关的4个表\n",
    "\n",
    "flights前面已经用过；airlines航空公司的缩写码及全名；airports给出了每个机场的信息；planes给出了每架飞机的信息；weather给出的是天气状况"
   ]
  },
  {
   "cell_type": "code",
   "execution_count": 2,
   "metadata": {},
   "outputs": [
    {
     "data": {
      "text/html": [
       "<table>\n",
       "<caption>A tibble: 6 × 19</caption>\n",
       "<thead>\n",
       "\t<tr><th scope=col>year</th><th scope=col>month</th><th scope=col>day</th><th scope=col>dep_time</th><th scope=col>sched_dep_time</th><th scope=col>dep_delay</th><th scope=col>arr_time</th><th scope=col>sched_arr_time</th><th scope=col>arr_delay</th><th scope=col>carrier</th><th scope=col>flight</th><th scope=col>tailnum</th><th scope=col>origin</th><th scope=col>dest</th><th scope=col>air_time</th><th scope=col>distance</th><th scope=col>hour</th><th scope=col>minute</th><th scope=col>time_hour</th></tr>\n",
       "\t<tr><th scope=col>&lt;int&gt;</th><th scope=col>&lt;int&gt;</th><th scope=col>&lt;int&gt;</th><th scope=col>&lt;int&gt;</th><th scope=col>&lt;int&gt;</th><th scope=col>&lt;dbl&gt;</th><th scope=col>&lt;int&gt;</th><th scope=col>&lt;int&gt;</th><th scope=col>&lt;dbl&gt;</th><th scope=col>&lt;chr&gt;</th><th scope=col>&lt;int&gt;</th><th scope=col>&lt;chr&gt;</th><th scope=col>&lt;chr&gt;</th><th scope=col>&lt;chr&gt;</th><th scope=col>&lt;dbl&gt;</th><th scope=col>&lt;dbl&gt;</th><th scope=col>&lt;dbl&gt;</th><th scope=col>&lt;dbl&gt;</th><th scope=col>&lt;dttm&gt;</th></tr>\n",
       "</thead>\n",
       "<tbody>\n",
       "\t<tr><td>2013</td><td>1</td><td>1</td><td>517</td><td>515</td><td> 2</td><td> 830</td><td> 819</td><td> 11</td><td>UA</td><td>1545</td><td>N14228</td><td>EWR</td><td>IAH</td><td>227</td><td>1400</td><td>5</td><td>15</td><td>2013-01-01 05:00:00</td></tr>\n",
       "\t<tr><td>2013</td><td>1</td><td>1</td><td>533</td><td>529</td><td> 4</td><td> 850</td><td> 830</td><td> 20</td><td>UA</td><td>1714</td><td>N24211</td><td>LGA</td><td>IAH</td><td>227</td><td>1416</td><td>5</td><td>29</td><td>2013-01-01 05:00:00</td></tr>\n",
       "\t<tr><td>2013</td><td>1</td><td>1</td><td>542</td><td>540</td><td> 2</td><td> 923</td><td> 850</td><td> 33</td><td>AA</td><td>1141</td><td>N619AA</td><td>JFK</td><td>MIA</td><td>160</td><td>1089</td><td>5</td><td>40</td><td>2013-01-01 05:00:00</td></tr>\n",
       "\t<tr><td>2013</td><td>1</td><td>1</td><td>544</td><td>545</td><td>-1</td><td>1004</td><td>1022</td><td>-18</td><td>B6</td><td> 725</td><td>N804JB</td><td>JFK</td><td>BQN</td><td>183</td><td>1576</td><td>5</td><td>45</td><td>2013-01-01 05:00:00</td></tr>\n",
       "\t<tr><td>2013</td><td>1</td><td>1</td><td>554</td><td>600</td><td>-6</td><td> 812</td><td> 837</td><td>-25</td><td>DL</td><td> 461</td><td>N668DN</td><td>LGA</td><td>ATL</td><td>116</td><td> 762</td><td>6</td><td> 0</td><td>2013-01-01 06:00:00</td></tr>\n",
       "\t<tr><td>2013</td><td>1</td><td>1</td><td>554</td><td>558</td><td>-4</td><td> 740</td><td> 728</td><td> 12</td><td>UA</td><td>1696</td><td>N39463</td><td>EWR</td><td>ORD</td><td>150</td><td> 719</td><td>5</td><td>58</td><td>2013-01-01 05:00:00</td></tr>\n",
       "</tbody>\n",
       "</table>\n"
      ],
      "text/latex": [
       "A tibble: 6 × 19\n",
       "\\begin{tabular}{r|lllllllllllllllllll}\n",
       " year & month & day & dep\\_time & sched\\_dep\\_time & dep\\_delay & arr\\_time & sched\\_arr\\_time & arr\\_delay & carrier & flight & tailnum & origin & dest & air\\_time & distance & hour & minute & time\\_hour\\\\\n",
       " <int> & <int> & <int> & <int> & <int> & <dbl> & <int> & <int> & <dbl> & <chr> & <int> & <chr> & <chr> & <chr> & <dbl> & <dbl> & <dbl> & <dbl> & <dttm>\\\\\n",
       "\\hline\n",
       "\t 2013 & 1 & 1 & 517 & 515 &  2 &  830 &  819 &  11 & UA & 1545 & N14228 & EWR & IAH & 227 & 1400 & 5 & 15 & 2013-01-01 05:00:00\\\\\n",
       "\t 2013 & 1 & 1 & 533 & 529 &  4 &  850 &  830 &  20 & UA & 1714 & N24211 & LGA & IAH & 227 & 1416 & 5 & 29 & 2013-01-01 05:00:00\\\\\n",
       "\t 2013 & 1 & 1 & 542 & 540 &  2 &  923 &  850 &  33 & AA & 1141 & N619AA & JFK & MIA & 160 & 1089 & 5 & 40 & 2013-01-01 05:00:00\\\\\n",
       "\t 2013 & 1 & 1 & 544 & 545 & -1 & 1004 & 1022 & -18 & B6 &  725 & N804JB & JFK & BQN & 183 & 1576 & 5 & 45 & 2013-01-01 05:00:00\\\\\n",
       "\t 2013 & 1 & 1 & 554 & 600 & -6 &  812 &  837 & -25 & DL &  461 & N668DN & LGA & ATL & 116 &  762 & 6 &  0 & 2013-01-01 06:00:00\\\\\n",
       "\t 2013 & 1 & 1 & 554 & 558 & -4 &  740 &  728 &  12 & UA & 1696 & N39463 & EWR & ORD & 150 &  719 & 5 & 58 & 2013-01-01 05:00:00\\\\\n",
       "\\end{tabular}\n"
      ],
      "text/markdown": [
       "\n",
       "A tibble: 6 × 19\n",
       "\n",
       "| year &lt;int&gt; | month &lt;int&gt; | day &lt;int&gt; | dep_time &lt;int&gt; | sched_dep_time &lt;int&gt; | dep_delay &lt;dbl&gt; | arr_time &lt;int&gt; | sched_arr_time &lt;int&gt; | arr_delay &lt;dbl&gt; | carrier &lt;chr&gt; | flight &lt;int&gt; | tailnum &lt;chr&gt; | origin &lt;chr&gt; | dest &lt;chr&gt; | air_time &lt;dbl&gt; | distance &lt;dbl&gt; | hour &lt;dbl&gt; | minute &lt;dbl&gt; | time_hour &lt;dttm&gt; |\n",
       "|---|---|---|---|---|---|---|---|---|---|---|---|---|---|---|---|---|---|---|\n",
       "| 2013 | 1 | 1 | 517 | 515 |  2 |  830 |  819 |  11 | UA | 1545 | N14228 | EWR | IAH | 227 | 1400 | 5 | 15 | 2013-01-01 05:00:00 |\n",
       "| 2013 | 1 | 1 | 533 | 529 |  4 |  850 |  830 |  20 | UA | 1714 | N24211 | LGA | IAH | 227 | 1416 | 5 | 29 | 2013-01-01 05:00:00 |\n",
       "| 2013 | 1 | 1 | 542 | 540 |  2 |  923 |  850 |  33 | AA | 1141 | N619AA | JFK | MIA | 160 | 1089 | 5 | 40 | 2013-01-01 05:00:00 |\n",
       "| 2013 | 1 | 1 | 544 | 545 | -1 | 1004 | 1022 | -18 | B6 |  725 | N804JB | JFK | BQN | 183 | 1576 | 5 | 45 | 2013-01-01 05:00:00 |\n",
       "| 2013 | 1 | 1 | 554 | 600 | -6 |  812 |  837 | -25 | DL |  461 | N668DN | LGA | ATL | 116 |  762 | 6 |  0 | 2013-01-01 06:00:00 |\n",
       "| 2013 | 1 | 1 | 554 | 558 | -4 |  740 |  728 |  12 | UA | 1696 | N39463 | EWR | ORD | 150 |  719 | 5 | 58 | 2013-01-01 05:00:00 |\n",
       "\n"
      ],
      "text/plain": [
       "  year month day dep_time sched_dep_time dep_delay arr_time sched_arr_time\n",
       "1 2013 1     1   517      515             2         830      819          \n",
       "2 2013 1     1   533      529             4         850      830          \n",
       "3 2013 1     1   542      540             2         923      850          \n",
       "4 2013 1     1   544      545            -1        1004     1022          \n",
       "5 2013 1     1   554      600            -6         812      837          \n",
       "6 2013 1     1   554      558            -4         740      728          \n",
       "  arr_delay carrier flight tailnum origin dest air_time distance hour minute\n",
       "1  11       UA      1545   N14228  EWR    IAH  227      1400     5    15    \n",
       "2  20       UA      1714   N24211  LGA    IAH  227      1416     5    29    \n",
       "3  33       AA      1141   N619AA  JFK    MIA  160      1089     5    40    \n",
       "4 -18       B6       725   N804JB  JFK    BQN  183      1576     5    45    \n",
       "5 -25       DL       461   N668DN  LGA    ATL  116       762     6     0    \n",
       "6  12       UA      1696   N39463  EWR    ORD  150       719     5    58    \n",
       "  time_hour          \n",
       "1 2013-01-01 05:00:00\n",
       "2 2013-01-01 05:00:00\n",
       "3 2013-01-01 05:00:00\n",
       "4 2013-01-01 05:00:00\n",
       "5 2013-01-01 06:00:00\n",
       "6 2013-01-01 05:00:00"
      ]
     },
     "metadata": {},
     "output_type": "display_data"
    },
    {
     "data": {
      "text/html": [
       "<table>\n",
       "<caption>A tibble: 6 × 2</caption>\n",
       "<thead>\n",
       "\t<tr><th scope=col>carrier</th><th scope=col>name</th></tr>\n",
       "\t<tr><th scope=col>&lt;chr&gt;</th><th scope=col>&lt;chr&gt;</th></tr>\n",
       "</thead>\n",
       "<tbody>\n",
       "\t<tr><td>9E</td><td>Endeavor Air Inc.       </td></tr>\n",
       "\t<tr><td>AA</td><td>American Airlines Inc.  </td></tr>\n",
       "\t<tr><td>AS</td><td>Alaska Airlines Inc.    </td></tr>\n",
       "\t<tr><td>B6</td><td>JetBlue Airways         </td></tr>\n",
       "\t<tr><td>DL</td><td>Delta Air Lines Inc.    </td></tr>\n",
       "\t<tr><td>EV</td><td>ExpressJet Airlines Inc.</td></tr>\n",
       "</tbody>\n",
       "</table>\n"
      ],
      "text/latex": [
       "A tibble: 6 × 2\n",
       "\\begin{tabular}{r|ll}\n",
       " carrier & name\\\\\n",
       " <chr> & <chr>\\\\\n",
       "\\hline\n",
       "\t 9E & Endeavor Air Inc.       \\\\\n",
       "\t AA & American Airlines Inc.  \\\\\n",
       "\t AS & Alaska Airlines Inc.    \\\\\n",
       "\t B6 & JetBlue Airways         \\\\\n",
       "\t DL & Delta Air Lines Inc.    \\\\\n",
       "\t EV & ExpressJet Airlines Inc.\\\\\n",
       "\\end{tabular}\n"
      ],
      "text/markdown": [
       "\n",
       "A tibble: 6 × 2\n",
       "\n",
       "| carrier &lt;chr&gt; | name &lt;chr&gt; |\n",
       "|---|---|\n",
       "| 9E | Endeavor Air Inc.        |\n",
       "| AA | American Airlines Inc.   |\n",
       "| AS | Alaska Airlines Inc.     |\n",
       "| B6 | JetBlue Airways          |\n",
       "| DL | Delta Air Lines Inc.     |\n",
       "| EV | ExpressJet Airlines Inc. |\n",
       "\n"
      ],
      "text/plain": [
       "  carrier name                    \n",
       "1 9E      Endeavor Air Inc.       \n",
       "2 AA      American Airlines Inc.  \n",
       "3 AS      Alaska Airlines Inc.    \n",
       "4 B6      JetBlue Airways         \n",
       "5 DL      Delta Air Lines Inc.    \n",
       "6 EV      ExpressJet Airlines Inc."
      ]
     },
     "metadata": {},
     "output_type": "display_data"
    },
    {
     "data": {
      "text/html": [
       "<table>\n",
       "<caption>A tibble: 6 × 8</caption>\n",
       "<thead>\n",
       "\t<tr><th scope=col>faa</th><th scope=col>name</th><th scope=col>lat</th><th scope=col>lon</th><th scope=col>alt</th><th scope=col>tz</th><th scope=col>dst</th><th scope=col>tzone</th></tr>\n",
       "\t<tr><th scope=col>&lt;chr&gt;</th><th scope=col>&lt;chr&gt;</th><th scope=col>&lt;dbl&gt;</th><th scope=col>&lt;dbl&gt;</th><th scope=col>&lt;dbl&gt;</th><th scope=col>&lt;dbl&gt;</th><th scope=col>&lt;chr&gt;</th><th scope=col>&lt;chr&gt;</th></tr>\n",
       "</thead>\n",
       "<tbody>\n",
       "\t<tr><td>04G</td><td>Lansdowne Airport             </td><td>41.13047</td><td>-80.61958</td><td>1044</td><td>-5</td><td>A</td><td>America/New_York</td></tr>\n",
       "\t<tr><td>06A</td><td>Moton Field Municipal Airport </td><td>32.46057</td><td>-85.68003</td><td> 264</td><td>-6</td><td>A</td><td>America/Chicago </td></tr>\n",
       "\t<tr><td>06C</td><td>Schaumburg Regional           </td><td>41.98934</td><td>-88.10124</td><td> 801</td><td>-6</td><td>A</td><td>America/Chicago </td></tr>\n",
       "\t<tr><td>06N</td><td>Randall Airport               </td><td>41.43191</td><td>-74.39156</td><td> 523</td><td>-5</td><td>A</td><td>America/New_York</td></tr>\n",
       "\t<tr><td>09J</td><td>Jekyll Island Airport         </td><td>31.07447</td><td>-81.42778</td><td>  11</td><td>-5</td><td>A</td><td>America/New_York</td></tr>\n",
       "\t<tr><td>0A9</td><td>Elizabethton Municipal Airport</td><td>36.37122</td><td>-82.17342</td><td>1593</td><td>-5</td><td>A</td><td>America/New_York</td></tr>\n",
       "</tbody>\n",
       "</table>\n"
      ],
      "text/latex": [
       "A tibble: 6 × 8\n",
       "\\begin{tabular}{r|llllllll}\n",
       " faa & name & lat & lon & alt & tz & dst & tzone\\\\\n",
       " <chr> & <chr> & <dbl> & <dbl> & <dbl> & <dbl> & <chr> & <chr>\\\\\n",
       "\\hline\n",
       "\t 04G & Lansdowne Airport              & 41.13047 & -80.61958 & 1044 & -5 & A & America/New\\_York\\\\\n",
       "\t 06A & Moton Field Municipal Airport  & 32.46057 & -85.68003 &  264 & -6 & A & America/Chicago \\\\\n",
       "\t 06C & Schaumburg Regional            & 41.98934 & -88.10124 &  801 & -6 & A & America/Chicago \\\\\n",
       "\t 06N & Randall Airport                & 41.43191 & -74.39156 &  523 & -5 & A & America/New\\_York\\\\\n",
       "\t 09J & Jekyll Island Airport          & 31.07447 & -81.42778 &   11 & -5 & A & America/New\\_York\\\\\n",
       "\t 0A9 & Elizabethton Municipal Airport & 36.37122 & -82.17342 & 1593 & -5 & A & America/New\\_York\\\\\n",
       "\\end{tabular}\n"
      ],
      "text/markdown": [
       "\n",
       "A tibble: 6 × 8\n",
       "\n",
       "| faa &lt;chr&gt; | name &lt;chr&gt; | lat &lt;dbl&gt; | lon &lt;dbl&gt; | alt &lt;dbl&gt; | tz &lt;dbl&gt; | dst &lt;chr&gt; | tzone &lt;chr&gt; |\n",
       "|---|---|---|---|---|---|---|---|\n",
       "| 04G | Lansdowne Airport              | 41.13047 | -80.61958 | 1044 | -5 | A | America/New_York |\n",
       "| 06A | Moton Field Municipal Airport  | 32.46057 | -85.68003 |  264 | -6 | A | America/Chicago  |\n",
       "| 06C | Schaumburg Regional            | 41.98934 | -88.10124 |  801 | -6 | A | America/Chicago  |\n",
       "| 06N | Randall Airport                | 41.43191 | -74.39156 |  523 | -5 | A | America/New_York |\n",
       "| 09J | Jekyll Island Airport          | 31.07447 | -81.42778 |   11 | -5 | A | America/New_York |\n",
       "| 0A9 | Elizabethton Municipal Airport | 36.37122 | -82.17342 | 1593 | -5 | A | America/New_York |\n",
       "\n"
      ],
      "text/plain": [
       "  faa name                           lat      lon       alt  tz dst\n",
       "1 04G Lansdowne Airport              41.13047 -80.61958 1044 -5 A  \n",
       "2 06A Moton Field Municipal Airport  32.46057 -85.68003  264 -6 A  \n",
       "3 06C Schaumburg Regional            41.98934 -88.10124  801 -6 A  \n",
       "4 06N Randall Airport                41.43191 -74.39156  523 -5 A  \n",
       "5 09J Jekyll Island Airport          31.07447 -81.42778   11 -5 A  \n",
       "6 0A9 Elizabethton Municipal Airport 36.37122 -82.17342 1593 -5 A  \n",
       "  tzone           \n",
       "1 America/New_York\n",
       "2 America/Chicago \n",
       "3 America/Chicago \n",
       "4 America/New_York\n",
       "5 America/New_York\n",
       "6 America/New_York"
      ]
     },
     "metadata": {},
     "output_type": "display_data"
    },
    {
     "data": {
      "text/html": [
       "<table>\n",
       "<caption>A tibble: 6 × 9</caption>\n",
       "<thead>\n",
       "\t<tr><th scope=col>tailnum</th><th scope=col>year</th><th scope=col>type</th><th scope=col>manufacturer</th><th scope=col>model</th><th scope=col>engines</th><th scope=col>seats</th><th scope=col>speed</th><th scope=col>engine</th></tr>\n",
       "\t<tr><th scope=col>&lt;chr&gt;</th><th scope=col>&lt;int&gt;</th><th scope=col>&lt;chr&gt;</th><th scope=col>&lt;chr&gt;</th><th scope=col>&lt;chr&gt;</th><th scope=col>&lt;int&gt;</th><th scope=col>&lt;int&gt;</th><th scope=col>&lt;int&gt;</th><th scope=col>&lt;chr&gt;</th></tr>\n",
       "</thead>\n",
       "<tbody>\n",
       "\t<tr><td>N10156</td><td>2004</td><td>Fixed wing multi engine</td><td>EMBRAER         </td><td>EMB-145XR</td><td>2</td><td> 55</td><td>NA</td><td>Turbo-fan</td></tr>\n",
       "\t<tr><td>N102UW</td><td>1998</td><td>Fixed wing multi engine</td><td>AIRBUS INDUSTRIE</td><td>A320-214 </td><td>2</td><td>182</td><td>NA</td><td>Turbo-fan</td></tr>\n",
       "\t<tr><td>N103US</td><td>1999</td><td>Fixed wing multi engine</td><td>AIRBUS INDUSTRIE</td><td>A320-214 </td><td>2</td><td>182</td><td>NA</td><td>Turbo-fan</td></tr>\n",
       "\t<tr><td>N104UW</td><td>1999</td><td>Fixed wing multi engine</td><td>AIRBUS INDUSTRIE</td><td>A320-214 </td><td>2</td><td>182</td><td>NA</td><td>Turbo-fan</td></tr>\n",
       "\t<tr><td>N10575</td><td>2002</td><td>Fixed wing multi engine</td><td>EMBRAER         </td><td>EMB-145LR</td><td>2</td><td> 55</td><td>NA</td><td>Turbo-fan</td></tr>\n",
       "\t<tr><td>N105UW</td><td>1999</td><td>Fixed wing multi engine</td><td>AIRBUS INDUSTRIE</td><td>A320-214 </td><td>2</td><td>182</td><td>NA</td><td>Turbo-fan</td></tr>\n",
       "</tbody>\n",
       "</table>\n"
      ],
      "text/latex": [
       "A tibble: 6 × 9\n",
       "\\begin{tabular}{r|lllllllll}\n",
       " tailnum & year & type & manufacturer & model & engines & seats & speed & engine\\\\\n",
       " <chr> & <int> & <chr> & <chr> & <chr> & <int> & <int> & <int> & <chr>\\\\\n",
       "\\hline\n",
       "\t N10156 & 2004 & Fixed wing multi engine & EMBRAER          & EMB-145XR & 2 &  55 & NA & Turbo-fan\\\\\n",
       "\t N102UW & 1998 & Fixed wing multi engine & AIRBUS INDUSTRIE & A320-214  & 2 & 182 & NA & Turbo-fan\\\\\n",
       "\t N103US & 1999 & Fixed wing multi engine & AIRBUS INDUSTRIE & A320-214  & 2 & 182 & NA & Turbo-fan\\\\\n",
       "\t N104UW & 1999 & Fixed wing multi engine & AIRBUS INDUSTRIE & A320-214  & 2 & 182 & NA & Turbo-fan\\\\\n",
       "\t N10575 & 2002 & Fixed wing multi engine & EMBRAER          & EMB-145LR & 2 &  55 & NA & Turbo-fan\\\\\n",
       "\t N105UW & 1999 & Fixed wing multi engine & AIRBUS INDUSTRIE & A320-214  & 2 & 182 & NA & Turbo-fan\\\\\n",
       "\\end{tabular}\n"
      ],
      "text/markdown": [
       "\n",
       "A tibble: 6 × 9\n",
       "\n",
       "| tailnum &lt;chr&gt; | year &lt;int&gt; | type &lt;chr&gt; | manufacturer &lt;chr&gt; | model &lt;chr&gt; | engines &lt;int&gt; | seats &lt;int&gt; | speed &lt;int&gt; | engine &lt;chr&gt; |\n",
       "|---|---|---|---|---|---|---|---|---|\n",
       "| N10156 | 2004 | Fixed wing multi engine | EMBRAER          | EMB-145XR | 2 |  55 | NA | Turbo-fan |\n",
       "| N102UW | 1998 | Fixed wing multi engine | AIRBUS INDUSTRIE | A320-214  | 2 | 182 | NA | Turbo-fan |\n",
       "| N103US | 1999 | Fixed wing multi engine | AIRBUS INDUSTRIE | A320-214  | 2 | 182 | NA | Turbo-fan |\n",
       "| N104UW | 1999 | Fixed wing multi engine | AIRBUS INDUSTRIE | A320-214  | 2 | 182 | NA | Turbo-fan |\n",
       "| N10575 | 2002 | Fixed wing multi engine | EMBRAER          | EMB-145LR | 2 |  55 | NA | Turbo-fan |\n",
       "| N105UW | 1999 | Fixed wing multi engine | AIRBUS INDUSTRIE | A320-214  | 2 | 182 | NA | Turbo-fan |\n",
       "\n"
      ],
      "text/plain": [
       "  tailnum year type                    manufacturer     model     engines seats\n",
       "1 N10156  2004 Fixed wing multi engine EMBRAER          EMB-145XR 2        55  \n",
       "2 N102UW  1998 Fixed wing multi engine AIRBUS INDUSTRIE A320-214  2       182  \n",
       "3 N103US  1999 Fixed wing multi engine AIRBUS INDUSTRIE A320-214  2       182  \n",
       "4 N104UW  1999 Fixed wing multi engine AIRBUS INDUSTRIE A320-214  2       182  \n",
       "5 N10575  2002 Fixed wing multi engine EMBRAER          EMB-145LR 2        55  \n",
       "6 N105UW  1999 Fixed wing multi engine AIRBUS INDUSTRIE A320-214  2       182  \n",
       "  speed engine   \n",
       "1 NA    Turbo-fan\n",
       "2 NA    Turbo-fan\n",
       "3 NA    Turbo-fan\n",
       "4 NA    Turbo-fan\n",
       "5 NA    Turbo-fan\n",
       "6 NA    Turbo-fan"
      ]
     },
     "metadata": {},
     "output_type": "display_data"
    },
    {
     "data": {
      "text/html": [
       "<table>\n",
       "<caption>A tibble: 6 × 15</caption>\n",
       "<thead>\n",
       "\t<tr><th scope=col>origin</th><th scope=col>year</th><th scope=col>month</th><th scope=col>day</th><th scope=col>hour</th><th scope=col>temp</th><th scope=col>dewp</th><th scope=col>humid</th><th scope=col>wind_dir</th><th scope=col>wind_speed</th><th scope=col>wind_gust</th><th scope=col>precip</th><th scope=col>pressure</th><th scope=col>visib</th><th scope=col>time_hour</th></tr>\n",
       "\t<tr><th scope=col>&lt;chr&gt;</th><th scope=col>&lt;int&gt;</th><th scope=col>&lt;int&gt;</th><th scope=col>&lt;int&gt;</th><th scope=col>&lt;int&gt;</th><th scope=col>&lt;dbl&gt;</th><th scope=col>&lt;dbl&gt;</th><th scope=col>&lt;dbl&gt;</th><th scope=col>&lt;dbl&gt;</th><th scope=col>&lt;dbl&gt;</th><th scope=col>&lt;dbl&gt;</th><th scope=col>&lt;dbl&gt;</th><th scope=col>&lt;dbl&gt;</th><th scope=col>&lt;dbl&gt;</th><th scope=col>&lt;dttm&gt;</th></tr>\n",
       "</thead>\n",
       "<tbody>\n",
       "\t<tr><td>EWR</td><td>2013</td><td>1</td><td>1</td><td>1</td><td>39.02</td><td>26.06</td><td>59.37</td><td>270</td><td>10.35702</td><td>NA</td><td>0</td><td>1012.0</td><td>10</td><td>2013-01-01 01:00:00</td></tr>\n",
       "\t<tr><td>EWR</td><td>2013</td><td>1</td><td>1</td><td>2</td><td>39.02</td><td>26.96</td><td>61.63</td><td>250</td><td> 8.05546</td><td>NA</td><td>0</td><td>1012.3</td><td>10</td><td>2013-01-01 02:00:00</td></tr>\n",
       "\t<tr><td>EWR</td><td>2013</td><td>1</td><td>1</td><td>3</td><td>39.02</td><td>28.04</td><td>64.43</td><td>240</td><td>11.50780</td><td>NA</td><td>0</td><td>1012.5</td><td>10</td><td>2013-01-01 03:00:00</td></tr>\n",
       "\t<tr><td>EWR</td><td>2013</td><td>1</td><td>1</td><td>4</td><td>39.92</td><td>28.04</td><td>62.21</td><td>250</td><td>12.65858</td><td>NA</td><td>0</td><td>1012.2</td><td>10</td><td>2013-01-01 04:00:00</td></tr>\n",
       "\t<tr><td>EWR</td><td>2013</td><td>1</td><td>1</td><td>5</td><td>39.02</td><td>28.04</td><td>64.43</td><td>260</td><td>12.65858</td><td>NA</td><td>0</td><td>1011.9</td><td>10</td><td>2013-01-01 05:00:00</td></tr>\n",
       "\t<tr><td>EWR</td><td>2013</td><td>1</td><td>1</td><td>6</td><td>37.94</td><td>28.04</td><td>67.21</td><td>240</td><td>11.50780</td><td>NA</td><td>0</td><td>1012.4</td><td>10</td><td>2013-01-01 06:00:00</td></tr>\n",
       "</tbody>\n",
       "</table>\n"
      ],
      "text/latex": [
       "A tibble: 6 × 15\n",
       "\\begin{tabular}{r|lllllllllllllll}\n",
       " origin & year & month & day & hour & temp & dewp & humid & wind\\_dir & wind\\_speed & wind\\_gust & precip & pressure & visib & time\\_hour\\\\\n",
       " <chr> & <int> & <int> & <int> & <int> & <dbl> & <dbl> & <dbl> & <dbl> & <dbl> & <dbl> & <dbl> & <dbl> & <dbl> & <dttm>\\\\\n",
       "\\hline\n",
       "\t EWR & 2013 & 1 & 1 & 1 & 39.02 & 26.06 & 59.37 & 270 & 10.35702 & NA & 0 & 1012.0 & 10 & 2013-01-01 01:00:00\\\\\n",
       "\t EWR & 2013 & 1 & 1 & 2 & 39.02 & 26.96 & 61.63 & 250 &  8.05546 & NA & 0 & 1012.3 & 10 & 2013-01-01 02:00:00\\\\\n",
       "\t EWR & 2013 & 1 & 1 & 3 & 39.02 & 28.04 & 64.43 & 240 & 11.50780 & NA & 0 & 1012.5 & 10 & 2013-01-01 03:00:00\\\\\n",
       "\t EWR & 2013 & 1 & 1 & 4 & 39.92 & 28.04 & 62.21 & 250 & 12.65858 & NA & 0 & 1012.2 & 10 & 2013-01-01 04:00:00\\\\\n",
       "\t EWR & 2013 & 1 & 1 & 5 & 39.02 & 28.04 & 64.43 & 260 & 12.65858 & NA & 0 & 1011.9 & 10 & 2013-01-01 05:00:00\\\\\n",
       "\t EWR & 2013 & 1 & 1 & 6 & 37.94 & 28.04 & 67.21 & 240 & 11.50780 & NA & 0 & 1012.4 & 10 & 2013-01-01 06:00:00\\\\\n",
       "\\end{tabular}\n"
      ],
      "text/markdown": [
       "\n",
       "A tibble: 6 × 15\n",
       "\n",
       "| origin &lt;chr&gt; | year &lt;int&gt; | month &lt;int&gt; | day &lt;int&gt; | hour &lt;int&gt; | temp &lt;dbl&gt; | dewp &lt;dbl&gt; | humid &lt;dbl&gt; | wind_dir &lt;dbl&gt; | wind_speed &lt;dbl&gt; | wind_gust &lt;dbl&gt; | precip &lt;dbl&gt; | pressure &lt;dbl&gt; | visib &lt;dbl&gt; | time_hour &lt;dttm&gt; |\n",
       "|---|---|---|---|---|---|---|---|---|---|---|---|---|---|---|\n",
       "| EWR | 2013 | 1 | 1 | 1 | 39.02 | 26.06 | 59.37 | 270 | 10.35702 | NA | 0 | 1012.0 | 10 | 2013-01-01 01:00:00 |\n",
       "| EWR | 2013 | 1 | 1 | 2 | 39.02 | 26.96 | 61.63 | 250 |  8.05546 | NA | 0 | 1012.3 | 10 | 2013-01-01 02:00:00 |\n",
       "| EWR | 2013 | 1 | 1 | 3 | 39.02 | 28.04 | 64.43 | 240 | 11.50780 | NA | 0 | 1012.5 | 10 | 2013-01-01 03:00:00 |\n",
       "| EWR | 2013 | 1 | 1 | 4 | 39.92 | 28.04 | 62.21 | 250 | 12.65858 | NA | 0 | 1012.2 | 10 | 2013-01-01 04:00:00 |\n",
       "| EWR | 2013 | 1 | 1 | 5 | 39.02 | 28.04 | 64.43 | 260 | 12.65858 | NA | 0 | 1011.9 | 10 | 2013-01-01 05:00:00 |\n",
       "| EWR | 2013 | 1 | 1 | 6 | 37.94 | 28.04 | 67.21 | 240 | 11.50780 | NA | 0 | 1012.4 | 10 | 2013-01-01 06:00:00 |\n",
       "\n"
      ],
      "text/plain": [
       "  origin year month day hour temp  dewp  humid wind_dir wind_speed wind_gust\n",
       "1 EWR    2013 1     1   1    39.02 26.06 59.37 270      10.35702   NA       \n",
       "2 EWR    2013 1     1   2    39.02 26.96 61.63 250       8.05546   NA       \n",
       "3 EWR    2013 1     1   3    39.02 28.04 64.43 240      11.50780   NA       \n",
       "4 EWR    2013 1     1   4    39.92 28.04 62.21 250      12.65858   NA       \n",
       "5 EWR    2013 1     1   5    39.02 28.04 64.43 260      12.65858   NA       \n",
       "6 EWR    2013 1     1   6    37.94 28.04 67.21 240      11.50780   NA       \n",
       "  precip pressure visib time_hour          \n",
       "1 0      1012.0   10    2013-01-01 01:00:00\n",
       "2 0      1012.3   10    2013-01-01 02:00:00\n",
       "3 0      1012.5   10    2013-01-01 03:00:00\n",
       "4 0      1012.2   10    2013-01-01 04:00:00\n",
       "5 0      1011.9   10    2013-01-01 05:00:00\n",
       "6 0      1012.4   10    2013-01-01 06:00:00"
      ]
     },
     "metadata": {},
     "output_type": "display_data"
    }
   ],
   "source": [
    "# 5个表的内容如下\n",
    "flights %>% head()\n",
    "airlines %>% head()\n",
    "airports %>% head()\n",
    "planes %>% head()\n",
    "weather %>% head()"
   ]
  },
  {
   "cell_type": "markdown",
   "metadata": {},
   "source": [
    "用于连接每对数据表的变量称为键\n",
    "\n",
    "键分为主键和外键\n",
    "\n",
    "主键：唯一标识其所在数据表中的观测。例如，planes$tailnum是一个主键，因为其可以唯一标识planes表中的每架飞机。\n",
    "\n",
    "外键：唯一标识另一个数据表中的观测。例如，flights$tailnum是一个外键，因为其出现在flights表中，并可以将每次航班与唯一一架飞机匹配。\n",
    "\n",
    "一个变量既可以是主键，也可以是外键"
   ]
  },
  {
   "cell_type": "code",
   "execution_count": 3,
   "metadata": {},
   "outputs": [
    {
     "data": {
      "text/html": [
       "<table>\n",
       "<caption>A tibble: 0 × 2</caption>\n",
       "<thead>\n",
       "\t<tr><th scope=col>tailnum</th><th scope=col>n</th></tr>\n",
       "\t<tr><th scope=col>&lt;chr&gt;</th><th scope=col>&lt;int&gt;</th></tr>\n",
       "</thead>\n",
       "<tbody>\n",
       "</tbody>\n",
       "</table>\n"
      ],
      "text/latex": [
       "A tibble: 0 × 2\n",
       "\\begin{tabular}{r|ll}\n",
       " tailnum & n\\\\\n",
       " <chr> & <int>\\\\\n",
       "\\hline\n",
       "\\end{tabular}\n"
      ],
      "text/markdown": [
       "\n",
       "A tibble: 0 × 2\n",
       "\n",
       "| tailnum &lt;chr&gt; | n &lt;int&gt; |\n",
       "|---|---|\n",
       "\n"
      ],
      "text/plain": [
       "     tailnum n"
      ]
     },
     "metadata": {},
     "output_type": "display_data"
    },
    {
     "data": {
      "text/html": [
       "<table>\n",
       "<caption>A tibble: 3 × 6</caption>\n",
       "<thead>\n",
       "\t<tr><th scope=col>year</th><th scope=col>month</th><th scope=col>day</th><th scope=col>hour</th><th scope=col>origin</th><th scope=col>n</th></tr>\n",
       "\t<tr><th scope=col>&lt;int&gt;</th><th scope=col>&lt;int&gt;</th><th scope=col>&lt;int&gt;</th><th scope=col>&lt;int&gt;</th><th scope=col>&lt;chr&gt;</th><th scope=col>&lt;int&gt;</th></tr>\n",
       "</thead>\n",
       "<tbody>\n",
       "\t<tr><td>2013</td><td>11</td><td>3</td><td>1</td><td>EWR</td><td>2</td></tr>\n",
       "\t<tr><td>2013</td><td>11</td><td>3</td><td>1</td><td>JFK</td><td>2</td></tr>\n",
       "\t<tr><td>2013</td><td>11</td><td>3</td><td>1</td><td>LGA</td><td>2</td></tr>\n",
       "</tbody>\n",
       "</table>\n"
      ],
      "text/latex": [
       "A tibble: 3 × 6\n",
       "\\begin{tabular}{r|llllll}\n",
       " year & month & day & hour & origin & n\\\\\n",
       " <int> & <int> & <int> & <int> & <chr> & <int>\\\\\n",
       "\\hline\n",
       "\t 2013 & 11 & 3 & 1 & EWR & 2\\\\\n",
       "\t 2013 & 11 & 3 & 1 & JFK & 2\\\\\n",
       "\t 2013 & 11 & 3 & 1 & LGA & 2\\\\\n",
       "\\end{tabular}\n"
      ],
      "text/markdown": [
       "\n",
       "A tibble: 3 × 6\n",
       "\n",
       "| year &lt;int&gt; | month &lt;int&gt; | day &lt;int&gt; | hour &lt;int&gt; | origin &lt;chr&gt; | n &lt;int&gt; |\n",
       "|---|---|---|---|---|---|\n",
       "| 2013 | 11 | 3 | 1 | EWR | 2 |\n",
       "| 2013 | 11 | 3 | 1 | JFK | 2 |\n",
       "| 2013 | 11 | 3 | 1 | LGA | 2 |\n",
       "\n"
      ],
      "text/plain": [
       "  year month day hour origin n\n",
       "1 2013 11    3   1    EWR    2\n",
       "2 2013 11    3   1    JFK    2\n",
       "3 2013 11    3   1    LGA    2"
      ]
     },
     "metadata": {},
     "output_type": "display_data"
    },
    {
     "data": {
      "text/html": [
       "<table>\n",
       "<caption>A tibble: 6 × 5</caption>\n",
       "<thead>\n",
       "\t<tr><th scope=col>year</th><th scope=col>month</th><th scope=col>day</th><th scope=col>flight</th><th scope=col>n</th></tr>\n",
       "\t<tr><th scope=col>&lt;int&gt;</th><th scope=col>&lt;int&gt;</th><th scope=col>&lt;int&gt;</th><th scope=col>&lt;int&gt;</th><th scope=col>&lt;int&gt;</th></tr>\n",
       "</thead>\n",
       "<tbody>\n",
       "\t<tr><td>2013</td><td>1</td><td>1</td><td> 1</td><td>2</td></tr>\n",
       "\t<tr><td>2013</td><td>1</td><td>1</td><td> 3</td><td>2</td></tr>\n",
       "\t<tr><td>2013</td><td>1</td><td>1</td><td> 4</td><td>2</td></tr>\n",
       "\t<tr><td>2013</td><td>1</td><td>1</td><td>11</td><td>3</td></tr>\n",
       "\t<tr><td>2013</td><td>1</td><td>1</td><td>15</td><td>2</td></tr>\n",
       "\t<tr><td>2013</td><td>1</td><td>1</td><td>21</td><td>2</td></tr>\n",
       "</tbody>\n",
       "</table>\n"
      ],
      "text/latex": [
       "A tibble: 6 × 5\n",
       "\\begin{tabular}{r|lllll}\n",
       " year & month & day & flight & n\\\\\n",
       " <int> & <int> & <int> & <int> & <int>\\\\\n",
       "\\hline\n",
       "\t 2013 & 1 & 1 &  1 & 2\\\\\n",
       "\t 2013 & 1 & 1 &  3 & 2\\\\\n",
       "\t 2013 & 1 & 1 &  4 & 2\\\\\n",
       "\t 2013 & 1 & 1 & 11 & 3\\\\\n",
       "\t 2013 & 1 & 1 & 15 & 2\\\\\n",
       "\t 2013 & 1 & 1 & 21 & 2\\\\\n",
       "\\end{tabular}\n"
      ],
      "text/markdown": [
       "\n",
       "A tibble: 6 × 5\n",
       "\n",
       "| year &lt;int&gt; | month &lt;int&gt; | day &lt;int&gt; | flight &lt;int&gt; | n &lt;int&gt; |\n",
       "|---|---|---|---|---|\n",
       "| 2013 | 1 | 1 |  1 | 2 |\n",
       "| 2013 | 1 | 1 |  3 | 2 |\n",
       "| 2013 | 1 | 1 |  4 | 2 |\n",
       "| 2013 | 1 | 1 | 11 | 3 |\n",
       "| 2013 | 1 | 1 | 15 | 2 |\n",
       "| 2013 | 1 | 1 | 21 | 2 |\n",
       "\n"
      ],
      "text/plain": [
       "  year month day flight n\n",
       "1 2013 1     1    1     2\n",
       "2 2013 1     1    3     2\n",
       "3 2013 1     1    4     2\n",
       "4 2013 1     1   11     3\n",
       "5 2013 1     1   15     2\n",
       "6 2013 1     1   21     2"
      ]
     },
     "metadata": {},
     "output_type": "display_data"
    },
    {
     "data": {
      "text/html": [
       "<table>\n",
       "<caption>A tibble: 6 × 5</caption>\n",
       "<thead>\n",
       "\t<tr><th scope=col>year</th><th scope=col>month</th><th scope=col>day</th><th scope=col>tailnum</th><th scope=col>n</th></tr>\n",
       "\t<tr><th scope=col>&lt;int&gt;</th><th scope=col>&lt;int&gt;</th><th scope=col>&lt;int&gt;</th><th scope=col>&lt;chr&gt;</th><th scope=col>&lt;int&gt;</th></tr>\n",
       "</thead>\n",
       "<tbody>\n",
       "\t<tr><td>2013</td><td>1</td><td>1</td><td>N0EGMQ</td><td>2</td></tr>\n",
       "\t<tr><td>2013</td><td>1</td><td>1</td><td>N11189</td><td>2</td></tr>\n",
       "\t<tr><td>2013</td><td>1</td><td>1</td><td>N11536</td><td>2</td></tr>\n",
       "\t<tr><td>2013</td><td>1</td><td>1</td><td>N11544</td><td>3</td></tr>\n",
       "\t<tr><td>2013</td><td>1</td><td>1</td><td>N11551</td><td>2</td></tr>\n",
       "\t<tr><td>2013</td><td>1</td><td>1</td><td>N12540</td><td>2</td></tr>\n",
       "</tbody>\n",
       "</table>\n"
      ],
      "text/latex": [
       "A tibble: 6 × 5\n",
       "\\begin{tabular}{r|lllll}\n",
       " year & month & day & tailnum & n\\\\\n",
       " <int> & <int> & <int> & <chr> & <int>\\\\\n",
       "\\hline\n",
       "\t 2013 & 1 & 1 & N0EGMQ & 2\\\\\n",
       "\t 2013 & 1 & 1 & N11189 & 2\\\\\n",
       "\t 2013 & 1 & 1 & N11536 & 2\\\\\n",
       "\t 2013 & 1 & 1 & N11544 & 3\\\\\n",
       "\t 2013 & 1 & 1 & N11551 & 2\\\\\n",
       "\t 2013 & 1 & 1 & N12540 & 2\\\\\n",
       "\\end{tabular}\n"
      ],
      "text/markdown": [
       "\n",
       "A tibble: 6 × 5\n",
       "\n",
       "| year &lt;int&gt; | month &lt;int&gt; | day &lt;int&gt; | tailnum &lt;chr&gt; | n &lt;int&gt; |\n",
       "|---|---|---|---|---|\n",
       "| 2013 | 1 | 1 | N0EGMQ | 2 |\n",
       "| 2013 | 1 | 1 | N11189 | 2 |\n",
       "| 2013 | 1 | 1 | N11536 | 2 |\n",
       "| 2013 | 1 | 1 | N11544 | 3 |\n",
       "| 2013 | 1 | 1 | N11551 | 2 |\n",
       "| 2013 | 1 | 1 | N12540 | 2 |\n",
       "\n"
      ],
      "text/plain": [
       "  year month day tailnum n\n",
       "1 2013 1     1   N0EGMQ  2\n",
       "2 2013 1     1   N11189  2\n",
       "3 2013 1     1   N11536  2\n",
       "4 2013 1     1   N11544  3\n",
       "5 2013 1     1   N11551  2\n",
       "6 2013 1     1   N12540  2"
      ]
     },
     "metadata": {},
     "output_type": "display_data"
    }
   ],
   "source": [
    "# 识别是否是主键可以用count()验证\n",
    "planes %>% count(tailnum) %>% filter(n > 1)\n",
    "\n",
    "weather %>% count(year, month, day, hour, origin) %>% \n",
    "filter(n > 1)# 不是\n",
    "\n",
    "flights %>% count(year, month, day, flight) %>% \n",
    "filter(n > 1) %>% head()\n",
    "\n",
    "flights %>% count(year, month, day, tailnum) %>% \n",
    "filter(n > 1) %>% head()"
   ]
  },
  {
   "cell_type": "markdown",
   "metadata": {},
   "source": [
    "如果一张表没有主键，有时就需要使用mutate()函数和row_number()函数为表加上一个主键。这样一来，如果你完成了一些筛选工作，并想要使用原始数据检查的话，就可以更容易地匹配观测。这种主键称为代理键。"
   ]
  },
  {
   "cell_type": "code",
   "execution_count": 4,
   "metadata": {},
   "outputs": [
    {
     "data": {
      "text/html": [
       "<table>\n",
       "<caption>A tibble: 6 × 19</caption>\n",
       "<thead>\n",
       "\t<tr><th scope=col>year</th><th scope=col>month</th><th scope=col>day</th><th scope=col>dep_time</th><th scope=col>sched_dep_time</th><th scope=col>dep_delay</th><th scope=col>arr_time</th><th scope=col>sched_arr_time</th><th scope=col>arr_delay</th><th scope=col>carrier</th><th scope=col>flight</th><th scope=col>tailnum</th><th scope=col>origin</th><th scope=col>dest</th><th scope=col>air_time</th><th scope=col>distance</th><th scope=col>hour</th><th scope=col>minute</th><th scope=col>time_hour</th></tr>\n",
       "\t<tr><th scope=col>&lt;int&gt;</th><th scope=col>&lt;int&gt;</th><th scope=col>&lt;int&gt;</th><th scope=col>&lt;int&gt;</th><th scope=col>&lt;int&gt;</th><th scope=col>&lt;dbl&gt;</th><th scope=col>&lt;int&gt;</th><th scope=col>&lt;int&gt;</th><th scope=col>&lt;dbl&gt;</th><th scope=col>&lt;chr&gt;</th><th scope=col>&lt;int&gt;</th><th scope=col>&lt;chr&gt;</th><th scope=col>&lt;chr&gt;</th><th scope=col>&lt;chr&gt;</th><th scope=col>&lt;dbl&gt;</th><th scope=col>&lt;dbl&gt;</th><th scope=col>&lt;dbl&gt;</th><th scope=col>&lt;dbl&gt;</th><th scope=col>&lt;dttm&gt;</th></tr>\n",
       "</thead>\n",
       "<tbody>\n",
       "\t<tr><td>2013</td><td>1</td><td>1</td><td> 856</td><td> 900</td><td>-4</td><td>1226</td><td>1220</td><td>  6</td><td>AA</td><td>1</td><td>N324AA</td><td>JFK</td><td>LAX</td><td>358</td><td>2475</td><td> 9</td><td> 0</td><td>2013-01-01 09:00:00</td></tr>\n",
       "\t<tr><td>2013</td><td>1</td><td>1</td><td>1153</td><td>1123</td><td>30</td><td>1454</td><td>1425</td><td> 29</td><td>B6</td><td>1</td><td>N552JB</td><td>JFK</td><td>FLL</td><td>167</td><td>1069</td><td>11</td><td>23</td><td>2013-01-01 11:00:00</td></tr>\n",
       "\t<tr><td>2013</td><td>1</td><td>1</td><td>1155</td><td>1200</td><td>-5</td><td>1517</td><td>1510</td><td>  7</td><td>AA</td><td>3</td><td>N322AA</td><td>JFK</td><td>LAX</td><td>353</td><td>2475</td><td>12</td><td> 0</td><td>2013-01-01 12:00:00</td></tr>\n",
       "\t<tr><td>2013</td><td>1</td><td>1</td><td> 805</td><td> 800</td><td> 5</td><td>1118</td><td>1106</td><td> 12</td><td>B6</td><td>3</td><td>N570JB</td><td>JFK</td><td>FLL</td><td>165</td><td>1069</td><td> 8</td><td> 0</td><td>2013-01-01 08:00:00</td></tr>\n",
       "\t<tr><td>2013</td><td>1</td><td>1</td><td>1538</td><td>1540</td><td>-2</td><td>1827</td><td>1851</td><td>-24</td><td>DL</td><td>4</td><td>N372DA</td><td>JFK</td><td>MCO</td><td>133</td><td> 944</td><td>15</td><td>40</td><td>2013-01-01 15:00:00</td></tr>\n",
       "\t<tr><td>2013</td><td>1</td><td>1</td><td> 933</td><td> 937</td><td>-4</td><td>1057</td><td>1102</td><td> -5</td><td>B6</td><td>4</td><td>N503JB</td><td>JFK</td><td>BUF</td><td> 66</td><td> 301</td><td> 9</td><td>37</td><td>2013-01-01 09:00:00</td></tr>\n",
       "</tbody>\n",
       "</table>\n"
      ],
      "text/latex": [
       "A tibble: 6 × 19\n",
       "\\begin{tabular}{r|lllllllllllllllllll}\n",
       " year & month & day & dep\\_time & sched\\_dep\\_time & dep\\_delay & arr\\_time & sched\\_arr\\_time & arr\\_delay & carrier & flight & tailnum & origin & dest & air\\_time & distance & hour & minute & time\\_hour\\\\\n",
       " <int> & <int> & <int> & <int> & <int> & <dbl> & <int> & <int> & <dbl> & <chr> & <int> & <chr> & <chr> & <chr> & <dbl> & <dbl> & <dbl> & <dbl> & <dttm>\\\\\n",
       "\\hline\n",
       "\t 2013 & 1 & 1 &  856 &  900 & -4 & 1226 & 1220 &   6 & AA & 1 & N324AA & JFK & LAX & 358 & 2475 &  9 &  0 & 2013-01-01 09:00:00\\\\\n",
       "\t 2013 & 1 & 1 & 1153 & 1123 & 30 & 1454 & 1425 &  29 & B6 & 1 & N552JB & JFK & FLL & 167 & 1069 & 11 & 23 & 2013-01-01 11:00:00\\\\\n",
       "\t 2013 & 1 & 1 & 1155 & 1200 & -5 & 1517 & 1510 &   7 & AA & 3 & N322AA & JFK & LAX & 353 & 2475 & 12 &  0 & 2013-01-01 12:00:00\\\\\n",
       "\t 2013 & 1 & 1 &  805 &  800 &  5 & 1118 & 1106 &  12 & B6 & 3 & N570JB & JFK & FLL & 165 & 1069 &  8 &  0 & 2013-01-01 08:00:00\\\\\n",
       "\t 2013 & 1 & 1 & 1538 & 1540 & -2 & 1827 & 1851 & -24 & DL & 4 & N372DA & JFK & MCO & 133 &  944 & 15 & 40 & 2013-01-01 15:00:00\\\\\n",
       "\t 2013 & 1 & 1 &  933 &  937 & -4 & 1057 & 1102 &  -5 & B6 & 4 & N503JB & JFK & BUF &  66 &  301 &  9 & 37 & 2013-01-01 09:00:00\\\\\n",
       "\\end{tabular}\n"
      ],
      "text/markdown": [
       "\n",
       "A tibble: 6 × 19\n",
       "\n",
       "| year &lt;int&gt; | month &lt;int&gt; | day &lt;int&gt; | dep_time &lt;int&gt; | sched_dep_time &lt;int&gt; | dep_delay &lt;dbl&gt; | arr_time &lt;int&gt; | sched_arr_time &lt;int&gt; | arr_delay &lt;dbl&gt; | carrier &lt;chr&gt; | flight &lt;int&gt; | tailnum &lt;chr&gt; | origin &lt;chr&gt; | dest &lt;chr&gt; | air_time &lt;dbl&gt; | distance &lt;dbl&gt; | hour &lt;dbl&gt; | minute &lt;dbl&gt; | time_hour &lt;dttm&gt; |\n",
       "|---|---|---|---|---|---|---|---|---|---|---|---|---|---|---|---|---|---|---|\n",
       "| 2013 | 1 | 1 |  856 |  900 | -4 | 1226 | 1220 |   6 | AA | 1 | N324AA | JFK | LAX | 358 | 2475 |  9 |  0 | 2013-01-01 09:00:00 |\n",
       "| 2013 | 1 | 1 | 1153 | 1123 | 30 | 1454 | 1425 |  29 | B6 | 1 | N552JB | JFK | FLL | 167 | 1069 | 11 | 23 | 2013-01-01 11:00:00 |\n",
       "| 2013 | 1 | 1 | 1155 | 1200 | -5 | 1517 | 1510 |   7 | AA | 3 | N322AA | JFK | LAX | 353 | 2475 | 12 |  0 | 2013-01-01 12:00:00 |\n",
       "| 2013 | 1 | 1 |  805 |  800 |  5 | 1118 | 1106 |  12 | B6 | 3 | N570JB | JFK | FLL | 165 | 1069 |  8 |  0 | 2013-01-01 08:00:00 |\n",
       "| 2013 | 1 | 1 | 1538 | 1540 | -2 | 1827 | 1851 | -24 | DL | 4 | N372DA | JFK | MCO | 133 |  944 | 15 | 40 | 2013-01-01 15:00:00 |\n",
       "| 2013 | 1 | 1 |  933 |  937 | -4 | 1057 | 1102 |  -5 | B6 | 4 | N503JB | JFK | BUF |  66 |  301 |  9 | 37 | 2013-01-01 09:00:00 |\n",
       "\n"
      ],
      "text/plain": [
       "  year month day dep_time sched_dep_time dep_delay arr_time sched_arr_time\n",
       "1 2013 1     1    856      900           -4        1226     1220          \n",
       "2 2013 1     1   1153     1123           30        1454     1425          \n",
       "3 2013 1     1   1155     1200           -5        1517     1510          \n",
       "4 2013 1     1    805      800            5        1118     1106          \n",
       "5 2013 1     1   1538     1540           -2        1827     1851          \n",
       "6 2013 1     1    933      937           -4        1057     1102          \n",
       "  arr_delay carrier flight tailnum origin dest air_time distance hour minute\n",
       "1   6       AA      1      N324AA  JFK    LAX  358      2475      9    0    \n",
       "2  29       B6      1      N552JB  JFK    FLL  167      1069     11   23    \n",
       "3   7       AA      3      N322AA  JFK    LAX  353      2475     12    0    \n",
       "4  12       B6      3      N570JB  JFK    FLL  165      1069      8    0    \n",
       "5 -24       DL      4      N372DA  JFK    MCO  133       944     15   40    \n",
       "6  -5       B6      4      N503JB  JFK    BUF   66       301      9   37    \n",
       "  time_hour          \n",
       "1 2013-01-01 09:00:00\n",
       "2 2013-01-01 11:00:00\n",
       "3 2013-01-01 12:00:00\n",
       "4 2013-01-01 08:00:00\n",
       "5 2013-01-01 15:00:00\n",
       "6 2013-01-01 09:00:00"
      ]
     },
     "metadata": {},
     "output_type": "display_data"
    }
   ],
   "source": [
    "flights %>% arrange(year, month, day, flight, tailnum, \n",
    "                  origin, dest) %>% head()\n",
    "# filter(n > 1) %>% head()"
   ]
  },
  {
   "cell_type": "code",
   "execution_count": 5,
   "metadata": {},
   "outputs": [
    {
     "data": {
      "text/html": [
       "<table>\n",
       "<caption>A tibble: 6 × 20</caption>\n",
       "<thead>\n",
       "\t<tr><th scope=col>year</th><th scope=col>month</th><th scope=col>day</th><th scope=col>dep_time</th><th scope=col>sched_dep_time</th><th scope=col>dep_delay</th><th scope=col>arr_time</th><th scope=col>sched_arr_time</th><th scope=col>arr_delay</th><th scope=col>carrier</th><th scope=col>flight</th><th scope=col>tailnum</th><th scope=col>origin</th><th scope=col>dest</th><th scope=col>air_time</th><th scope=col>distance</th><th scope=col>hour</th><th scope=col>minute</th><th scope=col>time_hour</th><th scope=col>flight_id</th></tr>\n",
       "\t<tr><th scope=col>&lt;int&gt;</th><th scope=col>&lt;int&gt;</th><th scope=col>&lt;int&gt;</th><th scope=col>&lt;int&gt;</th><th scope=col>&lt;int&gt;</th><th scope=col>&lt;dbl&gt;</th><th scope=col>&lt;int&gt;</th><th scope=col>&lt;int&gt;</th><th scope=col>&lt;dbl&gt;</th><th scope=col>&lt;chr&gt;</th><th scope=col>&lt;int&gt;</th><th scope=col>&lt;chr&gt;</th><th scope=col>&lt;chr&gt;</th><th scope=col>&lt;chr&gt;</th><th scope=col>&lt;dbl&gt;</th><th scope=col>&lt;dbl&gt;</th><th scope=col>&lt;dbl&gt;</th><th scope=col>&lt;dbl&gt;</th><th scope=col>&lt;dttm&gt;</th><th scope=col>&lt;int&gt;</th></tr>\n",
       "</thead>\n",
       "<tbody>\n",
       "\t<tr><td>2013</td><td>1</td><td>1</td><td>517</td><td>515</td><td> 2</td><td> 830</td><td> 819</td><td> 11</td><td>UA</td><td>1545</td><td>N14228</td><td>EWR</td><td>IAH</td><td>227</td><td>1400</td><td>5</td><td>15</td><td>2013-01-01 05:00:00</td><td>1</td></tr>\n",
       "\t<tr><td>2013</td><td>1</td><td>1</td><td>533</td><td>529</td><td> 4</td><td> 850</td><td> 830</td><td> 20</td><td>UA</td><td>1714</td><td>N24211</td><td>LGA</td><td>IAH</td><td>227</td><td>1416</td><td>5</td><td>29</td><td>2013-01-01 05:00:00</td><td>2</td></tr>\n",
       "\t<tr><td>2013</td><td>1</td><td>1</td><td>542</td><td>540</td><td> 2</td><td> 923</td><td> 850</td><td> 33</td><td>AA</td><td>1141</td><td>N619AA</td><td>JFK</td><td>MIA</td><td>160</td><td>1089</td><td>5</td><td>40</td><td>2013-01-01 05:00:00</td><td>3</td></tr>\n",
       "\t<tr><td>2013</td><td>1</td><td>1</td><td>544</td><td>545</td><td>-1</td><td>1004</td><td>1022</td><td>-18</td><td>B6</td><td> 725</td><td>N804JB</td><td>JFK</td><td>BQN</td><td>183</td><td>1576</td><td>5</td><td>45</td><td>2013-01-01 05:00:00</td><td>4</td></tr>\n",
       "\t<tr><td>2013</td><td>1</td><td>1</td><td>554</td><td>558</td><td>-4</td><td> 740</td><td> 728</td><td> 12</td><td>UA</td><td>1696</td><td>N39463</td><td>EWR</td><td>ORD</td><td>150</td><td> 719</td><td>5</td><td>58</td><td>2013-01-01 05:00:00</td><td>5</td></tr>\n",
       "\t<tr><td>2013</td><td>1</td><td>1</td><td>559</td><td>559</td><td> 0</td><td> 702</td><td> 706</td><td> -4</td><td>B6</td><td>1806</td><td>N708JB</td><td>JFK</td><td>BOS</td><td> 44</td><td> 187</td><td>5</td><td>59</td><td>2013-01-01 05:00:00</td><td>6</td></tr>\n",
       "</tbody>\n",
       "</table>\n"
      ],
      "text/latex": [
       "A tibble: 6 × 20\n",
       "\\begin{tabular}{r|llllllllllllllllllll}\n",
       " year & month & day & dep\\_time & sched\\_dep\\_time & dep\\_delay & arr\\_time & sched\\_arr\\_time & arr\\_delay & carrier & flight & tailnum & origin & dest & air\\_time & distance & hour & minute & time\\_hour & flight\\_id\\\\\n",
       " <int> & <int> & <int> & <int> & <int> & <dbl> & <int> & <int> & <dbl> & <chr> & <int> & <chr> & <chr> & <chr> & <dbl> & <dbl> & <dbl> & <dbl> & <dttm> & <int>\\\\\n",
       "\\hline\n",
       "\t 2013 & 1 & 1 & 517 & 515 &  2 &  830 &  819 &  11 & UA & 1545 & N14228 & EWR & IAH & 227 & 1400 & 5 & 15 & 2013-01-01 05:00:00 & 1\\\\\n",
       "\t 2013 & 1 & 1 & 533 & 529 &  4 &  850 &  830 &  20 & UA & 1714 & N24211 & LGA & IAH & 227 & 1416 & 5 & 29 & 2013-01-01 05:00:00 & 2\\\\\n",
       "\t 2013 & 1 & 1 & 542 & 540 &  2 &  923 &  850 &  33 & AA & 1141 & N619AA & JFK & MIA & 160 & 1089 & 5 & 40 & 2013-01-01 05:00:00 & 3\\\\\n",
       "\t 2013 & 1 & 1 & 544 & 545 & -1 & 1004 & 1022 & -18 & B6 &  725 & N804JB & JFK & BQN & 183 & 1576 & 5 & 45 & 2013-01-01 05:00:00 & 4\\\\\n",
       "\t 2013 & 1 & 1 & 554 & 558 & -4 &  740 &  728 &  12 & UA & 1696 & N39463 & EWR & ORD & 150 &  719 & 5 & 58 & 2013-01-01 05:00:00 & 5\\\\\n",
       "\t 2013 & 1 & 1 & 559 & 559 &  0 &  702 &  706 &  -4 & B6 & 1806 & N708JB & JFK & BOS &  44 &  187 & 5 & 59 & 2013-01-01 05:00:00 & 6\\\\\n",
       "\\end{tabular}\n"
      ],
      "text/markdown": [
       "\n",
       "A tibble: 6 × 20\n",
       "\n",
       "| year &lt;int&gt; | month &lt;int&gt; | day &lt;int&gt; | dep_time &lt;int&gt; | sched_dep_time &lt;int&gt; | dep_delay &lt;dbl&gt; | arr_time &lt;int&gt; | sched_arr_time &lt;int&gt; | arr_delay &lt;dbl&gt; | carrier &lt;chr&gt; | flight &lt;int&gt; | tailnum &lt;chr&gt; | origin &lt;chr&gt; | dest &lt;chr&gt; | air_time &lt;dbl&gt; | distance &lt;dbl&gt; | hour &lt;dbl&gt; | minute &lt;dbl&gt; | time_hour &lt;dttm&gt; | flight_id &lt;int&gt; |\n",
       "|---|---|---|---|---|---|---|---|---|---|---|---|---|---|---|---|---|---|---|---|\n",
       "| 2013 | 1 | 1 | 517 | 515 |  2 |  830 |  819 |  11 | UA | 1545 | N14228 | EWR | IAH | 227 | 1400 | 5 | 15 | 2013-01-01 05:00:00 | 1 |\n",
       "| 2013 | 1 | 1 | 533 | 529 |  4 |  850 |  830 |  20 | UA | 1714 | N24211 | LGA | IAH | 227 | 1416 | 5 | 29 | 2013-01-01 05:00:00 | 2 |\n",
       "| 2013 | 1 | 1 | 542 | 540 |  2 |  923 |  850 |  33 | AA | 1141 | N619AA | JFK | MIA | 160 | 1089 | 5 | 40 | 2013-01-01 05:00:00 | 3 |\n",
       "| 2013 | 1 | 1 | 544 | 545 | -1 | 1004 | 1022 | -18 | B6 |  725 | N804JB | JFK | BQN | 183 | 1576 | 5 | 45 | 2013-01-01 05:00:00 | 4 |\n",
       "| 2013 | 1 | 1 | 554 | 558 | -4 |  740 |  728 |  12 | UA | 1696 | N39463 | EWR | ORD | 150 |  719 | 5 | 58 | 2013-01-01 05:00:00 | 5 |\n",
       "| 2013 | 1 | 1 | 559 | 559 |  0 |  702 |  706 |  -4 | B6 | 1806 | N708JB | JFK | BOS |  44 |  187 | 5 | 59 | 2013-01-01 05:00:00 | 6 |\n",
       "\n"
      ],
      "text/plain": [
       "  year month day dep_time sched_dep_time dep_delay arr_time sched_arr_time\n",
       "1 2013 1     1   517      515             2         830      819          \n",
       "2 2013 1     1   533      529             4         850      830          \n",
       "3 2013 1     1   542      540             2         923      850          \n",
       "4 2013 1     1   544      545            -1        1004     1022          \n",
       "5 2013 1     1   554      558            -4         740      728          \n",
       "6 2013 1     1   559      559             0         702      706          \n",
       "  arr_delay carrier flight tailnum origin dest air_time distance hour minute\n",
       "1  11       UA      1545   N14228  EWR    IAH  227      1400     5    15    \n",
       "2  20       UA      1714   N24211  LGA    IAH  227      1416     5    29    \n",
       "3  33       AA      1141   N619AA  JFK    MIA  160      1089     5    40    \n",
       "4 -18       B6       725   N804JB  JFK    BQN  183      1576     5    45    \n",
       "5  12       UA      1696   N39463  EWR    ORD  150       719     5    58    \n",
       "6  -4       B6      1806   N708JB  JFK    BOS   44       187     5    59    \n",
       "  time_hour           flight_id\n",
       "1 2013-01-01 05:00:00 1        \n",
       "2 2013-01-01 05:00:00 2        \n",
       "3 2013-01-01 05:00:00 3        \n",
       "4 2013-01-01 05:00:00 4        \n",
       "5 2013-01-01 05:00:00 5        \n",
       "6 2013-01-01 05:00:00 6        "
      ]
     },
     "metadata": {},
     "output_type": "display_data"
    }
   ],
   "source": [
    "# 为flights添加代理键\n",
    "flights %>%\n",
    "  arrange(year, month, day, sched_dep_time, \n",
    "          carrier, flight) %>% \n",
    "mutate(flight_id = row_number()) %>% head()\n",
    "# 这是我找的代理键\n",
    "# row_number()函数是排秩的后面有两个例子"
   ]
  },
  {
   "cell_type": "code",
   "execution_count": 6,
   "metadata": {},
   "outputs": [
    {
     "name": "stdout",
     "output_type": "stream",
     "text": [
      "Observations: 336,776\n",
      "Variables: 20\n",
      "$ year           \u001b[3m\u001b[90m<int>\u001b[39m\u001b[23m 2013, 2013, 2013, 2013, 2013, 2013, 2013, 2013, 2013,…\n",
      "$ month          \u001b[3m\u001b[90m<int>\u001b[39m\u001b[23m 1, 1, 1, 1, 1, 1, 1, 1, 1, 1, 1, 1, 1, 1, 1, 1, 1, 1,…\n",
      "$ day            \u001b[3m\u001b[90m<int>\u001b[39m\u001b[23m 1, 1, 1, 1, 1, 1, 1, 1, 1, 1, 1, 1, 1, 1, 1, 1, 1, 1,…\n",
      "$ dep_time       \u001b[3m\u001b[90m<int>\u001b[39m\u001b[23m 517, 533, 542, 544, 554, 559, 558, 559, 558, 558, 557…\n",
      "$ sched_dep_time \u001b[3m\u001b[90m<int>\u001b[39m\u001b[23m 515, 529, 540, 545, 558, 559, 600, 600, 600, 600, 600…\n",
      "$ dep_delay      \u001b[3m\u001b[90m<dbl>\u001b[39m\u001b[23m 2, 4, 2, -1, -4, 0, -2, -1, -2, -2, -3, NA, 1, 0, -5,…\n",
      "$ arr_time       \u001b[3m\u001b[90m<int>\u001b[39m\u001b[23m 830, 850, 923, 1004, 740, 702, 753, 941, 849, 853, 83…\n",
      "$ sched_arr_time \u001b[3m\u001b[90m<int>\u001b[39m\u001b[23m 819, 830, 850, 1022, 728, 706, 745, 910, 851, 856, 84…\n",
      "$ arr_delay      \u001b[3m\u001b[90m<dbl>\u001b[39m\u001b[23m 11, 20, 33, -18, 12, -4, 8, 31, -2, -3, -8, NA, -6, -…\n",
      "$ carrier        \u001b[3m\u001b[90m<chr>\u001b[39m\u001b[23m \"UA\", \"UA\", \"AA\", \"B6\", \"UA\", \"B6\", \"AA\", \"AA\", \"B6\",…\n",
      "$ flight         \u001b[3m\u001b[90m<int>\u001b[39m\u001b[23m 1545, 1714, 1141, 725, 1696, 1806, 301, 707, 49, 71, …\n",
      "$ tailnum        \u001b[3m\u001b[90m<chr>\u001b[39m\u001b[23m \"N14228\", \"N24211\", \"N619AA\", \"N804JB\", \"N39463\", \"N7…\n",
      "$ origin         \u001b[3m\u001b[90m<chr>\u001b[39m\u001b[23m \"EWR\", \"LGA\", \"JFK\", \"JFK\", \"EWR\", \"JFK\", \"LGA\", \"LGA…\n",
      "$ dest           \u001b[3m\u001b[90m<chr>\u001b[39m\u001b[23m \"IAH\", \"IAH\", \"MIA\", \"BQN\", \"ORD\", \"BOS\", \"ORD\", \"DFW…\n",
      "$ air_time       \u001b[3m\u001b[90m<dbl>\u001b[39m\u001b[23m 227, 227, 160, 183, 150, 44, 138, 257, 149, 158, 140,…\n",
      "$ distance       \u001b[3m\u001b[90m<dbl>\u001b[39m\u001b[23m 1400, 1416, 1089, 1576, 719, 187, 733, 1389, 1028, 10…\n",
      "$ hour           \u001b[3m\u001b[90m<dbl>\u001b[39m\u001b[23m 5, 5, 5, 5, 5, 5, 6, 6, 6, 6, 6, 6, 6, 6, 6, 6, 6, 6,…\n",
      "$ minute         \u001b[3m\u001b[90m<dbl>\u001b[39m\u001b[23m 15, 29, 40, 45, 58, 59, 0, 0, 0, 0, 0, 0, 0, 0, 0, 0,…\n",
      "$ time_hour      \u001b[3m\u001b[90m<dttm>\u001b[39m\u001b[23m 2013-01-01 05:00:00, 2013-01-01 05:00:00, 2013-01-01…\n",
      "$ flight_id      \u001b[3m\u001b[90m<int>\u001b[39m\u001b[23m 1, 2, 3, 4, 5, 6, 7, 8, 9, 10, 11, 12, 13, 14, 15, 16…\n"
     ]
    }
   ],
   "source": [
    "flights %>%\n",
    "  arrange(year, month, day, sched_dep_time, carrier, flight) %>%\n",
    "  mutate(flight_id = row_number()) %>%\n",
    "  glimpse()\n",
    "\n",
    "# 这是网上找的，glimpse()函数看着理解吧"
   ]
  },
  {
   "cell_type": "code",
   "execution_count": 7,
   "metadata": {},
   "outputs": [
    {
     "data": {
      "text/html": [
       "<table>\n",
       "<caption>A data.frame: 6 × 12</caption>\n",
       "<thead>\n",
       "\t<tr><th scope=col>mpg</th><th scope=col>cyl</th><th scope=col>disp</th><th scope=col>hp</th><th scope=col>drat</th><th scope=col>wt</th><th scope=col>qsec</th><th scope=col>vs</th><th scope=col>am</th><th scope=col>gear</th><th scope=col>carb</th><th scope=col>row_number() == 1L</th></tr>\n",
       "\t<tr><th scope=col>&lt;dbl&gt;</th><th scope=col>&lt;dbl&gt;</th><th scope=col>&lt;dbl&gt;</th><th scope=col>&lt;dbl&gt;</th><th scope=col>&lt;dbl&gt;</th><th scope=col>&lt;dbl&gt;</th><th scope=col>&lt;dbl&gt;</th><th scope=col>&lt;dbl&gt;</th><th scope=col>&lt;dbl&gt;</th><th scope=col>&lt;dbl&gt;</th><th scope=col>&lt;dbl&gt;</th><th scope=col>&lt;lgl&gt;</th></tr>\n",
       "</thead>\n",
       "<tbody>\n",
       "\t<tr><td>21.0</td><td>6</td><td>160</td><td>110</td><td>3.90</td><td>2.620</td><td>16.46</td><td>0</td><td>1</td><td>4</td><td>4</td><td> TRUE</td></tr>\n",
       "\t<tr><td>21.0</td><td>6</td><td>160</td><td>110</td><td>3.90</td><td>2.875</td><td>17.02</td><td>0</td><td>1</td><td>4</td><td>4</td><td>FALSE</td></tr>\n",
       "\t<tr><td>22.8</td><td>4</td><td>108</td><td> 93</td><td>3.85</td><td>2.320</td><td>18.61</td><td>1</td><td>1</td><td>4</td><td>1</td><td>FALSE</td></tr>\n",
       "\t<tr><td>21.4</td><td>6</td><td>258</td><td>110</td><td>3.08</td><td>3.215</td><td>19.44</td><td>1</td><td>0</td><td>3</td><td>1</td><td>FALSE</td></tr>\n",
       "\t<tr><td>18.7</td><td>8</td><td>360</td><td>175</td><td>3.15</td><td>3.440</td><td>17.02</td><td>0</td><td>0</td><td>3</td><td>2</td><td>FALSE</td></tr>\n",
       "\t<tr><td>18.1</td><td>6</td><td>225</td><td>105</td><td>2.76</td><td>3.460</td><td>20.22</td><td>1</td><td>0</td><td>3</td><td>1</td><td>FALSE</td></tr>\n",
       "</tbody>\n",
       "</table>\n"
      ],
      "text/latex": [
       "A data.frame: 6 × 12\n",
       "\\begin{tabular}{r|llllllllllll}\n",
       " mpg & cyl & disp & hp & drat & wt & qsec & vs & am & gear & carb & row\\_number() == 1L\\\\\n",
       " <dbl> & <dbl> & <dbl> & <dbl> & <dbl> & <dbl> & <dbl> & <dbl> & <dbl> & <dbl> & <dbl> & <lgl>\\\\\n",
       "\\hline\n",
       "\t 21.0 & 6 & 160 & 110 & 3.90 & 2.620 & 16.46 & 0 & 1 & 4 & 4 &  TRUE\\\\\n",
       "\t 21.0 & 6 & 160 & 110 & 3.90 & 2.875 & 17.02 & 0 & 1 & 4 & 4 & FALSE\\\\\n",
       "\t 22.8 & 4 & 108 &  93 & 3.85 & 2.320 & 18.61 & 1 & 1 & 4 & 1 & FALSE\\\\\n",
       "\t 21.4 & 6 & 258 & 110 & 3.08 & 3.215 & 19.44 & 1 & 0 & 3 & 1 & FALSE\\\\\n",
       "\t 18.7 & 8 & 360 & 175 & 3.15 & 3.440 & 17.02 & 0 & 0 & 3 & 2 & FALSE\\\\\n",
       "\t 18.1 & 6 & 225 & 105 & 2.76 & 3.460 & 20.22 & 1 & 0 & 3 & 1 & FALSE\\\\\n",
       "\\end{tabular}\n"
      ],
      "text/markdown": [
       "\n",
       "A data.frame: 6 × 12\n",
       "\n",
       "| mpg &lt;dbl&gt; | cyl &lt;dbl&gt; | disp &lt;dbl&gt; | hp &lt;dbl&gt; | drat &lt;dbl&gt; | wt &lt;dbl&gt; | qsec &lt;dbl&gt; | vs &lt;dbl&gt; | am &lt;dbl&gt; | gear &lt;dbl&gt; | carb &lt;dbl&gt; | row_number() == 1L &lt;lgl&gt; |\n",
       "|---|---|---|---|---|---|---|---|---|---|---|---|\n",
       "| 21.0 | 6 | 160 | 110 | 3.90 | 2.620 | 16.46 | 0 | 1 | 4 | 4 |  TRUE |\n",
       "| 21.0 | 6 | 160 | 110 | 3.90 | 2.875 | 17.02 | 0 | 1 | 4 | 4 | FALSE |\n",
       "| 22.8 | 4 | 108 |  93 | 3.85 | 2.320 | 18.61 | 1 | 1 | 4 | 1 | FALSE |\n",
       "| 21.4 | 6 | 258 | 110 | 3.08 | 3.215 | 19.44 | 1 | 0 | 3 | 1 | FALSE |\n",
       "| 18.7 | 8 | 360 | 175 | 3.15 | 3.440 | 17.02 | 0 | 0 | 3 | 2 | FALSE |\n",
       "| 18.1 | 6 | 225 | 105 | 2.76 | 3.460 | 20.22 | 1 | 0 | 3 | 1 | FALSE |\n",
       "\n"
      ],
      "text/plain": [
       "  mpg  cyl disp hp  drat wt    qsec  vs am gear carb row_number() == 1L\n",
       "1 21.0 6   160  110 3.90 2.620 16.46 0  1  4    4     TRUE             \n",
       "2 21.0 6   160  110 3.90 2.875 17.02 0  1  4    4    FALSE             \n",
       "3 22.8 4   108   93 3.85 2.320 18.61 1  1  4    1    FALSE             \n",
       "4 21.4 6   258  110 3.08 3.215 19.44 1  0  3    1    FALSE             \n",
       "5 18.7 8   360  175 3.15 3.440 17.02 0  0  3    2    FALSE             \n",
       "6 18.1 6   225  105 2.76 3.460 20.22 1  0  3    1    FALSE             "
      ]
     },
     "metadata": {},
     "output_type": "display_data"
    },
    {
     "data": {
      "text/html": [
       "<table>\n",
       "<caption>A data.frame: 6 × 11</caption>\n",
       "<thead>\n",
       "\t<tr><th scope=col>mpg</th><th scope=col>cyl</th><th scope=col>disp</th><th scope=col>hp</th><th scope=col>drat</th><th scope=col>wt</th><th scope=col>qsec</th><th scope=col>vs</th><th scope=col>am</th><th scope=col>gear</th><th scope=col>carb</th></tr>\n",
       "\t<tr><th scope=col>&lt;dbl&gt;</th><th scope=col>&lt;dbl&gt;</th><th scope=col>&lt;dbl&gt;</th><th scope=col>&lt;dbl&gt;</th><th scope=col>&lt;dbl&gt;</th><th scope=col>&lt;dbl&gt;</th><th scope=col>&lt;dbl&gt;</th><th scope=col>&lt;dbl&gt;</th><th scope=col>&lt;dbl&gt;</th><th scope=col>&lt;dbl&gt;</th><th scope=col>&lt;dbl&gt;</th></tr>\n",
       "</thead>\n",
       "<tbody>\n",
       "\t<tr><td>21.0</td><td>6</td><td>160</td><td>110</td><td>3.90</td><td>2.620</td><td>16.46</td><td>0</td><td>1</td><td>4</td><td>4</td></tr>\n",
       "\t<tr><td>21.0</td><td>6</td><td>160</td><td>110</td><td>3.90</td><td>2.875</td><td>17.02</td><td>0</td><td>1</td><td>4</td><td>4</td></tr>\n",
       "\t<tr><td>22.8</td><td>4</td><td>108</td><td> 93</td><td>3.85</td><td>2.320</td><td>18.61</td><td>1</td><td>1</td><td>4</td><td>1</td></tr>\n",
       "\t<tr><td>21.4</td><td>6</td><td>258</td><td>110</td><td>3.08</td><td>3.215</td><td>19.44</td><td>1</td><td>0</td><td>3</td><td>1</td></tr>\n",
       "\t<tr><td>18.7</td><td>8</td><td>360</td><td>175</td><td>3.15</td><td>3.440</td><td>17.02</td><td>0</td><td>0</td><td>3</td><td>2</td></tr>\n",
       "\t<tr><td>18.1</td><td>6</td><td>225</td><td>105</td><td>2.76</td><td>3.460</td><td>20.22</td><td>1</td><td>0</td><td>3</td><td>1</td></tr>\n",
       "</tbody>\n",
       "</table>\n"
      ],
      "text/latex": [
       "A data.frame: 6 × 11\n",
       "\\begin{tabular}{r|lllllllllll}\n",
       " mpg & cyl & disp & hp & drat & wt & qsec & vs & am & gear & carb\\\\\n",
       " <dbl> & <dbl> & <dbl> & <dbl> & <dbl> & <dbl> & <dbl> & <dbl> & <dbl> & <dbl> & <dbl>\\\\\n",
       "\\hline\n",
       "\t 21.0 & 6 & 160 & 110 & 3.90 & 2.620 & 16.46 & 0 & 1 & 4 & 4\\\\\n",
       "\t 21.0 & 6 & 160 & 110 & 3.90 & 2.875 & 17.02 & 0 & 1 & 4 & 4\\\\\n",
       "\t 22.8 & 4 & 108 &  93 & 3.85 & 2.320 & 18.61 & 1 & 1 & 4 & 1\\\\\n",
       "\t 21.4 & 6 & 258 & 110 & 3.08 & 3.215 & 19.44 & 1 & 0 & 3 & 1\\\\\n",
       "\t 18.7 & 8 & 360 & 175 & 3.15 & 3.440 & 17.02 & 0 & 0 & 3 & 2\\\\\n",
       "\t 18.1 & 6 & 225 & 105 & 2.76 & 3.460 & 20.22 & 1 & 0 & 3 & 1\\\\\n",
       "\\end{tabular}\n"
      ],
      "text/markdown": [
       "\n",
       "A data.frame: 6 × 11\n",
       "\n",
       "| mpg &lt;dbl&gt; | cyl &lt;dbl&gt; | disp &lt;dbl&gt; | hp &lt;dbl&gt; | drat &lt;dbl&gt; | wt &lt;dbl&gt; | qsec &lt;dbl&gt; | vs &lt;dbl&gt; | am &lt;dbl&gt; | gear &lt;dbl&gt; | carb &lt;dbl&gt; |\n",
       "|---|---|---|---|---|---|---|---|---|---|---|\n",
       "| 21.0 | 6 | 160 | 110 | 3.90 | 2.620 | 16.46 | 0 | 1 | 4 | 4 |\n",
       "| 21.0 | 6 | 160 | 110 | 3.90 | 2.875 | 17.02 | 0 | 1 | 4 | 4 |\n",
       "| 22.8 | 4 | 108 |  93 | 3.85 | 2.320 | 18.61 | 1 | 1 | 4 | 1 |\n",
       "| 21.4 | 6 | 258 | 110 | 3.08 | 3.215 | 19.44 | 1 | 0 | 3 | 1 |\n",
       "| 18.7 | 8 | 360 | 175 | 3.15 | 3.440 | 17.02 | 0 | 0 | 3 | 2 |\n",
       "| 18.1 | 6 | 225 | 105 | 2.76 | 3.460 | 20.22 | 1 | 0 | 3 | 1 |\n",
       "\n"
      ],
      "text/plain": [
       "  mpg  cyl disp hp  drat wt    qsec  vs am gear carb\n",
       "1 21.0 6   160  110 3.90 2.620 16.46 0  1  4    4   \n",
       "2 21.0 6   160  110 3.90 2.875 17.02 0  1  4    4   \n",
       "3 22.8 4   108   93 3.85 2.320 18.61 1  1  4    1   \n",
       "4 21.4 6   258  110 3.08 3.215 19.44 1  0  3    1   \n",
       "5 18.7 8   360  175 3.15 3.440 17.02 0  0  3    2   \n",
       "6 18.1 6   225  105 2.76 3.460 20.22 1  0  3    1   "
      ]
     },
     "metadata": {},
     "output_type": "display_data"
    }
   ],
   "source": [
    "# 例子\n",
    "mutate(mtcars, row_number() == 1L) %>% head()\n",
    "\n",
    "mtcars %>% filter(between(row_number(), 1, 10)) %>% head()"
   ]
  },
  {
   "cell_type": "code",
   "execution_count": 8,
   "metadata": {},
   "outputs": [
    {
     "data": {
      "text/html": [
       "<table>\n",
       "<caption>A data.frame: 6 × 22</caption>\n",
       "<thead>\n",
       "\t<tr><th scope=col>playerID</th><th scope=col>yearID</th><th scope=col>stint</th><th scope=col>teamID</th><th scope=col>lgID</th><th scope=col>G</th><th scope=col>AB</th><th scope=col>R</th><th scope=col>H</th><th scope=col>X2B</th><th scope=col>⋯</th><th scope=col>RBI</th><th scope=col>SB</th><th scope=col>CS</th><th scope=col>BB</th><th scope=col>SO</th><th scope=col>IBB</th><th scope=col>HBP</th><th scope=col>SH</th><th scope=col>SF</th><th scope=col>GIDP</th></tr>\n",
       "\t<tr><th scope=col>&lt;chr&gt;</th><th scope=col>&lt;int&gt;</th><th scope=col>&lt;int&gt;</th><th scope=col>&lt;fct&gt;</th><th scope=col>&lt;fct&gt;</th><th scope=col>&lt;int&gt;</th><th scope=col>&lt;int&gt;</th><th scope=col>&lt;int&gt;</th><th scope=col>&lt;int&gt;</th><th scope=col>&lt;int&gt;</th><th scope=col>⋯</th><th scope=col>&lt;int&gt;</th><th scope=col>&lt;int&gt;</th><th scope=col>&lt;int&gt;</th><th scope=col>&lt;int&gt;</th><th scope=col>&lt;int&gt;</th><th scope=col>&lt;int&gt;</th><th scope=col>&lt;int&gt;</th><th scope=col>&lt;int&gt;</th><th scope=col>&lt;int&gt;</th><th scope=col>&lt;int&gt;</th></tr>\n",
       "</thead>\n",
       "<tbody>\n",
       "\t<tr><td>abercda01</td><td>1871</td><td>1</td><td>TRO</td><td>NA</td><td> 1</td><td>  4</td><td> 0</td><td> 0</td><td> 0</td><td>⋯</td><td> 0</td><td>0</td><td>0</td><td>0</td><td>0</td><td>NA</td><td>NA</td><td>NA</td><td>NA</td><td>0</td></tr>\n",
       "\t<tr><td>addybo01 </td><td>1871</td><td>1</td><td>RC1</td><td>NA</td><td>25</td><td>118</td><td>30</td><td>32</td><td> 6</td><td>⋯</td><td>13</td><td>8</td><td>1</td><td>4</td><td>0</td><td>NA</td><td>NA</td><td>NA</td><td>NA</td><td>0</td></tr>\n",
       "\t<tr><td>allisar01</td><td>1871</td><td>1</td><td>CL1</td><td>NA</td><td>29</td><td>137</td><td>28</td><td>40</td><td> 4</td><td>⋯</td><td>19</td><td>3</td><td>1</td><td>2</td><td>5</td><td>NA</td><td>NA</td><td>NA</td><td>NA</td><td>1</td></tr>\n",
       "\t<tr><td>allisdo01</td><td>1871</td><td>1</td><td>WS3</td><td>NA</td><td>27</td><td>133</td><td>28</td><td>44</td><td>10</td><td>⋯</td><td>27</td><td>1</td><td>1</td><td>0</td><td>2</td><td>NA</td><td>NA</td><td>NA</td><td>NA</td><td>0</td></tr>\n",
       "\t<tr><td>ansonca01</td><td>1871</td><td>1</td><td>RC1</td><td>NA</td><td>25</td><td>120</td><td>29</td><td>39</td><td>11</td><td>⋯</td><td>16</td><td>6</td><td>2</td><td>2</td><td>1</td><td>NA</td><td>NA</td><td>NA</td><td>NA</td><td>0</td></tr>\n",
       "\t<tr><td>armstbo01</td><td>1871</td><td>1</td><td>FW1</td><td>NA</td><td>12</td><td> 49</td><td> 9</td><td>11</td><td> 2</td><td>⋯</td><td> 5</td><td>0</td><td>1</td><td>0</td><td>1</td><td>NA</td><td>NA</td><td>NA</td><td>NA</td><td>0</td></tr>\n",
       "</tbody>\n",
       "</table>\n"
      ],
      "text/latex": [
       "A data.frame: 6 × 22\n",
       "\\begin{tabular}{r|llllllllllllllllllllll}\n",
       " playerID & yearID & stint & teamID & lgID & G & AB & R & H & X2B & X3B & HR & RBI & SB & CS & BB & SO & IBB & HBP & SH & SF & GIDP\\\\\n",
       " <chr> & <int> & <int> & <fct> & <fct> & <int> & <int> & <int> & <int> & <int> & <int> & <int> & <int> & <int> & <int> & <int> & <int> & <int> & <int> & <int> & <int> & <int>\\\\\n",
       "\\hline\n",
       "\t abercda01 & 1871 & 1 & TRO & NA &  1 &   4 &  0 &  0 &  0 & 0 & 0 &  0 & 0 & 0 & 0 & 0 & NA & NA & NA & NA & 0\\\\\n",
       "\t addybo01  & 1871 & 1 & RC1 & NA & 25 & 118 & 30 & 32 &  6 & 0 & 0 & 13 & 8 & 1 & 4 & 0 & NA & NA & NA & NA & 0\\\\\n",
       "\t allisar01 & 1871 & 1 & CL1 & NA & 29 & 137 & 28 & 40 &  4 & 5 & 0 & 19 & 3 & 1 & 2 & 5 & NA & NA & NA & NA & 1\\\\\n",
       "\t allisdo01 & 1871 & 1 & WS3 & NA & 27 & 133 & 28 & 44 & 10 & 2 & 2 & 27 & 1 & 1 & 0 & 2 & NA & NA & NA & NA & 0\\\\\n",
       "\t ansonca01 & 1871 & 1 & RC1 & NA & 25 & 120 & 29 & 39 & 11 & 3 & 0 & 16 & 6 & 2 & 2 & 1 & NA & NA & NA & NA & 0\\\\\n",
       "\t armstbo01 & 1871 & 1 & FW1 & NA & 12 &  49 &  9 & 11 &  2 & 1 & 0 &  5 & 0 & 1 & 0 & 1 & NA & NA & NA & NA & 0\\\\\n",
       "\\end{tabular}\n"
      ],
      "text/markdown": [
       "\n",
       "A data.frame: 6 × 22\n",
       "\n",
       "| playerID &lt;chr&gt; | yearID &lt;int&gt; | stint &lt;int&gt; | teamID &lt;fct&gt; | lgID &lt;fct&gt; | G &lt;int&gt; | AB &lt;int&gt; | R &lt;int&gt; | H &lt;int&gt; | X2B &lt;int&gt; | ⋯ ⋯ | RBI &lt;int&gt; | SB &lt;int&gt; | CS &lt;int&gt; | BB &lt;int&gt; | SO &lt;int&gt; | IBB &lt;int&gt; | HBP &lt;int&gt; | SH &lt;int&gt; | SF &lt;int&gt; | GIDP &lt;int&gt; |\n",
       "|---|---|---|---|---|---|---|---|---|---|---|---|---|---|---|---|---|---|---|---|---|\n",
       "| abercda01 | 1871 | 1 | TRO | NA |  1 |   4 |  0 |  0 |  0 | ⋯ |  0 | 0 | 0 | 0 | 0 | NA | NA | NA | NA | 0 |\n",
       "| addybo01  | 1871 | 1 | RC1 | NA | 25 | 118 | 30 | 32 |  6 | ⋯ | 13 | 8 | 1 | 4 | 0 | NA | NA | NA | NA | 0 |\n",
       "| allisar01 | 1871 | 1 | CL1 | NA | 29 | 137 | 28 | 40 |  4 | ⋯ | 19 | 3 | 1 | 2 | 5 | NA | NA | NA | NA | 1 |\n",
       "| allisdo01 | 1871 | 1 | WS3 | NA | 27 | 133 | 28 | 44 | 10 | ⋯ | 27 | 1 | 1 | 0 | 2 | NA | NA | NA | NA | 0 |\n",
       "| ansonca01 | 1871 | 1 | RC1 | NA | 25 | 120 | 29 | 39 | 11 | ⋯ | 16 | 6 | 2 | 2 | 1 | NA | NA | NA | NA | 0 |\n",
       "| armstbo01 | 1871 | 1 | FW1 | NA | 12 |  49 |  9 | 11 |  2 | ⋯ |  5 | 0 | 1 | 0 | 1 | NA | NA | NA | NA | 0 |\n",
       "\n"
      ],
      "text/plain": [
       "  playerID  yearID stint teamID lgID G  AB  R  H  X2B ⋯ RBI SB CS BB SO IBB HBP\n",
       "1 abercda01 1871   1     TRO    NA    1   4  0  0  0  ⋯  0  0  0  0  0  NA  NA \n",
       "2 addybo01  1871   1     RC1    NA   25 118 30 32  6  ⋯ 13  8  1  4  0  NA  NA \n",
       "3 allisar01 1871   1     CL1    NA   29 137 28 40  4  ⋯ 19  3  1  2  5  NA  NA \n",
       "4 allisdo01 1871   1     WS3    NA   27 133 28 44 10  ⋯ 27  1  1  0  2  NA  NA \n",
       "5 ansonca01 1871   1     RC1    NA   25 120 29 39 11  ⋯ 16  6  2  2  1  NA  NA \n",
       "6 armstbo01 1871   1     FW1    NA   12  49  9 11  2  ⋯  5  0  1  0  1  NA  NA \n",
       "  SH SF GIDP\n",
       "1 NA NA 0   \n",
       "2 NA NA 0   \n",
       "3 NA NA 1   \n",
       "4 NA NA 0   \n",
       "5 NA NA 0   \n",
       "6 NA NA 0   "
      ]
     },
     "metadata": {},
     "output_type": "display_data"
    },
    {
     "data": {
      "text/html": [
       "<table>\n",
       "<caption>A tibble: 6 × 5</caption>\n",
       "<thead>\n",
       "\t<tr><th scope=col>year</th><th scope=col>sex</th><th scope=col>name</th><th scope=col>n</th><th scope=col>prop</th></tr>\n",
       "\t<tr><th scope=col>&lt;dbl&gt;</th><th scope=col>&lt;chr&gt;</th><th scope=col>&lt;chr&gt;</th><th scope=col>&lt;int&gt;</th><th scope=col>&lt;dbl&gt;</th></tr>\n",
       "</thead>\n",
       "<tbody>\n",
       "\t<tr><td>1880</td><td>F</td><td>Mary     </td><td>7065</td><td>0.07238359</td></tr>\n",
       "\t<tr><td>1880</td><td>F</td><td>Anna     </td><td>2604</td><td>0.02667896</td></tr>\n",
       "\t<tr><td>1880</td><td>F</td><td>Emma     </td><td>2003</td><td>0.02052149</td></tr>\n",
       "\t<tr><td>1880</td><td>F</td><td>Elizabeth</td><td>1939</td><td>0.01986579</td></tr>\n",
       "\t<tr><td>1880</td><td>F</td><td>Minnie   </td><td>1746</td><td>0.01788843</td></tr>\n",
       "\t<tr><td>1880</td><td>F</td><td>Margaret </td><td>1578</td><td>0.01616720</td></tr>\n",
       "</tbody>\n",
       "</table>\n"
      ],
      "text/latex": [
       "A tibble: 6 × 5\n",
       "\\begin{tabular}{r|lllll}\n",
       " year & sex & name & n & prop\\\\\n",
       " <dbl> & <chr> & <chr> & <int> & <dbl>\\\\\n",
       "\\hline\n",
       "\t 1880 & F & Mary      & 7065 & 0.07238359\\\\\n",
       "\t 1880 & F & Anna      & 2604 & 0.02667896\\\\\n",
       "\t 1880 & F & Emma      & 2003 & 0.02052149\\\\\n",
       "\t 1880 & F & Elizabeth & 1939 & 0.01986579\\\\\n",
       "\t 1880 & F & Minnie    & 1746 & 0.01788843\\\\\n",
       "\t 1880 & F & Margaret  & 1578 & 0.01616720\\\\\n",
       "\\end{tabular}\n"
      ],
      "text/markdown": [
       "\n",
       "A tibble: 6 × 5\n",
       "\n",
       "| year &lt;dbl&gt; | sex &lt;chr&gt; | name &lt;chr&gt; | n &lt;int&gt; | prop &lt;dbl&gt; |\n",
       "|---|---|---|---|---|\n",
       "| 1880 | F | Mary      | 7065 | 0.07238359 |\n",
       "| 1880 | F | Anna      | 2604 | 0.02667896 |\n",
       "| 1880 | F | Emma      | 2003 | 0.02052149 |\n",
       "| 1880 | F | Elizabeth | 1939 | 0.01986579 |\n",
       "| 1880 | F | Minnie    | 1746 | 0.01788843 |\n",
       "| 1880 | F | Margaret  | 1578 | 0.01616720 |\n",
       "\n"
      ],
      "text/plain": [
       "  year sex name      n    prop      \n",
       "1 1880 F   Mary      7065 0.07238359\n",
       "2 1880 F   Anna      2604 0.02667896\n",
       "3 1880 F   Emma      2003 0.02052149\n",
       "4 1880 F   Elizabeth 1939 0.01986579\n",
       "5 1880 F   Minnie    1746 0.01788843\n",
       "6 1880 F   Margaret  1578 0.01616720"
      ]
     },
     "metadata": {},
     "output_type": "display_data"
    },
    {
     "data": {
      "text/html": [
       "<table>\n",
       "<caption>A tibble: 6 × 11</caption>\n",
       "<thead>\n",
       "\t<tr><th scope=col>lat</th><th scope=col>long</th><th scope=col>year</th><th scope=col>month</th><th scope=col>surftemp</th><th scope=col>temp</th><th scope=col>pressure</th><th scope=col>ozone</th><th scope=col>cloudlow</th><th scope=col>cloudmid</th><th scope=col>cloudhigh</th></tr>\n",
       "\t<tr><th scope=col>&lt;dbl&gt;</th><th scope=col>&lt;dbl&gt;</th><th scope=col>&lt;int&gt;</th><th scope=col>&lt;int&gt;</th><th scope=col>&lt;dbl&gt;</th><th scope=col>&lt;dbl&gt;</th><th scope=col>&lt;dbl&gt;</th><th scope=col>&lt;dbl&gt;</th><th scope=col>&lt;dbl&gt;</th><th scope=col>&lt;dbl&gt;</th><th scope=col>&lt;dbl&gt;</th></tr>\n",
       "</thead>\n",
       "<tbody>\n",
       "\t<tr><td>36.20000</td><td>-113.8</td><td>1995</td><td>1</td><td>272.7</td><td>272.1</td><td> 835</td><td>304</td><td> 7.5</td><td>34.5</td><td>26.0</td></tr>\n",
       "\t<tr><td>33.70435</td><td>-113.8</td><td>1995</td><td>1</td><td>279.5</td><td>282.2</td><td> 940</td><td>304</td><td>11.5</td><td>32.5</td><td>20.0</td></tr>\n",
       "\t<tr><td>31.20870</td><td>-113.8</td><td>1995</td><td>1</td><td>284.7</td><td>285.2</td><td> 960</td><td>298</td><td>16.5</td><td>26.0</td><td>16.0</td></tr>\n",
       "\t<tr><td>28.71304</td><td>-113.8</td><td>1995</td><td>1</td><td>289.3</td><td>290.7</td><td> 990</td><td>276</td><td>20.5</td><td>14.5</td><td>13.0</td></tr>\n",
       "\t<tr><td>26.21739</td><td>-113.8</td><td>1995</td><td>1</td><td>292.2</td><td>292.7</td><td>1000</td><td>274</td><td>26.0</td><td>10.5</td><td> 7.5</td></tr>\n",
       "\t<tr><td>23.72174</td><td>-113.8</td><td>1995</td><td>1</td><td>294.1</td><td>293.6</td><td>1000</td><td>264</td><td>30.0</td><td> 9.5</td><td> 8.0</td></tr>\n",
       "</tbody>\n",
       "</table>\n"
      ],
      "text/latex": [
       "A tibble: 6 × 11\n",
       "\\begin{tabular}{r|lllllllllll}\n",
       " lat & long & year & month & surftemp & temp & pressure & ozone & cloudlow & cloudmid & cloudhigh\\\\\n",
       " <dbl> & <dbl> & <int> & <int> & <dbl> & <dbl> & <dbl> & <dbl> & <dbl> & <dbl> & <dbl>\\\\\n",
       "\\hline\n",
       "\t 36.20000 & -113.8 & 1995 & 1 & 272.7 & 272.1 &  835 & 304 &  7.5 & 34.5 & 26.0\\\\\n",
       "\t 33.70435 & -113.8 & 1995 & 1 & 279.5 & 282.2 &  940 & 304 & 11.5 & 32.5 & 20.0\\\\\n",
       "\t 31.20870 & -113.8 & 1995 & 1 & 284.7 & 285.2 &  960 & 298 & 16.5 & 26.0 & 16.0\\\\\n",
       "\t 28.71304 & -113.8 & 1995 & 1 & 289.3 & 290.7 &  990 & 276 & 20.5 & 14.5 & 13.0\\\\\n",
       "\t 26.21739 & -113.8 & 1995 & 1 & 292.2 & 292.7 & 1000 & 274 & 26.0 & 10.5 &  7.5\\\\\n",
       "\t 23.72174 & -113.8 & 1995 & 1 & 294.1 & 293.6 & 1000 & 264 & 30.0 &  9.5 &  8.0\\\\\n",
       "\\end{tabular}\n"
      ],
      "text/markdown": [
       "\n",
       "A tibble: 6 × 11\n",
       "\n",
       "| lat &lt;dbl&gt; | long &lt;dbl&gt; | year &lt;int&gt; | month &lt;int&gt; | surftemp &lt;dbl&gt; | temp &lt;dbl&gt; | pressure &lt;dbl&gt; | ozone &lt;dbl&gt; | cloudlow &lt;dbl&gt; | cloudmid &lt;dbl&gt; | cloudhigh &lt;dbl&gt; |\n",
       "|---|---|---|---|---|---|---|---|---|---|---|\n",
       "| 36.20000 | -113.8 | 1995 | 1 | 272.7 | 272.1 |  835 | 304 |  7.5 | 34.5 | 26.0 |\n",
       "| 33.70435 | -113.8 | 1995 | 1 | 279.5 | 282.2 |  940 | 304 | 11.5 | 32.5 | 20.0 |\n",
       "| 31.20870 | -113.8 | 1995 | 1 | 284.7 | 285.2 |  960 | 298 | 16.5 | 26.0 | 16.0 |\n",
       "| 28.71304 | -113.8 | 1995 | 1 | 289.3 | 290.7 |  990 | 276 | 20.5 | 14.5 | 13.0 |\n",
       "| 26.21739 | -113.8 | 1995 | 1 | 292.2 | 292.7 | 1000 | 274 | 26.0 | 10.5 |  7.5 |\n",
       "| 23.72174 | -113.8 | 1995 | 1 | 294.1 | 293.6 | 1000 | 264 | 30.0 |  9.5 |  8.0 |\n",
       "\n"
      ],
      "text/plain": [
       "  lat      long   year month surftemp temp  pressure ozone cloudlow cloudmid\n",
       "1 36.20000 -113.8 1995 1     272.7    272.1  835     304    7.5     34.5    \n",
       "2 33.70435 -113.8 1995 1     279.5    282.2  940     304   11.5     32.5    \n",
       "3 31.20870 -113.8 1995 1     284.7    285.2  960     298   16.5     26.0    \n",
       "4 28.71304 -113.8 1995 1     289.3    290.7  990     276   20.5     14.5    \n",
       "5 26.21739 -113.8 1995 1     292.2    292.7 1000     274   26.0     10.5    \n",
       "6 23.72174 -113.8 1995 1     294.1    293.6 1000     264   30.0      9.5    \n",
       "  cloudhigh\n",
       "1 26.0     \n",
       "2 20.0     \n",
       "3 16.0     \n",
       "4 13.0     \n",
       "5  7.5     \n",
       "6  8.0     "
      ]
     },
     "metadata": {},
     "output_type": "display_data"
    },
    {
     "data": {
      "text/html": [
       "<table>\n",
       "<caption>A tibble: 6 × 12</caption>\n",
       "<thead>\n",
       "\t<tr><th scope=col>id</th><th scope=col>make</th><th scope=col>model</th><th scope=col>year</th><th scope=col>class</th><th scope=col>trans</th><th scope=col>drive</th><th scope=col>cyl</th><th scope=col>displ</th><th scope=col>fuel</th><th scope=col>hwy</th><th scope=col>cty</th></tr>\n",
       "\t<tr><th scope=col>&lt;int&gt;</th><th scope=col>&lt;chr&gt;</th><th scope=col>&lt;chr&gt;</th><th scope=col>&lt;int&gt;</th><th scope=col>&lt;chr&gt;</th><th scope=col>&lt;chr&gt;</th><th scope=col>&lt;chr&gt;</th><th scope=col>&lt;int&gt;</th><th scope=col>&lt;dbl&gt;</th><th scope=col>&lt;chr&gt;</th><th scope=col>&lt;int&gt;</th><th scope=col>&lt;int&gt;</th></tr>\n",
       "</thead>\n",
       "<tbody>\n",
       "\t<tr><td>27550</td><td>AM General</td><td>DJ Po Vehicle 2WD  </td><td>1984</td><td>Special Purpose Vehicle 2WD</td><td>Automatic 3-spd</td><td>2-Wheel Drive   </td><td>4</td><td>2.5</td><td>Regular</td><td>17</td><td>18</td></tr>\n",
       "\t<tr><td>28426</td><td>AM General</td><td>DJ Po Vehicle 2WD  </td><td>1984</td><td>Special Purpose Vehicle 2WD</td><td>Automatic 3-spd</td><td>2-Wheel Drive   </td><td>4</td><td>2.5</td><td>Regular</td><td>17</td><td>18</td></tr>\n",
       "\t<tr><td>27549</td><td>AM General</td><td>FJ8c Post Office   </td><td>1984</td><td>Special Purpose Vehicle 2WD</td><td>Automatic 3-spd</td><td>2-Wheel Drive   </td><td>6</td><td>4.2</td><td>Regular</td><td>13</td><td>13</td></tr>\n",
       "\t<tr><td>28425</td><td>AM General</td><td>FJ8c Post Office   </td><td>1984</td><td>Special Purpose Vehicle 2WD</td><td>Automatic 3-spd</td><td>2-Wheel Drive   </td><td>6</td><td>4.2</td><td>Regular</td><td>13</td><td>13</td></tr>\n",
       "\t<tr><td> 1032</td><td>AM General</td><td>Post Office DJ5 2WD</td><td>1985</td><td>Special Purpose Vehicle 2WD</td><td>Automatic 3-spd</td><td>Rear-Wheel Drive</td><td>4</td><td>2.5</td><td>Regular</td><td>17</td><td>16</td></tr>\n",
       "\t<tr><td> 1033</td><td>AM General</td><td>Post Office DJ8 2WD</td><td>1985</td><td>Special Purpose Vehicle 2WD</td><td>Automatic 3-spd</td><td>Rear-Wheel Drive</td><td>6</td><td>4.2</td><td>Regular</td><td>13</td><td>13</td></tr>\n",
       "</tbody>\n",
       "</table>\n"
      ],
      "text/latex": [
       "A tibble: 6 × 12\n",
       "\\begin{tabular}{r|llllllllllll}\n",
       " id & make & model & year & class & trans & drive & cyl & displ & fuel & hwy & cty\\\\\n",
       " <int> & <chr> & <chr> & <int> & <chr> & <chr> & <chr> & <int> & <dbl> & <chr> & <int> & <int>\\\\\n",
       "\\hline\n",
       "\t 27550 & AM General & DJ Po Vehicle 2WD   & 1984 & Special Purpose Vehicle 2WD & Automatic 3-spd & 2-Wheel Drive    & 4 & 2.5 & Regular & 17 & 18\\\\\n",
       "\t 28426 & AM General & DJ Po Vehicle 2WD   & 1984 & Special Purpose Vehicle 2WD & Automatic 3-spd & 2-Wheel Drive    & 4 & 2.5 & Regular & 17 & 18\\\\\n",
       "\t 27549 & AM General & FJ8c Post Office    & 1984 & Special Purpose Vehicle 2WD & Automatic 3-spd & 2-Wheel Drive    & 6 & 4.2 & Regular & 13 & 13\\\\\n",
       "\t 28425 & AM General & FJ8c Post Office    & 1984 & Special Purpose Vehicle 2WD & Automatic 3-spd & 2-Wheel Drive    & 6 & 4.2 & Regular & 13 & 13\\\\\n",
       "\t  1032 & AM General & Post Office DJ5 2WD & 1985 & Special Purpose Vehicle 2WD & Automatic 3-spd & Rear-Wheel Drive & 4 & 2.5 & Regular & 17 & 16\\\\\n",
       "\t  1033 & AM General & Post Office DJ8 2WD & 1985 & Special Purpose Vehicle 2WD & Automatic 3-spd & Rear-Wheel Drive & 6 & 4.2 & Regular & 13 & 13\\\\\n",
       "\\end{tabular}\n"
      ],
      "text/markdown": [
       "\n",
       "A tibble: 6 × 12\n",
       "\n",
       "| id &lt;int&gt; | make &lt;chr&gt; | model &lt;chr&gt; | year &lt;int&gt; | class &lt;chr&gt; | trans &lt;chr&gt; | drive &lt;chr&gt; | cyl &lt;int&gt; | displ &lt;dbl&gt; | fuel &lt;chr&gt; | hwy &lt;int&gt; | cty &lt;int&gt; |\n",
       "|---|---|---|---|---|---|---|---|---|---|---|---|\n",
       "| 27550 | AM General | DJ Po Vehicle 2WD   | 1984 | Special Purpose Vehicle 2WD | Automatic 3-spd | 2-Wheel Drive    | 4 | 2.5 | Regular | 17 | 18 |\n",
       "| 28426 | AM General | DJ Po Vehicle 2WD   | 1984 | Special Purpose Vehicle 2WD | Automatic 3-spd | 2-Wheel Drive    | 4 | 2.5 | Regular | 17 | 18 |\n",
       "| 27549 | AM General | FJ8c Post Office    | 1984 | Special Purpose Vehicle 2WD | Automatic 3-spd | 2-Wheel Drive    | 6 | 4.2 | Regular | 13 | 13 |\n",
       "| 28425 | AM General | FJ8c Post Office    | 1984 | Special Purpose Vehicle 2WD | Automatic 3-spd | 2-Wheel Drive    | 6 | 4.2 | Regular | 13 | 13 |\n",
       "|  1032 | AM General | Post Office DJ5 2WD | 1985 | Special Purpose Vehicle 2WD | Automatic 3-spd | Rear-Wheel Drive | 4 | 2.5 | Regular | 17 | 16 |\n",
       "|  1033 | AM General | Post Office DJ8 2WD | 1985 | Special Purpose Vehicle 2WD | Automatic 3-spd | Rear-Wheel Drive | 6 | 4.2 | Regular | 13 | 13 |\n",
       "\n"
      ],
      "text/plain": [
       "  id    make       model               year class                      \n",
       "1 27550 AM General DJ Po Vehicle 2WD   1984 Special Purpose Vehicle 2WD\n",
       "2 28426 AM General DJ Po Vehicle 2WD   1984 Special Purpose Vehicle 2WD\n",
       "3 27549 AM General FJ8c Post Office    1984 Special Purpose Vehicle 2WD\n",
       "4 28425 AM General FJ8c Post Office    1984 Special Purpose Vehicle 2WD\n",
       "5  1032 AM General Post Office DJ5 2WD 1985 Special Purpose Vehicle 2WD\n",
       "6  1033 AM General Post Office DJ8 2WD 1985 Special Purpose Vehicle 2WD\n",
       "  trans           drive            cyl displ fuel    hwy cty\n",
       "1 Automatic 3-spd 2-Wheel Drive    4   2.5   Regular 17  18 \n",
       "2 Automatic 3-spd 2-Wheel Drive    4   2.5   Regular 17  18 \n",
       "3 Automatic 3-spd 2-Wheel Drive    6   4.2   Regular 13  13 \n",
       "4 Automatic 3-spd 2-Wheel Drive    6   4.2   Regular 13  13 \n",
       "5 Automatic 3-spd Rear-Wheel Drive 4   2.5   Regular 17  16 \n",
       "6 Automatic 3-spd Rear-Wheel Drive 6   4.2   Regular 13  13 "
      ]
     },
     "metadata": {},
     "output_type": "display_data"
    },
    {
     "data": {
      "text/html": [
       "<table>\n",
       "<caption>A tibble: 6 × 10</caption>\n",
       "<thead>\n",
       "\t<tr><th scope=col>carat</th><th scope=col>cut</th><th scope=col>color</th><th scope=col>clarity</th><th scope=col>depth</th><th scope=col>table</th><th scope=col>price</th><th scope=col>x</th><th scope=col>y</th><th scope=col>z</th></tr>\n",
       "\t<tr><th scope=col>&lt;dbl&gt;</th><th scope=col>&lt;ord&gt;</th><th scope=col>&lt;ord&gt;</th><th scope=col>&lt;ord&gt;</th><th scope=col>&lt;dbl&gt;</th><th scope=col>&lt;dbl&gt;</th><th scope=col>&lt;int&gt;</th><th scope=col>&lt;dbl&gt;</th><th scope=col>&lt;dbl&gt;</th><th scope=col>&lt;dbl&gt;</th></tr>\n",
       "</thead>\n",
       "<tbody>\n",
       "\t<tr><td>0.23</td><td>Ideal    </td><td>E</td><td>SI2 </td><td>61.5</td><td>55</td><td>326</td><td>3.95</td><td>3.98</td><td>2.43</td></tr>\n",
       "\t<tr><td>0.21</td><td>Premium  </td><td>E</td><td>SI1 </td><td>59.8</td><td>61</td><td>326</td><td>3.89</td><td>3.84</td><td>2.31</td></tr>\n",
       "\t<tr><td>0.23</td><td>Good     </td><td>E</td><td>VS1 </td><td>56.9</td><td>65</td><td>327</td><td>4.05</td><td>4.07</td><td>2.31</td></tr>\n",
       "\t<tr><td>0.29</td><td>Premium  </td><td>I</td><td>VS2 </td><td>62.4</td><td>58</td><td>334</td><td>4.20</td><td>4.23</td><td>2.63</td></tr>\n",
       "\t<tr><td>0.31</td><td>Good     </td><td>J</td><td>SI2 </td><td>63.3</td><td>58</td><td>335</td><td>4.34</td><td>4.35</td><td>2.75</td></tr>\n",
       "\t<tr><td>0.24</td><td>Very Good</td><td>J</td><td>VVS2</td><td>62.8</td><td>57</td><td>336</td><td>3.94</td><td>3.96</td><td>2.48</td></tr>\n",
       "</tbody>\n",
       "</table>\n"
      ],
      "text/latex": [
       "A tibble: 6 × 10\n",
       "\\begin{tabular}{r|llllllllll}\n",
       " carat & cut & color & clarity & depth & table & price & x & y & z\\\\\n",
       " <dbl> & <ord> & <ord> & <ord> & <dbl> & <dbl> & <int> & <dbl> & <dbl> & <dbl>\\\\\n",
       "\\hline\n",
       "\t 0.23 & Ideal     & E & SI2  & 61.5 & 55 & 326 & 3.95 & 3.98 & 2.43\\\\\n",
       "\t 0.21 & Premium   & E & SI1  & 59.8 & 61 & 326 & 3.89 & 3.84 & 2.31\\\\\n",
       "\t 0.23 & Good      & E & VS1  & 56.9 & 65 & 327 & 4.05 & 4.07 & 2.31\\\\\n",
       "\t 0.29 & Premium   & I & VS2  & 62.4 & 58 & 334 & 4.20 & 4.23 & 2.63\\\\\n",
       "\t 0.31 & Good      & J & SI2  & 63.3 & 58 & 335 & 4.34 & 4.35 & 2.75\\\\\n",
       "\t 0.24 & Very Good & J & VVS2 & 62.8 & 57 & 336 & 3.94 & 3.96 & 2.48\\\\\n",
       "\\end{tabular}\n"
      ],
      "text/markdown": [
       "\n",
       "A tibble: 6 × 10\n",
       "\n",
       "| carat &lt;dbl&gt; | cut &lt;ord&gt; | color &lt;ord&gt; | clarity &lt;ord&gt; | depth &lt;dbl&gt; | table &lt;dbl&gt; | price &lt;int&gt; | x &lt;dbl&gt; | y &lt;dbl&gt; | z &lt;dbl&gt; |\n",
       "|---|---|---|---|---|---|---|---|---|---|\n",
       "| 0.23 | Ideal     | E | SI2  | 61.5 | 55 | 326 | 3.95 | 3.98 | 2.43 |\n",
       "| 0.21 | Premium   | E | SI1  | 59.8 | 61 | 326 | 3.89 | 3.84 | 2.31 |\n",
       "| 0.23 | Good      | E | VS1  | 56.9 | 65 | 327 | 4.05 | 4.07 | 2.31 |\n",
       "| 0.29 | Premium   | I | VS2  | 62.4 | 58 | 334 | 4.20 | 4.23 | 2.63 |\n",
       "| 0.31 | Good      | J | SI2  | 63.3 | 58 | 335 | 4.34 | 4.35 | 2.75 |\n",
       "| 0.24 | Very Good | J | VVS2 | 62.8 | 57 | 336 | 3.94 | 3.96 | 2.48 |\n",
       "\n"
      ],
      "text/plain": [
       "  carat cut       color clarity depth table price x    y    z   \n",
       "1 0.23  Ideal     E     SI2     61.5  55    326   3.95 3.98 2.43\n",
       "2 0.21  Premium   E     SI1     59.8  61    326   3.89 3.84 2.31\n",
       "3 0.23  Good      E     VS1     56.9  65    327   4.05 4.07 2.31\n",
       "4 0.29  Premium   I     VS2     62.4  58    334   4.20 4.23 2.63\n",
       "5 0.31  Good      J     SI2     63.3  58    335   4.34 4.35 2.75\n",
       "6 0.24  Very Good J     VVS2    62.8  57    336   3.94 3.96 2.48"
      ]
     },
     "metadata": {},
     "output_type": "display_data"
    }
   ],
   "source": [
    "# 找以下数据集中的键\n",
    "# 需要安装包\n",
    "Lahman::Batting %>% head()\n",
    "babynames::babynames %>% head()\n",
    "nasaweather::atmos %>% head()\n",
    "fueleconomy::vehicles %>% head()\n",
    "ggplot2::diamonds %>% head()\n",
    "# 其实就是先了解数据，通过count()和filter()筛选看是否大于1"
   ]
  },
  {
   "cell_type": "markdown",
   "metadata": {},
   "source": [
    "## 　合并连接\n",
    "\n",
    "合并连接通过键的匹配将两个表的变量组合起来，和mutate()函数一样，连接函数会将变量添加在表的右侧"
   ]
  },
  {
   "cell_type": "code",
   "execution_count": 9,
   "metadata": {},
   "outputs": [
    {
     "data": {
      "text/html": [
       "<table>\n",
       "<caption>A tibble: 6 × 8</caption>\n",
       "<thead>\n",
       "\t<tr><th scope=col>year</th><th scope=col>month</th><th scope=col>day</th><th scope=col>hour</th><th scope=col>origin</th><th scope=col>dest</th><th scope=col>tailnum</th><th scope=col>carrier</th></tr>\n",
       "\t<tr><th scope=col>&lt;int&gt;</th><th scope=col>&lt;int&gt;</th><th scope=col>&lt;int&gt;</th><th scope=col>&lt;dbl&gt;</th><th scope=col>&lt;chr&gt;</th><th scope=col>&lt;chr&gt;</th><th scope=col>&lt;chr&gt;</th><th scope=col>&lt;chr&gt;</th></tr>\n",
       "</thead>\n",
       "<tbody>\n",
       "\t<tr><td>2013</td><td>1</td><td>1</td><td>5</td><td>EWR</td><td>IAH</td><td>N14228</td><td>UA</td></tr>\n",
       "\t<tr><td>2013</td><td>1</td><td>1</td><td>5</td><td>LGA</td><td>IAH</td><td>N24211</td><td>UA</td></tr>\n",
       "\t<tr><td>2013</td><td>1</td><td>1</td><td>5</td><td>JFK</td><td>MIA</td><td>N619AA</td><td>AA</td></tr>\n",
       "\t<tr><td>2013</td><td>1</td><td>1</td><td>5</td><td>JFK</td><td>BQN</td><td>N804JB</td><td>B6</td></tr>\n",
       "\t<tr><td>2013</td><td>1</td><td>1</td><td>6</td><td>LGA</td><td>ATL</td><td>N668DN</td><td>DL</td></tr>\n",
       "\t<tr><td>2013</td><td>1</td><td>1</td><td>5</td><td>EWR</td><td>ORD</td><td>N39463</td><td>UA</td></tr>\n",
       "</tbody>\n",
       "</table>\n"
      ],
      "text/latex": [
       "A tibble: 6 × 8\n",
       "\\begin{tabular}{r|llllllll}\n",
       " year & month & day & hour & origin & dest & tailnum & carrier\\\\\n",
       " <int> & <int> & <int> & <dbl> & <chr> & <chr> & <chr> & <chr>\\\\\n",
       "\\hline\n",
       "\t 2013 & 1 & 1 & 5 & EWR & IAH & N14228 & UA\\\\\n",
       "\t 2013 & 1 & 1 & 5 & LGA & IAH & N24211 & UA\\\\\n",
       "\t 2013 & 1 & 1 & 5 & JFK & MIA & N619AA & AA\\\\\n",
       "\t 2013 & 1 & 1 & 5 & JFK & BQN & N804JB & B6\\\\\n",
       "\t 2013 & 1 & 1 & 6 & LGA & ATL & N668DN & DL\\\\\n",
       "\t 2013 & 1 & 1 & 5 & EWR & ORD & N39463 & UA\\\\\n",
       "\\end{tabular}\n"
      ],
      "text/markdown": [
       "\n",
       "A tibble: 6 × 8\n",
       "\n",
       "| year &lt;int&gt; | month &lt;int&gt; | day &lt;int&gt; | hour &lt;dbl&gt; | origin &lt;chr&gt; | dest &lt;chr&gt; | tailnum &lt;chr&gt; | carrier &lt;chr&gt; |\n",
       "|---|---|---|---|---|---|---|---|\n",
       "| 2013 | 1 | 1 | 5 | EWR | IAH | N14228 | UA |\n",
       "| 2013 | 1 | 1 | 5 | LGA | IAH | N24211 | UA |\n",
       "| 2013 | 1 | 1 | 5 | JFK | MIA | N619AA | AA |\n",
       "| 2013 | 1 | 1 | 5 | JFK | BQN | N804JB | B6 |\n",
       "| 2013 | 1 | 1 | 6 | LGA | ATL | N668DN | DL |\n",
       "| 2013 | 1 | 1 | 5 | EWR | ORD | N39463 | UA |\n",
       "\n"
      ],
      "text/plain": [
       "  year month day hour origin dest tailnum carrier\n",
       "1 2013 1     1   5    EWR    IAH  N14228  UA     \n",
       "2 2013 1     1   5    LGA    IAH  N24211  UA     \n",
       "3 2013 1     1   5    JFK    MIA  N619AA  AA     \n",
       "4 2013 1     1   5    JFK    BQN  N804JB  B6     \n",
       "5 2013 1     1   6    LGA    ATL  N668DN  DL     \n",
       "6 2013 1     1   5    EWR    ORD  N39463  UA     "
      ]
     },
     "metadata": {},
     "output_type": "display_data"
    }
   ],
   "source": [
    "# 从flights数据集中选择一部分\n",
    "flights2 <- flights %>% select(year:day, hour, origin, dest, tailnum, carrier)\n",
    "flights2 %>% head()"
   ]
  },
  {
   "cell_type": "code",
   "execution_count": 10,
   "metadata": {},
   "outputs": [
    {
     "data": {
      "text/html": [
       "<table>\n",
       "<caption>A tibble: 6 × 6</caption>\n",
       "<thead>\n",
       "\t<tr><th scope=col>year</th><th scope=col>month</th><th scope=col>day</th><th scope=col>tailnum</th><th scope=col>carrier</th><th scope=col>name</th></tr>\n",
       "\t<tr><th scope=col>&lt;int&gt;</th><th scope=col>&lt;int&gt;</th><th scope=col>&lt;int&gt;</th><th scope=col>&lt;chr&gt;</th><th scope=col>&lt;chr&gt;</th><th scope=col>&lt;chr&gt;</th></tr>\n",
       "</thead>\n",
       "<tbody>\n",
       "\t<tr><td>2013</td><td>1</td><td>1</td><td>N14228</td><td>UA</td><td>United Air Lines Inc. </td></tr>\n",
       "\t<tr><td>2013</td><td>1</td><td>1</td><td>N24211</td><td>UA</td><td>United Air Lines Inc. </td></tr>\n",
       "\t<tr><td>2013</td><td>1</td><td>1</td><td>N619AA</td><td>AA</td><td>American Airlines Inc.</td></tr>\n",
       "\t<tr><td>2013</td><td>1</td><td>1</td><td>N804JB</td><td>B6</td><td>JetBlue Airways       </td></tr>\n",
       "\t<tr><td>2013</td><td>1</td><td>1</td><td>N668DN</td><td>DL</td><td>Delta Air Lines Inc.  </td></tr>\n",
       "\t<tr><td>2013</td><td>1</td><td>1</td><td>N39463</td><td>UA</td><td>United Air Lines Inc. </td></tr>\n",
       "</tbody>\n",
       "</table>\n"
      ],
      "text/latex": [
       "A tibble: 6 × 6\n",
       "\\begin{tabular}{r|llllll}\n",
       " year & month & day & tailnum & carrier & name\\\\\n",
       " <int> & <int> & <int> & <chr> & <chr> & <chr>\\\\\n",
       "\\hline\n",
       "\t 2013 & 1 & 1 & N14228 & UA & United Air Lines Inc. \\\\\n",
       "\t 2013 & 1 & 1 & N24211 & UA & United Air Lines Inc. \\\\\n",
       "\t 2013 & 1 & 1 & N619AA & AA & American Airlines Inc.\\\\\n",
       "\t 2013 & 1 & 1 & N804JB & B6 & JetBlue Airways       \\\\\n",
       "\t 2013 & 1 & 1 & N668DN & DL & Delta Air Lines Inc.  \\\\\n",
       "\t 2013 & 1 & 1 & N39463 & UA & United Air Lines Inc. \\\\\n",
       "\\end{tabular}\n"
      ],
      "text/markdown": [
       "\n",
       "A tibble: 6 × 6\n",
       "\n",
       "| year &lt;int&gt; | month &lt;int&gt; | day &lt;int&gt; | tailnum &lt;chr&gt; | carrier &lt;chr&gt; | name &lt;chr&gt; |\n",
       "|---|---|---|---|---|---|\n",
       "| 2013 | 1 | 1 | N14228 | UA | United Air Lines Inc.  |\n",
       "| 2013 | 1 | 1 | N24211 | UA | United Air Lines Inc.  |\n",
       "| 2013 | 1 | 1 | N619AA | AA | American Airlines Inc. |\n",
       "| 2013 | 1 | 1 | N804JB | B6 | JetBlue Airways        |\n",
       "| 2013 | 1 | 1 | N668DN | DL | Delta Air Lines Inc.   |\n",
       "| 2013 | 1 | 1 | N39463 | UA | United Air Lines Inc.  |\n",
       "\n"
      ],
      "text/plain": [
       "  year month day tailnum carrier name                  \n",
       "1 2013 1     1   N14228  UA      United Air Lines Inc. \n",
       "2 2013 1     1   N24211  UA      United Air Lines Inc. \n",
       "3 2013 1     1   N619AA  AA      American Airlines Inc.\n",
       "4 2013 1     1   N804JB  B6      JetBlue Airways       \n",
       "5 2013 1     1   N668DN  DL      Delta Air Lines Inc.  \n",
       "6 2013 1     1   N39463  UA      United Air Lines Inc. "
      ]
     },
     "metadata": {},
     "output_type": "display_data"
    },
    {
     "data": {
      "text/html": [
       "<table>\n",
       "<caption>A tibble: 6 × 6</caption>\n",
       "<thead>\n",
       "\t<tr><th scope=col>year</th><th scope=col>month</th><th scope=col>day</th><th scope=col>dest</th><th scope=col>carrier</th><th scope=col>name</th></tr>\n",
       "\t<tr><th scope=col>&lt;int&gt;</th><th scope=col>&lt;int&gt;</th><th scope=col>&lt;int&gt;</th><th scope=col>&lt;chr&gt;</th><th scope=col>&lt;chr&gt;</th><th scope=col>&lt;chr&gt;</th></tr>\n",
       "</thead>\n",
       "<tbody>\n",
       "\t<tr><td>2013</td><td>1</td><td>1</td><td>IAH</td><td>UA</td><td>United Air Lines Inc. </td></tr>\n",
       "\t<tr><td>2013</td><td>1</td><td>1</td><td>IAH</td><td>UA</td><td>United Air Lines Inc. </td></tr>\n",
       "\t<tr><td>2013</td><td>1</td><td>1</td><td>MIA</td><td>AA</td><td>American Airlines Inc.</td></tr>\n",
       "\t<tr><td>2013</td><td>1</td><td>1</td><td>BQN</td><td>B6</td><td>JetBlue Airways       </td></tr>\n",
       "\t<tr><td>2013</td><td>1</td><td>1</td><td>ATL</td><td>DL</td><td>Delta Air Lines Inc.  </td></tr>\n",
       "\t<tr><td>2013</td><td>1</td><td>1</td><td>ORD</td><td>UA</td><td>United Air Lines Inc. </td></tr>\n",
       "</tbody>\n",
       "</table>\n"
      ],
      "text/latex": [
       "A tibble: 6 × 6\n",
       "\\begin{tabular}{r|llllll}\n",
       " year & month & day & dest & carrier & name\\\\\n",
       " <int> & <int> & <int> & <chr> & <chr> & <chr>\\\\\n",
       "\\hline\n",
       "\t 2013 & 1 & 1 & IAH & UA & United Air Lines Inc. \\\\\n",
       "\t 2013 & 1 & 1 & IAH & UA & United Air Lines Inc. \\\\\n",
       "\t 2013 & 1 & 1 & MIA & AA & American Airlines Inc.\\\\\n",
       "\t 2013 & 1 & 1 & BQN & B6 & JetBlue Airways       \\\\\n",
       "\t 2013 & 1 & 1 & ATL & DL & Delta Air Lines Inc.  \\\\\n",
       "\t 2013 & 1 & 1 & ORD & UA & United Air Lines Inc. \\\\\n",
       "\\end{tabular}\n"
      ],
      "text/markdown": [
       "\n",
       "A tibble: 6 × 6\n",
       "\n",
       "| year &lt;int&gt; | month &lt;int&gt; | day &lt;int&gt; | dest &lt;chr&gt; | carrier &lt;chr&gt; | name &lt;chr&gt; |\n",
       "|---|---|---|---|---|---|\n",
       "| 2013 | 1 | 1 | IAH | UA | United Air Lines Inc.  |\n",
       "| 2013 | 1 | 1 | IAH | UA | United Air Lines Inc.  |\n",
       "| 2013 | 1 | 1 | MIA | AA | American Airlines Inc. |\n",
       "| 2013 | 1 | 1 | BQN | B6 | JetBlue Airways        |\n",
       "| 2013 | 1 | 1 | ATL | DL | Delta Air Lines Inc.   |\n",
       "| 2013 | 1 | 1 | ORD | UA | United Air Lines Inc.  |\n",
       "\n"
      ],
      "text/plain": [
       "  year month day dest carrier name                  \n",
       "1 2013 1     1   IAH  UA      United Air Lines Inc. \n",
       "2 2013 1     1   IAH  UA      United Air Lines Inc. \n",
       "3 2013 1     1   MIA  AA      American Airlines Inc.\n",
       "4 2013 1     1   BQN  B6      JetBlue Airways       \n",
       "5 2013 1     1   ATL  DL      Delta Air Lines Inc.  \n",
       "6 2013 1     1   ORD  UA      United Air Lines Inc. "
      ]
     },
     "metadata": {},
     "output_type": "display_data"
    }
   ],
   "source": [
    "# 将airlines数据加入到flights2中\n",
    "flights2 %>% select(-origin,  -dest, -hour) %>% \n",
    "left_join(airlines, by = \"carrier\") %>% head()\n",
    "# \"-\"在这里是去掉这些变量的意思\n",
    "# 让我们选择几个变量连接\n",
    "flights2 %>% select(year, month, day, dest, carrier) %>%\n",
    "left_join(airlines, by = \"carrier\") %>% head()\n",
    "# 还是要对前面学过的了解"
   ]
  },
  {
   "cell_type": "code",
   "execution_count": 11,
   "metadata": {},
   "outputs": [
    {
     "data": {
      "text/html": [
       "<table>\n",
       "<caption>A tibble: 6 × 7</caption>\n",
       "<thead>\n",
       "\t<tr><th scope=col>year</th><th scope=col>month</th><th scope=col>day</th><th scope=col>hour</th><th scope=col>tailnum</th><th scope=col>carrier</th><th scope=col>name</th></tr>\n",
       "\t<tr><th scope=col>&lt;int&gt;</th><th scope=col>&lt;int&gt;</th><th scope=col>&lt;int&gt;</th><th scope=col>&lt;dbl&gt;</th><th scope=col>&lt;chr&gt;</th><th scope=col>&lt;chr&gt;</th><th scope=col>&lt;chr&gt;</th></tr>\n",
       "</thead>\n",
       "<tbody>\n",
       "\t<tr><td>2013</td><td>1</td><td>1</td><td>5</td><td>N14228</td><td>UA</td><td>United Air Lines Inc. </td></tr>\n",
       "\t<tr><td>2013</td><td>1</td><td>1</td><td>5</td><td>N24211</td><td>UA</td><td>United Air Lines Inc. </td></tr>\n",
       "\t<tr><td>2013</td><td>1</td><td>1</td><td>5</td><td>N619AA</td><td>AA</td><td>American Airlines Inc.</td></tr>\n",
       "\t<tr><td>2013</td><td>1</td><td>1</td><td>5</td><td>N804JB</td><td>B6</td><td>JetBlue Airways       </td></tr>\n",
       "\t<tr><td>2013</td><td>1</td><td>1</td><td>6</td><td>N668DN</td><td>DL</td><td>Delta Air Lines Inc.  </td></tr>\n",
       "\t<tr><td>2013</td><td>1</td><td>1</td><td>5</td><td>N39463</td><td>UA</td><td>United Air Lines Inc. </td></tr>\n",
       "</tbody>\n",
       "</table>\n"
      ],
      "text/latex": [
       "A tibble: 6 × 7\n",
       "\\begin{tabular}{r|lllllll}\n",
       " year & month & day & hour & tailnum & carrier & name\\\\\n",
       " <int> & <int> & <int> & <dbl> & <chr> & <chr> & <chr>\\\\\n",
       "\\hline\n",
       "\t 2013 & 1 & 1 & 5 & N14228 & UA & United Air Lines Inc. \\\\\n",
       "\t 2013 & 1 & 1 & 5 & N24211 & UA & United Air Lines Inc. \\\\\n",
       "\t 2013 & 1 & 1 & 5 & N619AA & AA & American Airlines Inc.\\\\\n",
       "\t 2013 & 1 & 1 & 5 & N804JB & B6 & JetBlue Airways       \\\\\n",
       "\t 2013 & 1 & 1 & 6 & N668DN & DL & Delta Air Lines Inc.  \\\\\n",
       "\t 2013 & 1 & 1 & 5 & N39463 & UA & United Air Lines Inc. \\\\\n",
       "\\end{tabular}\n"
      ],
      "text/markdown": [
       "\n",
       "A tibble: 6 × 7\n",
       "\n",
       "| year &lt;int&gt; | month &lt;int&gt; | day &lt;int&gt; | hour &lt;dbl&gt; | tailnum &lt;chr&gt; | carrier &lt;chr&gt; | name &lt;chr&gt; |\n",
       "|---|---|---|---|---|---|---|\n",
       "| 2013 | 1 | 1 | 5 | N14228 | UA | United Air Lines Inc.  |\n",
       "| 2013 | 1 | 1 | 5 | N24211 | UA | United Air Lines Inc.  |\n",
       "| 2013 | 1 | 1 | 5 | N619AA | AA | American Airlines Inc. |\n",
       "| 2013 | 1 | 1 | 5 | N804JB | B6 | JetBlue Airways        |\n",
       "| 2013 | 1 | 1 | 6 | N668DN | DL | Delta Air Lines Inc.   |\n",
       "| 2013 | 1 | 1 | 5 | N39463 | UA | United Air Lines Inc.  |\n",
       "\n"
      ],
      "text/plain": [
       "  year month day hour tailnum carrier name                  \n",
       "1 2013 1     1   5    N14228  UA      United Air Lines Inc. \n",
       "2 2013 1     1   5    N24211  UA      United Air Lines Inc. \n",
       "3 2013 1     1   5    N619AA  AA      American Airlines Inc.\n",
       "4 2013 1     1   5    N804JB  B6      JetBlue Airways       \n",
       "5 2013 1     1   6    N668DN  DL      Delta Air Lines Inc.  \n",
       "6 2013 1     1   5    N39463  UA      United Air Lines Inc. "
      ]
     },
     "metadata": {},
     "output_type": "display_data"
    }
   ],
   "source": [
    "# 使用mutate()函数和R取子集的方法也可以达到同样的效果\n",
    "flights2 %>% select(-origin, -dest) %>%\n",
    "mutate(name = airlines$name[match(carrier, \n",
    "                                  airlines$carrier)]) %>% \n",
    "head()"
   ]
  },
  {
   "cell_type": "code",
   "execution_count": 12,
   "metadata": {},
   "outputs": [
    {
     "data": {
      "text/html": [
       "<ol class=list-inline>\n",
       "\t<li>12</li>\n",
       "\t<li>12</li>\n",
       "\t<li>2</li>\n",
       "\t<li>4</li>\n",
       "\t<li>5</li>\n",
       "\t<li>12</li>\n",
       "</ol>\n"
      ],
      "text/latex": [
       "\\begin{enumerate*}\n",
       "\\item 12\n",
       "\\item 12\n",
       "\\item 2\n",
       "\\item 4\n",
       "\\item 5\n",
       "\\item 12\n",
       "\\end{enumerate*}\n"
      ],
      "text/markdown": [
       "1. 12\n",
       "2. 12\n",
       "3. 2\n",
       "4. 4\n",
       "5. 5\n",
       "6. 12\n",
       "\n",
       "\n"
      ],
      "text/plain": [
       "[1] 12 12  2  4  5 12"
      ]
     },
     "metadata": {},
     "output_type": "display_data"
    },
    {
     "data": {
      "text/html": [
       "<ol class=list-inline>\n",
       "\t<li>'United Air Lines Inc.'</li>\n",
       "\t<li>'United Air Lines Inc.'</li>\n",
       "\t<li>'American Airlines Inc.'</li>\n",
       "\t<li>'JetBlue Airways'</li>\n",
       "\t<li>'Delta Air Lines Inc.'</li>\n",
       "\t<li>'United Air Lines Inc.'</li>\n",
       "</ol>\n"
      ],
      "text/latex": [
       "\\begin{enumerate*}\n",
       "\\item 'United Air Lines Inc.'\n",
       "\\item 'United Air Lines Inc.'\n",
       "\\item 'American Airlines Inc.'\n",
       "\\item 'JetBlue Airways'\n",
       "\\item 'Delta Air Lines Inc.'\n",
       "\\item 'United Air Lines Inc.'\n",
       "\\end{enumerate*}\n"
      ],
      "text/markdown": [
       "1. 'United Air Lines Inc.'\n",
       "2. 'United Air Lines Inc.'\n",
       "3. 'American Airlines Inc.'\n",
       "4. 'JetBlue Airways'\n",
       "5. 'Delta Air Lines Inc.'\n",
       "6. 'United Air Lines Inc.'\n",
       "\n",
       "\n"
      ],
      "text/plain": [
       "[1] \"United Air Lines Inc.\"  \"United Air Lines Inc.\"  \"American Airlines Inc.\"\n",
       "[4] \"JetBlue Airways\"        \"Delta Air Lines Inc.\"   \"United Air Lines Inc.\" "
      ]
     },
     "metadata": {},
     "output_type": "display_data"
    },
    {
     "data": {
      "text/html": [
       "<ol class=list-inline>\n",
       "\t<li>'United Air Lines Inc.'</li>\n",
       "\t<li>'United Air Lines Inc.'</li>\n",
       "\t<li>'American Airlines Inc.'</li>\n",
       "\t<li>'JetBlue Airways'</li>\n",
       "\t<li>'Delta Air Lines Inc.'</li>\n",
       "\t<li>'United Air Lines Inc.'</li>\n",
       "</ol>\n"
      ],
      "text/latex": [
       "\\begin{enumerate*}\n",
       "\\item 'United Air Lines Inc.'\n",
       "\\item 'United Air Lines Inc.'\n",
       "\\item 'American Airlines Inc.'\n",
       "\\item 'JetBlue Airways'\n",
       "\\item 'Delta Air Lines Inc.'\n",
       "\\item 'United Air Lines Inc.'\n",
       "\\end{enumerate*}\n"
      ],
      "text/markdown": [
       "1. 'United Air Lines Inc.'\n",
       "2. 'United Air Lines Inc.'\n",
       "3. 'American Airlines Inc.'\n",
       "4. 'JetBlue Airways'\n",
       "5. 'Delta Air Lines Inc.'\n",
       "6. 'United Air Lines Inc.'\n",
       "\n",
       "\n"
      ],
      "text/plain": [
       "[1] \"United Air Lines Inc.\"  \"United Air Lines Inc.\"  \"American Airlines Inc.\"\n",
       "[4] \"JetBlue Airways\"        \"Delta Air Lines Inc.\"   \"United Air Lines Inc.\" "
      ]
     },
     "metadata": {},
     "output_type": "display_data"
    }
   ],
   "source": [
    "# 如果对上面的操作不理解，看一看下面分解的操作\n",
    "match(flights2$carrier, airlines$carrier) %>% head()\n",
    "airlines$name[match(flights2$carrier, airlines$carrier)] %>% head()\n",
    "airlines$name[c(12,12,2,4,5,12)]\n",
    "# match()匹配返回行号，然后就是数据框取子集"
   ]
  },
  {
   "cell_type": "code",
   "execution_count": 13,
   "metadata": {},
   "outputs": [
    {
     "data": {
      "text/html": [
       "<table>\n",
       "<caption>A tibble: 3 × 2</caption>\n",
       "<thead>\n",
       "\t<tr><th scope=col>key</th><th scope=col>val_x</th></tr>\n",
       "\t<tr><th scope=col>&lt;dbl&gt;</th><th scope=col>&lt;chr&gt;</th></tr>\n",
       "</thead>\n",
       "<tbody>\n",
       "\t<tr><td>1</td><td>x1</td></tr>\n",
       "\t<tr><td>2</td><td>x2</td></tr>\n",
       "\t<tr><td>3</td><td>x3</td></tr>\n",
       "</tbody>\n",
       "</table>\n"
      ],
      "text/latex": [
       "A tibble: 3 × 2\n",
       "\\begin{tabular}{r|ll}\n",
       " key & val\\_x\\\\\n",
       " <dbl> & <chr>\\\\\n",
       "\\hline\n",
       "\t 1 & x1\\\\\n",
       "\t 2 & x2\\\\\n",
       "\t 3 & x3\\\\\n",
       "\\end{tabular}\n"
      ],
      "text/markdown": [
       "\n",
       "A tibble: 3 × 2\n",
       "\n",
       "| key &lt;dbl&gt; | val_x &lt;chr&gt; |\n",
       "|---|---|\n",
       "| 1 | x1 |\n",
       "| 2 | x2 |\n",
       "| 3 | x3 |\n",
       "\n"
      ],
      "text/plain": [
       "  key val_x\n",
       "1 1   x1   \n",
       "2 2   x2   \n",
       "3 3   x3   "
      ]
     },
     "metadata": {},
     "output_type": "display_data"
    },
    {
     "data": {
      "text/html": [
       "<table>\n",
       "<caption>A tibble: 3 × 2</caption>\n",
       "<thead>\n",
       "\t<tr><th scope=col>key</th><th scope=col>val_y</th></tr>\n",
       "\t<tr><th scope=col>&lt;dbl&gt;</th><th scope=col>&lt;chr&gt;</th></tr>\n",
       "</thead>\n",
       "<tbody>\n",
       "\t<tr><td>1</td><td>y1</td></tr>\n",
       "\t<tr><td>2</td><td>y2</td></tr>\n",
       "\t<tr><td>4</td><td>y3</td></tr>\n",
       "</tbody>\n",
       "</table>\n"
      ],
      "text/latex": [
       "A tibble: 3 × 2\n",
       "\\begin{tabular}{r|ll}\n",
       " key & val\\_y\\\\\n",
       " <dbl> & <chr>\\\\\n",
       "\\hline\n",
       "\t 1 & y1\\\\\n",
       "\t 2 & y2\\\\\n",
       "\t 4 & y3\\\\\n",
       "\\end{tabular}\n"
      ],
      "text/markdown": [
       "\n",
       "A tibble: 3 × 2\n",
       "\n",
       "| key &lt;dbl&gt; | val_y &lt;chr&gt; |\n",
       "|---|---|\n",
       "| 1 | y1 |\n",
       "| 2 | y2 |\n",
       "| 4 | y3 |\n",
       "\n"
      ],
      "text/plain": [
       "  key val_y\n",
       "1 1   y1   \n",
       "2 2   y2   \n",
       "3 4   y3   "
      ]
     },
     "metadata": {},
     "output_type": "display_data"
    }
   ],
   "source": [
    "# 用例子来说明连接的原理\n",
    "x <- tribble(\n",
    "~key, ~val_x,\n",
    "1,\"x1\",\n",
    "2, \"x2\",\n",
    "3, \"x3\")\n",
    "\n",
    "y <- tribble(\n",
    "~key, ~val_y,\n",
    "1, \"y1\",\n",
    "2, \"y2\",\n",
    "4, \"y3\")\n",
    "x\n",
    "y\n"
   ]
  },
  {
   "cell_type": "markdown",
   "metadata": {},
   "source": [
    "## 内连接\n",
    "\n",
    "内连接是等值连接，没有匹配的行不会被包含"
   ]
  },
  {
   "cell_type": "code",
   "execution_count": 14,
   "metadata": {},
   "outputs": [
    {
     "data": {
      "text/html": [
       "<table>\n",
       "<caption>A tibble: 2 × 3</caption>\n",
       "<thead>\n",
       "\t<tr><th scope=col>key</th><th scope=col>val_x</th><th scope=col>val_y</th></tr>\n",
       "\t<tr><th scope=col>&lt;dbl&gt;</th><th scope=col>&lt;chr&gt;</th><th scope=col>&lt;chr&gt;</th></tr>\n",
       "</thead>\n",
       "<tbody>\n",
       "\t<tr><td>1</td><td>x1</td><td>y1</td></tr>\n",
       "\t<tr><td>2</td><td>x2</td><td>y2</td></tr>\n",
       "</tbody>\n",
       "</table>\n"
      ],
      "text/latex": [
       "A tibble: 2 × 3\n",
       "\\begin{tabular}{r|lll}\n",
       " key & val\\_x & val\\_y\\\\\n",
       " <dbl> & <chr> & <chr>\\\\\n",
       "\\hline\n",
       "\t 1 & x1 & y1\\\\\n",
       "\t 2 & x2 & y2\\\\\n",
       "\\end{tabular}\n"
      ],
      "text/markdown": [
       "\n",
       "A tibble: 2 × 3\n",
       "\n",
       "| key &lt;dbl&gt; | val_x &lt;chr&gt; | val_y &lt;chr&gt; |\n",
       "|---|---|---|\n",
       "| 1 | x1 | y1 |\n",
       "| 2 | x2 | y2 |\n",
       "\n"
      ],
      "text/plain": [
       "  key val_x val_y\n",
       "1 1   x1    y1   \n",
       "2 2   x2    y2   "
      ]
     },
     "metadata": {},
     "output_type": "display_data"
    }
   ],
   "source": [
    "# 看例子\n",
    "x %>% inner_join(y, by = \"key\")"
   ]
  },
  {
   "cell_type": "markdown",
   "metadata": {},
   "source": [
    "## 外连接\n",
    "\n",
    "外连接则保留至少存在于一个表中的观测，有3种类型\n",
    "\n",
    "左连接；右连接；全连接"
   ]
  },
  {
   "cell_type": "code",
   "execution_count": 15,
   "metadata": {},
   "outputs": [
    {
     "data": {
      "text/html": [
       "<table>\n",
       "<caption>A tibble: 3 × 3</caption>\n",
       "<thead>\n",
       "\t<tr><th scope=col>key</th><th scope=col>val_x</th><th scope=col>val_y</th></tr>\n",
       "\t<tr><th scope=col>&lt;dbl&gt;</th><th scope=col>&lt;chr&gt;</th><th scope=col>&lt;chr&gt;</th></tr>\n",
       "</thead>\n",
       "<tbody>\n",
       "\t<tr><td>1</td><td>x1</td><td>y1</td></tr>\n",
       "\t<tr><td>2</td><td>x2</td><td>y2</td></tr>\n",
       "\t<tr><td>3</td><td>x3</td><td>NA</td></tr>\n",
       "</tbody>\n",
       "</table>\n"
      ],
      "text/latex": [
       "A tibble: 3 × 3\n",
       "\\begin{tabular}{r|lll}\n",
       " key & val\\_x & val\\_y\\\\\n",
       " <dbl> & <chr> & <chr>\\\\\n",
       "\\hline\n",
       "\t 1 & x1 & y1\\\\\n",
       "\t 2 & x2 & y2\\\\\n",
       "\t 3 & x3 & NA\\\\\n",
       "\\end{tabular}\n"
      ],
      "text/markdown": [
       "\n",
       "A tibble: 3 × 3\n",
       "\n",
       "| key &lt;dbl&gt; | val_x &lt;chr&gt; | val_y &lt;chr&gt; |\n",
       "|---|---|---|\n",
       "| 1 | x1 | y1 |\n",
       "| 2 | x2 | y2 |\n",
       "| 3 | x3 | NA |\n",
       "\n"
      ],
      "text/plain": [
       "  key val_x val_y\n",
       "1 1   x1    y1   \n",
       "2 2   x2    y2   \n",
       "3 3   x3    NA   "
      ]
     },
     "metadata": {},
     "output_type": "display_data"
    },
    {
     "data": {
      "text/html": [
       "<table>\n",
       "<caption>A tibble: 3 × 3</caption>\n",
       "<thead>\n",
       "\t<tr><th scope=col>key</th><th scope=col>val_x</th><th scope=col>val_y</th></tr>\n",
       "\t<tr><th scope=col>&lt;dbl&gt;</th><th scope=col>&lt;chr&gt;</th><th scope=col>&lt;chr&gt;</th></tr>\n",
       "</thead>\n",
       "<tbody>\n",
       "\t<tr><td>1</td><td>x1</td><td>y1</td></tr>\n",
       "\t<tr><td>2</td><td>x2</td><td>y2</td></tr>\n",
       "\t<tr><td>4</td><td>NA</td><td>y3</td></tr>\n",
       "</tbody>\n",
       "</table>\n"
      ],
      "text/latex": [
       "A tibble: 3 × 3\n",
       "\\begin{tabular}{r|lll}\n",
       " key & val\\_x & val\\_y\\\\\n",
       " <dbl> & <chr> & <chr>\\\\\n",
       "\\hline\n",
       "\t 1 & x1 & y1\\\\\n",
       "\t 2 & x2 & y2\\\\\n",
       "\t 4 & NA & y3\\\\\n",
       "\\end{tabular}\n"
      ],
      "text/markdown": [
       "\n",
       "A tibble: 3 × 3\n",
       "\n",
       "| key &lt;dbl&gt; | val_x &lt;chr&gt; | val_y &lt;chr&gt; |\n",
       "|---|---|---|\n",
       "| 1 | x1 | y1 |\n",
       "| 2 | x2 | y2 |\n",
       "| 4 | NA | y3 |\n",
       "\n"
      ],
      "text/plain": [
       "  key val_x val_y\n",
       "1 1   x1    y1   \n",
       "2 2   x2    y2   \n",
       "3 4   NA    y3   "
      ]
     },
     "metadata": {},
     "output_type": "display_data"
    },
    {
     "data": {
      "text/html": [
       "<table>\n",
       "<caption>A tibble: 4 × 3</caption>\n",
       "<thead>\n",
       "\t<tr><th scope=col>key</th><th scope=col>val_x</th><th scope=col>val_y</th></tr>\n",
       "\t<tr><th scope=col>&lt;dbl&gt;</th><th scope=col>&lt;chr&gt;</th><th scope=col>&lt;chr&gt;</th></tr>\n",
       "</thead>\n",
       "<tbody>\n",
       "\t<tr><td>1</td><td>x1</td><td>y1</td></tr>\n",
       "\t<tr><td>2</td><td>x2</td><td>y2</td></tr>\n",
       "\t<tr><td>3</td><td>x3</td><td>NA</td></tr>\n",
       "\t<tr><td>4</td><td>NA</td><td>y3</td></tr>\n",
       "</tbody>\n",
       "</table>\n"
      ],
      "text/latex": [
       "A tibble: 4 × 3\n",
       "\\begin{tabular}{r|lll}\n",
       " key & val\\_x & val\\_y\\\\\n",
       " <dbl> & <chr> & <chr>\\\\\n",
       "\\hline\n",
       "\t 1 & x1 & y1\\\\\n",
       "\t 2 & x2 & y2\\\\\n",
       "\t 3 & x3 & NA\\\\\n",
       "\t 4 & NA & y3\\\\\n",
       "\\end{tabular}\n"
      ],
      "text/markdown": [
       "\n",
       "A tibble: 4 × 3\n",
       "\n",
       "| key &lt;dbl&gt; | val_x &lt;chr&gt; | val_y &lt;chr&gt; |\n",
       "|---|---|---|\n",
       "| 1 | x1 | y1 |\n",
       "| 2 | x2 | y2 |\n",
       "| 3 | x3 | NA |\n",
       "| 4 | NA | y3 |\n",
       "\n"
      ],
      "text/plain": [
       "  key val_x val_y\n",
       "1 1   x1    y1   \n",
       "2 2   x2    y2   \n",
       "3 3   x3    NA   \n",
       "4 4   NA    y3   "
      ]
     },
     "metadata": {},
     "output_type": "display_data"
    }
   ],
   "source": [
    "# 看例子\n",
    "x %>% left_join(y, by = \"key\")\n",
    "\n",
    "x %>% right_join(y, by = \"key\")\n",
    "\n",
    "x %>% full_join(y, by = \"key\")\n",
    "# 没有匹配到的会以NA填充\n",
    "# 左连接最为常用"
   ]
  },
  {
   "cell_type": "markdown",
   "metadata": {},
   "source": [
    "## 重复键\n",
    "\n",
    "当键不唯一时会出现两种情况\n"
   ]
  },
  {
   "cell_type": "code",
   "execution_count": 16,
   "metadata": {},
   "outputs": [
    {
     "data": {
      "text/html": [
       "<table>\n",
       "<caption>A tibble: 4 × 3</caption>\n",
       "<thead>\n",
       "\t<tr><th scope=col>key</th><th scope=col>val_x</th><th scope=col>val_y</th></tr>\n",
       "\t<tr><th scope=col>&lt;dbl&gt;</th><th scope=col>&lt;chr&gt;</th><th scope=col>&lt;chr&gt;</th></tr>\n",
       "</thead>\n",
       "<tbody>\n",
       "\t<tr><td>1</td><td>x1</td><td>y1</td></tr>\n",
       "\t<tr><td>2</td><td>x2</td><td>y2</td></tr>\n",
       "\t<tr><td>2</td><td>x3</td><td>y2</td></tr>\n",
       "\t<tr><td>1</td><td>x4</td><td>y1</td></tr>\n",
       "</tbody>\n",
       "</table>\n"
      ],
      "text/latex": [
       "A tibble: 4 × 3\n",
       "\\begin{tabular}{r|lll}\n",
       " key & val\\_x & val\\_y\\\\\n",
       " <dbl> & <chr> & <chr>\\\\\n",
       "\\hline\n",
       "\t 1 & x1 & y1\\\\\n",
       "\t 2 & x2 & y2\\\\\n",
       "\t 2 & x3 & y2\\\\\n",
       "\t 1 & x4 & y1\\\\\n",
       "\\end{tabular}\n"
      ],
      "text/markdown": [
       "\n",
       "A tibble: 4 × 3\n",
       "\n",
       "| key &lt;dbl&gt; | val_x &lt;chr&gt; | val_y &lt;chr&gt; |\n",
       "|---|---|---|\n",
       "| 1 | x1 | y1 |\n",
       "| 2 | x2 | y2 |\n",
       "| 2 | x3 | y2 |\n",
       "| 1 | x4 | y1 |\n",
       "\n"
      ],
      "text/plain": [
       "  key val_x val_y\n",
       "1 1   x1    y1   \n",
       "2 2   x2    y2   \n",
       "3 2   x3    y2   \n",
       "4 1   x4    y1   "
      ]
     },
     "metadata": {},
     "output_type": "display_data"
    }
   ],
   "source": [
    "# 一对多\n",
    "x <-tribble( \n",
    "    ~key, ~val_x, \n",
    "    1, \"x1\", \n",
    "    2, \"x2\", \n",
    "    2, \"x3\", \n",
    "    1, \"x4\") \n",
    "y <-tribble( \n",
    "    ~key, ~val_y, \n",
    "    1, \"y1\", \n",
    "    2, \"y2\") \n",
    "left_join(x, y, by = \"key\")"
   ]
  },
  {
   "cell_type": "code",
   "execution_count": 17,
   "metadata": {},
   "outputs": [
    {
     "data": {
      "text/html": [
       "<table>\n",
       "<caption>A tibble: 6 × 3</caption>\n",
       "<thead>\n",
       "\t<tr><th scope=col>key</th><th scope=col>val_x</th><th scope=col>val_y</th></tr>\n",
       "\t<tr><th scope=col>&lt;dbl&gt;</th><th scope=col>&lt;chr&gt;</th><th scope=col>&lt;chr&gt;</th></tr>\n",
       "</thead>\n",
       "<tbody>\n",
       "\t<tr><td>1</td><td>x1</td><td>y1</td></tr>\n",
       "\t<tr><td>2</td><td>x2</td><td>y2</td></tr>\n",
       "\t<tr><td>2</td><td>x2</td><td>y3</td></tr>\n",
       "\t<tr><td>2</td><td>x3</td><td>y2</td></tr>\n",
       "\t<tr><td>2</td><td>x3</td><td>y3</td></tr>\n",
       "\t<tr><td>3</td><td>x4</td><td>y4</td></tr>\n",
       "</tbody>\n",
       "</table>\n"
      ],
      "text/latex": [
       "A tibble: 6 × 3\n",
       "\\begin{tabular}{r|lll}\n",
       " key & val\\_x & val\\_y\\\\\n",
       " <dbl> & <chr> & <chr>\\\\\n",
       "\\hline\n",
       "\t 1 & x1 & y1\\\\\n",
       "\t 2 & x2 & y2\\\\\n",
       "\t 2 & x2 & y3\\\\\n",
       "\t 2 & x3 & y2\\\\\n",
       "\t 2 & x3 & y3\\\\\n",
       "\t 3 & x4 & y4\\\\\n",
       "\\end{tabular}\n"
      ],
      "text/markdown": [
       "\n",
       "A tibble: 6 × 3\n",
       "\n",
       "| key &lt;dbl&gt; | val_x &lt;chr&gt; | val_y &lt;chr&gt; |\n",
       "|---|---|---|\n",
       "| 1 | x1 | y1 |\n",
       "| 2 | x2 | y2 |\n",
       "| 2 | x2 | y3 |\n",
       "| 2 | x3 | y2 |\n",
       "| 2 | x3 | y3 |\n",
       "| 3 | x4 | y4 |\n",
       "\n"
      ],
      "text/plain": [
       "  key val_x val_y\n",
       "1 1   x1    y1   \n",
       "2 2   x2    y2   \n",
       "3 2   x2    y3   \n",
       "4 2   x3    y2   \n",
       "5 2   x3    y3   \n",
       "6 3   x4    y4   "
      ]
     },
     "metadata": {},
     "output_type": "display_data"
    }
   ],
   "source": [
    "# 多对多\n",
    "x <-tribble( \n",
    "    ~key, ~val_x, \n",
    "    1, \"x1\", \n",
    "    2, \"x2\", \n",
    "    2, \"x3\", \n",
    "    3, \"x4\") \n",
    "y <-tribble( \n",
    "    ~key, ~val_y, \n",
    "    1, \"y1\", \n",
    "    2, \"y2\", \n",
    "    2, \"y3\", \n",
    "    3, \"y4\")\n",
    "left_join(x, y, by = \"key\")\n",
    "# 多对多会得到所有可能的组合(笛卡尔积)\n",
    "# 多对多意味着两张表都有重复的键，往往意味着出现了错误"
   ]
  },
  {
   "cell_type": "code",
   "execution_count": 18,
   "metadata": {},
   "outputs": [
    {
     "name": "stderr",
     "output_type": "stream",
     "text": [
      "Joining, by = c(\"year\", \"month\", \"day\", \"hour\", \"origin\")\n"
     ]
    },
    {
     "data": {
      "text/html": [
       "<table>\n",
       "<caption>A tibble: 6 × 18</caption>\n",
       "<thead>\n",
       "\t<tr><th scope=col>year</th><th scope=col>month</th><th scope=col>day</th><th scope=col>hour</th><th scope=col>origin</th><th scope=col>dest</th><th scope=col>tailnum</th><th scope=col>carrier</th><th scope=col>temp</th><th scope=col>dewp</th><th scope=col>humid</th><th scope=col>wind_dir</th><th scope=col>wind_speed</th><th scope=col>wind_gust</th><th scope=col>precip</th><th scope=col>pressure</th><th scope=col>visib</th><th scope=col>time_hour</th></tr>\n",
       "\t<tr><th scope=col>&lt;int&gt;</th><th scope=col>&lt;int&gt;</th><th scope=col>&lt;int&gt;</th><th scope=col>&lt;dbl&gt;</th><th scope=col>&lt;chr&gt;</th><th scope=col>&lt;chr&gt;</th><th scope=col>&lt;chr&gt;</th><th scope=col>&lt;chr&gt;</th><th scope=col>&lt;dbl&gt;</th><th scope=col>&lt;dbl&gt;</th><th scope=col>&lt;dbl&gt;</th><th scope=col>&lt;dbl&gt;</th><th scope=col>&lt;dbl&gt;</th><th scope=col>&lt;dbl&gt;</th><th scope=col>&lt;dbl&gt;</th><th scope=col>&lt;dbl&gt;</th><th scope=col>&lt;dbl&gt;</th><th scope=col>&lt;dttm&gt;</th></tr>\n",
       "</thead>\n",
       "<tbody>\n",
       "\t<tr><td>2013</td><td>1</td><td>1</td><td>5</td><td>EWR</td><td>IAH</td><td>N14228</td><td>UA</td><td>39.02</td><td>28.04</td><td>64.43</td><td>260</td><td>12.65858</td><td>      NA</td><td>0</td><td>1011.9</td><td>10</td><td>2013-01-01 05:00:00</td></tr>\n",
       "\t<tr><td>2013</td><td>1</td><td>1</td><td>5</td><td>LGA</td><td>IAH</td><td>N24211</td><td>UA</td><td>39.92</td><td>24.98</td><td>54.81</td><td>250</td><td>14.96014</td><td>21.86482</td><td>0</td><td>1011.4</td><td>10</td><td>2013-01-01 05:00:00</td></tr>\n",
       "\t<tr><td>2013</td><td>1</td><td>1</td><td>5</td><td>JFK</td><td>MIA</td><td>N619AA</td><td>AA</td><td>39.02</td><td>26.96</td><td>61.63</td><td>260</td><td>14.96014</td><td>      NA</td><td>0</td><td>1012.1</td><td>10</td><td>2013-01-01 05:00:00</td></tr>\n",
       "\t<tr><td>2013</td><td>1</td><td>1</td><td>5</td><td>JFK</td><td>BQN</td><td>N804JB</td><td>B6</td><td>39.02</td><td>26.96</td><td>61.63</td><td>260</td><td>14.96014</td><td>      NA</td><td>0</td><td>1012.1</td><td>10</td><td>2013-01-01 05:00:00</td></tr>\n",
       "\t<tr><td>2013</td><td>1</td><td>1</td><td>6</td><td>LGA</td><td>ATL</td><td>N668DN</td><td>DL</td><td>39.92</td><td>24.98</td><td>54.81</td><td>260</td><td>16.11092</td><td>23.01560</td><td>0</td><td>1011.7</td><td>10</td><td>2013-01-01 06:00:00</td></tr>\n",
       "\t<tr><td>2013</td><td>1</td><td>1</td><td>5</td><td>EWR</td><td>ORD</td><td>N39463</td><td>UA</td><td>39.02</td><td>28.04</td><td>64.43</td><td>260</td><td>12.65858</td><td>      NA</td><td>0</td><td>1011.9</td><td>10</td><td>2013-01-01 05:00:00</td></tr>\n",
       "</tbody>\n",
       "</table>\n"
      ],
      "text/latex": [
       "A tibble: 6 × 18\n",
       "\\begin{tabular}{r|llllllllllllllllll}\n",
       " year & month & day & hour & origin & dest & tailnum & carrier & temp & dewp & humid & wind\\_dir & wind\\_speed & wind\\_gust & precip & pressure & visib & time\\_hour\\\\\n",
       " <int> & <int> & <int> & <dbl> & <chr> & <chr> & <chr> & <chr> & <dbl> & <dbl> & <dbl> & <dbl> & <dbl> & <dbl> & <dbl> & <dbl> & <dbl> & <dttm>\\\\\n",
       "\\hline\n",
       "\t 2013 & 1 & 1 & 5 & EWR & IAH & N14228 & UA & 39.02 & 28.04 & 64.43 & 260 & 12.65858 &       NA & 0 & 1011.9 & 10 & 2013-01-01 05:00:00\\\\\n",
       "\t 2013 & 1 & 1 & 5 & LGA & IAH & N24211 & UA & 39.92 & 24.98 & 54.81 & 250 & 14.96014 & 21.86482 & 0 & 1011.4 & 10 & 2013-01-01 05:00:00\\\\\n",
       "\t 2013 & 1 & 1 & 5 & JFK & MIA & N619AA & AA & 39.02 & 26.96 & 61.63 & 260 & 14.96014 &       NA & 0 & 1012.1 & 10 & 2013-01-01 05:00:00\\\\\n",
       "\t 2013 & 1 & 1 & 5 & JFK & BQN & N804JB & B6 & 39.02 & 26.96 & 61.63 & 260 & 14.96014 &       NA & 0 & 1012.1 & 10 & 2013-01-01 05:00:00\\\\\n",
       "\t 2013 & 1 & 1 & 6 & LGA & ATL & N668DN & DL & 39.92 & 24.98 & 54.81 & 260 & 16.11092 & 23.01560 & 0 & 1011.7 & 10 & 2013-01-01 06:00:00\\\\\n",
       "\t 2013 & 1 & 1 & 5 & EWR & ORD & N39463 & UA & 39.02 & 28.04 & 64.43 & 260 & 12.65858 &       NA & 0 & 1011.9 & 10 & 2013-01-01 05:00:00\\\\\n",
       "\\end{tabular}\n"
      ],
      "text/markdown": [
       "\n",
       "A tibble: 6 × 18\n",
       "\n",
       "| year &lt;int&gt; | month &lt;int&gt; | day &lt;int&gt; | hour &lt;dbl&gt; | origin &lt;chr&gt; | dest &lt;chr&gt; | tailnum &lt;chr&gt; | carrier &lt;chr&gt; | temp &lt;dbl&gt; | dewp &lt;dbl&gt; | humid &lt;dbl&gt; | wind_dir &lt;dbl&gt; | wind_speed &lt;dbl&gt; | wind_gust &lt;dbl&gt; | precip &lt;dbl&gt; | pressure &lt;dbl&gt; | visib &lt;dbl&gt; | time_hour &lt;dttm&gt; |\n",
       "|---|---|---|---|---|---|---|---|---|---|---|---|---|---|---|---|---|---|\n",
       "| 2013 | 1 | 1 | 5 | EWR | IAH | N14228 | UA | 39.02 | 28.04 | 64.43 | 260 | 12.65858 |       NA | 0 | 1011.9 | 10 | 2013-01-01 05:00:00 |\n",
       "| 2013 | 1 | 1 | 5 | LGA | IAH | N24211 | UA | 39.92 | 24.98 | 54.81 | 250 | 14.96014 | 21.86482 | 0 | 1011.4 | 10 | 2013-01-01 05:00:00 |\n",
       "| 2013 | 1 | 1 | 5 | JFK | MIA | N619AA | AA | 39.02 | 26.96 | 61.63 | 260 | 14.96014 |       NA | 0 | 1012.1 | 10 | 2013-01-01 05:00:00 |\n",
       "| 2013 | 1 | 1 | 5 | JFK | BQN | N804JB | B6 | 39.02 | 26.96 | 61.63 | 260 | 14.96014 |       NA | 0 | 1012.1 | 10 | 2013-01-01 05:00:00 |\n",
       "| 2013 | 1 | 1 | 6 | LGA | ATL | N668DN | DL | 39.92 | 24.98 | 54.81 | 260 | 16.11092 | 23.01560 | 0 | 1011.7 | 10 | 2013-01-01 06:00:00 |\n",
       "| 2013 | 1 | 1 | 5 | EWR | ORD | N39463 | UA | 39.02 | 28.04 | 64.43 | 260 | 12.65858 |       NA | 0 | 1011.9 | 10 | 2013-01-01 05:00:00 |\n",
       "\n"
      ],
      "text/plain": [
       "  year month day hour origin dest tailnum carrier temp  dewp  humid wind_dir\n",
       "1 2013 1     1   5    EWR    IAH  N14228  UA      39.02 28.04 64.43 260     \n",
       "2 2013 1     1   5    LGA    IAH  N24211  UA      39.92 24.98 54.81 250     \n",
       "3 2013 1     1   5    JFK    MIA  N619AA  AA      39.02 26.96 61.63 260     \n",
       "4 2013 1     1   5    JFK    BQN  N804JB  B6      39.02 26.96 61.63 260     \n",
       "5 2013 1     1   6    LGA    ATL  N668DN  DL      39.92 24.98 54.81 260     \n",
       "6 2013 1     1   5    EWR    ORD  N39463  UA      39.02 28.04 64.43 260     \n",
       "  wind_speed wind_gust precip pressure visib time_hour          \n",
       "1 12.65858         NA  0      1011.9   10    2013-01-01 05:00:00\n",
       "2 14.96014   21.86482  0      1011.4   10    2013-01-01 05:00:00\n",
       "3 14.96014         NA  0      1012.1   10    2013-01-01 05:00:00\n",
       "4 14.96014         NA  0      1012.1   10    2013-01-01 05:00:00\n",
       "5 16.11092   23.01560  0      1011.7   10    2013-01-01 06:00:00\n",
       "6 12.65858         NA  0      1011.9   10    2013-01-01 05:00:00"
      ]
     },
     "metadata": {},
     "output_type": "display_data"
    }
   ],
   "source": [
    "# 定义键列\n",
    "# 自然连接：使用所有共存的变量连接\n",
    "flights2 %>% left_join(weather) %>% head()"
   ]
  },
  {
   "cell_type": "code",
   "execution_count": 19,
   "metadata": {},
   "outputs": [
    {
     "data": {
      "text/html": [
       "<table>\n",
       "<caption>A tibble: 6 × 16</caption>\n",
       "<thead>\n",
       "\t<tr><th scope=col>year.x</th><th scope=col>month</th><th scope=col>day</th><th scope=col>hour</th><th scope=col>origin</th><th scope=col>dest</th><th scope=col>tailnum</th><th scope=col>carrier</th><th scope=col>year.y</th><th scope=col>type</th><th scope=col>manufacturer</th><th scope=col>model</th><th scope=col>engines</th><th scope=col>seats</th><th scope=col>speed</th><th scope=col>engine</th></tr>\n",
       "\t<tr><th scope=col>&lt;int&gt;</th><th scope=col>&lt;int&gt;</th><th scope=col>&lt;int&gt;</th><th scope=col>&lt;dbl&gt;</th><th scope=col>&lt;chr&gt;</th><th scope=col>&lt;chr&gt;</th><th scope=col>&lt;chr&gt;</th><th scope=col>&lt;chr&gt;</th><th scope=col>&lt;int&gt;</th><th scope=col>&lt;chr&gt;</th><th scope=col>&lt;chr&gt;</th><th scope=col>&lt;chr&gt;</th><th scope=col>&lt;int&gt;</th><th scope=col>&lt;int&gt;</th><th scope=col>&lt;int&gt;</th><th scope=col>&lt;chr&gt;</th></tr>\n",
       "</thead>\n",
       "<tbody>\n",
       "\t<tr><td>2013</td><td>1</td><td>1</td><td>5</td><td>EWR</td><td>IAH</td><td>N14228</td><td>UA</td><td>1999</td><td>Fixed wing multi engine</td><td>BOEING</td><td>737-824  </td><td>2</td><td>149</td><td>NA</td><td>Turbo-fan</td></tr>\n",
       "\t<tr><td>2013</td><td>1</td><td>1</td><td>5</td><td>LGA</td><td>IAH</td><td>N24211</td><td>UA</td><td>1998</td><td>Fixed wing multi engine</td><td>BOEING</td><td>737-824  </td><td>2</td><td>149</td><td>NA</td><td>Turbo-fan</td></tr>\n",
       "\t<tr><td>2013</td><td>1</td><td>1</td><td>5</td><td>JFK</td><td>MIA</td><td>N619AA</td><td>AA</td><td>1990</td><td>Fixed wing multi engine</td><td>BOEING</td><td>757-223  </td><td>2</td><td>178</td><td>NA</td><td>Turbo-fan</td></tr>\n",
       "\t<tr><td>2013</td><td>1</td><td>1</td><td>5</td><td>JFK</td><td>BQN</td><td>N804JB</td><td>B6</td><td>2012</td><td>Fixed wing multi engine</td><td>AIRBUS</td><td>A320-232 </td><td>2</td><td>200</td><td>NA</td><td>Turbo-fan</td></tr>\n",
       "\t<tr><td>2013</td><td>1</td><td>1</td><td>6</td><td>LGA</td><td>ATL</td><td>N668DN</td><td>DL</td><td>1991</td><td>Fixed wing multi engine</td><td>BOEING</td><td>757-232  </td><td>2</td><td>178</td><td>NA</td><td>Turbo-fan</td></tr>\n",
       "\t<tr><td>2013</td><td>1</td><td>1</td><td>5</td><td>EWR</td><td>ORD</td><td>N39463</td><td>UA</td><td>2012</td><td>Fixed wing multi engine</td><td>BOEING</td><td>737-924ER</td><td>2</td><td>191</td><td>NA</td><td>Turbo-fan</td></tr>\n",
       "</tbody>\n",
       "</table>\n"
      ],
      "text/latex": [
       "A tibble: 6 × 16\n",
       "\\begin{tabular}{r|llllllllllllllll}\n",
       " year.x & month & day & hour & origin & dest & tailnum & carrier & year.y & type & manufacturer & model & engines & seats & speed & engine\\\\\n",
       " <int> & <int> & <int> & <dbl> & <chr> & <chr> & <chr> & <chr> & <int> & <chr> & <chr> & <chr> & <int> & <int> & <int> & <chr>\\\\\n",
       "\\hline\n",
       "\t 2013 & 1 & 1 & 5 & EWR & IAH & N14228 & UA & 1999 & Fixed wing multi engine & BOEING & 737-824   & 2 & 149 & NA & Turbo-fan\\\\\n",
       "\t 2013 & 1 & 1 & 5 & LGA & IAH & N24211 & UA & 1998 & Fixed wing multi engine & BOEING & 737-824   & 2 & 149 & NA & Turbo-fan\\\\\n",
       "\t 2013 & 1 & 1 & 5 & JFK & MIA & N619AA & AA & 1990 & Fixed wing multi engine & BOEING & 757-223   & 2 & 178 & NA & Turbo-fan\\\\\n",
       "\t 2013 & 1 & 1 & 5 & JFK & BQN & N804JB & B6 & 2012 & Fixed wing multi engine & AIRBUS & A320-232  & 2 & 200 & NA & Turbo-fan\\\\\n",
       "\t 2013 & 1 & 1 & 6 & LGA & ATL & N668DN & DL & 1991 & Fixed wing multi engine & BOEING & 757-232   & 2 & 178 & NA & Turbo-fan\\\\\n",
       "\t 2013 & 1 & 1 & 5 & EWR & ORD & N39463 & UA & 2012 & Fixed wing multi engine & BOEING & 737-924ER & 2 & 191 & NA & Turbo-fan\\\\\n",
       "\\end{tabular}\n"
      ],
      "text/markdown": [
       "\n",
       "A tibble: 6 × 16\n",
       "\n",
       "| year.x &lt;int&gt; | month &lt;int&gt; | day &lt;int&gt; | hour &lt;dbl&gt; | origin &lt;chr&gt; | dest &lt;chr&gt; | tailnum &lt;chr&gt; | carrier &lt;chr&gt; | year.y &lt;int&gt; | type &lt;chr&gt; | manufacturer &lt;chr&gt; | model &lt;chr&gt; | engines &lt;int&gt; | seats &lt;int&gt; | speed &lt;int&gt; | engine &lt;chr&gt; |\n",
       "|---|---|---|---|---|---|---|---|---|---|---|---|---|---|---|---|\n",
       "| 2013 | 1 | 1 | 5 | EWR | IAH | N14228 | UA | 1999 | Fixed wing multi engine | BOEING | 737-824   | 2 | 149 | NA | Turbo-fan |\n",
       "| 2013 | 1 | 1 | 5 | LGA | IAH | N24211 | UA | 1998 | Fixed wing multi engine | BOEING | 737-824   | 2 | 149 | NA | Turbo-fan |\n",
       "| 2013 | 1 | 1 | 5 | JFK | MIA | N619AA | AA | 1990 | Fixed wing multi engine | BOEING | 757-223   | 2 | 178 | NA | Turbo-fan |\n",
       "| 2013 | 1 | 1 | 5 | JFK | BQN | N804JB | B6 | 2012 | Fixed wing multi engine | AIRBUS | A320-232  | 2 | 200 | NA | Turbo-fan |\n",
       "| 2013 | 1 | 1 | 6 | LGA | ATL | N668DN | DL | 1991 | Fixed wing multi engine | BOEING | 757-232   | 2 | 178 | NA | Turbo-fan |\n",
       "| 2013 | 1 | 1 | 5 | EWR | ORD | N39463 | UA | 2012 | Fixed wing multi engine | BOEING | 737-924ER | 2 | 191 | NA | Turbo-fan |\n",
       "\n"
      ],
      "text/plain": [
       "  year.x month day hour origin dest tailnum carrier year.y\n",
       "1 2013   1     1   5    EWR    IAH  N14228  UA      1999  \n",
       "2 2013   1     1   5    LGA    IAH  N24211  UA      1998  \n",
       "3 2013   1     1   5    JFK    MIA  N619AA  AA      1990  \n",
       "4 2013   1     1   5    JFK    BQN  N804JB  B6      2012  \n",
       "5 2013   1     1   6    LGA    ATL  N668DN  DL      1991  \n",
       "6 2013   1     1   5    EWR    ORD  N39463  UA      2012  \n",
       "  type                    manufacturer model     engines seats speed engine   \n",
       "1 Fixed wing multi engine BOEING       737-824   2       149   NA    Turbo-fan\n",
       "2 Fixed wing multi engine BOEING       737-824   2       149   NA    Turbo-fan\n",
       "3 Fixed wing multi engine BOEING       757-223   2       178   NA    Turbo-fan\n",
       "4 Fixed wing multi engine AIRBUS       A320-232  2       200   NA    Turbo-fan\n",
       "5 Fixed wing multi engine BOEING       757-232   2       178   NA    Turbo-fan\n",
       "6 Fixed wing multi engine BOEING       737-924ER 2       191   NA    Turbo-fan"
      ]
     },
     "metadata": {},
     "output_type": "display_data"
    }
   ],
   "source": [
    "# by = \"x\" 则只使用选定的公共变量\n",
    "flights2 %>% left_join(planes, by = \"tailnum\") %>% head()"
   ]
  },
  {
   "cell_type": "code",
   "execution_count": 20,
   "metadata": {},
   "outputs": [
    {
     "data": {
      "text/html": [
       "<table>\n",
       "<caption>A tibble: 6 × 15</caption>\n",
       "<thead>\n",
       "\t<tr><th scope=col>year</th><th scope=col>month</th><th scope=col>day</th><th scope=col>hour</th><th scope=col>origin</th><th scope=col>dest</th><th scope=col>tailnum</th><th scope=col>carrier</th><th scope=col>name</th><th scope=col>lat</th><th scope=col>lon</th><th scope=col>alt</th><th scope=col>tz</th><th scope=col>dst</th><th scope=col>tzone</th></tr>\n",
       "\t<tr><th scope=col>&lt;int&gt;</th><th scope=col>&lt;int&gt;</th><th scope=col>&lt;int&gt;</th><th scope=col>&lt;dbl&gt;</th><th scope=col>&lt;chr&gt;</th><th scope=col>&lt;chr&gt;</th><th scope=col>&lt;chr&gt;</th><th scope=col>&lt;chr&gt;</th><th scope=col>&lt;chr&gt;</th><th scope=col>&lt;dbl&gt;</th><th scope=col>&lt;dbl&gt;</th><th scope=col>&lt;dbl&gt;</th><th scope=col>&lt;dbl&gt;</th><th scope=col>&lt;chr&gt;</th><th scope=col>&lt;chr&gt;</th></tr>\n",
       "</thead>\n",
       "<tbody>\n",
       "\t<tr><td>2013</td><td>1</td><td>1</td><td>5</td><td>EWR</td><td>IAH</td><td>N14228</td><td>UA</td><td>George Bush Intercontinental   </td><td>29.98443</td><td>-95.34144</td><td>  97</td><td>-6</td><td>A </td><td>America/Chicago </td></tr>\n",
       "\t<tr><td>2013</td><td>1</td><td>1</td><td>5</td><td>LGA</td><td>IAH</td><td>N24211</td><td>UA</td><td>George Bush Intercontinental   </td><td>29.98443</td><td>-95.34144</td><td>  97</td><td>-6</td><td>A </td><td>America/Chicago </td></tr>\n",
       "\t<tr><td>2013</td><td>1</td><td>1</td><td>5</td><td>JFK</td><td>MIA</td><td>N619AA</td><td>AA</td><td>Miami Intl                     </td><td>25.79325</td><td>-80.29056</td><td>   8</td><td>-5</td><td>A </td><td>America/New_York</td></tr>\n",
       "\t<tr><td>2013</td><td>1</td><td>1</td><td>5</td><td>JFK</td><td>BQN</td><td>N804JB</td><td>B6</td><td>NA                             </td><td>      NA</td><td>       NA</td><td>  NA</td><td>NA</td><td>NA</td><td>NA              </td></tr>\n",
       "\t<tr><td>2013</td><td>1</td><td>1</td><td>6</td><td>LGA</td><td>ATL</td><td>N668DN</td><td>DL</td><td>Hartsfield Jackson Atlanta Intl</td><td>33.63672</td><td>-84.42807</td><td>1026</td><td>-5</td><td>A </td><td>America/New_York</td></tr>\n",
       "\t<tr><td>2013</td><td>1</td><td>1</td><td>5</td><td>EWR</td><td>ORD</td><td>N39463</td><td>UA</td><td>Chicago Ohare Intl             </td><td>41.97860</td><td>-87.90484</td><td> 668</td><td>-6</td><td>A </td><td>America/Chicago </td></tr>\n",
       "</tbody>\n",
       "</table>\n"
      ],
      "text/latex": [
       "A tibble: 6 × 15\n",
       "\\begin{tabular}{r|lllllllllllllll}\n",
       " year & month & day & hour & origin & dest & tailnum & carrier & name & lat & lon & alt & tz & dst & tzone\\\\\n",
       " <int> & <int> & <int> & <dbl> & <chr> & <chr> & <chr> & <chr> & <chr> & <dbl> & <dbl> & <dbl> & <dbl> & <chr> & <chr>\\\\\n",
       "\\hline\n",
       "\t 2013 & 1 & 1 & 5 & EWR & IAH & N14228 & UA & George Bush Intercontinental    & 29.98443 & -95.34144 &   97 & -6 & A  & America/Chicago \\\\\n",
       "\t 2013 & 1 & 1 & 5 & LGA & IAH & N24211 & UA & George Bush Intercontinental    & 29.98443 & -95.34144 &   97 & -6 & A  & America/Chicago \\\\\n",
       "\t 2013 & 1 & 1 & 5 & JFK & MIA & N619AA & AA & Miami Intl                      & 25.79325 & -80.29056 &    8 & -5 & A  & America/New\\_York\\\\\n",
       "\t 2013 & 1 & 1 & 5 & JFK & BQN & N804JB & B6 & NA                              &       NA &        NA &   NA & NA & NA & NA              \\\\\n",
       "\t 2013 & 1 & 1 & 6 & LGA & ATL & N668DN & DL & Hartsfield Jackson Atlanta Intl & 33.63672 & -84.42807 & 1026 & -5 & A  & America/New\\_York\\\\\n",
       "\t 2013 & 1 & 1 & 5 & EWR & ORD & N39463 & UA & Chicago Ohare Intl              & 41.97860 & -87.90484 &  668 & -6 & A  & America/Chicago \\\\\n",
       "\\end{tabular}\n"
      ],
      "text/markdown": [
       "\n",
       "A tibble: 6 × 15\n",
       "\n",
       "| year &lt;int&gt; | month &lt;int&gt; | day &lt;int&gt; | hour &lt;dbl&gt; | origin &lt;chr&gt; | dest &lt;chr&gt; | tailnum &lt;chr&gt; | carrier &lt;chr&gt; | name &lt;chr&gt; | lat &lt;dbl&gt; | lon &lt;dbl&gt; | alt &lt;dbl&gt; | tz &lt;dbl&gt; | dst &lt;chr&gt; | tzone &lt;chr&gt; |\n",
       "|---|---|---|---|---|---|---|---|---|---|---|---|---|---|---|\n",
       "| 2013 | 1 | 1 | 5 | EWR | IAH | N14228 | UA | George Bush Intercontinental    | 29.98443 | -95.34144 |   97 | -6 | A  | America/Chicago  |\n",
       "| 2013 | 1 | 1 | 5 | LGA | IAH | N24211 | UA | George Bush Intercontinental    | 29.98443 | -95.34144 |   97 | -6 | A  | America/Chicago  |\n",
       "| 2013 | 1 | 1 | 5 | JFK | MIA | N619AA | AA | Miami Intl                      | 25.79325 | -80.29056 |    8 | -5 | A  | America/New_York |\n",
       "| 2013 | 1 | 1 | 5 | JFK | BQN | N804JB | B6 | NA                              |       NA |        NA |   NA | NA | NA | NA               |\n",
       "| 2013 | 1 | 1 | 6 | LGA | ATL | N668DN | DL | Hartsfield Jackson Atlanta Intl | 33.63672 | -84.42807 | 1026 | -5 | A  | America/New_York |\n",
       "| 2013 | 1 | 1 | 5 | EWR | ORD | N39463 | UA | Chicago Ohare Intl              | 41.97860 | -87.90484 |  668 | -6 | A  | America/Chicago  |\n",
       "\n"
      ],
      "text/plain": [
       "  year month day hour origin dest tailnum carrier\n",
       "1 2013 1     1   5    EWR    IAH  N14228  UA     \n",
       "2 2013 1     1   5    LGA    IAH  N24211  UA     \n",
       "3 2013 1     1   5    JFK    MIA  N619AA  AA     \n",
       "4 2013 1     1   5    JFK    BQN  N804JB  B6     \n",
       "5 2013 1     1   6    LGA    ATL  N668DN  DL     \n",
       "6 2013 1     1   5    EWR    ORD  N39463  UA     \n",
       "  name                            lat      lon       alt  tz dst\n",
       "1 George Bush Intercontinental    29.98443 -95.34144   97 -6 A  \n",
       "2 George Bush Intercontinental    29.98443 -95.34144   97 -6 A  \n",
       "3 Miami Intl                      25.79325 -80.29056    8 -5 A  \n",
       "4 NA                                    NA        NA   NA NA NA \n",
       "5 Hartsfield Jackson Atlanta Intl 33.63672 -84.42807 1026 -5 A  \n",
       "6 Chicago Ohare Intl              41.97860 -87.90484  668 -6 A  \n",
       "  tzone           \n",
       "1 America/Chicago \n",
       "2 America/Chicago \n",
       "3 America/New_York\n",
       "4 NA              \n",
       "5 America/New_York\n",
       "6 America/Chicago "
      ]
     },
     "metadata": {},
     "output_type": "display_data"
    },
    {
     "data": {
      "text/html": [
       "<table>\n",
       "<caption>A tibble: 6 × 15</caption>\n",
       "<thead>\n",
       "\t<tr><th scope=col>year</th><th scope=col>month</th><th scope=col>day</th><th scope=col>hour</th><th scope=col>origin</th><th scope=col>dest</th><th scope=col>tailnum</th><th scope=col>carrier</th><th scope=col>name</th><th scope=col>lat</th><th scope=col>lon</th><th scope=col>alt</th><th scope=col>tz</th><th scope=col>dst</th><th scope=col>tzone</th></tr>\n",
       "\t<tr><th scope=col>&lt;int&gt;</th><th scope=col>&lt;int&gt;</th><th scope=col>&lt;int&gt;</th><th scope=col>&lt;dbl&gt;</th><th scope=col>&lt;chr&gt;</th><th scope=col>&lt;chr&gt;</th><th scope=col>&lt;chr&gt;</th><th scope=col>&lt;chr&gt;</th><th scope=col>&lt;chr&gt;</th><th scope=col>&lt;dbl&gt;</th><th scope=col>&lt;dbl&gt;</th><th scope=col>&lt;dbl&gt;</th><th scope=col>&lt;dbl&gt;</th><th scope=col>&lt;chr&gt;</th><th scope=col>&lt;chr&gt;</th></tr>\n",
       "</thead>\n",
       "<tbody>\n",
       "\t<tr><td>2013</td><td>1</td><td>1</td><td>5</td><td>EWR</td><td>IAH</td><td>N14228</td><td>UA</td><td>Newark Liberty Intl</td><td>40.69250</td><td>-74.16867</td><td>18</td><td>-5</td><td>A</td><td>America/New_York</td></tr>\n",
       "\t<tr><td>2013</td><td>1</td><td>1</td><td>5</td><td>LGA</td><td>IAH</td><td>N24211</td><td>UA</td><td>La Guardia         </td><td>40.77725</td><td>-73.87261</td><td>22</td><td>-5</td><td>A</td><td>America/New_York</td></tr>\n",
       "\t<tr><td>2013</td><td>1</td><td>1</td><td>5</td><td>JFK</td><td>MIA</td><td>N619AA</td><td>AA</td><td>John F Kennedy Intl</td><td>40.63975</td><td>-73.77893</td><td>13</td><td>-5</td><td>A</td><td>America/New_York</td></tr>\n",
       "\t<tr><td>2013</td><td>1</td><td>1</td><td>5</td><td>JFK</td><td>BQN</td><td>N804JB</td><td>B6</td><td>John F Kennedy Intl</td><td>40.63975</td><td>-73.77893</td><td>13</td><td>-5</td><td>A</td><td>America/New_York</td></tr>\n",
       "\t<tr><td>2013</td><td>1</td><td>1</td><td>6</td><td>LGA</td><td>ATL</td><td>N668DN</td><td>DL</td><td>La Guardia         </td><td>40.77725</td><td>-73.87261</td><td>22</td><td>-5</td><td>A</td><td>America/New_York</td></tr>\n",
       "\t<tr><td>2013</td><td>1</td><td>1</td><td>5</td><td>EWR</td><td>ORD</td><td>N39463</td><td>UA</td><td>Newark Liberty Intl</td><td>40.69250</td><td>-74.16867</td><td>18</td><td>-5</td><td>A</td><td>America/New_York</td></tr>\n",
       "</tbody>\n",
       "</table>\n"
      ],
      "text/latex": [
       "A tibble: 6 × 15\n",
       "\\begin{tabular}{r|lllllllllllllll}\n",
       " year & month & day & hour & origin & dest & tailnum & carrier & name & lat & lon & alt & tz & dst & tzone\\\\\n",
       " <int> & <int> & <int> & <dbl> & <chr> & <chr> & <chr> & <chr> & <chr> & <dbl> & <dbl> & <dbl> & <dbl> & <chr> & <chr>\\\\\n",
       "\\hline\n",
       "\t 2013 & 1 & 1 & 5 & EWR & IAH & N14228 & UA & Newark Liberty Intl & 40.69250 & -74.16867 & 18 & -5 & A & America/New\\_York\\\\\n",
       "\t 2013 & 1 & 1 & 5 & LGA & IAH & N24211 & UA & La Guardia          & 40.77725 & -73.87261 & 22 & -5 & A & America/New\\_York\\\\\n",
       "\t 2013 & 1 & 1 & 5 & JFK & MIA & N619AA & AA & John F Kennedy Intl & 40.63975 & -73.77893 & 13 & -5 & A & America/New\\_York\\\\\n",
       "\t 2013 & 1 & 1 & 5 & JFK & BQN & N804JB & B6 & John F Kennedy Intl & 40.63975 & -73.77893 & 13 & -5 & A & America/New\\_York\\\\\n",
       "\t 2013 & 1 & 1 & 6 & LGA & ATL & N668DN & DL & La Guardia          & 40.77725 & -73.87261 & 22 & -5 & A & America/New\\_York\\\\\n",
       "\t 2013 & 1 & 1 & 5 & EWR & ORD & N39463 & UA & Newark Liberty Intl & 40.69250 & -74.16867 & 18 & -5 & A & America/New\\_York\\\\\n",
       "\\end{tabular}\n"
      ],
      "text/markdown": [
       "\n",
       "A tibble: 6 × 15\n",
       "\n",
       "| year &lt;int&gt; | month &lt;int&gt; | day &lt;int&gt; | hour &lt;dbl&gt; | origin &lt;chr&gt; | dest &lt;chr&gt; | tailnum &lt;chr&gt; | carrier &lt;chr&gt; | name &lt;chr&gt; | lat &lt;dbl&gt; | lon &lt;dbl&gt; | alt &lt;dbl&gt; | tz &lt;dbl&gt; | dst &lt;chr&gt; | tzone &lt;chr&gt; |\n",
       "|---|---|---|---|---|---|---|---|---|---|---|---|---|---|---|\n",
       "| 2013 | 1 | 1 | 5 | EWR | IAH | N14228 | UA | Newark Liberty Intl | 40.69250 | -74.16867 | 18 | -5 | A | America/New_York |\n",
       "| 2013 | 1 | 1 | 5 | LGA | IAH | N24211 | UA | La Guardia          | 40.77725 | -73.87261 | 22 | -5 | A | America/New_York |\n",
       "| 2013 | 1 | 1 | 5 | JFK | MIA | N619AA | AA | John F Kennedy Intl | 40.63975 | -73.77893 | 13 | -5 | A | America/New_York |\n",
       "| 2013 | 1 | 1 | 5 | JFK | BQN | N804JB | B6 | John F Kennedy Intl | 40.63975 | -73.77893 | 13 | -5 | A | America/New_York |\n",
       "| 2013 | 1 | 1 | 6 | LGA | ATL | N668DN | DL | La Guardia          | 40.77725 | -73.87261 | 22 | -5 | A | America/New_York |\n",
       "| 2013 | 1 | 1 | 5 | EWR | ORD | N39463 | UA | Newark Liberty Intl | 40.69250 | -74.16867 | 18 | -5 | A | America/New_York |\n",
       "\n"
      ],
      "text/plain": [
       "  year month day hour origin dest tailnum carrier name                lat     \n",
       "1 2013 1     1   5    EWR    IAH  N14228  UA      Newark Liberty Intl 40.69250\n",
       "2 2013 1     1   5    LGA    IAH  N24211  UA      La Guardia          40.77725\n",
       "3 2013 1     1   5    JFK    MIA  N619AA  AA      John F Kennedy Intl 40.63975\n",
       "4 2013 1     1   5    JFK    BQN  N804JB  B6      John F Kennedy Intl 40.63975\n",
       "5 2013 1     1   6    LGA    ATL  N668DN  DL      La Guardia          40.77725\n",
       "6 2013 1     1   5    EWR    ORD  N39463  UA      Newark Liberty Intl 40.69250\n",
       "  lon       alt tz dst tzone           \n",
       "1 -74.16867 18  -5 A   America/New_York\n",
       "2 -73.87261 22  -5 A   America/New_York\n",
       "3 -73.77893 13  -5 A   America/New_York\n",
       "4 -73.77893 13  -5 A   America/New_York\n",
       "5 -73.87261 22  -5 A   America/New_York\n",
       "6 -74.16867 18  -5 A   America/New_York"
      ]
     },
     "metadata": {},
     "output_type": "display_data"
    }
   ],
   "source": [
    "# by = c(\"a\"=\"b\")这种方式会匹配x表中的a变量和y表中的b变量。\n",
    "# 输出结果中使用的是x表中的变量。\n",
    "\n",
    "flights2 %>% left_join(airports, by = c(\"dest\" = \"faa\")) %>% \n",
    "head()\n",
    "\n",
    "flights2 %>% left_join(airports, by = c(\"origin\" = \"faa\")) %>%\n",
    "head()"
   ]
  },
  {
   "cell_type": "code",
   "execution_count": 21,
   "metadata": {},
   "outputs": [
    {
     "data": {
      "image/png": "[encoded data removed]",
      "text/plain": [
       "plot without title"
      ]
     },
     "metadata": {},
     "output_type": "display_data"
    }
   ],
   "source": [
    "airports %>% semi_join(flights, c(\"faa\" = \"dest\"))%>%\n",
    "ggplot(aes(lon, lat)) + \n",
    "borders(\"state\") + \n",
    "geom_point() + \n",
    "coord_quickmap()"
   ]
  },
  {
   "cell_type": "markdown",
   "metadata": {},
   "source": [
    "base::merge()函数可以实现所有4种合并连接操作。\n",
    "\n",
    "dplyrmergeinner_join(x, y)-->merge(x, y)\n",
    "\n",
    "left_join(x, y)-->merge(x, y, all.x = TRUE)\n",
    "\n",
    "right_join(x, y)-->merge(x, y, all.y = TRUE)\n",
    "\n",
    "full_join(x, y)-->merge(x, y, all.x = TRUE, all.y = TRUE"
   ]
  },
  {
   "cell_type": "markdown",
   "metadata": {},
   "source": [
    "## 筛选连接\n",
    "\n",
    "筛选连接匹配观测的方式与合并连接相同，但前者影响的是观测，而不是变量。\n",
    "\n",
    "筛选连接有两种类型。\n",
    "\n",
    "semi_join(x, y)：保留x表中与y表中的观测相匹配的所有观测。\n",
    "\n",
    "anti_join(x, y)：丢弃x表中与y表中的观测相匹配的所有观测"
   ]
  },
  {
   "cell_type": "code",
   "execution_count": 22,
   "metadata": {},
   "outputs": [
    {
     "data": {
      "text/html": [
       "<table>\n",
       "<caption>A tibble: 10 × 2</caption>\n",
       "<thead>\n",
       "\t<tr><th scope=col>dest</th><th scope=col>n</th></tr>\n",
       "\t<tr><th scope=col>&lt;chr&gt;</th><th scope=col>&lt;int&gt;</th></tr>\n",
       "</thead>\n",
       "<tbody>\n",
       "\t<tr><td>ORD</td><td>17283</td></tr>\n",
       "\t<tr><td>ATL</td><td>17215</td></tr>\n",
       "\t<tr><td>LAX</td><td>16174</td></tr>\n",
       "\t<tr><td>BOS</td><td>15508</td></tr>\n",
       "\t<tr><td>MCO</td><td>14082</td></tr>\n",
       "\t<tr><td>CLT</td><td>14064</td></tr>\n",
       "\t<tr><td>SFO</td><td>13331</td></tr>\n",
       "\t<tr><td>FLL</td><td>12055</td></tr>\n",
       "\t<tr><td>MIA</td><td>11728</td></tr>\n",
       "\t<tr><td>DCA</td><td> 9705</td></tr>\n",
       "</tbody>\n",
       "</table>\n"
      ],
      "text/latex": [
       "A tibble: 10 × 2\n",
       "\\begin{tabular}{r|ll}\n",
       " dest & n\\\\\n",
       " <chr> & <int>\\\\\n",
       "\\hline\n",
       "\t ORD & 17283\\\\\n",
       "\t ATL & 17215\\\\\n",
       "\t LAX & 16174\\\\\n",
       "\t BOS & 15508\\\\\n",
       "\t MCO & 14082\\\\\n",
       "\t CLT & 14064\\\\\n",
       "\t SFO & 13331\\\\\n",
       "\t FLL & 12055\\\\\n",
       "\t MIA & 11728\\\\\n",
       "\t DCA &  9705\\\\\n",
       "\\end{tabular}\n"
      ],
      "text/markdown": [
       "\n",
       "A tibble: 10 × 2\n",
       "\n",
       "| dest &lt;chr&gt; | n &lt;int&gt; |\n",
       "|---|---|\n",
       "| ORD | 17283 |\n",
       "| ATL | 17215 |\n",
       "| LAX | 16174 |\n",
       "| BOS | 15508 |\n",
       "| MCO | 14082 |\n",
       "| CLT | 14064 |\n",
       "| SFO | 13331 |\n",
       "| FLL | 12055 |\n",
       "| MIA | 11728 |\n",
       "| DCA |  9705 |\n",
       "\n"
      ],
      "text/plain": [
       "   dest n    \n",
       "1  ORD  17283\n",
       "2  ATL  17215\n",
       "3  LAX  16174\n",
       "4  BOS  15508\n",
       "5  MCO  14082\n",
       "6  CLT  14064\n",
       "7  SFO  13331\n",
       "8  FLL  12055\n",
       "9  MIA  11728\n",
       "10 DCA   9705"
      ]
     },
     "metadata": {},
     "output_type": "display_data"
    },
    {
     "data": {
      "text/html": [
       "<table>\n",
       "<caption>A tibble: 6 × 19</caption>\n",
       "<thead>\n",
       "\t<tr><th scope=col>year</th><th scope=col>month</th><th scope=col>day</th><th scope=col>dep_time</th><th scope=col>sched_dep_time</th><th scope=col>dep_delay</th><th scope=col>arr_time</th><th scope=col>sched_arr_time</th><th scope=col>arr_delay</th><th scope=col>carrier</th><th scope=col>flight</th><th scope=col>tailnum</th><th scope=col>origin</th><th scope=col>dest</th><th scope=col>air_time</th><th scope=col>distance</th><th scope=col>hour</th><th scope=col>minute</th><th scope=col>time_hour</th></tr>\n",
       "\t<tr><th scope=col>&lt;int&gt;</th><th scope=col>&lt;int&gt;</th><th scope=col>&lt;int&gt;</th><th scope=col>&lt;int&gt;</th><th scope=col>&lt;int&gt;</th><th scope=col>&lt;dbl&gt;</th><th scope=col>&lt;int&gt;</th><th scope=col>&lt;int&gt;</th><th scope=col>&lt;dbl&gt;</th><th scope=col>&lt;chr&gt;</th><th scope=col>&lt;int&gt;</th><th scope=col>&lt;chr&gt;</th><th scope=col>&lt;chr&gt;</th><th scope=col>&lt;chr&gt;</th><th scope=col>&lt;dbl&gt;</th><th scope=col>&lt;dbl&gt;</th><th scope=col>&lt;dbl&gt;</th><th scope=col>&lt;dbl&gt;</th><th scope=col>&lt;dttm&gt;</th></tr>\n",
       "</thead>\n",
       "<tbody>\n",
       "\t<tr><td>2013</td><td>1</td><td>1</td><td>542</td><td>540</td><td> 2</td><td>923</td><td>850</td><td> 33</td><td>AA</td><td>1141</td><td>N619AA</td><td>JFK</td><td>MIA</td><td>160</td><td>1089</td><td>5</td><td>40</td><td>2013-01-01 05:00:00</td></tr>\n",
       "\t<tr><td>2013</td><td>1</td><td>1</td><td>554</td><td>600</td><td>-6</td><td>812</td><td>837</td><td>-25</td><td>DL</td><td> 461</td><td>N668DN</td><td>LGA</td><td>ATL</td><td>116</td><td> 762</td><td>6</td><td> 0</td><td>2013-01-01 06:00:00</td></tr>\n",
       "\t<tr><td>2013</td><td>1</td><td>1</td><td>554</td><td>558</td><td>-4</td><td>740</td><td>728</td><td> 12</td><td>UA</td><td>1696</td><td>N39463</td><td>EWR</td><td>ORD</td><td>150</td><td> 719</td><td>5</td><td>58</td><td>2013-01-01 05:00:00</td></tr>\n",
       "\t<tr><td>2013</td><td>1</td><td>1</td><td>555</td><td>600</td><td>-5</td><td>913</td><td>854</td><td> 19</td><td>B6</td><td> 507</td><td>N516JB</td><td>EWR</td><td>FLL</td><td>158</td><td>1065</td><td>6</td><td> 0</td><td>2013-01-01 06:00:00</td></tr>\n",
       "\t<tr><td>2013</td><td>1</td><td>1</td><td>557</td><td>600</td><td>-3</td><td>838</td><td>846</td><td> -8</td><td>B6</td><td>  79</td><td>N593JB</td><td>JFK</td><td>MCO</td><td>140</td><td> 944</td><td>6</td><td> 0</td><td>2013-01-01 06:00:00</td></tr>\n",
       "\t<tr><td>2013</td><td>1</td><td>1</td><td>558</td><td>600</td><td>-2</td><td>753</td><td>745</td><td>  8</td><td>AA</td><td> 301</td><td>N3ALAA</td><td>LGA</td><td>ORD</td><td>138</td><td> 733</td><td>6</td><td> 0</td><td>2013-01-01 06:00:00</td></tr>\n",
       "</tbody>\n",
       "</table>\n"
      ],
      "text/latex": [
       "A tibble: 6 × 19\n",
       "\\begin{tabular}{r|lllllllllllllllllll}\n",
       " year & month & day & dep\\_time & sched\\_dep\\_time & dep\\_delay & arr\\_time & sched\\_arr\\_time & arr\\_delay & carrier & flight & tailnum & origin & dest & air\\_time & distance & hour & minute & time\\_hour\\\\\n",
       " <int> & <int> & <int> & <int> & <int> & <dbl> & <int> & <int> & <dbl> & <chr> & <int> & <chr> & <chr> & <chr> & <dbl> & <dbl> & <dbl> & <dbl> & <dttm>\\\\\n",
       "\\hline\n",
       "\t 2013 & 1 & 1 & 542 & 540 &  2 & 923 & 850 &  33 & AA & 1141 & N619AA & JFK & MIA & 160 & 1089 & 5 & 40 & 2013-01-01 05:00:00\\\\\n",
       "\t 2013 & 1 & 1 & 554 & 600 & -6 & 812 & 837 & -25 & DL &  461 & N668DN & LGA & ATL & 116 &  762 & 6 &  0 & 2013-01-01 06:00:00\\\\\n",
       "\t 2013 & 1 & 1 & 554 & 558 & -4 & 740 & 728 &  12 & UA & 1696 & N39463 & EWR & ORD & 150 &  719 & 5 & 58 & 2013-01-01 05:00:00\\\\\n",
       "\t 2013 & 1 & 1 & 555 & 600 & -5 & 913 & 854 &  19 & B6 &  507 & N516JB & EWR & FLL & 158 & 1065 & 6 &  0 & 2013-01-01 06:00:00\\\\\n",
       "\t 2013 & 1 & 1 & 557 & 600 & -3 & 838 & 846 &  -8 & B6 &   79 & N593JB & JFK & MCO & 140 &  944 & 6 &  0 & 2013-01-01 06:00:00\\\\\n",
       "\t 2013 & 1 & 1 & 558 & 600 & -2 & 753 & 745 &   8 & AA &  301 & N3ALAA & LGA & ORD & 138 &  733 & 6 &  0 & 2013-01-01 06:00:00\\\\\n",
       "\\end{tabular}\n"
      ],
      "text/markdown": [
       "\n",
       "A tibble: 6 × 19\n",
       "\n",
       "| year &lt;int&gt; | month &lt;int&gt; | day &lt;int&gt; | dep_time &lt;int&gt; | sched_dep_time &lt;int&gt; | dep_delay &lt;dbl&gt; | arr_time &lt;int&gt; | sched_arr_time &lt;int&gt; | arr_delay &lt;dbl&gt; | carrier &lt;chr&gt; | flight &lt;int&gt; | tailnum &lt;chr&gt; | origin &lt;chr&gt; | dest &lt;chr&gt; | air_time &lt;dbl&gt; | distance &lt;dbl&gt; | hour &lt;dbl&gt; | minute &lt;dbl&gt; | time_hour &lt;dttm&gt; |\n",
       "|---|---|---|---|---|---|---|---|---|---|---|---|---|---|---|---|---|---|---|\n",
       "| 2013 | 1 | 1 | 542 | 540 |  2 | 923 | 850 |  33 | AA | 1141 | N619AA | JFK | MIA | 160 | 1089 | 5 | 40 | 2013-01-01 05:00:00 |\n",
       "| 2013 | 1 | 1 | 554 | 600 | -6 | 812 | 837 | -25 | DL |  461 | N668DN | LGA | ATL | 116 |  762 | 6 |  0 | 2013-01-01 06:00:00 |\n",
       "| 2013 | 1 | 1 | 554 | 558 | -4 | 740 | 728 |  12 | UA | 1696 | N39463 | EWR | ORD | 150 |  719 | 5 | 58 | 2013-01-01 05:00:00 |\n",
       "| 2013 | 1 | 1 | 555 | 600 | -5 | 913 | 854 |  19 | B6 |  507 | N516JB | EWR | FLL | 158 | 1065 | 6 |  0 | 2013-01-01 06:00:00 |\n",
       "| 2013 | 1 | 1 | 557 | 600 | -3 | 838 | 846 |  -8 | B6 |   79 | N593JB | JFK | MCO | 140 |  944 | 6 |  0 | 2013-01-01 06:00:00 |\n",
       "| 2013 | 1 | 1 | 558 | 600 | -2 | 753 | 745 |   8 | AA |  301 | N3ALAA | LGA | ORD | 138 |  733 | 6 |  0 | 2013-01-01 06:00:00 |\n",
       "\n"
      ],
      "text/plain": [
       "  year month day dep_time sched_dep_time dep_delay arr_time sched_arr_time\n",
       "1 2013 1     1   542      540             2        923      850           \n",
       "2 2013 1     1   554      600            -6        812      837           \n",
       "3 2013 1     1   554      558            -4        740      728           \n",
       "4 2013 1     1   555      600            -5        913      854           \n",
       "5 2013 1     1   557      600            -3        838      846           \n",
       "6 2013 1     1   558      600            -2        753      745           \n",
       "  arr_delay carrier flight tailnum origin dest air_time distance hour minute\n",
       "1  33       AA      1141   N619AA  JFK    MIA  160      1089     5    40    \n",
       "2 -25       DL       461   N668DN  LGA    ATL  116       762     6     0    \n",
       "3  12       UA      1696   N39463  EWR    ORD  150       719     5    58    \n",
       "4  19       B6       507   N516JB  EWR    FLL  158      1065     6     0    \n",
       "5  -8       B6        79   N593JB  JFK    MCO  140       944     6     0    \n",
       "6   8       AA       301   N3ALAA  LGA    ORD  138       733     6     0    \n",
       "  time_hour          \n",
       "1 2013-01-01 05:00:00\n",
       "2 2013-01-01 06:00:00\n",
       "3 2013-01-01 05:00:00\n",
       "4 2013-01-01 06:00:00\n",
       "5 2013-01-01 06:00:00\n",
       "6 2013-01-01 06:00:00"
      ]
     },
     "metadata": {},
     "output_type": "display_data"
    }
   ],
   "source": [
    "(top_dest <- flights %>% count(dest, sort = T) %>% head(10))\n",
    "\n",
    "flights %>% filter(dest %in% top_dest$dest) %>% head()"
   ]
  },
  {
   "cell_type": "code",
   "execution_count": 23,
   "metadata": {},
   "outputs": [
    {
     "name": "stderr",
     "output_type": "stream",
     "text": [
      "Joining, by = \"dest\"\n"
     ]
    },
    {
     "data": {
      "text/html": [
       "<table>\n",
       "<caption>A tibble: 6 × 19</caption>\n",
       "<thead>\n",
       "\t<tr><th scope=col>year</th><th scope=col>month</th><th scope=col>day</th><th scope=col>dep_time</th><th scope=col>sched_dep_time</th><th scope=col>dep_delay</th><th scope=col>arr_time</th><th scope=col>sched_arr_time</th><th scope=col>arr_delay</th><th scope=col>carrier</th><th scope=col>flight</th><th scope=col>tailnum</th><th scope=col>origin</th><th scope=col>dest</th><th scope=col>air_time</th><th scope=col>distance</th><th scope=col>hour</th><th scope=col>minute</th><th scope=col>time_hour</th></tr>\n",
       "\t<tr><th scope=col>&lt;int&gt;</th><th scope=col>&lt;int&gt;</th><th scope=col>&lt;int&gt;</th><th scope=col>&lt;int&gt;</th><th scope=col>&lt;int&gt;</th><th scope=col>&lt;dbl&gt;</th><th scope=col>&lt;int&gt;</th><th scope=col>&lt;int&gt;</th><th scope=col>&lt;dbl&gt;</th><th scope=col>&lt;chr&gt;</th><th scope=col>&lt;int&gt;</th><th scope=col>&lt;chr&gt;</th><th scope=col>&lt;chr&gt;</th><th scope=col>&lt;chr&gt;</th><th scope=col>&lt;dbl&gt;</th><th scope=col>&lt;dbl&gt;</th><th scope=col>&lt;dbl&gt;</th><th scope=col>&lt;dbl&gt;</th><th scope=col>&lt;dttm&gt;</th></tr>\n",
       "</thead>\n",
       "<tbody>\n",
       "\t<tr><td>2013</td><td>1</td><td>1</td><td>542</td><td>540</td><td> 2</td><td>923</td><td>850</td><td> 33</td><td>AA</td><td>1141</td><td>N619AA</td><td>JFK</td><td>MIA</td><td>160</td><td>1089</td><td>5</td><td>40</td><td>2013-01-01 05:00:00</td></tr>\n",
       "\t<tr><td>2013</td><td>1</td><td>1</td><td>554</td><td>600</td><td>-6</td><td>812</td><td>837</td><td>-25</td><td>DL</td><td> 461</td><td>N668DN</td><td>LGA</td><td>ATL</td><td>116</td><td> 762</td><td>6</td><td> 0</td><td>2013-01-01 06:00:00</td></tr>\n",
       "\t<tr><td>2013</td><td>1</td><td>1</td><td>554</td><td>558</td><td>-4</td><td>740</td><td>728</td><td> 12</td><td>UA</td><td>1696</td><td>N39463</td><td>EWR</td><td>ORD</td><td>150</td><td> 719</td><td>5</td><td>58</td><td>2013-01-01 05:00:00</td></tr>\n",
       "\t<tr><td>2013</td><td>1</td><td>1</td><td>555</td><td>600</td><td>-5</td><td>913</td><td>854</td><td> 19</td><td>B6</td><td> 507</td><td>N516JB</td><td>EWR</td><td>FLL</td><td>158</td><td>1065</td><td>6</td><td> 0</td><td>2013-01-01 06:00:00</td></tr>\n",
       "\t<tr><td>2013</td><td>1</td><td>1</td><td>557</td><td>600</td><td>-3</td><td>838</td><td>846</td><td> -8</td><td>B6</td><td>  79</td><td>N593JB</td><td>JFK</td><td>MCO</td><td>140</td><td> 944</td><td>6</td><td> 0</td><td>2013-01-01 06:00:00</td></tr>\n",
       "\t<tr><td>2013</td><td>1</td><td>1</td><td>558</td><td>600</td><td>-2</td><td>753</td><td>745</td><td>  8</td><td>AA</td><td> 301</td><td>N3ALAA</td><td>LGA</td><td>ORD</td><td>138</td><td> 733</td><td>6</td><td> 0</td><td>2013-01-01 06:00:00</td></tr>\n",
       "</tbody>\n",
       "</table>\n"
      ],
      "text/latex": [
       "A tibble: 6 × 19\n",
       "\\begin{tabular}{r|lllllllllllllllllll}\n",
       " year & month & day & dep\\_time & sched\\_dep\\_time & dep\\_delay & arr\\_time & sched\\_arr\\_time & arr\\_delay & carrier & flight & tailnum & origin & dest & air\\_time & distance & hour & minute & time\\_hour\\\\\n",
       " <int> & <int> & <int> & <int> & <int> & <dbl> & <int> & <int> & <dbl> & <chr> & <int> & <chr> & <chr> & <chr> & <dbl> & <dbl> & <dbl> & <dbl> & <dttm>\\\\\n",
       "\\hline\n",
       "\t 2013 & 1 & 1 & 542 & 540 &  2 & 923 & 850 &  33 & AA & 1141 & N619AA & JFK & MIA & 160 & 1089 & 5 & 40 & 2013-01-01 05:00:00\\\\\n",
       "\t 2013 & 1 & 1 & 554 & 600 & -6 & 812 & 837 & -25 & DL &  461 & N668DN & LGA & ATL & 116 &  762 & 6 &  0 & 2013-01-01 06:00:00\\\\\n",
       "\t 2013 & 1 & 1 & 554 & 558 & -4 & 740 & 728 &  12 & UA & 1696 & N39463 & EWR & ORD & 150 &  719 & 5 & 58 & 2013-01-01 05:00:00\\\\\n",
       "\t 2013 & 1 & 1 & 555 & 600 & -5 & 913 & 854 &  19 & B6 &  507 & N516JB & EWR & FLL & 158 & 1065 & 6 &  0 & 2013-01-01 06:00:00\\\\\n",
       "\t 2013 & 1 & 1 & 557 & 600 & -3 & 838 & 846 &  -8 & B6 &   79 & N593JB & JFK & MCO & 140 &  944 & 6 &  0 & 2013-01-01 06:00:00\\\\\n",
       "\t 2013 & 1 & 1 & 558 & 600 & -2 & 753 & 745 &   8 & AA &  301 & N3ALAA & LGA & ORD & 138 &  733 & 6 &  0 & 2013-01-01 06:00:00\\\\\n",
       "\\end{tabular}\n"
      ],
      "text/markdown": [
       "\n",
       "A tibble: 6 × 19\n",
       "\n",
       "| year &lt;int&gt; | month &lt;int&gt; | day &lt;int&gt; | dep_time &lt;int&gt; | sched_dep_time &lt;int&gt; | dep_delay &lt;dbl&gt; | arr_time &lt;int&gt; | sched_arr_time &lt;int&gt; | arr_delay &lt;dbl&gt; | carrier &lt;chr&gt; | flight &lt;int&gt; | tailnum &lt;chr&gt; | origin &lt;chr&gt; | dest &lt;chr&gt; | air_time &lt;dbl&gt; | distance &lt;dbl&gt; | hour &lt;dbl&gt; | minute &lt;dbl&gt; | time_hour &lt;dttm&gt; |\n",
       "|---|---|---|---|---|---|---|---|---|---|---|---|---|---|---|---|---|---|---|\n",
       "| 2013 | 1 | 1 | 542 | 540 |  2 | 923 | 850 |  33 | AA | 1141 | N619AA | JFK | MIA | 160 | 1089 | 5 | 40 | 2013-01-01 05:00:00 |\n",
       "| 2013 | 1 | 1 | 554 | 600 | -6 | 812 | 837 | -25 | DL |  461 | N668DN | LGA | ATL | 116 |  762 | 6 |  0 | 2013-01-01 06:00:00 |\n",
       "| 2013 | 1 | 1 | 554 | 558 | -4 | 740 | 728 |  12 | UA | 1696 | N39463 | EWR | ORD | 150 |  719 | 5 | 58 | 2013-01-01 05:00:00 |\n",
       "| 2013 | 1 | 1 | 555 | 600 | -5 | 913 | 854 |  19 | B6 |  507 | N516JB | EWR | FLL | 158 | 1065 | 6 |  0 | 2013-01-01 06:00:00 |\n",
       "| 2013 | 1 | 1 | 557 | 600 | -3 | 838 | 846 |  -8 | B6 |   79 | N593JB | JFK | MCO | 140 |  944 | 6 |  0 | 2013-01-01 06:00:00 |\n",
       "| 2013 | 1 | 1 | 558 | 600 | -2 | 753 | 745 |   8 | AA |  301 | N3ALAA | LGA | ORD | 138 |  733 | 6 |  0 | 2013-01-01 06:00:00 |\n",
       "\n"
      ],
      "text/plain": [
       "  year month day dep_time sched_dep_time dep_delay arr_time sched_arr_time\n",
       "1 2013 1     1   542      540             2        923      850           \n",
       "2 2013 1     1   554      600            -6        812      837           \n",
       "3 2013 1     1   554      558            -4        740      728           \n",
       "4 2013 1     1   555      600            -5        913      854           \n",
       "5 2013 1     1   557      600            -3        838      846           \n",
       "6 2013 1     1   558      600            -2        753      745           \n",
       "  arr_delay carrier flight tailnum origin dest air_time distance hour minute\n",
       "1  33       AA      1141   N619AA  JFK    MIA  160      1089     5    40    \n",
       "2 -25       DL       461   N668DN  LGA    ATL  116       762     6     0    \n",
       "3  12       UA      1696   N39463  EWR    ORD  150       719     5    58    \n",
       "4  19       B6       507   N516JB  EWR    FLL  158      1065     6     0    \n",
       "5  -8       B6        79   N593JB  JFK    MCO  140       944     6     0    \n",
       "6   8       AA       301   N3ALAA  LGA    ORD  138       733     6     0    \n",
       "  time_hour          \n",
       "1 2013-01-01 05:00:00\n",
       "2 2013-01-01 06:00:00\n",
       "3 2013-01-01 05:00:00\n",
       "4 2013-01-01 06:00:00\n",
       "5 2013-01-01 06:00:00\n",
       "6 2013-01-01 06:00:00"
      ]
     },
     "metadata": {},
     "output_type": "display_data"
    }
   ],
   "source": [
    "flights %>% semi_join(top_dest) %>% head()"
   ]
  },
  {
   "cell_type": "code",
   "execution_count": 24,
   "metadata": {},
   "outputs": [
    {
     "data": {
      "text/html": [
       "<table>\n",
       "<caption>A tibble: 6 × 2</caption>\n",
       "<thead>\n",
       "\t<tr><th scope=col>tailnum</th><th scope=col>n</th></tr>\n",
       "\t<tr><th scope=col>&lt;chr&gt;</th><th scope=col>&lt;int&gt;</th></tr>\n",
       "</thead>\n",
       "<tbody>\n",
       "\t<tr><td>NA    </td><td>2512</td></tr>\n",
       "\t<tr><td>N725MQ</td><td> 575</td></tr>\n",
       "\t<tr><td>N722MQ</td><td> 513</td></tr>\n",
       "\t<tr><td>N723MQ</td><td> 507</td></tr>\n",
       "\t<tr><td>N713MQ</td><td> 483</td></tr>\n",
       "\t<tr><td>N735MQ</td><td> 396</td></tr>\n",
       "</tbody>\n",
       "</table>\n"
      ],
      "text/latex": [
       "A tibble: 6 × 2\n",
       "\\begin{tabular}{r|ll}\n",
       " tailnum & n\\\\\n",
       " <chr> & <int>\\\\\n",
       "\\hline\n",
       "\t NA     & 2512\\\\\n",
       "\t N725MQ &  575\\\\\n",
       "\t N722MQ &  513\\\\\n",
       "\t N723MQ &  507\\\\\n",
       "\t N713MQ &  483\\\\\n",
       "\t N735MQ &  396\\\\\n",
       "\\end{tabular}\n"
      ],
      "text/markdown": [
       "\n",
       "A tibble: 6 × 2\n",
       "\n",
       "| tailnum &lt;chr&gt; | n &lt;int&gt; |\n",
       "|---|---|\n",
       "| NA     | 2512 |\n",
       "| N725MQ |  575 |\n",
       "| N722MQ |  513 |\n",
       "| N723MQ |  507 |\n",
       "| N713MQ |  483 |\n",
       "| N735MQ |  396 |\n",
       "\n"
      ],
      "text/plain": [
       "  tailnum n   \n",
       "1 NA      2512\n",
       "2 N725MQ   575\n",
       "3 N722MQ   513\n",
       "4 N723MQ   507\n",
       "5 N713MQ   483\n",
       "6 N735MQ   396"
      ]
     },
     "metadata": {},
     "output_type": "display_data"
    }
   ],
   "source": [
    "flights %>% anti_join(planes, by = \"tailnum\") %>% \n",
    "count(tailnum, sort = T) %>% head()"
   ]
  },
  {
   "cell_type": "code",
   "execution_count": 25,
   "metadata": {},
   "outputs": [
    {
     "data": {
      "text/html": [
       "<table>\n",
       "<caption>A tibble: 0 × 3</caption>\n",
       "<thead>\n",
       "\t<tr><th scope=col>alt</th><th scope=col>lon</th><th scope=col>n</th></tr>\n",
       "\t<tr><th scope=col>&lt;dbl&gt;</th><th scope=col>&lt;dbl&gt;</th><th scope=col>&lt;int&gt;</th></tr>\n",
       "</thead>\n",
       "<tbody>\n",
       "</tbody>\n",
       "</table>\n"
      ],
      "text/latex": [
       "A tibble: 0 × 3\n",
       "\\begin{tabular}{r|lll}\n",
       " alt & lon & n\\\\\n",
       " <dbl> & <dbl> & <int>\\\\\n",
       "\\hline\n",
       "\\end{tabular}\n"
      ],
      "text/markdown": [
       "\n",
       "A tibble: 0 × 3\n",
       "\n",
       "| alt &lt;dbl&gt; | lon &lt;dbl&gt; | n &lt;int&gt; |\n",
       "|---|---|---|\n",
       "\n"
      ],
      "text/plain": [
       "     alt lon n"
      ]
     },
     "metadata": {},
     "output_type": "display_data"
    }
   ],
   "source": [
    "airports %>% count(alt, lon) %>% filter(n > 1) %>% head()"
   ]
  },
  {
   "cell_type": "markdown",
   "metadata": {},
   "source": [
    "## 集合操作\n",
    "\n",
    "intersect(x, y)返回既在x表，又在y表中的观测。\n",
    "\n",
    "union(x, y)返回x表或y表中的唯一观测。\n",
    "\n",
    "setdiff(x, y)返回在x表，但不在y表中的观测。"
   ]
  },
  {
   "cell_type": "code",
   "execution_count": 26,
   "metadata": {},
   "outputs": [
    {
     "data": {
      "text/html": [
       "<table>\n",
       "<caption>A tibble: 1 × 2</caption>\n",
       "<thead>\n",
       "\t<tr><th scope=col>x</th><th scope=col>y</th></tr>\n",
       "\t<tr><th scope=col>&lt;dbl&gt;</th><th scope=col>&lt;dbl&gt;</th></tr>\n",
       "</thead>\n",
       "<tbody>\n",
       "\t<tr><td>1</td><td>1</td></tr>\n",
       "</tbody>\n",
       "</table>\n"
      ],
      "text/latex": [
       "A tibble: 1 × 2\n",
       "\\begin{tabular}{r|ll}\n",
       " x & y\\\\\n",
       " <dbl> & <dbl>\\\\\n",
       "\\hline\n",
       "\t 1 & 1\\\\\n",
       "\\end{tabular}\n"
      ],
      "text/markdown": [
       "\n",
       "A tibble: 1 × 2\n",
       "\n",
       "| x &lt;dbl&gt; | y &lt;dbl&gt; |\n",
       "|---|---|\n",
       "| 1 | 1 |\n",
       "\n"
      ],
      "text/plain": [
       "  x y\n",
       "1 1 1"
      ]
     },
     "metadata": {},
     "output_type": "display_data"
    },
    {
     "data": {
      "text/html": [
       "<table>\n",
       "<caption>A tibble: 3 × 2</caption>\n",
       "<thead>\n",
       "\t<tr><th scope=col>x</th><th scope=col>y</th></tr>\n",
       "\t<tr><th scope=col>&lt;dbl&gt;</th><th scope=col>&lt;dbl&gt;</th></tr>\n",
       "</thead>\n",
       "<tbody>\n",
       "\t<tr><td>1</td><td>1</td></tr>\n",
       "\t<tr><td>2</td><td>1</td></tr>\n",
       "\t<tr><td>1</td><td>2</td></tr>\n",
       "</tbody>\n",
       "</table>\n"
      ],
      "text/latex": [
       "A tibble: 3 × 2\n",
       "\\begin{tabular}{r|ll}\n",
       " x & y\\\\\n",
       " <dbl> & <dbl>\\\\\n",
       "\\hline\n",
       "\t 1 & 1\\\\\n",
       "\t 2 & 1\\\\\n",
       "\t 1 & 2\\\\\n",
       "\\end{tabular}\n"
      ],
      "text/markdown": [
       "\n",
       "A tibble: 3 × 2\n",
       "\n",
       "| x &lt;dbl&gt; | y &lt;dbl&gt; |\n",
       "|---|---|\n",
       "| 1 | 1 |\n",
       "| 2 | 1 |\n",
       "| 1 | 2 |\n",
       "\n"
      ],
      "text/plain": [
       "  x y\n",
       "1 1 1\n",
       "2 2 1\n",
       "3 1 2"
      ]
     },
     "metadata": {},
     "output_type": "display_data"
    },
    {
     "data": {
      "text/html": [
       "<table>\n",
       "<caption>A tibble: 1 × 2</caption>\n",
       "<thead>\n",
       "\t<tr><th scope=col>x</th><th scope=col>y</th></tr>\n",
       "\t<tr><th scope=col>&lt;dbl&gt;</th><th scope=col>&lt;dbl&gt;</th></tr>\n",
       "</thead>\n",
       "<tbody>\n",
       "\t<tr><td>2</td><td>1</td></tr>\n",
       "</tbody>\n",
       "</table>\n"
      ],
      "text/latex": [
       "A tibble: 1 × 2\n",
       "\\begin{tabular}{r|ll}\n",
       " x & y\\\\\n",
       " <dbl> & <dbl>\\\\\n",
       "\\hline\n",
       "\t 2 & 1\\\\\n",
       "\\end{tabular}\n"
      ],
      "text/markdown": [
       "\n",
       "A tibble: 1 × 2\n",
       "\n",
       "| x &lt;dbl&gt; | y &lt;dbl&gt; |\n",
       "|---|---|\n",
       "| 2 | 1 |\n",
       "\n"
      ],
      "text/plain": [
       "  x y\n",
       "1 2 1"
      ]
     },
     "metadata": {},
     "output_type": "display_data"
    },
    {
     "data": {
      "text/html": [
       "<table>\n",
       "<caption>A tibble: 1 × 2</caption>\n",
       "<thead>\n",
       "\t<tr><th scope=col>x</th><th scope=col>y</th></tr>\n",
       "\t<tr><th scope=col>&lt;dbl&gt;</th><th scope=col>&lt;dbl&gt;</th></tr>\n",
       "</thead>\n",
       "<tbody>\n",
       "\t<tr><td>1</td><td>2</td></tr>\n",
       "</tbody>\n",
       "</table>\n"
      ],
      "text/latex": [
       "A tibble: 1 × 2\n",
       "\\begin{tabular}{r|ll}\n",
       " x & y\\\\\n",
       " <dbl> & <dbl>\\\\\n",
       "\\hline\n",
       "\t 1 & 2\\\\\n",
       "\\end{tabular}\n"
      ],
      "text/markdown": [
       "\n",
       "A tibble: 1 × 2\n",
       "\n",
       "| x &lt;dbl&gt; | y &lt;dbl&gt; |\n",
       "|---|---|\n",
       "| 1 | 2 |\n",
       "\n"
      ],
      "text/plain": [
       "  x y\n",
       "1 1 2"
      ]
     },
     "metadata": {},
     "output_type": "display_data"
    }
   ],
   "source": [
    "df1 <-tribble( \n",
    "    ~x, ~y, \n",
    "    1,  1, \n",
    "    2,  1) \n",
    "df2 <-tribble( \n",
    "    ~x, ~y, \n",
    "    1,  1, \n",
    "    1,  2)\n",
    "intersect(df1, df2)\n",
    "\n",
    "union(df1,df2)\n",
    "\n",
    "setdiff(df1, df2)\n",
    "\n",
    "setdiff(df2, df1)"
   ]
  },
  {
   "cell_type": "markdown",
   "metadata": {},
   "source": [
    "这一章后面写的比较简单，也写的比较少，一方面是对数据不熟，另一方面是其他原因，后面试着补充，本章结束。"
   ]
  },
  {
   "cell_type": "code",
   "execution_count": null,
   "metadata": {},
   "outputs": [],
   "source": []
  }
 ],
 "metadata": {
  "kernelspec": {
   "display_name": "R",
   "language": "R",
   "name": "ir"
  },
  "language_info": {
   "codemirror_mode": "r",
   "file_extension": ".r",
   "mimetype": "text/x-r-source",
   "name": "R",
   "pygments_lexer": "r",
   "version": "3.6.1"
  }
 },
 "nbformat": 4,
 "nbformat_minor": 4
}
