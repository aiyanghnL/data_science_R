{
 "cells": [
  {
   "cell_type": "markdown",
   "metadata": {},
   "source": [
    "# 使用tibble实现简单数据框\n",
    "\n",
    "这一部分作者也写的很简洁，无外乎建议我们使用tibble数据框来替代data.frame数据框，还有就是简单的创建和使用tibble数据框\n",
    "\n",
    "由于jupyter对tibble数据框不支持，这里尽管会写，但是看不出来一些差异，所以还会在RDataScience_test目录里用Rmd写一份"
   ]
  },
  {
   "cell_type": "code",
   "execution_count": 1,
   "metadata": {},
   "outputs": [
    {
     "name": "stderr",
     "output_type": "stream",
     "text": [
      "─ Attaching packages ──────────────────── tidyverse 1.2.1 ─\n",
      "✔ ggplot2 3.1.0     ✔ purrr   0.2.5\n",
      "✔ tibble  1.4.2     ✔ dplyr   0.7.8\n",
      "✔ tidyr   0.8.2     ✔ stringr 1.3.1\n",
      "✔ readr   1.1.1     ✔ forcats 0.3.0\n",
      "─ Conflicts ───────────────────── tidyverse_conflicts() ─\n",
      "✖ dplyr::filter() masks stats::filter()\n",
      "✖ dplyr::lag()    masks stats::lag()\n"
     ]
    }
   ],
   "source": [
    "# 加载tidyverse包\n",
    "library(tidyverse)"
   ]
  },
  {
   "cell_type": "markdown",
   "metadata": {},
   "source": [
    "## 创建tibble"
   ]
  },
  {
   "cell_type": "code",
   "execution_count": 2,
   "metadata": {},
   "outputs": [
    {
     "data": {
      "text/html": [
       "<table>\n",
       "<thead><tr><th scope=col>Sepal.Length</th><th scope=col>Sepal.Width</th><th scope=col>Petal.Length</th><th scope=col>Petal.Width</th><th scope=col>Species</th></tr></thead>\n",
       "<tbody>\n",
       "\t<tr><td>5.1   </td><td>3.5   </td><td>1.4   </td><td>0.2   </td><td>setosa</td></tr>\n",
       "\t<tr><td>4.9   </td><td>3.0   </td><td>1.4   </td><td>0.2   </td><td>setosa</td></tr>\n",
       "\t<tr><td>4.7   </td><td>3.2   </td><td>1.3   </td><td>0.2   </td><td>setosa</td></tr>\n",
       "\t<tr><td>4.6   </td><td>3.1   </td><td>1.5   </td><td>0.2   </td><td>setosa</td></tr>\n",
       "\t<tr><td>5.0   </td><td>3.6   </td><td>1.4   </td><td>0.2   </td><td>setosa</td></tr>\n",
       "\t<tr><td>5.4   </td><td>3.9   </td><td>1.7   </td><td>0.4   </td><td>setosa</td></tr>\n",
       "</tbody>\n",
       "</table>\n"
      ],
      "text/latex": [
       "\\begin{tabular}{r|lllll}\n",
       " Sepal.Length & Sepal.Width & Petal.Length & Petal.Width & Species\\\\\n",
       "\\hline\n",
       "\t 5.1    & 3.5    & 1.4    & 0.2    & setosa\\\\\n",
       "\t 4.9    & 3.0    & 1.4    & 0.2    & setosa\\\\\n",
       "\t 4.7    & 3.2    & 1.3    & 0.2    & setosa\\\\\n",
       "\t 4.6    & 3.1    & 1.5    & 0.2    & setosa\\\\\n",
       "\t 5.0    & 3.6    & 1.4    & 0.2    & setosa\\\\\n",
       "\t 5.4    & 3.9    & 1.7    & 0.4    & setosa\\\\\n",
       "\\end{tabular}\n"
      ],
      "text/markdown": [
       "\n",
       "Sepal.Length | Sepal.Width | Petal.Length | Petal.Width | Species | \n",
       "|---|---|---|---|---|---|\n",
       "| 5.1    | 3.5    | 1.4    | 0.2    | setosa | \n",
       "| 4.9    | 3.0    | 1.4    | 0.2    | setosa | \n",
       "| 4.7    | 3.2    | 1.3    | 0.2    | setosa | \n",
       "| 4.6    | 3.1    | 1.5    | 0.2    | setosa | \n",
       "| 5.0    | 3.6    | 1.4    | 0.2    | setosa | \n",
       "| 5.4    | 3.9    | 1.7    | 0.4    | setosa | \n",
       "\n",
       "\n"
      ],
      "text/plain": [
       "  Sepal.Length Sepal.Width Petal.Length Petal.Width Species\n",
       "1 5.1          3.5         1.4          0.2         setosa \n",
       "2 4.9          3.0         1.4          0.2         setosa \n",
       "3 4.7          3.2         1.3          0.2         setosa \n",
       "4 4.6          3.1         1.5          0.2         setosa \n",
       "5 5.0          3.6         1.4          0.2         setosa \n",
       "6 5.4          3.9         1.7          0.4         setosa "
      ]
     },
     "metadata": {},
     "output_type": "display_data"
    },
    {
     "data": {
      "text/html": [
       "<table>\n",
       "<thead><tr><th scope=col>Sepal.Length</th><th scope=col>Sepal.Width</th><th scope=col>Petal.Length</th><th scope=col>Petal.Width</th><th scope=col>Species</th></tr></thead>\n",
       "<tbody>\n",
       "\t<tr><td>5.1   </td><td>3.5   </td><td>1.4   </td><td>0.2   </td><td>setosa</td></tr>\n",
       "\t<tr><td>4.9   </td><td>3.0   </td><td>1.4   </td><td>0.2   </td><td>setosa</td></tr>\n",
       "\t<tr><td>4.7   </td><td>3.2   </td><td>1.3   </td><td>0.2   </td><td>setosa</td></tr>\n",
       "\t<tr><td>4.6   </td><td>3.1   </td><td>1.5   </td><td>0.2   </td><td>setosa</td></tr>\n",
       "\t<tr><td>5.0   </td><td>3.6   </td><td>1.4   </td><td>0.2   </td><td>setosa</td></tr>\n",
       "\t<tr><td>5.4   </td><td>3.9   </td><td>1.7   </td><td>0.4   </td><td>setosa</td></tr>\n",
       "</tbody>\n",
       "</table>\n"
      ],
      "text/latex": [
       "\\begin{tabular}{r|lllll}\n",
       " Sepal.Length & Sepal.Width & Petal.Length & Petal.Width & Species\\\\\n",
       "\\hline\n",
       "\t 5.1    & 3.5    & 1.4    & 0.2    & setosa\\\\\n",
       "\t 4.9    & 3.0    & 1.4    & 0.2    & setosa\\\\\n",
       "\t 4.7    & 3.2    & 1.3    & 0.2    & setosa\\\\\n",
       "\t 4.6    & 3.1    & 1.5    & 0.2    & setosa\\\\\n",
       "\t 5.0    & 3.6    & 1.4    & 0.2    & setosa\\\\\n",
       "\t 5.4    & 3.9    & 1.7    & 0.4    & setosa\\\\\n",
       "\\end{tabular}\n"
      ],
      "text/markdown": [
       "\n",
       "Sepal.Length | Sepal.Width | Petal.Length | Petal.Width | Species | \n",
       "|---|---|---|---|---|---|\n",
       "| 5.1    | 3.5    | 1.4    | 0.2    | setosa | \n",
       "| 4.9    | 3.0    | 1.4    | 0.2    | setosa | \n",
       "| 4.7    | 3.2    | 1.3    | 0.2    | setosa | \n",
       "| 4.6    | 3.1    | 1.5    | 0.2    | setosa | \n",
       "| 5.0    | 3.6    | 1.4    | 0.2    | setosa | \n",
       "| 5.4    | 3.9    | 1.7    | 0.4    | setosa | \n",
       "\n",
       "\n"
      ],
      "text/plain": [
       "  Sepal.Length Sepal.Width Petal.Length Petal.Width Species\n",
       "1 5.1          3.5         1.4          0.2         setosa \n",
       "2 4.9          3.0         1.4          0.2         setosa \n",
       "3 4.7          3.2         1.3          0.2         setosa \n",
       "4 4.6          3.1         1.5          0.2         setosa \n",
       "5 5.0          3.6         1.4          0.2         setosa \n",
       "6 5.4          3.9         1.7          0.4         setosa "
      ]
     },
     "metadata": {},
     "output_type": "display_data"
    }
   ],
   "source": [
    "\n",
    "### 从data.frame创建tibble\n",
    "iris %>% head() # 看data.frame\n",
    "as_tibble(iris) %>% head() # 看tibble，这里看不出来"
   ]
  },
  {
   "cell_type": "code",
   "execution_count": 3,
   "metadata": {},
   "outputs": [
    {
     "data": {
      "text/html": [
       "<table>\n",
       "<thead><tr><th scope=col>x</th><th scope=col>y</th><th scope=col>z</th></tr></thead>\n",
       "<tbody>\n",
       "\t<tr><td> 1 </td><td>1  </td><td>  2</td></tr>\n",
       "\t<tr><td> 2 </td><td>1  </td><td>  5</td></tr>\n",
       "\t<tr><td> 3 </td><td>1  </td><td> 10</td></tr>\n",
       "\t<tr><td> 4 </td><td>1  </td><td> 17</td></tr>\n",
       "\t<tr><td> 5 </td><td>1  </td><td> 26</td></tr>\n",
       "\t<tr><td> 6 </td><td>1  </td><td> 37</td></tr>\n",
       "\t<tr><td> 7 </td><td>1  </td><td> 50</td></tr>\n",
       "\t<tr><td> 8 </td><td>1  </td><td> 65</td></tr>\n",
       "\t<tr><td> 9 </td><td>1  </td><td> 82</td></tr>\n",
       "\t<tr><td>10 </td><td>1  </td><td>101</td></tr>\n",
       "</tbody>\n",
       "</table>\n"
      ],
      "text/latex": [
       "\\begin{tabular}{r|lll}\n",
       " x & y & z\\\\\n",
       "\\hline\n",
       "\t  1  & 1   &   2\\\\\n",
       "\t  2  & 1   &   5\\\\\n",
       "\t  3  & 1   &  10\\\\\n",
       "\t  4  & 1   &  17\\\\\n",
       "\t  5  & 1   &  26\\\\\n",
       "\t  6  & 1   &  37\\\\\n",
       "\t  7  & 1   &  50\\\\\n",
       "\t  8  & 1   &  65\\\\\n",
       "\t  9  & 1   &  82\\\\\n",
       "\t 10  & 1   & 101\\\\\n",
       "\\end{tabular}\n"
      ],
      "text/markdown": [
       "\n",
       "x | y | z | \n",
       "|---|---|---|---|---|---|---|---|---|---|\n",
       "|  1  | 1   |   2 | \n",
       "|  2  | 1   |   5 | \n",
       "|  3  | 1   |  10 | \n",
       "|  4  | 1   |  17 | \n",
       "|  5  | 1   |  26 | \n",
       "|  6  | 1   |  37 | \n",
       "|  7  | 1   |  50 | \n",
       "|  8  | 1   |  65 | \n",
       "|  9  | 1   |  82 | \n",
       "| 10  | 1   | 101 | \n",
       "\n",
       "\n"
      ],
      "text/plain": [
       "   x  y z  \n",
       "1   1 1   2\n",
       "2   2 1   5\n",
       "3   3 1  10\n",
       "4   4 1  17\n",
       "5   5 1  26\n",
       "6   6 1  37\n",
       "7   7 1  50\n",
       "8   8 1  65\n",
       "9   9 1  82\n",
       "10 10 1 101"
      ]
     },
     "metadata": {},
     "output_type": "display_data"
    }
   ],
   "source": [
    "##  通过tibble()函数使用vector创建tibble\n",
    "tibble(\n",
    "    x = 1:10,\n",
    "    y = 1,\n",
    "    z= x^2 + y)"
   ]
  },
  {
   "cell_type": "markdown",
   "metadata": {},
   "source": [
    "tibble尽管是新的，但相比data.frame功能要少，不过接受R中无效的变量名称，用反引号引起来即可,使用这些变量的时候也要使用反引号"
   ]
  },
  {
   "cell_type": "code",
   "execution_count": 4,
   "metadata": {},
   "outputs": [
    {
     "data": {
      "text/html": [
       "<table>\n",
       "<thead><tr><th scope=col>)</th><th scope=col> </th><th scope=col>2000</th></tr></thead>\n",
       "<tbody>\n",
       "\t<tr><td>smile </td><td>space </td><td>number</td></tr>\n",
       "</tbody>\n",
       "</table>\n"
      ],
      "text/latex": [
       "\\begin{tabular}{r|lll}\n",
       " ) &   & 2000\\\\\n",
       "\\hline\n",
       "\t smile  & space  & number\\\\\n",
       "\\end{tabular}\n"
      ],
      "text/markdown": [
       "\n",
       ") |   | 2000 | \n",
       "|---|\n",
       "| smile  | space  | number | \n",
       "\n",
       "\n"
      ],
      "text/plain": [
       "  )           2000  \n",
       "1 smile space number"
      ]
     },
     "metadata": {},
     "output_type": "display_data"
    }
   ],
   "source": [
    "tb <- tibble(\n",
    "    `)` = \"smile\",\n",
    "    ` ` = \"space\",\n",
    "    `2000` = \"number\")\n",
    "tb"
   ]
  },
  {
   "cell_type": "code",
   "execution_count": 5,
   "metadata": {},
   "outputs": [
    {
     "data": {
      "text/html": [
       "<table>\n",
       "<thead><tr><th scope=col>x</th><th scope=col>y</th><th scope=col>z</th></tr></thead>\n",
       "<tbody>\n",
       "\t<tr><td>a  </td><td>2  </td><td>3.6</td></tr>\n",
       "\t<tr><td>b  </td><td>1  </td><td>8.4</td></tr>\n",
       "</tbody>\n",
       "</table>\n"
      ],
      "text/latex": [
       "\\begin{tabular}{r|lll}\n",
       " x & y & z\\\\\n",
       "\\hline\n",
       "\t a   & 2   & 3.6\\\\\n",
       "\t b   & 1   & 8.4\\\\\n",
       "\\end{tabular}\n"
      ],
      "text/markdown": [
       "\n",
       "x | y | z | \n",
       "|---|---|\n",
       "| a   | 2   | 3.6 | \n",
       "| b   | 1   | 8.4 | \n",
       "\n",
       "\n"
      ],
      "text/plain": [
       "  x y z  \n",
       "1 a 2 3.6\n",
       "2 b 1 8.4"
      ]
     },
     "metadata": {},
     "output_type": "display_data"
    }
   ],
   "source": [
    "# 也可以使用tribble()函数创建tibble，列标题由公式(~开头)定义，数据条目以逗号分隔\n",
    "tribble(\n",
    "    ~x,~y,~z,\n",
    "    #--|--|--# 是注释\n",
    "    \"a\", 2, 3.6,\n",
    "    \"b\", 1, 8.4\n",
    ")"
   ]
  },
  {
   "cell_type": "markdown",
   "metadata": {},
   "source": [
    "## 对比 tibble与data.frame"
   ]
  },
  {
   "cell_type": "markdown",
   "metadata": {},
   "source": [
    "### 打印的差异\n",
    "\n",
    "tibble默认只显示前10行，而且列是适合屏幕的，还打印数据类型，jupyter不支持，看不出来；data.frame的打印就省略了"
   ]
  },
  {
   "cell_type": "code",
   "execution_count": 6,
   "metadata": {},
   "outputs": [
    {
     "name": "stderr",
     "output_type": "stream",
     "text": [
      "Warning message:\n",
      "“运行命令'timedatectl'的状态是1”"
     ]
    },
    {
     "data": {
      "text/html": [
       "<table>\n",
       "<thead><tr><th scope=col>a</th><th scope=col>b</th><th scope=col>c</th><th scope=col>d</th><th scope=col>e</th></tr></thead>\n",
       "<tbody>\n",
       "\t<tr><td>2019-10-20 22:49:36</td><td>2019-11-05         </td><td>1                  </td><td>0.4295705          </td><td>e                  </td></tr>\n",
       "\t<tr><td>2019-10-21 10:00:32</td><td>2019-10-21         </td><td>2                  </td><td>0.8071014          </td><td>d                  </td></tr>\n",
       "\t<tr><td>2019-10-21 07:53:54</td><td>2019-11-16         </td><td>3                  </td><td>0.2065430          </td><td>r                  </td></tr>\n",
       "\t<tr><td>2019-10-21 19:40:49</td><td>2019-11-03         </td><td>4                  </td><td>0.2152468          </td><td>f                  </td></tr>\n",
       "\t<tr><td>2019-10-21 06:50:58</td><td>2019-11-13         </td><td>5                  </td><td>0.9688459          </td><td>m                  </td></tr>\n",
       "\t<tr><td>2019-10-21 10:59:19</td><td>2019-10-31         </td><td>6                  </td><td>0.1238433          </td><td>f                  </td></tr>\n",
       "</tbody>\n",
       "</table>\n"
      ],
      "text/latex": [
       "\\begin{tabular}{r|lllll}\n",
       " a & b & c & d & e\\\\\n",
       "\\hline\n",
       "\t 2019-10-20 22:49:36 & 2019-11-05          & 1                   & 0.4295705           & e                  \\\\\n",
       "\t 2019-10-21 10:00:32 & 2019-10-21          & 2                   & 0.8071014           & d                  \\\\\n",
       "\t 2019-10-21 07:53:54 & 2019-11-16          & 3                   & 0.2065430           & r                  \\\\\n",
       "\t 2019-10-21 19:40:49 & 2019-11-03          & 4                   & 0.2152468           & f                  \\\\\n",
       "\t 2019-10-21 06:50:58 & 2019-11-13          & 5                   & 0.9688459           & m                  \\\\\n",
       "\t 2019-10-21 10:59:19 & 2019-10-31          & 6                   & 0.1238433           & f                  \\\\\n",
       "\\end{tabular}\n"
      ],
      "text/markdown": [
       "\n",
       "a | b | c | d | e | \n",
       "|---|---|---|---|---|---|\n",
       "| 2019-10-20 22:49:36 | 2019-11-05          | 1                   | 0.4295705           | e                   | \n",
       "| 2019-10-21 10:00:32 | 2019-10-21          | 2                   | 0.8071014           | d                   | \n",
       "| 2019-10-21 07:53:54 | 2019-11-16          | 3                   | 0.2065430           | r                   | \n",
       "| 2019-10-21 19:40:49 | 2019-11-03          | 4                   | 0.2152468           | f                   | \n",
       "| 2019-10-21 06:50:58 | 2019-11-13          | 5                   | 0.9688459           | m                   | \n",
       "| 2019-10-21 10:59:19 | 2019-10-31          | 6                   | 0.1238433           | f                   | \n",
       "\n",
       "\n"
      ],
      "text/plain": [
       "  a                   b          c d         e\n",
       "1 2019-10-20 22:49:36 2019-11-05 1 0.4295705 e\n",
       "2 2019-10-21 10:00:32 2019-10-21 2 0.8071014 d\n",
       "3 2019-10-21 07:53:54 2019-11-16 3 0.2065430 r\n",
       "4 2019-10-21 19:40:49 2019-11-03 4 0.2152468 f\n",
       "5 2019-10-21 06:50:58 2019-11-13 5 0.9688459 m\n",
       "6 2019-10-21 10:59:19 2019-10-31 6 0.1238433 f"
      ]
     },
     "metadata": {},
     "output_type": "display_data"
    }
   ],
   "source": [
    "tibble(\n",
    "    a = lubridate::now() + runif(1e3)*86400,\n",
    "    b = lubridate::today() + runif(1e3)*30,\n",
    "    c = 1:1e3,\n",
    "    d = runif(1e3),\n",
    "    e = sample(letters, 1e3, replace = T)\n",
    ")%>% head()"
   ]
  },
  {
   "cell_type": "code",
   "execution_count": 7,
   "metadata": {},
   "outputs": [
    {
     "name": "stdout",
     "output_type": "stream",
     "text": [
      "# A tibble: 336,776 x 19\n",
      "    year month   day dep_time sched_dep_time dep_delay arr_time sched_arr_time\n",
      "   <int> <int> <int>    <int>          <int>     <dbl>    <int>          <int>\n",
      " 1  2013     1     1      517            515         2      830            819\n",
      " 2  2013     1     1      533            529         4      850            830\n",
      " 3  2013     1     1      542            540         2      923            850\n",
      " 4  2013     1     1      544            545        -1     1004           1022\n",
      " 5  2013     1     1      554            600        -6      812            837\n",
      " 6  2013     1     1      554            558        -4      740            728\n",
      " 7  2013     1     1      555            600        -5      913            854\n",
      " 8  2013     1     1      557            600        -3      709            723\n",
      " 9  2013     1     1      557            600        -3      838            846\n",
      "10  2013     1     1      558            600        -2      753            745\n",
      "   arr_delay carrier flight tailnum origin dest  air_time distance  hour minute\n",
      "       <dbl> <chr>    <int> <chr>   <chr>  <chr>    <dbl>    <dbl> <dbl>  <dbl>\n",
      " 1        11 UA        1545 N14228  EWR    IAH        227     1400     5     15\n",
      " 2        20 UA        1714 N24211  LGA    IAH        227     1416     5     29\n",
      " 3        33 AA        1141 N619AA  JFK    MIA        160     1089     5     40\n",
      " 4       -18 B6         725 N804JB  JFK    BQN        183     1576     5     45\n",
      " 5       -25 DL         461 N668DN  LGA    ATL        116      762     6      0\n",
      " 6        12 UA        1696 N39463  EWR    ORD        150      719     5     58\n",
      " 7        19 B6         507 N516JB  EWR    FLL        158     1065     6      0\n",
      " 8       -14 EV        5708 N829AS  LGA    IAD         53      229     6      0\n",
      " 9        -8 B6          79 N593JB  JFK    MCO        140      944     6      0\n",
      "10         8 AA         301 N3ALAA  LGA    ORD        138      733     6      0\n",
      "   time_hour          \n",
      "   <dttm>             \n",
      " 1 2013-01-01 05:00:00\n",
      " 2 2013-01-01 05:00:00\n",
      " 3 2013-01-01 05:00:00\n",
      " 4 2013-01-01 05:00:00\n",
      " 5 2013-01-01 06:00:00\n",
      " 6 2013-01-01 05:00:00\n",
      " 7 2013-01-01 06:00:00\n",
      " 8 2013-01-01 06:00:00\n",
      " 9 2013-01-01 06:00:00\n",
      "10 2013-01-01 06:00:00\n",
      "# ... with 3.368e+05 more rows\n"
     ]
    }
   ],
   "source": [
    "# 更改默认显示输出\n",
    "# 使用print()函数，n：行数，width：显示宽度\n",
    "nycflights13::flights %>%\n",
    "print(n = 10, width = Inf)"
   ]
  },
  {
   "cell_type": "markdown",
   "metadata": {},
   "source": [
    "还可以通过设置以下选项来控制默认的打印方式。\n",
    "\n",
    "• options(tibble.print_max = n, tibble.pring_min = m)：如果多于m行，则只打印出n行。options(tibble.print_min = Inf)表示总是打印所有行。\n",
    "\n",
    "• options(tibble.width = Inf)表示总是打印所有列，不考虑屏幕的宽度。"
   ]
  },
  {
   "cell_type": "markdown",
   "metadata": {},
   "source": [
    "### 取子集\n",
    "\n",
    "取子集的方法无非是用\"$\"和[[]]\n"
   ]
  },
  {
   "cell_type": "code",
   "execution_count": 8,
   "metadata": {},
   "outputs": [
    {
     "data": {
      "text/html": [
       "<ol class=list-inline>\n",
       "\t<li>0.707784972852096</li>\n",
       "\t<li>0.13322418788448</li>\n",
       "\t<li>0.764080885564908</li>\n",
       "\t<li>0.721324865939096</li>\n",
       "\t<li>0.555748503422365</li>\n",
       "</ol>\n"
      ],
      "text/latex": [
       "\\begin{enumerate*}\n",
       "\\item 0.707784972852096\n",
       "\\item 0.13322418788448\n",
       "\\item 0.764080885564908\n",
       "\\item 0.721324865939096\n",
       "\\item 0.555748503422365\n",
       "\\end{enumerate*}\n"
      ],
      "text/markdown": [
       "1. 0.707784972852096\n",
       "2. 0.13322418788448\n",
       "3. 0.764080885564908\n",
       "4. 0.721324865939096\n",
       "5. 0.555748503422365\n",
       "\n",
       "\n"
      ],
      "text/plain": [
       "[1] 0.7077850 0.1332242 0.7640809 0.7213249 0.5557485"
      ]
     },
     "metadata": {},
     "output_type": "display_data"
    },
    {
     "data": {
      "text/html": [
       "<ol class=list-inline>\n",
       "\t<li>0.707784972852096</li>\n",
       "\t<li>0.13322418788448</li>\n",
       "\t<li>0.764080885564908</li>\n",
       "\t<li>0.721324865939096</li>\n",
       "\t<li>0.555748503422365</li>\n",
       "</ol>\n"
      ],
      "text/latex": [
       "\\begin{enumerate*}\n",
       "\\item 0.707784972852096\n",
       "\\item 0.13322418788448\n",
       "\\item 0.764080885564908\n",
       "\\item 0.721324865939096\n",
       "\\item 0.555748503422365\n",
       "\\end{enumerate*}\n"
      ],
      "text/markdown": [
       "1. 0.707784972852096\n",
       "2. 0.13322418788448\n",
       "3. 0.764080885564908\n",
       "4. 0.721324865939096\n",
       "5. 0.555748503422365\n",
       "\n",
       "\n"
      ],
      "text/plain": [
       "[1] 0.7077850 0.1332242 0.7640809 0.7213249 0.5557485"
      ]
     },
     "metadata": {},
     "output_type": "display_data"
    },
    {
     "data": {
      "text/html": [
       "<table>\n",
       "<thead><tr><th scope=col>x</th></tr></thead>\n",
       "<tbody>\n",
       "\t<tr><td>0.7077850</td></tr>\n",
       "\t<tr><td>0.1332242</td></tr>\n",
       "\t<tr><td>0.7640809</td></tr>\n",
       "\t<tr><td>0.7213249</td></tr>\n",
       "\t<tr><td>0.5557485</td></tr>\n",
       "</tbody>\n",
       "</table>\n"
      ],
      "text/latex": [
       "\\begin{tabular}{r|l}\n",
       " x\\\\\n",
       "\\hline\n",
       "\t 0.7077850\\\\\n",
       "\t 0.1332242\\\\\n",
       "\t 0.7640809\\\\\n",
       "\t 0.7213249\\\\\n",
       "\t 0.5557485\\\\\n",
       "\\end{tabular}\n"
      ],
      "text/markdown": [
       "\n",
       "x | \n",
       "|---|---|---|---|---|\n",
       "| 0.7077850 | \n",
       "| 0.1332242 | \n",
       "| 0.7640809 | \n",
       "| 0.7213249 | \n",
       "| 0.5557485 | \n",
       "\n",
       "\n"
      ],
      "text/plain": [
       "  x        \n",
       "1 0.7077850\n",
       "2 0.1332242\n",
       "3 0.7640809\n",
       "4 0.7213249\n",
       "5 0.5557485"
      ]
     },
     "metadata": {},
     "output_type": "display_data"
    },
    {
     "data": {
      "text/html": [
       "<table>\n",
       "<thead><tr><th scope=col>x</th></tr></thead>\n",
       "<tbody>\n",
       "\t<tr><td>0.7077850</td></tr>\n",
       "\t<tr><td>0.1332242</td></tr>\n",
       "\t<tr><td>0.7640809</td></tr>\n",
       "\t<tr><td>0.7213249</td></tr>\n",
       "\t<tr><td>0.5557485</td></tr>\n",
       "</tbody>\n",
       "</table>\n"
      ],
      "text/latex": [
       "\\begin{tabular}{r|l}\n",
       " x\\\\\n",
       "\\hline\n",
       "\t 0.7077850\\\\\n",
       "\t 0.1332242\\\\\n",
       "\t 0.7640809\\\\\n",
       "\t 0.7213249\\\\\n",
       "\t 0.5557485\\\\\n",
       "\\end{tabular}\n"
      ],
      "text/markdown": [
       "\n",
       "x | \n",
       "|---|---|---|---|---|\n",
       "| 0.7077850 | \n",
       "| 0.1332242 | \n",
       "| 0.7640809 | \n",
       "| 0.7213249 | \n",
       "| 0.5557485 | \n",
       "\n",
       "\n"
      ],
      "text/plain": [
       "  x        \n",
       "1 0.7077850\n",
       "2 0.1332242\n",
       "3 0.7640809\n",
       "4 0.7213249\n",
       "5 0.5557485"
      ]
     },
     "metadata": {},
     "output_type": "display_data"
    }
   ],
   "source": [
    "df <- tibble(\n",
    "    x = runif(5),\n",
    "    y = rnorm(5)\n",
    ")\n",
    "\n",
    "df$x\n",
    "df[[\"x\"]]\n",
    "df[,\"x\"]\n",
    "df[,1]"
   ]
  },
  {
   "cell_type": "code",
   "execution_count": 9,
   "metadata": {},
   "outputs": [
    {
     "data": {
      "text/html": [
       "<ol class=list-inline>\n",
       "\t<li>0.707784972852096</li>\n",
       "\t<li>0.13322418788448</li>\n",
       "\t<li>0.764080885564908</li>\n",
       "\t<li>0.721324865939096</li>\n",
       "\t<li>0.555748503422365</li>\n",
       "</ol>\n"
      ],
      "text/latex": [
       "\\begin{enumerate*}\n",
       "\\item 0.707784972852096\n",
       "\\item 0.13322418788448\n",
       "\\item 0.764080885564908\n",
       "\\item 0.721324865939096\n",
       "\\item 0.555748503422365\n",
       "\\end{enumerate*}\n"
      ],
      "text/markdown": [
       "1. 0.707784972852096\n",
       "2. 0.13322418788448\n",
       "3. 0.764080885564908\n",
       "4. 0.721324865939096\n",
       "5. 0.555748503422365\n",
       "\n",
       "\n"
      ],
      "text/plain": [
       "[1] 0.7077850 0.1332242 0.7640809 0.7213249 0.5557485"
      ]
     },
     "metadata": {},
     "output_type": "display_data"
    },
    {
     "data": {
      "text/html": [
       "<ol class=list-inline>\n",
       "\t<li>0.707784972852096</li>\n",
       "\t<li>0.13322418788448</li>\n",
       "\t<li>0.764080885564908</li>\n",
       "\t<li>0.721324865939096</li>\n",
       "\t<li>0.555748503422365</li>\n",
       "</ol>\n"
      ],
      "text/latex": [
       "\\begin{enumerate*}\n",
       "\\item 0.707784972852096\n",
       "\\item 0.13322418788448\n",
       "\\item 0.764080885564908\n",
       "\\item 0.721324865939096\n",
       "\\item 0.555748503422365\n",
       "\\end{enumerate*}\n"
      ],
      "text/markdown": [
       "1. 0.707784972852096\n",
       "2. 0.13322418788448\n",
       "3. 0.764080885564908\n",
       "4. 0.721324865939096\n",
       "5. 0.555748503422365\n",
       "\n",
       "\n"
      ],
      "text/plain": [
       "[1] 0.7077850 0.1332242 0.7640809 0.7213249 0.5557485"
      ]
     },
     "metadata": {},
     "output_type": "display_data"
    }
   ],
   "source": [
    "# 要想在管道中使用这些提取操作，使用特殊占位符\".\"\n",
    "df %>% .$x\n",
    "df %>% .[[\"x\"]]"
   ]
  },
  {
   "cell_type": "markdown",
   "metadata": {},
   "source": [
    "与data.frame相比，tibble更严格：它不能进行部分匹配，如果想要访问的列不存在，它会生成一条警告信息。"
   ]
  },
  {
   "cell_type": "markdown",
   "metadata": {},
   "source": [
    "### 与旧代码进行交互\n",
    "\n",
    "有些函数不支持tibble，可以使用as.data.frame()函数转换"
   ]
  },
  {
   "cell_type": "markdown",
   "metadata": {},
   "source": [
    "## 练习"
   ]
  },
  {
   "cell_type": "markdown",
   "metadata": {},
   "source": [
    "# (1) 如何识别一个对象是否为tibble？\n",
    "\n",
    "\n",
    "# 直接打印出来即可，显示上很容易区别\n"
   ]
  },
  {
   "cell_type": "code",
   "execution_count": 10,
   "metadata": {},
   "outputs": [],
   "source": [
    "# (2) 对比在data.frame和等价的tibble上进行的以下操作。有何区别？\n",
    "# 为什么默认的数据框操作会让人感到沮丧\n",
    "\n",
    "# df <-data.frame(abc =1, xyz =\"a\") \n",
    "# df$x \n",
    "# df[, \"xyz\"] \n",
    "# df[, c(\"abc\", \"xyz\")]"
   ]
  },
  {
   "cell_type": "code",
   "execution_count": 11,
   "metadata": {},
   "outputs": [
    {
     "data": {
      "text/html": [
       "a\n",
       "<details>\n",
       "\t<summary style=display:list-item;cursor:pointer>\n",
       "\t\t<strong>Levels</strong>:\n",
       "\t</summary>\n",
       "\t'a'\n",
       "</details>"
      ],
      "text/latex": [
       "a\n",
       "\\emph{Levels}: 'a'"
      ],
      "text/markdown": [
       "a\n",
       "**Levels**: 'a'"
      ],
      "text/plain": [
       "[1] a\n",
       "Levels: a"
      ]
     },
     "metadata": {},
     "output_type": "display_data"
    },
    {
     "data": {
      "text/html": [
       "a\n",
       "<details>\n",
       "\t<summary style=display:list-item;cursor:pointer>\n",
       "\t\t<strong>Levels</strong>:\n",
       "\t</summary>\n",
       "\t'a'\n",
       "</details>"
      ],
      "text/latex": [
       "a\n",
       "\\emph{Levels}: 'a'"
      ],
      "text/markdown": [
       "a\n",
       "**Levels**: 'a'"
      ],
      "text/plain": [
       "[1] a\n",
       "Levels: a"
      ]
     },
     "metadata": {},
     "output_type": "display_data"
    },
    {
     "data": {
      "text/html": [
       "<table>\n",
       "<thead><tr><th scope=col>abc</th><th scope=col>xyz</th></tr></thead>\n",
       "<tbody>\n",
       "\t<tr><td>1</td><td>a</td></tr>\n",
       "</tbody>\n",
       "</table>\n"
      ],
      "text/latex": [
       "\\begin{tabular}{r|ll}\n",
       " abc & xyz\\\\\n",
       "\\hline\n",
       "\t 1 & a\\\\\n",
       "\\end{tabular}\n"
      ],
      "text/markdown": [
       "\n",
       "abc | xyz | \n",
       "|---|\n",
       "| 1 | a | \n",
       "\n",
       "\n"
      ],
      "text/plain": [
       "  abc xyz\n",
       "1 1   a  "
      ]
     },
     "metadata": {},
     "output_type": "display_data"
    }
   ],
   "source": [
    "df <-data.frame(abc =1, xyz =\"a\") \n",
    "df$x \n",
    "df[, \"xyz\"] \n",
    "df[, c(\"abc\", \"xyz\")]"
   ]
  },
  {
   "cell_type": "code",
   "execution_count": 12,
   "metadata": {},
   "outputs": [
    {
     "name": "stderr",
     "output_type": "stream",
     "text": [
      "Warning message:\n",
      "“Unknown or uninitialised column: 'x'.”"
     ]
    },
    {
     "data": {
      "text/plain": [
       "NULL"
      ]
     },
     "metadata": {},
     "output_type": "display_data"
    },
    {
     "data": {
      "text/html": [
       "<table>\n",
       "<thead><tr><th scope=col>xyz</th></tr></thead>\n",
       "<tbody>\n",
       "\t<tr><td>a</td></tr>\n",
       "</tbody>\n",
       "</table>\n"
      ],
      "text/latex": [
       "\\begin{tabular}{r|l}\n",
       " xyz\\\\\n",
       "\\hline\n",
       "\t a\\\\\n",
       "\\end{tabular}\n"
      ],
      "text/markdown": [
       "\n",
       "xyz | \n",
       "|---|\n",
       "| a | \n",
       "\n",
       "\n"
      ],
      "text/plain": [
       "  xyz\n",
       "1 a  "
      ]
     },
     "metadata": {},
     "output_type": "display_data"
    },
    {
     "data": {
      "text/html": [
       "<table>\n",
       "<thead><tr><th scope=col>abc</th><th scope=col>xyz</th></tr></thead>\n",
       "<tbody>\n",
       "\t<tr><td>1</td><td>a</td></tr>\n",
       "</tbody>\n",
       "</table>\n"
      ],
      "text/latex": [
       "\\begin{tabular}{r|ll}\n",
       " abc & xyz\\\\\n",
       "\\hline\n",
       "\t 1 & a\\\\\n",
       "\\end{tabular}\n"
      ],
      "text/markdown": [
       "\n",
       "abc | xyz | \n",
       "|---|\n",
       "| 1 | a | \n",
       "\n",
       "\n"
      ],
      "text/plain": [
       "  abc xyz\n",
       "1 1   a  "
      ]
     },
     "metadata": {},
     "output_type": "display_data"
    }
   ],
   "source": [
    "df <-tibble(abc =1, xyz =\"a\") \n",
    "df$x # tibble更加严格，不能模糊匹配\n",
    "df[, \"xyz\"] \n",
    "df[, c(\"abc\", \"xyz\")]"
   ]
  },
  {
   "cell_type": "code",
   "execution_count": 13,
   "metadata": {},
   "outputs": [
    {
     "data": {
      "text/html": [
       "<table>\n",
       "<thead><tr><th scope=col>xyz</th></tr></thead>\n",
       "<tbody>\n",
       "\t<tr><td>a</td></tr>\n",
       "</tbody>\n",
       "</table>\n"
      ],
      "text/latex": [
       "\\begin{tabular}{r|l}\n",
       " xyz\\\\\n",
       "\\hline\n",
       "\t a\\\\\n",
       "\\end{tabular}\n"
      ],
      "text/markdown": [
       "\n",
       "xyz | \n",
       "|---|\n",
       "| a | \n",
       "\n",
       "\n"
      ],
      "text/plain": [
       "  xyz\n",
       "1 a  "
      ]
     },
     "metadata": {},
     "output_type": "display_data"
    },
    {
     "data": {
      "text/html": [
       "'a'"
      ],
      "text/latex": [
       "'a'"
      ],
      "text/markdown": [
       "'a'"
      ],
      "text/plain": [
       "[1] \"a\""
      ]
     },
     "metadata": {},
     "output_type": "display_data"
    }
   ],
   "source": [
    "## (3) 如果将一个变量的名称保存在一个对象中，\n",
    "# 如var  <-  \"mpg\"，如何从tibble中提取出这个变量？\n",
    "\n",
    "# 用上面的例子\n",
    "var <- \"xyz\"\n",
    "# df%var # 这样不可以\n",
    "df[,var]\n",
    "df[[var]]\n",
    "# df$`var` # 这样也不可以"
   ]
  },
  {
   "cell_type": "code",
   "execution_count": 14,
   "metadata": {},
   "outputs": [],
   "source": [
    "## (4) 在以下的数据框中练习如何引用不符合语法规则的变量名。\n",
    "## a. 提取名称为1的变量。\n",
    "## b. 绘制表示变量1和变量2关系的散点图。\n",
    "## c. 创建一个名称为3的新列，其值为列2除以列1。\n",
    "## d. 将这些列重新命名为one、two和three。\n",
    "annoying <-tibble(   \n",
    "    `1` =1:10,   \n",
    "    `2` = `1` *2+rnorm(length(`1`)) \n",
    ")"
   ]
  },
  {
   "cell_type": "code",
   "execution_count": 15,
   "metadata": {},
   "outputs": [
    {
     "data": {
      "text/html": [
       "<ol class=list-inline>\n",
       "\t<li>1</li>\n",
       "\t<li>2</li>\n",
       "\t<li>3</li>\n",
       "\t<li>4</li>\n",
       "\t<li>5</li>\n",
       "\t<li>6</li>\n",
       "\t<li>7</li>\n",
       "\t<li>8</li>\n",
       "\t<li>9</li>\n",
       "\t<li>10</li>\n",
       "</ol>\n"
      ],
      "text/latex": [
       "\\begin{enumerate*}\n",
       "\\item 1\n",
       "\\item 2\n",
       "\\item 3\n",
       "\\item 4\n",
       "\\item 5\n",
       "\\item 6\n",
       "\\item 7\n",
       "\\item 8\n",
       "\\item 9\n",
       "\\item 10\n",
       "\\end{enumerate*}\n"
      ],
      "text/markdown": [
       "1. 1\n",
       "2. 2\n",
       "3. 3\n",
       "4. 4\n",
       "5. 5\n",
       "6. 6\n",
       "7. 7\n",
       "8. 8\n",
       "9. 9\n",
       "10. 10\n",
       "\n",
       "\n"
      ],
      "text/plain": [
       " [1]  1  2  3  4  5  6  7  8  9 10"
      ]
     },
     "metadata": {},
     "output_type": "display_data"
    },
    {
     "data": {},
     "metadata": {},
     "output_type": "display_data"
    },
    {
     "data": {
      "text/html": [
       "<table>\n",
       "<thead><tr><th scope=col>1</th><th scope=col>2</th><th scope=col>3</th></tr></thead>\n",
       "<tbody>\n",
       "\t<tr><td> 1       </td><td> 3.080166</td><td>3.080166 </td></tr>\n",
       "\t<tr><td> 2       </td><td> 3.504817</td><td>1.752409 </td></tr>\n",
       "\t<tr><td> 3       </td><td> 5.907348</td><td>1.969116 </td></tr>\n",
       "\t<tr><td> 4       </td><td> 8.873859</td><td>2.218465 </td></tr>\n",
       "\t<tr><td> 5       </td><td>12.221696</td><td>2.444339 </td></tr>\n",
       "\t<tr><td> 6       </td><td>11.526668</td><td>1.921111 </td></tr>\n",
       "\t<tr><td> 7       </td><td>13.608353</td><td>1.944050 </td></tr>\n",
       "\t<tr><td> 8       </td><td>17.573763</td><td>2.196720 </td></tr>\n",
       "\t<tr><td> 9       </td><td>18.110902</td><td>2.012322 </td></tr>\n",
       "\t<tr><td>10       </td><td>18.988575</td><td>1.898857 </td></tr>\n",
       "</tbody>\n",
       "</table>\n"
      ],
      "text/latex": [
       "\\begin{tabular}{r|lll}\n",
       " 1 & 2 & 3\\\\\n",
       "\\hline\n",
       "\t  1        &  3.080166 & 3.080166 \\\\\n",
       "\t  2        &  3.504817 & 1.752409 \\\\\n",
       "\t  3        &  5.907348 & 1.969116 \\\\\n",
       "\t  4        &  8.873859 & 2.218465 \\\\\n",
       "\t  5        & 12.221696 & 2.444339 \\\\\n",
       "\t  6        & 11.526668 & 1.921111 \\\\\n",
       "\t  7        & 13.608353 & 1.944050 \\\\\n",
       "\t  8        & 17.573763 & 2.196720 \\\\\n",
       "\t  9        & 18.110902 & 2.012322 \\\\\n",
       "\t 10        & 18.988575 & 1.898857 \\\\\n",
       "\\end{tabular}\n"
      ],
      "text/markdown": [
       "\n",
       "1 | 2 | 3 | \n",
       "|---|---|---|---|---|---|---|---|---|---|\n",
       "|  1        |  3.080166 | 3.080166  | \n",
       "|  2        |  3.504817 | 1.752409  | \n",
       "|  3        |  5.907348 | 1.969116  | \n",
       "|  4        |  8.873859 | 2.218465  | \n",
       "|  5        | 12.221696 | 2.444339  | \n",
       "|  6        | 11.526668 | 1.921111  | \n",
       "|  7        | 13.608353 | 1.944050  | \n",
       "|  8        | 17.573763 | 2.196720  | \n",
       "|  9        | 18.110902 | 2.012322  | \n",
       "| 10        | 18.988575 | 1.898857  | \n",
       "\n",
       "\n"
      ],
      "text/plain": [
       "   1  2         3       \n",
       "1   1  3.080166 3.080166\n",
       "2   2  3.504817 1.752409\n",
       "3   3  5.907348 1.969116\n",
       "4   4  8.873859 2.218465\n",
       "5   5 12.221696 2.444339\n",
       "6   6 11.526668 1.921111\n",
       "7   7 13.608353 1.944050\n",
       "8   8 17.573763 2.196720\n",
       "9   9 18.110902 2.012322\n",
       "10 10 18.988575 1.898857"
      ]
     },
     "metadata": {},
     "output_type": "display_data"
    },
    {
     "data": {
      "text/html": [
       "<table>\n",
       "<thead><tr><th scope=col>one</th><th scope=col>two</th><th scope=col>three</th></tr></thead>\n",
       "<tbody>\n",
       "\t<tr><td> 1       </td><td> 3.080166</td><td>3.080166 </td></tr>\n",
       "\t<tr><td> 2       </td><td> 3.504817</td><td>1.752409 </td></tr>\n",
       "\t<tr><td> 3       </td><td> 5.907348</td><td>1.969116 </td></tr>\n",
       "\t<tr><td> 4       </td><td> 8.873859</td><td>2.218465 </td></tr>\n",
       "\t<tr><td> 5       </td><td>12.221696</td><td>2.444339 </td></tr>\n",
       "\t<tr><td> 6       </td><td>11.526668</td><td>1.921111 </td></tr>\n",
       "\t<tr><td> 7       </td><td>13.608353</td><td>1.944050 </td></tr>\n",
       "\t<tr><td> 8       </td><td>17.573763</td><td>2.196720 </td></tr>\n",
       "\t<tr><td> 9       </td><td>18.110902</td><td>2.012322 </td></tr>\n",
       "\t<tr><td>10       </td><td>18.988575</td><td>1.898857 </td></tr>\n",
       "</tbody>\n",
       "</table>\n"
      ],
      "text/latex": [
       "\\begin{tabular}{r|lll}\n",
       " one & two & three\\\\\n",
       "\\hline\n",
       "\t  1        &  3.080166 & 3.080166 \\\\\n",
       "\t  2        &  3.504817 & 1.752409 \\\\\n",
       "\t  3        &  5.907348 & 1.969116 \\\\\n",
       "\t  4        &  8.873859 & 2.218465 \\\\\n",
       "\t  5        & 12.221696 & 2.444339 \\\\\n",
       "\t  6        & 11.526668 & 1.921111 \\\\\n",
       "\t  7        & 13.608353 & 1.944050 \\\\\n",
       "\t  8        & 17.573763 & 2.196720 \\\\\n",
       "\t  9        & 18.110902 & 2.012322 \\\\\n",
       "\t 10        & 18.988575 & 1.898857 \\\\\n",
       "\\end{tabular}\n"
      ],
      "text/markdown": [
       "\n",
       "one | two | three | \n",
       "|---|---|---|---|---|---|---|---|---|---|\n",
       "|  1        |  3.080166 | 3.080166  | \n",
       "|  2        |  3.504817 | 1.752409  | \n",
       "|  3        |  5.907348 | 1.969116  | \n",
       "|  4        |  8.873859 | 2.218465  | \n",
       "|  5        | 12.221696 | 2.444339  | \n",
       "|  6        | 11.526668 | 1.921111  | \n",
       "|  7        | 13.608353 | 1.944050  | \n",
       "|  8        | 17.573763 | 2.196720  | \n",
       "|  9        | 18.110902 | 2.012322  | \n",
       "| 10        | 18.988575 | 1.898857  | \n",
       "\n",
       "\n"
      ],
      "text/plain": [
       "   one two       three   \n",
       "1   1   3.080166 3.080166\n",
       "2   2   3.504817 1.752409\n",
       "3   3   5.907348 1.969116\n",
       "4   4   8.873859 2.218465\n",
       "5   5  12.221696 2.444339\n",
       "6   6  11.526668 1.921111\n",
       "7   7  13.608353 1.944050\n",
       "8   8  17.573763 2.196720\n",
       "9   9  18.110902 2.012322\n",
       "10 10  18.988575 1.898857"
      ]
     },
     "metadata": {},
     "output_type": "display_data"
    },
    {
     "data": {
      "image/png": "[encoded data removed]",
      "text/plain": [
       "plot without title"
      ]
     },
     "metadata": {},
     "output_type": "display_data"
    }
   ],
   "source": [
    "# a\n",
    "annoying$`1`\n",
    "# b\n",
    "ggplot(annoying) + geom_point(aes(x = `1`, y = `2`))\n",
    "# c\n",
    "(annoying <- mutate(annoying, `3` = `2`/`1`))\n",
    "# d\n",
    "colnames(annoying) = c(\"one\",\"two\",\"three\")\n",
    "annoying"
   ]
  },
  {
   "cell_type": "markdown",
   "metadata": {},
   "source": [
    "结束"
   ]
  },
  {
   "cell_type": "code",
   "execution_count": null,
   "metadata": {},
   "outputs": [],
   "source": []
  }
 ],
 "metadata": {
  "kernelspec": {
   "display_name": "R",
   "language": "R",
   "name": "ir"
  },
  "language_info": {
   "codemirror_mode": "r",
   "file_extension": ".r",
   "mimetype": "text/x-r-source",
   "name": "R",
   "pygments_lexer": "r",
   "version": "3.4.4"
  }
 },
 "nbformat": 4,
 "nbformat_minor": 4
}
