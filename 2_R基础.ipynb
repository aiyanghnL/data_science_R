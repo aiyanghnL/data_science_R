{
 "cells": [
  {
   "cell_type": "markdown",
   "metadata": {},
   "source": [
    "# R基础\n",
    "该书第二章的R基础真的特别简单，没什么可说的，关于R基础还是去看《R语言实战（第2版）》吧，还是简要说一下"
   ]
  },
  {
   "cell_type": "markdown",
   "metadata": {},
   "source": [
    "## 在交互式模式下将R用作计算器\n",
    "\n",
    "R可以方便的进行很多基本的数学运算，包括但不限于加、减、乘、除、三角函数和复数\n",
    "\n",
    "这一部分就不演示了，$\\pi$直接是pi，自然对数是exp(1)"
   ]
  },
  {
   "cell_type": "markdown",
   "metadata": {},
   "source": [
    "## 对象命名\n",
    "\n",
    "大部分语言命名都是同样的要求，使用字母、数字、下划线“_”，数字不能打头，表意的时候可以用缩写、单词首字母大写、单词之间用下划线连接\n",
    "\n",
    "还有就是R中的赋值符号，R中赋值主要用的是“<-”，也可以用“->”和“=”,一般不要用等号，尽管很多情况下用等号也是可以的，不要怕麻烦，尽量用“<-”\n",
    "\n",
    "也不演示了"
   ]
  },
  {
   "cell_type": "markdown",
   "metadata": {},
   "source": [
    "## 注意\n",
    "任何编程语言都讲究准确，哪怕是一个一个字母和标点都不能错，如果报错对象找不到/object not found基本就是名字错了\n",
    "\n",
    "还有就是要注意引号、括号，引号和括号要一一对应"
   ]
  },
  {
   "cell_type": "code",
   "execution_count": null,
   "metadata": {},
   "outputs": [],
   "source": []
  }
 ],
 "metadata": {
  "kernelspec": {
   "display_name": "R",
   "language": "R",
   "name": "ir"
  },
  "language_info": {
   "codemirror_mode": "r",
   "file_extension": ".r",
   "mimetype": "text/x-r-source",
   "name": "R",
   "pygments_lexer": "r",
   "version": "3.4.4"
  }
 },
 "nbformat": 4,
 "nbformat_minor": 4
}
