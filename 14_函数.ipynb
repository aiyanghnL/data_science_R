{
 "cells": [
  {
   "cell_type": "markdown",
   "metadata": {},
   "source": [
    "# 14_函数\n",
    "\n",
    "作者说只要一段代码需要复制超过两次就应该考虑编写一个函数"
   ]
  },
  {
   "cell_type": "code",
   "execution_count": 1,
   "metadata": {},
   "outputs": [],
   "source": [
    "## 什么时候应该使用函数"
   ]
  },
  {
   "cell_type": "code",
   "execution_count": 2,
   "metadata": {},
   "outputs": [],
   "source": [
    "# 看一个例子\n",
    "\n",
    "# library(tidyverse)\n",
    "df <- tibble::tibble(\n",
    "    a = rnorm(10),\n",
    "    b = rnorm(10),\n",
    "    c = rnorm(10),\n",
    "    d = rnorm(10)\n",
    ")\n",
    "\n",
    "df$a <- (df$a - min(df$a, na.rm = T))/\n",
    "    (max(df$a, na.rm = T) - min(df$a, na.rm = T))\n",
    "df$b <- (df$b - min(df$b, na.rm = T))/\n",
    "    (max(df$b, na.rm = T) - min(df$a, na.rm = T))\n",
    "df$c <- (df$c - min(df$c, na.rm = T))/\n",
    "    (max(df$c, na.rm = T) - min(df$c, na.rm = T))\n",
    "df$d <- (df$d - min(df$d, na.rm = T))/\n",
    "    (max(df$d, na.rm = T) - min(df$d, na.rm = T))\n",
    "\n"
   ]
  },
  {
   "cell_type": "markdown",
   "metadata": {},
   "source": [
    "看出代码的作用和错误了吗，这就是复制容易引起的问题，我们编写一个函数来解决上述问题"
   ]
  },
  {
   "cell_type": "code",
   "execution_count": 3,
   "metadata": {},
   "outputs": [
    {
     "data": {
      "text/html": [
       "<ol class=list-inline>\n",
       "\t<li>0.880922827671697</li>\n",
       "\t<li>1</li>\n",
       "\t<li>0.360371904238663</li>\n",
       "\t<li>0.639012158683505</li>\n",
       "\t<li>0</li>\n",
       "\t<li>0.861240935739244</li>\n",
       "\t<li>0.746652784006549</li>\n",
       "\t<li>0.322733118541968</li>\n",
       "\t<li>0.125037675767593</li>\n",
       "\t<li>0.929106035217623</li>\n",
       "</ol>\n"
      ],
      "text/latex": [
       "\\begin{enumerate*}\n",
       "\\item 0.880922827671697\n",
       "\\item 1\n",
       "\\item 0.360371904238663\n",
       "\\item 0.639012158683505\n",
       "\\item 0\n",
       "\\item 0.861240935739244\n",
       "\\item 0.746652784006549\n",
       "\\item 0.322733118541968\n",
       "\\item 0.125037675767593\n",
       "\\item 0.929106035217623\n",
       "\\end{enumerate*}\n"
      ],
      "text/markdown": [
       "1. 0.880922827671697\n",
       "2. 1\n",
       "3. 0.360371904238663\n",
       "4. 0.639012158683505\n",
       "5. 0\n",
       "6. 0.861240935739244\n",
       "7. 0.746652784006549\n",
       "8. 0.322733118541968\n",
       "9. 0.125037675767593\n",
       "10. 0.929106035217623\n",
       "\n",
       "\n"
      ],
      "text/plain": [
       " [1] 0.8809228 1.0000000 0.3603719 0.6390122 0.0000000 0.8612409 0.7466528\n",
       " [8] 0.3227331 0.1250377 0.9291060"
      ]
     },
     "metadata": {},
     "output_type": "display_data"
    }
   ],
   "source": [
    "x <- df$a\n",
    "(x - min(x, na.rm = T))/\n",
    "(max(x, na.rm = T) - min(x, na.rm = T))"
   ]
  },
  {
   "cell_type": "code",
   "execution_count": 4,
   "metadata": {},
   "outputs": [
    {
     "data": {
      "text/html": [
       "<ol class=list-inline>\n",
       "\t<li>0.880922827671697</li>\n",
       "\t<li>1</li>\n",
       "\t<li>0.360371904238663</li>\n",
       "\t<li>0.639012158683505</li>\n",
       "\t<li>0</li>\n",
       "\t<li>0.861240935739244</li>\n",
       "\t<li>0.746652784006549</li>\n",
       "\t<li>0.322733118541968</li>\n",
       "\t<li>0.125037675767593</li>\n",
       "\t<li>0.929106035217623</li>\n",
       "</ol>\n"
      ],
      "text/latex": [
       "\\begin{enumerate*}\n",
       "\\item 0.880922827671697\n",
       "\\item 1\n",
       "\\item 0.360371904238663\n",
       "\\item 0.639012158683505\n",
       "\\item 0\n",
       "\\item 0.861240935739244\n",
       "\\item 0.746652784006549\n",
       "\\item 0.322733118541968\n",
       "\\item 0.125037675767593\n",
       "\\item 0.929106035217623\n",
       "\\end{enumerate*}\n"
      ],
      "text/markdown": [
       "1. 0.880922827671697\n",
       "2. 1\n",
       "3. 0.360371904238663\n",
       "4. 0.639012158683505\n",
       "5. 0\n",
       "6. 0.861240935739244\n",
       "7. 0.746652784006549\n",
       "8. 0.322733118541968\n",
       "9. 0.125037675767593\n",
       "10. 0.929106035217623\n",
       "\n",
       "\n"
      ],
      "text/plain": [
       " [1] 0.8809228 1.0000000 0.3603719 0.6390122 0.0000000 0.8612409 0.7466528\n",
       " [8] 0.3227331 0.1250377 0.9291060"
      ]
     },
     "metadata": {},
     "output_type": "display_data"
    }
   ],
   "source": [
    "# 这里依旧有些重复，计算了３次最大值和最小值\n",
    "# 我们学习一个函数range()\n",
    "# help(range)\n",
    "# range returns a vector containing the minimum and maximum of all the given arguments. \n",
    "rng <- range(x, na.rm = T)\n",
    "(x- rng[1])/(rng[2] - rng[1])\n"
   ]
  },
  {
   "cell_type": "code",
   "execution_count": 5,
   "metadata": {},
   "outputs": [
    {
     "data": {
      "text/html": [
       "<ol class=list-inline>\n",
       "\t<li>0</li>\n",
       "\t<li>0.1</li>\n",
       "\t<li>0.2</li>\n",
       "\t<li>0.3</li>\n",
       "\t<li>0.4</li>\n",
       "\t<li>0.5</li>\n",
       "\t<li>0.6</li>\n",
       "\t<li>0.7</li>\n",
       "\t<li>0.8</li>\n",
       "\t<li>0.9</li>\n",
       "\t<li>1</li>\n",
       "</ol>\n"
      ],
      "text/latex": [
       "\\begin{enumerate*}\n",
       "\\item 0\n",
       "\\item 0.1\n",
       "\\item 0.2\n",
       "\\item 0.3\n",
       "\\item 0.4\n",
       "\\item 0.5\n",
       "\\item 0.6\n",
       "\\item 0.7\n",
       "\\item 0.8\n",
       "\\item 0.9\n",
       "\\item 1\n",
       "\\end{enumerate*}\n"
      ],
      "text/markdown": [
       "1. 0\n",
       "2. 0.1\n",
       "3. 0.2\n",
       "4. 0.3\n",
       "5. 0.4\n",
       "6. 0.5\n",
       "7. 0.6\n",
       "8. 0.7\n",
       "9. 0.8\n",
       "10. 0.9\n",
       "11. 1\n",
       "\n",
       "\n"
      ],
      "text/plain": [
       " [1] 0.0 0.1 0.2 0.3 0.4 0.5 0.6 0.7 0.8 0.9 1.0"
      ]
     },
     "metadata": {},
     "output_type": "display_data"
    }
   ],
   "source": [
    "# 下面开始写函数\n",
    "rescale01 <- function(x){\n",
    "    rng <- range(x, na.rm = T)\n",
    "    (x - rng[1]) / (rng[2] - rng[1])\n",
    "}\n",
    "\n",
    "rescale01(c(0:10))# 验证函数是否正确"
   ]
  },
  {
   "cell_type": "code",
   "execution_count": 6,
   "metadata": {},
   "outputs": [],
   "source": [
    "# 简化最初的代码\n",
    "df$a <- rescale01(df$a)\n",
    "df$b <- rescale01(df$b)\n",
    "df$c <- rescale01(df$c)\n",
    "df$d <- rescale01(df$d)\n",
    "# 好多了，但依旧有重复，但我们这里先不优化，等学习的后面的知识再说\n"
   ]
  },
  {
   "cell_type": "code",
   "execution_count": 7,
   "metadata": {},
   "outputs": [
    {
     "data": {
      "text/html": [
       "<ol class=list-inline>\n",
       "\t<li>0</li>\n",
       "\t<li>0</li>\n",
       "\t<li>0</li>\n",
       "\t<li>0</li>\n",
       "\t<li>0</li>\n",
       "\t<li>0</li>\n",
       "\t<li>0</li>\n",
       "\t<li>0</li>\n",
       "\t<li>0</li>\n",
       "\t<li>0</li>\n",
       "\t<li>NaN</li>\n",
       "</ol>\n"
      ],
      "text/latex": [
       "\\begin{enumerate*}\n",
       "\\item 0\n",
       "\\item 0\n",
       "\\item 0\n",
       "\\item 0\n",
       "\\item 0\n",
       "\\item 0\n",
       "\\item 0\n",
       "\\item 0\n",
       "\\item 0\n",
       "\\item 0\n",
       "\\item NaN\n",
       "\\end{enumerate*}\n"
      ],
      "text/markdown": [
       "1. 0\n",
       "2. 0\n",
       "3. 0\n",
       "4. 0\n",
       "5. 0\n",
       "6. 0\n",
       "7. 0\n",
       "8. 0\n",
       "9. 0\n",
       "10. 0\n",
       "11. NaN\n",
       "\n",
       "\n"
      ],
      "text/plain": [
       " [1]   0   0   0   0   0   0   0   0   0   0 NaN"
      ]
     },
     "metadata": {},
     "output_type": "display_data"
    }
   ],
   "source": [
    "# 函数的优点是需求变化只需要改一处\n",
    "x <- c(1:10, Inf)\n",
    "rescale01(x)\n",
    "# 能看出来包含无限值就不对了"
   ]
  },
  {
   "cell_type": "code",
   "execution_count": 8,
   "metadata": {},
   "outputs": [
    {
     "data": {
      "text/html": [
       "<ol class=list-inline>\n",
       "\t<li>0</li>\n",
       "\t<li>0.111111111111111</li>\n",
       "\t<li>0.222222222222222</li>\n",
       "\t<li>0.333333333333333</li>\n",
       "\t<li>0.444444444444444</li>\n",
       "\t<li>0.555555555555556</li>\n",
       "\t<li>0.666666666666667</li>\n",
       "\t<li>0.777777777777778</li>\n",
       "\t<li>0.888888888888889</li>\n",
       "\t<li>1</li>\n",
       "\t<li>Inf</li>\n",
       "</ol>\n"
      ],
      "text/latex": [
       "\\begin{enumerate*}\n",
       "\\item 0\n",
       "\\item 0.111111111111111\n",
       "\\item 0.222222222222222\n",
       "\\item 0.333333333333333\n",
       "\\item 0.444444444444444\n",
       "\\item 0.555555555555556\n",
       "\\item 0.666666666666667\n",
       "\\item 0.777777777777778\n",
       "\\item 0.888888888888889\n",
       "\\item 1\n",
       "\\item Inf\n",
       "\\end{enumerate*}\n"
      ],
      "text/markdown": [
       "1. 0\n",
       "2. 0.111111111111111\n",
       "3. 0.222222222222222\n",
       "4. 0.333333333333333\n",
       "5. 0.444444444444444\n",
       "6. 0.555555555555556\n",
       "7. 0.666666666666667\n",
       "8. 0.777777777777778\n",
       "9. 0.888888888888889\n",
       "10. 1\n",
       "11. Inf\n",
       "\n",
       "\n"
      ],
      "text/plain": [
       " [1] 0.0000000 0.1111111 0.2222222 0.3333333 0.4444444 0.5555556 0.6666667\n",
       " [8] 0.7777778 0.8888889 1.0000000       Inf"
      ]
     },
     "metadata": {},
     "output_type": "display_data"
    }
   ],
   "source": [
    "# 我们修改一下函数\n",
    "rescale01 <- function(x){\n",
    "    rng <- range(x, na.rm = T, finite = T)\n",
    "    (x - rng[1]) / (rng[2] - rng[1])\n",
    "}\n",
    "rescale01(x)\n",
    "\n",
    "# 尽量写函数，不然就。。。"
   ]
  },
  {
   "cell_type": "markdown",
   "metadata": {},
   "source": [
    "## 练习"
   ]
  },
  {
   "cell_type": "code",
   "execution_count": 9,
   "metadata": {},
   "outputs": [
    {
     "data": {
      "text/html": [
       "<ol class=list-inline>\n",
       "\t<li>0.1</li>\n",
       "\t<li>0.2</li>\n",
       "\t<li>0.3</li>\n",
       "\t<li>0.4</li>\n",
       "\t<li>0.5</li>\n",
       "\t<li>0.6</li>\n",
       "\t<li>0.7</li>\n",
       "\t<li>0.8</li>\n",
       "\t<li>0.9</li>\n",
       "\t<li>1</li>\n",
       "\t<li>0.1</li>\n",
       "\t<li>0</li>\n",
       "</ol>\n"
      ],
      "text/latex": [
       "\\begin{enumerate*}\n",
       "\\item 0.1\n",
       "\\item 0.2\n",
       "\\item 0.3\n",
       "\\item 0.4\n",
       "\\item 0.5\n",
       "\\item 0.6\n",
       "\\item 0.7\n",
       "\\item 0.8\n",
       "\\item 0.9\n",
       "\\item 1\n",
       "\\item 0.1\n",
       "\\item 0\n",
       "\\end{enumerate*}\n"
      ],
      "text/markdown": [
       "1. 0.1\n",
       "2. 0.2\n",
       "3. 0.3\n",
       "4. 0.4\n",
       "5. 0.5\n",
       "6. 0.6\n",
       "7. 0.7\n",
       "8. 0.8\n",
       "9. 0.9\n",
       "10. 1\n",
       "11. 0.1\n",
       "12. 0\n",
       "\n",
       "\n"
      ],
      "text/plain": [
       " [1] 0.1 0.2 0.3 0.4 0.5 0.6 0.7 0.8 0.9 1.0 0.1 0.0"
      ]
     },
     "metadata": {},
     "output_type": "display_data"
    }
   ],
   "source": [
    "# 在rescale01()函数的第二个版本中，无穷大值未作任何处理。\n",
    "# 重写rescale01()函数，将-Inf映射为0，Inf映射为1\n",
    "y <- x\n",
    "y[12] <- -Inf\n",
    "rescale01 <- function(x){\n",
    "    x[x==-Inf] = 0\n",
    "     x[x == Inf] = 1\n",
    "#     x\n",
    "    rng <- range(x, na.rm = T, finite = T)\n",
    "    (x - rng[1]) / (rng[2] - rng[1])\n",
    "}\n",
    "rescale01(y)"
   ]
  },
  {
   "cell_type": "markdown",
   "metadata": {},
   "source": [
    "编写一个函数来计算数值向量的方差和偏度"
   ]
  },
  {
   "cell_type": "code",
   "execution_count": 10,
   "metadata": {},
   "outputs": [
    {
     "data": {
      "text/html": [
       "9.16666666666667"
      ],
      "text/latex": [
       "9.16666666666667"
      ],
      "text/markdown": [
       "9.16666666666667"
      ],
      "text/plain": [
       "[1] 9.166667"
      ]
     },
     "metadata": {},
     "output_type": "display_data"
    },
    {
     "data": {
      "text/html": [
       "9.16666666666667"
      ],
      "text/latex": [
       "9.16666666666667"
      ],
      "text/markdown": [
       "9.16666666666667"
      ],
      "text/plain": [
       "[1] 9.166667"
      ]
     },
     "metadata": {},
     "output_type": "display_data"
    },
    {
     "data": {
      "text/html": [
       "9.16666666666667"
      ],
      "text/latex": [
       "9.16666666666667"
      ],
      "text/markdown": [
       "9.16666666666667"
      ],
      "text/plain": [
       "[1] 9.166667"
      ]
     },
     "metadata": {},
     "output_type": "display_data"
    },
    {
     "data": {
      "text/html": [
       "0.957427107756338"
      ],
      "text/latex": [
       "0.957427107756338"
      ],
      "text/markdown": [
       "0.957427107756338"
      ],
      "text/plain": [
       "[1] 0.9574271"
      ]
     },
     "metadata": {},
     "output_type": "display_data"
    },
    {
     "data": {
      "text/html": [
       "2.72763633939717"
      ],
      "text/latex": [
       "2.72763633939717"
      ],
      "text/markdown": [
       "2.72763633939717"
      ],
      "text/plain": [
       "[1] 2.727636"
      ]
     },
     "metadata": {},
     "output_type": "display_data"
    },
    {
     "data": {
      "text/html": [
       "0.957427107756338"
      ],
      "text/latex": [
       "0.957427107756338"
      ],
      "text/markdown": [
       "0.957427107756338"
      ],
      "text/plain": [
       "[1] 0.9574271"
      ]
     },
     "metadata": {},
     "output_type": "display_data"
    }
   ],
   "source": [
    "x <- 1:10\n",
    "sum((x - mean(x))^2)/(length(x)-1)# 手动计算方差\n",
    "sd(x)^2# 标准差的平方\n",
    "var(x)# 方差\n",
    "sqrt(var(x)/length(x))# 均值标准误\n",
    "std.err <- function(x){\n",
    "    sqrt(var(x)/length(x))\n",
    "}# 这样也许会有小问题\n",
    "y <- c(1,2,4,8,16)\n",
    "std.err(y)\n",
    "x <- 1:10\n",
    "std.err(x)"
   ]
  },
  {
   "cell_type": "code",
   "execution_count": 11,
   "metadata": {},
   "outputs": [
    {
     "data": {
      "text/html": [
       "0.957427107756338"
      ],
      "text/latex": [
       "0.957427107756338"
      ],
      "text/markdown": [
       "0.957427107756338"
      ],
      "text/plain": [
       "[1] 0.9574271"
      ]
     },
     "metadata": {},
     "output_type": "display_data"
    }
   ],
   "source": [
    "std.err <- function(x){\n",
    "    v <- var(x)\n",
    "    n <- length(x)\n",
    "    sqrt(v/n)\n",
    "}# 这样可能好点\n",
    "std.err(x)"
   ]
  },
  {
   "cell_type": "markdown",
   "metadata": {},
   "source": [
    "我们计算一下偏度\n",
    "\n",
    "公式：\n",
    "\n",
    "$$\\frac{\\frac{1}{n-2}\\sum_{i=1}^{n}(x_i-\\bar{x})^3}{var(x)^{\\frac{3}{2}}}$$"
   ]
  },
  {
   "cell_type": "code",
   "execution_count": 12,
   "metadata": {},
   "outputs": [
    {
     "data": {
      "text/html": [
       "-0.00793502298939995"
      ],
      "text/latex": [
       "-0.00793502298939995"
      ],
      "text/markdown": [
       "-0.00793502298939995"
      ],
      "text/plain": [
       "[1] -0.007935023"
      ]
     },
     "metadata": {},
     "output_type": "display_data"
    }
   ],
   "source": [
    "skenewness <- function(x){\n",
    "    n <- length(x)\n",
    "    m <- mean(x)\n",
    "    v <- var(x)\n",
    "    (1/(n-2))*sum((x-m)^3)/v^(3/2)\n",
    "}# 计算偏度的函数\n",
    "skenewness(rnorm(100))"
   ]
  },
  {
   "cell_type": "markdown",
   "metadata": {},
   "source": [
    "编写 一个名为both_na()的函数，它接受两个长度相同的向量，如果两个向量中同一位置的值都是NA，则返回这样位置的数量。"
   ]
  },
  {
   "cell_type": "code",
   "execution_count": 13,
   "metadata": {},
   "outputs": [
    {
     "name": "stdout",
     "output_type": "stream",
     "text": [
      "[1] 2\n",
      "[1] 4\n",
      "[1] 2\n"
     ]
    }
   ],
   "source": [
    "both_na <- function(a,b){\n",
    "# a <- c(1,NA,2,NA,3)\n",
    "# b <- c(NA,NA, 1, NA,3)# 测试\n",
    "if(length(a)==length(b)){\n",
    "j=0\n",
    "for(i in 1:length(a)){\n",
    "    if(is.na(a[i]) & is.na(b[i])){\n",
    "         print(i)\n",
    "         j = j + 1\n",
    "    }\n",
    "}\n",
    "print(j)}else{print(\"length a is not = b\")}\n",
    "}# 暂时能用，不过循环用for怕是会降低速度，数据稍微大一点就慢了\n",
    "\n",
    "a <- c(1,NA,2,NA,3)\n",
    "b <- c(NA,NA, 1, NA,3)\n",
    "both_na(a,b)"
   ]
  },
  {
   "cell_type": "markdown",
   "metadata": {},
   "source": [
    "以下函数的功能是什么？尽管它们都很简短，但是用处都很大，为什么？\n",
    "\n",
    "is_directory <-function(x) file.info(x)$isdir \n",
    "\n",
    "is_readable <-function(x) file.access(x, 4) ==0\n",
    "\n",
    "从名字就可以看出来，第一个是判断是不是目录，第二个是判断文件是不是可读的，接受的输入是字符串向量，判断文件的读、写、可执行权限再windows下没什么用，主要是再linux下才用。"
   ]
  },
  {
   "cell_type": "markdown",
   "metadata": {},
   "source": [
    " 阅读以下3个函数的源代码，推测出它们的功能，然后使用头脑风暴给它们以更好的名称"
   ]
  },
  {
   "cell_type": "code",
   "execution_count": 14,
   "metadata": {},
   "outputs": [],
   "source": [
    "f1 <-function(string, prefix) { \n",
    "    substr(string, 1, nchar(prefix)) == prefix \n",
    "}\n",
    "\n",
    "# x <- \"function\"\n",
    "# y <- \"fun\"\n",
    "# f1(x,y)\n",
    "\n",
    "f2 <-function(x) { \n",
    "    if (length(x) <=1) return(NULL)   \n",
    "    x[-length(x)] \n",
    "}\n",
    "# x <- c(1:3)\n",
    "# y <- c(\"a\",\"b\")\n",
    "# f2(x)\n",
    "# f2(y)\n",
    "\n",
    "f3 <-function(x, y) { \n",
    "    rep(y, length.out =length(x)) \n",
    "}\n",
    "# x <- c(1:8)\n",
    "# y <- c(\"a\",\"b\")\n",
    "# f3(x,y)"
   ]
  },
  {
   "cell_type": "markdown",
   "metadata": {},
   "source": [
    "## 条件执行"
   ]
  },
  {
   "cell_type": "code",
   "execution_count": 15,
   "metadata": {},
   "outputs": [],
   "source": [
    "# 用if描述一个向量的各个元素是否被命名的函数\n",
    "# 查看if的帮助要加反引号\n",
    "has_name <- function(x) {\n",
    "    nms <- names(x)\n",
    "    if(is.null(nms)){\n",
    "        rep(FALSE, length(x))\n",
    "    } else{\n",
    "        !is.na(nms) & nms != \"\"\n",
    "    }\n",
    "}\n",
    "# x <- c(\"a\"=1,\"b\"=2)\n",
    "# x\n",
    "# is.vector(x)\n",
    "# y <- 1:8\n",
    "# has_name(x)\n",
    "# has_name(y)\n",
    "\n"
   ]
  },
  {
   "cell_type": "markdown",
   "metadata": {},
   "source": [
    "***if条件注意***\n",
    "\n",
    "if的条件要么是真，要么是假，不能是向量和NA，\n",
    "\n",
    "可以使用||（或）和&&（与）操作符来组合多个逻辑表达式。\n",
    "\n",
    "?all# Given a set of logical vectors, are all of the values true? \n",
    "\n",
    "?any # Given a set of logical vectors, is at least one of the values true? \n",
    "\n",
    "identical()非常严格，总是返回一个TRUE或者一个FALSE，并且不限制参数类型\n",
    "\n",
    "浮点数比较使用dplyr::near()函数\n",
    "\n",
    "\n",
    "多重条件\n",
    "```\n",
    "if (this) {  \n",
    "    # 做一些操作\n",
    "} else if (that) {  \n",
    "    # 做另外一些操作\n",
    "} else {   \n",
    "    # \n",
    "}\n",
    "```\n",
    "但如果你有一长串if语句，那么就要考虑重写了。重写的一种方法是使用switch()函数，它先对第一个参数求值，然后按照名称或位置在后面的参数列表中匹配返回结果：\n",
    "```{R}\n",
    "function(x, y, op) { \n",
    "  switch(op,\n",
    "    plus = x + y, \n",
    "    minus = x - y, \n",
    "    times = x * y, \n",
    "    divide = x / y, \n",
    "    stop(\"Unknown op!\") \n",
    "  ) \n",
    "}\n",
    "```\n",
    "可以重写一长串if语句的另一个函数是cut()，它可以将连续变量离散化\n",
    "\n",
    "代码风格就是不要写的太乱七八糟，一定要该空格空格，该缩进缩进，该换行换行，看别人怎么写的，自己也怎么写\n",
    "\n",
    "前面没有做示范，看练习"
   ]
  },
  {
   "cell_type": "markdown",
   "metadata": {},
   "source": [
    "## 练习"
   ]
  },
  {
   "cell_type": "code",
   "execution_count": 16,
   "metadata": {},
   "outputs": [
    {
     "name": "stdout",
     "output_type": "stream",
     "text": [
      "[1] 9\n"
     ]
    },
    {
     "data": {
      "text/html": [
       "9"
      ],
      "text/latex": [
       "9"
      ],
      "text/markdown": [
       "9"
      ],
      "text/plain": [
       "[1] 9"
      ]
     },
     "metadata": {},
     "output_type": "display_data"
    },
    {
     "data": {
      "text/html": [
       "'top'"
      ],
      "text/latex": [
       "'top'"
      ],
      "text/markdown": [
       "'top'"
      ],
      "text/plain": [
       "[1] \"top\""
      ]
     },
     "metadata": {},
     "output_type": "display_data"
    },
    {
     "name": "stdout",
     "output_type": "stream",
     "text": [
      "[1] \"top\"\n"
     ]
    }
   ],
   "source": [
    "# (1) if与ifelse()的区别是什么？仔细阅读帮助文档，然后构建3个示例，说明它们之间的关键区别。\n",
    "# 直接看一个例子\n",
    "a <- 3\n",
    "b <- 4\n",
    "a <- 9\n",
    "\n",
    "if(a>b){\n",
    "    print(a)\n",
    "}else{\n",
    "    print(b)\n",
    "}\n",
    "ifelse(a>b, a, b)\n",
    "\n",
    "\n",
    "ifelse(a>b, ifelse(a<7, a, \"top\"), b)\n",
    "if(a>b){\n",
    "    if (a<7){\n",
    "    print(a)\n",
    "}else{\n",
    "    print(\"top\")\n",
    "}\n",
    "}else{ \n",
    "    print(b)\n",
    "}\n",
    "\n",
    "# 很明显ifelse要简洁"
   ]
  },
  {
   "cell_type": "code",
   "execution_count": 17,
   "metadata": {},
   "outputs": [
    {
     "data": {
      "text/html": [
       "'good evening'"
      ],
      "text/latex": [
       "'good evening'"
      ],
      "text/markdown": [
       "'good evening'"
      ],
      "text/plain": [
       "[1] \"good evening\""
      ]
     },
     "metadata": {},
     "output_type": "display_data"
    }
   ],
   "source": [
    "# 编写一个欢迎函数，根据每天的不同时间输出“上午好”“下午好”和“晚上好”。（提示：使用lubridate::now()函数默认的时间参数，这会使得函数测试更容易一些。）\n",
    "hello <- function(){\n",
    "    now_time <- lubridate::now()\n",
    "    h <- lubridate::hour(now_time)\n",
    "    ifelse(h > 7 , \n",
    "           ifelse(h < 13, \"good morning\", \n",
    "                          ifelse(h < 20, \"good afternoon\", \n",
    "                                 \"good evening\")), \"good evening\")\n",
    "}# 此函数不需要输入参数\n",
    "hello()"
   ]
  },
  {
   "cell_type": "code",
   "execution_count": 18,
   "metadata": {},
   "outputs": [
    {
     "name": "stdout",
     "output_type": "stream",
     "text": [
      "[1] 2\n",
      "[1] \"fizz\"\n",
      "[1] 7\n",
      "[1] \"buzz\"\n",
      "[1] \"fizzbuzz\"\n",
      " [1] \"-\" \"-\" \"-\" \"-\" \"-\" \"-\" \"-\" \"-\" \"-\" \"-\" \"-\" \"-\" \"-\" \"-\" \"-\" \"-\"\n",
      "[1] 2\n",
      "[1] \"fizz\"\n",
      "[1] 7\n",
      "[1] \"buzz\"\n",
      "[1] \"fizzbuzz\"\n"
     ]
    }
   ],
   "source": [
    "# 实现fizzbuzz函数，接受一个数值作为输入。如果这个数值能被3整除，那么就返回“fizz”；如果能被5整除，就返回“buzz”；如果能同时被3和5整除，则返回“fizzbuzz”；否则，就返回这个数值。\n",
    "fizzbuzz <- function(x){\n",
    "    if(!x%%3 && !x%%5){\n",
    "        print(\"fizzbuzz\")\n",
    "    }else if(!x%%3){\n",
    "        print(\"fizz\")\n",
    "    }else if(!x%%5){\n",
    "        print(\"buzz\")\n",
    "    }else{\n",
    "         print(x)\n",
    "    }\n",
    "}# 逻辑不太好\n",
    "\n",
    "x <- c(2,6,7,10,15)\n",
    "for (i in x){\n",
    "    fizzbuzz(i)\n",
    "    }\n",
    "    \n",
    "print(rep(\"-\",16))\n",
    "fizzbuzz <- function(x){\n",
    "    z <- ifelse(!x%%3, ifelse(!x%%5, \"fizzbuzz\", \"fizz\"), \n",
    "           ifelse(!x%%5, \"buzz\", x))\n",
    "    print(z)\n",
    "    }# 简洁\n",
    "# y <- 11\n",
    "# fizzbuzz(y)\n",
    "for (i in x){\n",
    "    fizzbuzz(i)\n",
    "    }"
   ]
  },
  {
   "cell_type": "markdown",
   "metadata": {},
   "source": [
    "如何使用cut()函数来简化以下这段嵌套if-else语句？\n",
    "```\n",
    "if (temp <=0) { \n",
    "    \"freezing\" \n",
    "    } else if (temp <=10) { \n",
    "    \"cold\" \n",
    "    } else if (temp <=20) { \n",
    "    \"cool\" } else if (temp <=30) { \n",
    "    \"warm\" \n",
    "    } else { \n",
    "    \"hot\"\n",
    "    }\n",
    "```"
   ]
  },
  {
   "cell_type": "code",
   "execution_count": 19,
   "metadata": {},
   "outputs": [
    {
     "data": {
      "text/html": [
       "hot\n",
       "<details>\n",
       "\t<summary style=display:list-item;cursor:pointer>\n",
       "\t\t<strong>Levels</strong>:\n",
       "\t</summary>\n",
       "\t<ol class=list-inline>\n",
       "\t\t<li>'freezing'</li>\n",
       "\t\t<li>'cold'</li>\n",
       "\t\t<li>'cool'</li>\n",
       "\t\t<li>'warm'</li>\n",
       "\t\t<li>'hot'</li>\n",
       "\t</ol>\n",
       "</details>"
      ],
      "text/latex": [
       "hot\n",
       "\\emph{Levels}: \\begin{enumerate*}\n",
       "\\item 'freezing'\n",
       "\\item 'cold'\n",
       "\\item 'cool'\n",
       "\\item 'warm'\n",
       "\\item 'hot'\n",
       "\\end{enumerate*}\n"
      ],
      "text/markdown": [
       "hot\n",
       "**Levels**: 1. 'freezing'\n",
       "2. 'cold'\n",
       "3. 'cool'\n",
       "4. 'warm'\n",
       "5. 'hot'\n",
       "\n",
       "\n"
      ],
      "text/plain": [
       "[1] hot\n",
       "Levels: freezing cold cool warm hot"
      ]
     },
     "metadata": {},
     "output_type": "display_data"
    },
    {
     "data": {
      "text/html": [
       "<ol class=list-inline>\n",
       "\t<li>freezing</li>\n",
       "\t<li>warm</li>\n",
       "</ol>\n",
       "\n",
       "<details>\n",
       "\t<summary style=display:list-item;cursor:pointer>\n",
       "\t\t<strong>Levels</strong>:\n",
       "\t</summary>\n",
       "\t<ol class=list-inline>\n",
       "\t\t<li>'freezing'</li>\n",
       "\t\t<li>'cold'</li>\n",
       "\t\t<li>'cool'</li>\n",
       "\t\t<li>'warm'</li>\n",
       "\t\t<li>'hot'</li>\n",
       "\t</ol>\n",
       "</details>"
      ],
      "text/latex": [
       "\\begin{enumerate*}\n",
       "\\item freezing\n",
       "\\item warm\n",
       "\\end{enumerate*}\n",
       "\n",
       "\\emph{Levels}: \\begin{enumerate*}\n",
       "\\item 'freezing'\n",
       "\\item 'cold'\n",
       "\\item 'cool'\n",
       "\\item 'warm'\n",
       "\\item 'hot'\n",
       "\\end{enumerate*}\n"
      ],
      "text/markdown": [
       "1. freezing\n",
       "2. warm\n",
       "\n",
       "\n",
       "\n",
       "**Levels**: 1. 'freezing'\n",
       "2. 'cold'\n",
       "3. 'cool'\n",
       "4. 'warm'\n",
       "5. 'hot'\n",
       "\n",
       "\n"
      ],
      "text/plain": [
       "[1] freezing warm    \n",
       "Levels: freezing cold cool warm hot"
      ]
     },
     "metadata": {},
     "output_type": "display_data"
    }
   ],
   "source": [
    "feel_temp <- function(temp){\n",
    "    cut(temp, c(-100,0,10,20,30,100), right = T, \n",
    "    labels = c(\"freezing\", \"cold\", \"cool\", \"warm\", \"hot\"))\n",
    "}\n",
    "feel_temp(35)\n",
    "feel_temp(c(-15,22))\n",
    "# 使用cut确实优雅许多，还可以接受多个值，如果给的参数越界就会出错"
   ]
  },
  {
   "cell_type": "markdown",
   "metadata": {},
   "source": [
    "## 函数参数\n",
    "\n",
    "函数参数如果设置默认值一定要设置最常用的值，\n",
    "比如："
   ]
  },
  {
   "cell_type": "code",
   "execution_count": 20,
   "metadata": {},
   "outputs": [
    {
     "data": {
      "text/html": [
       "<ol class=list-inline>\n",
       "\t<li>0.455364384159207</li>\n",
       "\t<li>0.561445046144777</li>\n",
       "</ol>\n"
      ],
      "text/latex": [
       "\\begin{enumerate*}\n",
       "\\item 0.455364384159207\n",
       "\\item 0.561445046144777\n",
       "\\end{enumerate*}\n"
      ],
      "text/markdown": [
       "1. 0.455364384159207\n",
       "2. 0.561445046144777\n",
       "\n",
       "\n"
      ],
      "text/plain": [
       "[1] 0.4553644 0.5614450"
      ]
     },
     "metadata": {},
     "output_type": "display_data"
    },
    {
     "data": {
      "text/html": [
       "<ol class=list-inline>\n",
       "\t<li>0.43869790425199</li>\n",
       "\t<li>0.578111526051994</li>\n",
       "</ol>\n"
      ],
      "text/latex": [
       "\\begin{enumerate*}\n",
       "\\item 0.43869790425199\n",
       "\\item 0.578111526051994\n",
       "\\end{enumerate*}\n"
      ],
      "text/markdown": [
       "1. 0.43869790425199\n",
       "2. 0.578111526051994\n",
       "\n",
       "\n"
      ],
      "text/plain": [
       "[1] 0.4386979 0.5781115"
      ]
     },
     "metadata": {},
     "output_type": "display_data"
    }
   ],
   "source": [
    "# 使用近似正态分布计算均值两端的置信区间\n",
    "mean_ci <- function(x, conf = 0.95){\n",
    "    se <- sd(x) / sqrt(length(x))\n",
    "    alpha <- 1 - conf\n",
    "    mean(x) + se * qnorm(c(alpha/2, 1-alpha/2))\n",
    "}\n",
    "\n",
    "x <- runif(100)\n",
    "mean_ci(x)\n",
    "mean_ci(x, conf = 0.99)\n",
    "# 在调用函数时，我们经常省略数据参数的名称，\n",
    "# 因为其使用太普遍了。如果不想使用细节参数的默认值，\n",
    "# 那么你应该使用细节参数的完整名称"
   ]
  },
  {
   "cell_type": "markdown",
   "metadata": {},
   "source": [
    "### 检查参数值\n",
    "\n",
    "当编写的函数越来越多时，你有时会记不清某个函数到底是用来做什么的。这时就很容易使用无效的参数来调用函数。为了解决这种问题，应该对函数参数进行明确的限制。"
   ]
  },
  {
   "cell_type": "code",
   "execution_count": 21,
   "metadata": {},
   "outputs": [
    {
     "data": {
      "text/html": [
       "2.19047619047619"
      ],
      "text/latex": [
       "2.19047619047619"
      ],
      "text/markdown": [
       "2.19047619047619"
      ],
      "text/plain": [
       "[1] 2.190476"
      ]
     },
     "metadata": {},
     "output_type": "display_data"
    }
   ],
   "source": [
    "wt_mean <-function(x, w) { \n",
    "    sum(x * w) /sum(x) \n",
    "}\n",
    "\n",
    "wt_var <-function(x, w) {\n",
    "    mu <-wt_mean(x, w) \n",
    "    sum(w * (x - mu) ^ 2) /sum(w)                                                          \n",
    "} \n",
    "\n",
    "wt_sd <-function(x, w) { \n",
    "    sqrt(wt_var(x, w)) \n",
    "}\n",
    "\n",
    "# 这三个小函数就不解释了\n",
    "# 如果x和w的长度不一样，那么会发生什么情况？\n",
    "wt_mean(1:6, 1:3)\n",
    "# 这种情况下，由于R的向量循环机制，代码不会出错"
   ]
  },
  {
   "cell_type": "code",
   "execution_count": 22,
   "metadata": {},
   "outputs": [],
   "source": [
    "# 检查参数，在必要时抛出错误\n",
    "\n",
    "wt_mean <- function(x, w){\n",
    "    if (length(x) != length(w)){\n",
    "        stop(\"'x' and 'w' must be the same length\", call.=F)\n",
    "    }\n",
    "    sum(w * x) / sum(x)\n",
    "}\n",
    "\n",
    "# wt_mean(1:6, 1:3)"
   ]
  },
  {
   "cell_type": "markdown",
   "metadata": {},
   "source": [
    "也别做的太过分了\n",
    "\n",
    "例如，如果你还需要添加一个na.rm参数，那么我们大概不会检查得如此仔细：\n",
    "```\n",
    "wt_mean <-function(x, w, na.rm =FALSE) { \n",
    "    if (!is.logical(na.rm)) { \n",
    "    stop(\"`na.rm` must be logical\")   \n",
    "    } \n",
    "    if (length(na.rm) !=1) { \n",
    "    stop(\"`na.rm` must be length 1\")   \n",
    "    } \n",
    "    if (length(x) !=length(w)) { \n",
    "    stop(\"`x` and `w` must be the same length\", call. =FALSE)\n",
    "    } \n",
    "    if (na.rm) {     \n",
    "    miss <-is.na(x) |is.na(w)     \n",
    "    x <- x[!miss]     \n",
    "    w <- w[!miss]   \n",
    "    } \n",
    "    sum(w * x) /sum(x) \n",
    "    }\n",
    "```\n",
    "这就有点事倍功半，得不偿失了。"
   ]
  },
  {
   "cell_type": "code",
   "execution_count": 23,
   "metadata": {},
   "outputs": [],
   "source": [
    "# 一个折中方案是使用内置的stopifnot()函数\n",
    "\n",
    "wt_mean <-function(x, w, na.rm =FALSE) { \n",
    "    stopifnot(is.logical(na.rm), length(na.rm) == 1) \n",
    "    stopifnot(length(x) ==length(w)) \n",
    "    if (na.rm) {     \n",
    "        miss <-is.na(x) |is.na(w)     \n",
    "        x <- x[!miss]     \n",
    "        w <- w[!miss]                                                                                                                                \n",
    "    } \n",
    "    sum(w * x) /sum(x) \n",
    "} \n",
    "\n",
    "# wt_mean(1:6, 6:1, na.rm =\"foo\") "
   ]
  },
  {
   "cell_type": "code",
   "execution_count": 24,
   "metadata": {},
   "outputs": [
    {
     "data": {
      "text/html": [
       "'a, b, c, d, e, f, g, h, i, j'"
      ],
      "text/latex": [
       "'a, b, c, d, e, f, g, h, i, j'"
      ],
      "text/markdown": [
       "'a, b, c, d, e, f, g, h, i, j'"
      ],
      "text/plain": [
       "[1] \"a, b, c, d, e, f, g, h, i, j\""
      ]
     },
     "metadata": {},
     "output_type": "display_data"
    }
   ],
   "source": [
    "# 任意数量输入参数(...)\n",
    "\n",
    "# 这个参数的作用非常大，因为你可以将它捕获的值传给另一个函数。\n",
    "# 如果你的函数是另一个函数的包装器，那么这种一网打尽的方式就非常有用了。\n",
    "# 例如，我们经常用以下方式创建辅助函数来包装str_c()函数：\n",
    "commas <-function(...) stringr::str_c(..., collapse =\", \") \n",
    "commas(letters[1:10]) \n",
    "# 这个函数很简单就不说了\n"
   ]
  },
  {
   "cell_type": "code",
   "execution_count": 25,
   "metadata": {},
   "outputs": [
    {
     "name": "stdout",
     "output_type": "stream",
     "text": [
      "Important Line -------------------------------------------------------------\n",
      "分割线 ************************************************************************\n"
     ]
    }
   ],
   "source": [
    "# 下面这个函数可以提一下\n",
    "\n",
    "rule <- function(..., pad = \"-\"){\n",
    "    title <- paste0(...)\n",
    "    width <- getOption(\"width\") - nchar(title) - 5\n",
    "    cat(title, \" \", stringr::str_dup(pad, width), \"\\n\", sep = \"\")\n",
    "}\n",
    "# getOption()函数获得宽度，nchar()获得字符串长度\n",
    "# str_dup()的两个参数分别是重复内容和重复次数\n",
    "# 用这个函数我们就可以方便的在输出中设置分割线了\n",
    "rule(\"Important Line\")\n",
    "rule(\"分割线\", pad = \"*\")"
   ]
  },
  {
   "cell_type": "code",
   "execution_count": 26,
   "metadata": {},
   "outputs": [
    {
     "name": "stdout",
     "output_type": "stream",
     "text": [
      "我是分割线 %*%*%*%*%*%*%*%*%*%*%*%*%*%*%*%*%*%*%*%*%*%*%*%*%*%*%*%*%*%*%*%*%*%*%*\n"
     ]
    }
   ],
   "source": [
    "# 函数调用commas(letters, collapse = \"-\")的作用是为了设置分隔符为“-”，\n",
    "# 不过不行，需要改函数\n",
    "\n",
    "# 如果能为pad参数提供多个字符，那真是太好了，例如rule(\"Title\", pad = \"-+\")。\n",
    "# 为什么现在的rule()函数还做不到这一点？应该如何改进？\n",
    "\n",
    "rule <- function(..., pad = \"-\"){\n",
    "    title <- paste0(...)\n",
    "    width <- getOption(\"width\") - nchar(title) - 5\n",
    "    cat(title, \" \", stringr::str_dup(pad, floor(width/nchar(pad))), \"\\n\", sep = \"\")\n",
    "}\n",
    "# 这里通过计算pad参数的字符个数，向下取整计算重复次数\n",
    "# 顺便记一下取整函数\n",
    "# R里面数字取整相关的操作有一组函数：\n",
    "# ceiling ；floor；trunc； round； signif\n",
    "# ceiling:向上取整；floor:向下取整；trunc:向零取整；round:四舍五入；signif:科学计算保留有效位数\n",
    "# 不一个个试了\n",
    "\n",
    "rule(\"我是分割线\", pad = \"%*\")\n",
    "# 剩下两道练习自己看帮助或者上网搜吧"
   ]
  },
  {
   "cell_type": "markdown",
   "metadata": {},
   "source": [
    "## 返回值和环境\n",
    "\n",
    "可以通过return()语句提前返回一个值，也不要使用太多，小例子就不写了。尽量让自己的函数支持管道操作，其他看书。\n",
    "\n",
    "不要重定义一些函数和运算，这样容易出问题，理论看书，没多少写的。"
   ]
  }
 ],
 "metadata": {
  "kernelspec": {
   "display_name": "R",
   "language": "R",
   "name": "ir"
  },
  "language_info": {
   "codemirror_mode": "r",
   "file_extension": ".r",
   "mimetype": "text/x-r-source",
   "name": "R",
   "pygments_lexer": "r",
   "version": "3.6.1"
  }
 },
 "nbformat": 4,
 "nbformat_minor": 4
}
